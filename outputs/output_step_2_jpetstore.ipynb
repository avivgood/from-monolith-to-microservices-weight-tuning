{
 "cells": [
  {
   "cell_type": "code",
   "execution_count": 1,
   "id": "63ce5fa3-e2cb-4565-ba94-8fa943d68162",
   "metadata": {
    "editable": true,
    "execution": {
     "iopub.execute_input": "2025-09-27T14:05:06.809388Z",
     "iopub.status.busy": "2025-09-27T14:05:06.808355Z",
     "iopub.status.idle": "2025-09-27T14:05:35.134819Z",
     "shell.execute_reply": "2025-09-27T14:05:35.129437Z"
    },
    "papermill": {
     "duration": 28.390983,
     "end_time": "2025-09-27T14:05:35.143855",
     "exception": false,
     "start_time": "2025-09-27T14:05:06.752872",
     "status": "completed"
    },
    "slideshow": {
     "slide_type": ""
    },
    "tags": []
   },
   "outputs": [],
   "source": [
    "#!/usr/bin/env python\n",
    "import scrapbook as sb\n",
    "import networkx as nx\n",
    "import pygraphviz as pygv\n",
    "import gurobipy as gb\n",
    "import json\n",
    "from community import community_louvain\n",
    "from IPython.display import Image, display\n",
    "\n",
    "def DrawSol (G, x, filename):\n",
    "    global n_micros\n",
    "\n",
    "    DrawG = pygv.AGraph(directed=True, strict='true', splines='true')\n",
    "\n",
    "    colors = ['green', 'blue', 'red', 'orange', 'yellow', 'purple', 'black', 'gray', 'cyan', 'brown', 'hotpink', 'navy', 'darkgreen', 'chocolate', 'deeppink', 'firebrick', 'gold', 'orchid', 'gold4']\n",
    "    \n",
    "    for i in G.nodes():\n",
    "        if G.nodes[i]['type'] == 'Entity':\n",
    "            shape='hexagon'\n",
    "        else:\n",
    "            shape='circle'\n",
    "\n",
    "        for k in range(n_micros):\n",
    "            if x[i,k].x == 1:\n",
    "                # Get cluster number k\n",
    "                if k<len(colors):\n",
    "                    color=colors[k]\n",
    "                else:\n",
    "                    color = 'black'\n",
    "        DrawG.add_node (i, color=color, shape=shape, width=0.1, fontsize=9, label=G.nodes[i]['name'])\n",
    "\n",
    "    for i in G.edges():\n",
    "        edge_color = 'black' if G[i[0]][i[1]]['rel_type'] in ['Calls','Persists', 'References'] else 'gray'\n",
    "        DrawG.add_edge(i[0], i[1], color=edge_color, label=G[i[0]][i[1]]['rel_type'], fontsize='8')\n",
    "        \n",
    "    DrawG.layout(prog='dot')\n",
    "    DrawG.draw(filename)"
   ]
  },
  {
   "cell_type": "markdown",
   "id": "e3e92b53-40f6-4740-8a99-c40877eb9681",
   "metadata": {
    "editable": true,
    "papermill": {
     "duration": 0.040934,
     "end_time": "2025-09-27T14:05:35.223580",
     "exception": false,
     "start_time": "2025-09-27T14:05:35.182646",
     "status": "completed"
    },
    "slideshow": {
     "slide_type": ""
    },
    "tags": []
   },
   "source": [
    "### _Configuration!_\n",
    "\n",
    "Keep the project list up-to-date and select the project to be analyzed"
   ]
  },
  {
   "cell_type": "markdown",
   "id": "369f6589-5ded-4162-85ea-3c37b9026765",
   "metadata": {
    "editable": true,
    "papermill": {
     "duration": 0.026504,
     "end_time": "2025-09-27T14:05:35.281563",
     "exception": false,
     "start_time": "2025-09-27T14:05:35.255059",
     "status": "completed"
    },
    "slideshow": {
     "slide_type": ""
    },
    "tags": []
   },
   "source": [
    "### _User input required!_\n",
    "\n",
    "Update, if needed the default weigth of the edges"
   ]
  },
  {
   "cell_type": "code",
   "execution_count": 2,
   "id": "05c7e2d2-7f39-4109-a665-36a40e5be7de",
   "metadata": {
    "editable": true,
    "execution": {
     "iopub.execute_input": "2025-09-27T14:05:35.337609Z",
     "iopub.status.busy": "2025-09-27T14:05:35.336037Z",
     "iopub.status.idle": "2025-09-27T14:05:35.369256Z",
     "shell.execute_reply": "2025-09-27T14:05:35.367340Z"
    },
    "papermill": {
     "duration": 0.069146,
     "end_time": "2025-09-27T14:05:35.375171",
     "exception": false,
     "start_time": "2025-09-27T14:05:35.306025",
     "status": "completed"
    },
    "slideshow": {
     "slide_type": ""
    },
    "tags": [
     "parameters"
    ]
   },
   "outputs": [],
   "source": [
    "project = 'jpetstore' # <-- Set this variable!\n",
    "# Weighting edges:\n",
    "w = dict()\n",
    "w['Calls']=0.8\n",
    "w['Persists']=1\n",
    "w['Uses']=0.6\n",
    "w['References']=0.2\n",
    "w['Extends']=0\n",
    "headless = False"
   ]
  },
  {
   "cell_type": "code",
   "execution_count": 3,
   "id": "bb075402",
   "metadata": {
    "execution": {
     "iopub.execute_input": "2025-09-27T14:05:35.436968Z",
     "iopub.status.busy": "2025-09-27T14:05:35.433195Z",
     "iopub.status.idle": "2025-09-27T14:05:35.459767Z",
     "shell.execute_reply": "2025-09-27T14:05:35.451525Z"
    },
    "papermill": {
     "duration": 0.062113,
     "end_time": "2025-09-27T14:05:35.468482",
     "exception": false,
     "start_time": "2025-09-27T14:05:35.406369",
     "status": "completed"
    },
    "tags": [
     "injected-parameters"
    ]
   },
   "outputs": [],
   "source": [
    "# Parameters\n",
    "project = \"jpetstore\"\n",
    "w = {\"Calls\": 0.12714116762017086, \"Persists\": 0.10225667333744559, \"References\": 0.36287049587190146, \"Extends\": 0.2356367192771779, \"Uses\": 0.1720949438933041}\n",
    "headless = True\n"
   ]
  },
  {
   "cell_type": "code",
   "execution_count": 4,
   "id": "654afedb-2f70-4c65-b23e-5e01c98d8d13",
   "metadata": {
    "editable": true,
    "execution": {
     "iopub.execute_input": "2025-09-27T14:05:35.556863Z",
     "iopub.status.busy": "2025-09-27T14:05:35.553883Z",
     "iopub.status.idle": "2025-09-27T14:05:35.585509Z",
     "shell.execute_reply": "2025-09-27T14:05:35.576319Z"
    },
    "papermill": {
     "duration": 0.079974,
     "end_time": "2025-09-27T14:05:35.589070",
     "exception": false,
     "start_time": "2025-09-27T14:05:35.509096",
     "status": "completed"
    },
    "slideshow": {
     "slide_type": ""
    },
    "tags": []
   },
   "outputs": [],
   "source": [
    "\n",
    "\n",
    "with open('projects.json', 'r') as projects:\n",
    "    project_found = False\n",
    "    for data in json.load(projects):\n",
    "        if data['name'] == project:\n",
    "            analysis_results_basedir = data['analysis_results_basedir']\n",
    "            project_found = True\n",
    "    if not project_found:\n",
    "        print('ERROR: project ' + project + ' does not appear in project.json')"
   ]
  },
  {
   "cell_type": "code",
   "execution_count": 5,
   "id": "c9f2f54d-61ce-4b68-a80a-68b94ef0ce32",
   "metadata": {
    "editable": true,
    "execution": {
     "iopub.execute_input": "2025-09-27T14:05:35.676936Z",
     "iopub.status.busy": "2025-09-27T14:05:35.676239Z",
     "iopub.status.idle": "2025-09-27T14:05:35.698446Z",
     "shell.execute_reply": "2025-09-27T14:05:35.694108Z"
    },
    "papermill": {
     "duration": 0.074255,
     "end_time": "2025-09-27T14:05:35.708634",
     "exception": false,
     "start_time": "2025-09-27T14:05:35.634379",
     "status": "completed"
    },
    "slideshow": {
     "slide_type": ""
    },
    "tags": []
   },
   "outputs": [],
   "source": [
    "# Set output names\n",
    "\n",
    "graph_in = analysis_results_basedir + project + '_graph.gml'\n",
    "communities_out = analysis_results_basedir + project + '_communities.csv'\n",
    "formulation_out = analysis_results_basedir + project + '_communities_improved_optimization.lp'\n",
    "solution_csv_out = analysis_results_basedir + project + '_sol_communities_improved_optimization.csv'\n",
    "graph_image_out = analysis_results_basedir + project + '_sol_communities_improved_optimization.png'\n",
    "analysis_out = analysis_results_basedir + project + '_sol_communities_improved_optimization.txt'"
   ]
  },
  {
   "cell_type": "code",
   "execution_count": 6,
   "id": "5c2c34a6-0072-4335-aa24-5592aa2b0eb7",
   "metadata": {
    "editable": true,
    "execution": {
     "iopub.execute_input": "2025-09-27T14:05:35.776466Z",
     "iopub.status.busy": "2025-09-27T14:05:35.775490Z",
     "iopub.status.idle": "2025-09-27T14:05:35.817058Z",
     "shell.execute_reply": "2025-09-27T14:05:35.815052Z"
    },
    "papermill": {
     "duration": 0.081781,
     "end_time": "2025-09-27T14:05:35.824301",
     "exception": false,
     "start_time": "2025-09-27T14:05:35.742520",
     "status": "completed"
    },
    "slideshow": {
     "slide_type": ""
    },
    "tags": []
   },
   "outputs": [],
   "source": [
    "# Import graph\n",
    "\n",
    "G = nx.read_graphml(graph_in)"
   ]
  },
  {
   "cell_type": "code",
   "execution_count": 7,
   "id": "dce09914-e79b-4094-8343-eb55557825f3",
   "metadata": {
    "editable": true,
    "execution": {
     "iopub.execute_input": "2025-09-27T14:05:35.887724Z",
     "iopub.status.busy": "2025-09-27T14:05:35.887191Z",
     "iopub.status.idle": "2025-09-27T14:05:35.903500Z",
     "shell.execute_reply": "2025-09-27T14:05:35.901419Z"
    },
    "papermill": {
     "duration": 0.053381,
     "end_time": "2025-09-27T14:05:35.909009",
     "exception": false,
     "start_time": "2025-09-27T14:05:35.855628",
     "status": "completed"
    },
    "slideshow": {
     "slide_type": ""
    },
    "tags": []
   },
   "outputs": [],
   "source": [
    "# Add edge weights\n",
    "\n",
    "for (i, j) in G.edges():\n",
    "    G[i][j]['w'] = w[G[i][j]['rel_type']]"
   ]
  },
  {
   "cell_type": "markdown",
   "id": "c98c18d6-f80e-47f3-91bd-258d444d2d08",
   "metadata": {
    "editable": true,
    "papermill": {
     "duration": 0.016223,
     "end_time": "2025-09-27T14:05:35.949286",
     "exception": false,
     "start_time": "2025-09-27T14:05:35.933063",
     "status": "completed"
    },
    "slideshow": {
     "slide_type": ""
    },
    "tags": []
   },
   "source": [
    "## Find communities"
   ]
  },
  {
   "cell_type": "code",
   "execution_count": 8,
   "id": "b1205d9e-4492-4c2d-8034-52c4323b3a20",
   "metadata": {
    "editable": true,
    "execution": {
     "iopub.execute_input": "2025-09-27T14:05:35.978373Z",
     "iopub.status.busy": "2025-09-27T14:05:35.977843Z",
     "iopub.status.idle": "2025-09-27T14:05:36.022152Z",
     "shell.execute_reply": "2025-09-27T14:05:36.018316Z"
    },
    "papermill": {
     "duration": 0.064545,
     "end_time": "2025-09-27T14:05:36.026035",
     "exception": false,
     "start_time": "2025-09-27T14:05:35.961490",
     "status": "completed"
    },
    "slideshow": {
     "slide_type": ""
    },
    "tags": []
   },
   "outputs": [],
   "source": [
    "H = nx.Graph(G) # create an undirected graph H from a directed graph G\n",
    "\n",
    "# compute the best partition\n",
    "communities = community_louvain.best_partition(H, weight='w')\n",
    "\n",
    "# write communities on file\n",
    "with open(communities_out, 'w') as csv_file:\n",
    "    csv_file.write('node, cluster/community\\n')\n",
    "    for node in communities:\n",
    "        csv_file.write(f'{node},{communities[node]}\\n')"
   ]
  },
  {
   "cell_type": "markdown",
   "id": "e6627e68-4939-4275-8ed8-43a323b64d2e",
   "metadata": {
    "editable": true,
    "papermill": {
     "duration": 0.02059,
     "end_time": "2025-09-27T14:05:36.073502",
     "exception": false,
     "start_time": "2025-09-27T14:05:36.052912",
     "status": "completed"
    },
    "slideshow": {
     "slide_type": ""
    },
    "tags": []
   },
   "source": [
    "## Find communities for the entity subgraph"
   ]
  },
  {
   "cell_type": "code",
   "execution_count": 9,
   "id": "476f02c9-d605-4213-8225-951cd9beb7e5",
   "metadata": {
    "editable": true,
    "execution": {
     "iopub.execute_input": "2025-09-27T14:05:36.101256Z",
     "iopub.status.busy": "2025-09-27T14:05:36.098938Z",
     "iopub.status.idle": "2025-09-27T14:05:36.130935Z",
     "shell.execute_reply": "2025-09-27T14:05:36.125395Z"
    },
    "papermill": {
     "duration": 0.048623,
     "end_time": "2025-09-27T14:05:36.133894",
     "exception": false,
     "start_time": "2025-09-27T14:05:36.085271",
     "status": "completed"
    },
    "slideshow": {
     "slide_type": ""
    },
    "tags": []
   },
   "outputs": [
    {
     "name": "stdout",
     "output_type": "stream",
     "text": [
      "Community 0:\n",
      " - Category (id:0)\n",
      "Community 1:\n",
      " - Sequence (id:8)\n",
      "Community 3:\n",
      " - LineItem (id:2)\n",
      " - Order (id:3)\n",
      "Community 4:\n",
      " - Account (id:7)\n",
      "Community 5:\n",
      " - Item (id:1)\n",
      " - Product (id:5)\n"
     ]
    }
   ],
   "source": [
    "K = nx.Graph(G) # create an undirected graph H from a directed graph G\n",
    "\n",
    "# Remove non-entity nodes\n",
    "\n",
    "for i in list(K.nodes):\n",
    "    if K.nodes[i]['type']!='Entity':\n",
    "        K.remove_node(i)\n",
    "\n",
    "# Obtain subgraph of entities that have direct relationships with the persistence layer:\n",
    "    \n",
    "        \n",
    "# compute the best partition\n",
    "entity_cluster = community_louvain.best_partition(K, weight='w')\n",
    "\n",
    "# Remove nodes that do not have direct relationships with methods from the cluster dictionary:\n",
    "e_dict = dict()\n",
    "# Check if entity has a relationship with some method of the persistence layer (it will remove entities from the controller model, for instance)\n",
    "for e in entity_cluster:\n",
    "    e_dict[e] = False\n",
    "    for (i,j) in G.edges():\n",
    "        if e==j and G[i][j]['rel_type'] in ['Persists']:\n",
    "            e_dict[e]=True\n",
    "\n",
    "# Remove non-related entities\n",
    "for entity_to_remove in e_dict:\n",
    "    if not e_dict[entity_to_remove]:\n",
    "        # print('INFO: Entity ' + G.nodes[entity_to_remove]['name'] + ' removed from the clusters')\n",
    "        entity_cluster.pop(entity_to_remove)\n",
    "\n",
    "for i in set(entity_cluster.values()):\n",
    "    print(f'Community {i}:')\n",
    "    for entity, cluster in entity_cluster.items():\n",
    "        if cluster == i:\n",
    "            print(f' - {G.nodes()[entity][\"name\"]} (id:{entity})')"
   ]
  },
  {
   "cell_type": "markdown",
   "id": "9d385bf2-cf31-45e0-8d84-fd44715a1028",
   "metadata": {
    "editable": true,
    "papermill": {
     "duration": 0.030468,
     "end_time": "2025-09-27T14:05:36.199241",
     "exception": false,
     "start_time": "2025-09-27T14:05:36.168773",
     "status": "completed"
    },
    "slideshow": {
     "slide_type": ""
    },
    "tags": []
   },
   "source": [
    "### _User input required!_\n",
    "\n",
    "Refine, if needed, entity clusters"
   ]
  },
  {
   "cell_type": "code",
   "execution_count": 10,
   "id": "021636e9-07ea-45c6-9eab-e34e93503e9b",
   "metadata": {
    "editable": true,
    "execution": {
     "iopub.execute_input": "2025-09-27T14:05:36.266108Z",
     "iopub.status.busy": "2025-09-27T14:05:36.264997Z",
     "iopub.status.idle": "2025-09-27T14:05:36.285446Z",
     "shell.execute_reply": "2025-09-27T14:05:36.283367Z"
    },
    "papermill": {
     "duration": 0.058074,
     "end_time": "2025-09-27T14:05:36.289242",
     "exception": false,
     "start_time": "2025-09-27T14:05:36.231168",
     "status": "completed"
    },
    "slideshow": {
     "slide_type": ""
    },
    "tags": []
   },
   "outputs": [],
   "source": [
    "# Remove entity from its cluster\n",
    "entity_ids_to_remove = [] # <-- Put Ids as strings (example: ['1', '3']\n",
    "\n",
    "# Place entity into a cluster\n",
    "entities_clusters_to_place = [] # <-- Example: entity X in cluster Y: ('X', 5)\n",
    "\n",
    "\n",
    "for e in entity_ids_to_remove:\n",
    "    entity_cluster.pop(e)\n",
    "    print(f'INFO: Removed entity {G.nodes()[e][\"name\"]} from clusters')\n",
    "\n",
    "for (e, cluster) in entities_clusters_to_place:\n",
    "    entity_cluster[e] = cluster\n",
    "    print(f'INFO: Entity {G.nodes()[e][\"name\"]} put into cluster {cluster}')"
   ]
  },
  {
   "cell_type": "code",
   "execution_count": 11,
   "id": "03cb8c9a-f2d0-46ad-a857-11e31be27470",
   "metadata": {
    "editable": true,
    "execution": {
     "iopub.execute_input": "2025-09-27T14:05:36.320485Z",
     "iopub.status.busy": "2025-09-27T14:05:36.319071Z",
     "iopub.status.idle": "2025-09-27T14:05:36.340340Z",
     "shell.execute_reply": "2025-09-27T14:05:36.336215Z"
    },
    "papermill": {
     "duration": 0.039647,
     "end_time": "2025-09-27T14:05:36.343773",
     "exception": false,
     "start_time": "2025-09-27T14:05:36.304126",
     "status": "completed"
    },
    "slideshow": {
     "slide_type": ""
    },
    "tags": []
   },
   "outputs": [
    {
     "name": "stdout",
     "output_type": "stream",
     "text": [
      "Entities in community 0: ['Category']\n",
      "Entities in community 1: ['Item', 'Product']\n",
      "Entities in community 2: ['LineItem', 'Order']\n",
      "Entities in community 3: ['Account']\n",
      "Entities in community 4: ['Sequence']\n"
     ]
    }
   ],
   "source": [
    "# Some cluster may have disappeared: remaining clusters need to be renumbered\n",
    "cluster_map = dict()\n",
    "counter=0\n",
    "number_mapping = dict() # maps the old cluster number with the new one\n",
    "for entity_key, old_number in entity_cluster.items():\n",
    "    if old_number not in number_mapping:\n",
    "        number_mapping[old_number] = counter\n",
    "        counter+=1\n",
    "    cluster_map[number_mapping[old_number]] = cluster_map.get(number_mapping[old_number], []) + [entity_key]\n",
    "    \n",
    "for cluster in cluster_map:\n",
    "    print('Entities in community ' + str(cluster) + ': ' + str([G.nodes[entity_key]['name'] for entity_key in cluster_map[cluster]]))\n",
    "\n",
    "n_micros = len(cluster_map)"
   ]
  },
  {
   "cell_type": "code",
   "execution_count": 12,
   "id": "bd909d53-3681-43aa-baa0-5d38556bb40b",
   "metadata": {
    "editable": true,
    "execution": {
     "iopub.execute_input": "2025-09-27T14:05:36.404274Z",
     "iopub.status.busy": "2025-09-27T14:05:36.403527Z",
     "iopub.status.idle": "2025-09-27T14:05:36.454590Z",
     "shell.execute_reply": "2025-09-27T14:05:36.452315Z"
    },
    "papermill": {
     "duration": 0.089689,
     "end_time": "2025-09-27T14:05:36.458244",
     "exception": false,
     "start_time": "2025-09-27T14:05:36.368555",
     "status": "completed"
    },
    "slideshow": {
     "slide_type": ""
    },
    "tags": []
   },
   "outputs": [
    {
     "name": "stdout",
     "output_type": "stream",
     "text": [
      "Entities in community 0 are in clusters: [0]\n",
      "Entities in community 6 are in clusters: [1]\n",
      "Entities in community 2 are in clusters: [2, 2]\n",
      "Entities in community 1 are in clusters: []\n",
      "Entities in community 4 are in clusters: [1]\n",
      "Entities in community 5 are in clusters: [3]\n",
      "Entities in community 3 are in clusters: [4]\n",
      "Relaxed communities: []\n"
     ]
    }
   ],
   "source": [
    "# Resolve conflicts of distribution of entities into communities: if entities of the same community are in different clusters, then remove the community from the dictionary\n",
    "\n",
    "communities_dict = dict() # Map community -> entities into the communities\n",
    "\n",
    "\n",
    "for node in G.nodes():\n",
    "    if G.nodes[node]['type'] == 'Entity':\n",
    "        communities_dict[communities[node]] = communities_dict.get(communities[node], []) + [node]\n",
    "\n",
    "communities_to_relax = []\n",
    "\n",
    "for community in communities_dict:\n",
    "    clusters = []\n",
    "    for cluster, entities in cluster_map.items():\n",
    "        for e in entities:\n",
    "            if e in communities_dict[community]:\n",
    "                clusters.append(cluster)\n",
    "    print(f'Entities in community {community} are in clusters: {clusters}')\n",
    "    if len(clusters) > 0 and not all(clusters[0] == c for c in clusters):\n",
    "        #print(f'Remove community {community}')\n",
    "        communities_to_relax.append(community)\n",
    "\n",
    "nodes_to_remove_from_dict = []\n",
    "for node in communities.keys():\n",
    "    if communities[node] in communities_to_relax:\n",
    "        nodes_to_remove_from_dict.append(node)\n",
    "\n",
    "for node in nodes_to_remove_from_dict:\n",
    "    del communities[node]\n",
    "\n",
    "print(f'Relaxed communities: {communities_to_relax}')"
   ]
  },
  {
   "cell_type": "markdown",
   "id": "3c6fe2ac-0fb0-456d-8b81-8d93a3439be8",
   "metadata": {
    "editable": true,
    "papermill": {
     "duration": 0.040422,
     "end_time": "2025-09-27T14:05:36.544427",
     "exception": false,
     "start_time": "2025-09-27T14:05:36.504005",
     "status": "completed"
    },
    "slideshow": {
     "slide_type": ""
    },
    "tags": []
   },
   "source": [
    "## ILP Formulation"
   ]
  },
  {
   "cell_type": "code",
   "execution_count": 13,
   "id": "bceb7240-b83a-4b0b-b380-b95cd1bb2b0e",
   "metadata": {
    "editable": true,
    "execution": {
     "iopub.execute_input": "2025-09-27T14:05:36.634577Z",
     "iopub.status.busy": "2025-09-27T14:05:36.633831Z",
     "iopub.status.idle": "2025-09-27T14:05:37.879074Z",
     "shell.execute_reply": "2025-09-27T14:05:37.876127Z"
    },
    "papermill": {
     "duration": 1.292733,
     "end_time": "2025-09-27T14:05:37.882318",
     "exception": false,
     "start_time": "2025-09-27T14:05:36.589585",
     "status": "completed"
    },
    "slideshow": {
     "slide_type": ""
    },
    "tags": []
   },
   "outputs": [
    {
     "name": "stdout",
     "output_type": "stream",
     "text": [
      "Set parameter WLSAccessID\n"
     ]
    },
    {
     "name": "stdout",
     "output_type": "stream",
     "text": [
      "Set parameter WLSSecret\n"
     ]
    },
    {
     "name": "stdout",
     "output_type": "stream",
     "text": [
      "Set parameter LicenseID to value 2713550\n"
     ]
    },
    {
     "name": "stdout",
     "output_type": "stream",
     "text": [
      "Academic license 2713550 - for non-commercial use only - registered to av___@gmail.com\n"
     ]
    }
   ],
   "source": [
    "model = gb.Model()\n",
    "\n",
    "# Variables\n",
    "x = model.addVars(((i,k) for i in G.nodes() for k in range(n_micros)),\\\n",
    "                  vtype=gb.GRB.BINARY, name='x')\n",
    "\n",
    "z = model.addVars(((i,j,k) for (i,j) in G.edges() for k in range(n_micros)), vtype=gb.GRB.BINARY, name='z')\n",
    "\n",
    "y = model.addVars(((i,j) for (i,j) in G.edges()), vtype=gb.GRB.BINARY, name='y')\n",
    "\n",
    "# Each node has to be in one and only one microservice\n",
    "model.addConstrs((x.sum(i, '*') == 1 for i in G.nodes()), name='(1)microservice-belonging')\n",
    "\n",
    "# A microservice can not be composed of entities only\n",
    "model.addConstrs((gb.quicksum(x[i,k] for i in G.nodes() if G.nodes[i]['type']!='Entity') >= 1 for k in range(n_micros)), name='(2)microservice-composition')\n",
    "\n",
    "# Bonding variables\n",
    "model.addConstrs((z[i,j,k]-x[i,k] <= 0 for (i,j) in G.edges() for k in range(n_micros)), name='(3)bonding-z-to-x')\n",
    "model.addConstrs((z[i,j,k]-x[j,k] <= 0 for (i,j) in G.edges() for k in range(n_micros)), name='(4)bonding-z-to-x')\n",
    "model.addConstrs((x[i,k]+x[j,k]-z[i,j,k] <= 1 for (i,j) in G.edges() for k in range(n_micros)), name='(5)bonding-z-to-x')\n",
    "\n",
    "model.addConstrs((y[i,j]==gb.quicksum(z[i,j,k] for k in range(n_micros)) for (i,j) in G.edges()), name='(6)bonding-y-to-z')\n",
    "\n",
    "\n",
    "########## Added constraints ##########\n",
    "\n",
    "# Force each entity from the kth cluster to be in the kth microservice\n",
    "model.addConstrs((x[i,k]==1 for k in cluster_map for i in cluster_map[k]), name='(7)bonding-x-to-entity-clusters')\n",
    "\n",
    "# Force node of the same community to be in the same (consider a community only if there are not entities from different clusters)\n",
    "communities_constraint = model.addConstrs((y[i,j]==1 for (i,j) in G.edges() if i in communities and j in communities and communities[i]==communities[j]), name='(8)bonding-y-to-communities')\n",
    "\n",
    "\n",
    "########## Objective function ##########\n",
    "\n",
    "coupling = gb.quicksum(G.edges[i,j]['w']*(1-y[i,j]) for (i,j) in G.edges())\n",
    "\n",
    "model.setObjective(coupling, gb.GRB.MINIMIZE)\n",
    "\n",
    "model.write(formulation_out)"
   ]
  },
  {
   "cell_type": "code",
   "execution_count": 14,
   "id": "081eb8b2-d436-45fa-886c-7051ff07d125",
   "metadata": {
    "editable": true,
    "execution": {
     "iopub.execute_input": "2025-09-27T14:05:37.938968Z",
     "iopub.status.busy": "2025-09-27T14:05:37.937116Z",
     "iopub.status.idle": "2025-09-27T14:05:38.062255Z",
     "shell.execute_reply": "2025-09-27T14:05:38.061284Z"
    },
    "papermill": {
     "duration": 0.147666,
     "end_time": "2025-09-27T14:05:38.065761",
     "exception": false,
     "start_time": "2025-09-27T14:05:37.918095",
     "status": "completed"
    },
    "slideshow": {
     "slide_type": ""
    },
    "tags": []
   },
   "outputs": [
    {
     "name": "stdout",
     "output_type": "stream",
     "text": [
      "Gurobi Optimizer version 12.0.3 build v12.0.3rc0 (linux64 - \"Linux Mint 22.1\")\n"
     ]
    },
    {
     "name": "stdout",
     "output_type": "stream",
     "text": [
      "\n"
     ]
    },
    {
     "name": "stdout",
     "output_type": "stream",
     "text": [
      "CPU model: Intel(R) Core(TM) i7-8550U CPU @ 1.80GHz, instruction set [SSE2|AVX|AVX2]\n"
     ]
    },
    {
     "name": "stdout",
     "output_type": "stream",
     "text": [
      "Thread count: 4 physical cores, 8 logical processors, using up to 8 threads\n"
     ]
    },
    {
     "name": "stdout",
     "output_type": "stream",
     "text": [
      "\n"
     ]
    },
    {
     "name": "stdout",
     "output_type": "stream",
     "text": [
      "Academic license 2713550 - for non-commercial use only - registered to av___@gmail.com\n"
     ]
    },
    {
     "name": "stdout",
     "output_type": "stream",
     "text": [
      "Optimize a model with 2079 rows, 1147 columns and 5755 nonzeros\n"
     ]
    },
    {
     "name": "stdout",
     "output_type": "stream",
     "text": [
      "Model fingerprint: 0x94aea420\n"
     ]
    },
    {
     "name": "stdout",
     "output_type": "stream",
     "text": [
      "Variable types: 0 continuous, 1147 integer (1147 binary)\n"
     ]
    },
    {
     "name": "stdout",
     "output_type": "stream",
     "text": [
      "Coefficient statistics:\n"
     ]
    },
    {
     "name": "stdout",
     "output_type": "stream",
     "text": [
      "  Matrix range     [1e+00, 1e+00]\n"
     ]
    },
    {
     "name": "stdout",
     "output_type": "stream",
     "text": [
      "  Objective range  [1e-01, 4e-01]\n"
     ]
    },
    {
     "name": "stdout",
     "output_type": "stream",
     "text": [
      "  Bounds range     [1e+00, 1e+00]\n"
     ]
    },
    {
     "name": "stdout",
     "output_type": "stream",
     "text": [
      "  RHS range        [1e+00, 1e+00]\n"
     ]
    },
    {
     "name": "stdout",
     "output_type": "stream",
     "text": [
      "Presolve removed 2079 rows and 1147 columns\n"
     ]
    },
    {
     "name": "stdout",
     "output_type": "stream",
     "text": [
      "Presolve time: 0.01s\n"
     ]
    },
    {
     "name": "stdout",
     "output_type": "stream",
     "text": [
      "Presolve: All rows and columns removed\n"
     ]
    },
    {
     "name": "stdout",
     "output_type": "stream",
     "text": [
      "\n"
     ]
    },
    {
     "name": "stdout",
     "output_type": "stream",
     "text": [
      "Explored 0 nodes (0 simplex iterations) in 0.07 seconds (0.00 work units)\n"
     ]
    },
    {
     "name": "stdout",
     "output_type": "stream",
     "text": [
      "Thread count was 1 (of 8 available processors)\n"
     ]
    },
    {
     "name": "stdout",
     "output_type": "stream",
     "text": [
      "\n"
     ]
    },
    {
     "name": "stdout",
     "output_type": "stream",
     "text": [
      "Solution count 1: 1.26811 \n"
     ]
    },
    {
     "name": "stdout",
     "output_type": "stream",
     "text": [
      "\n"
     ]
    },
    {
     "name": "stdout",
     "output_type": "stream",
     "text": [
      "Optimal solution found (tolerance 1.00e-04)\n"
     ]
    },
    {
     "name": "stdout",
     "output_type": "stream",
     "text": [
      "Best objective 1.268112738911e+00, best bound 1.268112738911e+00, gap 0.0000%\n"
     ]
    }
   ],
   "source": [
    "model.optimize()"
   ]
  },
  {
   "cell_type": "markdown",
   "id": "c2bb0cfd-3f6e-4806-908c-628a86f4574f",
   "metadata": {
    "editable": true,
    "papermill": {
     "duration": 0.01984,
     "end_time": "2025-09-27T14:05:38.113885",
     "exception": false,
     "start_time": "2025-09-27T14:05:38.094045",
     "status": "completed"
    },
    "slideshow": {
     "slide_type": ""
    },
    "tags": []
   },
   "source": [
    "## Result Analysis"
   ]
  },
  {
   "cell_type": "code",
   "execution_count": 15,
   "id": "78f5ab5d-204b-48b6-bec9-9e2647d47855",
   "metadata": {
    "editable": true,
    "execution": {
     "iopub.execute_input": "2025-09-27T14:05:38.156080Z",
     "iopub.status.busy": "2025-09-27T14:05:38.155559Z",
     "iopub.status.idle": "2025-09-27T14:05:38.185291Z",
     "shell.execute_reply": "2025-09-27T14:05:38.183834Z"
    },
    "papermill": {
     "duration": 0.054628,
     "end_time": "2025-09-27T14:05:38.188659",
     "exception": false,
     "start_time": "2025-09-27T14:05:38.134031",
     "status": "completed"
    },
    "slideshow": {
     "slide_type": ""
    },
    "tags": []
   },
   "outputs": [],
   "source": [
    "# Compute cohesion:\n",
    "inside_w = dict()\n",
    "outside_w = dict()\n",
    "total_w = 0\n",
    "\n",
    "for i,j in G.edges():\n",
    "    total_w += G[i][j]['w']\n",
    "    for k in range(n_micros):\n",
    "        if z[i,j,k].x == 1: # Edge (i,j) is inside microservice k: sum the weight as inside\n",
    "            inside_w[k] = inside_w.get(k, 0) + G[i][j]['w']\n",
    "        if x[i,k].x == 1: # Edge (i,j) has its origin in k: sum the weigth as outside\n",
    "            outside_w[k] = outside_w.get(k, 0) + G[i][j]['w']\n",
    "\n",
    "cohesion_dict = dict()\n",
    "for k in range(n_micros):\n",
    "    cohesion_dict[k] = inside_w[k] / outside_w[k]\n",
    "\n",
    "cohesion = sum(cohesion_dict.values())/n_micros"
   ]
  },
  {
   "cell_type": "code",
   "execution_count": 16,
   "id": "b4f4589c-f9db-4123-89b3-9d1266b6297b",
   "metadata": {
    "editable": true,
    "execution": {
     "iopub.execute_input": "2025-09-27T14:05:38.234345Z",
     "iopub.status.busy": "2025-09-27T14:05:38.233858Z",
     "iopub.status.idle": "2025-09-27T14:05:38.431326Z",
     "shell.execute_reply": "2025-09-27T14:05:38.422510Z"
    },
    "papermill": {
     "duration": 0.230049,
     "end_time": "2025-09-27T14:05:38.441505",
     "exception": false,
     "start_time": "2025-09-27T14:05:38.211456",
     "status": "completed"
    },
    "slideshow": {
     "slide_type": ""
    },
    "tags": []
   },
   "outputs": [
    {
     "name": "stdout",
     "output_type": "stream",
     "text": [
      "Found 5 microservices\n",
      "Total coupling value: 1.2681127389111815 (0.2536225477822363 avg.)\n",
      "Cohesion value: 0.9009525742847979\n",
      "\n",
      "Entities in Microservice 0:\n",
      "- Category\n",
      "Entities in Microservice 1:\n",
      "- Item\n",
      "- Cart\n",
      "- Product\n",
      "- CartItem\n",
      "Entities in Microservice 2:\n",
      "- LineItem\n",
      "- Order\n",
      "Entities in Microservice 3:\n",
      "- Account\n",
      "Entities in Microservice 4:\n",
      "- Sequence\n",
      "\n",
      "\n",
      "\n",
      "# of method calls crossing microservices: 2\n",
      "# of entity references crossing microservices: 1\n",
      "# of entity usages crossing microservices: 2\n",
      "# of methods persisting entities of other microservices: 3"
     ]
    },
    {
     "name": "stdout",
     "output_type": "stream",
     "text": [
      "\n"
     ]
    },
    {
     "data": {
      "application/scrapbook.scrap.json+json": {
       "data": 5,
       "encoder": "json",
       "name": "n_micros",
       "version": 1
      }
     },
     "metadata": {
      "scrapbook": {
       "data": true,
       "display": false,
       "name": "n_micros"
      }
     },
     "output_type": "display_data"
    },
    {
     "data": {
      "application/scrapbook.scrap.json+json": {
       "data": 0.2536225477822363,
       "encoder": "json",
       "name": "avg_cop",
       "version": 1
      }
     },
     "metadata": {
      "scrapbook": {
       "data": true,
       "display": false,
       "name": "avg_cop"
      }
     },
     "output_type": "display_data"
    },
    {
     "data": {
      "application/scrapbook.scrap.json+json": {
       "data": 0.9009525742847979,
       "encoder": "json",
       "name": "cohesion",
       "version": 1
      }
     },
     "metadata": {
      "scrapbook": {
       "data": true,
       "display": false,
       "name": "cohesion"
      }
     },
     "output_type": "display_data"
    },
    {
     "data": {
      "application/scrapbook.scrap.json+json": {
       "data": 2,
       "encoder": "json",
       "name": "n_calls",
       "version": 1
      }
     },
     "metadata": {
      "scrapbook": {
       "data": true,
       "display": false,
       "name": "n_calls"
      }
     },
     "output_type": "display_data"
    },
    {
     "data": {
      "application/scrapbook.scrap.json+json": {
       "data": 1,
       "encoder": "json",
       "name": "n_refs",
       "version": 1
      }
     },
     "metadata": {
      "scrapbook": {
       "data": true,
       "display": false,
       "name": "n_refs"
      }
     },
     "output_type": "display_data"
    },
    {
     "data": {
      "application/scrapbook.scrap.json+json": {
       "data": 2,
       "encoder": "json",
       "name": "n_uses",
       "version": 1
      }
     },
     "metadata": {
      "scrapbook": {
       "data": true,
       "display": false,
       "name": "n_uses"
      }
     },
     "output_type": "display_data"
    },
    {
     "data": {
      "application/scrapbook.scrap.json+json": {
       "data": 3,
       "encoder": "json",
       "name": "n_persist",
       "version": 1
      }
     },
     "metadata": {
      "scrapbook": {
       "data": true,
       "display": false,
       "name": "n_persist"
      }
     },
     "output_type": "display_data"
    },
    {
     "data": {
      "application/scrapbook.scrap.json+json": {
       "data": 17.27997093524128,
       "encoder": "json",
       "name": "total_w",
       "version": 1
      }
     },
     "metadata": {
      "scrapbook": {
       "data": true,
       "display": false,
       "name": "total_w"
      }
     },
     "output_type": "display_data"
    }
   ],
   "source": [
    "show_methods = False\n",
    "\n",
    "analysis_output = \"\"\n",
    "\n",
    "analysis_output += f'Found {str(n_micros)} microservices\\n'\n",
    "\n",
    "analysis_output += f'Total coupling value: {model.objVal} ({model.objVal/n_micros} avg.)\\n'\n",
    "analysis_output += f'Cohesion value: {cohesion}\\n\\n'\n",
    "\n",
    "for k in range(n_micros):\n",
    "    analysis_output += f'Entities in Microservice {str(k)}:\\n'\n",
    "    for i in G.nodes():\n",
    "        if G.nodes[i]['type'] == 'Entity' and x[i,k].x == 1:\n",
    "            analysis_output += f'- {G.nodes[i][\"name\"]}\\n'\n",
    "\n",
    "if show_methods:\n",
    "    for k in range(n_micros):\n",
    "        analysis_output += f'\\n\\nMethods in Microservice {str(k)}:\\n'\n",
    "        for i in G.nodes():\n",
    "            if G.nodes[i]['type'] == 'Method' and x[i,k].x == 1:\n",
    "                analysis_output += f'- {G.nodes[i][\"name\"]} ({G.nodes[i][\"class_name\"]})\\n'\n",
    "\n",
    "mcalls = 0\n",
    "references = 0\n",
    "uses = 0\n",
    "persists = 0\n",
    "\n",
    "for i,j in G.edges():\n",
    "    if y[i,j].x == 0:\n",
    "        if G[i][j]['rel_type'] == 'Calls':\n",
    "            mcalls += 1 \n",
    "        elif G[i][j]['rel_type'] == 'References':\n",
    "            references += 1\n",
    "        elif G[i][j]['rel_type'] == 'Uses':\n",
    "            uses += 1\n",
    "        elif G[i][j]['rel_type'] == 'Persists':\n",
    "            persists += 1\n",
    "\n",
    "analysis_output += f'\\n\\n\\n# of method calls crossing microservices: {mcalls}'\n",
    "analysis_output += f'\\n# of entity references crossing microservices: {references}'\n",
    "analysis_output += f'\\n# of entity usages crossing microservices: {uses}'\n",
    "analysis_output += f'\\n# of methods persisting entities of other microservices: {persists}'\n",
    "\n",
    "print(analysis_output)\n",
    "\n",
    "sb.glue(\"n_micros\", n_micros)\n",
    "sb.glue(\"avg_cop\", model.objVal/n_micros)\n",
    "sb.glue(\"cohesion\", cohesion)\n",
    "sb.glue(\"n_calls\", mcalls)\n",
    "sb.glue(\"n_refs\", references)\n",
    "sb.glue(\"n_uses\", uses)\n",
    "sb.glue(\"n_persist\", persists)\n",
    "sb.glue(\"total_w\", total_w)\n",
    "\n",
    "with open(analysis_out, 'w') as analysis_file:\n",
    "    analysis_file.write(analysis_output)"
   ]
  },
  {
   "cell_type": "code",
   "execution_count": 17,
   "id": "3519b123-a48c-4070-ab5f-b17393c76ad2",
   "metadata": {
    "editable": true,
    "execution": {
     "iopub.execute_input": "2025-09-27T14:05:38.602677Z",
     "iopub.status.busy": "2025-09-27T14:05:38.601648Z",
     "iopub.status.idle": "2025-09-27T14:05:38.625150Z",
     "shell.execute_reply": "2025-09-27T14:05:38.622040Z"
    },
    "papermill": {
     "duration": 0.113321,
     "end_time": "2025-09-27T14:05:38.638736",
     "exception": false,
     "start_time": "2025-09-27T14:05:38.525415",
     "status": "completed"
    },
    "slideshow": {
     "slide_type": ""
    },
    "tags": []
   },
   "outputs": [],
   "source": [
    "with open(solution_csv_out, 'w') as results_csv:\n",
    "    results_csv.write('node_key,microservice\\n')\n",
    "    counter = 0\n",
    "    for i in G.nodes():\n",
    "        for k in range(n_micros):\n",
    "            if x[i,k].x == 1:\n",
    "                results_csv.write(f'{i},{k}\\n')\n",
    "                counter+=1\n",
    "    \n",
    "    if counter!=len(G.nodes()):\n",
    "        print('Error! There are nodes not assigned into microservices?!')"
   ]
  },
  {
   "cell_type": "code",
   "execution_count": 18,
   "id": "6e8cfeef-174f-4742-ac5f-4862676bad36",
   "metadata": {
    "editable": true,
    "execution": {
     "iopub.execute_input": "2025-09-27T14:05:38.767004Z",
     "iopub.status.busy": "2025-09-27T14:05:38.766169Z",
     "iopub.status.idle": "2025-09-27T14:05:38.793286Z",
     "shell.execute_reply": "2025-09-27T14:05:38.788036Z"
    },
    "papermill": {
     "duration": 0.103152,
     "end_time": "2025-09-27T14:05:38.797878",
     "exception": false,
     "start_time": "2025-09-27T14:05:38.694726",
     "status": "completed"
    },
    "slideshow": {
     "slide_type": ""
    },
    "tags": []
   },
   "outputs": [],
   "source": [
    "if not headless:\n",
    "    DrawSol(G, x, graph_image_out)\n",
    "    \n",
    "    display(Image(filename = graph_image_out))"
   ]
  }
 ],
 "metadata": {
  "kernelspec": {
   "display_name": "Python 3 (ipykernel)",
   "language": "python",
   "name": "python3"
  },
  "language_info": {
   "codemirror_mode": {
    "name": "ipython",
    "version": 3
   },
   "file_extension": ".py",
   "mimetype": "text/x-python",
   "name": "python",
   "nbconvert_exporter": "python",
   "pygments_lexer": "ipython3",
   "version": "3.12.3"
  },
  "papermill": {
   "default_parameters": {},
   "duration": 38.271692,
   "end_time": "2025-09-27T14:05:41.796143",
   "environment_variables": {},
   "exception": null,
   "input_path": "2-Decomposition_optimization.ipynb",
   "output_path": "outputs/output_step_2_jpetstore.ipynb",
   "parameters": {
    "headless": true,
    "project": "jpetstore",
    "w": {
     "Calls": 0.12714116762017086,
     "Extends": 0.2356367192771779,
     "Persists": 0.10225667333744559,
     "References": 0.36287049587190146,
     "Uses": 0.1720949438933041
    }
   },
   "start_time": "2025-09-27T14:05:03.524451",
   "version": "2.6.0"
  },
  "vscode": {
   "interpreter": {
    "hash": "84d57bcf988df7741739090f92038d55c89d5ee4bebfcc0bea6a6c98a16573ca"
   }
  }
 },
 "nbformat": 4,
 "nbformat_minor": 5
}