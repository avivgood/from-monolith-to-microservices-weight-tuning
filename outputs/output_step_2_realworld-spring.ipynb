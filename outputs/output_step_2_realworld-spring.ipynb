{
 "cells": [
  {
   "cell_type": "code",
   "execution_count": 1,
   "id": "63ce5fa3-e2cb-4565-ba94-8fa943d68162",
   "metadata": {
    "editable": true,
    "execution": {
     "iopub.execute_input": "2025-09-27T04:15:15.196276Z",
     "iopub.status.busy": "2025-09-27T04:15:15.195819Z",
     "iopub.status.idle": "2025-09-27T04:15:27.365395Z",
     "shell.execute_reply": "2025-09-27T04:15:27.364186Z"
    },
    "papermill": {
     "duration": 12.196031,
     "end_time": "2025-09-27T04:15:27.367509",
     "exception": false,
     "start_time": "2025-09-27T04:15:15.171478",
     "status": "completed"
    },
    "slideshow": {
     "slide_type": ""
    },
    "tags": []
   },
   "outputs": [],
   "source": [
    "#!/usr/bin/env python\n",
    "import scrapbook as sb\n",
    "import networkx as nx\n",
    "import pygraphviz as pygv\n",
    "import gurobipy as gb\n",
    "import json\n",
    "from community import community_louvain\n",
    "from IPython.display import Image, display\n",
    "\n",
    "def DrawSol (G, x, filename):\n",
    "    global n_micros\n",
    "\n",
    "    DrawG = pygv.AGraph(directed=True, strict='true', splines='true')\n",
    "\n",
    "    colors = ['green', 'blue', 'red', 'orange', 'yellow', 'purple', 'black', 'gray', 'cyan', 'brown', 'hotpink', 'navy', 'darkgreen', 'chocolate', 'deeppink', 'firebrick', 'gold', 'orchid', 'gold4']\n",
    "    \n",
    "    for i in G.nodes():\n",
    "        if G.nodes[i]['type'] == 'Entity':\n",
    "            shape='hexagon'\n",
    "        else:\n",
    "            shape='circle'\n",
    "\n",
    "        for k in range(n_micros):\n",
    "            if x[i,k].x == 1:\n",
    "                # Get cluster number k\n",
    "                if k<len(colors):\n",
    "                    color=colors[k]\n",
    "                else:\n",
    "                    color = 'black'\n",
    "        DrawG.add_node (i, color=color, shape=shape, width=0.1, fontsize=9, label=G.nodes[i]['name'])\n",
    "\n",
    "    for i in G.edges():\n",
    "        edge_color = 'black' if G[i[0]][i[1]]['rel_type'] in ['Calls','Persists', 'References'] else 'gray'\n",
    "        DrawG.add_edge(i[0], i[1], color=edge_color, label=G[i[0]][i[1]]['rel_type'], fontsize='8')\n",
    "        \n",
    "    DrawG.layout(prog='dot')\n",
    "    DrawG.draw(filename)"
   ]
  },
  {
   "cell_type": "markdown",
   "id": "e3e92b53-40f6-4740-8a99-c40877eb9681",
   "metadata": {
    "editable": true,
    "papermill": {
     "duration": 0.019351,
     "end_time": "2025-09-27T04:15:27.398336",
     "exception": false,
     "start_time": "2025-09-27T04:15:27.378985",
     "status": "completed"
    },
    "slideshow": {
     "slide_type": ""
    },
    "tags": []
   },
   "source": [
    "### _Configuration!_\n",
    "\n",
    "Keep the project list up-to-date and select the project to be analyzed"
   ]
  },
  {
   "cell_type": "markdown",
   "id": "369f6589-5ded-4162-85ea-3c37b9026765",
   "metadata": {
    "editable": true,
    "papermill": {
     "duration": 0.028518,
     "end_time": "2025-09-27T04:15:27.450380",
     "exception": false,
     "start_time": "2025-09-27T04:15:27.421862",
     "status": "completed"
    },
    "slideshow": {
     "slide_type": ""
    },
    "tags": []
   },
   "source": [
    "### _User input required!_\n",
    "\n",
    "Update, if needed the default weigth of the edges"
   ]
  },
  {
   "cell_type": "code",
   "execution_count": 2,
   "id": "05c7e2d2-7f39-4109-a665-36a40e5be7de",
   "metadata": {
    "editable": true,
    "execution": {
     "iopub.execute_input": "2025-09-27T04:15:27.495702Z",
     "iopub.status.busy": "2025-09-27T04:15:27.492452Z",
     "iopub.status.idle": "2025-09-27T04:15:27.505463Z",
     "shell.execute_reply": "2025-09-27T04:15:27.504311Z"
    },
    "papermill": {
     "duration": 0.035067,
     "end_time": "2025-09-27T04:15:27.507439",
     "exception": false,
     "start_time": "2025-09-27T04:15:27.472372",
     "status": "completed"
    },
    "slideshow": {
     "slide_type": ""
    },
    "tags": [
     "parameters"
    ]
   },
   "outputs": [],
   "source": [
    "project = 'jpetstore' # <-- Set this variable!\n",
    "# Weighting edges:\n",
    "w = dict()\n",
    "w['Calls']=0.8\n",
    "w['Persists']=1\n",
    "w['Uses']=0.6\n",
    "w['References']=0.2\n",
    "w['Extends']=0\n",
    "headless = False"
   ]
  },
  {
   "cell_type": "code",
   "execution_count": 3,
   "id": "e4428254",
   "metadata": {
    "execution": {
     "iopub.execute_input": "2025-09-27T04:15:27.546553Z",
     "iopub.status.busy": "2025-09-27T04:15:27.545831Z",
     "iopub.status.idle": "2025-09-27T04:15:27.557823Z",
     "shell.execute_reply": "2025-09-27T04:15:27.553435Z"
    },
    "papermill": {
     "duration": 0.03626,
     "end_time": "2025-09-27T04:15:27.559741",
     "exception": false,
     "start_time": "2025-09-27T04:15:27.523481",
     "status": "completed"
    },
    "tags": [
     "injected-parameters"
    ]
   },
   "outputs": [],
   "source": [
    "# Parameters\n",
    "project = \"realworld-spring\"\n",
    "w = {\"Calls\": 0.3502793904700223, \"Persists\": 0.261108188312347, \"References\": 0.05352974055867549, \"Extends\": 0.055467447464847164, \"Uses\": 0.2796152331941081}\n",
    "headless = True\n"
   ]
  },
  {
   "cell_type": "code",
   "execution_count": 4,
   "id": "654afedb-2f70-4c65-b23e-5e01c98d8d13",
   "metadata": {
    "editable": true,
    "execution": {
     "iopub.execute_input": "2025-09-27T04:15:27.601745Z",
     "iopub.status.busy": "2025-09-27T04:15:27.601041Z",
     "iopub.status.idle": "2025-09-27T04:15:27.612763Z",
     "shell.execute_reply": "2025-09-27T04:15:27.611720Z"
    },
    "papermill": {
     "duration": 0.037536,
     "end_time": "2025-09-27T04:15:27.614559",
     "exception": false,
     "start_time": "2025-09-27T04:15:27.577023",
     "status": "completed"
    },
    "slideshow": {
     "slide_type": ""
    },
    "tags": []
   },
   "outputs": [],
   "source": [
    "\n",
    "\n",
    "with open('projects.json', 'r') as projects:\n",
    "    project_found = False\n",
    "    for data in json.load(projects):\n",
    "        if data['name'] == project:\n",
    "            analysis_results_basedir = data['analysis_results_basedir']\n",
    "            project_found = True\n",
    "    if not project_found:\n",
    "        print('ERROR: project ' + project + ' does not appear in project.json')"
   ]
  },
  {
   "cell_type": "code",
   "execution_count": 5,
   "id": "c9f2f54d-61ce-4b68-a80a-68b94ef0ce32",
   "metadata": {
    "editable": true,
    "execution": {
     "iopub.execute_input": "2025-09-27T04:15:27.649599Z",
     "iopub.status.busy": "2025-09-27T04:15:27.649177Z",
     "iopub.status.idle": "2025-09-27T04:15:27.661391Z",
     "shell.execute_reply": "2025-09-27T04:15:27.657197Z"
    },
    "papermill": {
     "duration": 0.033571,
     "end_time": "2025-09-27T04:15:27.665488",
     "exception": false,
     "start_time": "2025-09-27T04:15:27.631917",
     "status": "completed"
    },
    "slideshow": {
     "slide_type": ""
    },
    "tags": []
   },
   "outputs": [],
   "source": [
    "# Set output names\n",
    "\n",
    "graph_in = analysis_results_basedir + project + '_graph.gml'\n",
    "communities_out = analysis_results_basedir + project + '_communities.csv'\n",
    "formulation_out = analysis_results_basedir + project + '_communities_improved_optimization.lp'\n",
    "solution_csv_out = analysis_results_basedir + project + '_sol_communities_improved_optimization.csv'\n",
    "graph_image_out = analysis_results_basedir + project + '_sol_communities_improved_optimization.png'\n",
    "analysis_out = analysis_results_basedir + project + '_sol_communities_improved_optimization.txt'"
   ]
  },
  {
   "cell_type": "code",
   "execution_count": 6,
   "id": "5c2c34a6-0072-4335-aa24-5592aa2b0eb7",
   "metadata": {
    "editable": true,
    "execution": {
     "iopub.execute_input": "2025-09-27T04:15:27.704108Z",
     "iopub.status.busy": "2025-09-27T04:15:27.703734Z",
     "iopub.status.idle": "2025-09-27T04:15:27.731610Z",
     "shell.execute_reply": "2025-09-27T04:15:27.730493Z"
    },
    "papermill": {
     "duration": 0.049777,
     "end_time": "2025-09-27T04:15:27.733525",
     "exception": false,
     "start_time": "2025-09-27T04:15:27.683748",
     "status": "completed"
    },
    "slideshow": {
     "slide_type": ""
    },
    "tags": []
   },
   "outputs": [],
   "source": [
    "# Import graph\n",
    "\n",
    "G = nx.read_graphml(graph_in)"
   ]
  },
  {
   "cell_type": "code",
   "execution_count": 7,
   "id": "dce09914-e79b-4094-8343-eb55557825f3",
   "metadata": {
    "editable": true,
    "execution": {
     "iopub.execute_input": "2025-09-27T04:15:27.778448Z",
     "iopub.status.busy": "2025-09-27T04:15:27.777609Z",
     "iopub.status.idle": "2025-09-27T04:15:27.790484Z",
     "shell.execute_reply": "2025-09-27T04:15:27.789338Z"
    },
    "papermill": {
     "duration": 0.041326,
     "end_time": "2025-09-27T04:15:27.797529",
     "exception": false,
     "start_time": "2025-09-27T04:15:27.756203",
     "status": "completed"
    },
    "slideshow": {
     "slide_type": ""
    },
    "tags": []
   },
   "outputs": [],
   "source": [
    "# Add edge weights\n",
    "\n",
    "for (i, j) in G.edges():\n",
    "    G[i][j]['w'] = w[G[i][j]['rel_type']]"
   ]
  },
  {
   "cell_type": "markdown",
   "id": "c98c18d6-f80e-47f3-91bd-258d444d2d08",
   "metadata": {
    "editable": true,
    "papermill": {
     "duration": 0.024318,
     "end_time": "2025-09-27T04:15:27.844330",
     "exception": false,
     "start_time": "2025-09-27T04:15:27.820012",
     "status": "completed"
    },
    "slideshow": {
     "slide_type": ""
    },
    "tags": []
   },
   "source": [
    "## Find communities"
   ]
  },
  {
   "cell_type": "code",
   "execution_count": 8,
   "id": "b1205d9e-4492-4c2d-8034-52c4323b3a20",
   "metadata": {
    "editable": true,
    "execution": {
     "iopub.execute_input": "2025-09-27T04:15:27.882400Z",
     "iopub.status.busy": "2025-09-27T04:15:27.881572Z",
     "iopub.status.idle": "2025-09-27T04:15:27.939385Z",
     "shell.execute_reply": "2025-09-27T04:15:27.938181Z"
    },
    "papermill": {
     "duration": 0.078408,
     "end_time": "2025-09-27T04:15:27.941614",
     "exception": false,
     "start_time": "2025-09-27T04:15:27.863206",
     "status": "completed"
    },
    "slideshow": {
     "slide_type": ""
    },
    "tags": []
   },
   "outputs": [],
   "source": [
    "H = nx.Graph(G) # create an undirected graph H from a directed graph G\n",
    "\n",
    "# compute the best partition\n",
    "communities = community_louvain.best_partition(H, weight='w')\n",
    "\n",
    "# write communities on file\n",
    "with open(communities_out, 'w') as csv_file:\n",
    "    csv_file.write('node, cluster/community\\n')\n",
    "    for node in communities:\n",
    "        csv_file.write(f'{node},{communities[node]}\\n')"
   ]
  },
  {
   "cell_type": "markdown",
   "id": "e6627e68-4939-4275-8ed8-43a323b64d2e",
   "metadata": {
    "editable": true,
    "papermill": {
     "duration": 0.020917,
     "end_time": "2025-09-27T04:15:27.981288",
     "exception": false,
     "start_time": "2025-09-27T04:15:27.960371",
     "status": "completed"
    },
    "slideshow": {
     "slide_type": ""
    },
    "tags": []
   },
   "source": [
    "## Find communities for the entity subgraph"
   ]
  },
  {
   "cell_type": "code",
   "execution_count": 9,
   "id": "476f02c9-d605-4213-8225-951cd9beb7e5",
   "metadata": {
    "editable": true,
    "execution": {
     "iopub.execute_input": "2025-09-27T04:15:28.009485Z",
     "iopub.status.busy": "2025-09-27T04:15:28.009038Z",
     "iopub.status.idle": "2025-09-27T04:15:28.052509Z",
     "shell.execute_reply": "2025-09-27T04:15:28.047902Z"
    },
    "papermill": {
     "duration": 0.058734,
     "end_time": "2025-09-27T04:15:28.054906",
     "exception": false,
     "start_time": "2025-09-27T04:15:27.996172",
     "status": "completed"
    },
    "slideshow": {
     "slide_type": ""
    },
    "tags": []
   },
   "outputs": [
    {
     "name": "stdout",
     "output_type": "stream",
     "text": [
      "Community 1:\n",
      " - User (id:22)\n",
      "Community 10:\n",
      " - FollowRelation (id:23)\n",
      "Community 12:\n",
      " - Article (id:26)\n",
      " - Tag (id:27)\n",
      "Community 13:\n",
      " - ArticleFavorite (id:28)\n"
     ]
    }
   ],
   "source": [
    "K = nx.Graph(G) # create an undirected graph H from a directed graph G\n",
    "\n",
    "# Remove non-entity nodes\n",
    "\n",
    "for i in list(K.nodes):\n",
    "    if K.nodes[i]['type']!='Entity':\n",
    "        K.remove_node(i)\n",
    "\n",
    "# Obtain subgraph of entities that have direct relationships with the persistence layer:\n",
    "    \n",
    "        \n",
    "# compute the best partition\n",
    "entity_cluster = community_louvain.best_partition(K, weight='w')\n",
    "\n",
    "# Remove nodes that do not have direct relationships with methods from the cluster dictionary:\n",
    "e_dict = dict()\n",
    "# Check if entity has a relationship with some method of the persistence layer (it will remove entities from the controller model, for instance)\n",
    "for e in entity_cluster:\n",
    "    e_dict[e] = False\n",
    "    for (i,j) in G.edges():\n",
    "        if e==j and G[i][j]['rel_type'] in ['Persists']:\n",
    "            e_dict[e]=True\n",
    "\n",
    "# Remove non-related entities\n",
    "for entity_to_remove in e_dict:\n",
    "    if not e_dict[entity_to_remove]:\n",
    "        # print('INFO: Entity ' + G.nodes[entity_to_remove]['name'] + ' removed from the clusters')\n",
    "        entity_cluster.pop(entity_to_remove)\n",
    "\n",
    "for i in set(entity_cluster.values()):\n",
    "    print(f'Community {i}:')\n",
    "    for entity, cluster in entity_cluster.items():\n",
    "        if cluster == i:\n",
    "            print(f' - {G.nodes()[entity][\"name\"]} (id:{entity})')"
   ]
  },
  {
   "cell_type": "markdown",
   "id": "9d385bf2-cf31-45e0-8d84-fd44715a1028",
   "metadata": {
    "editable": true,
    "papermill": {
     "duration": 0.014966,
     "end_time": "2025-09-27T04:15:28.090212",
     "exception": false,
     "start_time": "2025-09-27T04:15:28.075246",
     "status": "completed"
    },
    "slideshow": {
     "slide_type": ""
    },
    "tags": []
   },
   "source": [
    "### _User input required!_\n",
    "\n",
    "Refine, if needed, entity clusters"
   ]
  },
  {
   "cell_type": "code",
   "execution_count": 10,
   "id": "021636e9-07ea-45c6-9eab-e34e93503e9b",
   "metadata": {
    "editable": true,
    "execution": {
     "iopub.execute_input": "2025-09-27T04:15:28.139420Z",
     "iopub.status.busy": "2025-09-27T04:15:28.135478Z",
     "iopub.status.idle": "2025-09-27T04:15:28.149541Z",
     "shell.execute_reply": "2025-09-27T04:15:28.148528Z"
    },
    "papermill": {
     "duration": 0.042037,
     "end_time": "2025-09-27T04:15:28.154545",
     "exception": false,
     "start_time": "2025-09-27T04:15:28.112508",
     "status": "completed"
    },
    "slideshow": {
     "slide_type": ""
    },
    "tags": []
   },
   "outputs": [],
   "source": [
    "# Remove entity from its cluster\n",
    "entity_ids_to_remove = [] # <-- Put Ids as strings (example: ['1', '3']\n",
    "\n",
    "# Place entity into a cluster\n",
    "entities_clusters_to_place = [] # <-- Example: entity X in cluster Y: ('X', 5)\n",
    "\n",
    "\n",
    "for e in entity_ids_to_remove:\n",
    "    entity_cluster.pop(e)\n",
    "    print(f'INFO: Removed entity {G.nodes()[e][\"name\"]} from clusters')\n",
    "\n",
    "for (e, cluster) in entities_clusters_to_place:\n",
    "    entity_cluster[e] = cluster\n",
    "    print(f'INFO: Entity {G.nodes()[e][\"name\"]} put into cluster {cluster}')"
   ]
  },
  {
   "cell_type": "code",
   "execution_count": 11,
   "id": "03cb8c9a-f2d0-46ad-a857-11e31be27470",
   "metadata": {
    "editable": true,
    "execution": {
     "iopub.execute_input": "2025-09-27T04:15:28.178733Z",
     "iopub.status.busy": "2025-09-27T04:15:28.177881Z",
     "iopub.status.idle": "2025-09-27T04:15:28.188049Z",
     "shell.execute_reply": "2025-09-27T04:15:28.186859Z"
    },
    "papermill": {
     "duration": 0.023399,
     "end_time": "2025-09-27T04:15:28.190287",
     "exception": false,
     "start_time": "2025-09-27T04:15:28.166888",
     "status": "completed"
    },
    "slideshow": {
     "slide_type": ""
    },
    "tags": []
   },
   "outputs": [
    {
     "name": "stdout",
     "output_type": "stream",
     "text": [
      "Entities in community 0: ['User']\n",
      "Entities in community 1: ['FollowRelation']\n",
      "Entities in community 2: ['Article', 'Tag']\n",
      "Entities in community 3: ['ArticleFavorite']\n"
     ]
    }
   ],
   "source": [
    "# Some cluster may have disappeared: remaining clusters need to be renumbered\n",
    "cluster_map = dict()\n",
    "counter=0\n",
    "number_mapping = dict() # maps the old cluster number with the new one\n",
    "for entity_key, old_number in entity_cluster.items():\n",
    "    if old_number not in number_mapping:\n",
    "        number_mapping[old_number] = counter\n",
    "        counter+=1\n",
    "    cluster_map[number_mapping[old_number]] = cluster_map.get(number_mapping[old_number], []) + [entity_key]\n",
    "    \n",
    "for cluster in cluster_map:\n",
    "    print('Entities in community ' + str(cluster) + ': ' + str([G.nodes[entity_key]['name'] for entity_key in cluster_map[cluster]]))\n",
    "\n",
    "n_micros = len(cluster_map)"
   ]
  },
  {
   "cell_type": "code",
   "execution_count": 12,
   "id": "bd909d53-3681-43aa-baa0-5d38556bb40b",
   "metadata": {
    "editable": true,
    "execution": {
     "iopub.execute_input": "2025-09-27T04:15:28.212653Z",
     "iopub.status.busy": "2025-09-27T04:15:28.212199Z",
     "iopub.status.idle": "2025-09-27T04:15:28.231389Z",
     "shell.execute_reply": "2025-09-27T04:15:28.230193Z"
    },
    "papermill": {
     "duration": 0.032899,
     "end_time": "2025-09-27T04:15:28.233780",
     "exception": false,
     "start_time": "2025-09-27T04:15:28.200881",
     "status": "completed"
    },
    "slideshow": {
     "slide_type": ""
    },
    "tags": []
   },
   "outputs": [
    {
     "name": "stdout",
     "output_type": "stream",
     "text": [
      "Entities in community 0 are in clusters: []\n",
      "Entities in community 1 are in clusters: []\n",
      "Entities in community 3 are in clusters: [0]\n",
      "Entities in community 4 are in clusters: [2, 2]\n",
      "Entities in community 5 are in clusters: []\n",
      "Entities in community 6 are in clusters: [1]\n",
      "Entities in community 7 are in clusters: [3]\n",
      "Entities in community 8 are in clusters: []\n",
      "Relaxed communities: []\n"
     ]
    }
   ],
   "source": [
    "# Resolve conflicts of distribution of entities into communities: if entities of the same community are in different clusters, then remove the community from the dictionary\n",
    "\n",
    "communities_dict = dict() # Map community -> entities into the communities\n",
    "\n",
    "\n",
    "for node in G.nodes():\n",
    "    if G.nodes[node]['type'] == 'Entity':\n",
    "        communities_dict[communities[node]] = communities_dict.get(communities[node], []) + [node]\n",
    "\n",
    "communities_to_relax = []\n",
    "\n",
    "for community in communities_dict:\n",
    "    clusters = []\n",
    "    for cluster, entities in cluster_map.items():\n",
    "        for e in entities:\n",
    "            if e in communities_dict[community]:\n",
    "                clusters.append(cluster)\n",
    "    print(f'Entities in community {community} are in clusters: {clusters}')\n",
    "    if len(clusters) > 0 and not all(clusters[0] == c for c in clusters):\n",
    "        #print(f'Remove community {community}')\n",
    "        communities_to_relax.append(community)\n",
    "\n",
    "nodes_to_remove_from_dict = []\n",
    "for node in communities.keys():\n",
    "    if communities[node] in communities_to_relax:\n",
    "        nodes_to_remove_from_dict.append(node)\n",
    "\n",
    "for node in nodes_to_remove_from_dict:\n",
    "    del communities[node]\n",
    "\n",
    "print(f'Relaxed communities: {communities_to_relax}')"
   ]
  },
  {
   "cell_type": "markdown",
   "id": "3c6fe2ac-0fb0-456d-8b81-8d93a3439be8",
   "metadata": {
    "editable": true,
    "papermill": {
     "duration": 0.023328,
     "end_time": "2025-09-27T04:15:28.279033",
     "exception": false,
     "start_time": "2025-09-27T04:15:28.255705",
     "status": "completed"
    },
    "slideshow": {
     "slide_type": ""
    },
    "tags": []
   },
   "source": [
    "## ILP Formulation"
   ]
  },
  {
   "cell_type": "code",
   "execution_count": 13,
   "id": "bceb7240-b83a-4b0b-b380-b95cd1bb2b0e",
   "metadata": {
    "editable": true,
    "execution": {
     "iopub.execute_input": "2025-09-27T04:15:28.321091Z",
     "iopub.status.busy": "2025-09-27T04:15:28.320209Z",
     "iopub.status.idle": "2025-09-27T04:15:28.820341Z",
     "shell.execute_reply": "2025-09-27T04:15:28.819261Z"
    },
    "papermill": {
     "duration": 0.519659,
     "end_time": "2025-09-27T04:15:28.823292",
     "exception": false,
     "start_time": "2025-09-27T04:15:28.303633",
     "status": "completed"
    },
    "slideshow": {
     "slide_type": ""
    },
    "tags": []
   },
   "outputs": [
    {
     "name": "stdout",
     "output_type": "stream",
     "text": [
      "Set parameter WLSAccessID\n"
     ]
    },
    {
     "name": "stdout",
     "output_type": "stream",
     "text": [
      "Set parameter WLSSecret\n"
     ]
    },
    {
     "name": "stdout",
     "output_type": "stream",
     "text": [
      "Set parameter LicenseID to value 2713550\n"
     ]
    },
    {
     "name": "stdout",
     "output_type": "stream",
     "text": [
      "Academic license 2713550 - for non-commercial use only - registered to av___@gmail.com\n"
     ]
    }
   ],
   "source": [
    "model = gb.Model()\n",
    "\n",
    "# Variables\n",
    "x = model.addVars(((i,k) for i in G.nodes() for k in range(n_micros)),\\\n",
    "                  vtype=gb.GRB.BINARY, name='x')\n",
    "\n",
    "z = model.addVars(((i,j,k) for (i,j) in G.edges() for k in range(n_micros)), vtype=gb.GRB.BINARY, name='z')\n",
    "\n",
    "y = model.addVars(((i,j) for (i,j) in G.edges()), vtype=gb.GRB.BINARY, name='y')\n",
    "\n",
    "# Each node has to be in one and only one microservice\n",
    "model.addConstrs((x.sum(i, '*') == 1 for i in G.nodes()), name='(1)microservice-belonging')\n",
    "\n",
    "# A microservice can not be composed of entities only\n",
    "model.addConstrs((gb.quicksum(x[i,k] for i in G.nodes() if G.nodes[i]['type']!='Entity') >= 1 for k in range(n_micros)), name='(2)microservice-composition')\n",
    "\n",
    "# Bonding variables\n",
    "model.addConstrs((z[i,j,k]-x[i,k] <= 0 for (i,j) in G.edges() for k in range(n_micros)), name='(3)bonding-z-to-x')\n",
    "model.addConstrs((z[i,j,k]-x[j,k] <= 0 for (i,j) in G.edges() for k in range(n_micros)), name='(4)bonding-z-to-x')\n",
    "model.addConstrs((x[i,k]+x[j,k]-z[i,j,k] <= 1 for (i,j) in G.edges() for k in range(n_micros)), name='(5)bonding-z-to-x')\n",
    "\n",
    "model.addConstrs((y[i,j]==gb.quicksum(z[i,j,k] for k in range(n_micros)) for (i,j) in G.edges()), name='(6)bonding-y-to-z')\n",
    "\n",
    "\n",
    "########## Added constraints ##########\n",
    "\n",
    "# Force each entity from the kth cluster to be in the kth microservice\n",
    "model.addConstrs((x[i,k]==1 for k in cluster_map for i in cluster_map[k]), name='(7)bonding-x-to-entity-clusters')\n",
    "\n",
    "# Force node of the same community to be in the same (consider a community only if there are not entities from different clusters)\n",
    "communities_constraint = model.addConstrs((y[i,j]==1 for (i,j) in G.edges() if i in communities and j in communities and communities[i]==communities[j]), name='(8)bonding-y-to-communities')\n",
    "\n",
    "\n",
    "########## Objective function ##########\n",
    "\n",
    "coupling = gb.quicksum(G.edges[i,j]['w']*(1-y[i,j]) for (i,j) in G.edges())\n",
    "\n",
    "model.setObjective(coupling, gb.GRB.MINIMIZE)\n",
    "\n",
    "model.write(formulation_out)"
   ]
  },
  {
   "cell_type": "code",
   "execution_count": 14,
   "id": "081eb8b2-d436-45fa-886c-7051ff07d125",
   "metadata": {
    "editable": true,
    "execution": {
     "iopub.execute_input": "2025-09-27T04:15:28.855400Z",
     "iopub.status.busy": "2025-09-27T04:15:28.850697Z",
     "iopub.status.idle": "2025-09-27T04:15:29.019725Z",
     "shell.execute_reply": "2025-09-27T04:15:29.018753Z"
    },
    "papermill": {
     "duration": 0.184594,
     "end_time": "2025-09-27T04:15:29.023297",
     "exception": false,
     "start_time": "2025-09-27T04:15:28.838703",
     "status": "completed"
    },
    "slideshow": {
     "slide_type": ""
    },
    "tags": []
   },
   "outputs": [
    {
     "name": "stdout",
     "output_type": "stream",
     "text": [
      "Gurobi Optimizer version 12.0.3 build v12.0.3rc0 (linux64 - \"Linux Mint 22.1\")\n"
     ]
    },
    {
     "name": "stdout",
     "output_type": "stream",
     "text": [
      "\n"
     ]
    },
    {
     "name": "stdout",
     "output_type": "stream",
     "text": [
      "CPU model: Intel(R) Core(TM) i7-8550U CPU @ 1.80GHz, instruction set [SSE2|AVX|AVX2]\n"
     ]
    },
    {
     "name": "stdout",
     "output_type": "stream",
     "text": [
      "Thread count: 4 physical cores, 8 logical processors, using up to 8 threads\n"
     ]
    },
    {
     "name": "stdout",
     "output_type": "stream",
     "text": [
      "\n"
     ]
    },
    {
     "name": "stdout",
     "output_type": "stream",
     "text": [
      "Academic license 2713550 - for non-commercial use only - registered to av___@gmail.com\n"
     ]
    },
    {
     "name": "stdout",
     "output_type": "stream",
     "text": [
      "Optimize a model with 2546 rows, 1266 columns and 6656 nonzeros\n"
     ]
    },
    {
     "name": "stdout",
     "output_type": "stream",
     "text": [
      "Model fingerprint: 0xe4a4d05b\n"
     ]
    },
    {
     "name": "stdout",
     "output_type": "stream",
     "text": [
      "Variable types: 0 continuous, 1266 integer (1266 binary)\n"
     ]
    },
    {
     "name": "stdout",
     "output_type": "stream",
     "text": [
      "Coefficient statistics:\n"
     ]
    },
    {
     "name": "stdout",
     "output_type": "stream",
     "text": [
      "  Matrix range     [1e+00, 1e+00]\n"
     ]
    },
    {
     "name": "stdout",
     "output_type": "stream",
     "text": [
      "  Objective range  [5e-02, 4e-01]\n"
     ]
    },
    {
     "name": "stdout",
     "output_type": "stream",
     "text": [
      "  Bounds range     [1e+00, 1e+00]\n"
     ]
    },
    {
     "name": "stdout",
     "output_type": "stream",
     "text": [
      "  RHS range        [1e+00, 1e+00]\n"
     ]
    },
    {
     "name": "stdout",
     "output_type": "stream",
     "text": [
      "Presolve removed 2536 rows and 1256 columns\n"
     ]
    },
    {
     "name": "stdout",
     "output_type": "stream",
     "text": [
      "Presolve time: 0.07s\n"
     ]
    },
    {
     "name": "stdout",
     "output_type": "stream",
     "text": [
      "Presolved: 10 rows, 10 columns, 31 nonzeros\n"
     ]
    },
    {
     "name": "stdout",
     "output_type": "stream",
     "text": [
      "Variable types: 0 continuous, 10 integer (10 binary)\n"
     ]
    },
    {
     "name": "stdout",
     "output_type": "stream",
     "text": [
      "Found heuristic solution: objective 9.5786321\n"
     ]
    },
    {
     "name": "stdout",
     "output_type": "stream",
     "text": [
      "Found heuristic solution: objective 6.7659641\n"
     ]
    },
    {
     "name": "stdout",
     "output_type": "stream",
     "text": [
      "Found heuristic solution: objective 6.4863489\n"
     ]
    },
    {
     "name": "stdout",
     "output_type": "stream",
     "text": [
      "\n"
     ]
    },
    {
     "name": "stdout",
     "output_type": "stream",
     "text": [
      "Explored 0 nodes (0 simplex iterations) in 0.13 seconds (0.01 work units)\n"
     ]
    },
    {
     "name": "stdout",
     "output_type": "stream",
     "text": [
      "Thread count was 8 (of 8 available processors)\n"
     ]
    },
    {
     "name": "stdout",
     "output_type": "stream",
     "text": [
      "\n"
     ]
    },
    {
     "name": "stdout",
     "output_type": "stream",
     "text": [
      "Solution count 3: 6.48635 6.76596 9.57863 \n"
     ]
    },
    {
     "name": "stdout",
     "output_type": "stream",
     "text": [
      "\n"
     ]
    },
    {
     "name": "stdout",
     "output_type": "stream",
     "text": [
      "Optimal solution found (tolerance 1.00e-04)\n"
     ]
    },
    {
     "name": "stdout",
     "output_type": "stream",
     "text": [
      "Best objective 6.486348871768e+00, best bound 6.486348871768e+00, gap 0.0000%\n"
     ]
    }
   ],
   "source": [
    "model.optimize()"
   ]
  },
  {
   "cell_type": "markdown",
   "id": "c2bb0cfd-3f6e-4806-908c-628a86f4574f",
   "metadata": {
    "editable": true,
    "papermill": {
     "duration": 0.013316,
     "end_time": "2025-09-27T04:15:29.051012",
     "exception": false,
     "start_time": "2025-09-27T04:15:29.037696",
     "status": "completed"
    },
    "slideshow": {
     "slide_type": ""
    },
    "tags": []
   },
   "source": [
    "## Result Analysis"
   ]
  },
  {
   "cell_type": "code",
   "execution_count": 15,
   "id": "78f5ab5d-204b-48b6-bec9-9e2647d47855",
   "metadata": {
    "editable": true,
    "execution": {
     "iopub.execute_input": "2025-09-27T04:15:29.081188Z",
     "iopub.status.busy": "2025-09-27T04:15:29.080751Z",
     "iopub.status.idle": "2025-09-27T04:15:29.101609Z",
     "shell.execute_reply": "2025-09-27T04:15:29.100469Z"
    },
    "papermill": {
     "duration": 0.038822,
     "end_time": "2025-09-27T04:15:29.104268",
     "exception": false,
     "start_time": "2025-09-27T04:15:29.065446",
     "status": "completed"
    },
    "slideshow": {
     "slide_type": ""
    },
    "tags": []
   },
   "outputs": [],
   "source": [
    "# Compute cohesion:\n",
    "inside_w = dict()\n",
    "outside_w = dict()\n",
    "total_w = 0\n",
    "\n",
    "for i,j in G.edges():\n",
    "    total_w += G[i][j]['w']\n",
    "    for k in range(n_micros):\n",
    "        if z[i,j,k].x == 1: # Edge (i,j) is inside microservice k: sum the weight as inside\n",
    "            inside_w[k] = inside_w.get(k, 0) + G[i][j]['w']\n",
    "        if x[i,k].x == 1: # Edge (i,j) has its origin in k: sum the weigth as outside\n",
    "            outside_w[k] = outside_w.get(k, 0) + G[i][j]['w']\n",
    "\n",
    "cohesion_dict = dict()\n",
    "for k in range(n_micros):\n",
    "    cohesion_dict[k] = inside_w[k] / outside_w[k]\n",
    "\n",
    "cohesion = sum(cohesion_dict.values())/n_micros"
   ]
  },
  {
   "cell_type": "code",
   "execution_count": 16,
   "id": "b4f4589c-f9db-4123-89b3-9d1266b6297b",
   "metadata": {
    "editable": true,
    "execution": {
     "iopub.execute_input": "2025-09-27T04:15:29.138785Z",
     "iopub.status.busy": "2025-09-27T04:15:29.137752Z",
     "iopub.status.idle": "2025-09-27T04:15:29.223598Z",
     "shell.execute_reply": "2025-09-27T04:15:29.219462Z"
    },
    "papermill": {
     "duration": 0.103557,
     "end_time": "2025-09-27T04:15:29.226047",
     "exception": false,
     "start_time": "2025-09-27T04:15:29.122490",
     "status": "completed"
    },
    "slideshow": {
     "slide_type": ""
    },
    "tags": []
   },
   "outputs": [
    {
     "name": "stdout",
     "output_type": "stream",
     "text": [
      "Found 4 microservices\n",
      "Total coupling value: 6.486348871768108 (1.621587217942027 avg.)\n",
      "Cohesion value: 0.7995386479860628\n",
      "\n",
      "Entities in Microservice 0:\n",
      "- Page\n",
      "- UpdateUserCommand\n",
      "- RegisterParam\n",
      "- UpdateUserParam\n",
      "- ArticleDataList\n",
      "- CommentData\n",
      "- ArticleData\n",
      "- ProfileData\n",
      "- ArticleFavoriteCount\n",
      "- UserWithToken\n",
      "- UserData\n",
      "- UpdateArticleParam\n",
      "- User\n",
      "- Comment\n",
      "- LoginParam\n",
      "- NewCommentParam\n",
      "- FieldErrorResource\n",
      "- ErrorResourceSerializer\n",
      "- ErrorResource\n",
      "- InvalidAuthenticationException\n",
      "- ResourceNotFoundException\n",
      "Entities in Microservice 1:\n",
      "- FollowRelation\n",
      "Entities in Microservice 2:\n",
      "- NewArticleParam\n",
      "- Article\n",
      "- Tag\n",
      "Entities in Microservice 3:\n",
      "- ArticleFavorite\n",
      "\n",
      "\n",
      "\n",
      "# of method calls crossing microservices: 5\n",
      "# of entity references crossing microservices: 0\n",
      "# of entity usages crossing microservices: 16\n",
      "# of methods persisting entities of other microservices: 1\n"
     ]
    },
    {
     "data": {
      "application/scrapbook.scrap.json+json": {
       "data": 4,
       "encoder": "json",
       "name": "n_micros",
       "version": 1
      }
     },
     "metadata": {
      "scrapbook": {
       "data": true,
       "display": false,
       "name": "n_micros"
      }
     },
     "output_type": "display_data"
    },
    {
     "data": {
      "application/scrapbook.scrap.json+json": {
       "data": 1.621587217942027,
       "encoder": "json",
       "name": "avg_cop",
       "version": 1
      }
     },
     "metadata": {
      "scrapbook": {
       "data": true,
       "display": false,
       "name": "avg_cop"
      }
     },
     "output_type": "display_data"
    },
    {
     "data": {
      "application/scrapbook.scrap.json+json": {
       "data": 0.7995386479860628,
       "encoder": "json",
       "name": "cohesion",
       "version": 1
      }
     },
     "metadata": {
      "scrapbook": {
       "data": true,
       "display": false,
       "name": "cohesion"
      }
     },
     "output_type": "display_data"
    },
    {
     "data": {
      "application/scrapbook.scrap.json+json": {
       "data": 5,
       "encoder": "json",
       "name": "n_calls",
       "version": 1
      }
     },
     "metadata": {
      "scrapbook": {
       "data": true,
       "display": false,
       "name": "n_calls"
      }
     },
     "output_type": "display_data"
    },
    {
     "data": {
      "application/scrapbook.scrap.json+json": {
       "data": 0,
       "encoder": "json",
       "name": "n_refs",
       "version": 1
      }
     },
     "metadata": {
      "scrapbook": {
       "data": true,
       "display": false,
       "name": "n_refs"
      }
     },
     "output_type": "display_data"
    },
    {
     "data": {
      "application/scrapbook.scrap.json+json": {
       "data": 16,
       "encoder": "json",
       "name": "n_uses",
       "version": 1
      }
     },
     "metadata": {
      "scrapbook": {
       "data": true,
       "display": false,
       "name": "n_uses"
      }
     },
     "output_type": "display_data"
    },
    {
     "data": {
      "application/scrapbook.scrap.json+json": {
       "data": 1,
       "encoder": "json",
       "name": "n_persist",
       "version": 1
      }
     },
     "metadata": {
      "scrapbook": {
       "data": true,
       "display": false,
       "name": "n_persist"
      }
     },
     "output_type": "display_data"
    },
    {
     "data": {
      "application/scrapbook.scrap.json+json": {
       "data": 51.27252457733733,
       "encoder": "json",
       "name": "total_w",
       "version": 1
      }
     },
     "metadata": {
      "scrapbook": {
       "data": true,
       "display": false,
       "name": "total_w"
      }
     },
     "output_type": "display_data"
    }
   ],
   "source": [
    "show_methods = False\n",
    "\n",
    "analysis_output = \"\"\n",
    "\n",
    "analysis_output += f'Found {str(n_micros)} microservices\\n'\n",
    "\n",
    "analysis_output += f'Total coupling value: {model.objVal} ({model.objVal/n_micros} avg.)\\n'\n",
    "analysis_output += f'Cohesion value: {cohesion}\\n\\n'\n",
    "\n",
    "for k in range(n_micros):\n",
    "    analysis_output += f'Entities in Microservice {str(k)}:\\n'\n",
    "    for i in G.nodes():\n",
    "        if G.nodes[i]['type'] == 'Entity' and x[i,k].x == 1:\n",
    "            analysis_output += f'- {G.nodes[i][\"name\"]}\\n'\n",
    "\n",
    "if show_methods:\n",
    "    for k in range(n_micros):\n",
    "        analysis_output += f'\\n\\nMethods in Microservice {str(k)}:\\n'\n",
    "        for i in G.nodes():\n",
    "            if G.nodes[i]['type'] == 'Method' and x[i,k].x == 1:\n",
    "                analysis_output += f'- {G.nodes[i][\"name\"]} ({G.nodes[i][\"class_name\"]})\\n'\n",
    "\n",
    "mcalls = 0\n",
    "references = 0\n",
    "uses = 0\n",
    "persists = 0\n",
    "\n",
    "for i,j in G.edges():\n",
    "    if y[i,j].x == 0:\n",
    "        if G[i][j]['rel_type'] == 'Calls':\n",
    "            mcalls += 1 \n",
    "        elif G[i][j]['rel_type'] == 'References':\n",
    "            references += 1\n",
    "        elif G[i][j]['rel_type'] == 'Uses':\n",
    "            uses += 1\n",
    "        elif G[i][j]['rel_type'] == 'Persists':\n",
    "            persists += 1\n",
    "\n",
    "analysis_output += f'\\n\\n\\n# of method calls crossing microservices: {mcalls}'\n",
    "analysis_output += f'\\n# of entity references crossing microservices: {references}'\n",
    "analysis_output += f'\\n# of entity usages crossing microservices: {uses}'\n",
    "analysis_output += f'\\n# of methods persisting entities of other microservices: {persists}'\n",
    "\n",
    "print(analysis_output)\n",
    "\n",
    "sb.glue(\"n_micros\", n_micros)\n",
    "sb.glue(\"avg_cop\", model.objVal/n_micros)\n",
    "sb.glue(\"cohesion\", cohesion)\n",
    "sb.glue(\"n_calls\", mcalls)\n",
    "sb.glue(\"n_refs\", references)\n",
    "sb.glue(\"n_uses\", uses)\n",
    "sb.glue(\"n_persist\", persists)\n",
    "sb.glue(\"total_w\", total_w)\n",
    "\n",
    "with open(analysis_out, 'w') as analysis_file:\n",
    "    analysis_file.write(analysis_output)"
   ]
  },
  {
   "cell_type": "code",
   "execution_count": 17,
   "id": "3519b123-a48c-4070-ab5f-b17393c76ad2",
   "metadata": {
    "editable": true,
    "execution": {
     "iopub.execute_input": "2025-09-27T04:15:29.278797Z",
     "iopub.status.busy": "2025-09-27T04:15:29.278366Z",
     "iopub.status.idle": "2025-09-27T04:15:29.292077Z",
     "shell.execute_reply": "2025-09-27T04:15:29.288172Z"
    },
    "papermill": {
     "duration": 0.037721,
     "end_time": "2025-09-27T04:15:29.294425",
     "exception": false,
     "start_time": "2025-09-27T04:15:29.256704",
     "status": "completed"
    },
    "slideshow": {
     "slide_type": ""
    },
    "tags": []
   },
   "outputs": [],
   "source": [
    "with open(solution_csv_out, 'w') as results_csv:\n",
    "    results_csv.write('node_key,microservice\\n')\n",
    "    counter = 0\n",
    "    for i in G.nodes():\n",
    "        for k in range(n_micros):\n",
    "            if x[i,k].x == 1:\n",
    "                results_csv.write(f'{i},{k}\\n')\n",
    "                counter+=1\n",
    "    \n",
    "    if counter!=len(G.nodes()):\n",
    "        print('Error! There are nodes not assigned into microservices?!')"
   ]
  },
  {
   "cell_type": "code",
   "execution_count": 18,
   "id": "6e8cfeef-174f-4742-ac5f-4862676bad36",
   "metadata": {
    "editable": true,
    "execution": {
     "iopub.execute_input": "2025-09-27T04:15:29.360958Z",
     "iopub.status.busy": "2025-09-27T04:15:29.360547Z",
     "iopub.status.idle": "2025-09-27T04:15:29.366789Z",
     "shell.execute_reply": "2025-09-27T04:15:29.365098Z"
    },
    "papermill": {
     "duration": 0.039345,
     "end_time": "2025-09-27T04:15:29.368883",
     "exception": false,
     "start_time": "2025-09-27T04:15:29.329538",
     "status": "completed"
    },
    "slideshow": {
     "slide_type": ""
    },
    "tags": []
   },
   "outputs": [],
   "source": [
    "if not headless:\n",
    "    DrawSol(G, x, graph_image_out)\n",
    "    \n",
    "    display(Image(filename = graph_image_out))"
   ]
  }
 ],
 "metadata": {
  "kernelspec": {
   "display_name": "Python 3 (ipykernel)",
   "language": "python",
   "name": "python3"
  },
  "language_info": {
   "codemirror_mode": {
    "name": "ipython",
    "version": 3
   },
   "file_extension": ".py",
   "mimetype": "text/x-python",
   "name": "python",
   "nbconvert_exporter": "python",
   "pygments_lexer": "ipython3",
   "version": "3.12.3"
  },
  "papermill": {
   "default_parameters": {},
   "duration": 16.73707,
   "end_time": "2025-09-27T04:15:30.208821",
   "environment_variables": {},
   "exception": null,
   "input_path": "2-Decomposition_optimization.ipynb",
   "output_path": "outputs/output_step_2_realworld-spring.ipynb",
   "parameters": {
    "headless": true,
    "project": "realworld-spring",
    "w": {
     "Calls": 0.3502793904700223,
     "Extends": 0.055467447464847164,
     "Persists": 0.261108188312347,
     "References": 0.05352974055867549,
     "Uses": 0.2796152331941081
    }
   },
   "start_time": "2025-09-27T04:15:13.471751",
   "version": "2.6.0"
  },
  "vscode": {
   "interpreter": {
    "hash": "84d57bcf988df7741739090f92038d55c89d5ee4bebfcc0bea6a6c98a16573ca"
   }
  }
 },
 "nbformat": 4,
 "nbformat_minor": 5
}