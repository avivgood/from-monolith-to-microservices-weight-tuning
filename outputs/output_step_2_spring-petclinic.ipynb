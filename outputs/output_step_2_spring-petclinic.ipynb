{
 "cells": [
  {
   "cell_type": "code",
   "execution_count": 1,
   "id": "63ce5fa3-e2cb-4565-ba94-8fa943d68162",
   "metadata": {
    "editable": true,
    "execution": {
     "iopub.execute_input": "2025-09-27T13:53:57.587746Z",
     "iopub.status.busy": "2025-09-27T13:53:57.583342Z",
     "iopub.status.idle": "2025-09-27T13:54:28.884254Z",
     "shell.execute_reply": "2025-09-27T13:54:28.881185Z"
    },
    "papermill": {
     "duration": 31.3719,
     "end_time": "2025-09-27T13:54:28.888665",
     "exception": false,
     "start_time": "2025-09-27T13:53:57.516765",
     "status": "completed"
    },
    "slideshow": {
     "slide_type": ""
    },
    "tags": []
   },
   "outputs": [],
   "source": [
    "#!/usr/bin/env python\n",
    "import scrapbook as sb\n",
    "import networkx as nx\n",
    "import pygraphviz as pygv\n",
    "import gurobipy as gb\n",
    "import json\n",
    "from community import community_louvain\n",
    "from IPython.display import Image, display\n",
    "\n",
    "def DrawSol (G, x, filename):\n",
    "    global n_micros\n",
    "\n",
    "    DrawG = pygv.AGraph(directed=True, strict='true', splines='true')\n",
    "\n",
    "    colors = ['green', 'blue', 'red', 'orange', 'yellow', 'purple', 'black', 'gray', 'cyan', 'brown', 'hotpink', 'navy', 'darkgreen', 'chocolate', 'deeppink', 'firebrick', 'gold', 'orchid', 'gold4']\n",
    "    \n",
    "    for i in G.nodes():\n",
    "        if G.nodes[i]['type'] == 'Entity':\n",
    "            shape='hexagon'\n",
    "        else:\n",
    "            shape='circle'\n",
    "\n",
    "        for k in range(n_micros):\n",
    "            if x[i,k].x == 1:\n",
    "                # Get cluster number k\n",
    "                if k<len(colors):\n",
    "                    color=colors[k]\n",
    "                else:\n",
    "                    color = 'black'\n",
    "        DrawG.add_node (i, color=color, shape=shape, width=0.1, fontsize=9, label=G.nodes[i]['name'])\n",
    "\n",
    "    for i in G.edges():\n",
    "        edge_color = 'black' if G[i[0]][i[1]]['rel_type'] in ['Calls','Persists', 'References'] else 'gray'\n",
    "        DrawG.add_edge(i[0], i[1], color=edge_color, label=G[i[0]][i[1]]['rel_type'], fontsize='8')\n",
    "        \n",
    "    DrawG.layout(prog='dot')\n",
    "    DrawG.draw(filename)"
   ]
  },
  {
   "cell_type": "markdown",
   "id": "e3e92b53-40f6-4740-8a99-c40877eb9681",
   "metadata": {
    "editable": true,
    "papermill": {
     "duration": 0.025756,
     "end_time": "2025-09-27T13:54:28.954643",
     "exception": false,
     "start_time": "2025-09-27T13:54:28.928887",
     "status": "completed"
    },
    "slideshow": {
     "slide_type": ""
    },
    "tags": []
   },
   "source": [
    "### _Configuration!_\n",
    "\n",
    "Keep the project list up-to-date and select the project to be analyzed"
   ]
  },
  {
   "cell_type": "markdown",
   "id": "369f6589-5ded-4162-85ea-3c37b9026765",
   "metadata": {
    "editable": true,
    "papermill": {
     "duration": 0.033591,
     "end_time": "2025-09-27T13:54:29.020931",
     "exception": false,
     "start_time": "2025-09-27T13:54:28.987340",
     "status": "completed"
    },
    "slideshow": {
     "slide_type": ""
    },
    "tags": []
   },
   "source": [
    "### _User input required!_\n",
    "\n",
    "Update, if needed the default weigth of the edges"
   ]
  },
  {
   "cell_type": "code",
   "execution_count": 2,
   "id": "05c7e2d2-7f39-4109-a665-36a40e5be7de",
   "metadata": {
    "editable": true,
    "execution": {
     "iopub.execute_input": "2025-09-27T13:54:29.095671Z",
     "iopub.status.busy": "2025-09-27T13:54:29.093520Z",
     "iopub.status.idle": "2025-09-27T13:54:29.131736Z",
     "shell.execute_reply": "2025-09-27T13:54:29.126644Z"
    },
    "papermill": {
     "duration": 0.077878,
     "end_time": "2025-09-27T13:54:29.138620",
     "exception": false,
     "start_time": "2025-09-27T13:54:29.060742",
     "status": "completed"
    },
    "slideshow": {
     "slide_type": ""
    },
    "tags": [
     "parameters"
    ]
   },
   "outputs": [],
   "source": [
    "project = 'jpetstore' # <-- Set this variable!\n",
    "# Weighting edges:\n",
    "w = dict()\n",
    "w['Calls']=0.8\n",
    "w['Persists']=1\n",
    "w['Uses']=0.6\n",
    "w['References']=0.2\n",
    "w['Extends']=0\n",
    "headless = False"
   ]
  },
  {
   "cell_type": "code",
   "execution_count": 3,
   "id": "b749017b",
   "metadata": {
    "execution": {
     "iopub.execute_input": "2025-09-27T13:54:29.280691Z",
     "iopub.status.busy": "2025-09-27T13:54:29.280116Z",
     "iopub.status.idle": "2025-09-27T13:54:29.303168Z",
     "shell.execute_reply": "2025-09-27T13:54:29.298435Z"
    },
    "papermill": {
     "duration": 0.098736,
     "end_time": "2025-09-27T13:54:29.307875",
     "exception": false,
     "start_time": "2025-09-27T13:54:29.209139",
     "status": "completed"
    },
    "tags": [
     "injected-parameters"
    ]
   },
   "outputs": [],
   "source": [
    "# Parameters\n",
    "project = \"spring-petclinic\"\n",
    "w = {\"Calls\": 0.10690435856124572, \"Persists\": 0.6415838011045456, \"References\": 0.06555731906666606, \"Extends\": 0.08937084843403942, \"Uses\": 0.09658367283350322}\n",
    "headless = True\n"
   ]
  },
  {
   "cell_type": "code",
   "execution_count": 4,
   "id": "654afedb-2f70-4c65-b23e-5e01c98d8d13",
   "metadata": {
    "editable": true,
    "execution": {
     "iopub.execute_input": "2025-09-27T13:54:29.411674Z",
     "iopub.status.busy": "2025-09-27T13:54:29.405104Z",
     "iopub.status.idle": "2025-09-27T13:54:29.434503Z",
     "shell.execute_reply": "2025-09-27T13:54:29.428921Z"
    },
    "papermill": {
     "duration": 0.093948,
     "end_time": "2025-09-27T13:54:29.441841",
     "exception": false,
     "start_time": "2025-09-27T13:54:29.347893",
     "status": "completed"
    },
    "slideshow": {
     "slide_type": ""
    },
    "tags": []
   },
   "outputs": [],
   "source": [
    "\n",
    "\n",
    "with open('projects.json', 'r') as projects:\n",
    "    project_found = False\n",
    "    for data in json.load(projects):\n",
    "        if data['name'] == project:\n",
    "            analysis_results_basedir = data['analysis_results_basedir']\n",
    "            project_found = True\n",
    "    if not project_found:\n",
    "        print('ERROR: project ' + project + ' does not appear in project.json')"
   ]
  },
  {
   "cell_type": "code",
   "execution_count": 5,
   "id": "c9f2f54d-61ce-4b68-a80a-68b94ef0ce32",
   "metadata": {
    "editable": true,
    "execution": {
     "iopub.execute_input": "2025-09-27T13:54:29.528141Z",
     "iopub.status.busy": "2025-09-27T13:54:29.523291Z",
     "iopub.status.idle": "2025-09-27T13:54:29.610503Z",
     "shell.execute_reply": "2025-09-27T13:54:29.589536Z"
    },
    "papermill": {
     "duration": 0.146185,
     "end_time": "2025-09-27T13:54:29.625099",
     "exception": false,
     "start_time": "2025-09-27T13:54:29.478914",
     "status": "completed"
    },
    "slideshow": {
     "slide_type": ""
    },
    "tags": []
   },
   "outputs": [],
   "source": [
    "# Set output names\n",
    "\n",
    "graph_in = analysis_results_basedir + project + '_graph.gml'\n",
    "communities_out = analysis_results_basedir + project + '_communities.csv'\n",
    "formulation_out = analysis_results_basedir + project + '_communities_improved_optimization.lp'\n",
    "solution_csv_out = analysis_results_basedir + project + '_sol_communities_improved_optimization.csv'\n",
    "graph_image_out = analysis_results_basedir + project + '_sol_communities_improved_optimization.png'\n",
    "analysis_out = analysis_results_basedir + project + '_sol_communities_improved_optimization.txt'"
   ]
  },
  {
   "cell_type": "code",
   "execution_count": 6,
   "id": "5c2c34a6-0072-4335-aa24-5592aa2b0eb7",
   "metadata": {
    "editable": true,
    "execution": {
     "iopub.execute_input": "2025-09-27T13:54:29.679481Z",
     "iopub.status.busy": "2025-09-27T13:54:29.672086Z",
     "iopub.status.idle": "2025-09-27T13:54:29.744037Z",
     "shell.execute_reply": "2025-09-27T13:54:29.737292Z"
    },
    "papermill": {
     "duration": 0.094033,
     "end_time": "2025-09-27T13:54:29.753339",
     "exception": false,
     "start_time": "2025-09-27T13:54:29.659306",
     "status": "completed"
    },
    "slideshow": {
     "slide_type": ""
    },
    "tags": []
   },
   "outputs": [],
   "source": [
    "# Import graph\n",
    "\n",
    "G = nx.read_graphml(graph_in)"
   ]
  },
  {
   "cell_type": "code",
   "execution_count": 7,
   "id": "dce09914-e79b-4094-8343-eb55557825f3",
   "metadata": {
    "editable": true,
    "execution": {
     "iopub.execute_input": "2025-09-27T13:54:29.843998Z",
     "iopub.status.busy": "2025-09-27T13:54:29.843193Z",
     "iopub.status.idle": "2025-09-27T13:54:29.866466Z",
     "shell.execute_reply": "2025-09-27T13:54:29.856242Z"
    },
    "papermill": {
     "duration": 0.07246,
     "end_time": "2025-09-27T13:54:29.872593",
     "exception": false,
     "start_time": "2025-09-27T13:54:29.800133",
     "status": "completed"
    },
    "slideshow": {
     "slide_type": ""
    },
    "tags": []
   },
   "outputs": [],
   "source": [
    "# Add edge weights\n",
    "\n",
    "for (i, j) in G.edges():\n",
    "    G[i][j]['w'] = w[G[i][j]['rel_type']]"
   ]
  },
  {
   "cell_type": "markdown",
   "id": "c98c18d6-f80e-47f3-91bd-258d444d2d08",
   "metadata": {
    "editable": true,
    "papermill": {
     "duration": 0.034937,
     "end_time": "2025-09-27T13:54:29.948072",
     "exception": false,
     "start_time": "2025-09-27T13:54:29.913135",
     "status": "completed"
    },
    "slideshow": {
     "slide_type": ""
    },
    "tags": []
   },
   "source": [
    "## Find communities"
   ]
  },
  {
   "cell_type": "code",
   "execution_count": 8,
   "id": "b1205d9e-4492-4c2d-8034-52c4323b3a20",
   "metadata": {
    "editable": true,
    "execution": {
     "iopub.execute_input": "2025-09-27T13:54:29.999603Z",
     "iopub.status.busy": "2025-09-27T13:54:29.998960Z",
     "iopub.status.idle": "2025-09-27T13:54:30.040497Z",
     "shell.execute_reply": "2025-09-27T13:54:30.034646Z"
    },
    "papermill": {
     "duration": 0.078179,
     "end_time": "2025-09-27T13:54:30.045368",
     "exception": false,
     "start_time": "2025-09-27T13:54:29.967189",
     "status": "completed"
    },
    "slideshow": {
     "slide_type": ""
    },
    "tags": []
   },
   "outputs": [],
   "source": [
    "H = nx.Graph(G) # create an undirected graph H from a directed graph G\n",
    "\n",
    "# compute the best partition\n",
    "communities = community_louvain.best_partition(H, weight='w')\n",
    "\n",
    "# write communities on file\n",
    "with open(communities_out, 'w') as csv_file:\n",
    "    csv_file.write('node, cluster/community\\n')\n",
    "    for node in communities:\n",
    "        csv_file.write(f'{node},{communities[node]}\\n')"
   ]
  },
  {
   "cell_type": "markdown",
   "id": "e6627e68-4939-4275-8ed8-43a323b64d2e",
   "metadata": {
    "editable": true,
    "papermill": {
     "duration": 0.045845,
     "end_time": "2025-09-27T13:54:30.137620",
     "exception": false,
     "start_time": "2025-09-27T13:54:30.091775",
     "status": "completed"
    },
    "slideshow": {
     "slide_type": ""
    },
    "tags": []
   },
   "source": [
    "## Find communities for the entity subgraph"
   ]
  },
  {
   "cell_type": "code",
   "execution_count": 9,
   "id": "476f02c9-d605-4213-8225-951cd9beb7e5",
   "metadata": {
    "editable": true,
    "execution": {
     "iopub.execute_input": "2025-09-27T13:54:30.234615Z",
     "iopub.status.busy": "2025-09-27T13:54:30.233955Z",
     "iopub.status.idle": "2025-09-27T13:54:30.290585Z",
     "shell.execute_reply": "2025-09-27T13:54:30.282833Z"
    },
    "papermill": {
     "duration": 0.118085,
     "end_time": "2025-09-27T13:54:30.298590",
     "exception": false,
     "start_time": "2025-09-27T13:54:30.180505",
     "status": "completed"
    },
    "slideshow": {
     "slide_type": ""
    },
    "tags": []
   },
   "outputs": [
    {
     "name": "stdout",
     "output_type": "stream",
     "text": [
      "Community 0:\n",
      " - Owner (id:0)\n",
      "Community 1:\n",
      " - Vet (id:6)\n",
      "Community 2:\n",
      " - PetType (id:3)\n"
     ]
    }
   ],
   "source": [
    "K = nx.Graph(G) # create an undirected graph H from a directed graph G\n",
    "\n",
    "# Remove non-entity nodes\n",
    "\n",
    "for i in list(K.nodes):\n",
    "    if K.nodes[i]['type']!='Entity':\n",
    "        K.remove_node(i)\n",
    "\n",
    "# Obtain subgraph of entities that have direct relationships with the persistence layer:\n",
    "    \n",
    "        \n",
    "# compute the best partition\n",
    "entity_cluster = community_louvain.best_partition(K, weight='w')\n",
    "\n",
    "# Remove nodes that do not have direct relationships with methods from the cluster dictionary:\n",
    "e_dict = dict()\n",
    "# Check if entity has a relationship with some method of the persistence layer (it will remove entities from the controller model, for instance)\n",
    "for e in entity_cluster:\n",
    "    e_dict[e] = False\n",
    "    for (i,j) in G.edges():\n",
    "        if e==j and G[i][j]['rel_type'] in ['Persists']:\n",
    "            e_dict[e]=True\n",
    "\n",
    "# Remove non-related entities\n",
    "for entity_to_remove in e_dict:\n",
    "    if not e_dict[entity_to_remove]:\n",
    "        # print('INFO: Entity ' + G.nodes[entity_to_remove]['name'] + ' removed from the clusters')\n",
    "        entity_cluster.pop(entity_to_remove)\n",
    "\n",
    "for i in set(entity_cluster.values()):\n",
    "    print(f'Community {i}:')\n",
    "    for entity, cluster in entity_cluster.items():\n",
    "        if cluster == i:\n",
    "            print(f' - {G.nodes()[entity][\"name\"]} (id:{entity})')"
   ]
  },
  {
   "cell_type": "markdown",
   "id": "9d385bf2-cf31-45e0-8d84-fd44715a1028",
   "metadata": {
    "editable": true,
    "papermill": {
     "duration": 0.019681,
     "end_time": "2025-09-27T13:54:30.339150",
     "exception": false,
     "start_time": "2025-09-27T13:54:30.319469",
     "status": "completed"
    },
    "slideshow": {
     "slide_type": ""
    },
    "tags": []
   },
   "source": [
    "### _User input required!_\n",
    "\n",
    "Refine, if needed, entity clusters"
   ]
  },
  {
   "cell_type": "code",
   "execution_count": 10,
   "id": "021636e9-07ea-45c6-9eab-e34e93503e9b",
   "metadata": {
    "editable": true,
    "execution": {
     "iopub.execute_input": "2025-09-27T13:54:30.430005Z",
     "iopub.status.busy": "2025-09-27T13:54:30.429311Z",
     "iopub.status.idle": "2025-09-27T13:54:30.465484Z",
     "shell.execute_reply": "2025-09-27T13:54:30.463770Z"
    },
    "papermill": {
     "duration": 0.099769,
     "end_time": "2025-09-27T13:54:30.472202",
     "exception": false,
     "start_time": "2025-09-27T13:54:30.372433",
     "status": "completed"
    },
    "slideshow": {
     "slide_type": ""
    },
    "tags": []
   },
   "outputs": [],
   "source": [
    "# Remove entity from its cluster\n",
    "entity_ids_to_remove = [] # <-- Put Ids as strings (example: ['1', '3']\n",
    "\n",
    "# Place entity into a cluster\n",
    "entities_clusters_to_place = [] # <-- Example: entity X in cluster Y: ('X', 5)\n",
    "\n",
    "\n",
    "for e in entity_ids_to_remove:\n",
    "    entity_cluster.pop(e)\n",
    "    print(f'INFO: Removed entity {G.nodes()[e][\"name\"]} from clusters')\n",
    "\n",
    "for (e, cluster) in entities_clusters_to_place:\n",
    "    entity_cluster[e] = cluster\n",
    "    print(f'INFO: Entity {G.nodes()[e][\"name\"]} put into cluster {cluster}')"
   ]
  },
  {
   "cell_type": "code",
   "execution_count": 11,
   "id": "03cb8c9a-f2d0-46ad-a857-11e31be27470",
   "metadata": {
    "editable": true,
    "execution": {
     "iopub.execute_input": "2025-09-27T13:54:30.526979Z",
     "iopub.status.busy": "2025-09-27T13:54:30.523130Z",
     "iopub.status.idle": "2025-09-27T13:54:30.551310Z",
     "shell.execute_reply": "2025-09-27T13:54:30.547713Z"
    },
    "papermill": {
     "duration": 0.060186,
     "end_time": "2025-09-27T13:54:30.559379",
     "exception": false,
     "start_time": "2025-09-27T13:54:30.499193",
     "status": "completed"
    },
    "slideshow": {
     "slide_type": ""
    },
    "tags": []
   },
   "outputs": [
    {
     "name": "stdout",
     "output_type": "stream",
     "text": [
      "Entities in community 0: ['Owner']\n",
      "Entities in community 1: ['PetType']\n",
      "Entities in community 2: ['Vet']\n"
     ]
    }
   ],
   "source": [
    "# Some cluster may have disappeared: remaining clusters need to be renumbered\n",
    "cluster_map = dict()\n",
    "counter=0\n",
    "number_mapping = dict() # maps the old cluster number with the new one\n",
    "for entity_key, old_number in entity_cluster.items():\n",
    "    if old_number not in number_mapping:\n",
    "        number_mapping[old_number] = counter\n",
    "        counter+=1\n",
    "    cluster_map[number_mapping[old_number]] = cluster_map.get(number_mapping[old_number], []) + [entity_key]\n",
    "    \n",
    "for cluster in cluster_map:\n",
    "    print('Entities in community ' + str(cluster) + ': ' + str([G.nodes[entity_key]['name'] for entity_key in cluster_map[cluster]]))\n",
    "\n",
    "n_micros = len(cluster_map)"
   ]
  },
  {
   "cell_type": "code",
   "execution_count": 12,
   "id": "bd909d53-3681-43aa-baa0-5d38556bb40b",
   "metadata": {
    "editable": true,
    "execution": {
     "iopub.execute_input": "2025-09-27T13:54:30.614060Z",
     "iopub.status.busy": "2025-09-27T13:54:30.613114Z",
     "iopub.status.idle": "2025-09-27T13:54:30.651528Z",
     "shell.execute_reply": "2025-09-27T13:54:30.648018Z"
    },
    "papermill": {
     "duration": 0.081679,
     "end_time": "2025-09-27T13:54:30.661986",
     "exception": false,
     "start_time": "2025-09-27T13:54:30.580307",
     "status": "completed"
    },
    "slideshow": {
     "slide_type": ""
    },
    "tags": []
   },
   "outputs": [
    {
     "name": "stdout",
     "output_type": "stream",
     "text": [
      "Entities in community 0 are in clusters: [0]\n",
      "Entities in community 2 are in clusters: []\n",
      "Entities in community 3 are in clusters: [1]\n",
      "Entities in community 1 are in clusters: [2]\n",
      "Relaxed communities: []\n"
     ]
    }
   ],
   "source": [
    "# Resolve conflicts of distribution of entities into communities: if entities of the same community are in different clusters, then remove the community from the dictionary\n",
    "\n",
    "communities_dict = dict() # Map community -> entities into the communities\n",
    "\n",
    "\n",
    "for node in G.nodes():\n",
    "    if G.nodes[node]['type'] == 'Entity':\n",
    "        communities_dict[communities[node]] = communities_dict.get(communities[node], []) + [node]\n",
    "\n",
    "communities_to_relax = []\n",
    "\n",
    "for community in communities_dict:\n",
    "    clusters = []\n",
    "    for cluster, entities in cluster_map.items():\n",
    "        for e in entities:\n",
    "            if e in communities_dict[community]:\n",
    "                clusters.append(cluster)\n",
    "    print(f'Entities in community {community} are in clusters: {clusters}')\n",
    "    if len(clusters) > 0 and not all(clusters[0] == c for c in clusters):\n",
    "        #print(f'Remove community {community}')\n",
    "        communities_to_relax.append(community)\n",
    "\n",
    "nodes_to_remove_from_dict = []\n",
    "for node in communities.keys():\n",
    "    if communities[node] in communities_to_relax:\n",
    "        nodes_to_remove_from_dict.append(node)\n",
    "\n",
    "for node in nodes_to_remove_from_dict:\n",
    "    del communities[node]\n",
    "\n",
    "print(f'Relaxed communities: {communities_to_relax}')"
   ]
  },
  {
   "cell_type": "markdown",
   "id": "3c6fe2ac-0fb0-456d-8b81-8d93a3439be8",
   "metadata": {
    "editable": true,
    "papermill": {
     "duration": 0.036173,
     "end_time": "2025-09-27T13:54:30.759555",
     "exception": false,
     "start_time": "2025-09-27T13:54:30.723382",
     "status": "completed"
    },
    "slideshow": {
     "slide_type": ""
    },
    "tags": []
   },
   "source": [
    "## ILP Formulation"
   ]
  },
  {
   "cell_type": "code",
   "execution_count": 13,
   "id": "bceb7240-b83a-4b0b-b380-b95cd1bb2b0e",
   "metadata": {
    "editable": true,
    "execution": {
     "iopub.execute_input": "2025-09-27T13:54:30.809324Z",
     "iopub.status.busy": "2025-09-27T13:54:30.808563Z",
     "iopub.status.idle": "2025-09-27T13:54:32.705266Z",
     "shell.execute_reply": "2025-09-27T13:54:32.702013Z"
    },
    "papermill": {
     "duration": 1.919851,
     "end_time": "2025-09-27T13:54:32.709358",
     "exception": false,
     "start_time": "2025-09-27T13:54:30.789507",
     "status": "completed"
    },
    "slideshow": {
     "slide_type": ""
    },
    "tags": []
   },
   "outputs": [
    {
     "name": "stdout",
     "output_type": "stream",
     "text": [
      "Set parameter WLSAccessID\n"
     ]
    },
    {
     "name": "stdout",
     "output_type": "stream",
     "text": [
      "Set parameter WLSSecret\n"
     ]
    },
    {
     "name": "stdout",
     "output_type": "stream",
     "text": [
      "Set parameter LicenseID to value 2713550\n"
     ]
    },
    {
     "name": "stdout",
     "output_type": "stream",
     "text": [
      "Academic license 2713550 - for non-commercial use only - registered to av___@gmail.com\n"
     ]
    }
   ],
   "source": [
    "model = gb.Model()\n",
    "\n",
    "# Variables\n",
    "x = model.addVars(((i,k) for i in G.nodes() for k in range(n_micros)),\\\n",
    "                  vtype=gb.GRB.BINARY, name='x')\n",
    "\n",
    "z = model.addVars(((i,j,k) for (i,j) in G.edges() for k in range(n_micros)), vtype=gb.GRB.BINARY, name='z')\n",
    "\n",
    "y = model.addVars(((i,j) for (i,j) in G.edges()), vtype=gb.GRB.BINARY, name='y')\n",
    "\n",
    "# Each node has to be in one and only one microservice\n",
    "model.addConstrs((x.sum(i, '*') == 1 for i in G.nodes()), name='(1)microservice-belonging')\n",
    "\n",
    "# A microservice can not be composed of entities only\n",
    "model.addConstrs((gb.quicksum(x[i,k] for i in G.nodes() if G.nodes[i]['type']!='Entity') >= 1 for k in range(n_micros)), name='(2)microservice-composition')\n",
    "\n",
    "# Bonding variables\n",
    "model.addConstrs((z[i,j,k]-x[i,k] <= 0 for (i,j) in G.edges() for k in range(n_micros)), name='(3)bonding-z-to-x')\n",
    "model.addConstrs((z[i,j,k]-x[j,k] <= 0 for (i,j) in G.edges() for k in range(n_micros)), name='(4)bonding-z-to-x')\n",
    "model.addConstrs((x[i,k]+x[j,k]-z[i,j,k] <= 1 for (i,j) in G.edges() for k in range(n_micros)), name='(5)bonding-z-to-x')\n",
    "\n",
    "model.addConstrs((y[i,j]==gb.quicksum(z[i,j,k] for k in range(n_micros)) for (i,j) in G.edges()), name='(6)bonding-y-to-z')\n",
    "\n",
    "\n",
    "########## Added constraints ##########\n",
    "\n",
    "# Force each entity from the kth cluster to be in the kth microservice\n",
    "model.addConstrs((x[i,k]==1 for k in cluster_map for i in cluster_map[k]), name='(7)bonding-x-to-entity-clusters')\n",
    "\n",
    "# Force node of the same community to be in the same (consider a community only if there are not entities from different clusters)\n",
    "communities_constraint = model.addConstrs((y[i,j]==1 for (i,j) in G.edges() if i in communities and j in communities and communities[i]==communities[j]), name='(8)bonding-y-to-communities')\n",
    "\n",
    "\n",
    "########## Objective function ##########\n",
    "\n",
    "coupling = gb.quicksum(G.edges[i,j]['w']*(1-y[i,j]) for (i,j) in G.edges())\n",
    "\n",
    "model.setObjective(coupling, gb.GRB.MINIMIZE)\n",
    "\n",
    "model.write(formulation_out)"
   ]
  },
  {
   "cell_type": "code",
   "execution_count": 14,
   "id": "081eb8b2-d436-45fa-886c-7051ff07d125",
   "metadata": {
    "editable": true,
    "execution": {
     "iopub.execute_input": "2025-09-27T13:54:32.826912Z",
     "iopub.status.busy": "2025-09-27T13:54:32.818593Z",
     "iopub.status.idle": "2025-09-27T13:54:33.016646Z",
     "shell.execute_reply": "2025-09-27T13:54:33.014924Z"
    },
    "papermill": {
     "duration": 0.278601,
     "end_time": "2025-09-27T13:54:33.030993",
     "exception": false,
     "start_time": "2025-09-27T13:54:32.752392",
     "status": "completed"
    },
    "slideshow": {
     "slide_type": ""
    },
    "tags": []
   },
   "outputs": [
    {
     "name": "stdout",
     "output_type": "stream",
     "text": [
      "Gurobi Optimizer version 12.0.3 build v12.0.3rc0 (linux64 - \"Linux Mint 22.1\")\n"
     ]
    },
    {
     "name": "stdout",
     "output_type": "stream",
     "text": [
      "\n"
     ]
    },
    {
     "name": "stdout",
     "output_type": "stream",
     "text": [
      "CPU model: Intel(R) Core(TM) i7-8550U CPU @ 1.80GHz, instruction set [SSE2|AVX|AVX2]\n"
     ]
    },
    {
     "name": "stdout",
     "output_type": "stream",
     "text": [
      "Thread count: 4 physical cores, 8 logical processors, using up to 8 threads\n"
     ]
    },
    {
     "name": "stdout",
     "output_type": "stream",
     "text": [
      "\n"
     ]
    },
    {
     "name": "stdout",
     "output_type": "stream",
     "text": [
      "Academic license 2713550 - for non-commercial use only - registered to av___@gmail.com\n"
     ]
    },
    {
     "name": "stdout",
     "output_type": "stream",
     "text": [
      "Optimize a model with 762 rows, 385 columns and 1929 nonzeros\n"
     ]
    },
    {
     "name": "stdout",
     "output_type": "stream",
     "text": [
      "Model fingerprint: 0xcedeb43b\n"
     ]
    },
    {
     "name": "stdout",
     "output_type": "stream",
     "text": [
      "Variable types: 0 continuous, 385 integer (385 binary)\n"
     ]
    },
    {
     "name": "stdout",
     "output_type": "stream",
     "text": [
      "Coefficient statistics:\n"
     ]
    },
    {
     "name": "stdout",
     "output_type": "stream",
     "text": [
      "  Matrix range     [1e+00, 1e+00]\n"
     ]
    },
    {
     "name": "stdout",
     "output_type": "stream",
     "text": [
      "  Objective range  [7e-02, 6e-01]\n"
     ]
    },
    {
     "name": "stdout",
     "output_type": "stream",
     "text": [
      "  Bounds range     [1e+00, 1e+00]\n"
     ]
    },
    {
     "name": "stdout",
     "output_type": "stream",
     "text": [
      "  RHS range        [1e+00, 1e+00]\n"
     ]
    },
    {
     "name": "stdout",
     "output_type": "stream",
     "text": [
      "Presolve removed 762 rows and 385 columns\n"
     ]
    },
    {
     "name": "stdout",
     "output_type": "stream",
     "text": [
      "Presolve time: 0.03s\n"
     ]
    },
    {
     "name": "stdout",
     "output_type": "stream",
     "text": [
      "Presolve: All rows and columns removed\n"
     ]
    },
    {
     "name": "stdout",
     "output_type": "stream",
     "text": [
      "\n"
     ]
    },
    {
     "name": "stdout",
     "output_type": "stream",
     "text": [
      "Explored 0 nodes (0 simplex iterations) in 0.10 seconds (0.00 work units)\n"
     ]
    },
    {
     "name": "stdout",
     "output_type": "stream",
     "text": [
      "Thread count was 1 (of 8 available processors)\n"
     ]
    },
    {
     "name": "stdout",
     "output_type": "stream",
     "text": [
      "\n"
     ]
    },
    {
     "name": "stdout",
     "output_type": "stream",
     "text": [
      "Solution count 1: 0.423041 \n"
     ]
    },
    {
     "name": "stdout",
     "output_type": "stream",
     "text": [
      "\n"
     ]
    },
    {
     "name": "stdout",
     "output_type": "stream",
     "text": [
      "Optimal solution found (tolerance 1.00e-04)\n"
     ]
    },
    {
     "name": "stdout",
     "output_type": "stream",
     "text": [
      "Best objective 4.230407128028e-01, best bound 4.230407128028e-01, gap 0.0000%\n"
     ]
    }
   ],
   "source": [
    "model.optimize()"
   ]
  },
  {
   "cell_type": "markdown",
   "id": "c2bb0cfd-3f6e-4806-908c-628a86f4574f",
   "metadata": {
    "editable": true,
    "papermill": {
     "duration": 0.016346,
     "end_time": "2025-09-27T13:54:33.234348",
     "exception": false,
     "start_time": "2025-09-27T13:54:33.218002",
     "status": "completed"
    },
    "slideshow": {
     "slide_type": ""
    },
    "tags": []
   },
   "source": [
    "## Result Analysis"
   ]
  },
  {
   "cell_type": "code",
   "execution_count": 15,
   "id": "78f5ab5d-204b-48b6-bec9-9e2647d47855",
   "metadata": {
    "editable": true,
    "execution": {
     "iopub.execute_input": "2025-09-27T13:54:33.276630Z",
     "iopub.status.busy": "2025-09-27T13:54:33.270471Z",
     "iopub.status.idle": "2025-09-27T13:54:33.329878Z",
     "shell.execute_reply": "2025-09-27T13:54:33.322058Z"
    },
    "papermill": {
     "duration": 0.08225,
     "end_time": "2025-09-27T13:54:33.333443",
     "exception": false,
     "start_time": "2025-09-27T13:54:33.251193",
     "status": "completed"
    },
    "slideshow": {
     "slide_type": ""
    },
    "tags": []
   },
   "outputs": [],
   "source": [
    "# Compute cohesion:\n",
    "inside_w = dict()\n",
    "outside_w = dict()\n",
    "total_w = 0\n",
    "\n",
    "for i,j in G.edges():\n",
    "    total_w += G[i][j]['w']\n",
    "    for k in range(n_micros):\n",
    "        if z[i,j,k].x == 1: # Edge (i,j) is inside microservice k: sum the weight as inside\n",
    "            inside_w[k] = inside_w.get(k, 0) + G[i][j]['w']\n",
    "        if x[i,k].x == 1: # Edge (i,j) has its origin in k: sum the weigth as outside\n",
    "            outside_w[k] = outside_w.get(k, 0) + G[i][j]['w']\n",
    "\n",
    "cohesion_dict = dict()\n",
    "for k in range(n_micros):\n",
    "    cohesion_dict[k] = inside_w[k] / outside_w[k]\n",
    "\n",
    "cohesion = sum(cohesion_dict.values())/n_micros"
   ]
  },
  {
   "cell_type": "code",
   "execution_count": 16,
   "id": "b4f4589c-f9db-4123-89b3-9d1266b6297b",
   "metadata": {
    "editable": true,
    "execution": {
     "iopub.execute_input": "2025-09-27T13:54:33.445979Z",
     "iopub.status.busy": "2025-09-27T13:54:33.443912Z",
     "iopub.status.idle": "2025-09-27T13:54:33.794137Z",
     "shell.execute_reply": "2025-09-27T13:54:33.792370Z"
    },
    "papermill": {
     "duration": 0.421684,
     "end_time": "2025-09-27T13:54:33.805602",
     "exception": false,
     "start_time": "2025-09-27T13:54:33.383918",
     "status": "completed"
    },
    "slideshow": {
     "slide_type": ""
    },
    "tags": []
   },
   "outputs": [
    {
     "name": "stdout",
     "output_type": "stream",
     "text": [
      "Found 3 microservices\n",
      "Total coupling value: 0.42304071280283573 (0.14101357093427858 avg.)\n",
      "Cohesion value: 0.9518482370644584\n",
      "\n",
      "Entities in Microservice 0:\n",
      "- Owner\n",
      "- Visit\n",
      "- Pet\n",
      "Entities in Microservice 1:\n",
      "- PetType\n",
      "Entities in Microservice 2:\n",
      "- Specialty\n",
      "- Vets\n",
      "- Vet\n",
      "- BaseEntity\n",
      "- Person\n",
      "- NamedEntity\n",
      "\n",
      "\n",
      "\n",
      "# of method calls crossing microservices: 0\n",
      "# of entity references crossing microservices: 1\n",
      "# of entity usages crossing microservices: 0\n",
      "# of methods persisting entities of other microservices: 0\n"
     ]
    },
    {
     "data": {
      "application/scrapbook.scrap.json+json": {
       "data": 3,
       "encoder": "json",
       "name": "n_micros",
       "version": 1
      }
     },
     "metadata": {
      "scrapbook": {
       "data": true,
       "display": false,
       "name": "n_micros"
      }
     },
     "output_type": "display_data"
    },
    {
     "data": {
      "application/scrapbook.scrap.json+json": {
       "data": 0.14101357093427858,
       "encoder": "json",
       "name": "avg_cop",
       "version": 1
      }
     },
     "metadata": {
      "scrapbook": {
       "data": true,
       "display": false,
       "name": "avg_cop"
      }
     },
     "output_type": "display_data"
    },
    {
     "data": {
      "application/scrapbook.scrap.json+json": {
       "data": 0.9518482370644584,
       "encoder": "json",
       "name": "cohesion",
       "version": 1
      }
     },
     "metadata": {
      "scrapbook": {
       "data": true,
       "display": false,
       "name": "cohesion"
      }
     },
     "output_type": "display_data"
    },
    {
     "data": {
      "application/scrapbook.scrap.json+json": {
       "data": 0,
       "encoder": "json",
       "name": "n_calls",
       "version": 1
      }
     },
     "metadata": {
      "scrapbook": {
       "data": true,
       "display": false,
       "name": "n_calls"
      }
     },
     "output_type": "display_data"
    },
    {
     "data": {
      "application/scrapbook.scrap.json+json": {
       "data": 1,
       "encoder": "json",
       "name": "n_refs",
       "version": 1
      }
     },
     "metadata": {
      "scrapbook": {
       "data": true,
       "display": false,
       "name": "n_refs"
      }
     },
     "output_type": "display_data"
    },
    {
     "data": {
      "application/scrapbook.scrap.json+json": {
       "data": 0,
       "encoder": "json",
       "name": "n_uses",
       "version": 1
      }
     },
     "metadata": {
      "scrapbook": {
       "data": true,
       "display": false,
       "name": "n_uses"
      }
     },
     "output_type": "display_data"
    },
    {
     "data": {
      "application/scrapbook.scrap.json+json": {
       "data": 0,
       "encoder": "json",
       "name": "n_persist",
       "version": 1
      }
     },
     "metadata": {
      "scrapbook": {
       "data": true,
       "display": false,
       "name": "n_persist"
      }
     },
     "output_type": "display_data"
    },
    {
     "data": {
      "application/scrapbook.scrap.json+json": {
       "data": 9.703724142812709,
       "encoder": "json",
       "name": "total_w",
       "version": 1
      }
     },
     "metadata": {
      "scrapbook": {
       "data": true,
       "display": false,
       "name": "total_w"
      }
     },
     "output_type": "display_data"
    }
   ],
   "source": [
    "show_methods = False\n",
    "\n",
    "analysis_output = \"\"\n",
    "\n",
    "analysis_output += f'Found {str(n_micros)} microservices\\n'\n",
    "\n",
    "analysis_output += f'Total coupling value: {model.objVal} ({model.objVal/n_micros} avg.)\\n'\n",
    "analysis_output += f'Cohesion value: {cohesion}\\n\\n'\n",
    "\n",
    "for k in range(n_micros):\n",
    "    analysis_output += f'Entities in Microservice {str(k)}:\\n'\n",
    "    for i in G.nodes():\n",
    "        if G.nodes[i]['type'] == 'Entity' and x[i,k].x == 1:\n",
    "            analysis_output += f'- {G.nodes[i][\"name\"]}\\n'\n",
    "\n",
    "if show_methods:\n",
    "    for k in range(n_micros):\n",
    "        analysis_output += f'\\n\\nMethods in Microservice {str(k)}:\\n'\n",
    "        for i in G.nodes():\n",
    "            if G.nodes[i]['type'] == 'Method' and x[i,k].x == 1:\n",
    "                analysis_output += f'- {G.nodes[i][\"name\"]} ({G.nodes[i][\"class_name\"]})\\n'\n",
    "\n",
    "mcalls = 0\n",
    "references = 0\n",
    "uses = 0\n",
    "persists = 0\n",
    "\n",
    "for i,j in G.edges():\n",
    "    if y[i,j].x == 0:\n",
    "        if G[i][j]['rel_type'] == 'Calls':\n",
    "            mcalls += 1 \n",
    "        elif G[i][j]['rel_type'] == 'References':\n",
    "            references += 1\n",
    "        elif G[i][j]['rel_type'] == 'Uses':\n",
    "            uses += 1\n",
    "        elif G[i][j]['rel_type'] == 'Persists':\n",
    "            persists += 1\n",
    "\n",
    "analysis_output += f'\\n\\n\\n# of method calls crossing microservices: {mcalls}'\n",
    "analysis_output += f'\\n# of entity references crossing microservices: {references}'\n",
    "analysis_output += f'\\n# of entity usages crossing microservices: {uses}'\n",
    "analysis_output += f'\\n# of methods persisting entities of other microservices: {persists}'\n",
    "\n",
    "print(analysis_output)\n",
    "\n",
    "sb.glue(\"n_micros\", n_micros)\n",
    "sb.glue(\"avg_cop\", model.objVal/n_micros)\n",
    "sb.glue(\"cohesion\", cohesion)\n",
    "sb.glue(\"n_calls\", mcalls)\n",
    "sb.glue(\"n_refs\", references)\n",
    "sb.glue(\"n_uses\", uses)\n",
    "sb.glue(\"n_persist\", persists)\n",
    "sb.glue(\"total_w\", total_w)\n",
    "\n",
    "with open(analysis_out, 'w') as analysis_file:\n",
    "    analysis_file.write(analysis_output)"
   ]
  },
  {
   "cell_type": "code",
   "execution_count": 17,
   "id": "3519b123-a48c-4070-ab5f-b17393c76ad2",
   "metadata": {
    "editable": true,
    "execution": {
     "iopub.execute_input": "2025-09-27T13:54:33.944961Z",
     "iopub.status.busy": "2025-09-27T13:54:33.939183Z",
     "iopub.status.idle": "2025-09-27T13:54:33.975407Z",
     "shell.execute_reply": "2025-09-27T13:54:33.972182Z"
    },
    "papermill": {
     "duration": 0.120698,
     "end_time": "2025-09-27T13:54:33.990566",
     "exception": false,
     "start_time": "2025-09-27T13:54:33.869868",
     "status": "completed"
    },
    "slideshow": {
     "slide_type": ""
    },
    "tags": []
   },
   "outputs": [],
   "source": [
    "with open(solution_csv_out, 'w') as results_csv:\n",
    "    results_csv.write('node_key,microservice\\n')\n",
    "    counter = 0\n",
    "    for i in G.nodes():\n",
    "        for k in range(n_micros):\n",
    "            if x[i,k].x == 1:\n",
    "                results_csv.write(f'{i},{k}\\n')\n",
    "                counter+=1\n",
    "    \n",
    "    if counter!=len(G.nodes()):\n",
    "        print('Error! There are nodes not assigned into microservices?!')"
   ]
  },
  {
   "cell_type": "code",
   "execution_count": 18,
   "id": "6e8cfeef-174f-4742-ac5f-4862676bad36",
   "metadata": {
    "editable": true,
    "execution": {
     "iopub.execute_input": "2025-09-27T13:54:34.094041Z",
     "iopub.status.busy": "2025-09-27T13:54:34.093019Z",
     "iopub.status.idle": "2025-09-27T13:54:34.109550Z",
     "shell.execute_reply": "2025-09-27T13:54:34.105019Z"
    },
    "papermill": {
     "duration": 0.045183,
     "end_time": "2025-09-27T13:54:34.113455",
     "exception": false,
     "start_time": "2025-09-27T13:54:34.068272",
     "status": "completed"
    },
    "slideshow": {
     "slide_type": ""
    },
    "tags": []
   },
   "outputs": [],
   "source": [
    "if not headless:\n",
    "    DrawSol(G, x, graph_image_out)\n",
    "    \n",
    "    display(Image(filename = graph_image_out))"
   ]
  }
 ],
 "metadata": {
  "kernelspec": {
   "display_name": "Python 3 (ipykernel)",
   "language": "python",
   "name": "python3"
  },
  "language_info": {
   "codemirror_mode": {
    "name": "ipython",
    "version": 3
   },
   "file_extension": ".py",
   "mimetype": "text/x-python",
   "name": "python",
   "nbconvert_exporter": "python",
   "pygments_lexer": "ipython3",
   "version": "3.12.3"
  },
  "papermill": {
   "default_parameters": {},
   "duration": 42.816251,
   "end_time": "2025-09-27T13:54:36.080460",
   "environment_variables": {},
   "exception": null,
   "input_path": "2-Decomposition_optimization.ipynb",
   "output_path": "outputs/output_step_2_spring-petclinic.ipynb",
   "parameters": {
    "headless": true,
    "project": "spring-petclinic",
    "w": {
     "Calls": 0.10690435856124572,
     "Extends": 0.08937084843403942,
     "Persists": 0.6415838011045456,
     "References": 0.06555731906666606,
     "Uses": 0.09658367283350322
    }
   },
   "start_time": "2025-09-27T13:53:53.264209",
   "version": "2.6.0"
  },
  "vscode": {
   "interpreter": {
    "hash": "84d57bcf988df7741739090f92038d55c89d5ee4bebfcc0bea6a6c98a16573ca"
   }
  }
 },
 "nbformat": 4,
 "nbformat_minor": 5
}