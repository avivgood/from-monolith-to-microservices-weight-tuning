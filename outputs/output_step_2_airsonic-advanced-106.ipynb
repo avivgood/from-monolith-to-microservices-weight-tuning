{
 "cells": [
  {
   "cell_type": "code",
   "execution_count": 1,
   "id": "63ce5fa3-e2cb-4565-ba94-8fa943d68162",
   "metadata": {
    "editable": true,
    "execution": {
     "iopub.execute_input": "2025-09-27T13:54:21.322318Z",
     "iopub.status.busy": "2025-09-27T13:54:21.321700Z",
     "iopub.status.idle": "2025-09-27T13:54:49.483532Z",
     "shell.execute_reply": "2025-09-27T13:54:49.481950Z"
    },
    "papermill": {
     "duration": 28.288983,
     "end_time": "2025-09-27T13:54:49.489683",
     "exception": false,
     "start_time": "2025-09-27T13:54:21.200700",
     "status": "completed"
    },
    "slideshow": {
     "slide_type": ""
    },
    "tags": []
   },
   "outputs": [],
   "source": [
    "#!/usr/bin/env python\n",
    "import scrapbook as sb\n",
    "import networkx as nx\n",
    "import pygraphviz as pygv\n",
    "import gurobipy as gb\n",
    "import json\n",
    "from community import community_louvain\n",
    "from IPython.display import Image, display\n",
    "\n",
    "def DrawSol (G, x, filename):\n",
    "    global n_micros\n",
    "\n",
    "    DrawG = pygv.AGraph(directed=True, strict='true', splines='true')\n",
    "\n",
    "    colors = ['green', 'blue', 'red', 'orange', 'yellow', 'purple', 'black', 'gray', 'cyan', 'brown', 'hotpink', 'navy', 'darkgreen', 'chocolate', 'deeppink', 'firebrick', 'gold', 'orchid', 'gold4']\n",
    "    \n",
    "    for i in G.nodes():\n",
    "        if G.nodes[i]['type'] == 'Entity':\n",
    "            shape='hexagon'\n",
    "        else:\n",
    "            shape='circle'\n",
    "\n",
    "        for k in range(n_micros):\n",
    "            if x[i,k].x == 1:\n",
    "                # Get cluster number k\n",
    "                if k<len(colors):\n",
    "                    color=colors[k]\n",
    "                else:\n",
    "                    color = 'black'\n",
    "        DrawG.add_node (i, color=color, shape=shape, width=0.1, fontsize=9, label=G.nodes[i]['name'])\n",
    "\n",
    "    for i in G.edges():\n",
    "        edge_color = 'black' if G[i[0]][i[1]]['rel_type'] in ['Calls','Persists', 'References'] else 'gray'\n",
    "        DrawG.add_edge(i[0], i[1], color=edge_color, label=G[i[0]][i[1]]['rel_type'], fontsize='8')\n",
    "        \n",
    "    DrawG.layout(prog='dot')\n",
    "    DrawG.draw(filename)"
   ]
  },
  {
   "cell_type": "markdown",
   "id": "e3e92b53-40f6-4740-8a99-c40877eb9681",
   "metadata": {
    "editable": true,
    "papermill": {
     "duration": 0.063819,
     "end_time": "2025-09-27T13:54:49.605470",
     "exception": false,
     "start_time": "2025-09-27T13:54:49.541651",
     "status": "completed"
    },
    "slideshow": {
     "slide_type": ""
    },
    "tags": []
   },
   "source": [
    "### _Configuration!_\n",
    "\n",
    "Keep the project list up-to-date and select the project to be analyzed"
   ]
  },
  {
   "cell_type": "markdown",
   "id": "369f6589-5ded-4162-85ea-3c37b9026765",
   "metadata": {
    "editable": true,
    "papermill": {
     "duration": 0.044535,
     "end_time": "2025-09-27T13:54:49.689694",
     "exception": false,
     "start_time": "2025-09-27T13:54:49.645159",
     "status": "completed"
    },
    "slideshow": {
     "slide_type": ""
    },
    "tags": []
   },
   "source": [
    "### _User input required!_\n",
    "\n",
    "Update, if needed the default weigth of the edges"
   ]
  },
  {
   "cell_type": "code",
   "execution_count": 2,
   "id": "05c7e2d2-7f39-4109-a665-36a40e5be7de",
   "metadata": {
    "editable": true,
    "execution": {
     "iopub.execute_input": "2025-09-27T13:54:49.792639Z",
     "iopub.status.busy": "2025-09-27T13:54:49.788785Z",
     "iopub.status.idle": "2025-09-27T13:54:49.818785Z",
     "shell.execute_reply": "2025-09-27T13:54:49.807141Z"
    },
    "papermill": {
     "duration": 0.082002,
     "end_time": "2025-09-27T13:54:49.822350",
     "exception": false,
     "start_time": "2025-09-27T13:54:49.740348",
     "status": "completed"
    },
    "slideshow": {
     "slide_type": ""
    },
    "tags": [
     "parameters"
    ]
   },
   "outputs": [],
   "source": [
    "project = 'jpetstore' # <-- Set this variable!\n",
    "# Weighting edges:\n",
    "w = dict()\n",
    "w['Calls']=0.8\n",
    "w['Persists']=1\n",
    "w['Uses']=0.6\n",
    "w['References']=0.2\n",
    "w['Extends']=0\n",
    "headless = False"
   ]
  },
  {
   "cell_type": "code",
   "execution_count": 3,
   "id": "ef30e568",
   "metadata": {
    "execution": {
     "iopub.execute_input": "2025-09-27T13:54:49.900595Z",
     "iopub.status.busy": "2025-09-27T13:54:49.898669Z",
     "iopub.status.idle": "2025-09-27T13:54:49.910674Z",
     "shell.execute_reply": "2025-09-27T13:54:49.908766Z"
    },
    "papermill": {
     "duration": 0.050175,
     "end_time": "2025-09-27T13:54:49.915068",
     "exception": false,
     "start_time": "2025-09-27T13:54:49.864893",
     "status": "completed"
    },
    "tags": [
     "injected-parameters"
    ]
   },
   "outputs": [],
   "source": [
    "# Parameters\n",
    "project = \"airsonic-advanced-106\"\n",
    "w = {\"Calls\": 0.10690435856124572, \"Persists\": 0.6415838011045456, \"References\": 0.06555731906666606, \"Extends\": 0.08937084843403942, \"Uses\": 0.09658367283350322}\n",
    "headless = True\n"
   ]
  },
  {
   "cell_type": "code",
   "execution_count": 4,
   "id": "654afedb-2f70-4c65-b23e-5e01c98d8d13",
   "metadata": {
    "editable": true,
    "execution": {
     "iopub.execute_input": "2025-09-27T13:54:49.952858Z",
     "iopub.status.busy": "2025-09-27T13:54:49.950899Z",
     "iopub.status.idle": "2025-09-27T13:54:49.966092Z",
     "shell.execute_reply": "2025-09-27T13:54:49.964946Z"
    },
    "papermill": {
     "duration": 0.040543,
     "end_time": "2025-09-27T13:54:49.970170",
     "exception": false,
     "start_time": "2025-09-27T13:54:49.929627",
     "status": "completed"
    },
    "slideshow": {
     "slide_type": ""
    },
    "tags": []
   },
   "outputs": [],
   "source": [
    "\n",
    "\n",
    "with open('projects.json', 'r') as projects:\n",
    "    project_found = False\n",
    "    for data in json.load(projects):\n",
    "        if data['name'] == project:\n",
    "            analysis_results_basedir = data['analysis_results_basedir']\n",
    "            project_found = True\n",
    "    if not project_found:\n",
    "        print('ERROR: project ' + project + ' does not appear in project.json')"
   ]
  },
  {
   "cell_type": "code",
   "execution_count": 5,
   "id": "c9f2f54d-61ce-4b68-a80a-68b94ef0ce32",
   "metadata": {
    "editable": true,
    "execution": {
     "iopub.execute_input": "2025-09-27T13:54:50.009540Z",
     "iopub.status.busy": "2025-09-27T13:54:50.008923Z",
     "iopub.status.idle": "2025-09-27T13:54:50.029677Z",
     "shell.execute_reply": "2025-09-27T13:54:50.027925Z"
    },
    "papermill": {
     "duration": 0.048335,
     "end_time": "2025-09-27T13:54:50.033002",
     "exception": false,
     "start_time": "2025-09-27T13:54:49.984667",
     "status": "completed"
    },
    "slideshow": {
     "slide_type": ""
    },
    "tags": []
   },
   "outputs": [],
   "source": [
    "# Set output names\n",
    "\n",
    "graph_in = analysis_results_basedir + project + '_graph.gml'\n",
    "communities_out = analysis_results_basedir + project + '_communities.csv'\n",
    "formulation_out = analysis_results_basedir + project + '_communities_improved_optimization.lp'\n",
    "solution_csv_out = analysis_results_basedir + project + '_sol_communities_improved_optimization.csv'\n",
    "graph_image_out = analysis_results_basedir + project + '_sol_communities_improved_optimization.png'\n",
    "analysis_out = analysis_results_basedir + project + '_sol_communities_improved_optimization.txt'"
   ]
  },
  {
   "cell_type": "code",
   "execution_count": 6,
   "id": "5c2c34a6-0072-4335-aa24-5592aa2b0eb7",
   "metadata": {
    "editable": true,
    "execution": {
     "iopub.execute_input": "2025-09-27T13:54:50.091158Z",
     "iopub.status.busy": "2025-09-27T13:54:50.090297Z",
     "iopub.status.idle": "2025-09-27T13:54:51.067342Z",
     "shell.execute_reply": "2025-09-27T13:54:51.060870Z"
    },
    "papermill": {
     "duration": 1.021127,
     "end_time": "2025-09-27T13:54:51.071836",
     "exception": false,
     "start_time": "2025-09-27T13:54:50.050709",
     "status": "completed"
    },
    "slideshow": {
     "slide_type": ""
    },
    "tags": []
   },
   "outputs": [],
   "source": [
    "# Import graph\n",
    "\n",
    "G = nx.read_graphml(graph_in)"
   ]
  },
  {
   "cell_type": "code",
   "execution_count": 7,
   "id": "dce09914-e79b-4094-8343-eb55557825f3",
   "metadata": {
    "editable": true,
    "execution": {
     "iopub.execute_input": "2025-09-27T13:54:51.156666Z",
     "iopub.status.busy": "2025-09-27T13:54:51.156181Z",
     "iopub.status.idle": "2025-09-27T13:54:51.196172Z",
     "shell.execute_reply": "2025-09-27T13:54:51.194382Z"
    },
    "papermill": {
     "duration": 0.092516,
     "end_time": "2025-09-27T13:54:51.203274",
     "exception": false,
     "start_time": "2025-09-27T13:54:51.110758",
     "status": "completed"
    },
    "slideshow": {
     "slide_type": ""
    },
    "tags": []
   },
   "outputs": [],
   "source": [
    "# Add edge weights\n",
    "\n",
    "for (i, j) in G.edges():\n",
    "    G[i][j]['w'] = w[G[i][j]['rel_type']]"
   ]
  },
  {
   "cell_type": "markdown",
   "id": "c98c18d6-f80e-47f3-91bd-258d444d2d08",
   "metadata": {
    "editable": true,
    "papermill": {
     "duration": 0.033307,
     "end_time": "2025-09-27T13:54:51.261334",
     "exception": false,
     "start_time": "2025-09-27T13:54:51.228027",
     "status": "completed"
    },
    "slideshow": {
     "slide_type": ""
    },
    "tags": []
   },
   "source": [
    "## Find communities"
   ]
  },
  {
   "cell_type": "code",
   "execution_count": 8,
   "id": "b1205d9e-4492-4c2d-8034-52c4323b3a20",
   "metadata": {
    "editable": true,
    "execution": {
     "iopub.execute_input": "2025-09-27T13:54:51.322216Z",
     "iopub.status.busy": "2025-09-27T13:54:51.321585Z",
     "iopub.status.idle": "2025-09-27T13:54:52.163602Z",
     "shell.execute_reply": "2025-09-27T13:54:52.162308Z"
    },
    "papermill": {
     "duration": 0.877075,
     "end_time": "2025-09-27T13:54:52.169698",
     "exception": false,
     "start_time": "2025-09-27T13:54:51.292623",
     "status": "completed"
    },
    "slideshow": {
     "slide_type": ""
    },
    "tags": []
   },
   "outputs": [],
   "source": [
    "H = nx.Graph(G) # create an undirected graph H from a directed graph G\n",
    "\n",
    "# compute the best partition\n",
    "communities = community_louvain.best_partition(H, weight='w')\n",
    "\n",
    "# write communities on file\n",
    "with open(communities_out, 'w') as csv_file:\n",
    "    csv_file.write('node, cluster/community\\n')\n",
    "    for node in communities:\n",
    "        csv_file.write(f'{node},{communities[node]}\\n')"
   ]
  },
  {
   "cell_type": "markdown",
   "id": "e6627e68-4939-4275-8ed8-43a323b64d2e",
   "metadata": {
    "editable": true,
    "papermill": {
     "duration": 0.057581,
     "end_time": "2025-09-27T13:54:52.282444",
     "exception": false,
     "start_time": "2025-09-27T13:54:52.224863",
     "status": "completed"
    },
    "slideshow": {
     "slide_type": ""
    },
    "tags": []
   },
   "source": [
    "## Find communities for the entity subgraph"
   ]
  },
  {
   "cell_type": "code",
   "execution_count": 9,
   "id": "476f02c9-d605-4213-8225-951cd9beb7e5",
   "metadata": {
    "editable": true,
    "execution": {
     "iopub.execute_input": "2025-09-27T13:54:52.357002Z",
     "iopub.status.busy": "2025-09-27T13:54:52.355479Z",
     "iopub.status.idle": "2025-09-27T13:54:52.905401Z",
     "shell.execute_reply": "2025-09-27T13:54:52.904021Z"
    },
    "papermill": {
     "duration": 0.577682,
     "end_time": "2025-09-27T13:54:52.908238",
     "exception": false,
     "start_time": "2025-09-27T13:54:52.330556",
     "status": "completed"
    },
    "slideshow": {
     "slide_type": ""
    },
    "tags": []
   },
   "outputs": [
    {
     "name": "stdout",
     "output_type": "stream",
     "text": [
      "Community 32:\n",
      " - SavedPlayQueue (id:63)\n",
      "Community 34:\n",
      " - User (id:66)\n",
      " - UserSettings (id:71)\n",
      " - Avatar (id:74)\n",
      "Community 35:\n",
      " - Playlist (id:67)\n",
      "Community 36:\n",
      " - Bookmark (id:69)\n",
      "Community 39:\n",
      " - Share (id:75)\n",
      "Community 7:\n",
      " - AbstractDao (id:118)\n",
      "Community 12:\n",
      " - MediaFile (id:46)\n",
      " - Artist (id:73)\n",
      " - Album (id:77)\n",
      "Community 23:\n",
      " - PodcastChannel (id:45)\n",
      "Community 24:\n",
      " - PodcastEpisode (id:48)\n",
      "Community 25:\n",
      " - InternetRadio (id:49)\n",
      " - PlayQueue (id:59)\n",
      " - RandomSearchCriteria (id:65)\n",
      " - MusicFolder (id:78)\n",
      "Community 28:\n",
      " - Genre (id:80)\n",
      "Community 29:\n",
      " - UserCredential (id:58)\n",
      "Community 30:\n",
      " - Player (id:55)\n",
      " - Transcoding (id:61)\n"
     ]
    }
   ],
   "source": [
    "K = nx.Graph(G) # create an undirected graph H from a directed graph G\n",
    "\n",
    "# Remove non-entity nodes\n",
    "\n",
    "for i in list(K.nodes):\n",
    "    if K.nodes[i]['type']!='Entity':\n",
    "        K.remove_node(i)\n",
    "\n",
    "# Obtain subgraph of entities that have direct relationships with the persistence layer:\n",
    "    \n",
    "        \n",
    "# compute the best partition\n",
    "entity_cluster = community_louvain.best_partition(K, weight='w')\n",
    "\n",
    "# Remove nodes that do not have direct relationships with methods from the cluster dictionary:\n",
    "e_dict = dict()\n",
    "# Check if entity has a relationship with some method of the persistence layer (it will remove entities from the controller model, for instance)\n",
    "for e in entity_cluster:\n",
    "    e_dict[e] = False\n",
    "    for (i,j) in G.edges():\n",
    "        if e==j and G[i][j]['rel_type'] in ['Persists']:\n",
    "            e_dict[e]=True\n",
    "\n",
    "# Remove non-related entities\n",
    "for entity_to_remove in e_dict:\n",
    "    if not e_dict[entity_to_remove]:\n",
    "        # print('INFO: Entity ' + G.nodes[entity_to_remove]['name'] + ' removed from the clusters')\n",
    "        entity_cluster.pop(entity_to_remove)\n",
    "\n",
    "for i in set(entity_cluster.values()):\n",
    "    print(f'Community {i}:')\n",
    "    for entity, cluster in entity_cluster.items():\n",
    "        if cluster == i:\n",
    "            print(f' - {G.nodes()[entity][\"name\"]} (id:{entity})')"
   ]
  },
  {
   "cell_type": "markdown",
   "id": "9d385bf2-cf31-45e0-8d84-fd44715a1028",
   "metadata": {
    "editable": true,
    "papermill": {
     "duration": 0.027729,
     "end_time": "2025-09-27T13:54:52.952153",
     "exception": false,
     "start_time": "2025-09-27T13:54:52.924424",
     "status": "completed"
    },
    "slideshow": {
     "slide_type": ""
    },
    "tags": []
   },
   "source": [
    "### _User input required!_\n",
    "\n",
    "Refine, if needed, entity clusters"
   ]
  },
  {
   "cell_type": "code",
   "execution_count": 10,
   "id": "021636e9-07ea-45c6-9eab-e34e93503e9b",
   "metadata": {
    "editable": true,
    "execution": {
     "iopub.execute_input": "2025-09-27T13:54:53.080838Z",
     "iopub.status.busy": "2025-09-27T13:54:53.074670Z",
     "iopub.status.idle": "2025-09-27T13:54:53.117907Z",
     "shell.execute_reply": "2025-09-27T13:54:53.114613Z"
    },
    "papermill": {
     "duration": 0.126506,
     "end_time": "2025-09-27T13:54:53.122570",
     "exception": false,
     "start_time": "2025-09-27T13:54:52.996064",
     "status": "completed"
    },
    "slideshow": {
     "slide_type": ""
    },
    "tags": []
   },
   "outputs": [],
   "source": [
    "# Remove entity from its cluster\n",
    "entity_ids_to_remove = [] # <-- Put Ids as strings (example: ['1', '3']\n",
    "\n",
    "# Place entity into a cluster\n",
    "entities_clusters_to_place = [] # <-- Example: entity X in cluster Y: ('X', 5)\n",
    "\n",
    "\n",
    "for e in entity_ids_to_remove:\n",
    "    entity_cluster.pop(e)\n",
    "    print(f'INFO: Removed entity {G.nodes()[e][\"name\"]} from clusters')\n",
    "\n",
    "for (e, cluster) in entities_clusters_to_place:\n",
    "    entity_cluster[e] = cluster\n",
    "    print(f'INFO: Entity {G.nodes()[e][\"name\"]} put into cluster {cluster}')"
   ]
  },
  {
   "cell_type": "code",
   "execution_count": 11,
   "id": "03cb8c9a-f2d0-46ad-a857-11e31be27470",
   "metadata": {
    "editable": true,
    "execution": {
     "iopub.execute_input": "2025-09-27T13:54:53.206147Z",
     "iopub.status.busy": "2025-09-27T13:54:53.205661Z",
     "iopub.status.idle": "2025-09-27T13:54:53.238751Z",
     "shell.execute_reply": "2025-09-27T13:54:53.231287Z"
    },
    "papermill": {
     "duration": 0.081458,
     "end_time": "2025-09-27T13:54:53.242494",
     "exception": false,
     "start_time": "2025-09-27T13:54:53.161036",
     "status": "completed"
    },
    "slideshow": {
     "slide_type": ""
    },
    "tags": []
   },
   "outputs": [
    {
     "name": "stdout",
     "output_type": "stream",
     "text": [
      "Entities in community 0: ['PodcastChannel']\n",
      "Entities in community 1: ['MediaFile', 'Artist', 'Album']\n",
      "Entities in community 2: ['PodcastEpisode']\n",
      "Entities in community 3: ['InternetRadio', 'PlayQueue', 'RandomSearchCriteria', 'MusicFolder']\n",
      "Entities in community 4: ['Player', 'Transcoding']\n",
      "Entities in community 5: ['UserCredential']\n",
      "Entities in community 6: ['SavedPlayQueue']\n",
      "Entities in community 7: ['User', 'UserSettings', 'Avatar']\n",
      "Entities in community 8: ['Playlist']\n",
      "Entities in community 9: ['Bookmark']\n",
      "Entities in community 10: ['Share']\n",
      "Entities in community 11: ['Genre']\n",
      "Entities in community 12: ['AbstractDao']\n"
     ]
    }
   ],
   "source": [
    "# Some cluster may have disappeared: remaining clusters need to be renumbered\n",
    "cluster_map = dict()\n",
    "counter=0\n",
    "number_mapping = dict() # maps the old cluster number with the new one\n",
    "for entity_key, old_number in entity_cluster.items():\n",
    "    if old_number not in number_mapping:\n",
    "        number_mapping[old_number] = counter\n",
    "        counter+=1\n",
    "    cluster_map[number_mapping[old_number]] = cluster_map.get(number_mapping[old_number], []) + [entity_key]\n",
    "    \n",
    "for cluster in cluster_map:\n",
    "    print('Entities in community ' + str(cluster) + ': ' + str([G.nodes[entity_key]['name'] for entity_key in cluster_map[cluster]]))\n",
    "\n",
    "n_micros = len(cluster_map)"
   ]
  },
  {
   "cell_type": "code",
   "execution_count": 12,
   "id": "bd909d53-3681-43aa-baa0-5d38556bb40b",
   "metadata": {
    "editable": true,
    "execution": {
     "iopub.execute_input": "2025-09-27T13:54:53.354187Z",
     "iopub.status.busy": "2025-09-27T13:54:53.353644Z",
     "iopub.status.idle": "2025-09-27T13:54:53.399299Z",
     "shell.execute_reply": "2025-09-27T13:54:53.394447Z"
    },
    "papermill": {
     "duration": 0.122429,
     "end_time": "2025-09-27T13:54:53.410098",
     "exception": false,
     "start_time": "2025-09-27T13:54:53.287669",
     "status": "completed"
    },
    "slideshow": {
     "slide_type": ""
    },
    "tags": []
   },
   "outputs": [
    {
     "name": "stdout",
     "output_type": "stream",
     "text": [
      "Entities in community 0 are in clusters: []\n",
      "Entities in community 1 are in clusters: [10]\n",
      "Entities in community 2 are in clusters: [5, 7]\n",
      "Entities in community 3 are in clusters: [7]\n",
      "Entities in community 4 are in clusters: [3, 4, 6]\n",
      "Entities in community 5 are in clusters: [1]\n",
      "Entities in community 6 are in clusters: [1, 3]\n",
      "Entities in community 7 are in clusters: []\n",
      "Entities in community 8 are in clusters: []\n",
      "Entities in community 9 are in clusters: []\n",
      "Entities in community 10 are in clusters: []\n",
      "Entities in community 11 are in clusters: [1, 3]\n",
      "Entities in community 12 are in clusters: []\n",
      "Entities in community 13 are in clusters: []\n",
      "Entities in community 14 are in clusters: []\n",
      "Entities in community 15 are in clusters: [4]\n",
      "Entities in community 16 are in clusters: [0, 2]\n",
      "Entities in community 17 are in clusters: [3]\n",
      "Entities in community 18 are in clusters: []\n",
      "Entities in community 19 are in clusters: [11]\n",
      "Entities in community 20 are in clusters: [8]\n",
      "Entities in community 21 are in clusters: [9]\n",
      "Entities in community 22 are in clusters: [7]\n",
      "Entities in community 23 are in clusters: []\n",
      "Entities in community 24 are in clusters: []\n",
      "Entities in community 25 are in clusters: []\n",
      "Entities in community 26 are in clusters: [12]\n",
      "Relaxed communities: [2, 4, 6, 11, 16]\n"
     ]
    }
   ],
   "source": [
    "# Resolve conflicts of distribution of entities into communities: if entities of the same community are in different clusters, then remove the community from the dictionary\n",
    "\n",
    "communities_dict = dict() # Map community -> entities into the communities\n",
    "\n",
    "\n",
    "for node in G.nodes():\n",
    "    if G.nodes[node]['type'] == 'Entity':\n",
    "        communities_dict[communities[node]] = communities_dict.get(communities[node], []) + [node]\n",
    "\n",
    "communities_to_relax = []\n",
    "\n",
    "for community in communities_dict:\n",
    "    clusters = []\n",
    "    for cluster, entities in cluster_map.items():\n",
    "        for e in entities:\n",
    "            if e in communities_dict[community]:\n",
    "                clusters.append(cluster)\n",
    "    print(f'Entities in community {community} are in clusters: {clusters}')\n",
    "    if len(clusters) > 0 and not all(clusters[0] == c for c in clusters):\n",
    "        #print(f'Remove community {community}')\n",
    "        communities_to_relax.append(community)\n",
    "\n",
    "nodes_to_remove_from_dict = []\n",
    "for node in communities.keys():\n",
    "    if communities[node] in communities_to_relax:\n",
    "        nodes_to_remove_from_dict.append(node)\n",
    "\n",
    "for node in nodes_to_remove_from_dict:\n",
    "    del communities[node]\n",
    "\n",
    "print(f'Relaxed communities: {communities_to_relax}')"
   ]
  },
  {
   "cell_type": "markdown",
   "id": "3c6fe2ac-0fb0-456d-8b81-8d93a3439be8",
   "metadata": {
    "editable": true,
    "papermill": {
     "duration": 0.025837,
     "end_time": "2025-09-27T13:54:53.459317",
     "exception": false,
     "start_time": "2025-09-27T13:54:53.433480",
     "status": "completed"
    },
    "slideshow": {
     "slide_type": ""
    },
    "tags": []
   },
   "source": [
    "## ILP Formulation"
   ]
  },
  {
   "cell_type": "code",
   "execution_count": 13,
   "id": "bceb7240-b83a-4b0b-b380-b95cd1bb2b0e",
   "metadata": {
    "editable": true,
    "execution": {
     "iopub.execute_input": "2025-09-27T13:54:53.511747Z",
     "iopub.status.busy": "2025-09-27T13:54:53.509086Z",
     "iopub.status.idle": "2025-09-27T13:55:21.527763Z",
     "shell.execute_reply": "2025-09-27T13:55:21.526288Z"
    },
    "papermill": {
     "duration": 28.052307,
     "end_time": "2025-09-27T13:55:21.534142",
     "exception": false,
     "start_time": "2025-09-27T13:54:53.481835",
     "status": "completed"
    },
    "slideshow": {
     "slide_type": ""
    },
    "tags": []
   },
   "outputs": [
    {
     "name": "stdout",
     "output_type": "stream",
     "text": [
      "Set parameter WLSAccessID\n"
     ]
    },
    {
     "name": "stdout",
     "output_type": "stream",
     "text": [
      "Set parameter WLSSecret\n"
     ]
    },
    {
     "name": "stdout",
     "output_type": "stream",
     "text": [
      "Set parameter LicenseID to value 2713550\n"
     ]
    },
    {
     "name": "stdout",
     "output_type": "stream",
     "text": [
      "Academic license 2713550 - for non-commercial use only - registered to av___@gmail.com\n"
     ]
    }
   ],
   "source": [
    "model = gb.Model()\n",
    "\n",
    "# Variables\n",
    "x = model.addVars(((i,k) for i in G.nodes() for k in range(n_micros)),\\\n",
    "                  vtype=gb.GRB.BINARY, name='x')\n",
    "\n",
    "z = model.addVars(((i,j,k) for (i,j) in G.edges() for k in range(n_micros)), vtype=gb.GRB.BINARY, name='z')\n",
    "\n",
    "y = model.addVars(((i,j) for (i,j) in G.edges()), vtype=gb.GRB.BINARY, name='y')\n",
    "\n",
    "# Each node has to be in one and only one microservice\n",
    "model.addConstrs((x.sum(i, '*') == 1 for i in G.nodes()), name='(1)microservice-belonging')\n",
    "\n",
    "# A microservice can not be composed of entities only\n",
    "model.addConstrs((gb.quicksum(x[i,k] for i in G.nodes() if G.nodes[i]['type']!='Entity') >= 1 for k in range(n_micros)), name='(2)microservice-composition')\n",
    "\n",
    "# Bonding variables\n",
    "model.addConstrs((z[i,j,k]-x[i,k] <= 0 for (i,j) in G.edges() for k in range(n_micros)), name='(3)bonding-z-to-x')\n",
    "model.addConstrs((z[i,j,k]-x[j,k] <= 0 for (i,j) in G.edges() for k in range(n_micros)), name='(4)bonding-z-to-x')\n",
    "model.addConstrs((x[i,k]+x[j,k]-z[i,j,k] <= 1 for (i,j) in G.edges() for k in range(n_micros)), name='(5)bonding-z-to-x')\n",
    "\n",
    "model.addConstrs((y[i,j]==gb.quicksum(z[i,j,k] for k in range(n_micros)) for (i,j) in G.edges()), name='(6)bonding-y-to-z')\n",
    "\n",
    "\n",
    "########## Added constraints ##########\n",
    "\n",
    "# Force each entity from the kth cluster to be in the kth microservice\n",
    "model.addConstrs((x[i,k]==1 for k in cluster_map for i in cluster_map[k]), name='(7)bonding-x-to-entity-clusters')\n",
    "\n",
    "# Force node of the same community to be in the same (consider a community only if there are not entities from different clusters)\n",
    "communities_constraint = model.addConstrs((y[i,j]==1 for (i,j) in G.edges() if i in communities and j in communities and communities[i]==communities[j]), name='(8)bonding-y-to-communities')\n",
    "\n",
    "\n",
    "########## Objective function ##########\n",
    "\n",
    "coupling = gb.quicksum(G.edges[i,j]['w']*(1-y[i,j]) for (i,j) in G.edges())\n",
    "\n",
    "model.setObjective(coupling, gb.GRB.MINIMIZE)\n",
    "\n",
    "model.write(formulation_out)"
   ]
  },
  {
   "cell_type": "code",
   "execution_count": 14,
   "id": "081eb8b2-d436-45fa-886c-7051ff07d125",
   "metadata": {
    "editable": true,
    "execution": {
     "iopub.execute_input": "2025-09-27T13:55:21.602979Z",
     "iopub.status.busy": "2025-09-27T13:55:21.600199Z",
     "iopub.status.idle": "2025-09-27T13:55:37.120160Z",
     "shell.execute_reply": "2025-09-27T13:55:37.119282Z"
    },
    "papermill": {
     "duration": 15.560585,
     "end_time": "2025-09-27T13:55:37.126329",
     "exception": false,
     "start_time": "2025-09-27T13:55:21.565744",
     "status": "completed"
    },
    "slideshow": {
     "slide_type": ""
    },
    "tags": []
   },
   "outputs": [
    {
     "name": "stdout",
     "output_type": "stream",
     "text": [
      "Gurobi Optimizer version 12.0.3 build v12.0.3rc0 (linux64 - \"Linux Mint 22.1\")\n"
     ]
    },
    {
     "name": "stdout",
     "output_type": "stream",
     "text": [
      "\n"
     ]
    },
    {
     "name": "stdout",
     "output_type": "stream",
     "text": [
      "CPU model: Intel(R) Core(TM) i7-8550U CPU @ 1.80GHz, instruction set [SSE2|AVX|AVX2]\n"
     ]
    },
    {
     "name": "stdout",
     "output_type": "stream",
     "text": [
      "Thread count: 4 physical cores, 8 logical processors, using up to 8 threads\n"
     ]
    },
    {
     "name": "stdout",
     "output_type": "stream",
     "text": [
      "\n"
     ]
    },
    {
     "name": "stdout",
     "output_type": "stream",
     "text": [
      "Academic license 2713550 - for non-commercial use only - registered to av___@gmail.com\n"
     ]
    },
    {
     "name": "stdout",
     "output_type": "stream",
     "text": [
      "Optimize a model with 149440 rows, 69096 columns and 420658 nonzeros\n"
     ]
    },
    {
     "name": "stdout",
     "output_type": "stream",
     "text": [
      "Model fingerprint: 0xaa1cfb1b\n"
     ]
    },
    {
     "name": "stdout",
     "output_type": "stream",
     "text": [
      "Variable types: 0 continuous, 69096 integer (69096 binary)\n"
     ]
    },
    {
     "name": "stdout",
     "output_type": "stream",
     "text": [
      "Coefficient statistics:\n"
     ]
    },
    {
     "name": "stdout",
     "output_type": "stream",
     "text": [
      "  Matrix range     [1e+00, 2e+00]\n"
     ]
    },
    {
     "name": "stdout",
     "output_type": "stream",
     "text": [
      "  Objective range  [7e-02, 6e-01]\n"
     ]
    },
    {
     "name": "stdout",
     "output_type": "stream",
     "text": [
      "  Bounds range     [1e+00, 1e+00]\n"
     ]
    },
    {
     "name": "stdout",
     "output_type": "stream",
     "text": [
      "  RHS range        [1e+00, 1e+00]\n"
     ]
    },
    {
     "name": "stdout",
     "output_type": "stream",
     "text": [
      "Presolve removed 93473 rows and 39431 columns (presolve time = 5s)...\n"
     ]
    },
    {
     "name": "stdout",
     "output_type": "stream",
     "text": [
      "Presolve removed 93473 rows and 44553 columns (presolve time = 10s)...\n"
     ]
    },
    {
     "name": "stdout",
     "output_type": "stream",
     "text": [
      "Presolve removed 110089 rows and 48160 columns\n"
     ]
    },
    {
     "name": "stdout",
     "output_type": "stream",
     "text": [
      "Presolve time: 12.78s\n"
     ]
    },
    {
     "name": "stdout",
     "output_type": "stream",
     "text": [
      "Presolved: 39351 rows, 20936 columns, 111371 nonzeros\n"
     ]
    },
    {
     "name": "stdout",
     "output_type": "stream",
     "text": [
      "Variable types: 0 continuous, 20936 integer (20936 binary)\n"
     ]
    },
    {
     "name": "stdout",
     "output_type": "stream",
     "text": [
      "Found heuristic solution: objective 194.1471548\n"
     ]
    },
    {
     "name": "stdout",
     "output_type": "stream",
     "text": [
      "Found heuristic solution: objective 137.1168667\n"
     ]
    },
    {
     "name": "stdout",
     "output_type": "stream",
     "text": [
      "Deterministic concurrent LP optimizer: primal and dual simplex\n"
     ]
    },
    {
     "name": "stdout",
     "output_type": "stream",
     "text": [
      "Showing primal log only...\n"
     ]
    },
    {
     "name": "stdout",
     "output_type": "stream",
     "text": [
      "\n"
     ]
    },
    {
     "name": "stdout",
     "output_type": "stream",
     "text": [
      "\n"
     ]
    },
    {
     "name": "stdout",
     "output_type": "stream",
     "text": [
      "Root simplex log...\n"
     ]
    },
    {
     "name": "stdout",
     "output_type": "stream",
     "text": [
      "\n"
     ]
    },
    {
     "name": "stdout",
     "output_type": "stream",
     "text": [
      "Iteration    Objective       Primal Inf.    Dual Inf.      Time\n"
     ]
    },
    {
     "name": "stdout",
     "output_type": "stream",
     "text": [
      "       0    1.9115829e+02   1.610000e+02   4.830012e+08     14s\n"
     ]
    },
    {
     "name": "stdout",
     "output_type": "stream",
     "text": [
      "   21920    1.2004659e+02   7.349648e-04   2.700123e+07     15s\n"
     ]
    },
    {
     "name": "stdout",
     "output_type": "stream",
     "text": [
      "Concurrent spin time: 0.06s\n"
     ]
    },
    {
     "name": "stdout",
     "output_type": "stream",
     "text": [
      "\n"
     ]
    },
    {
     "name": "stdout",
     "output_type": "stream",
     "text": [
      "Solved with dual simplex\n"
     ]
    },
    {
     "name": "stdout",
     "output_type": "stream",
     "text": [
      "\n"
     ]
    },
    {
     "name": "stdout",
     "output_type": "stream",
     "text": [
      "Root simplex log...\n"
     ]
    },
    {
     "name": "stdout",
     "output_type": "stream",
     "text": [
      "\n"
     ]
    },
    {
     "name": "stdout",
     "output_type": "stream",
     "text": [
      "Iteration    Objective       Primal Inf.    Dual Inf.      Time\n"
     ]
    },
    {
     "name": "stdout",
     "output_type": "stream",
     "text": [
      "   14347    1.0516895e+02   0.000000e+00   0.000000e+00     15s\n"
     ]
    },
    {
     "name": "stdout",
     "output_type": "stream",
     "text": [
      "\n"
     ]
    },
    {
     "name": "stdout",
     "output_type": "stream",
     "text": [
      "Root relaxation: objective 1.051690e+02, 14347 iterations, 2.10 seconds (0.40 work units)\n"
     ]
    },
    {
     "name": "stdout",
     "output_type": "stream",
     "text": [
      "\n"
     ]
    },
    {
     "name": "stdout",
     "output_type": "stream",
     "text": [
      "    Nodes    |    Current Node    |     Objective Bounds      |     Work\n"
     ]
    },
    {
     "name": "stdout",
     "output_type": "stream",
     "text": [
      " Expl Unexpl |  Obj  Depth IntInf | Incumbent    BestBd   Gap | It/Node Time\n"
     ]
    },
    {
     "name": "stdout",
     "output_type": "stream",
     "text": [
      "\n"
     ]
    },
    {
     "name": "stdout",
     "output_type": "stream",
     "text": [
      "*    0     0               0     105.1689508  105.16895  0.00%     -   15s\n"
     ]
    },
    {
     "name": "stdout",
     "output_type": "stream",
     "text": [
      "\n"
     ]
    },
    {
     "name": "stdout",
     "output_type": "stream",
     "text": [
      "Explored 1 nodes (14347 simplex iterations) in 15.49 seconds (3.33 work units)\n"
     ]
    },
    {
     "name": "stdout",
     "output_type": "stream",
     "text": [
      "Thread count was 8 (of 8 available processors)\n"
     ]
    },
    {
     "name": "stdout",
     "output_type": "stream",
     "text": [
      "\n"
     ]
    },
    {
     "name": "stdout",
     "output_type": "stream",
     "text": [
      "Solution count 3: 105.169 137.117 194.147 \n"
     ]
    },
    {
     "name": "stdout",
     "output_type": "stream",
     "text": [
      "\n"
     ]
    },
    {
     "name": "stdout",
     "output_type": "stream",
     "text": [
      "Optimal solution found (tolerance 1.00e-04)\n"
     ]
    },
    {
     "name": "stdout",
     "output_type": "stream",
     "text": [
      "Best objective 1.051689508474e+02, best bound 1.051689508474e+02, gap 0.0000%\n"
     ]
    }
   ],
   "source": [
    "model.optimize()"
   ]
  },
  {
   "cell_type": "markdown",
   "id": "c2bb0cfd-3f6e-4806-908c-628a86f4574f",
   "metadata": {
    "editable": true,
    "papermill": {
     "duration": 0.014447,
     "end_time": "2025-09-27T13:55:37.156242",
     "exception": false,
     "start_time": "2025-09-27T13:55:37.141795",
     "status": "completed"
    },
    "slideshow": {
     "slide_type": ""
    },
    "tags": []
   },
   "source": [
    "## Result Analysis"
   ]
  },
  {
   "cell_type": "code",
   "execution_count": 15,
   "id": "78f5ab5d-204b-48b6-bec9-9e2647d47855",
   "metadata": {
    "editable": true,
    "execution": {
     "iopub.execute_input": "2025-09-27T13:55:37.192850Z",
     "iopub.status.busy": "2025-09-27T13:55:37.192255Z",
     "iopub.status.idle": "2025-09-27T13:55:37.666172Z",
     "shell.execute_reply": "2025-09-27T13:55:37.664219Z"
    },
    "papermill": {
     "duration": 0.495043,
     "end_time": "2025-09-27T13:55:37.669041",
     "exception": false,
     "start_time": "2025-09-27T13:55:37.173998",
     "status": "completed"
    },
    "slideshow": {
     "slide_type": ""
    },
    "tags": []
   },
   "outputs": [],
   "source": [
    "# Compute cohesion:\n",
    "inside_w = dict()\n",
    "outside_w = dict()\n",
    "total_w = 0\n",
    "\n",
    "for i,j in G.edges():\n",
    "    total_w += G[i][j]['w']\n",
    "    for k in range(n_micros):\n",
    "        if z[i,j,k].x == 1: # Edge (i,j) is inside microservice k: sum the weight as inside\n",
    "            inside_w[k] = inside_w.get(k, 0) + G[i][j]['w']\n",
    "        if x[i,k].x == 1: # Edge (i,j) has its origin in k: sum the weigth as outside\n",
    "            outside_w[k] = outside_w.get(k, 0) + G[i][j]['w']\n",
    "\n",
    "cohesion_dict = dict()\n",
    "for k in range(n_micros):\n",
    "    cohesion_dict[k] = inside_w[k] / outside_w[k]\n",
    "\n",
    "cohesion = sum(cohesion_dict.values())/n_micros"
   ]
  },
  {
   "cell_type": "code",
   "execution_count": 16,
   "id": "b4f4589c-f9db-4123-89b3-9d1266b6297b",
   "metadata": {
    "editable": true,
    "execution": {
     "iopub.execute_input": "2025-09-27T13:55:37.725372Z",
     "iopub.status.busy": "2025-09-27T13:55:37.724627Z",
     "iopub.status.idle": "2025-09-27T13:55:37.903041Z",
     "shell.execute_reply": "2025-09-27T13:55:37.901381Z"
    },
    "papermill": {
     "duration": 0.214269,
     "end_time": "2025-09-27T13:55:37.912546",
     "exception": false,
     "start_time": "2025-09-27T13:55:37.698277",
     "status": "completed"
    },
    "slideshow": {
     "slide_type": ""
    },
    "tags": []
   },
   "outputs": [
    {
     "name": "stdout",
     "output_type": "stream",
     "text": [
      "Found 13 microservices\n",
      "Total coupling value: 105.16895084741645 (8.089919295955111 avg.)\n",
      "Cohesion value: 0.7987975776181813\n",
      "\n",
      "Entities in Microservice 0:\n",
      "- HexPasswordEncoder\n",
      "- LastFmCache\n",
      "- ConfigurationPropertiesService\n",
      "- PodcastChannel\n",
      "- UserSettingsValidator\n",
      "Entities in Microservice 1:\n",
      "- ArtistInfo\n",
      "- SimilarArtist\n",
      "- MediaFileEntry\n",
      "- AlbumList\n",
      "- MetaDataParser\n",
      "- MetaData\n",
      "- ArtistBio\n",
      "- MediaFile\n",
      "- LastFmCoverArt\n",
      "- Artist\n",
      "- MediaFileComparator\n",
      "- Album\n",
      "- MonitoredOutputStream\n",
      "- MonitoredDiskFileItem\n",
      "Entities in Microservice 2:\n",
      "- PodcastEpisode\n",
      "Entities in Microservice 3:\n",
      "- InternetRadio\n",
      "- PlayQueue\n",
      "- RandomSearchCriteria\n",
      "- InternetRadioSource\n",
      "- MusicFolder\n",
      "Entities in Microservice 4:\n",
      "- PlayQueueInfo\n",
      "- RESTFilter\n",
      "- AudioPlayer\n",
      "- PlayerTest\n",
      "- PlayStatus\n",
      "- TransferStatus\n",
      "- Player\n",
      "- Transcoding\n",
      "- VideoTranscodingSettings\n",
      "- KnownLengthInputStreamResource\n",
      "- EnumHolder\n",
      "- PlayerSettingsCommand\n",
      "- JAXBWriter\n",
      "- TranscodeInputStream\n",
      "- PlayQueueInputStream\n",
      "- ShoutCastOutputStream\n",
      "Entities in Microservice 5:\n",
      "- SaltedTokenPasswordEncoder\n",
      "- SaltToken\n",
      "- SonosSoapFault\n",
      "- UpnpContentProcessor\n",
      "- UserCredential\n",
      "Entities in Microservice 6:\n",
      "- SavedPlayQueue\n",
      "- WebApp\n",
      "- ServletDef\n",
      "- ServletMappingDef\n",
      "Entities in Microservice 7:\n",
      "- RESTRequestParameterProcessingFilter\n",
      "- LyricsInfo\n",
      "- UploadInfo\n",
      "- NowPlayingInfo\n",
      "- SonosServiceRegistration\n",
      "- CustomContentDirectory\n",
      "- MSMediaReceiverRegistrarService\n",
      "- LastFMScrobbler\n",
      "- ListenBrainzScrobbler\n",
      "- LambdaUtils\n",
      "- MusicIndex\n",
      "- SearchCriteria\n",
      "- Version\n",
      "- SearchResult\n",
      "- MusicFolderContent\n",
      "- AlbumNotes\n",
      "- User\n",
      "- UserSettings\n",
      "- Avatar\n",
      "- Theme\n",
      "- PersonalSettingsCommand\n",
      "- DatabaseSettingsCommand\n",
      "- UserSettingsCommand\n",
      "- PodcastSettingsCommand\n",
      "- CredentialsManagementCommand\n",
      "- AdvancedSettingsCommand\n",
      "- SearchCommand\n",
      "- GeneralSettingsCommand\n",
      "- MusicFolderSettingsCommand\n",
      "- MonitoredDiskFileItemFactory\n",
      "Entities in Microservice 8:\n",
      "- Playlist\n",
      "Entities in Microservice 9:\n",
      "- Bookmark\n",
      "Entities in Microservice 10:\n",
      "- JWTAuthenticationToken\n",
      "- MediaFileWithUrlInfo\n",
      "- Share\n",
      "Entities in Microservice 11:\n",
      "- Genres\n",
      "- Genre\n",
      "Entities in Microservice 12:\n",
      "- MediaLibraryStatistics\n",
      "- AbstractDao\n",
      "\n",
      "\n",
      "\n",
      "# of method calls crossing microservices: 515\n",
      "# of entity references crossing microservices: 16\n",
      "# of entity usages crossing microservices: 322\n",
      "# of methods persisting entities of other microservices: 28\n"
     ]
    },
    {
     "data": {
      "application/scrapbook.scrap.json+json": {
       "data": 13,
       "encoder": "json",
       "name": "n_micros",
       "version": 1
      }
     },
     "metadata": {
      "scrapbook": {
       "data": true,
       "display": false,
       "name": "n_micros"
      }
     },
     "output_type": "display_data"
    },
    {
     "data": {
      "application/scrapbook.scrap.json+json": {
       "data": 8.089919295955111,
       "encoder": "json",
       "name": "avg_cop",
       "version": 1
      }
     },
     "metadata": {
      "scrapbook": {
       "data": true,
       "display": false,
       "name": "avg_cop"
      }
     },
     "output_type": "display_data"
    },
    {
     "data": {
      "application/scrapbook.scrap.json+json": {
       "data": 0.7987975776181813,
       "encoder": "json",
       "name": "cohesion",
       "version": 1
      }
     },
     "metadata": {
      "scrapbook": {
       "data": true,
       "display": false,
       "name": "cohesion"
      }
     },
     "output_type": "display_data"
    },
    {
     "data": {
      "application/scrapbook.scrap.json+json": {
       "data": 515,
       "encoder": "json",
       "name": "n_calls",
       "version": 1
      }
     },
     "metadata": {
      "scrapbook": {
       "data": true,
       "display": false,
       "name": "n_calls"
      }
     },
     "output_type": "display_data"
    },
    {
     "data": {
      "application/scrapbook.scrap.json+json": {
       "data": 16,
       "encoder": "json",
       "name": "n_refs",
       "version": 1
      }
     },
     "metadata": {
      "scrapbook": {
       "data": true,
       "display": false,
       "name": "n_refs"
      }
     },
     "output_type": "display_data"
    },
    {
     "data": {
      "application/scrapbook.scrap.json+json": {
       "data": 322,
       "encoder": "json",
       "name": "n_uses",
       "version": 1
      }
     },
     "metadata": {
      "scrapbook": {
       "data": true,
       "display": false,
       "name": "n_uses"
      }
     },
     "output_type": "display_data"
    },
    {
     "data": {
      "application/scrapbook.scrap.json+json": {
       "data": 28,
       "encoder": "json",
       "name": "n_persist",
       "version": 1
      }
     },
     "metadata": {
      "scrapbook": {
       "data": true,
       "display": false,
       "name": "n_persist"
      }
     },
     "output_type": "display_data"
    },
    {
     "data": {
      "application/scrapbook.scrap.json+json": {
       "data": 503.3890857163279,
       "encoder": "json",
       "name": "total_w",
       "version": 1
      }
     },
     "metadata": {
      "scrapbook": {
       "data": true,
       "display": false,
       "name": "total_w"
      }
     },
     "output_type": "display_data"
    }
   ],
   "source": [
    "show_methods = False\n",
    "\n",
    "analysis_output = \"\"\n",
    "\n",
    "analysis_output += f'Found {str(n_micros)} microservices\\n'\n",
    "\n",
    "analysis_output += f'Total coupling value: {model.objVal} ({model.objVal/n_micros} avg.)\\n'\n",
    "analysis_output += f'Cohesion value: {cohesion}\\n\\n'\n",
    "\n",
    "for k in range(n_micros):\n",
    "    analysis_output += f'Entities in Microservice {str(k)}:\\n'\n",
    "    for i in G.nodes():\n",
    "        if G.nodes[i]['type'] == 'Entity' and x[i,k].x == 1:\n",
    "            analysis_output += f'- {G.nodes[i][\"name\"]}\\n'\n",
    "\n",
    "if show_methods:\n",
    "    for k in range(n_micros):\n",
    "        analysis_output += f'\\n\\nMethods in Microservice {str(k)}:\\n'\n",
    "        for i in G.nodes():\n",
    "            if G.nodes[i]['type'] == 'Method' and x[i,k].x == 1:\n",
    "                analysis_output += f'- {G.nodes[i][\"name\"]} ({G.nodes[i][\"class_name\"]})\\n'\n",
    "\n",
    "mcalls = 0\n",
    "references = 0\n",
    "uses = 0\n",
    "persists = 0\n",
    "\n",
    "for i,j in G.edges():\n",
    "    if y[i,j].x == 0:\n",
    "        if G[i][j]['rel_type'] == 'Calls':\n",
    "            mcalls += 1 \n",
    "        elif G[i][j]['rel_type'] == 'References':\n",
    "            references += 1\n",
    "        elif G[i][j]['rel_type'] == 'Uses':\n",
    "            uses += 1\n",
    "        elif G[i][j]['rel_type'] == 'Persists':\n",
    "            persists += 1\n",
    "\n",
    "analysis_output += f'\\n\\n\\n# of method calls crossing microservices: {mcalls}'\n",
    "analysis_output += f'\\n# of entity references crossing microservices: {references}'\n",
    "analysis_output += f'\\n# of entity usages crossing microservices: {uses}'\n",
    "analysis_output += f'\\n# of methods persisting entities of other microservices: {persists}'\n",
    "\n",
    "print(analysis_output)\n",
    "\n",
    "sb.glue(\"n_micros\", n_micros)\n",
    "sb.glue(\"avg_cop\", model.objVal/n_micros)\n",
    "sb.glue(\"cohesion\", cohesion)\n",
    "sb.glue(\"n_calls\", mcalls)\n",
    "sb.glue(\"n_refs\", references)\n",
    "sb.glue(\"n_uses\", uses)\n",
    "sb.glue(\"n_persist\", persists)\n",
    "sb.glue(\"total_w\", total_w)\n",
    "\n",
    "with open(analysis_out, 'w') as analysis_file:\n",
    "    analysis_file.write(analysis_output)"
   ]
  },
  {
   "cell_type": "code",
   "execution_count": 17,
   "id": "3519b123-a48c-4070-ab5f-b17393c76ad2",
   "metadata": {
    "editable": true,
    "execution": {
     "iopub.execute_input": "2025-09-27T13:55:38.012916Z",
     "iopub.status.busy": "2025-09-27T13:55:38.011857Z",
     "iopub.status.idle": "2025-09-27T13:55:38.161255Z",
     "shell.execute_reply": "2025-09-27T13:55:38.159656Z"
    },
    "papermill": {
     "duration": 0.195623,
     "end_time": "2025-09-27T13:55:38.165203",
     "exception": false,
     "start_time": "2025-09-27T13:55:37.969580",
     "status": "completed"
    },
    "slideshow": {
     "slide_type": ""
    },
    "tags": []
   },
   "outputs": [],
   "source": [
    "with open(solution_csv_out, 'w') as results_csv:\n",
    "    results_csv.write('node_key,microservice\\n')\n",
    "    counter = 0\n",
    "    for i in G.nodes():\n",
    "        for k in range(n_micros):\n",
    "            if x[i,k].x == 1:\n",
    "                results_csv.write(f'{i},{k}\\n')\n",
    "                counter+=1\n",
    "    \n",
    "    if counter!=len(G.nodes()):\n",
    "        print('Error! There are nodes not assigned into microservices?!')"
   ]
  },
  {
   "cell_type": "code",
   "execution_count": 18,
   "id": "6e8cfeef-174f-4742-ac5f-4862676bad36",
   "metadata": {
    "editable": true,
    "execution": {
     "iopub.execute_input": "2025-09-27T13:55:38.234870Z",
     "iopub.status.busy": "2025-09-27T13:55:38.232040Z",
     "iopub.status.idle": "2025-09-27T13:55:38.243900Z",
     "shell.execute_reply": "2025-09-27T13:55:38.241604Z"
    },
    "papermill": {
     "duration": 0.049143,
     "end_time": "2025-09-27T13:55:38.248835",
     "exception": false,
     "start_time": "2025-09-27T13:55:38.199692",
     "status": "completed"
    },
    "slideshow": {
     "slide_type": ""
    },
    "tags": []
   },
   "outputs": [],
   "source": [
    "if not headless:\n",
    "    DrawSol(G, x, graph_image_out)\n",
    "    \n",
    "    display(Image(filename = graph_image_out))"
   ]
  }
 ],
 "metadata": {
  "kernelspec": {
   "display_name": "Python 3 (ipykernel)",
   "language": "python",
   "name": "python3"
  },
  "language_info": {
   "codemirror_mode": {
    "name": "ipython",
    "version": 3
   },
   "file_extension": ".py",
   "mimetype": "text/x-python",
   "name": "python",
   "nbconvert_exporter": "python",
   "pygments_lexer": "ipython3",
   "version": "3.12.3"
  },
  "papermill": {
   "default_parameters": {},
   "duration": 84.041043,
   "end_time": "2025-09-27T13:55:39.623758",
   "environment_variables": {},
   "exception": null,
   "input_path": "2-Decomposition_optimization.ipynb",
   "output_path": "outputs/output_step_2_airsonic-advanced-106.ipynb",
   "parameters": {
    "headless": true,
    "project": "airsonic-advanced-106",
    "w": {
     "Calls": 0.10690435856124572,
     "Extends": 0.08937084843403942,
     "Persists": 0.6415838011045456,
     "References": 0.06555731906666606,
     "Uses": 0.09658367283350322
    }
   },
   "start_time": "2025-09-27T13:54:15.582715",
   "version": "2.6.0"
  },
  "vscode": {
   "interpreter": {
    "hash": "84d57bcf988df7741739090f92038d55c89d5ee4bebfcc0bea6a6c98a16573ca"
   }
  }
 },
 "nbformat": 4,
 "nbformat_minor": 5
}