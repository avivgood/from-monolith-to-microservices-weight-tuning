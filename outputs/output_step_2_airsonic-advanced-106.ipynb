{
 "cells": [
  {
   "cell_type": "code",
   "execution_count": 1,
   "id": "63ce5fa3-e2cb-4565-ba94-8fa943d68162",
   "metadata": {
    "editable": true,
    "execution": {
     "iopub.execute_input": "2025-09-26T18:52:27.680049Z",
     "iopub.status.busy": "2025-09-26T18:52:27.679607Z",
     "iopub.status.idle": "2025-09-26T18:52:44.106768Z",
     "shell.execute_reply": "2025-09-26T18:52:44.098107Z"
    },
    "papermill": {
     "duration": 16.45875,
     "end_time": "2025-09-26T18:52:44.110543",
     "exception": false,
     "start_time": "2025-09-26T18:52:27.651793",
     "status": "completed"
    },
    "slideshow": {
     "slide_type": ""
    },
    "tags": []
   },
   "outputs": [],
   "source": [
    "#!/usr/bin/env python\n",
    "import scrapbook as sb\n",
    "import networkx as nx\n",
    "import pygraphviz as pygv\n",
    "import gurobipy as gb\n",
    "import json\n",
    "from community import community_louvain\n",
    "from IPython.display import Image, display\n",
    "\n",
    "def DrawSol (G, x, filename):\n",
    "    global n_micros\n",
    "\n",
    "    DrawG = pygv.AGraph(directed=True, strict='true', splines='true')\n",
    "\n",
    "    colors = ['green', 'blue', 'red', 'orange', 'yellow', 'purple', 'black', 'gray', 'cyan', 'brown', 'hotpink', 'navy', 'darkgreen', 'chocolate', 'deeppink', 'firebrick', 'gold', 'orchid', 'gold4']\n",
    "    \n",
    "    for i in G.nodes():\n",
    "        if G.nodes[i]['type'] == 'Entity':\n",
    "            shape='hexagon'\n",
    "        else:\n",
    "            shape='circle'\n",
    "\n",
    "        for k in range(n_micros):\n",
    "            if x[i,k].x == 1:\n",
    "                # Get cluster number k\n",
    "                if k<len(colors):\n",
    "                    color=colors[k]\n",
    "                else:\n",
    "                    color = 'black'\n",
    "        DrawG.add_node (i, color=color, shape=shape, width=0.1, fontsize=9, label=G.nodes[i]['name'])\n",
    "\n",
    "    for i in G.edges():\n",
    "        edge_color = 'black' if G[i[0]][i[1]]['rel_type'] in ['Calls','Persists', 'References'] else 'gray'\n",
    "        DrawG.add_edge(i[0], i[1], color=edge_color, label=G[i[0]][i[1]]['rel_type'], fontsize='8')\n",
    "        \n",
    "    DrawG.layout(prog='dot')\n",
    "    DrawG.draw(filename)"
   ]
  },
  {
   "cell_type": "markdown",
   "id": "e3e92b53-40f6-4740-8a99-c40877eb9681",
   "metadata": {
    "editable": true,
    "papermill": {
     "duration": 0.010254,
     "end_time": "2025-09-26T18:52:44.154376",
     "exception": false,
     "start_time": "2025-09-26T18:52:44.144122",
     "status": "completed"
    },
    "slideshow": {
     "slide_type": ""
    },
    "tags": []
   },
   "source": [
    "### _Configuration!_\n",
    "\n",
    "Keep the project list up-to-date and select the project to be analyzed"
   ]
  },
  {
   "cell_type": "markdown",
   "id": "369f6589-5ded-4162-85ea-3c37b9026765",
   "metadata": {
    "editable": true,
    "papermill": {
     "duration": 0.009995,
     "end_time": "2025-09-26T18:52:44.174382",
     "exception": false,
     "start_time": "2025-09-26T18:52:44.164387",
     "status": "completed"
    },
    "slideshow": {
     "slide_type": ""
    },
    "tags": []
   },
   "source": [
    "### _User input required!_\n",
    "\n",
    "Update, if needed the default weigth of the edges"
   ]
  },
  {
   "cell_type": "code",
   "execution_count": 2,
   "id": "05c7e2d2-7f39-4109-a665-36a40e5be7de",
   "metadata": {
    "editable": true,
    "execution": {
     "iopub.execute_input": "2025-09-26T18:52:44.199851Z",
     "iopub.status.busy": "2025-09-26T18:52:44.196842Z",
     "iopub.status.idle": "2025-09-26T18:52:44.211577Z",
     "shell.execute_reply": "2025-09-26T18:52:44.208939Z"
    },
    "papermill": {
     "duration": 0.030047,
     "end_time": "2025-09-26T18:52:44.215160",
     "exception": false,
     "start_time": "2025-09-26T18:52:44.185113",
     "status": "completed"
    },
    "slideshow": {
     "slide_type": ""
    },
    "tags": [
     "parameters"
    ]
   },
   "outputs": [],
   "source": [
    "project = 'jpetstore' # <-- Set this variable!\n",
    "# Weighting edges:\n",
    "w = dict()\n",
    "w['Calls']=0.8\n",
    "w['Persists']=1\n",
    "w['Uses']=0.6\n",
    "w['References']=0.2\n",
    "w['Extends']=0\n",
    "headless = False"
   ]
  },
  {
   "cell_type": "code",
   "execution_count": 3,
   "id": "fe7f5f7d",
   "metadata": {
    "execution": {
     "iopub.execute_input": "2025-09-26T18:52:44.246486Z",
     "iopub.status.busy": "2025-09-26T18:52:44.245503Z",
     "iopub.status.idle": "2025-09-26T18:52:44.258105Z",
     "shell.execute_reply": "2025-09-26T18:52:44.254726Z"
    },
    "papermill": {
     "duration": 0.031256,
     "end_time": "2025-09-26T18:52:44.263663",
     "exception": false,
     "start_time": "2025-09-26T18:52:44.232407",
     "status": "completed"
    },
    "tags": [
     "injected-parameters"
    ]
   },
   "outputs": [],
   "source": [
    "# Parameters\n",
    "project = \"airsonic-advanced-106\"\n",
    "w = {\"Calls\": 0.1058060015872633, \"Persists\": 0.24598215764509793, \"References\": 0.11740005173294432, \"Extends\": 0.24757556425296062, \"Uses\": 0.2832362247817339}\n",
    "headless = True\n"
   ]
  },
  {
   "cell_type": "code",
   "execution_count": 4,
   "id": "654afedb-2f70-4c65-b23e-5e01c98d8d13",
   "metadata": {
    "editable": true,
    "execution": {
     "iopub.execute_input": "2025-09-26T18:52:44.295305Z",
     "iopub.status.busy": "2025-09-26T18:52:44.294363Z",
     "iopub.status.idle": "2025-09-26T18:52:44.312257Z",
     "shell.execute_reply": "2025-09-26T18:52:44.307348Z"
    },
    "papermill": {
     "duration": 0.038724,
     "end_time": "2025-09-26T18:52:44.317434",
     "exception": false,
     "start_time": "2025-09-26T18:52:44.278710",
     "status": "completed"
    },
    "slideshow": {
     "slide_type": ""
    },
    "tags": []
   },
   "outputs": [],
   "source": [
    "\n",
    "\n",
    "with open('projects.json', 'r') as projects:\n",
    "    project_found = False\n",
    "    for data in json.load(projects):\n",
    "        if data['name'] == project:\n",
    "            analysis_results_basedir = data['analysis_results_basedir']\n",
    "            project_found = True\n",
    "    if not project_found:\n",
    "        print('ERROR: project ' + project + ' does not appear in project.json')"
   ]
  },
  {
   "cell_type": "code",
   "execution_count": 5,
   "id": "c9f2f54d-61ce-4b68-a80a-68b94ef0ce32",
   "metadata": {
    "editable": true,
    "execution": {
     "iopub.execute_input": "2025-09-26T18:52:44.358634Z",
     "iopub.status.busy": "2025-09-26T18:52:44.357933Z",
     "iopub.status.idle": "2025-09-26T18:52:44.367153Z",
     "shell.execute_reply": "2025-09-26T18:52:44.364951Z"
    },
    "papermill": {
     "duration": 0.035863,
     "end_time": "2025-09-26T18:52:44.370742",
     "exception": false,
     "start_time": "2025-09-26T18:52:44.334879",
     "status": "completed"
    },
    "slideshow": {
     "slide_type": ""
    },
    "tags": []
   },
   "outputs": [],
   "source": [
    "# Set output names\n",
    "\n",
    "graph_in = analysis_results_basedir + project + '_graph.gml'\n",
    "communities_out = analysis_results_basedir + project + '_communities.csv'\n",
    "formulation_out = analysis_results_basedir + project + '_communities_improved_optimization.lp'\n",
    "solution_csv_out = analysis_results_basedir + project + '_sol_communities_improved_optimization.csv'\n",
    "graph_image_out = analysis_results_basedir + project + '_sol_communities_improved_optimization.png'\n",
    "analysis_out = analysis_results_basedir + project + '_sol_communities_improved_optimization.txt'"
   ]
  },
  {
   "cell_type": "code",
   "execution_count": 6,
   "id": "5c2c34a6-0072-4335-aa24-5592aa2b0eb7",
   "metadata": {
    "editable": true,
    "execution": {
     "iopub.execute_input": "2025-09-26T18:52:44.403727Z",
     "iopub.status.busy": "2025-09-26T18:52:44.403215Z",
     "iopub.status.idle": "2025-09-26T18:52:45.105498Z",
     "shell.execute_reply": "2025-09-26T18:52:45.104057Z"
    },
    "papermill": {
     "duration": 0.726841,
     "end_time": "2025-09-26T18:52:45.114965",
     "exception": false,
     "start_time": "2025-09-26T18:52:44.388124",
     "status": "completed"
    },
    "slideshow": {
     "slide_type": ""
    },
    "tags": []
   },
   "outputs": [],
   "source": [
    "# Import graph\n",
    "\n",
    "G = nx.read_graphml(graph_in)"
   ]
  },
  {
   "cell_type": "code",
   "execution_count": 7,
   "id": "dce09914-e79b-4094-8343-eb55557825f3",
   "metadata": {
    "editable": true,
    "execution": {
     "iopub.execute_input": "2025-09-26T18:52:45.174147Z",
     "iopub.status.busy": "2025-09-26T18:52:45.168057Z",
     "iopub.status.idle": "2025-09-26T18:52:45.206870Z",
     "shell.execute_reply": "2025-09-26T18:52:45.205763Z"
    },
    "papermill": {
     "duration": 0.063413,
     "end_time": "2025-09-26T18:52:45.209421",
     "exception": false,
     "start_time": "2025-09-26T18:52:45.146008",
     "status": "completed"
    },
    "slideshow": {
     "slide_type": ""
    },
    "tags": []
   },
   "outputs": [],
   "source": [
    "# Add edge weights\n",
    "\n",
    "for (i, j) in G.edges():\n",
    "    G[i][j]['w'] = w[G[i][j]['rel_type']]"
   ]
  },
  {
   "cell_type": "markdown",
   "id": "c98c18d6-f80e-47f3-91bd-258d444d2d08",
   "metadata": {
    "editable": true,
    "papermill": {
     "duration": 0.009713,
     "end_time": "2025-09-26T18:52:45.236223",
     "exception": false,
     "start_time": "2025-09-26T18:52:45.226510",
     "status": "completed"
    },
    "slideshow": {
     "slide_type": ""
    },
    "tags": []
   },
   "source": [
    "## Find communities"
   ]
  },
  {
   "cell_type": "code",
   "execution_count": 8,
   "id": "b1205d9e-4492-4c2d-8034-52c4323b3a20",
   "metadata": {
    "editable": true,
    "execution": {
     "iopub.execute_input": "2025-09-26T18:52:45.260421Z",
     "iopub.status.busy": "2025-09-26T18:52:45.260007Z",
     "iopub.status.idle": "2025-09-26T18:52:45.702316Z",
     "shell.execute_reply": "2025-09-26T18:52:45.697824Z"
    },
    "papermill": {
     "duration": 0.456932,
     "end_time": "2025-09-26T18:52:45.704989",
     "exception": false,
     "start_time": "2025-09-26T18:52:45.248057",
     "status": "completed"
    },
    "slideshow": {
     "slide_type": ""
    },
    "tags": []
   },
   "outputs": [],
   "source": [
    "H = nx.Graph(G) # create an undirected graph H from a directed graph G\n",
    "\n",
    "# compute the best partition\n",
    "communities = community_louvain.best_partition(H, weight='w')\n",
    "\n",
    "# write communities on file\n",
    "with open(communities_out, 'w') as csv_file:\n",
    "    csv_file.write('node, cluster/community\\n')\n",
    "    for node in communities:\n",
    "        csv_file.write(f'{node},{communities[node]}\\n')"
   ]
  },
  {
   "cell_type": "markdown",
   "id": "e6627e68-4939-4275-8ed8-43a323b64d2e",
   "metadata": {
    "editable": true,
    "papermill": {
     "duration": 0.018092,
     "end_time": "2025-09-26T18:52:45.747648",
     "exception": false,
     "start_time": "2025-09-26T18:52:45.729556",
     "status": "completed"
    },
    "slideshow": {
     "slide_type": ""
    },
    "tags": []
   },
   "source": [
    "## Find communities for the entity subgraph"
   ]
  },
  {
   "cell_type": "code",
   "execution_count": 9,
   "id": "476f02c9-d605-4213-8225-951cd9beb7e5",
   "metadata": {
    "editable": true,
    "execution": {
     "iopub.execute_input": "2025-09-26T18:52:45.791814Z",
     "iopub.status.busy": "2025-09-26T18:52:45.791226Z",
     "iopub.status.idle": "2025-09-26T18:52:46.240321Z",
     "shell.execute_reply": "2025-09-26T18:52:46.238940Z"
    },
    "papermill": {
     "duration": 0.473344,
     "end_time": "2025-09-26T18:52:46.242848",
     "exception": false,
     "start_time": "2025-09-26T18:52:45.769504",
     "status": "completed"
    },
    "slideshow": {
     "slide_type": ""
    },
    "tags": []
   },
   "outputs": [
    {
     "name": "stdout",
     "output_type": "stream",
     "text": [
      "Community 32:\n",
      " - Genre (id:80)\n",
      "Community 33:\n",
      " - UserCredential (id:58)\n",
      "Community 34:\n",
      " - Transcoding (id:61)\n",
      " - RandomSearchCriteria (id:65)\n",
      " - MusicFolder (id:78)\n",
      "Community 36:\n",
      " - SavedPlayQueue (id:63)\n",
      "Community 8:\n",
      " - Player (id:55)\n",
      "Community 40:\n",
      " - Playlist (id:67)\n",
      "Community 41:\n",
      " - Bookmark (id:69)\n",
      "Community 43:\n",
      " - User (id:66)\n",
      " - UserSettings (id:71)\n",
      " - Avatar (id:74)\n",
      "Community 13:\n",
      " - MediaFile (id:46)\n",
      " - InternetRadio (id:49)\n",
      " - PlayQueue (id:59)\n",
      " - Artist (id:73)\n",
      " - Album (id:77)\n",
      "Community 45:\n",
      " - Share (id:75)\n",
      "Community 24:\n",
      " - PodcastChannel (id:45)\n",
      "Community 25:\n",
      " - PodcastEpisode (id:48)\n",
      "Community 31:\n",
      " - AbstractDao (id:118)\n"
     ]
    }
   ],
   "source": [
    "K = nx.Graph(G) # create an undirected graph H from a directed graph G\n",
    "\n",
    "# Remove non-entity nodes\n",
    "\n",
    "for i in list(K.nodes):\n",
    "    if K.nodes[i]['type']!='Entity':\n",
    "        K.remove_node(i)\n",
    "\n",
    "# Obtain subgraph of entities that have direct relationships with the persistence layer:\n",
    "    \n",
    "        \n",
    "# compute the best partition\n",
    "entity_cluster = community_louvain.best_partition(K, weight='w')\n",
    "\n",
    "# Remove nodes that do not have direct relationships with methods from the cluster dictionary:\n",
    "e_dict = dict()\n",
    "# Check if entity has a relationship with some method of the persistence layer (it will remove entities from the controller model, for instance)\n",
    "for e in entity_cluster:\n",
    "    e_dict[e] = False\n",
    "    for (i,j) in G.edges():\n",
    "        if e==j and G[i][j]['rel_type'] in ['Persists']:\n",
    "            e_dict[e]=True\n",
    "\n",
    "# Remove non-related entities\n",
    "for entity_to_remove in e_dict:\n",
    "    if not e_dict[entity_to_remove]:\n",
    "        # print('INFO: Entity ' + G.nodes[entity_to_remove]['name'] + ' removed from the clusters')\n",
    "        entity_cluster.pop(entity_to_remove)\n",
    "\n",
    "for i in set(entity_cluster.values()):\n",
    "    print(f'Community {i}:')\n",
    "    for entity, cluster in entity_cluster.items():\n",
    "        if cluster == i:\n",
    "            print(f' - {G.nodes()[entity][\"name\"]} (id:{entity})')"
   ]
  },
  {
   "cell_type": "markdown",
   "id": "9d385bf2-cf31-45e0-8d84-fd44715a1028",
   "metadata": {
    "editable": true,
    "papermill": {
     "duration": 0.010758,
     "end_time": "2025-09-26T18:52:46.264700",
     "exception": false,
     "start_time": "2025-09-26T18:52:46.253942",
     "status": "completed"
    },
    "slideshow": {
     "slide_type": ""
    },
    "tags": []
   },
   "source": [
    "### _User input required!_\n",
    "\n",
    "Refine, if needed, entity clusters"
   ]
  },
  {
   "cell_type": "code",
   "execution_count": 10,
   "id": "021636e9-07ea-45c6-9eab-e34e93503e9b",
   "metadata": {
    "editable": true,
    "execution": {
     "iopub.execute_input": "2025-09-26T18:52:46.302554Z",
     "iopub.status.busy": "2025-09-26T18:52:46.302111Z",
     "iopub.status.idle": "2025-09-26T18:52:46.314243Z",
     "shell.execute_reply": "2025-09-26T18:52:46.309931Z"
    },
    "papermill": {
     "duration": 0.035085,
     "end_time": "2025-09-26T18:52:46.316738",
     "exception": false,
     "start_time": "2025-09-26T18:52:46.281653",
     "status": "completed"
    },
    "slideshow": {
     "slide_type": ""
    },
    "tags": []
   },
   "outputs": [],
   "source": [
    "# Remove entity from its cluster\n",
    "entity_ids_to_remove = [] # <-- Put Ids as strings (example: ['1', '3']\n",
    "\n",
    "# Place entity into a cluster\n",
    "entities_clusters_to_place = [] # <-- Example: entity X in cluster Y: ('X', 5)\n",
    "\n",
    "\n",
    "for e in entity_ids_to_remove:\n",
    "    entity_cluster.pop(e)\n",
    "    print(f'INFO: Removed entity {G.nodes()[e][\"name\"]} from clusters')\n",
    "\n",
    "for (e, cluster) in entities_clusters_to_place:\n",
    "    entity_cluster[e] = cluster\n",
    "    print(f'INFO: Entity {G.nodes()[e][\"name\"]} put into cluster {cluster}')"
   ]
  },
  {
   "cell_type": "code",
   "execution_count": 11,
   "id": "03cb8c9a-f2d0-46ad-a857-11e31be27470",
   "metadata": {
    "editable": true,
    "execution": {
     "iopub.execute_input": "2025-09-26T18:52:46.367786Z",
     "iopub.status.busy": "2025-09-26T18:52:46.367313Z",
     "iopub.status.idle": "2025-09-26T18:52:46.382065Z",
     "shell.execute_reply": "2025-09-26T18:52:46.380894Z"
    },
    "papermill": {
     "duration": 0.044992,
     "end_time": "2025-09-26T18:52:46.385539",
     "exception": false,
     "start_time": "2025-09-26T18:52:46.340547",
     "status": "completed"
    },
    "slideshow": {
     "slide_type": ""
    },
    "tags": []
   },
   "outputs": [
    {
     "name": "stdout",
     "output_type": "stream",
     "text": [
      "Entities in community 0: ['PodcastChannel']\n",
      "Entities in community 1: ['MediaFile', 'InternetRadio', 'PlayQueue', 'Artist', 'Album']\n",
      "Entities in community 2: ['PodcastEpisode']\n",
      "Entities in community 3: ['Player']\n",
      "Entities in community 4: ['UserCredential']\n",
      "Entities in community 5: ['Transcoding', 'RandomSearchCriteria', 'MusicFolder']\n",
      "Entities in community 6: ['SavedPlayQueue']\n",
      "Entities in community 7: ['User', 'UserSettings', 'Avatar']\n",
      "Entities in community 8: ['Playlist']\n",
      "Entities in community 9: ['Bookmark']\n",
      "Entities in community 10: ['Share']\n",
      "Entities in community 11: ['Genre']\n",
      "Entities in community 12: ['AbstractDao']\n"
     ]
    }
   ],
   "source": [
    "# Some cluster may have disappeared: remaining clusters need to be renumbered\n",
    "cluster_map = dict()\n",
    "counter=0\n",
    "number_mapping = dict() # maps the old cluster number with the new one\n",
    "for entity_key, old_number in entity_cluster.items():\n",
    "    if old_number not in number_mapping:\n",
    "        number_mapping[old_number] = counter\n",
    "        counter+=1\n",
    "    cluster_map[number_mapping[old_number]] = cluster_map.get(number_mapping[old_number], []) + [entity_key]\n",
    "    \n",
    "for cluster in cluster_map:\n",
    "    print('Entities in community ' + str(cluster) + ': ' + str([G.nodes[entity_key]['name'] for entity_key in cluster_map[cluster]]))\n",
    "\n",
    "n_micros = len(cluster_map)"
   ]
  },
  {
   "cell_type": "code",
   "execution_count": 12,
   "id": "bd909d53-3681-43aa-baa0-5d38556bb40b",
   "metadata": {
    "editable": true,
    "execution": {
     "iopub.execute_input": "2025-09-26T18:52:46.421044Z",
     "iopub.status.busy": "2025-09-26T18:52:46.420512Z",
     "iopub.status.idle": "2025-09-26T18:52:46.439622Z",
     "shell.execute_reply": "2025-09-26T18:52:46.438425Z"
    },
    "papermill": {
     "duration": 0.036592,
     "end_time": "2025-09-26T18:52:46.442211",
     "exception": false,
     "start_time": "2025-09-26T18:52:46.405619",
     "status": "completed"
    },
    "slideshow": {
     "slide_type": ""
    },
    "tags": []
   },
   "outputs": [
    {
     "name": "stdout",
     "output_type": "stream",
     "text": [
      "Entities in community 0 are in clusters: []\n",
      "Entities in community 1 are in clusters: [10]\n",
      "Entities in community 2 are in clusters: [4, 7]\n",
      "Entities in community 3 are in clusters: [7, 7]\n",
      "Entities in community 4 are in clusters: []\n",
      "Entities in community 5 are in clusters: [1, 3, 5, 6]\n",
      "Entities in community 6 are in clusters: [1]\n",
      "Entities in community 7 are in clusters: [5]\n",
      "Entities in community 8 are in clusters: []\n",
      "Entities in community 9 are in clusters: []\n",
      "Entities in community 10 are in clusters: []\n",
      "Entities in community 11 are in clusters: []\n",
      "Entities in community 12 are in clusters: [1, 5]\n",
      "Entities in community 13 are in clusters: []\n",
      "Entities in community 14 are in clusters: []\n",
      "Entities in community 15 are in clusters: []\n",
      "Entities in community 16 are in clusters: [1]\n",
      "Entities in community 17 are in clusters: [0, 2]\n",
      "Entities in community 18 are in clusters: [1]\n",
      "Entities in community 19 are in clusters: [9, 12]\n",
      "Entities in community 20 are in clusters: [11]\n",
      "Entities in community 21 are in clusters: [8]\n",
      "Entities in community 22 are in clusters: []\n",
      "Entities in community 23 are in clusters: []\n",
      "Entities in community 24 are in clusters: []\n",
      "Entities in community 25 are in clusters: []\n",
      "Relaxed communities: [2, 5, 12, 17, 19]\n"
     ]
    }
   ],
   "source": [
    "# Resolve conflicts of distribution of entities into communities: if entities of the same community are in different clusters, then remove the community from the dictionary\n",
    "\n",
    "communities_dict = dict() # Map community -> entities into the communities\n",
    "\n",
    "\n",
    "for node in G.nodes():\n",
    "    if G.nodes[node]['type'] == 'Entity':\n",
    "        communities_dict[communities[node]] = communities_dict.get(communities[node], []) + [node]\n",
    "\n",
    "communities_to_relax = []\n",
    "\n",
    "for community in communities_dict:\n",
    "    clusters = []\n",
    "    for cluster, entities in cluster_map.items():\n",
    "        for e in entities:\n",
    "            if e in communities_dict[community]:\n",
    "                clusters.append(cluster)\n",
    "    print(f'Entities in community {community} are in clusters: {clusters}')\n",
    "    if len(clusters) > 0 and not all(clusters[0] == c for c in clusters):\n",
    "        #print(f'Remove community {community}')\n",
    "        communities_to_relax.append(community)\n",
    "\n",
    "nodes_to_remove_from_dict = []\n",
    "for node in communities.keys():\n",
    "    if communities[node] in communities_to_relax:\n",
    "        nodes_to_remove_from_dict.append(node)\n",
    "\n",
    "for node in nodes_to_remove_from_dict:\n",
    "    del communities[node]\n",
    "\n",
    "print(f'Relaxed communities: {communities_to_relax}')"
   ]
  },
  {
   "cell_type": "markdown",
   "id": "3c6fe2ac-0fb0-456d-8b81-8d93a3439be8",
   "metadata": {
    "editable": true,
    "papermill": {
     "duration": 0.011428,
     "end_time": "2025-09-26T18:52:46.465476",
     "exception": false,
     "start_time": "2025-09-26T18:52:46.454048",
     "status": "completed"
    },
    "slideshow": {
     "slide_type": ""
    },
    "tags": []
   },
   "source": [
    "## ILP Formulation"
   ]
  },
  {
   "cell_type": "code",
   "execution_count": 13,
   "id": "bceb7240-b83a-4b0b-b380-b95cd1bb2b0e",
   "metadata": {
    "editable": true,
    "execution": {
     "iopub.execute_input": "2025-09-26T18:52:46.490810Z",
     "iopub.status.busy": "2025-09-26T18:52:46.490317Z",
     "iopub.status.idle": "2025-09-26T18:53:01.605995Z",
     "shell.execute_reply": "2025-09-26T18:53:01.604926Z"
    },
    "papermill": {
     "duration": 15.131027,
     "end_time": "2025-09-26T18:53:01.608075",
     "exception": false,
     "start_time": "2025-09-26T18:52:46.477048",
     "status": "completed"
    },
    "slideshow": {
     "slide_type": ""
    },
    "tags": []
   },
   "outputs": [
    {
     "name": "stdout",
     "output_type": "stream",
     "text": [
      "Set parameter WLSAccessID\n"
     ]
    },
    {
     "name": "stdout",
     "output_type": "stream",
     "text": [
      "Set parameter WLSSecret\n"
     ]
    },
    {
     "name": "stdout",
     "output_type": "stream",
     "text": [
      "Set parameter LicenseID to value 2713550\n"
     ]
    },
    {
     "name": "stdout",
     "output_type": "stream",
     "text": [
      "Academic license 2713550 - for non-commercial use only - registered to av___@gmail.com\n"
     ]
    }
   ],
   "source": [
    "model = gb.Model()\n",
    "\n",
    "# Variables\n",
    "x = model.addVars(((i,k) for i in G.nodes() for k in range(n_micros)),\\\n",
    "                  vtype=gb.GRB.BINARY, name='x')\n",
    "\n",
    "z = model.addVars(((i,j,k) for (i,j) in G.edges() for k in range(n_micros)), vtype=gb.GRB.BINARY, name='z')\n",
    "\n",
    "y = model.addVars(((i,j) for (i,j) in G.edges()), vtype=gb.GRB.BINARY, name='y')\n",
    "\n",
    "# Each node has to be in one and only one microservice\n",
    "model.addConstrs((x.sum(i, '*') == 1 for i in G.nodes()), name='(1)microservice-belonging')\n",
    "\n",
    "# A microservice can not be composed of entities only\n",
    "model.addConstrs((gb.quicksum(x[i,k] for i in G.nodes() if G.nodes[i]['type']!='Entity') >= 1 for k in range(n_micros)), name='(2)microservice-composition')\n",
    "\n",
    "# Bonding variables\n",
    "model.addConstrs((z[i,j,k]-x[i,k] <= 0 for (i,j) in G.edges() for k in range(n_micros)), name='(3)bonding-z-to-x')\n",
    "model.addConstrs((z[i,j,k]-x[j,k] <= 0 for (i,j) in G.edges() for k in range(n_micros)), name='(4)bonding-z-to-x')\n",
    "model.addConstrs((x[i,k]+x[j,k]-z[i,j,k] <= 1 for (i,j) in G.edges() for k in range(n_micros)), name='(5)bonding-z-to-x')\n",
    "\n",
    "model.addConstrs((y[i,j]==gb.quicksum(z[i,j,k] for k in range(n_micros)) for (i,j) in G.edges()), name='(6)bonding-y-to-z')\n",
    "\n",
    "\n",
    "########## Added constraints ##########\n",
    "\n",
    "# Force each entity from the kth cluster to be in the kth microservice\n",
    "model.addConstrs((x[i,k]==1 for k in cluster_map for i in cluster_map[k]), name='(7)bonding-x-to-entity-clusters')\n",
    "\n",
    "# Force node of the same community to be in the same (consider a community only if there are not entities from different clusters)\n",
    "communities_constraint = model.addConstrs((y[i,j]==1 for (i,j) in G.edges() if i in communities and j in communities and communities[i]==communities[j]), name='(8)bonding-y-to-communities')\n",
    "\n",
    "\n",
    "########## Objective function ##########\n",
    "\n",
    "coupling = gb.quicksum(G.edges[i,j]['w']*(1-y[i,j]) for (i,j) in G.edges())\n",
    "\n",
    "model.setObjective(coupling, gb.GRB.MINIMIZE)\n",
    "\n",
    "model.write(formulation_out)"
   ]
  },
  {
   "cell_type": "code",
   "execution_count": 14,
   "id": "081eb8b2-d436-45fa-886c-7051ff07d125",
   "metadata": {
    "editable": true,
    "execution": {
     "iopub.execute_input": "2025-09-26T18:53:01.639292Z",
     "iopub.status.busy": "2025-09-26T18:53:01.638104Z",
     "iopub.status.idle": "2025-09-26T18:53:13.991264Z",
     "shell.execute_reply": "2025-09-26T18:53:13.990334Z"
    },
    "papermill": {
     "duration": 12.373336,
     "end_time": "2025-09-26T18:53:13.993404",
     "exception": false,
     "start_time": "2025-09-26T18:53:01.620068",
     "status": "completed"
    },
    "slideshow": {
     "slide_type": ""
    },
    "tags": []
   },
   "outputs": [
    {
     "name": "stdout",
     "output_type": "stream",
     "text": [
      "Gurobi Optimizer version 12.0.3 build v12.0.3rc0 (linux64 - \"Linux Mint 22.1\")\n"
     ]
    },
    {
     "name": "stdout",
     "output_type": "stream",
     "text": [
      "\n"
     ]
    },
    {
     "name": "stdout",
     "output_type": "stream",
     "text": [
      "CPU model: Intel(R) Core(TM) i7-8550U CPU @ 1.80GHz, instruction set [SSE2|AVX|AVX2]\n"
     ]
    },
    {
     "name": "stdout",
     "output_type": "stream",
     "text": [
      "Thread count: 4 physical cores, 8 logical processors, using up to 8 threads\n"
     ]
    },
    {
     "name": "stdout",
     "output_type": "stream",
     "text": [
      "\n"
     ]
    },
    {
     "name": "stdout",
     "output_type": "stream",
     "text": [
      "Academic license 2713550 - for non-commercial use only - registered to av___@gmail.com\n"
     ]
    },
    {
     "name": "stdout",
     "output_type": "stream",
     "text": [
      "Optimize a model with 149411 rows, 69096 columns and 420629 nonzeros\n"
     ]
    },
    {
     "name": "stdout",
     "output_type": "stream",
     "text": [
      "Model fingerprint: 0x2edc4d87\n"
     ]
    },
    {
     "name": "stdout",
     "output_type": "stream",
     "text": [
      "Variable types: 0 continuous, 69096 integer (69096 binary)\n"
     ]
    },
    {
     "name": "stdout",
     "output_type": "stream",
     "text": [
      "Coefficient statistics:\n"
     ]
    },
    {
     "name": "stdout",
     "output_type": "stream",
     "text": [
      "  Matrix range     [1e+00, 2e+00]\n"
     ]
    },
    {
     "name": "stdout",
     "output_type": "stream",
     "text": [
      "  Objective range  [1e-01, 3e-01]\n"
     ]
    },
    {
     "name": "stdout",
     "output_type": "stream",
     "text": [
      "  Bounds range     [1e+00, 1e+00]\n"
     ]
    },
    {
     "name": "stdout",
     "output_type": "stream",
     "text": [
      "  RHS range        [1e+00, 1e+00]\n"
     ]
    },
    {
     "name": "stdout",
     "output_type": "stream",
     "text": [
      "Presolve removed 90662 rows and 38216 columns (presolve time = 5s)...\n"
     ]
    },
    {
     "name": "stdout",
     "output_type": "stream",
     "text": [
      "Presolve removed 104639 rows and 45932 columns (presolve time = 10s)...\n"
     ]
    },
    {
     "name": "stdout",
     "output_type": "stream",
     "text": [
      "Presolve removed 105371 rows and 45953 columns\n"
     ]
    },
    {
     "name": "stdout",
     "output_type": "stream",
     "text": [
      "Presolve time: 10.33s\n"
     ]
    },
    {
     "name": "stdout",
     "output_type": "stream",
     "text": [
      "Presolved: 44040 rows, 23143 columns, 126204 nonzeros\n"
     ]
    },
    {
     "name": "stdout",
     "output_type": "stream",
     "text": [
      "Variable types: 0 continuous, 23143 integer (23143 binary)\n"
     ]
    },
    {
     "name": "stdout",
     "output_type": "stream",
     "text": [
      "Found heuristic solution: objective 224.8083953\n"
     ]
    },
    {
     "name": "stdout",
     "output_type": "stream",
     "text": [
      "Found heuristic solution: objective 174.0825779\n"
     ]
    },
    {
     "name": "stdout",
     "output_type": "stream",
     "text": [
      "\n"
     ]
    },
    {
     "name": "stdout",
     "output_type": "stream",
     "text": [
      "Deterministic concurrent LP optimizer: primal and dual simplex (primal and dual model)\n"
     ]
    },
    {
     "name": "stdout",
     "output_type": "stream",
     "text": [
      "Showing primal log only...\n"
     ]
    },
    {
     "name": "stdout",
     "output_type": "stream",
     "text": [
      "\n"
     ]
    },
    {
     "name": "stdout",
     "output_type": "stream",
     "text": [
      "Root relaxation presolved: 44040 rows, 23143 columns, 126204 nonzeros\n"
     ]
    },
    {
     "name": "stdout",
     "output_type": "stream",
     "text": [
      "\n"
     ]
    },
    {
     "name": "stdout",
     "output_type": "stream",
     "text": [
      "\n"
     ]
    },
    {
     "name": "stdout",
     "output_type": "stream",
     "text": [
      "Root simplex log...\n"
     ]
    },
    {
     "name": "stdout",
     "output_type": "stream",
     "text": [
      "\n"
     ]
    },
    {
     "name": "stdout",
     "output_type": "stream",
     "text": [
      "Iteration    Objective       Primal Inf.    Dual Inf.      Time\n"
     ]
    },
    {
     "name": "stdout",
     "output_type": "stream",
     "text": [
      "       0    2.3566027e+02   1.430000e+02   4.330016e+08     11s\n"
     ]
    },
    {
     "name": "stdout",
     "output_type": "stream",
     "text": [
      "Concurrent spin time: 0.34s (can be avoided by choosing Method=3)\n"
     ]
    },
    {
     "name": "stdout",
     "output_type": "stream",
     "text": [
      "\n"
     ]
    },
    {
     "name": "stdout",
     "output_type": "stream",
     "text": [
      "Solved with dual simplex\n"
     ]
    },
    {
     "name": "stdout",
     "output_type": "stream",
     "text": [
      "\n"
     ]
    },
    {
     "name": "stdout",
     "output_type": "stream",
     "text": [
      "Root relaxation: objective 1.345202e+02, 12781 iterations, 1.49 seconds (0.29 work units)\n"
     ]
    },
    {
     "name": "stdout",
     "output_type": "stream",
     "text": [
      "\n"
     ]
    },
    {
     "name": "stdout",
     "output_type": "stream",
     "text": [
      "    Nodes    |    Current Node    |     Objective Bounds      |     Work\n"
     ]
    },
    {
     "name": "stdout",
     "output_type": "stream",
     "text": [
      " Expl Unexpl |  Obj  Depth IntInf | Incumbent    BestBd   Gap | It/Node Time\n"
     ]
    },
    {
     "name": "stdout",
     "output_type": "stream",
     "text": [
      "\n"
     ]
    },
    {
     "name": "stdout",
     "output_type": "stream",
     "text": [
      "*    0     0               0     134.5201584  134.52016  0.00%     -   12s\n"
     ]
    },
    {
     "name": "stdout",
     "output_type": "stream",
     "text": [
      "\n"
     ]
    },
    {
     "name": "stdout",
     "output_type": "stream",
     "text": [
      "Explored 1 nodes (12781 simplex iterations) in 12.32 seconds (3.45 work units)\n"
     ]
    },
    {
     "name": "stdout",
     "output_type": "stream",
     "text": [
      "Thread count was 8 (of 8 available processors)\n"
     ]
    },
    {
     "name": "stdout",
     "output_type": "stream",
     "text": [
      "\n"
     ]
    },
    {
     "name": "stdout",
     "output_type": "stream",
     "text": [
      "Solution count 3: 134.52 174.083 224.808 \n"
     ]
    },
    {
     "name": "stdout",
     "output_type": "stream",
     "text": [
      "\n"
     ]
    },
    {
     "name": "stdout",
     "output_type": "stream",
     "text": [
      "Optimal solution found (tolerance 1.00e-04)\n"
     ]
    },
    {
     "name": "stdout",
     "output_type": "stream",
     "text": [
      "Best objective 1.345201584043e+02, best bound 1.345201584043e+02, gap 0.0000%\n"
     ]
    }
   ],
   "source": [
    "model.optimize()"
   ]
  },
  {
   "cell_type": "markdown",
   "id": "c2bb0cfd-3f6e-4806-908c-628a86f4574f",
   "metadata": {
    "editable": true,
    "papermill": {
     "duration": 0.016606,
     "end_time": "2025-09-26T18:53:14.026945",
     "exception": false,
     "start_time": "2025-09-26T18:53:14.010339",
     "status": "completed"
    },
    "slideshow": {
     "slide_type": ""
    },
    "tags": []
   },
   "source": [
    "## Result Analysis"
   ]
  },
  {
   "cell_type": "code",
   "execution_count": 15,
   "id": "78f5ab5d-204b-48b6-bec9-9e2647d47855",
   "metadata": {
    "editable": true,
    "execution": {
     "iopub.execute_input": "2025-09-26T18:53:14.063231Z",
     "iopub.status.busy": "2025-09-26T18:53:14.062805Z",
     "iopub.status.idle": "2025-09-26T18:53:14.373335Z",
     "shell.execute_reply": "2025-09-26T18:53:14.372386Z"
    },
    "papermill": {
     "duration": 0.331777,
     "end_time": "2025-09-26T18:53:14.375584",
     "exception": false,
     "start_time": "2025-09-26T18:53:14.043807",
     "status": "completed"
    },
    "slideshow": {
     "slide_type": ""
    },
    "tags": []
   },
   "outputs": [],
   "source": [
    "# Compute cohesion:\n",
    "inside_w = dict()\n",
    "outside_w = dict()\n",
    "total_w = 0\n",
    "\n",
    "for i,j in G.edges():\n",
    "    total_w += G[i][j]['w']\n",
    "    for k in range(n_micros):\n",
    "        if z[i,j,k].x == 1: # Edge (i,j) is inside microservice k: sum the weight as inside\n",
    "            inside_w[k] = inside_w.get(k, 0) + G[i][j]['w']\n",
    "        if x[i,k].x == 1: # Edge (i,j) has its origin in k: sum the weigth as outside\n",
    "            outside_w[k] = outside_w.get(k, 0) + G[i][j]['w']\n",
    "\n",
    "cohesion_dict = dict()\n",
    "for k in range(n_micros):\n",
    "    cohesion_dict[k] = inside_w[k] / outside_w[k]\n",
    "\n",
    "cohesion = sum(cohesion_dict.values())/n_micros"
   ]
  },
  {
   "cell_type": "code",
   "execution_count": 16,
   "id": "b4f4589c-f9db-4123-89b3-9d1266b6297b",
   "metadata": {
    "editable": true,
    "execution": {
     "iopub.execute_input": "2025-09-26T18:53:14.400600Z",
     "iopub.status.busy": "2025-09-26T18:53:14.400119Z",
     "iopub.status.idle": "2025-09-26T18:53:14.501644Z",
     "shell.execute_reply": "2025-09-26T18:53:14.500631Z"
    },
    "papermill": {
     "duration": 0.114969,
     "end_time": "2025-09-26T18:53:14.504013",
     "exception": false,
     "start_time": "2025-09-26T18:53:14.389044",
     "status": "completed"
    },
    "slideshow": {
     "slide_type": ""
    },
    "tags": []
   },
   "outputs": [
    {
     "name": "stdout",
     "output_type": "stream",
     "text": [
      "Found 13 microservices\n",
      "Total coupling value: 134.52015840429613 (10.347704492638163 avg.)\n",
      "Cohesion value: 0.7599374293800106\n",
      "\n",
      "Entities in Microservice 0:\n",
      "- LastFmCache\n",
      "- PodcastChannel\n",
      "- WebApp\n",
      "- ServletDef\n",
      "- ServletMappingDef\n",
      "- UserSettingsValidator\n",
      "Entities in Microservice 1:\n",
      "- LyricsInfo\n",
      "- ArtistInfo\n",
      "- SimilarArtist\n",
      "- MediaFileEntry\n",
      "- AlbumList\n",
      "- LastFMScrobbler\n",
      "- ListenBrainzScrobbler\n",
      "- MetaDataParser\n",
      "- MetaData\n",
      "- ArtistBio\n",
      "- MediaFile\n",
      "- InternetRadio\n",
      "- MediaLibraryStatistics\n",
      "- MusicIndex\n",
      "- SearchCriteria\n",
      "- SearchResult\n",
      "- PlayQueue\n",
      "- MusicFolderContent\n",
      "- AlbumNotes\n",
      "- InternetRadioSource\n",
      "- LastFmCoverArt\n",
      "- Artist\n",
      "- MediaFileComparator\n",
      "- Album\n",
      "- SearchCommand\n",
      "Entities in Microservice 2:\n",
      "- RESTFilter\n",
      "- ConfigurationPropertiesService\n",
      "- SonosSoapFault\n",
      "- PodcastEpisode\n",
      "- JAXBWriter\n",
      "Entities in Microservice 3:\n",
      "- PlayQueueInfo\n",
      "- Player\n",
      "Entities in Microservice 4:\n",
      "- SaltedTokenPasswordEncoder\n",
      "- SaltToken\n",
      "- UserCredential\n",
      "- CredentialsManagementCommand\n",
      "Entities in Microservice 5:\n",
      "- UploadInfo\n",
      "- NowPlayingInfo\n",
      "- AudioPlayer\n",
      "- PlayerTest\n",
      "- LambdaUtils\n",
      "- PlayStatus\n",
      "- TransferStatus\n",
      "- Transcoding\n",
      "- VideoTranscodingSettings\n",
      "- RandomSearchCriteria\n",
      "- MusicFolder\n",
      "- KnownLengthInputStreamResource\n",
      "- EnumHolder\n",
      "- PlayerSettingsCommand\n",
      "- MonitoredDiskFileItemFactory\n",
      "- TranscodeInputStream\n",
      "- PlayQueueInputStream\n",
      "- ShoutCastOutputStream\n",
      "Entities in Microservice 6:\n",
      "- SavedPlayQueue\n",
      "Entities in Microservice 7:\n",
      "- RESTRequestParameterProcessingFilter\n",
      "- SonosServiceRegistration\n",
      "- CustomContentDirectory\n",
      "- MSMediaReceiverRegistrarService\n",
      "- Version\n",
      "- User\n",
      "- UserSettings\n",
      "- Avatar\n",
      "- Theme\n",
      "- PersonalSettingsCommand\n",
      "- DatabaseSettingsCommand\n",
      "- UserSettingsCommand\n",
      "- PodcastSettingsCommand\n",
      "- AdvancedSettingsCommand\n",
      "- GeneralSettingsCommand\n",
      "- MusicFolderSettingsCommand\n",
      "- MonitoredOutputStream\n",
      "- MonitoredDiskFileItem\n",
      "Entities in Microservice 8:\n",
      "- Playlist\n",
      "Entities in Microservice 9:\n",
      "- Bookmark\n",
      "Entities in Microservice 10:\n",
      "- JWTAuthenticationToken\n",
      "- MediaFileWithUrlInfo\n",
      "- Share\n",
      "Entities in Microservice 11:\n",
      "- Genres\n",
      "- Genre\n",
      "Entities in Microservice 12:\n",
      "- HexPasswordEncoder\n",
      "- UpnpContentProcessor\n",
      "- AbstractDao\n",
      "\n",
      "\n",
      "\n",
      "# of method calls crossing microservices: 487\n",
      "# of entity references crossing microservices: 14\n",
      "# of entity usages crossing microservices: 249\n",
      "# of methods persisting entities of other microservices: 44\n"
     ]
    },
    {
     "data": {
      "application/scrapbook.scrap.json+json": {
       "data": 13,
       "encoder": "json",
       "name": "n_micros",
       "version": 1
      }
     },
     "metadata": {
      "scrapbook": {
       "data": true,
       "display": false,
       "name": "n_micros"
      }
     },
     "output_type": "display_data"
    },
    {
     "data": {
      "application/scrapbook.scrap.json+json": {
       "data": 10.347704492638163,
       "encoder": "json",
       "name": "avg_cop",
       "version": 1
      }
     },
     "metadata": {
      "scrapbook": {
       "data": true,
       "display": false,
       "name": "avg_cop"
      }
     },
     "output_type": "display_data"
    },
    {
     "data": {
      "application/scrapbook.scrap.json+json": {
       "data": 0.7599374293800106,
       "encoder": "json",
       "name": "cohesion",
       "version": 1
      }
     },
     "metadata": {
      "scrapbook": {
       "data": true,
       "display": false,
       "name": "cohesion"
      }
     },
     "output_type": "display_data"
    },
    {
     "data": {
      "application/scrapbook.scrap.json+json": {
       "data": 487,
       "encoder": "json",
       "name": "n_calls",
       "version": 1
      }
     },
     "metadata": {
      "scrapbook": {
       "data": true,
       "display": false,
       "name": "n_calls"
      }
     },
     "output_type": "display_data"
    },
    {
     "data": {
      "application/scrapbook.scrap.json+json": {
       "data": 14,
       "encoder": "json",
       "name": "n_refs",
       "version": 1
      }
     },
     "metadata": {
      "scrapbook": {
       "data": true,
       "display": false,
       "name": "n_refs"
      }
     },
     "output_type": "display_data"
    },
    {
     "data": {
      "application/scrapbook.scrap.json+json": {
       "data": 249,
       "encoder": "json",
       "name": "n_uses",
       "version": 1
      }
     },
     "metadata": {
      "scrapbook": {
       "data": true,
       "display": false,
       "name": "n_uses"
      }
     },
     "output_type": "display_data"
    },
    {
     "data": {
      "application/scrapbook.scrap.json+json": {
       "data": 44,
       "encoder": "json",
       "name": "n_persist",
       "version": 1
      }
     },
     "metadata": {
      "scrapbook": {
       "data": true,
       "display": false,
       "name": "n_persist"
      }
     },
     "output_type": "display_data"
    },
    {
     "data": {
      "application/scrapbook.scrap.json+json": {
       "data": 596.2172807428378,
       "encoder": "json",
       "name": "total_w",
       "version": 1
      }
     },
     "metadata": {
      "scrapbook": {
       "data": true,
       "display": false,
       "name": "total_w"
      }
     },
     "output_type": "display_data"
    }
   ],
   "source": [
    "show_methods = False\n",
    "\n",
    "analysis_output = \"\"\n",
    "\n",
    "analysis_output += f'Found {str(n_micros)} microservices\\n'\n",
    "\n",
    "analysis_output += f'Total coupling value: {model.objVal} ({model.objVal/n_micros} avg.)\\n'\n",
    "analysis_output += f'Cohesion value: {cohesion}\\n\\n'\n",
    "\n",
    "for k in range(n_micros):\n",
    "    analysis_output += f'Entities in Microservice {str(k)}:\\n'\n",
    "    for i in G.nodes():\n",
    "        if G.nodes[i]['type'] == 'Entity' and x[i,k].x == 1:\n",
    "            analysis_output += f'- {G.nodes[i][\"name\"]}\\n'\n",
    "\n",
    "if show_methods:\n",
    "    for k in range(n_micros):\n",
    "        analysis_output += f'\\n\\nMethods in Microservice {str(k)}:\\n'\n",
    "        for i in G.nodes():\n",
    "            if G.nodes[i]['type'] == 'Method' and x[i,k].x == 1:\n",
    "                analysis_output += f'- {G.nodes[i][\"name\"]} ({G.nodes[i][\"class_name\"]})\\n'\n",
    "\n",
    "mcalls = 0\n",
    "references = 0\n",
    "uses = 0\n",
    "persists = 0\n",
    "\n",
    "for i,j in G.edges():\n",
    "    if y[i,j].x == 0:\n",
    "        if G[i][j]['rel_type'] == 'Calls':\n",
    "            mcalls += 1 \n",
    "        elif G[i][j]['rel_type'] == 'References':\n",
    "            references += 1\n",
    "        elif G[i][j]['rel_type'] == 'Uses':\n",
    "            uses += 1\n",
    "        elif G[i][j]['rel_type'] == 'Persists':\n",
    "            persists += 1\n",
    "\n",
    "analysis_output += f'\\n\\n\\n# of method calls crossing microservices: {mcalls}'\n",
    "analysis_output += f'\\n# of entity references crossing microservices: {references}'\n",
    "analysis_output += f'\\n# of entity usages crossing microservices: {uses}'\n",
    "analysis_output += f'\\n# of methods persisting entities of other microservices: {persists}'\n",
    "\n",
    "print(analysis_output)\n",
    "\n",
    "sb.glue(\"n_micros\", n_micros)\n",
    "sb.glue(\"avg_cop\", model.objVal/n_micros)\n",
    "sb.glue(\"cohesion\", cohesion)\n",
    "sb.glue(\"n_calls\", mcalls)\n",
    "sb.glue(\"n_refs\", references)\n",
    "sb.glue(\"n_uses\", uses)\n",
    "sb.glue(\"n_persist\", persists)\n",
    "sb.glue(\"total_w\", total_w)\n",
    "\n",
    "with open(analysis_out, 'w') as analysis_file:\n",
    "    analysis_file.write(analysis_output)"
   ]
  },
  {
   "cell_type": "code",
   "execution_count": 17,
   "id": "3519b123-a48c-4070-ab5f-b17393c76ad2",
   "metadata": {
    "editable": true,
    "execution": {
     "iopub.execute_input": "2025-09-26T18:53:14.558503Z",
     "iopub.status.busy": "2025-09-26T18:53:14.558076Z",
     "iopub.status.idle": "2025-09-26T18:53:14.634117Z",
     "shell.execute_reply": "2025-09-26T18:53:14.633241Z"
    },
    "papermill": {
     "duration": 0.105354,
     "end_time": "2025-09-26T18:53:14.635942",
     "exception": false,
     "start_time": "2025-09-26T18:53:14.530588",
     "status": "completed"
    },
    "slideshow": {
     "slide_type": ""
    },
    "tags": []
   },
   "outputs": [],
   "source": [
    "with open(solution_csv_out, 'w') as results_csv:\n",
    "    results_csv.write('node_key,microservice\\n')\n",
    "    counter = 0\n",
    "    for i in G.nodes():\n",
    "        for k in range(n_micros):\n",
    "            if x[i,k].x == 1:\n",
    "                results_csv.write(f'{i},{k}\\n')\n",
    "                counter+=1\n",
    "    \n",
    "    if counter!=len(G.nodes()):\n",
    "        print('Error! There are nodes not assigned into microservices?!')"
   ]
  },
  {
   "cell_type": "code",
   "execution_count": 18,
   "id": "6e8cfeef-174f-4742-ac5f-4862676bad36",
   "metadata": {
    "editable": true,
    "execution": {
     "iopub.execute_input": "2025-09-26T18:53:14.662106Z",
     "iopub.status.busy": "2025-09-26T18:53:14.661589Z",
     "iopub.status.idle": "2025-09-26T18:53:14.667667Z",
     "shell.execute_reply": "2025-09-26T18:53:14.666043Z"
    },
    "papermill": {
     "duration": 0.025873,
     "end_time": "2025-09-26T18:53:14.674573",
     "exception": false,
     "start_time": "2025-09-26T18:53:14.648700",
     "status": "completed"
    },
    "slideshow": {
     "slide_type": ""
    },
    "tags": []
   },
   "outputs": [],
   "source": [
    "if not headless:\n",
    "    DrawSol(G, x, graph_image_out)\n",
    "    \n",
    "    display(Image(filename = graph_image_out))"
   ]
  }
 ],
 "metadata": {
  "kernelspec": {
   "display_name": "Python 3 (ipykernel)",
   "language": "python",
   "name": "python3"
  },
  "language_info": {
   "codemirror_mode": {
    "name": "ipython",
    "version": 3
   },
   "file_extension": ".py",
   "mimetype": "text/x-python",
   "name": "python",
   "nbconvert_exporter": "python",
   "pygments_lexer": "ipython3",
   "version": "3.12.3"
  },
  "papermill": {
   "default_parameters": {},
   "duration": 49.960234,
   "end_time": "2025-09-26T18:53:15.715537",
   "environment_variables": {},
   "exception": null,
   "input_path": "2-Decomposition_optimization.ipynb",
   "output_path": "outputs/output_step_2_airsonic-advanced-106.ipynb",
   "parameters": {
    "headless": true,
    "project": "airsonic-advanced-106",
    "w": {
     "Calls": 0.1058060015872633,
     "Extends": 0.24757556425296062,
     "Persists": 0.24598215764509793,
     "References": 0.11740005173294432,
     "Uses": 0.2832362247817339
    }
   },
   "start_time": "2025-09-26T18:52:25.755303",
   "version": "2.6.0"
  },
  "vscode": {
   "interpreter": {
    "hash": "84d57bcf988df7741739090f92038d55c89d5ee4bebfcc0bea6a6c98a16573ca"
   }
  }
 },
 "nbformat": 4,
 "nbformat_minor": 5
}