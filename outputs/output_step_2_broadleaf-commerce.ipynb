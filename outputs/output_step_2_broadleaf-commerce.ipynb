{
 "cells": [
  {
   "cell_type": "code",
   "execution_count": 1,
   "id": "63ce5fa3-e2cb-4565-ba94-8fa943d68162",
   "metadata": {
    "editable": true,
    "execution": {
     "iopub.execute_input": "2025-09-27T13:55:01.864646Z",
     "iopub.status.busy": "2025-09-27T13:55:01.863956Z",
     "iopub.status.idle": "2025-09-27T13:55:24.161419Z",
     "shell.execute_reply": "2025-09-27T13:55:24.159686Z"
    },
    "papermill": {
     "duration": 22.359476,
     "end_time": "2025-09-27T13:55:24.168170",
     "exception": false,
     "start_time": "2025-09-27T13:55:01.808694",
     "status": "completed"
    },
    "slideshow": {
     "slide_type": ""
    },
    "tags": []
   },
   "outputs": [],
   "source": [
    "#!/usr/bin/env python\n",
    "import scrapbook as sb\n",
    "import networkx as nx\n",
    "import pygraphviz as pygv\n",
    "import gurobipy as gb\n",
    "import json\n",
    "from community import community_louvain\n",
    "from IPython.display import Image, display\n",
    "\n",
    "def DrawSol (G, x, filename):\n",
    "    global n_micros\n",
    "\n",
    "    DrawG = pygv.AGraph(directed=True, strict='true', splines='true')\n",
    "\n",
    "    colors = ['green', 'blue', 'red', 'orange', 'yellow', 'purple', 'black', 'gray', 'cyan', 'brown', 'hotpink', 'navy', 'darkgreen', 'chocolate', 'deeppink', 'firebrick', 'gold', 'orchid', 'gold4']\n",
    "    \n",
    "    for i in G.nodes():\n",
    "        if G.nodes[i]['type'] == 'Entity':\n",
    "            shape='hexagon'\n",
    "        else:\n",
    "            shape='circle'\n",
    "\n",
    "        for k in range(n_micros):\n",
    "            if x[i,k].x == 1:\n",
    "                # Get cluster number k\n",
    "                if k<len(colors):\n",
    "                    color=colors[k]\n",
    "                else:\n",
    "                    color = 'black'\n",
    "        DrawG.add_node (i, color=color, shape=shape, width=0.1, fontsize=9, label=G.nodes[i]['name'])\n",
    "\n",
    "    for i in G.edges():\n",
    "        edge_color = 'black' if G[i[0]][i[1]]['rel_type'] in ['Calls','Persists', 'References'] else 'gray'\n",
    "        DrawG.add_edge(i[0], i[1], color=edge_color, label=G[i[0]][i[1]]['rel_type'], fontsize='8')\n",
    "        \n",
    "    DrawG.layout(prog='dot')\n",
    "    DrawG.draw(filename)"
   ]
  },
  {
   "cell_type": "markdown",
   "id": "e3e92b53-40f6-4740-8a99-c40877eb9681",
   "metadata": {
    "editable": true,
    "papermill": {
     "duration": 0.026714,
     "end_time": "2025-09-27T13:55:24.223720",
     "exception": false,
     "start_time": "2025-09-27T13:55:24.197006",
     "status": "completed"
    },
    "slideshow": {
     "slide_type": ""
    },
    "tags": []
   },
   "source": [
    "### _Configuration!_\n",
    "\n",
    "Keep the project list up-to-date and select the project to be analyzed"
   ]
  },
  {
   "cell_type": "markdown",
   "id": "369f6589-5ded-4162-85ea-3c37b9026765",
   "metadata": {
    "editable": true,
    "papermill": {
     "duration": 0.021714,
     "end_time": "2025-09-27T13:55:24.272054",
     "exception": false,
     "start_time": "2025-09-27T13:55:24.250340",
     "status": "completed"
    },
    "slideshow": {
     "slide_type": ""
    },
    "tags": []
   },
   "source": [
    "### _User input required!_\n",
    "\n",
    "Update, if needed the default weigth of the edges"
   ]
  },
  {
   "cell_type": "code",
   "execution_count": 2,
   "id": "05c7e2d2-7f39-4109-a665-36a40e5be7de",
   "metadata": {
    "editable": true,
    "execution": {
     "iopub.execute_input": "2025-09-27T13:55:24.327098Z",
     "iopub.status.busy": "2025-09-27T13:55:24.325975Z",
     "iopub.status.idle": "2025-09-27T13:55:24.345790Z",
     "shell.execute_reply": "2025-09-27T13:55:24.343919Z"
    },
    "papermill": {
     "duration": 0.052557,
     "end_time": "2025-09-27T13:55:24.348901",
     "exception": false,
     "start_time": "2025-09-27T13:55:24.296344",
     "status": "completed"
    },
    "slideshow": {
     "slide_type": ""
    },
    "tags": [
     "parameters"
    ]
   },
   "outputs": [],
   "source": [
    "project = 'jpetstore' # <-- Set this variable!\n",
    "# Weighting edges:\n",
    "w = dict()\n",
    "w['Calls']=0.8\n",
    "w['Persists']=1\n",
    "w['Uses']=0.6\n",
    "w['References']=0.2\n",
    "w['Extends']=0\n",
    "headless = False"
   ]
  },
  {
   "cell_type": "code",
   "execution_count": 3,
   "id": "9374bc36",
   "metadata": {
    "execution": {
     "iopub.execute_input": "2025-09-27T13:55:24.405161Z",
     "iopub.status.busy": "2025-09-27T13:55:24.404359Z",
     "iopub.status.idle": "2025-09-27T13:55:24.423155Z",
     "shell.execute_reply": "2025-09-27T13:55:24.421516Z"
    },
    "papermill": {
     "duration": 0.055042,
     "end_time": "2025-09-27T13:55:24.431994",
     "exception": false,
     "start_time": "2025-09-27T13:55:24.376952",
     "status": "completed"
    },
    "tags": [
     "injected-parameters"
    ]
   },
   "outputs": [],
   "source": [
    "# Parameters\n",
    "project = \"broadleaf-commerce\"\n",
    "w = {\"Calls\": 0.10690435856124572, \"Persists\": 0.6415838011045456, \"References\": 0.06555731906666606, \"Extends\": 0.08937084843403942, \"Uses\": 0.09658367283350322}\n",
    "headless = True\n"
   ]
  },
  {
   "cell_type": "code",
   "execution_count": 4,
   "id": "654afedb-2f70-4c65-b23e-5e01c98d8d13",
   "metadata": {
    "editable": true,
    "execution": {
     "iopub.execute_input": "2025-09-27T13:55:24.495599Z",
     "iopub.status.busy": "2025-09-27T13:55:24.491837Z",
     "iopub.status.idle": "2025-09-27T13:55:24.520577Z",
     "shell.execute_reply": "2025-09-27T13:55:24.515928Z"
    },
    "papermill": {
     "duration": 0.069479,
     "end_time": "2025-09-27T13:55:24.528085",
     "exception": false,
     "start_time": "2025-09-27T13:55:24.458606",
     "status": "completed"
    },
    "slideshow": {
     "slide_type": ""
    },
    "tags": []
   },
   "outputs": [],
   "source": [
    "\n",
    "\n",
    "with open('projects.json', 'r') as projects:\n",
    "    project_found = False\n",
    "    for data in json.load(projects):\n",
    "        if data['name'] == project:\n",
    "            analysis_results_basedir = data['analysis_results_basedir']\n",
    "            project_found = True\n",
    "    if not project_found:\n",
    "        print('ERROR: project ' + project + ' does not appear in project.json')"
   ]
  },
  {
   "cell_type": "code",
   "execution_count": 5,
   "id": "c9f2f54d-61ce-4b68-a80a-68b94ef0ce32",
   "metadata": {
    "editable": true,
    "execution": {
     "iopub.execute_input": "2025-09-27T13:55:24.595813Z",
     "iopub.status.busy": "2025-09-27T13:55:24.593122Z",
     "iopub.status.idle": "2025-09-27T13:55:24.616518Z",
     "shell.execute_reply": "2025-09-27T13:55:24.614710Z"
    },
    "papermill": {
     "duration": 0.06508,
     "end_time": "2025-09-27T13:55:24.620880",
     "exception": false,
     "start_time": "2025-09-27T13:55:24.555800",
     "status": "completed"
    },
    "slideshow": {
     "slide_type": ""
    },
    "tags": []
   },
   "outputs": [],
   "source": [
    "# Set output names\n",
    "\n",
    "graph_in = analysis_results_basedir + project + '_graph.gml'\n",
    "communities_out = analysis_results_basedir + project + '_communities.csv'\n",
    "formulation_out = analysis_results_basedir + project + '_communities_improved_optimization.lp'\n",
    "solution_csv_out = analysis_results_basedir + project + '_sol_communities_improved_optimization.csv'\n",
    "graph_image_out = analysis_results_basedir + project + '_sol_communities_improved_optimization.png'\n",
    "analysis_out = analysis_results_basedir + project + '_sol_communities_improved_optimization.txt'"
   ]
  },
  {
   "cell_type": "code",
   "execution_count": 6,
   "id": "5c2c34a6-0072-4335-aa24-5592aa2b0eb7",
   "metadata": {
    "editable": true,
    "execution": {
     "iopub.execute_input": "2025-09-27T13:55:24.675498Z",
     "iopub.status.busy": "2025-09-27T13:55:24.673302Z",
     "iopub.status.idle": "2025-09-27T13:55:25.867306Z",
     "shell.execute_reply": "2025-09-27T13:55:25.865661Z"
    },
    "papermill": {
     "duration": 1.223399,
     "end_time": "2025-09-27T13:55:25.870400",
     "exception": false,
     "start_time": "2025-09-27T13:55:24.647001",
     "status": "completed"
    },
    "slideshow": {
     "slide_type": ""
    },
    "tags": []
   },
   "outputs": [],
   "source": [
    "# Import graph\n",
    "\n",
    "G = nx.read_graphml(graph_in)"
   ]
  },
  {
   "cell_type": "code",
   "execution_count": 7,
   "id": "dce09914-e79b-4094-8343-eb55557825f3",
   "metadata": {
    "editable": true,
    "execution": {
     "iopub.execute_input": "2025-09-27T13:55:25.935932Z",
     "iopub.status.busy": "2025-09-27T13:55:25.935390Z",
     "iopub.status.idle": "2025-09-27T13:55:25.991914Z",
     "shell.execute_reply": "2025-09-27T13:55:25.986922Z"
    },
    "papermill": {
     "duration": 0.101379,
     "end_time": "2025-09-27T13:55:25.995600",
     "exception": false,
     "start_time": "2025-09-27T13:55:25.894221",
     "status": "completed"
    },
    "slideshow": {
     "slide_type": ""
    },
    "tags": []
   },
   "outputs": [],
   "source": [
    "# Add edge weights\n",
    "\n",
    "for (i, j) in G.edges():\n",
    "    G[i][j]['w'] = w[G[i][j]['rel_type']]"
   ]
  },
  {
   "cell_type": "markdown",
   "id": "c98c18d6-f80e-47f3-91bd-258d444d2d08",
   "metadata": {
    "editable": true,
    "papermill": {
     "duration": 0.032555,
     "end_time": "2025-09-27T13:55:26.059098",
     "exception": false,
     "start_time": "2025-09-27T13:55:26.026543",
     "status": "completed"
    },
    "slideshow": {
     "slide_type": ""
    },
    "tags": []
   },
   "source": [
    "## Find communities"
   ]
  },
  {
   "cell_type": "code",
   "execution_count": 8,
   "id": "b1205d9e-4492-4c2d-8034-52c4323b3a20",
   "metadata": {
    "editable": true,
    "execution": {
     "iopub.execute_input": "2025-09-27T13:55:26.123024Z",
     "iopub.status.busy": "2025-09-27T13:55:26.122436Z",
     "iopub.status.idle": "2025-09-27T13:55:27.955294Z",
     "shell.execute_reply": "2025-09-27T13:55:27.953911Z"
    },
    "papermill": {
     "duration": 1.878497,
     "end_time": "2025-09-27T13:55:27.968091",
     "exception": false,
     "start_time": "2025-09-27T13:55:26.089594",
     "status": "completed"
    },
    "slideshow": {
     "slide_type": ""
    },
    "tags": []
   },
   "outputs": [],
   "source": [
    "H = nx.Graph(G) # create an undirected graph H from a directed graph G\n",
    "\n",
    "# compute the best partition\n",
    "communities = community_louvain.best_partition(H, weight='w')\n",
    "\n",
    "# write communities on file\n",
    "with open(communities_out, 'w') as csv_file:\n",
    "    csv_file.write('node, cluster/community\\n')\n",
    "    for node in communities:\n",
    "        csv_file.write(f'{node},{communities[node]}\\n')"
   ]
  },
  {
   "cell_type": "markdown",
   "id": "e6627e68-4939-4275-8ed8-43a323b64d2e",
   "metadata": {
    "editable": true,
    "papermill": {
     "duration": 0.015957,
     "end_time": "2025-09-27T13:55:28.034569",
     "exception": false,
     "start_time": "2025-09-27T13:55:28.018612",
     "status": "completed"
    },
    "slideshow": {
     "slide_type": ""
    },
    "tags": []
   },
   "source": [
    "## Find communities for the entity subgraph"
   ]
  },
  {
   "cell_type": "code",
   "execution_count": 9,
   "id": "476f02c9-d605-4213-8225-951cd9beb7e5",
   "metadata": {
    "editable": true,
    "execution": {
     "iopub.execute_input": "2025-09-27T13:55:28.064702Z",
     "iopub.status.busy": "2025-09-27T13:55:28.063890Z",
     "iopub.status.idle": "2025-09-27T13:55:30.753676Z",
     "shell.execute_reply": "2025-09-27T13:55:30.751774Z"
    },
    "papermill": {
     "duration": 2.711077,
     "end_time": "2025-09-27T13:55:30.758253",
     "exception": false,
     "start_time": "2025-09-27T13:55:28.047176",
     "status": "completed"
    },
    "slideshow": {
     "slide_type": ""
    },
    "tags": []
   },
   "outputs": [
    {
     "name": "stdout",
     "output_type": "stream",
     "text": [
      "Community 128:\n",
      " - SkuProductOptionValueXrefImpl (id:322)\n",
      "Community 132:\n",
      " - AssignedProductOptionDTO (id:328)\n",
      "Community 5:\n",
      " - CustomerPhoneImpl (id:7)\n",
      "Community 6:\n",
      " - CustomerPaymentImpl (id:9)\n",
      "Community 9:\n",
      " - PhoneImpl (id:12)\n",
      "Community 11:\n",
      " - StateImpl (id:15)\n",
      "Community 12:\n",
      " - CountrySubdivisionImpl (id:16)\n",
      "Community 15:\n",
      " - CustomerImpl (id:23)\n",
      " - OrderImpl (id:220)\n",
      " - OrderItemImpl (id:229)\n",
      " - AbstractModuleConfiguration (id:760)\n",
      "Community 16:\n",
      " - CountryImpl (id:24)\n",
      "Community 17:\n",
      " - CustomerAddressImpl (id:25)\n",
      " - OfferCodeImpl (id:100)\n",
      " - OfferImpl (id:110)\n",
      " - OrderPaymentImpl (id:130)\n",
      " - PaymentTransactionImpl (id:132)\n",
      " - StoreImpl (id:151)\n",
      " - CategoryImpl (id:306)\n",
      " - ProductImpl (id:320)\n",
      " - SiteImpl (id:530)\n",
      " - CatalogImpl (id:531)\n",
      " - SandBoxImpl (id:823)\n",
      "Community 18:\n",
      " - AddressImpl (id:27)\n",
      "Community 24:\n",
      " - ShippingRateImpl (id:47)\n",
      "Community 26:\n",
      " - CodeTypeImpl (id:55)\n",
      "Community 48:\n",
      " - CustomerOfferImpl (id:107)\n",
      "Community 49:\n",
      " - OfferAuditImpl (id:114)\n",
      "Community 54:\n",
      " - RatingType (id:137)\n",
      "Community 57:\n",
      " - ReviewDetailImpl (id:140)\n",
      "Community 58:\n",
      " - RatingSummaryImpl (id:141)\n",
      "Community 187:\n",
      " - ExtensionResultHolder (id:588)\n",
      "Community 188:\n",
      " - StandardCacheItem (id:590)\n",
      "Community 61:\n",
      " - FulfillmentOptionImpl (id:213)\n",
      "Community 65:\n",
      " - OrderStatus (id:168)\n",
      "Community 66:\n",
      " - FulfillmentGroupStatusType (id:169)\n",
      "Community 67:\n",
      " - OrderItemType (id:170)\n",
      "Community 68:\n",
      " - FulfillmentType (id:171)\n",
      "Community 196:\n",
      " - StreamCapableTransactionalOperationAdapter (id:627)\n",
      "Community 200:\n",
      " - BatchRetrieveDao (id:662)\n",
      "Community 88:\n",
      " - FulfillmentGroupItemImpl (id:218)\n",
      "Community 90:\n",
      " - NullOrderImpl (id:223)\n",
      "Community 91:\n",
      " - FulfillmentGroupImpl (id:227)\n",
      "Community 222:\n",
      " - ModuleConfigurationType (id:759)\n",
      "Community 223:\n",
      " - NullSystemProperty (id:761)\n",
      "Community 224:\n",
      " - SystemPropertyImpl (id:762)\n",
      "Community 97:\n",
      " - CatalogStructure (id:279)\n",
      "Community 99:\n",
      " - SearchFacetImpl (id:260)\n",
      "Community 100:\n",
      " - SearchCriteria (id:261)\n",
      "Community 102:\n",
      " - IndexFieldImpl (id:264)\n",
      "Community 103:\n",
      " - SearchFacetRangeImpl (id:267)\n",
      "Community 104:\n",
      " - IndexFieldTypeImpl (id:270)\n",
      "Community 105:\n",
      " - FieldEntity (id:271)\n",
      "Community 106:\n",
      " - FieldImpl (id:273)\n",
      "Community 107:\n",
      " - FieldType (id:274)\n",
      "Community 108:\n",
      " - SearchRedirectImpl (id:275)\n",
      "Community 109:\n",
      " - ParentCategoryByProduct (id:276)\n",
      "Community 110:\n",
      " - ParentCategoryByCategory (id:278)\n",
      "Community 251:\n",
      " - TranslatedEntity (id:853)\n",
      "Community 243:\n",
      " - SandBoxManagementImpl (id:822)\n",
      "Community 244:\n",
      " - SandBoxType (id:824)\n",
      "Community 252:\n",
      " - TranslationImpl (id:854)\n",
      "Community 118:\n",
      " - ProductType (id:295)\n",
      "Community 254:\n",
      " - BroadleafRequestContext (id:863)\n",
      "Community 253:\n",
      " - ISOCountryImpl (id:855)\n",
      "Community 122:\n",
      " - SkuImpl (id:303)\n",
      "Community 123:\n",
      " - ProductOptionImpl (id:304)\n",
      "Community 124:\n",
      " - ProductOptionXrefImpl (id:315)\n",
      "Community 125:\n",
      " - CategoryProductXrefImpl (id:316)\n",
      "Community 126:\n",
      " - ProductOptionValueImpl (id:317)\n"
     ]
    }
   ],
   "source": [
    "K = nx.Graph(G) # create an undirected graph H from a directed graph G\n",
    "\n",
    "# Remove non-entity nodes\n",
    "\n",
    "for i in list(K.nodes):\n",
    "    if K.nodes[i]['type']!='Entity':\n",
    "        K.remove_node(i)\n",
    "\n",
    "# Obtain subgraph of entities that have direct relationships with the persistence layer:\n",
    "    \n",
    "        \n",
    "# compute the best partition\n",
    "entity_cluster = community_louvain.best_partition(K, weight='w')\n",
    "\n",
    "# Remove nodes that do not have direct relationships with methods from the cluster dictionary:\n",
    "e_dict = dict()\n",
    "# Check if entity has a relationship with some method of the persistence layer (it will remove entities from the controller model, for instance)\n",
    "for e in entity_cluster:\n",
    "    e_dict[e] = False\n",
    "    for (i,j) in G.edges():\n",
    "        if e==j and G[i][j]['rel_type'] in ['Persists']:\n",
    "            e_dict[e]=True\n",
    "\n",
    "# Remove non-related entities\n",
    "for entity_to_remove in e_dict:\n",
    "    if not e_dict[entity_to_remove]:\n",
    "        # print('INFO: Entity ' + G.nodes[entity_to_remove]['name'] + ' removed from the clusters')\n",
    "        entity_cluster.pop(entity_to_remove)\n",
    "\n",
    "for i in set(entity_cluster.values()):\n",
    "    print(f'Community {i}:')\n",
    "    for entity, cluster in entity_cluster.items():\n",
    "        if cluster == i:\n",
    "            print(f' - {G.nodes()[entity][\"name\"]} (id:{entity})')"
   ]
  },
  {
   "cell_type": "markdown",
   "id": "9d385bf2-cf31-45e0-8d84-fd44715a1028",
   "metadata": {
    "editable": true,
    "papermill": {
     "duration": 0.027962,
     "end_time": "2025-09-27T13:55:30.807067",
     "exception": false,
     "start_time": "2025-09-27T13:55:30.779105",
     "status": "completed"
    },
    "slideshow": {
     "slide_type": ""
    },
    "tags": []
   },
   "source": [
    "### _User input required!_\n",
    "\n",
    "Refine, if needed, entity clusters"
   ]
  },
  {
   "cell_type": "code",
   "execution_count": 10,
   "id": "021636e9-07ea-45c6-9eab-e34e93503e9b",
   "metadata": {
    "editable": true,
    "execution": {
     "iopub.execute_input": "2025-09-27T13:55:30.850958Z",
     "iopub.status.busy": "2025-09-27T13:55:30.850483Z",
     "iopub.status.idle": "2025-09-27T13:55:30.862191Z",
     "shell.execute_reply": "2025-09-27T13:55:30.860428Z"
    },
    "papermill": {
     "duration": 0.034878,
     "end_time": "2025-09-27T13:55:30.866037",
     "exception": false,
     "start_time": "2025-09-27T13:55:30.831159",
     "status": "completed"
    },
    "slideshow": {
     "slide_type": ""
    },
    "tags": []
   },
   "outputs": [],
   "source": [
    "# Remove entity from its cluster\n",
    "entity_ids_to_remove = [] # <-- Put Ids as strings (example: ['1', '3']\n",
    "\n",
    "# Place entity into a cluster\n",
    "entities_clusters_to_place = [] # <-- Example: entity X in cluster Y: ('X', 5)\n",
    "\n",
    "\n",
    "for e in entity_ids_to_remove:\n",
    "    entity_cluster.pop(e)\n",
    "    print(f'INFO: Removed entity {G.nodes()[e][\"name\"]} from clusters')\n",
    "\n",
    "for (e, cluster) in entities_clusters_to_place:\n",
    "    entity_cluster[e] = cluster\n",
    "    print(f'INFO: Entity {G.nodes()[e][\"name\"]} put into cluster {cluster}')"
   ]
  },
  {
   "cell_type": "code",
   "execution_count": 11,
   "id": "03cb8c9a-f2d0-46ad-a857-11e31be27470",
   "metadata": {
    "editable": true,
    "execution": {
     "iopub.execute_input": "2025-09-27T13:55:30.897721Z",
     "iopub.status.busy": "2025-09-27T13:55:30.896207Z",
     "iopub.status.idle": "2025-09-27T13:55:30.918061Z",
     "shell.execute_reply": "2025-09-27T13:55:30.915162Z"
    },
    "papermill": {
     "duration": 0.042637,
     "end_time": "2025-09-27T13:55:30.921972",
     "exception": false,
     "start_time": "2025-09-27T13:55:30.879335",
     "status": "completed"
    },
    "slideshow": {
     "slide_type": ""
    },
    "tags": []
   },
   "outputs": [
    {
     "name": "stdout",
     "output_type": "stream",
     "text": [
      "Entities in community 0: ['CustomerPhoneImpl']\n",
      "Entities in community 1: ['CustomerPaymentImpl']\n",
      "Entities in community 2: ['PhoneImpl']\n",
      "Entities in community 3: ['StateImpl']\n",
      "Entities in community 4: ['CountrySubdivisionImpl']\n",
      "Entities in community 5: ['CustomerImpl', 'OrderImpl', 'OrderItemImpl', 'AbstractModuleConfiguration']\n",
      "Entities in community 6: ['CountryImpl']\n",
      "Entities in community 7: ['CustomerAddressImpl', 'OfferCodeImpl', 'OfferImpl', 'OrderPaymentImpl', 'PaymentTransactionImpl', 'StoreImpl', 'CategoryImpl', 'ProductImpl', 'SiteImpl', 'CatalogImpl', 'SandBoxImpl']\n",
      "Entities in community 8: ['AddressImpl']\n",
      "Entities in community 9: ['ShippingRateImpl']\n",
      "Entities in community 10: ['CodeTypeImpl']\n",
      "Entities in community 11: ['CustomerOfferImpl']\n",
      "Entities in community 12: ['OfferAuditImpl']\n",
      "Entities in community 13: ['RatingType']\n",
      "Entities in community 14: ['ReviewDetailImpl']\n",
      "Entities in community 15: ['RatingSummaryImpl']\n",
      "Entities in community 16: ['OrderStatus']\n",
      "Entities in community 17: ['FulfillmentGroupStatusType']\n",
      "Entities in community 18: ['OrderItemType']\n",
      "Entities in community 19: ['FulfillmentType']\n",
      "Entities in community 20: ['FulfillmentOptionImpl']\n",
      "Entities in community 21: ['FulfillmentGroupItemImpl']\n",
      "Entities in community 22: ['NullOrderImpl']\n",
      "Entities in community 23: ['FulfillmentGroupImpl']\n",
      "Entities in community 24: ['SearchFacetImpl']\n",
      "Entities in community 25: ['SearchCriteria']\n",
      "Entities in community 26: ['IndexFieldImpl']\n",
      "Entities in community 27: ['SearchFacetRangeImpl']\n",
      "Entities in community 28: ['IndexFieldTypeImpl']\n",
      "Entities in community 29: ['FieldEntity']\n",
      "Entities in community 30: ['FieldImpl']\n",
      "Entities in community 31: ['FieldType']\n",
      "Entities in community 32: ['SearchRedirectImpl']\n",
      "Entities in community 33: ['ParentCategoryByProduct']\n",
      "Entities in community 34: ['ParentCategoryByCategory']\n",
      "Entities in community 35: ['CatalogStructure']\n",
      "Entities in community 36: ['ProductType']\n",
      "Entities in community 37: ['SkuImpl']\n",
      "Entities in community 38: ['ProductOptionImpl']\n",
      "Entities in community 39: ['ProductOptionXrefImpl']\n",
      "Entities in community 40: ['CategoryProductXrefImpl']\n",
      "Entities in community 41: ['ProductOptionValueImpl']\n",
      "Entities in community 42: ['SkuProductOptionValueXrefImpl']\n",
      "Entities in community 43: ['AssignedProductOptionDTO']\n",
      "Entities in community 44: ['ExtensionResultHolder']\n",
      "Entities in community 45: ['StandardCacheItem']\n",
      "Entities in community 46: ['StreamCapableTransactionalOperationAdapter']\n",
      "Entities in community 47: ['BatchRetrieveDao']\n",
      "Entities in community 48: ['ModuleConfigurationType']\n",
      "Entities in community 49: ['NullSystemProperty']\n",
      "Entities in community 50: ['SystemPropertyImpl']\n",
      "Entities in community 51: ['SandBoxManagementImpl']\n",
      "Entities in community 52: ['SandBoxType']\n",
      "Entities in community 53: ['TranslatedEntity']\n",
      "Entities in community 54: ['TranslationImpl']\n",
      "Entities in community 55: ['ISOCountryImpl']\n",
      "Entities in community 56: ['BroadleafRequestContext']\n"
     ]
    }
   ],
   "source": [
    "# Some cluster may have disappeared: remaining clusters need to be renumbered\n",
    "cluster_map = dict()\n",
    "counter=0\n",
    "number_mapping = dict() # maps the old cluster number with the new one\n",
    "for entity_key, old_number in entity_cluster.items():\n",
    "    if old_number not in number_mapping:\n",
    "        number_mapping[old_number] = counter\n",
    "        counter+=1\n",
    "    cluster_map[number_mapping[old_number]] = cluster_map.get(number_mapping[old_number], []) + [entity_key]\n",
    "    \n",
    "for cluster in cluster_map:\n",
    "    print('Entities in community ' + str(cluster) + ': ' + str([G.nodes[entity_key]['name'] for entity_key in cluster_map[cluster]]))\n",
    "\n",
    "n_micros = len(cluster_map)"
   ]
  },
  {
   "cell_type": "code",
   "execution_count": 12,
   "id": "bd909d53-3681-43aa-baa0-5d38556bb40b",
   "metadata": {
    "editable": true,
    "execution": {
     "iopub.execute_input": "2025-09-27T13:55:30.953576Z",
     "iopub.status.busy": "2025-09-27T13:55:30.952496Z",
     "iopub.status.idle": "2025-09-27T13:55:31.000598Z",
     "shell.execute_reply": "2025-09-27T13:55:30.998915Z"
    },
    "papermill": {
     "duration": 0.066456,
     "end_time": "2025-09-27T13:55:31.004718",
     "exception": false,
     "start_time": "2025-09-27T13:55:30.938262",
     "status": "completed"
    },
    "slideshow": {
     "slide_type": ""
    },
    "tags": []
   },
   "outputs": [
    {
     "name": "stdout",
     "output_type": "stream",
     "text": [
      "Entities in community 0 are in clusters: []\n",
      "Entities in community 1 are in clusters: [5, 5, 7, 12, 16]\n",
      "Entities in community 2 are in clusters: []\n",
      "Entities in community 3 are in clusters: []\n",
      "Entities in community 4 are in clusters: [48]\n",
      "Entities in community 5 are in clusters: [0, 14, 36]\n",
      "Entities in community 6 are in clusters: [1]\n",
      "Entities in community 7 are in clusters: []\n",
      "Entities in community 8 are in clusters: [2, 3, 6, 55]\n",
      "Entities in community 9 are in clusters: [4]\n",
      "Entities in community 10 are in clusters: []\n",
      "Entities in community 11 are in clusters: []\n",
      "Entities in community 12 are in clusters: [7]\n",
      "Entities in community 13 are in clusters: [8, 20]\n",
      "Entities in community 14 are in clusters: []\n",
      "Entities in community 15 are in clusters: [7, 22]\n",
      "Entities in community 16 are in clusters: [19, 21, 23]\n",
      "Entities in community 17 are in clusters: []\n",
      "Entities in community 18 are in clusters: [9]\n",
      "Entities in community 19 are in clusters: []\n",
      "Entities in community 20 are in clusters: [10]\n",
      "Entities in community 21 are in clusters: []\n",
      "Entities in community 22 are in clusters: []\n",
      "Entities in community 23 are in clusters: []\n",
      "Entities in community 24 are in clusters: []\n",
      "Entities in community 26 are in clusters: []\n",
      "Entities in community 27 are in clusters: []\n",
      "Entities in community 28 are in clusters: []\n",
      "Entities in community 29 are in clusters: []\n",
      "Entities in community 30 are in clusters: []\n",
      "Entities in community 31 are in clusters: []\n",
      "Entities in community 32 are in clusters: []\n",
      "Entities in community 33 are in clusters: []\n",
      "Entities in community 34 are in clusters: []\n",
      "Entities in community 35 are in clusters: []\n",
      "Entities in community 36 are in clusters: []\n",
      "Entities in community 37 are in clusters: []\n",
      "Entities in community 38 are in clusters: [5, 5, 7, 7, 7]\n",
      "Entities in community 39 are in clusters: [11]\n",
      "Entities in community 40 are in clusters: [7, 38, 41]\n",
      "Entities in community 41 are in clusters: []\n",
      "Entities in community 42 are in clusters: []\n",
      "Entities in community 43 are in clusters: []\n",
      "Entities in community 44 are in clusters: [13, 47]\n",
      "Entities in community 45 are in clusters: []\n",
      "Entities in community 46 are in clusters: [15]\n",
      "Entities in community 47 are in clusters: []\n",
      "Entities in community 48 are in clusters: []\n",
      "Entities in community 49 are in clusters: []\n",
      "Entities in community 50 are in clusters: []\n",
      "Entities in community 51 are in clusters: [17]\n",
      "Entities in community 52 are in clusters: [18]\n",
      "Entities in community 53 are in clusters: []\n",
      "Entities in community 54 are in clusters: []\n",
      "Entities in community 55 are in clusters: []\n",
      "Entities in community 56 are in clusters: []\n",
      "Entities in community 57 are in clusters: []\n",
      "Entities in community 58 are in clusters: []\n",
      "Entities in community 59 are in clusters: []\n",
      "Entities in community 60 are in clusters: [24, 26, 28, 29, 30, 31]\n",
      "Entities in community 61 are in clusters: [7, 25, 27, 40]\n",
      "Entities in community 62 are in clusters: [32]\n",
      "Entities in community 63 are in clusters: [7, 33, 34, 35]\n",
      "Entities in community 64 are in clusters: []\n",
      "Entities in community 65 are in clusters: []\n",
      "Entities in community 66 are in clusters: [50, 56]\n",
      "Entities in community 67 are in clusters: []\n",
      "Entities in community 68 are in clusters: []\n",
      "Entities in community 69 are in clusters: []\n",
      "Entities in community 70 are in clusters: []\n",
      "Entities in community 71 are in clusters: []\n",
      "Entities in community 72 are in clusters: [37, 42, 43]\n",
      "Entities in community 73 are in clusters: [39]\n",
      "Entities in community 74 are in clusters: []\n",
      "Entities in community 75 are in clusters: []\n",
      "Entities in community 76 are in clusters: []\n",
      "Entities in community 77 are in clusters: []\n",
      "Entities in community 78 are in clusters: []\n",
      "Entities in community 79 are in clusters: []\n",
      "Entities in community 80 are in clusters: []\n",
      "Entities in community 81 are in clusters: []\n",
      "Entities in community 82 are in clusters: []\n",
      "Entities in community 83 are in clusters: []\n",
      "Entities in community 84 are in clusters: []\n",
      "Entities in community 85 are in clusters: []\n",
      "Entities in community 86 are in clusters: []\n",
      "Entities in community 87 are in clusters: []\n",
      "Entities in community 88 are in clusters: []\n",
      "Entities in community 89 are in clusters: []\n",
      "Entities in community 90 are in clusters: []\n",
      "Entities in community 91 are in clusters: []\n",
      "Entities in community 92 are in clusters: []\n",
      "Entities in community 93 are in clusters: []\n",
      "Entities in community 94 are in clusters: []\n",
      "Entities in community 95 are in clusters: []\n",
      "Entities in community 96 are in clusters: []\n",
      "Entities in community 97 are in clusters: []\n",
      "Entities in community 98 are in clusters: []\n",
      "Entities in community 99 are in clusters: []\n",
      "Entities in community 100 are in clusters: []\n",
      "Entities in community 101 are in clusters: [45, 53, 54]\n",
      "Entities in community 102 are in clusters: []\n",
      "Entities in community 103 are in clusters: [7, 46]\n",
      "Entities in community 104 are in clusters: []\n",
      "Entities in community 105 are in clusters: []\n",
      "Entities in community 150 are in clusters: []\n",
      "Entities in community 107 are in clusters: []\n",
      "Entities in community 108 are in clusters: []\n",
      "Entities in community 109 are in clusters: []\n",
      "Entities in community 110 are in clusters: []\n",
      "Entities in community 111 are in clusters: []\n",
      "Entities in community 183 are in clusters: [44]\n",
      "Entities in community 113 are in clusters: []\n",
      "Entities in community 114 are in clusters: []\n",
      "Entities in community 115 are in clusters: []\n",
      "Entities in community 116 are in clusters: []\n",
      "Entities in community 117 are in clusters: []\n",
      "Entities in community 118 are in clusters: []\n",
      "Entities in community 119 are in clusters: []\n",
      "Entities in community 120 are in clusters: []\n",
      "Entities in community 121 are in clusters: []\n",
      "Entities in community 122 are in clusters: []\n",
      "Entities in community 123 are in clusters: []\n",
      "Entities in community 124 are in clusters: []\n",
      "Entities in community 125 are in clusters: []\n",
      "Entities in community 126 are in clusters: []\n",
      "Entities in community 127 are in clusters: []\n",
      "Entities in community 128 are in clusters: []\n",
      "Entities in community 129 are in clusters: []\n",
      "Entities in community 130 are in clusters: []\n",
      "Entities in community 131 are in clusters: []\n",
      "Entities in community 132 are in clusters: []\n",
      "Entities in community 133 are in clusters: []\n",
      "Entities in community 134 are in clusters: []\n",
      "Entities in community 135 are in clusters: []\n",
      "Entities in community 136 are in clusters: []\n",
      "Entities in community 137 are in clusters: [49]\n",
      "Entities in community 138 are in clusters: []\n",
      "Entities in community 139 are in clusters: []\n",
      "Entities in community 140 are in clusters: []\n",
      "Entities in community 141 are in clusters: []\n",
      "Entities in community 142 are in clusters: []\n",
      "Entities in community 143 are in clusters: []\n",
      "Entities in community 144 are in clusters: []\n",
      "Entities in community 145 are in clusters: []\n",
      "Entities in community 146 are in clusters: []\n",
      "Entities in community 147 are in clusters: []\n",
      "Entities in community 148 are in clusters: []\n",
      "Entities in community 149 are in clusters: [7, 51, 52]\n",
      "Entities in community 151 are in clusters: []\n",
      "Entities in community 152 are in clusters: []\n",
      "Entities in community 153 are in clusters: []\n",
      "Entities in community 154 are in clusters: []\n",
      "Entities in community 155 are in clusters: []\n",
      "Entities in community 156 are in clusters: []\n",
      "Entities in community 157 are in clusters: []\n",
      "Entities in community 158 are in clusters: []\n",
      "Entities in community 159 are in clusters: []\n",
      "Entities in community 160 are in clusters: []\n",
      "Entities in community 161 are in clusters: []\n",
      "Relaxed communities: [1, 5, 8, 13, 15, 16, 38, 40, 44, 60, 61, 63, 66, 72, 101, 103, 149]\n"
     ]
    }
   ],
   "source": [
    "# Resolve conflicts of distribution of entities into communities: if entities of the same community are in different clusters, then remove the community from the dictionary\n",
    "\n",
    "communities_dict = dict() # Map community -> entities into the communities\n",
    "\n",
    "\n",
    "for node in G.nodes():\n",
    "    if G.nodes[node]['type'] == 'Entity':\n",
    "        communities_dict[communities[node]] = communities_dict.get(communities[node], []) + [node]\n",
    "\n",
    "communities_to_relax = []\n",
    "\n",
    "for community in communities_dict:\n",
    "    clusters = []\n",
    "    for cluster, entities in cluster_map.items():\n",
    "        for e in entities:\n",
    "            if e in communities_dict[community]:\n",
    "                clusters.append(cluster)\n",
    "    print(f'Entities in community {community} are in clusters: {clusters}')\n",
    "    if len(clusters) > 0 and not all(clusters[0] == c for c in clusters):\n",
    "        #print(f'Remove community {community}')\n",
    "        communities_to_relax.append(community)\n",
    "\n",
    "nodes_to_remove_from_dict = []\n",
    "for node in communities.keys():\n",
    "    if communities[node] in communities_to_relax:\n",
    "        nodes_to_remove_from_dict.append(node)\n",
    "\n",
    "for node in nodes_to_remove_from_dict:\n",
    "    del communities[node]\n",
    "\n",
    "print(f'Relaxed communities: {communities_to_relax}')"
   ]
  },
  {
   "cell_type": "markdown",
   "id": "3c6fe2ac-0fb0-456d-8b81-8d93a3439be8",
   "metadata": {
    "editable": true,
    "papermill": {
     "duration": 0.013274,
     "end_time": "2025-09-27T13:55:31.032436",
     "exception": false,
     "start_time": "2025-09-27T13:55:31.019162",
     "status": "completed"
    },
    "slideshow": {
     "slide_type": ""
    },
    "tags": []
   },
   "source": [
    "## ILP Formulation"
   ]
  },
  {
   "cell_type": "code",
   "execution_count": 13,
   "id": "bceb7240-b83a-4b0b-b380-b95cd1bb2b0e",
   "metadata": {
    "editable": true,
    "execution": {
     "iopub.execute_input": "2025-09-27T13:55:31.061306Z",
     "iopub.status.busy": "2025-09-27T13:55:31.060812Z",
     "iopub.status.idle": "2025-09-27T13:56:21.950147Z",
     "shell.execute_reply": "2025-09-27T13:56:21.949220Z"
    },
    "papermill": {
     "duration": 50.905439,
     "end_time": "2025-09-27T13:56:21.951635",
     "exception": false,
     "start_time": "2025-09-27T13:55:31.046196",
     "status": "completed"
    },
    "slideshow": {
     "slide_type": ""
    },
    "tags": []
   },
   "outputs": [
    {
     "name": "stdout",
     "output_type": "stream",
     "text": [
      "Set parameter WLSAccessID\n"
     ]
    },
    {
     "name": "stdout",
     "output_type": "stream",
     "text": [
      "Set parameter WLSSecret\n"
     ]
    },
    {
     "name": "stdout",
     "output_type": "stream",
     "text": [
      "Set parameter LicenseID to value 2713550\n"
     ]
    },
    {
     "name": "stdout",
     "output_type": "stream",
     "text": [
      "Academic license 2713550 - for non-commercial use only - registered to av___@gmail.com\n"
     ]
    }
   ],
   "source": [
    "model = gb.Model()\n",
    "\n",
    "# Variables\n",
    "x = model.addVars(((i,k) for i in G.nodes() for k in range(n_micros)),\\\n",
    "                  vtype=gb.GRB.BINARY, name='x')\n",
    "\n",
    "z = model.addVars(((i,j,k) for (i,j) in G.edges() for k in range(n_micros)), vtype=gb.GRB.BINARY, name='z')\n",
    "\n",
    "y = model.addVars(((i,j) for (i,j) in G.edges()), vtype=gb.GRB.BINARY, name='y')\n",
    "\n",
    "# Each node has to be in one and only one microservice\n",
    "model.addConstrs((x.sum(i, '*') == 1 for i in G.nodes()), name='(1)microservice-belonging')\n",
    "\n",
    "# A microservice can not be composed of entities only\n",
    "model.addConstrs((gb.quicksum(x[i,k] for i in G.nodes() if G.nodes[i]['type']!='Entity') >= 1 for k in range(n_micros)), name='(2)microservice-composition')\n",
    "\n",
    "# Bonding variables\n",
    "model.addConstrs((z[i,j,k]-x[i,k] <= 0 for (i,j) in G.edges() for k in range(n_micros)), name='(3)bonding-z-to-x')\n",
    "model.addConstrs((z[i,j,k]-x[j,k] <= 0 for (i,j) in G.edges() for k in range(n_micros)), name='(4)bonding-z-to-x')\n",
    "model.addConstrs((x[i,k]+x[j,k]-z[i,j,k] <= 1 for (i,j) in G.edges() for k in range(n_micros)), name='(5)bonding-z-to-x')\n",
    "\n",
    "model.addConstrs((y[i,j]==gb.quicksum(z[i,j,k] for k in range(n_micros)) for (i,j) in G.edges()), name='(6)bonding-y-to-z')\n",
    "\n",
    "\n",
    "########## Added constraints ##########\n",
    "\n",
    "# Force each entity from the kth cluster to be in the kth microservice\n",
    "model.addConstrs((x[i,k]==1 for k in cluster_map for i in cluster_map[k]), name='(7)bonding-x-to-entity-clusters')\n",
    "\n",
    "# Force node of the same community to be in the same (consider a community only if there are not entities from different clusters)\n",
    "communities_constraint = model.addConstrs((y[i,j]==1 for (i,j) in G.edges() if i in communities and j in communities and communities[i]==communities[j]), name='(8)bonding-y-to-communities')\n",
    "\n",
    "\n",
    "########## Objective function ##########\n",
    "\n",
    "coupling = gb.quicksum(G.edges[i,j]['w']*(1-y[i,j]) for (i,j) in G.edges())\n",
    "\n",
    "model.setObjective(coupling, gb.GRB.MINIMIZE)\n",
    "\n",
    "model.write(formulation_out)"
   ]
  },
  {
   "cell_type": "code",
   "execution_count": null,
   "id": "081eb8b2-d436-45fa-886c-7051ff07d125",
   "metadata": {
    "editable": true,
    "papermill": {
     "duration": null,
     "end_time": null,
     "exception": false,
     "start_time": "2025-09-27T13:56:21.957455",
     "status": "running"
    },
    "slideshow": {
     "slide_type": ""
    },
    "tags": []
   },
   "outputs": [],
   "source": [
    "model.optimize()"
   ]
  },
  {
   "cell_type": "markdown",
   "id": "c2bb0cfd-3f6e-4806-908c-628a86f4574f",
   "metadata": {
    "editable": true,
    "papermill": {
     "duration": null,
     "end_time": null,
     "exception": null,
     "start_time": null,
     "status": "pending"
    },
    "slideshow": {
     "slide_type": ""
    },
    "tags": []
   },
   "source": [
    "## Result Analysis"
   ]
  },
  {
   "cell_type": "code",
   "execution_count": null,
   "id": "78f5ab5d-204b-48b6-bec9-9e2647d47855",
   "metadata": {
    "editable": true,
    "papermill": {
     "duration": null,
     "end_time": null,
     "exception": null,
     "start_time": null,
     "status": "pending"
    },
    "slideshow": {
     "slide_type": ""
    },
    "tags": []
   },
   "outputs": [],
   "source": [
    "# Compute cohesion:\n",
    "inside_w = dict()\n",
    "outside_w = dict()\n",
    "total_w = 0\n",
    "\n",
    "for i,j in G.edges():\n",
    "    total_w += G[i][j]['w']\n",
    "    for k in range(n_micros):\n",
    "        if z[i,j,k].x == 1: # Edge (i,j) is inside microservice k: sum the weight as inside\n",
    "            inside_w[k] = inside_w.get(k, 0) + G[i][j]['w']\n",
    "        if x[i,k].x == 1: # Edge (i,j) has its origin in k: sum the weigth as outside\n",
    "            outside_w[k] = outside_w.get(k, 0) + G[i][j]['w']\n",
    "\n",
    "cohesion_dict = dict()\n",
    "for k in range(n_micros):\n",
    "    cohesion_dict[k] = inside_w[k] / outside_w[k]\n",
    "\n",
    "cohesion = sum(cohesion_dict.values())/n_micros"
   ]
  },
  {
   "cell_type": "code",
   "execution_count": null,
   "id": "b4f4589c-f9db-4123-89b3-9d1266b6297b",
   "metadata": {
    "editable": true,
    "papermill": {
     "duration": null,
     "end_time": null,
     "exception": null,
     "start_time": null,
     "status": "pending"
    },
    "slideshow": {
     "slide_type": ""
    },
    "tags": []
   },
   "outputs": [],
   "source": [
    "show_methods = False\n",
    "\n",
    "analysis_output = \"\"\n",
    "\n",
    "analysis_output += f'Found {str(n_micros)} microservices\\n'\n",
    "\n",
    "analysis_output += f'Total coupling value: {model.objVal} ({model.objVal/n_micros} avg.)\\n'\n",
    "analysis_output += f'Cohesion value: {cohesion}\\n\\n'\n",
    "\n",
    "for k in range(n_micros):\n",
    "    analysis_output += f'Entities in Microservice {str(k)}:\\n'\n",
    "    for i in G.nodes():\n",
    "        if G.nodes[i]['type'] == 'Entity' and x[i,k].x == 1:\n",
    "            analysis_output += f'- {G.nodes[i][\"name\"]}\\n'\n",
    "\n",
    "if show_methods:\n",
    "    for k in range(n_micros):\n",
    "        analysis_output += f'\\n\\nMethods in Microservice {str(k)}:\\n'\n",
    "        for i in G.nodes():\n",
    "            if G.nodes[i]['type'] == 'Method' and x[i,k].x == 1:\n",
    "                analysis_output += f'- {G.nodes[i][\"name\"]} ({G.nodes[i][\"class_name\"]})\\n'\n",
    "\n",
    "mcalls = 0\n",
    "references = 0\n",
    "uses = 0\n",
    "persists = 0\n",
    "\n",
    "for i,j in G.edges():\n",
    "    if y[i,j].x == 0:\n",
    "        if G[i][j]['rel_type'] == 'Calls':\n",
    "            mcalls += 1 \n",
    "        elif G[i][j]['rel_type'] == 'References':\n",
    "            references += 1\n",
    "        elif G[i][j]['rel_type'] == 'Uses':\n",
    "            uses += 1\n",
    "        elif G[i][j]['rel_type'] == 'Persists':\n",
    "            persists += 1\n",
    "\n",
    "analysis_output += f'\\n\\n\\n# of method calls crossing microservices: {mcalls}'\n",
    "analysis_output += f'\\n# of entity references crossing microservices: {references}'\n",
    "analysis_output += f'\\n# of entity usages crossing microservices: {uses}'\n",
    "analysis_output += f'\\n# of methods persisting entities of other microservices: {persists}'\n",
    "\n",
    "print(analysis_output)\n",
    "\n",
    "sb.glue(\"n_micros\", n_micros)\n",
    "sb.glue(\"avg_cop\", model.objVal/n_micros)\n",
    "sb.glue(\"cohesion\", cohesion)\n",
    "sb.glue(\"n_calls\", mcalls)\n",
    "sb.glue(\"n_refs\", references)\n",
    "sb.glue(\"n_uses\", uses)\n",
    "sb.glue(\"n_persist\", persists)\n",
    "sb.glue(\"total_w\", total_w)\n",
    "\n",
    "with open(analysis_out, 'w') as analysis_file:\n",
    "    analysis_file.write(analysis_output)"
   ]
  },
  {
   "cell_type": "code",
   "execution_count": null,
   "id": "3519b123-a48c-4070-ab5f-b17393c76ad2",
   "metadata": {
    "editable": true,
    "papermill": {
     "duration": null,
     "end_time": null,
     "exception": null,
     "start_time": null,
     "status": "pending"
    },
    "slideshow": {
     "slide_type": ""
    },
    "tags": []
   },
   "outputs": [],
   "source": [
    "with open(solution_csv_out, 'w') as results_csv:\n",
    "    results_csv.write('node_key,microservice\\n')\n",
    "    counter = 0\n",
    "    for i in G.nodes():\n",
    "        for k in range(n_micros):\n",
    "            if x[i,k].x == 1:\n",
    "                results_csv.write(f'{i},{k}\\n')\n",
    "                counter+=1\n",
    "    \n",
    "    if counter!=len(G.nodes()):\n",
    "        print('Error! There are nodes not assigned into microservices?!')"
   ]
  },
  {
   "cell_type": "code",
   "execution_count": null,
   "id": "6e8cfeef-174f-4742-ac5f-4862676bad36",
   "metadata": {
    "editable": true,
    "papermill": {
     "duration": null,
     "end_time": null,
     "exception": null,
     "start_time": null,
     "status": "pending"
    },
    "slideshow": {
     "slide_type": ""
    },
    "tags": []
   },
   "outputs": [],
   "source": [
    "if not headless:\n",
    "    DrawSol(G, x, graph_image_out)\n",
    "    \n",
    "    display(Image(filename = graph_image_out))"
   ]
  }
 ],
 "metadata": {
  "kernelspec": {
   "display_name": "Python 3 (ipykernel)",
   "language": "python",
   "name": "python3"
  },
  "language_info": {
   "codemirror_mode": {
    "name": "ipython",
    "version": 3
   },
   "file_extension": ".py",
   "mimetype": "text/x-python",
   "name": "python",
   "nbconvert_exporter": "python",
   "pygments_lexer": "ipython3",
   "version": "3.12.3"
  },
  "papermill": {
   "default_parameters": {},
   "duration": null,
   "end_time": null,
   "environment_variables": {},
   "exception": null,
   "input_path": "2-Decomposition_optimization.ipynb",
   "output_path": "outputs/output_step_2_broadleaf-commerce.ipynb",
   "parameters": {
    "headless": true,
    "project": "broadleaf-commerce",
    "w": {
     "Calls": 0.10690435856124572,
     "Extends": 0.08937084843403942,
     "Persists": 0.6415838011045456,
     "References": 0.06555731906666606,
     "Uses": 0.09658367283350322
    }
   },
   "start_time": "2025-09-27T13:54:59.265010",
   "version": "2.6.0"
  },
  "vscode": {
   "interpreter": {
    "hash": "84d57bcf988df7741739090f92038d55c89d5ee4bebfcc0bea6a6c98a16573ca"
   }
  }
 },
 "nbformat": 4,
 "nbformat_minor": 5
}