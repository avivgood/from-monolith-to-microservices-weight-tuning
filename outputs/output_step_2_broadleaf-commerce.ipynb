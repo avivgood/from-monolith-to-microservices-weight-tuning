{
 "cells": [
  {
   "cell_type": "code",
   "execution_count": 1,
   "id": "63ce5fa3-e2cb-4565-ba94-8fa943d68162",
   "metadata": {
    "editable": true,
    "execution": {
     "iopub.execute_input": "2025-09-26T13:57:25.877276Z",
     "iopub.status.busy": "2025-09-26T13:57:25.876981Z",
     "iopub.status.idle": "2025-09-26T13:57:31.260934Z",
     "shell.execute_reply": "2025-09-26T13:57:31.260052Z"
    },
    "papermill": {
     "duration": 5.39024,
     "end_time": "2025-09-26T13:57:31.262690",
     "exception": false,
     "start_time": "2025-09-26T13:57:25.872450",
     "status": "completed"
    },
    "slideshow": {
     "slide_type": ""
    },
    "tags": []
   },
   "outputs": [],
   "source": [
    "#!/usr/bin/env python\n",
    "import scrapbook as sb\n",
    "import networkx as nx\n",
    "import pygraphviz as pygv\n",
    "import gurobipy as gb\n",
    "import json\n",
    "from community import community_louvain\n",
    "from IPython.display import Image, display\n",
    "\n",
    "def DrawSol (G, x, filename):\n",
    "    global n_micros\n",
    "\n",
    "    DrawG = pygv.AGraph(directed=True, strict='true', splines='true')\n",
    "\n",
    "    colors = ['green', 'blue', 'red', 'orange', 'yellow', 'purple', 'black', 'gray', 'cyan', 'brown', 'hotpink', 'navy', 'darkgreen', 'chocolate', 'deeppink', 'firebrick', 'gold', 'orchid', 'gold4']\n",
    "    \n",
    "    for i in G.nodes():\n",
    "        if G.nodes[i]['type'] == 'Entity':\n",
    "            shape='hexagon'\n",
    "        else:\n",
    "            shape='circle'\n",
    "\n",
    "        for k in range(n_micros):\n",
    "            if x[i,k].x == 1:\n",
    "                # Get cluster number k\n",
    "                if k<len(colors):\n",
    "                    color=colors[k]\n",
    "                else:\n",
    "                    color = 'black'\n",
    "        DrawG.add_node (i, color=color, shape=shape, width=0.1, fontsize=9, label=G.nodes[i]['name'])\n",
    "\n",
    "    for i in G.edges():\n",
    "        edge_color = 'black' if G[i[0]][i[1]]['rel_type'] in ['Calls','Persists', 'References'] else 'gray'\n",
    "        DrawG.add_edge(i[0], i[1], color=edge_color, label=G[i[0]][i[1]]['rel_type'], fontsize='8')\n",
    "        \n",
    "    DrawG.layout(prog='dot')\n",
    "    DrawG.draw(filename)"
   ]
  },
  {
   "cell_type": "markdown",
   "id": "e3e92b53-40f6-4740-8a99-c40877eb9681",
   "metadata": {
    "editable": true,
    "papermill": {
     "duration": 0.00498,
     "end_time": "2025-09-26T13:57:31.281259",
     "exception": false,
     "start_time": "2025-09-26T13:57:31.276279",
     "status": "completed"
    },
    "slideshow": {
     "slide_type": ""
    },
    "tags": []
   },
   "source": [
    "### _Configuration!_\n",
    "\n",
    "Keep the project list up-to-date and select the project to be analyzed"
   ]
  },
  {
   "cell_type": "markdown",
   "id": "369f6589-5ded-4162-85ea-3c37b9026765",
   "metadata": {
    "editable": true,
    "papermill": {
     "duration": 0.004396,
     "end_time": "2025-09-26T13:57:31.291320",
     "exception": false,
     "start_time": "2025-09-26T13:57:31.286924",
     "status": "completed"
    },
    "slideshow": {
     "slide_type": ""
    },
    "tags": []
   },
   "source": [
    "### _User input required!_\n",
    "\n",
    "Update, if needed the default weigth of the edges"
   ]
  },
  {
   "cell_type": "code",
   "execution_count": 2,
   "id": "05c7e2d2-7f39-4109-a665-36a40e5be7de",
   "metadata": {
    "editable": true,
    "execution": {
     "iopub.execute_input": "2025-09-26T13:57:31.301611Z",
     "iopub.status.busy": "2025-09-26T13:57:31.301008Z",
     "iopub.status.idle": "2025-09-26T13:57:31.306014Z",
     "shell.execute_reply": "2025-09-26T13:57:31.305002Z"
    },
    "papermill": {
     "duration": 0.012255,
     "end_time": "2025-09-26T13:57:31.307927",
     "exception": false,
     "start_time": "2025-09-26T13:57:31.295672",
     "status": "completed"
    },
    "slideshow": {
     "slide_type": ""
    },
    "tags": [
     "parameters"
    ]
   },
   "outputs": [],
   "source": [
    "project = 'jpetstore' # <-- Set this variable!\n",
    "# Weighting edges:\n",
    "w = dict()\n",
    "w['Calls']=0.8\n",
    "w['Persists']=1\n",
    "w['Uses']=0.6\n",
    "w['References']=0.2\n",
    "w['Extends']=0\n",
    "headless = False"
   ]
  },
  {
   "cell_type": "code",
   "execution_count": 3,
   "id": "bed09343",
   "metadata": {
    "execution": {
     "iopub.execute_input": "2025-09-26T13:57:31.322218Z",
     "iopub.status.busy": "2025-09-26T13:57:31.321754Z",
     "iopub.status.idle": "2025-09-26T13:57:31.326882Z",
     "shell.execute_reply": "2025-09-26T13:57:31.326079Z"
    },
    "papermill": {
     "duration": 0.013478,
     "end_time": "2025-09-26T13:57:31.328492",
     "exception": false,
     "start_time": "2025-09-26T13:57:31.315014",
     "status": "completed"
    },
    "tags": [
     "injected-parameters"
    ]
   },
   "outputs": [],
   "source": [
    "# Parameters\n",
    "project = \"broadleaf-commerce\"\n",
    "w = {\"Calls\": 0.10983701404760032, \"Persists\": 0.20302002481332793, \"References\": 0.22108306675825734, \"Extends\": 0.021063578458911825, \"Uses\": 0.44499631592190264}\n",
    "headless = True\n"
   ]
  },
  {
   "cell_type": "code",
   "execution_count": 4,
   "id": "654afedb-2f70-4c65-b23e-5e01c98d8d13",
   "metadata": {
    "editable": true,
    "execution": {
     "iopub.execute_input": "2025-09-26T13:57:31.345793Z",
     "iopub.status.busy": "2025-09-26T13:57:31.345387Z",
     "iopub.status.idle": "2025-09-26T13:57:31.352491Z",
     "shell.execute_reply": "2025-09-26T13:57:31.351287Z"
    },
    "papermill": {
     "duration": 0.018116,
     "end_time": "2025-09-26T13:57:31.354397",
     "exception": false,
     "start_time": "2025-09-26T13:57:31.336281",
     "status": "completed"
    },
    "slideshow": {
     "slide_type": ""
    },
    "tags": []
   },
   "outputs": [],
   "source": [
    "\n",
    "\n",
    "with open('projects.json', 'r') as projects:\n",
    "    project_found = False\n",
    "    for data in json.load(projects):\n",
    "        if data['name'] == project:\n",
    "            analysis_results_basedir = data['analysis_results_basedir']\n",
    "            project_found = True\n",
    "    if not project_found:\n",
    "        print('ERROR: project ' + project + ' does not appear in project.json')"
   ]
  },
  {
   "cell_type": "code",
   "execution_count": 5,
   "id": "c9f2f54d-61ce-4b68-a80a-68b94ef0ce32",
   "metadata": {
    "editable": true,
    "execution": {
     "iopub.execute_input": "2025-09-26T13:57:31.369766Z",
     "iopub.status.busy": "2025-09-26T13:57:31.369292Z",
     "iopub.status.idle": "2025-09-26T13:57:31.375803Z",
     "shell.execute_reply": "2025-09-26T13:57:31.374878Z"
    },
    "papermill": {
     "duration": 0.016072,
     "end_time": "2025-09-26T13:57:31.377401",
     "exception": false,
     "start_time": "2025-09-26T13:57:31.361329",
     "status": "completed"
    },
    "slideshow": {
     "slide_type": ""
    },
    "tags": []
   },
   "outputs": [],
   "source": [
    "# Set output names\n",
    "\n",
    "graph_in = analysis_results_basedir + project + '_graph.gml'\n",
    "communities_out = analysis_results_basedir + project + '_communities.csv'\n",
    "formulation_out = analysis_results_basedir + project + '_communities_improved_optimization.lp'\n",
    "solution_csv_out = analysis_results_basedir + project + '_sol_communities_improved_optimization.csv'\n",
    "graph_image_out = analysis_results_basedir + project + '_sol_communities_improved_optimization.png'\n",
    "analysis_out = analysis_results_basedir + project + '_sol_communities_improved_optimization.txt'"
   ]
  },
  {
   "cell_type": "code",
   "execution_count": 6,
   "id": "5c2c34a6-0072-4335-aa24-5592aa2b0eb7",
   "metadata": {
    "editable": true,
    "execution": {
     "iopub.execute_input": "2025-09-26T13:57:31.393189Z",
     "iopub.status.busy": "2025-09-26T13:57:31.392941Z",
     "iopub.status.idle": "2025-09-26T13:57:31.644480Z",
     "shell.execute_reply": "2025-09-26T13:57:31.643550Z"
    },
    "papermill": {
     "duration": 0.261305,
     "end_time": "2025-09-26T13:57:31.646381",
     "exception": false,
     "start_time": "2025-09-26T13:57:31.385076",
     "status": "completed"
    },
    "slideshow": {
     "slide_type": ""
    },
    "tags": []
   },
   "outputs": [],
   "source": [
    "# Import graph\n",
    "\n",
    "G = nx.read_graphml(graph_in)"
   ]
  },
  {
   "cell_type": "code",
   "execution_count": 7,
   "id": "dce09914-e79b-4094-8343-eb55557825f3",
   "metadata": {
    "editable": true,
    "execution": {
     "iopub.execute_input": "2025-09-26T13:57:31.661229Z",
     "iopub.status.busy": "2025-09-26T13:57:31.660954Z",
     "iopub.status.idle": "2025-09-26T13:57:31.671988Z",
     "shell.execute_reply": "2025-09-26T13:57:31.670994Z"
    },
    "papermill": {
     "duration": 0.0219,
     "end_time": "2025-09-26T13:57:31.673863",
     "exception": false,
     "start_time": "2025-09-26T13:57:31.651963",
     "status": "completed"
    },
    "slideshow": {
     "slide_type": ""
    },
    "tags": []
   },
   "outputs": [],
   "source": [
    "# Add edge weights\n",
    "\n",
    "for (i, j) in G.edges():\n",
    "    G[i][j]['w'] = w[G[i][j]['rel_type']]"
   ]
  },
  {
   "cell_type": "markdown",
   "id": "c98c18d6-f80e-47f3-91bd-258d444d2d08",
   "metadata": {
    "editable": true,
    "papermill": {
     "duration": 0.005561,
     "end_time": "2025-09-26T13:57:31.685973",
     "exception": false,
     "start_time": "2025-09-26T13:57:31.680412",
     "status": "completed"
    },
    "slideshow": {
     "slide_type": ""
    },
    "tags": []
   },
   "source": [
    "## Find communities"
   ]
  },
  {
   "cell_type": "code",
   "execution_count": 8,
   "id": "b1205d9e-4492-4c2d-8034-52c4323b3a20",
   "metadata": {
    "editable": true,
    "execution": {
     "iopub.execute_input": "2025-09-26T13:57:31.696517Z",
     "iopub.status.busy": "2025-09-26T13:57:31.696133Z",
     "iopub.status.idle": "2025-09-26T13:57:32.013268Z",
     "shell.execute_reply": "2025-09-26T13:57:32.012586Z"
    },
    "papermill": {
     "duration": 0.32412,
     "end_time": "2025-09-26T13:57:32.014705",
     "exception": false,
     "start_time": "2025-09-26T13:57:31.690585",
     "status": "completed"
    },
    "slideshow": {
     "slide_type": ""
    },
    "tags": []
   },
   "outputs": [],
   "source": [
    "H = nx.Graph(G) # create an undirected graph H from a directed graph G\n",
    "\n",
    "# compute the best partition\n",
    "communities = community_louvain.best_partition(H, weight='w')\n",
    "\n",
    "# write communities on file\n",
    "with open(communities_out, 'w') as csv_file:\n",
    "    csv_file.write('node, cluster/community\\n')\n",
    "    for node in communities:\n",
    "        csv_file.write(f'{node},{communities[node]}\\n')"
   ]
  },
  {
   "cell_type": "markdown",
   "id": "e6627e68-4939-4275-8ed8-43a323b64d2e",
   "metadata": {
    "editable": true,
    "papermill": {
     "duration": 0.006345,
     "end_time": "2025-09-26T13:57:32.027543",
     "exception": false,
     "start_time": "2025-09-26T13:57:32.021198",
     "status": "completed"
    },
    "slideshow": {
     "slide_type": ""
    },
    "tags": []
   },
   "source": [
    "## Find communities for the entity subgraph"
   ]
  },
  {
   "cell_type": "code",
   "execution_count": 9,
   "id": "476f02c9-d605-4213-8225-951cd9beb7e5",
   "metadata": {
    "editable": true,
    "execution": {
     "iopub.execute_input": "2025-09-26T13:57:32.041109Z",
     "iopub.status.busy": "2025-09-26T13:57:32.040857Z",
     "iopub.status.idle": "2025-09-26T13:57:32.799048Z",
     "shell.execute_reply": "2025-09-26T13:57:32.798310Z"
    },
    "papermill": {
     "duration": 0.766816,
     "end_time": "2025-09-26T13:57:32.800575",
     "exception": false,
     "start_time": "2025-09-26T13:57:32.033759",
     "status": "completed"
    },
    "slideshow": {
     "slide_type": ""
    },
    "tags": []
   },
   "outputs": [
    {
     "name": "stdout",
     "output_type": "stream",
     "text": [
      "Community 128:\n",
      " - ProductOptionImpl (id:304)\n",
      "Community 129:\n",
      " - ProductOptionXrefImpl (id:315)\n",
      "Community 130:\n",
      " - CategoryProductXrefImpl (id:316)\n",
      "Community 131:\n",
      " - ProductOptionValueImpl (id:317)\n",
      "Community 5:\n",
      " - CustomerPhoneImpl (id:7)\n",
      "Community 6:\n",
      " - CustomerPaymentImpl (id:9)\n",
      "Community 133:\n",
      " - SkuProductOptionValueXrefImpl (id:322)\n",
      "Community 9:\n",
      " - PhoneImpl (id:12)\n",
      "Community 137:\n",
      " - AssignedProductOptionDTO (id:328)\n",
      "Community 11:\n",
      " - StateImpl (id:15)\n",
      "Community 12:\n",
      " - CountrySubdivisionImpl (id:16)\n",
      "Community 16:\n",
      " - CountryImpl (id:24)\n",
      "Community 18:\n",
      " - AddressImpl (id:27)\n",
      "Community 149:\n",
      " - SandBoxManagementImpl (id:822)\n",
      "Community 151:\n",
      " - SandBoxType (id:824)\n",
      "Community 24:\n",
      " - ShippingRateImpl (id:47)\n",
      "Community 26:\n",
      " - CodeTypeImpl (id:55)\n",
      "Community 48:\n",
      " - CustomerOfferImpl (id:107)\n",
      "Community 49:\n",
      " - OfferAuditImpl (id:114)\n",
      "Community 53:\n",
      " - TranslatedEntity (id:853)\n",
      "Community 181:\n",
      " - TranslationImpl (id:854)\n",
      "Community 55:\n",
      " - RatingType (id:137)\n",
      "Community 185:\n",
      " - ISOCountryImpl (id:855)\n",
      "Community 58:\n",
      " - ReviewDetailImpl (id:140)\n",
      "Community 59:\n",
      " - RatingSummaryImpl (id:141)\n",
      "Community 186:\n",
      " - BroadleafRequestContext (id:863)\n",
      "Community 63:\n",
      " - FulfillmentOptionImpl (id:213)\n",
      "Community 67:\n",
      " - OrderStatus (id:168)\n",
      "Community 68:\n",
      " - FulfillmentGroupStatusType (id:169)\n",
      "Community 69:\n",
      " - OrderItemType (id:170)\n",
      "Community 70:\n",
      " - FulfillmentType (id:171)\n",
      "Community 77:\n",
      " - CustomerImpl (id:23)\n",
      " - OrderImpl (id:220)\n",
      " - OrderItemImpl (id:229)\n",
      " - AbstractModuleConfiguration (id:760)\n",
      "Community 209:\n",
      " - ExtensionResultHolder (id:588)\n",
      "Community 210:\n",
      " - StandardCacheItem (id:590)\n",
      "Community 218:\n",
      " - StreamCapableTransactionalOperationAdapter (id:627)\n",
      "Community 91:\n",
      " - CustomerAddressImpl (id:25)\n",
      " - OfferCodeImpl (id:100)\n",
      " - OfferImpl (id:110)\n",
      " - OrderPaymentImpl (id:130)\n",
      " - PaymentTransactionImpl (id:132)\n",
      " - StoreImpl (id:151)\n",
      " - CategoryImpl (id:306)\n",
      " - ProductImpl (id:320)\n",
      " - SiteImpl (id:530)\n",
      " - CatalogImpl (id:531)\n",
      " - SandBoxImpl (id:823)\n",
      "Community 92:\n",
      " - FulfillmentGroupItemImpl (id:218)\n",
      "Community 94:\n",
      " - NullOrderImpl (id:223)\n",
      "Community 95:\n",
      " - FulfillmentGroupImpl (id:227)\n",
      "Community 222:\n",
      " - BatchRetrieveDao (id:662)\n",
      "Community 101:\n",
      " - CatalogStructure (id:279)\n",
      "Community 103:\n",
      " - SearchFacetImpl (id:260)\n",
      "Community 104:\n",
      " - SearchCriteria (id:261)\n",
      "Community 106:\n",
      " - IndexFieldImpl (id:264)\n",
      "Community 107:\n",
      " - SearchFacetRangeImpl (id:267)\n",
      "Community 108:\n",
      " - IndexFieldTypeImpl (id:270)\n",
      "Community 109:\n",
      " - FieldEntity (id:271)\n",
      "Community 110:\n",
      " - FieldImpl (id:273)\n",
      "Community 111:\n",
      " - FieldType (id:274)\n",
      "Community 112:\n",
      " - SearchRedirectImpl (id:275)\n",
      "Community 113:\n",
      " - ParentCategoryByProduct (id:276)\n",
      "Community 114:\n",
      " - ParentCategoryByCategory (id:278)\n",
      "Community 246:\n",
      " - ModuleConfigurationType (id:759)\n",
      "Community 247:\n",
      " - NullSystemProperty (id:761)\n",
      "Community 248:\n",
      " - SystemPropertyImpl (id:762)\n",
      "Community 123:\n",
      " - ProductType (id:295)\n",
      "Community 127:\n",
      " - SkuImpl (id:303)\n"
     ]
    }
   ],
   "source": [
    "K = nx.Graph(G) # create an undirected graph H from a directed graph G\n",
    "\n",
    "# Remove non-entity nodes\n",
    "\n",
    "for i in list(K.nodes):\n",
    "    if K.nodes[i]['type']!='Entity':\n",
    "        K.remove_node(i)\n",
    "\n",
    "# Obtain subgraph of entities that have direct relationships with the persistence layer:\n",
    "    \n",
    "        \n",
    "# compute the best partition\n",
    "entity_cluster = community_louvain.best_partition(K, weight='w')\n",
    "\n",
    "# Remove nodes that do not have direct relationships with methods from the cluster dictionary:\n",
    "e_dict = dict()\n",
    "# Check if entity has a relationship with some method of the persistence layer (it will remove entities from the controller model, for instance)\n",
    "for e in entity_cluster:\n",
    "    e_dict[e] = False\n",
    "    for (i,j) in G.edges():\n",
    "        if e==j and G[i][j]['rel_type'] in ['Persists']:\n",
    "            e_dict[e]=True\n",
    "\n",
    "# Remove non-related entities\n",
    "for entity_to_remove in e_dict:\n",
    "    if not e_dict[entity_to_remove]:\n",
    "        # print('INFO: Entity ' + G.nodes[entity_to_remove]['name'] + ' removed from the clusters')\n",
    "        entity_cluster.pop(entity_to_remove)\n",
    "\n",
    "for i in set(entity_cluster.values()):\n",
    "    print(f'Community {i}:')\n",
    "    for entity, cluster in entity_cluster.items():\n",
    "        if cluster == i:\n",
    "            print(f' - {G.nodes()[entity][\"name\"]} (id:{entity})')"
   ]
  },
  {
   "cell_type": "markdown",
   "id": "9d385bf2-cf31-45e0-8d84-fd44715a1028",
   "metadata": {
    "editable": true,
    "papermill": {
     "duration": 0.007963,
     "end_time": "2025-09-26T13:57:32.815715",
     "exception": false,
     "start_time": "2025-09-26T13:57:32.807752",
     "status": "completed"
    },
    "slideshow": {
     "slide_type": ""
    },
    "tags": []
   },
   "source": [
    "### _User input required!_\n",
    "\n",
    "Refine, if needed, entity clusters"
   ]
  },
  {
   "cell_type": "code",
   "execution_count": 10,
   "id": "021636e9-07ea-45c6-9eab-e34e93503e9b",
   "metadata": {
    "editable": true,
    "execution": {
     "iopub.execute_input": "2025-09-26T13:57:32.830441Z",
     "iopub.status.busy": "2025-09-26T13:57:32.830183Z",
     "iopub.status.idle": "2025-09-26T13:57:32.834675Z",
     "shell.execute_reply": "2025-09-26T13:57:32.833901Z"
    },
    "papermill": {
     "duration": 0.013337,
     "end_time": "2025-09-26T13:57:32.835940",
     "exception": false,
     "start_time": "2025-09-26T13:57:32.822603",
     "status": "completed"
    },
    "slideshow": {
     "slide_type": ""
    },
    "tags": []
   },
   "outputs": [],
   "source": [
    "# Remove entity from its cluster\n",
    "entity_ids_to_remove = [] # <-- Put Ids as strings (example: ['1', '3']\n",
    "\n",
    "# Place entity into a cluster\n",
    "entities_clusters_to_place = [] # <-- Example: entity X in cluster Y: ('X', 5)\n",
    "\n",
    "\n",
    "for e in entity_ids_to_remove:\n",
    "    entity_cluster.pop(e)\n",
    "    print(f'INFO: Removed entity {G.nodes()[e][\"name\"]} from clusters')\n",
    "\n",
    "for (e, cluster) in entities_clusters_to_place:\n",
    "    entity_cluster[e] = cluster\n",
    "    print(f'INFO: Entity {G.nodes()[e][\"name\"]} put into cluster {cluster}')"
   ]
  },
  {
   "cell_type": "code",
   "execution_count": 11,
   "id": "03cb8c9a-f2d0-46ad-a857-11e31be27470",
   "metadata": {
    "editable": true,
    "execution": {
     "iopub.execute_input": "2025-09-26T13:57:32.846278Z",
     "iopub.status.busy": "2025-09-26T13:57:32.846007Z",
     "iopub.status.idle": "2025-09-26T13:57:32.852140Z",
     "shell.execute_reply": "2025-09-26T13:57:32.851413Z"
    },
    "papermill": {
     "duration": 0.012675,
     "end_time": "2025-09-26T13:57:32.853460",
     "exception": false,
     "start_time": "2025-09-26T13:57:32.840785",
     "status": "completed"
    },
    "slideshow": {
     "slide_type": ""
    },
    "tags": []
   },
   "outputs": [
    {
     "name": "stdout",
     "output_type": "stream",
     "text": [
      "Entities in community 0: ['CustomerPhoneImpl']\n",
      "Entities in community 1: ['CustomerPaymentImpl']\n",
      "Entities in community 2: ['PhoneImpl']\n",
      "Entities in community 3: ['StateImpl']\n",
      "Entities in community 4: ['CountrySubdivisionImpl']\n",
      "Entities in community 5: ['CustomerImpl', 'OrderImpl', 'OrderItemImpl', 'AbstractModuleConfiguration']\n",
      "Entities in community 6: ['CountryImpl']\n",
      "Entities in community 7: ['CustomerAddressImpl', 'OfferCodeImpl', 'OfferImpl', 'OrderPaymentImpl', 'PaymentTransactionImpl', 'StoreImpl', 'CategoryImpl', 'ProductImpl', 'SiteImpl', 'CatalogImpl', 'SandBoxImpl']\n",
      "Entities in community 8: ['AddressImpl']\n",
      "Entities in community 9: ['ShippingRateImpl']\n",
      "Entities in community 10: ['CodeTypeImpl']\n",
      "Entities in community 11: ['CustomerOfferImpl']\n",
      "Entities in community 12: ['OfferAuditImpl']\n",
      "Entities in community 13: ['RatingType']\n",
      "Entities in community 14: ['ReviewDetailImpl']\n",
      "Entities in community 15: ['RatingSummaryImpl']\n",
      "Entities in community 16: ['OrderStatus']\n",
      "Entities in community 17: ['FulfillmentGroupStatusType']\n",
      "Entities in community 18: ['OrderItemType']\n",
      "Entities in community 19: ['FulfillmentType']\n",
      "Entities in community 20: ['FulfillmentOptionImpl']\n",
      "Entities in community 21: ['FulfillmentGroupItemImpl']\n",
      "Entities in community 22: ['NullOrderImpl']\n",
      "Entities in community 23: ['FulfillmentGroupImpl']\n",
      "Entities in community 24: ['SearchFacetImpl']\n",
      "Entities in community 25: ['SearchCriteria']\n",
      "Entities in community 26: ['IndexFieldImpl']\n",
      "Entities in community 27: ['SearchFacetRangeImpl']\n",
      "Entities in community 28: ['IndexFieldTypeImpl']\n",
      "Entities in community 29: ['FieldEntity']\n",
      "Entities in community 30: ['FieldImpl']\n",
      "Entities in community 31: ['FieldType']\n",
      "Entities in community 32: ['SearchRedirectImpl']\n",
      "Entities in community 33: ['ParentCategoryByProduct']\n",
      "Entities in community 34: ['ParentCategoryByCategory']\n",
      "Entities in community 35: ['CatalogStructure']\n",
      "Entities in community 36: ['ProductType']\n",
      "Entities in community 37: ['SkuImpl']\n",
      "Entities in community 38: ['ProductOptionImpl']\n",
      "Entities in community 39: ['ProductOptionXrefImpl']\n",
      "Entities in community 40: ['CategoryProductXrefImpl']\n",
      "Entities in community 41: ['ProductOptionValueImpl']\n",
      "Entities in community 42: ['SkuProductOptionValueXrefImpl']\n",
      "Entities in community 43: ['AssignedProductOptionDTO']\n",
      "Entities in community 44: ['ExtensionResultHolder']\n",
      "Entities in community 45: ['StandardCacheItem']\n",
      "Entities in community 46: ['StreamCapableTransactionalOperationAdapter']\n",
      "Entities in community 47: ['BatchRetrieveDao']\n",
      "Entities in community 48: ['ModuleConfigurationType']\n",
      "Entities in community 49: ['NullSystemProperty']\n",
      "Entities in community 50: ['SystemPropertyImpl']\n",
      "Entities in community 51: ['SandBoxManagementImpl']\n",
      "Entities in community 52: ['SandBoxType']\n",
      "Entities in community 53: ['TranslatedEntity']\n",
      "Entities in community 54: ['TranslationImpl']\n",
      "Entities in community 55: ['ISOCountryImpl']\n",
      "Entities in community 56: ['BroadleafRequestContext']\n"
     ]
    }
   ],
   "source": [
    "# Some cluster may have disappeared: remaining clusters need to be renumbered\n",
    "cluster_map = dict()\n",
    "counter=0\n",
    "number_mapping = dict() # maps the old cluster number with the new one\n",
    "for entity_key, old_number in entity_cluster.items():\n",
    "    if old_number not in number_mapping:\n",
    "        number_mapping[old_number] = counter\n",
    "        counter+=1\n",
    "    cluster_map[number_mapping[old_number]] = cluster_map.get(number_mapping[old_number], []) + [entity_key]\n",
    "    \n",
    "for cluster in cluster_map:\n",
    "    print('Entities in community ' + str(cluster) + ': ' + str([G.nodes[entity_key]['name'] for entity_key in cluster_map[cluster]]))\n",
    "\n",
    "n_micros = len(cluster_map)"
   ]
  },
  {
   "cell_type": "code",
   "execution_count": 12,
   "id": "bd909d53-3681-43aa-baa0-5d38556bb40b",
   "metadata": {
    "editable": true,
    "execution": {
     "iopub.execute_input": "2025-09-26T13:57:32.863412Z",
     "iopub.status.busy": "2025-09-26T13:57:32.863155Z",
     "iopub.status.idle": "2025-09-26T13:57:32.877515Z",
     "shell.execute_reply": "2025-09-26T13:57:32.876875Z"
    },
    "papermill": {
     "duration": 0.020834,
     "end_time": "2025-09-26T13:57:32.878723",
     "exception": false,
     "start_time": "2025-09-26T13:57:32.857889",
     "status": "completed"
    },
    "slideshow": {
     "slide_type": ""
    },
    "tags": []
   },
   "outputs": [
    {
     "name": "stdout",
     "output_type": "stream",
     "text": [
      "Entities in community 0 are in clusters: []\n",
      "Entities in community 1 are in clusters: [5, 5, 5, 12, 16]\n",
      "Entities in community 2 are in clusters: []\n",
      "Entities in community 3 are in clusters: []\n",
      "Entities in community 4 are in clusters: [48]\n",
      "Entities in community 71 are in clusters: [0, 36]\n",
      "Entities in community 6 are in clusters: [1]\n",
      "Entities in community 7 are in clusters: []\n",
      "Entities in community 8 are in clusters: [2, 3, 6, 55]\n",
      "Entities in community 9 are in clusters: [4]\n",
      "Entities in community 10 are in clusters: []\n",
      "Entities in community 11 are in clusters: []\n",
      "Entities in community 12 are in clusters: [7, 7, 7, 7, 7, 7, 7, 7, 46]\n",
      "Entities in community 13 are in clusters: [8, 20]\n",
      "Entities in community 14 are in clusters: []\n",
      "Entities in community 15 are in clusters: [22]\n",
      "Entities in community 16 are in clusters: [19, 21, 23]\n",
      "Entities in community 17 are in clusters: []\n",
      "Entities in community 18 are in clusters: [9]\n",
      "Entities in community 19 are in clusters: []\n",
      "Entities in community 20 are in clusters: [10]\n",
      "Entities in community 21 are in clusters: []\n",
      "Entities in community 22 are in clusters: []\n",
      "Entities in community 23 are in clusters: []\n",
      "Entities in community 24 are in clusters: []\n",
      "Entities in community 25 are in clusters: []\n",
      "Entities in community 26 are in clusters: []\n",
      "Entities in community 27 are in clusters: []\n",
      "Entities in community 28 are in clusters: []\n",
      "Entities in community 29 are in clusters: []\n",
      "Entities in community 30 are in clusters: []\n",
      "Entities in community 31 are in clusters: []\n",
      "Entities in community 32 are in clusters: []\n",
      "Entities in community 33 are in clusters: []\n",
      "Entities in community 34 are in clusters: []\n",
      "Entities in community 35 are in clusters: []\n",
      "Entities in community 36 are in clusters: []\n",
      "Entities in community 37 are in clusters: []\n",
      "Entities in community 38 are in clusters: [11]\n",
      "Entities in community 39 are in clusters: []\n",
      "Entities in community 40 are in clusters: []\n",
      "Entities in community 41 are in clusters: []\n",
      "Entities in community 42 are in clusters: [13, 14, 47]\n",
      "Entities in community 43 are in clusters: []\n",
      "Entities in community 44 are in clusters: [15]\n",
      "Entities in community 45 are in clusters: []\n",
      "Entities in community 46 are in clusters: []\n",
      "Entities in community 47 are in clusters: []\n",
      "Entities in community 48 are in clusters: []\n",
      "Entities in community 49 are in clusters: [17]\n",
      "Entities in community 50 are in clusters: [18, 41]\n",
      "Entities in community 51 are in clusters: [5]\n",
      "Entities in community 89 are in clusters: [44]\n",
      "Entities in community 53 are in clusters: []\n",
      "Entities in community 54 are in clusters: [37, 42, 43]\n",
      "Entities in community 55 are in clusters: []\n",
      "Entities in community 56 are in clusters: []\n",
      "Entities in community 57 are in clusters: []\n",
      "Entities in community 58 are in clusters: []\n",
      "Entities in community 59 are in clusters: [28, 31, 35]\n",
      "Entities in community 60 are in clusters: []\n",
      "Entities in community 61 are in clusters: [24, 26, 29, 30]\n",
      "Entities in community 62 are in clusters: [7, 25, 27, 40]\n",
      "Entities in community 63 are in clusters: [32]\n",
      "Entities in community 64 are in clusters: [7, 33, 34, 38]\n",
      "Entities in community 65 are in clusters: []\n",
      "Entities in community 66 are in clusters: []\n",
      "Entities in community 67 are in clusters: [50, 56]\n",
      "Entities in community 68 are in clusters: []\n",
      "Entities in community 69 are in clusters: []\n",
      "Entities in community 70 are in clusters: []\n",
      "Entities in community 72 are in clusters: []\n",
      "Entities in community 73 are in clusters: []\n",
      "Entities in community 74 are in clusters: [39]\n",
      "Entities in community 75 are in clusters: []\n",
      "Entities in community 76 are in clusters: []\n",
      "Entities in community 77 are in clusters: []\n",
      "Entities in community 78 are in clusters: []\n",
      "Entities in community 79 are in clusters: []\n",
      "Entities in community 80 are in clusters: []\n",
      "Entities in community 81 are in clusters: []\n",
      "Entities in community 82 are in clusters: []\n",
      "Entities in community 83 are in clusters: []\n",
      "Entities in community 84 are in clusters: []\n",
      "Entities in community 85 are in clusters: []\n",
      "Entities in community 86 are in clusters: []\n",
      "Entities in community 87 are in clusters: []\n",
      "Entities in community 88 are in clusters: []\n",
      "Entities in community 90 are in clusters: []\n",
      "Entities in community 91 are in clusters: []\n",
      "Entities in community 92 are in clusters: []\n",
      "Entities in community 93 are in clusters: []\n",
      "Entities in community 94 are in clusters: []\n",
      "Entities in community 95 are in clusters: []\n",
      "Entities in community 96 are in clusters: []\n",
      "Entities in community 97 are in clusters: []\n",
      "Entities in community 98 are in clusters: []\n",
      "Entities in community 99 are in clusters: []\n",
      "Entities in community 100 are in clusters: []\n",
      "Entities in community 101 are in clusters: []\n",
      "Entities in community 102 are in clusters: []\n",
      "Entities in community 103 are in clusters: [45, 53, 54]\n",
      "Entities in community 104 are in clusters: []\n",
      "Entities in community 105 are in clusters: []\n",
      "Entities in community 107 are in clusters: []\n",
      "Entities in community 108 are in clusters: []\n",
      "Entities in community 109 are in clusters: []\n",
      "Entities in community 110 are in clusters: []\n",
      "Entities in community 111 are in clusters: []\n",
      "Entities in community 112 are in clusters: []\n",
      "Entities in community 113 are in clusters: []\n",
      "Entities in community 114 are in clusters: []\n",
      "Entities in community 115 are in clusters: []\n",
      "Entities in community 116 are in clusters: []\n",
      "Entities in community 117 are in clusters: []\n",
      "Entities in community 118 are in clusters: []\n",
      "Entities in community 119 are in clusters: []\n",
      "Entities in community 120 are in clusters: []\n",
      "Entities in community 121 are in clusters: []\n",
      "Entities in community 122 are in clusters: []\n",
      "Entities in community 123 are in clusters: []\n",
      "Entities in community 124 are in clusters: []\n",
      "Entities in community 125 are in clusters: []\n",
      "Entities in community 126 are in clusters: []\n",
      "Entities in community 127 are in clusters: []\n",
      "Entities in community 128 are in clusters: []\n",
      "Entities in community 129 are in clusters: []\n",
      "Entities in community 130 are in clusters: []\n",
      "Entities in community 131 are in clusters: []\n",
      "Entities in community 132 are in clusters: []\n",
      "Entities in community 133 are in clusters: []\n",
      "Entities in community 134 are in clusters: []\n",
      "Entities in community 135 are in clusters: []\n",
      "Entities in community 136 are in clusters: []\n",
      "Entities in community 137 are in clusters: []\n",
      "Entities in community 138 are in clusters: [49]\n",
      "Entities in community 139 are in clusters: []\n",
      "Entities in community 140 are in clusters: []\n",
      "Entities in community 141 are in clusters: []\n",
      "Entities in community 142 are in clusters: []\n",
      "Entities in community 143 are in clusters: []\n",
      "Entities in community 144 are in clusters: []\n",
      "Entities in community 145 are in clusters: []\n",
      "Entities in community 146 are in clusters: []\n",
      "Entities in community 147 are in clusters: []\n",
      "Entities in community 148 are in clusters: []\n",
      "Entities in community 149 are in clusters: []\n",
      "Entities in community 150 are in clusters: [7, 51, 52]\n",
      "Entities in community 151 are in clusters: []\n",
      "Entities in community 152 are in clusters: []\n",
      "Entities in community 153 are in clusters: []\n",
      "Entities in community 154 are in clusters: []\n",
      "Entities in community 155 are in clusters: []\n",
      "Entities in community 156 are in clusters: []\n",
      "Entities in community 157 are in clusters: []\n",
      "Entities in community 158 are in clusters: []\n",
      "Entities in community 159 are in clusters: []\n",
      "Entities in community 160 are in clusters: []\n",
      "Entities in community 161 are in clusters: []\n",
      "Entities in community 162 are in clusters: []\n",
      "Relaxed communities: [1, 71, 8, 12, 13, 16, 42, 50, 54, 59, 61, 62, 64, 67, 103, 150]\n"
     ]
    }
   ],
   "source": [
    "# Resolve conflicts of distribution of entities into communities: if entities of the same community are in different clusters, then remove the community from the dictionary\n",
    "\n",
    "communities_dict = dict() # Map community -> entities into the communities\n",
    "\n",
    "\n",
    "for node in G.nodes():\n",
    "    if G.nodes[node]['type'] == 'Entity':\n",
    "        communities_dict[communities[node]] = communities_dict.get(communities[node], []) + [node]\n",
    "\n",
    "communities_to_relax = []\n",
    "\n",
    "for community in communities_dict:\n",
    "    clusters = []\n",
    "    for cluster, entities in cluster_map.items():\n",
    "        for e in entities:\n",
    "            if e in communities_dict[community]:\n",
    "                clusters.append(cluster)\n",
    "    print(f'Entities in community {community} are in clusters: {clusters}')\n",
    "    if len(clusters) > 0 and not all(clusters[0] == c for c in clusters):\n",
    "        #print(f'Remove community {community}')\n",
    "        communities_to_relax.append(community)\n",
    "\n",
    "nodes_to_remove_from_dict = []\n",
    "for node in communities.keys():\n",
    "    if communities[node] in communities_to_relax:\n",
    "        nodes_to_remove_from_dict.append(node)\n",
    "\n",
    "for node in nodes_to_remove_from_dict:\n",
    "    del communities[node]\n",
    "\n",
    "print(f'Relaxed communities: {communities_to_relax}')"
   ]
  },
  {
   "cell_type": "markdown",
   "id": "3c6fe2ac-0fb0-456d-8b81-8d93a3439be8",
   "metadata": {
    "editable": true,
    "papermill": {
     "duration": 0.005669,
     "end_time": "2025-09-26T13:57:32.889099",
     "exception": false,
     "start_time": "2025-09-26T13:57:32.883430",
     "status": "completed"
    },
    "slideshow": {
     "slide_type": ""
    },
    "tags": []
   },
   "source": [
    "## ILP Formulation"
   ]
  },
  {
   "cell_type": "code",
   "execution_count": 13,
   "id": "bceb7240-b83a-4b0b-b380-b95cd1bb2b0e",
   "metadata": {
    "editable": true,
    "execution": {
     "iopub.execute_input": "2025-09-26T13:57:32.900066Z",
     "iopub.status.busy": "2025-09-26T13:57:32.899812Z",
     "iopub.status.idle": "2025-09-26T13:57:58.399918Z",
     "shell.execute_reply": "2025-09-26T13:57:58.399055Z"
    },
    "papermill": {
     "duration": 25.507283,
     "end_time": "2025-09-26T13:57:58.401638",
     "exception": false,
     "start_time": "2025-09-26T13:57:32.894355",
     "status": "completed"
    },
    "slideshow": {
     "slide_type": ""
    },
    "tags": []
   },
   "outputs": [
    {
     "name": "stdout",
     "output_type": "stream",
     "text": [
      "Set parameter WLSAccessID\n"
     ]
    },
    {
     "name": "stdout",
     "output_type": "stream",
     "text": [
      "Set parameter WLSSecret\n"
     ]
    },
    {
     "name": "stdout",
     "output_type": "stream",
     "text": [
      "Set parameter LicenseID to value 2713550\n"
     ]
    },
    {
     "name": "stdout",
     "output_type": "stream",
     "text": [
      "Academic license 2713550 - for non-commercial use only - registered to av___@gmail.com\n"
     ]
    }
   ],
   "source": [
    "model = gb.Model()\n",
    "\n",
    "# Variables\n",
    "x = model.addVars(((i,k) for i in G.nodes() for k in range(n_micros)),\\\n",
    "                  vtype=gb.GRB.BINARY, name='x')\n",
    "\n",
    "z = model.addVars(((i,j,k) for (i,j) in G.edges() for k in range(n_micros)), vtype=gb.GRB.BINARY, name='z')\n",
    "\n",
    "y = model.addVars(((i,j) for (i,j) in G.edges()), vtype=gb.GRB.BINARY, name='y')\n",
    "\n",
    "# Each node has to be in one and only one microservice\n",
    "model.addConstrs((x.sum(i, '*') == 1 for i in G.nodes()), name='(1)microservice-belonging')\n",
    "\n",
    "# A microservice can not be composed of entities only\n",
    "model.addConstrs((gb.quicksum(x[i,k] for i in G.nodes() if G.nodes[i]['type']!='Entity') >= 1 for k in range(n_micros)), name='(2)microservice-composition')\n",
    "\n",
    "# Bonding variables\n",
    "model.addConstrs((z[i,j,k]-x[i,k] <= 0 for (i,j) in G.edges() for k in range(n_micros)), name='(3)bonding-z-to-x')\n",
    "model.addConstrs((z[i,j,k]-x[j,k] <= 0 for (i,j) in G.edges() for k in range(n_micros)), name='(4)bonding-z-to-x')\n",
    "model.addConstrs((x[i,k]+x[j,k]-z[i,j,k] <= 1 for (i,j) in G.edges() for k in range(n_micros)), name='(5)bonding-z-to-x')\n",
    "\n",
    "model.addConstrs((y[i,j]==gb.quicksum(z[i,j,k] for k in range(n_micros)) for (i,j) in G.edges()), name='(6)bonding-y-to-z')\n",
    "\n",
    "\n",
    "########## Added constraints ##########\n",
    "\n",
    "# Force each entity from the kth cluster to be in the kth microservice\n",
    "model.addConstrs((x[i,k]==1 for k in cluster_map for i in cluster_map[k]), name='(7)bonding-x-to-entity-clusters')\n",
    "\n",
    "# Force node of the same community to be in the same (consider a community only if there are not entities from different clusters)\n",
    "communities_constraint = model.addConstrs((y[i,j]==1 for (i,j) in G.edges() if i in communities and j in communities and communities[i]==communities[j]), name='(8)bonding-y-to-communities')\n",
    "\n",
    "\n",
    "########## Objective function ##########\n",
    "\n",
    "coupling = gb.quicksum(G.edges[i,j]['w']*(1-y[i,j]) for (i,j) in G.edges())\n",
    "\n",
    "model.setObjective(coupling, gb.GRB.MINIMIZE)\n",
    "\n",
    "model.write(formulation_out)"
   ]
  },
  {
   "cell_type": "code",
   "execution_count": 14,
   "id": "081eb8b2-d436-45fa-886c-7051ff07d125",
   "metadata": {
    "editable": true,
    "execution": {
     "iopub.execute_input": "2025-09-26T13:57:58.419552Z",
     "iopub.status.busy": "2025-09-26T13:57:58.419296Z",
     "iopub.status.idle": "2025-09-26T14:00:15.157712Z",
     "shell.execute_reply": "2025-09-26T14:00:15.156922Z"
    },
    "papermill": {
     "duration": 136.7486,
     "end_time": "2025-09-26T14:00:15.159009",
     "exception": false,
     "start_time": "2025-09-26T13:57:58.410409",
     "status": "completed"
    },
    "slideshow": {
     "slide_type": ""
    },
    "tags": []
   },
   "outputs": [
    {
     "name": "stdout",
     "output_type": "stream",
     "text": [
      "Gurobi Optimizer version 12.0.3 build v12.0.3rc0 (linux64 - \"Linux Mint 22.1\")\n"
     ]
    },
    {
     "name": "stdout",
     "output_type": "stream",
     "text": [
      "\n"
     ]
    },
    {
     "name": "stdout",
     "output_type": "stream",
     "text": [
      "CPU model: Intel(R) Core(TM) i7-8550U CPU @ 1.80GHz, instruction set [SSE2|AVX|AVX2]\n"
     ]
    },
    {
     "name": "stdout",
     "output_type": "stream",
     "text": [
      "Thread count: 4 physical cores, 8 logical processors, using up to 8 threads\n"
     ]
    },
    {
     "name": "stdout",
     "output_type": "stream",
     "text": [
      "\n"
     ]
    },
    {
     "name": "stdout",
     "output_type": "stream",
     "text": [
      "Academic license 2713550 - for non-commercial use only - registered to av___@gmail.com\n"
     ]
    },
    {
     "name": "stdout",
     "output_type": "stream",
     "text": [
      "Optimize a model with 655177 rows, 376560 columns and 2004514 nonzeros\n"
     ]
    },
    {
     "name": "stdout",
     "output_type": "stream",
     "text": [
      "Model fingerprint: 0xe551c9a6\n"
     ]
    },
    {
     "name": "stdout",
     "output_type": "stream",
     "text": [
      "Variable types: 0 continuous, 376560 integer (376560 binary)\n"
     ]
    },
    {
     "name": "stdout",
     "output_type": "stream",
     "text": [
      "Coefficient statistics:\n"
     ]
    },
    {
     "name": "stdout",
     "output_type": "stream",
     "text": [
      "  Matrix range     [1e+00, 2e+00]\n"
     ]
    },
    {
     "name": "stdout",
     "output_type": "stream",
     "text": [
      "  Objective range  [2e-02, 4e-01]\n"
     ]
    },
    {
     "name": "stdout",
     "output_type": "stream",
     "text": [
      "  Bounds range     [1e+00, 1e+00]\n"
     ]
    },
    {
     "name": "stdout",
     "output_type": "stream",
     "text": [
      "  RHS range        [1e+00, 1e+00]\n"
     ]
    },
    {
     "name": "stdout",
     "output_type": "stream",
     "text": [
      "Presolve removed 257843 rows and 129012 columns (presolve time = 5s)...\n"
     ]
    },
    {
     "name": "stdout",
     "output_type": "stream",
     "text": [
      "Presolve removed 257843 rows and 129012 columns (presolve time = 10s)...\n"
     ]
    },
    {
     "name": "stdout",
     "output_type": "stream",
     "text": [
      "Presolve removed 257843 rows and 129012 columns (presolve time = 15s)...\n"
     ]
    },
    {
     "name": "stdout",
     "output_type": "stream",
     "text": [
      "Presolve removed 257843 rows and 129012 columns (presolve time = 20s)...\n"
     ]
    },
    {
     "name": "stdout",
     "output_type": "stream",
     "text": [
      "Presolve removed 257843 rows and 129012 columns (presolve time = 25s)...\n"
     ]
    },
    {
     "name": "stdout",
     "output_type": "stream",
     "text": [
      "Presolve removed 257843 rows and 129012 columns (presolve time = 30s)...\n"
     ]
    },
    {
     "name": "stdout",
     "output_type": "stream",
     "text": [
      "Presolve removed 257843 rows and 129012 columns (presolve time = 35s)...\n"
     ]
    },
    {
     "name": "stdout",
     "output_type": "stream",
     "text": [
      "Presolve removed 257843 rows and 129012 columns (presolve time = 40s)...\n"
     ]
    },
    {
     "name": "stdout",
     "output_type": "stream",
     "text": [
      "Presolve removed 257843 rows and 129012 columns (presolve time = 45s)...\n"
     ]
    },
    {
     "name": "stdout",
     "output_type": "stream",
     "text": [
      "Presolve removed 257843 rows and 129012 columns (presolve time = 50s)...\n"
     ]
    },
    {
     "name": "stdout",
     "output_type": "stream",
     "text": [
      "Presolve removed 257843 rows and 129012 columns (presolve time = 55s)...\n"
     ]
    },
    {
     "name": "stdout",
     "output_type": "stream",
     "text": [
      "Presolve removed 257843 rows and 129012 columns (presolve time = 60s)...\n"
     ]
    },
    {
     "name": "stdout",
     "output_type": "stream",
     "text": [
      "Presolve removed 257843 rows and 129012 columns (presolve time = 65s)...\n"
     ]
    },
    {
     "name": "stdout",
     "output_type": "stream",
     "text": [
      "Presolve removed 257843 rows and 129012 columns (presolve time = 70s)...\n"
     ]
    },
    {
     "name": "stdout",
     "output_type": "stream",
     "text": [
      "Presolve removed 257843 rows and 129012 columns (presolve time = 75s)...\n"
     ]
    },
    {
     "name": "stdout",
     "output_type": "stream",
     "text": [
      "Presolve removed 257843 rows and 129012 columns (presolve time = 80s)...\n"
     ]
    },
    {
     "name": "stdout",
     "output_type": "stream",
     "text": [
      "Presolve removed 257843 rows and 129012 columns (presolve time = 85s)...\n"
     ]
    },
    {
     "name": "stdout",
     "output_type": "stream",
     "text": [
      "Presolve removed 257843 rows and 196671 columns (presolve time = 100s)...\n"
     ]
    },
    {
     "name": "stdout",
     "output_type": "stream",
     "text": [
      "Presolve removed 398454 rows and 202044 columns (presolve time = 105s)...\n"
     ]
    },
    {
     "name": "stdout",
     "output_type": "stream",
     "text": [
      "Presolve removed 402226 rows and 206060 columns\n"
     ]
    },
    {
     "name": "stdout",
     "output_type": "stream",
     "text": [
      "Presolve time: 106.39s\n"
     ]
    },
    {
     "name": "stdout",
     "output_type": "stream",
     "text": [
      "Presolved: 252951 rows, 170500 columns, 831359 nonzeros\n"
     ]
    },
    {
     "name": "stdout",
     "output_type": "stream",
     "text": [
      "Variable types: 0 continuous, 170500 integer (170500 binary)\n"
     ]
    },
    {
     "name": "stdout",
     "output_type": "stream",
     "text": [
      "Found heuristic solution: objective 262.9088541\n"
     ]
    },
    {
     "name": "stdout",
     "output_type": "stream",
     "text": [
      "Deterministic concurrent LP optimizer: primal simplex, dual simplex, and barrier\n"
     ]
    },
    {
     "name": "stdout",
     "output_type": "stream",
     "text": [
      "Showing barrier log only...\n"
     ]
    },
    {
     "name": "stdout",
     "output_type": "stream",
     "text": [
      "\n"
     ]
    },
    {
     "name": "stdout",
     "output_type": "stream",
     "text": [
      "Root barrier log...\n"
     ]
    },
    {
     "name": "stdout",
     "output_type": "stream",
     "text": [
      "\n"
     ]
    },
    {
     "name": "stdout",
     "output_type": "stream",
     "text": [
      "Ordering time: 4.05s\n"
     ]
    },
    {
     "name": "stdout",
     "output_type": "stream",
     "text": [
      "\n"
     ]
    },
    {
     "name": "stdout",
     "output_type": "stream",
     "text": [
      "Barrier statistics:\n"
     ]
    },
    {
     "name": "stdout",
     "output_type": "stream",
     "text": [
      " AA' NZ     : 2.583e+06\n"
     ]
    },
    {
     "name": "stdout",
     "output_type": "stream",
     "text": [
      " Factor NZ  : 1.953e+07 (roughly 300 MB of memory)\n"
     ]
    },
    {
     "name": "stdout",
     "output_type": "stream",
     "text": [
      " Factor Ops : 1.782e+10 (roughly 1 second per iteration)\n"
     ]
    },
    {
     "name": "stdout",
     "output_type": "stream",
     "text": [
      " Threads    : 2\n"
     ]
    },
    {
     "name": "stdout",
     "output_type": "stream",
     "text": [
      "\n"
     ]
    },
    {
     "name": "stdout",
     "output_type": "stream",
     "text": [
      "                  Objective                Residual\n"
     ]
    },
    {
     "name": "stdout",
     "output_type": "stream",
     "text": [
      "Iter       Primal          Dual         Primal    Dual     Compl     Time\n"
     ]
    },
    {
     "name": "stdout",
     "output_type": "stream",
     "text": [
      "   0  -4.21035721e+02 -1.68564771e+05  3.18e+03 4.33e-01  4.72e+00   115s\n"
     ]
    },
    {
     "name": "stdout",
     "output_type": "stream",
     "text": [
      "   1   9.12088084e+01 -1.53064851e+05  8.66e+02 3.82e-01  1.37e+00   118s\n"
     ]
    },
    {
     "name": "stdout",
     "output_type": "stream",
     "text": [
      "   2   2.45982715e+02 -3.78998711e+04  8.75e+01 1.07e-14  1.57e-01   120s\n"
     ]
    },
    {
     "name": "stdout",
     "output_type": "stream",
     "text": [
      "   3   2.63516413e+02 -7.94265436e+03  5.28e+00 2.18e-14  1.81e-02   122s\n"
     ]
    },
    {
     "name": "stdout",
     "output_type": "stream",
     "text": [
      "   4   2.44306182e+02 -2.40123568e+03  7.81e-01 1.80e-14  4.81e-03   124s\n"
     ]
    },
    {
     "name": "stdout",
     "output_type": "stream",
     "text": [
      "   5   2.14824102e+02 -6.59575081e+02  2.93e-02 1.27e-14  1.49e-03   126s\n"
     ]
    },
    {
     "name": "stdout",
     "output_type": "stream",
     "text": [
      "   6   1.65596679e+02 -2.39904695e+02  2.54e-03 2.56e-14  6.90e-04   129s\n"
     ]
    },
    {
     "name": "stdout",
     "output_type": "stream",
     "text": [
      "   7   1.18405906e+02 -9.50216573e+01  2.29e-04 6.89e-14  3.63e-04   131s\n"
     ]
    },
    {
     "name": "stdout",
     "output_type": "stream",
     "text": [
      "   8   9.17444612e+01 -3.58530128e+01  9.72e-05 2.27e-13  2.17e-04   133s\n"
     ]
    },
    {
     "name": "stdout",
     "output_type": "stream",
     "text": [
      "   9   7.11633265e+01 -1.72415209e+01  3.97e-05 3.65e-13  1.50e-04   134s\n"
     ]
    },
    {
     "name": "stdout",
     "output_type": "stream",
     "text": [
      "  10   6.11785243e+01  9.29394288e+00  1.94e-05 7.65e-13  8.83e-05   135s\n"
     ]
    },
    {
     "name": "stdout",
     "output_type": "stream",
     "text": [
      "  11   5.74111193e+01  2.08056502e+01  1.40e-05 6.96e-13  6.24e-05   136s\n"
     ]
    },
    {
     "name": "stdout",
     "output_type": "stream",
     "text": [
      "\n"
     ]
    },
    {
     "name": "stdout",
     "output_type": "stream",
     "text": [
      "Barrier performed 11 iterations in 136.42 seconds (75.00 work units)\n"
     ]
    },
    {
     "name": "stdout",
     "output_type": "stream",
     "text": [
      "Barrier solve interrupted - model solved by another algorithm\n"
     ]
    },
    {
     "name": "stdout",
     "output_type": "stream",
     "text": [
      "\n"
     ]
    },
    {
     "name": "stdout",
     "output_type": "stream",
     "text": [
      "Concurrent spin time: 4.08s (can be avoided by choosing Method=3)\n"
     ]
    },
    {
     "name": "stdout",
     "output_type": "stream",
     "text": [
      "\n"
     ]
    },
    {
     "name": "stdout",
     "output_type": "stream",
     "text": [
      "Solved with dual simplex\n"
     ]
    },
    {
     "name": "stdout",
     "output_type": "stream",
     "text": [
      "\n"
     ]
    },
    {
     "name": "stdout",
     "output_type": "stream",
     "text": [
      "Root simplex log...\n"
     ]
    },
    {
     "name": "stdout",
     "output_type": "stream",
     "text": [
      "\n"
     ]
    },
    {
     "name": "stdout",
     "output_type": "stream",
     "text": [
      "Iteration    Objective       Primal Inf.    Dual Inf.      Time\n"
     ]
    },
    {
     "name": "stdout",
     "output_type": "stream",
     "text": [
      "  101779    4.1196262e+01   0.000000e+00   0.000000e+00    137s\n"
     ]
    },
    {
     "name": "stdout",
     "output_type": "stream",
     "text": [
      "\n"
     ]
    },
    {
     "name": "stdout",
     "output_type": "stream",
     "text": [
      "Root relaxation: objective 4.119626e+01, 101779 iterations, 29.03 seconds (9.86 work units)\n"
     ]
    },
    {
     "name": "stdout",
     "output_type": "stream",
     "text": [
      "\n"
     ]
    },
    {
     "name": "stdout",
     "output_type": "stream",
     "text": [
      "    Nodes    |    Current Node    |     Objective Bounds      |     Work\n"
     ]
    },
    {
     "name": "stdout",
     "output_type": "stream",
     "text": [
      " Expl Unexpl |  Obj  Depth IntInf | Incumbent    BestBd   Gap | It/Node Time\n"
     ]
    },
    {
     "name": "stdout",
     "output_type": "stream",
     "text": [
      "\n"
     ]
    },
    {
     "name": "stdout",
     "output_type": "stream",
     "text": [
      "*    0     0               0      41.1962619   41.19626  0.00%     -  136s\n"
     ]
    },
    {
     "name": "stdout",
     "output_type": "stream",
     "text": [
      "\n"
     ]
    },
    {
     "name": "stdout",
     "output_type": "stream",
     "text": [
      "Explored 1 nodes (101779 simplex iterations) in 136.69 seconds (76.77 work units)\n"
     ]
    },
    {
     "name": "stdout",
     "output_type": "stream",
     "text": [
      "Thread count was 8 (of 8 available processors)\n"
     ]
    },
    {
     "name": "stdout",
     "output_type": "stream",
     "text": [
      "\n"
     ]
    },
    {
     "name": "stdout",
     "output_type": "stream",
     "text": [
      "Solution count 2: 41.1963 262.909 \n"
     ]
    },
    {
     "name": "stdout",
     "output_type": "stream",
     "text": [
      "\n"
     ]
    },
    {
     "name": "stdout",
     "output_type": "stream",
     "text": [
      "Optimal solution found (tolerance 1.00e-04)\n"
     ]
    },
    {
     "name": "stdout",
     "output_type": "stream",
     "text": [
      "Best objective 4.119626190271e+01, best bound 4.119626190269e+01, gap 0.0000%\n"
     ]
    }
   ],
   "source": [
    "model.optimize()"
   ]
  },
  {
   "cell_type": "markdown",
   "id": "c2bb0cfd-3f6e-4806-908c-628a86f4574f",
   "metadata": {
    "editable": true,
    "papermill": {
     "duration": 0.009283,
     "end_time": "2025-09-26T14:00:15.177778",
     "exception": false,
     "start_time": "2025-09-26T14:00:15.168495",
     "status": "completed"
    },
    "slideshow": {
     "slide_type": ""
    },
    "tags": []
   },
   "source": [
    "## Result Analysis"
   ]
  },
  {
   "cell_type": "code",
   "execution_count": 15,
   "id": "78f5ab5d-204b-48b6-bec9-9e2647d47855",
   "metadata": {
    "editable": true,
    "execution": {
     "iopub.execute_input": "2025-09-26T14:00:15.198660Z",
     "iopub.status.busy": "2025-09-26T14:00:15.198386Z",
     "iopub.status.idle": "2025-09-26T14:00:16.061192Z",
     "shell.execute_reply": "2025-09-26T14:00:16.060533Z"
    },
    "papermill": {
     "duration": 0.875081,
     "end_time": "2025-09-26T14:00:16.062745",
     "exception": false,
     "start_time": "2025-09-26T14:00:15.187664",
     "status": "completed"
    },
    "slideshow": {
     "slide_type": ""
    },
    "tags": []
   },
   "outputs": [],
   "source": [
    "# Compute cohesion:\n",
    "inside_w = dict()\n",
    "outside_w = dict()\n",
    "total_w = 0\n",
    "\n",
    "for i,j in G.edges():\n",
    "    total_w += G[i][j]['w']\n",
    "    for k in range(n_micros):\n",
    "        if z[i,j,k].x == 1: # Edge (i,j) is inside microservice k: sum the weight as inside\n",
    "            inside_w[k] = inside_w.get(k, 0) + G[i][j]['w']\n",
    "        if x[i,k].x == 1: # Edge (i,j) has its origin in k: sum the weigth as outside\n",
    "            outside_w[k] = outside_w.get(k, 0) + G[i][j]['w']\n",
    "\n",
    "cohesion_dict = dict()\n",
    "for k in range(n_micros):\n",
    "    cohesion_dict[k] = inside_w[k] / outside_w[k]\n",
    "\n",
    "cohesion = sum(cohesion_dict.values())/n_micros"
   ]
  },
  {
   "cell_type": "code",
   "execution_count": 16,
   "id": "b4f4589c-f9db-4123-89b3-9d1266b6297b",
   "metadata": {
    "editable": true,
    "execution": {
     "iopub.execute_input": "2025-09-26T14:00:16.092181Z",
     "iopub.status.busy": "2025-09-26T14:00:16.091958Z",
     "iopub.status.idle": "2025-09-26T14:00:16.288978Z",
     "shell.execute_reply": "2025-09-26T14:00:16.288237Z"
    },
    "papermill": {
     "duration": 0.212799,
     "end_time": "2025-09-26T14:00:16.290303",
     "exception": false,
     "start_time": "2025-09-26T14:00:16.077504",
     "status": "completed"
    },
    "slideshow": {
     "slide_type": ""
    },
    "tags": []
   },
   "outputs": [
    {
     "name": "stdout",
     "output_type": "stream",
     "text": [
      "Found 57 microservices\n",
      "Total coupling value: 41.19626190270537 (0.7227414368895679 avg.)\n",
      "Cohesion value: 0.9373530297261847\n",
      "\n",
      "Entities in Microservice 0:\n",
      "- CustomerAddressType\n",
      "- CustomerPhoneImpl\n",
      "- GeolocationDTO\n",
      "- OfferTimeZoneType\n",
      "- StackabilityType\n",
      "- OfferItemRestrictionRuleType\n",
      "- OfferRuleType\n",
      "- OfferProrationType\n",
      "- StructuredContentCartRuleProcessor\n",
      "- PageCartRuleProcessor\n",
      "- SkuActiveDateConsiderationContext\n",
      "- ProductOptionType\n",
      "- SkuFeeType\n",
      "- ProductBundlePricingModelType\n",
      "- BaseProcessor\n",
      "- CheckoutStageType\n",
      "- GiftCardInfoForm\n",
      "- CheckoutForm\n",
      "- InfiniteExpiryPolicy\n",
      "- OneMinuteExpiryPolicy\n",
      "- TwentyFourHourExpiryPolicy\n",
      "- TwelveHourExpiryPolicy\n",
      "- DefaultExpiryPolicy\n",
      "- ThirtyMinuteExpiryPolicy\n",
      "- OneHourExpiryPolicy\n",
      "- TenMinuteExpiryPolicy\n",
      "- MergePersistenceUnitManager\n",
      "- RemoveCacheClassTransformer\n",
      "- DirectCopyIgnorePattern\n",
      "- ConditionalFieldAnnotationsClassTransformer\n",
      "- OptionalDirectCopyClassTransformer\n",
      "- RemoveAnnotationClassTransformer\n",
      "- AnnotationsCopyClassTransformer\n",
      "- AbstractClassTransformer\n",
      "- DirectCopyClassTransformer\n",
      "- AlterTableNameClassTransformer\n",
      "- EntityMarkerClassTransformer\n",
      "- SingleTableInheritanceClassTransformer\n",
      "- SingleTableInheritanceInfo\n",
      "- SupportLogger\n",
      "- ProcessDetailLogger\n",
      "- DemoHsqlSingleLineSqlCommandExtractor\n",
      "- DemoPostgresSingleLineSqlCommandExtractor\n",
      "- DemoSqlServerSingleLineSqlCommandExtractor\n",
      "- DemoOracleSingleLineSqlCommandExtractor\n",
      "- ServerInfo\n",
      "- EmailServiceMDP\n",
      "- MessageCreator\n",
      "- NullMessageCreator\n",
      "- StructuredContentDTOWrapper\n",
      "- StructuredContentDTO\n",
      "- ItemCriteriaDTO\n",
      "- AutoImportSql\n",
      "- TransactionInfo\n",
      "- CompressedItem\n",
      "- LifecycleAwareJpaTransactionManager\n",
      "- TransactionLifecycleEvent\n",
      "- ResourceMinificationException\n",
      "- EntityInformationDto\n",
      "- PageDTO\n",
      "- NullPageDTO\n",
      "- ResourceTagAttributes\n",
      "- ResourcesRequestBundle\n",
      "Entities in Microservice 1:\n",
      "- CustomerPaymentImpl\n",
      "- SolrJSONFacet\n",
      "- NoOpCache\n",
      "- NoOpCacheManager\n",
      "- FileSystemResponseWrapper\n",
      "Entities in Microservice 2:\n",
      "- PhoneImpl\n",
      "- AvailabilityStatusType\n",
      "Entities in Microservice 3:\n",
      "- StateImpl\n",
      "- LegacyOfferUsesImpl\n",
      "- WeaveLegacyOfferUses\n",
      "- FilterDefinition\n",
      "- Filter\n",
      "- FilterParameter\n",
      "- PropertyFilter\n",
      "- WeightUnitOfMeasureType\n",
      "- AccountNumberMask\n",
      "- UnmaskRange\n",
      "Entities in Microservice 4:\n",
      "- AbstractPostUpdateCustomerExtensionHandler\n",
      "- CustomerForgotPasswordSecurityTokenImpl\n",
      "- CustomerRoleImpl\n",
      "- CustomerAttributeImpl\n",
      "- CountrySubdivisionImpl\n",
      "- RegisterCustomerEvent\n",
      "- ForgotUsernameEvent\n",
      "- ForgotPasswordEvent\n",
      "- PricingException\n",
      "- AbstractResourcePurgeExtensionHandler\n",
      "- AbstractSiteMapExtensionHandler\n",
      "- AbstractOfferValueModifierExtensionHandler\n",
      "- AbstractOfferServiceExtensionHandler\n",
      "- OfferContext\n",
      "- PromotionDiscount\n",
      "- FulfillmentGroupOfferPotential\n",
      "- PromotionQualifierWrapper\n",
      "- CandidatePromotionItems\n",
      "- PromotionQualifier\n",
      "- PromotableCandidateOrderOfferImpl\n",
      "- PromotableOrderItemPriceDetailImpl\n",
      "- PromotableCandidateFulfillmentGroupOfferImpl\n",
      "- PromotableFulfillmentGroupAdjustmentImpl\n",
      "- PromotableOrderAdjustmentImpl\n",
      "- PromotableCandidateItemOfferImpl\n",
      "- AbstractPromotionRounding\n",
      "- PromotableOrderItemPriceDetailAdjustmentImpl\n",
      "- PromotableFulfillmentGroupImpl\n",
      "- PromotableOrderImpl\n",
      "- OfferDiscountType\n",
      "- CustomerMaxUsesStrategyType\n",
      "- OfferMaxUseExceededException\n",
      "- OfferException\n",
      "- OfferExpiredException\n",
      "- OfferAlreadyAddedException\n",
      "- OrderItemAdjustmentImpl\n",
      "- OrderItemPriceDetailAdjustmentImpl\n",
      "- DefaultOfferCodeDaoExtensionHandler\n",
      "- OrderPaymentStatus\n",
      "- PaymentProcessorException\n",
      "- InsufficientFundsException\n",
      "- CheckoutException\n",
      "- PricingServiceActivity\n",
      "- CompositeActivity\n",
      "- CheckoutSeed\n",
      "- AbstractValidateCheckoutActivityExtensionHandler\n",
      "- AbstractPostUpdateOrderExtensionHandler\n",
      "- AbstractOrderServiceExtensionHandler\n",
      "- AbstractMergeCartServiceExtensionHandler\n",
      "- AbstractOrderItemServiceExtensionHandler\n",
      "- FulfillmentGroupItemRequest\n",
      "- FulfillmentGroupRequest\n",
      "- AbstractValidateAddRequestActivityExtensionHandler\n",
      "- OrderAttributeImpl\n",
      "- OrderItemHolder\n",
      "- AbstractOrderDaoExtensionHandler\n",
      "- SolrConfiguration\n",
      "- BroadleafCloudSolrClient\n",
      "- AbstractSolrSearchServiceExtensionHandler\n",
      "- FileSystemSolrIndexStatusProviderImpl\n",
      "- SolrSearchServiceImpl\n",
      "- GlobalSolrFullReIndexOperation\n",
      "- AbstractSolrIndexServiceExtensionHandler\n",
      "- AbstractInventoryServiceExtensionHandler\n",
      "- InventoryUnavailableException\n",
      "- InventoryType\n",
      "- AbstractCatalogServiceExtensionHandler\n",
      "- AbstractProductProcessorExtensionHandler\n",
      "- DefaultDynamicSkuPricingInvocationHandler\n",
      "- AbstractCategoryDaoExtensionHandler\n",
      "- AbstractProductDaoExtensionHandler\n",
      "- AbstractSkuDaoExtensionHandler\n",
      "- RollbackStateLocal\n",
      "- RollbackFailureException\n",
      "- AbstractAnonymousCustomerExtensionHandler\n",
      "- DefaultCustomerMergeExtensionHandler\n",
      "- PhoneNameForm\n",
      "- RegisterCustomerForm\n",
      "- AbstractUpdateCartServiceExtensionHandler\n",
      "- AbstractCacheKeyResolverExtensionHandler\n",
      "- AbstractLinkedDataGeneratorExtensionHandler\n",
      "- AbstractCheckoutControllerExtensionHandler\n",
      "- AbstractConfirmationControllerExtensionHandler\n",
      "- AbstractCartStateRequestProcessorExtensionHandler\n",
      "- AbstractAuthSuccessHandlerExtensionHandler\n",
      "- AbstractCommonAddressValidatorExtensionHandler\n",
      "- AbstractDatabaseResourceResolverExtensionHandler\n",
      "- OnEhCacheMissingCondition\n",
      "- OnEhCacheCondition\n",
      "- AbstractSiteServiceExtensionHandler\n",
      "- CleanStringException\n",
      "- StaleStateServiceException\n",
      "- PasswordChange\n",
      "- PasswordReset\n",
      "- GloballySharedInputStream\n",
      "- AuditableListener\n",
      "- AbstractAuditableListener\n",
      "- AbstractTemplateOverrideExtensionHandler\n",
      "- AbstractExtensionHandler\n",
      "- AbstractMultiTenantCopierExtensionHandler\n",
      "- GenericResponse\n",
      "- AbstractBroadleafMergeResourceExtensionHandler\n",
      "- PaymentGatewayRequestType\n",
      "- PaymentTransactionType\n",
      "- PaymentGatewayType\n",
      "- PaymentType\n",
      "- PaymentRequestDTO\n",
      "- LineItemDTO\n",
      "- PaymentResponseDTO\n",
      "- Money\n",
      "- EmailInfo\n",
      "- NullEmailInfo\n",
      "- EmailException\n",
      "- Attachment\n",
      "- AbstractSystemPropertyServiceExtensionHandler\n",
      "- EmailStatusHandler\n",
      "- FulfillmentPriceException\n",
      "- PaymentException\n",
      "- FulfillmentPriceHostException\n",
      "- AbstractEntityInformationServiceExtensionHandler\n",
      "- ItemsFulfilledEvent\n",
      "- BroadleafApplicationEvent\n",
      "- ReindexEvent\n",
      "- BroadleafSystemEventDetail\n",
      "- ItemsReturnedEvent\n",
      "- OrderSubmittedEvent\n",
      "- ItemsCancelledEvent\n",
      "- BroadleafSystemEvent\n",
      "- EmailNotification\n",
      "- SMSNotification\n",
      "- Notification\n",
      "- AbstractBroadleafTemplateResolverExtensionHandler\n",
      "- AbstractBLCICacheExtensionHandler\n",
      "- AbstractTRCreditCardExtensionHandler\n",
      "- AbstractCreditCardTypesExtensionHandler\n",
      "- AbstractPaymentGatewayFieldExtensionHandler\n",
      "- AbstractResourceRequestExtensionHandler\n",
      "- ServiceException\n",
      "- SecurityServiceException\n",
      "Entities in Microservice 5:\n",
      "- CustomerUserDetails\n",
      "- CustomerImpl\n",
      "- CustomerRuleHolder\n",
      "- PromotionMessageDTO\n",
      "- AbstractOrderItemRequest\n",
      "- AddToCartItems\n",
      "- ConfigurableOrderItemRequest\n",
      "- ProductBundleOrderItemRequest\n",
      "- OrderItemRequest\n",
      "- NonDiscreteOrderItemRequestDTO\n",
      "- DiscreteOrderItemRequest\n",
      "- BundleOrderItemRequest\n",
      "- GiftWrapOrderItemRequest\n",
      "- AddToCartItem\n",
      "- UpdateCartResponse\n",
      "- OrderMultishipOptionDTO\n",
      "- ActivityMessageDTO\n",
      "- OrderItemRequestDTO\n",
      "- UpdateCartException\n",
      "- MinQuantityNotFulfilledException\n",
      "- ItemNotFoundException\n",
      "- IllegalCartOperationException\n",
      "- RemoveFromCartException\n",
      "- RequiredAttributeNotProvidedException\n",
      "- ProductOptionValidationException\n",
      "- AddToCartException\n",
      "- AbstractCheckAvailabilityActivity\n",
      "- CartOperationRequest\n",
      "- DiscreteOrderItemImpl\n",
      "- GiftWrapOrderItemImpl\n",
      "- OrderItemAttributeImpl\n",
      "- BundleOrderItemImpl\n",
      "- OrderImpl\n",
      "- OrderMultishipOptionImpl\n",
      "- DynamicPriceDiscreteOrderItemImpl\n",
      "- OrderItemImpl\n",
      "- SkuPricingConsiderationContext\n",
      "- DynamicSkuPrices\n",
      "- ProductOptionValidationType\n",
      "- SkuBundleItemImpl\n",
      "- SkuPriceWrapper\n",
      "- WorkflowException\n",
      "- DefaultProcessContextImpl\n",
      "- OrderMultishipOptionForm\n",
      "- Auditable\n",
      "- AbstractModuleConfiguration\n",
      "- PreviewStatus\n",
      "- SiteMapConfigurationImpl\n",
      "- BroadleafException\n",
      "Entities in Microservice 6:\n",
      "- CountryImpl\n",
      "- AbstractCartController\n",
      "- BroadleafCartController\n",
      "- BroadleafPaymentInfoController\n",
      "- BroadleafShippingInfoController\n",
      "- BroadleafOrderConfirmationController\n",
      "- BroadleafBillingInfoController\n",
      "- BroadleafCheckoutController\n",
      "- AbstractCheckoutController\n",
      "- BroadleafContactUsController\n",
      "- BroadleafUpdateAccountController\n",
      "- BroadleafManageCustomerAddressesController\n",
      "- BroadleafSocialRegisterController\n",
      "- BroadleafLoginController\n",
      "- BroadleafRegisterController\n",
      "- AbstractAccountController\n",
      "- BroadleafManageCustomerPaymentsController\n",
      "- AbstractCustomerAddressController\n",
      "- BroadleafChangePasswordController\n",
      "- BroadleafManageWishlistController\n",
      "- BroadleafOrderHistoryController\n",
      "- BroadleafSearchController\n",
      "- AbstractCatalogController\n",
      "- BroadleafCategoryController\n",
      "- BroadleafSkuController\n",
      "- BroadleafProductController\n",
      "- CustomerPaymentGatewayAbstractController\n",
      "- PaymentGatewayAbstractController\n",
      "- BroadleafAbstractController\n",
      "Entities in Microservice 7:\n",
      "- CustomerAddressImpl\n",
      "- OfferCodeImpl\n",
      "- OfferPriceDataImpl\n",
      "- OfferImpl\n",
      "- PromotionMessageImpl\n",
      "- OrderPaymentImpl\n",
      "- PaymentTransactionImpl\n",
      "- StoreImpl\n",
      "- FulfillmentBandImpl\n",
      "- FulfillmentPriceBandImpl\n",
      "- FulfillmentWeightBandImpl\n",
      "- ProductBundleImpl\n",
      "- CategoryImpl\n",
      "- RelatedProductTypeEnum\n",
      "- ProductImpl\n",
      "- RelatedProductDTO\n",
      "- ProductBundleComparator\n",
      "- NonPersistentSiteThreadLocalCache\n",
      "- SiteImpl\n",
      "- CatalogImpl\n",
      "- FileServiceException\n",
      "- FileApplicationType\n",
      "- FileWorkArea\n",
      "- MultiTenantCopyContext\n",
      "- QueryUtils\n",
      "- WeaveArchiveStatus\n",
      "- ArchiveStatus\n",
      "- SiteMapURLSetWrapper\n",
      "- SiteMapURLWrapper\n",
      "- SiteMapImageWrapper\n",
      "- SiteMapGenerationResponse\n",
      "- SiteMapBuilder\n",
      "- SandBoxImpl\n",
      "- GeneratedResource\n",
      "- BundledResourceInfo\n",
      "- TranslationConsiderationContext\n",
      "- BroadleafDefaultResourceResolverChain\n",
      "Entities in Microservice 8:\n",
      "- AddressImpl\n",
      "- ReindexStateHolder\n",
      "Entities in Microservice 9:\n",
      "- ShippingRateImpl\n",
      "Entities in Microservice 10:\n",
      "- LastPaymentStatus\n",
      "- CodeTypeImpl\n",
      "- CustomChallengeQuestionEditor\n",
      "- SMSMessage\n",
      "- SystemPropertyFieldType\n",
      "- ConditionalDirectCopyTransformMemberDto\n",
      "- SiteMapPriorityType\n",
      "Entities in Microservice 11:\n",
      "- CustomerOfferImpl\n",
      "- CustomerAddressForm\n",
      "- CreditCardInfoForm\n",
      "- AbstractRemoveBeanPostProcessor\n",
      "- EarlyStageRemoveBeanPostProcessor\n",
      "- LateStageRemoveBeanPostProcessor\n",
      "- ConditionalFieldAnnotationCopyTransformMemberDTO\n",
      "- SessionlessHttpServletRequestWrapper\n",
      "Entities in Microservice 12:\n",
      "- OfferAuditImpl\n",
      "- ReviewStatusType\n",
      "Entities in Microservice 13:\n",
      "- RatingType\n",
      "- RatingSortType\n",
      "- EmailPropertyType\n",
      "- ContainerShapeType\n",
      "Entities in Microservice 14:\n",
      "- ReviewDetailImpl\n",
      "Entities in Microservice 15:\n",
      "- RatingSummaryImpl\n",
      "- ProductOptionValidationStrategyType\n",
      "- DayOfMonthType\n",
      "Entities in Microservice 16:\n",
      "- OrderStatus\n",
      "- FrameworkXmlBeanDefinitionReader\n",
      "- MergeXmlBeanDefinitionReader\n",
      "Entities in Microservice 17:\n",
      "- FulfillmentGroupStatusType\n",
      "- AbstractMergeBeanPostProcessor\n",
      "- EarlyStageMergeBeanPostProcessor\n",
      "- LateStageMergeBeanPostProcessor\n",
      "Entities in Microservice 18:\n",
      "- OrderItemType\n",
      "- TableCreator\n",
      "- SiteMapGeneratorType\n",
      "Entities in Microservice 19:\n",
      "- FulfillmentType\n",
      "- FullReindexCommand\n",
      "- IncrementalUpdateCommand\n",
      "- CatalogReindexCommand\n",
      "- SiteReindexCommand\n",
      "- AbstractSolrIndexUpdateServiceImpl\n",
      "- SolrUpdateCommand\n",
      "- ConfigurationOnlyState\n",
      "- TQOrder\n",
      "- TQRestriction\n",
      "- TQJoin\n",
      "- TypedQueryBuilder\n",
      "Entities in Microservice 20:\n",
      "- BandedWeightFulfillmentOptionImpl\n",
      "- FixedPriceFulfillmentOptionImpl\n",
      "- BandedPriceFulfillmentOptionImpl\n",
      "- FulfillmentOptionImpl\n",
      "Entities in Microservice 21:\n",
      "- FulfillmentGroupItemImpl\n",
      "Entities in Microservice 22:\n",
      "- FulfillmentEstimationResponse\n",
      "- OrderPersistedEvent\n",
      "- NullOrderImpl\n",
      "- OrderInfoForm\n",
      "- BillingInfoForm\n",
      "- ShippingInfoForm\n",
      "- PaymentInfoForm\n",
      "Entities in Microservice 23:\n",
      "- OfferAdjustmentType\n",
      "- OfferPriceDataIdentifierType\n",
      "- FulfillmentGroupImpl\n",
      "Entities in Microservice 24:\n",
      "- PromotionMessagePlacementType\n",
      "- SearchFacetImpl\n",
      "- SiteResolutionType\n",
      "Entities in Microservice 25:\n",
      "- SearchCriteria\n",
      "- SearchResult\n",
      "- SearchFacetResultDTO\n",
      "- SearchFacetDTO\n",
      "- ProductHandlerMapping\n",
      "- SkuHandlerMapping\n",
      "- CategoryHandlerMapping\n",
      "- BLCAbstractHandlerMapping\n",
      "Entities in Microservice 26:\n",
      "- IndexFieldImpl\n",
      "- MinuteType\n",
      "- WebRequestDeviceType\n",
      "Entities in Microservice 27:\n",
      "- SearchFacetRangeImpl\n",
      "Entities in Microservice 28:\n",
      "- ShippingServiceType\n",
      "- IndexFieldTypeImpl\n",
      "- DefaultDynamicSkuPricingFilter\n",
      "- AbstractDynamicSkuPricingFilter\n",
      "- LocaleImpl\n",
      "- IdentityUtilContext\n",
      "Entities in Microservice 29:\n",
      "- FieldEntity\n",
      "Entities in Microservice 30:\n",
      "- FieldImpl\n",
      "- PaymentLogEventType\n",
      "- HourOfDayType\n",
      "Entities in Microservice 31:\n",
      "- FieldType\n",
      "- ExplicitPrioritySequenceProcessor\n",
      "- EmptySequenceProcessor\n",
      "- SequenceProcessor\n",
      "Entities in Microservice 32:\n",
      "- SearchRedirectImpl\n",
      "- ResourceInputStream\n",
      "- DynamicResourceIterator\n",
      "- MergeXmlConfigResource\n",
      "- MergeJPAPersistenceResource\n",
      "Entities in Microservice 33:\n",
      "- ParentCategoryByProduct\n",
      "- DynamicSupportedFieldType\n",
      "- BroadleafEnvironmentConfigurer\n",
      "- BroadleafEnvironmentConfiguringPostProcessor\n",
      "- BroadleafEnvironmentConfiguringApplicationListener\n",
      "Entities in Microservice 34:\n",
      "- ItemOfferWeightedPercentComparator\n",
      "- ParentCategoryByCategory\n",
      "Entities in Microservice 35:\n",
      "- SolrIndexCachedOperation\n",
      "- CatalogStructure\n",
      "- StopWatch\n",
      "Entities in Microservice 36:\n",
      "- ProductType\n",
      "Entities in Microservice 37:\n",
      "- Dimension\n",
      "- SkuImpl\n",
      "- Weight\n",
      "Entities in Microservice 38:\n",
      "- ProductOptionImpl\n",
      "- PaymentDeclineType\n",
      "Entities in Microservice 39:\n",
      "- ProductOptionXrefImpl\n",
      "- SystemSupportLoggerAdapter\n",
      "- AbstractSupportLoggerAdapter\n",
      "- SLF4JSupportLoggerAdapter\n",
      "Entities in Microservice 40:\n",
      "- CategoryProductXrefImpl\n",
      "- ContainerSizeType\n",
      "Entities in Microservice 41:\n",
      "- ProductOptionValueImpl\n",
      "- ISOCodeStatusType\n",
      "Entities in Microservice 42:\n",
      "- SkuProductOptionValueXrefImpl\n",
      "- TemplateType\n",
      "Entities in Microservice 43:\n",
      "- AssignedProductOptionDTO\n",
      "Entities in Microservice 44:\n",
      "- ReconstructCartResponse\n",
      "- MergeCartResponse\n",
      "- CustomerLoggedInEvent\n",
      "- CustomerAuthenticatedFromCookieEvent\n",
      "- OrderLockAcquisitionFailureException\n",
      "- ExtensionResultHolder\n",
      "Entities in Microservice 45:\n",
      "- LocaleType\n",
      "- ItemOfferQtyOneComparator\n",
      "- StandardCacheItem\n",
      "- CreditCardType\n",
      "Entities in Microservice 46:\n",
      "- CategorySiteMapGeneratorConfigurationImpl\n",
      "- StreamCapableTransactionalOperationAdapter\n",
      "- MonthType\n",
      "- TargetModeType\n",
      "- CustomUrlSiteMapGeneratorConfigurationImpl\n",
      "- SiteMapGeneratorConfigurationImpl\n",
      "Entities in Microservice 47:\n",
      "- JCacheRegionConfiguration\n",
      "- MergeJCacheManagerFactoryBean\n",
      "- BatchRetrieveDao\n",
      "Entities in Microservice 48:\n",
      "- AddressVerificationException\n",
      "- LegacyOrderServiceImpl\n",
      "- LegacyCartServiceImpl\n",
      "- NodeReplaceInsert\n",
      "- NonEmptyNodeReplaceInsert\n",
      "- SpaceDelimitedNodeValueMerge\n",
      "- SchemaLocationNodeValueMerge\n",
      "- NodeValueMerge\n",
      "- InsertChildrenOf\n",
      "- AttributePreserveInsert\n",
      "- LiberalNodeReplaceInsert\n",
      "- CommaDelimitedNodeValueMerge\n",
      "- BaseHandler\n",
      "- InsertItems\n",
      "- NodeReplace\n",
      "- MetadataOverrideNodeReplaceInsert\n",
      "- ModuleConfigurationType\n",
      "- TaxHostException\n",
      "- TaxException\n",
      "Entities in Microservice 49:\n",
      "- PromotableOrderItemImpl\n",
      "- IndexStatusInfoImpl\n",
      "- NullSystemProperty\n",
      "Entities in Microservice 50:\n",
      "- MessageType\n",
      "- SystemPropertyImpl\n",
      "Entities in Microservice 51:\n",
      "- DayOfWeekType\n",
      "- LifecycleAwareJDBCServicesInitiator\n",
      "- SandBoxManagementImpl\n",
      "Entities in Microservice 52:\n",
      "- SandBoxType\n",
      "Entities in Microservice 53:\n",
      "- XssRequestWrapper\n",
      "- ORMConfigDto\n",
      "- ORMConfigPersistenceUnitPostProcessor\n",
      "- CacheStat\n",
      "- ServiceMonitor\n",
      "- ServiceStatusType\n",
      "- SiteMapWrapper\n",
      "- SiteMapIndexWrapper\n",
      "- LocalePair\n",
      "- TranslatedEntity\n",
      "Entities in Microservice 54:\n",
      "- RuleDTOConfig\n",
      "- CookieRuleRequestProcessor\n",
      "- CookieRuleFilter\n",
      "- PaymentAdditionalFieldType\n",
      "- TranslationImpl\n",
      "- AbstractBroadleafWebRequestProcessor\n",
      "- AbstractIgnorableOncePerRequestFilter\n",
      "- CacheAwareResponseHandler\n",
      "- BroadleafResourceHttpRequestHandler\n",
      "- BroadleafFormType\n",
      "Entities in Microservice 55:\n",
      "- HydrationDescriptor\n",
      "- EhcacheHydratedCacheManagerImpl\n",
      "- HydrationScanner\n",
      "- EhcacheHydratedCacheEventListener\n",
      "- AbstractHydratedCacheManager\n",
      "- HydrationItemDescriptor\n",
      "- BigMemoryHydratedCacheEventListener\n",
      "- BigMemoryHydratedCacheManagerImpl\n",
      "- EhcacheHydratedCacheJcacheEventListener\n",
      "- BigMemoryHydratedCacheJcacheEventListener\n",
      "- ISOCountryImpl\n",
      "Entities in Microservice 56:\n",
      "- CustomerPersistedEvent\n",
      "- ItemOfferComparator\n",
      "- OrderOfferComparator\n",
      "- OfferType\n",
      "- PromotionMessageType\n",
      "- FulfillmentBandResultAmountType\n",
      "- TaxType\n",
      "- CatalogContextDTO\n",
      "- CheckoutSectionDTO\n",
      "- CheckoutSectionViewType\n",
      "- CheckoutSectionStateType\n",
      "- RequestDTOImpl\n",
      "- ThreadLocalManager\n",
      "- BreadcrumbDTO\n",
      "- BreadcrumbDTOType\n",
      "- DimensionUnitOfMeasureType\n",
      "- FixedTimeSource\n",
      "- BroadleafRequestedCurrencyDto\n",
      "- SiteMapChangeFreqType\n",
      "- BroadleafRequestContext\n",
      "- SandBoxContext\n",
      "- HaltFilterChainException\n",
      "\n",
      "\n",
      "\n",
      "# of method calls crossing microservices: 169\n",
      "# of entity references crossing microservices: 10\n",
      "# of entity usages crossing microservices: 27\n",
      "# of methods persisting entities of other microservices: 41\n"
     ]
    },
    {
     "data": {
      "application/scrapbook.scrap.json+json": {
       "data": 57,
       "encoder": "json",
       "name": "n_micros",
       "version": 1
      }
     },
     "metadata": {
      "scrapbook": {
       "data": true,
       "display": false,
       "name": "n_micros"
      }
     },
     "output_type": "display_data"
    },
    {
     "data": {
      "application/scrapbook.scrap.json+json": {
       "data": 0.7227414368895679,
       "encoder": "json",
       "name": "avg_cop",
       "version": 1
      }
     },
     "metadata": {
      "scrapbook": {
       "data": true,
       "display": false,
       "name": "avg_cop"
      }
     },
     "output_type": "display_data"
    },
    {
     "data": {
      "application/scrapbook.scrap.json+json": {
       "data": 0.9373530297261847,
       "encoder": "json",
       "name": "cohesion",
       "version": 1
      }
     },
     "metadata": {
      "scrapbook": {
       "data": true,
       "display": false,
       "name": "cohesion"
      }
     },
     "output_type": "display_data"
    },
    {
     "data": {
      "application/scrapbook.scrap.json+json": {
       "data": 169,
       "encoder": "json",
       "name": "n_calls",
       "version": 1
      }
     },
     "metadata": {
      "scrapbook": {
       "data": true,
       "display": false,
       "name": "n_calls"
      }
     },
     "output_type": "display_data"
    },
    {
     "data": {
      "application/scrapbook.scrap.json+json": {
       "data": 10,
       "encoder": "json",
       "name": "n_refs",
       "version": 1
      }
     },
     "metadata": {
      "scrapbook": {
       "data": true,
       "display": false,
       "name": "n_refs"
      }
     },
     "output_type": "display_data"
    },
    {
     "data": {
      "application/scrapbook.scrap.json+json": {
       "data": 27,
       "encoder": "json",
       "name": "n_uses",
       "version": 1
      }
     },
     "metadata": {
      "scrapbook": {
       "data": true,
       "display": false,
       "name": "n_uses"
      }
     },
     "output_type": "display_data"
    },
    {
     "data": {
      "application/scrapbook.scrap.json+json": {
       "data": 41,
       "encoder": "json",
       "name": "n_persist",
       "version": 1
      }
     },
     "metadata": {
      "scrapbook": {
       "data": true,
       "display": false,
       "name": "n_persist"
      }
     },
     "output_type": "display_data"
    },
    {
     "data": {
      "application/scrapbook.scrap.json+json": {
       "data": 741.5947874714653,
       "encoder": "json",
       "name": "total_w",
       "version": 1
      }
     },
     "metadata": {
      "scrapbook": {
       "data": true,
       "display": false,
       "name": "total_w"
      }
     },
     "output_type": "display_data"
    }
   ],
   "source": [
    "show_methods = False\n",
    "\n",
    "analysis_output = \"\"\n",
    "\n",
    "analysis_output += f'Found {str(n_micros)} microservices\\n'\n",
    "\n",
    "analysis_output += f'Total coupling value: {model.objVal} ({model.objVal/n_micros} avg.)\\n'\n",
    "analysis_output += f'Cohesion value: {cohesion}\\n\\n'\n",
    "\n",
    "for k in range(n_micros):\n",
    "    analysis_output += f'Entities in Microservice {str(k)}:\\n'\n",
    "    for i in G.nodes():\n",
    "        if G.nodes[i]['type'] == 'Entity' and x[i,k].x == 1:\n",
    "            analysis_output += f'- {G.nodes[i][\"name\"]}\\n'\n",
    "\n",
    "if show_methods:\n",
    "    for k in range(n_micros):\n",
    "        analysis_output += f'\\n\\nMethods in Microservice {str(k)}:\\n'\n",
    "        for i in G.nodes():\n",
    "            if G.nodes[i]['type'] == 'Method' and x[i,k].x == 1:\n",
    "                analysis_output += f'- {G.nodes[i][\"name\"]} ({G.nodes[i][\"class_name\"]})\\n'\n",
    "\n",
    "mcalls = 0\n",
    "references = 0\n",
    "uses = 0\n",
    "persists = 0\n",
    "\n",
    "for i,j in G.edges():\n",
    "    if y[i,j].x == 0:\n",
    "        if G[i][j]['rel_type'] == 'Calls':\n",
    "            mcalls += 1 \n",
    "        elif G[i][j]['rel_type'] == 'References':\n",
    "            references += 1\n",
    "        elif G[i][j]['rel_type'] == 'Uses':\n",
    "            uses += 1\n",
    "        elif G[i][j]['rel_type'] == 'Persists':\n",
    "            persists += 1\n",
    "\n",
    "analysis_output += f'\\n\\n\\n# of method calls crossing microservices: {mcalls}'\n",
    "analysis_output += f'\\n# of entity references crossing microservices: {references}'\n",
    "analysis_output += f'\\n# of entity usages crossing microservices: {uses}'\n",
    "analysis_output += f'\\n# of methods persisting entities of other microservices: {persists}'\n",
    "\n",
    "print(analysis_output)\n",
    "\n",
    "sb.glue(\"n_micros\", n_micros)\n",
    "sb.glue(\"avg_cop\", model.objVal/n_micros)\n",
    "sb.glue(\"cohesion\", cohesion)\n",
    "sb.glue(\"n_calls\", mcalls)\n",
    "sb.glue(\"n_refs\", references)\n",
    "sb.glue(\"n_uses\", uses)\n",
    "sb.glue(\"n_persist\", persists)\n",
    "sb.glue(\"total_w\", total_w)\n",
    "\n",
    "with open(analysis_out, 'w') as analysis_file:\n",
    "    analysis_file.write(analysis_output)"
   ]
  },
  {
   "cell_type": "code",
   "execution_count": 17,
   "id": "3519b123-a48c-4070-ab5f-b17393c76ad2",
   "metadata": {
    "editable": true,
    "execution": {
     "iopub.execute_input": "2025-09-26T14:00:16.322561Z",
     "iopub.status.busy": "2025-09-26T14:00:16.322101Z",
     "iopub.status.idle": "2025-09-26T14:00:16.840053Z",
     "shell.execute_reply": "2025-09-26T14:00:16.839203Z"
    },
    "papermill": {
     "duration": 0.536032,
     "end_time": "2025-09-26T14:00:16.841346",
     "exception": false,
     "start_time": "2025-09-26T14:00:16.305314",
     "status": "completed"
    },
    "slideshow": {
     "slide_type": ""
    },
    "tags": []
   },
   "outputs": [],
   "source": [
    "with open(solution_csv_out, 'w') as results_csv:\n",
    "    results_csv.write('node_key,microservice\\n')\n",
    "    counter = 0\n",
    "    for i in G.nodes():\n",
    "        for k in range(n_micros):\n",
    "            if x[i,k].x == 1:\n",
    "                results_csv.write(f'{i},{k}\\n')\n",
    "                counter+=1\n",
    "    \n",
    "    if counter!=len(G.nodes()):\n",
    "        print('Error! There are nodes not assigned into microservices?!')"
   ]
  },
  {
   "cell_type": "code",
   "execution_count": 18,
   "id": "6e8cfeef-174f-4742-ac5f-4862676bad36",
   "metadata": {
    "editable": true,
    "execution": {
     "iopub.execute_input": "2025-09-26T14:00:16.869845Z",
     "iopub.status.busy": "2025-09-26T14:00:16.869526Z",
     "iopub.status.idle": "2025-09-26T14:00:16.873385Z",
     "shell.execute_reply": "2025-09-26T14:00:16.872643Z"
    },
    "papermill": {
     "duration": 0.019743,
     "end_time": "2025-09-26T14:00:16.874587",
     "exception": false,
     "start_time": "2025-09-26T14:00:16.854844",
     "status": "completed"
    },
    "slideshow": {
     "slide_type": ""
    },
    "tags": []
   },
   "outputs": [],
   "source": [
    "if not headless:\n",
    "    DrawSol(G, x, graph_image_out)\n",
    "    \n",
    "    display(Image(filename = graph_image_out))"
   ]
  }
 ],
 "metadata": {
  "kernelspec": {
   "display_name": "Python 3 (ipykernel)",
   "language": "python",
   "name": "python3"
  },
  "language_info": {
   "codemirror_mode": {
    "name": "ipython",
    "version": 3
   },
   "file_extension": ".py",
   "mimetype": "text/x-python",
   "name": "python",
   "nbconvert_exporter": "python",
   "pygments_lexer": "ipython3",
   "version": "3.12.3"
  },
  "papermill": {
   "default_parameters": {},
   "duration": 174.546589,
   "end_time": "2025-09-26T14:00:19.505352",
   "environment_variables": {},
   "exception": null,
   "input_path": "2-Decomposition_optimization.ipynb",
   "output_path": "outputs/output_step_2_broadleaf-commerce.ipynb",
   "parameters": {
    "headless": true,
    "project": "broadleaf-commerce",
    "w": {
     "Calls": 0.10983701404760032,
     "Extends": 0.021063578458911825,
     "Persists": 0.20302002481332793,
     "References": 0.22108306675825734,
     "Uses": 0.44499631592190264
    }
   },
   "start_time": "2025-09-26T13:57:24.958763",
   "version": "2.6.0"
  },
  "vscode": {
   "interpreter": {
    "hash": "84d57bcf988df7741739090f92038d55c89d5ee4bebfcc0bea6a6c98a16573ca"
   }
  }
 },
 "nbformat": 4,
 "nbformat_minor": 5
}