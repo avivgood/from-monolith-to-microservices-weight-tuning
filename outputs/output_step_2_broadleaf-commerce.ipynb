{
 "cells": [
  {
   "cell_type": "code",
   "execution_count": 1,
   "id": "63ce5fa3-e2cb-4565-ba94-8fa943d68162",
   "metadata": {
    "editable": true,
    "execution": {
     "iopub.execute_input": "2025-09-26T18:52:52.208314Z",
     "iopub.status.busy": "2025-09-26T18:52:52.207847Z",
     "iopub.status.idle": "2025-09-26T18:53:06.641268Z",
     "shell.execute_reply": "2025-09-26T18:53:06.637276Z"
    },
    "papermill": {
     "duration": 14.446297,
     "end_time": "2025-09-26T18:53:06.644098",
     "exception": false,
     "start_time": "2025-09-26T18:52:52.197801",
     "status": "completed"
    },
    "slideshow": {
     "slide_type": ""
    },
    "tags": []
   },
   "outputs": [],
   "source": [
    "#!/usr/bin/env python\n",
    "import scrapbook as sb\n",
    "import networkx as nx\n",
    "import pygraphviz as pygv\n",
    "import gurobipy as gb\n",
    "import json\n",
    "from community import community_louvain\n",
    "from IPython.display import Image, display\n",
    "\n",
    "def DrawSol (G, x, filename):\n",
    "    global n_micros\n",
    "\n",
    "    DrawG = pygv.AGraph(directed=True, strict='true', splines='true')\n",
    "\n",
    "    colors = ['green', 'blue', 'red', 'orange', 'yellow', 'purple', 'black', 'gray', 'cyan', 'brown', 'hotpink', 'navy', 'darkgreen', 'chocolate', 'deeppink', 'firebrick', 'gold', 'orchid', 'gold4']\n",
    "    \n",
    "    for i in G.nodes():\n",
    "        if G.nodes[i]['type'] == 'Entity':\n",
    "            shape='hexagon'\n",
    "        else:\n",
    "            shape='circle'\n",
    "\n",
    "        for k in range(n_micros):\n",
    "            if x[i,k].x == 1:\n",
    "                # Get cluster number k\n",
    "                if k<len(colors):\n",
    "                    color=colors[k]\n",
    "                else:\n",
    "                    color = 'black'\n",
    "        DrawG.add_node (i, color=color, shape=shape, width=0.1, fontsize=9, label=G.nodes[i]['name'])\n",
    "\n",
    "    for i in G.edges():\n",
    "        edge_color = 'black' if G[i[0]][i[1]]['rel_type'] in ['Calls','Persists', 'References'] else 'gray'\n",
    "        DrawG.add_edge(i[0], i[1], color=edge_color, label=G[i[0]][i[1]]['rel_type'], fontsize='8')\n",
    "        \n",
    "    DrawG.layout(prog='dot')\n",
    "    DrawG.draw(filename)"
   ]
  },
  {
   "cell_type": "markdown",
   "id": "e3e92b53-40f6-4740-8a99-c40877eb9681",
   "metadata": {
    "editable": true,
    "papermill": {
     "duration": 0.016946,
     "end_time": "2025-09-26T18:53:06.679805",
     "exception": false,
     "start_time": "2025-09-26T18:53:06.662859",
     "status": "completed"
    },
    "slideshow": {
     "slide_type": ""
    },
    "tags": []
   },
   "source": [
    "### _Configuration!_\n",
    "\n",
    "Keep the project list up-to-date and select the project to be analyzed"
   ]
  },
  {
   "cell_type": "markdown",
   "id": "369f6589-5ded-4162-85ea-3c37b9026765",
   "metadata": {
    "editable": true,
    "papermill": {
     "duration": 0.018836,
     "end_time": "2025-09-26T18:53:06.716388",
     "exception": false,
     "start_time": "2025-09-26T18:53:06.697552",
     "status": "completed"
    },
    "slideshow": {
     "slide_type": ""
    },
    "tags": []
   },
   "source": [
    "### _User input required!_\n",
    "\n",
    "Update, if needed the default weigth of the edges"
   ]
  },
  {
   "cell_type": "code",
   "execution_count": 2,
   "id": "05c7e2d2-7f39-4109-a665-36a40e5be7de",
   "metadata": {
    "editable": true,
    "execution": {
     "iopub.execute_input": "2025-09-26T18:53:06.755603Z",
     "iopub.status.busy": "2025-09-26T18:53:06.754608Z",
     "iopub.status.idle": "2025-09-26T18:53:06.766589Z",
     "shell.execute_reply": "2025-09-26T18:53:06.765287Z"
    },
    "papermill": {
     "duration": 0.032209,
     "end_time": "2025-09-26T18:53:06.768762",
     "exception": false,
     "start_time": "2025-09-26T18:53:06.736553",
     "status": "completed"
    },
    "slideshow": {
     "slide_type": ""
    },
    "tags": [
     "parameters"
    ]
   },
   "outputs": [],
   "source": [
    "project = 'jpetstore' # <-- Set this variable!\n",
    "# Weighting edges:\n",
    "w = dict()\n",
    "w['Calls']=0.8\n",
    "w['Persists']=1\n",
    "w['Uses']=0.6\n",
    "w['References']=0.2\n",
    "w['Extends']=0\n",
    "headless = False"
   ]
  },
  {
   "cell_type": "code",
   "execution_count": 3,
   "id": "f902d24d",
   "metadata": {
    "execution": {
     "iopub.execute_input": "2025-09-26T18:53:06.811806Z",
     "iopub.status.busy": "2025-09-26T18:53:06.811378Z",
     "iopub.status.idle": "2025-09-26T18:53:06.821217Z",
     "shell.execute_reply": "2025-09-26T18:53:06.820167Z"
    },
    "papermill": {
     "duration": 0.034492,
     "end_time": "2025-09-26T18:53:06.823193",
     "exception": false,
     "start_time": "2025-09-26T18:53:06.788701",
     "status": "completed"
    },
    "tags": [
     "injected-parameters"
    ]
   },
   "outputs": [],
   "source": [
    "# Parameters\n",
    "project = \"broadleaf-commerce\"\n",
    "w = {\"Calls\": 0.1058060015872633, \"Persists\": 0.24598215764509793, \"References\": 0.11740005173294432, \"Extends\": 0.24757556425296062, \"Uses\": 0.2832362247817339}\n",
    "headless = True\n"
   ]
  },
  {
   "cell_type": "code",
   "execution_count": 4,
   "id": "654afedb-2f70-4c65-b23e-5e01c98d8d13",
   "metadata": {
    "editable": true,
    "execution": {
     "iopub.execute_input": "2025-09-26T18:53:06.863885Z",
     "iopub.status.busy": "2025-09-26T18:53:06.860186Z",
     "iopub.status.idle": "2025-09-26T18:53:06.874865Z",
     "shell.execute_reply": "2025-09-26T18:53:06.873801Z"
    },
    "papermill": {
     "duration": 0.034532,
     "end_time": "2025-09-26T18:53:06.877085",
     "exception": false,
     "start_time": "2025-09-26T18:53:06.842553",
     "status": "completed"
    },
    "slideshow": {
     "slide_type": ""
    },
    "tags": []
   },
   "outputs": [],
   "source": [
    "\n",
    "\n",
    "with open('projects.json', 'r') as projects:\n",
    "    project_found = False\n",
    "    for data in json.load(projects):\n",
    "        if data['name'] == project:\n",
    "            analysis_results_basedir = data['analysis_results_basedir']\n",
    "            project_found = True\n",
    "    if not project_found:\n",
    "        print('ERROR: project ' + project + ' does not appear in project.json')"
   ]
  },
  {
   "cell_type": "code",
   "execution_count": 5,
   "id": "c9f2f54d-61ce-4b68-a80a-68b94ef0ce32",
   "metadata": {
    "editable": true,
    "execution": {
     "iopub.execute_input": "2025-09-26T18:53:06.903110Z",
     "iopub.status.busy": "2025-09-26T18:53:06.902712Z",
     "iopub.status.idle": "2025-09-26T18:53:06.911689Z",
     "shell.execute_reply": "2025-09-26T18:53:06.910655Z"
    },
    "papermill": {
     "duration": 0.020525,
     "end_time": "2025-09-26T18:53:06.913936",
     "exception": false,
     "start_time": "2025-09-26T18:53:06.893411",
     "status": "completed"
    },
    "slideshow": {
     "slide_type": ""
    },
    "tags": []
   },
   "outputs": [],
   "source": [
    "# Set output names\n",
    "\n",
    "graph_in = analysis_results_basedir + project + '_graph.gml'\n",
    "communities_out = analysis_results_basedir + project + '_communities.csv'\n",
    "formulation_out = analysis_results_basedir + project + '_communities_improved_optimization.lp'\n",
    "solution_csv_out = analysis_results_basedir + project + '_sol_communities_improved_optimization.csv'\n",
    "graph_image_out = analysis_results_basedir + project + '_sol_communities_improved_optimization.png'\n",
    "analysis_out = analysis_results_basedir + project + '_sol_communities_improved_optimization.txt'"
   ]
  },
  {
   "cell_type": "code",
   "execution_count": 6,
   "id": "5c2c34a6-0072-4335-aa24-5592aa2b0eb7",
   "metadata": {
    "editable": true,
    "execution": {
     "iopub.execute_input": "2025-09-26T18:53:06.953103Z",
     "iopub.status.busy": "2025-09-26T18:53:06.952322Z",
     "iopub.status.idle": "2025-09-26T18:53:07.398233Z",
     "shell.execute_reply": "2025-09-26T18:53:07.397301Z"
    },
    "papermill": {
     "duration": 0.468217,
     "end_time": "2025-09-26T18:53:07.400192",
     "exception": false,
     "start_time": "2025-09-26T18:53:06.931975",
     "status": "completed"
    },
    "slideshow": {
     "slide_type": ""
    },
    "tags": []
   },
   "outputs": [],
   "source": [
    "# Import graph\n",
    "\n",
    "G = nx.read_graphml(graph_in)"
   ]
  },
  {
   "cell_type": "code",
   "execution_count": 7,
   "id": "dce09914-e79b-4094-8343-eb55557825f3",
   "metadata": {
    "editable": true,
    "execution": {
     "iopub.execute_input": "2025-09-26T18:53:07.420095Z",
     "iopub.status.busy": "2025-09-26T18:53:07.419665Z",
     "iopub.status.idle": "2025-09-26T18:53:07.447212Z",
     "shell.execute_reply": "2025-09-26T18:53:07.446096Z"
    },
    "papermill": {
     "duration": 0.039459,
     "end_time": "2025-09-26T18:53:07.449241",
     "exception": false,
     "start_time": "2025-09-26T18:53:07.409782",
     "status": "completed"
    },
    "slideshow": {
     "slide_type": ""
    },
    "tags": []
   },
   "outputs": [],
   "source": [
    "# Add edge weights\n",
    "\n",
    "for (i, j) in G.edges():\n",
    "    G[i][j]['w'] = w[G[i][j]['rel_type']]"
   ]
  },
  {
   "cell_type": "markdown",
   "id": "c98c18d6-f80e-47f3-91bd-258d444d2d08",
   "metadata": {
    "editable": true,
    "papermill": {
     "duration": 0.009302,
     "end_time": "2025-09-26T18:53:07.467302",
     "exception": false,
     "start_time": "2025-09-26T18:53:07.458000",
     "status": "completed"
    },
    "slideshow": {
     "slide_type": ""
    },
    "tags": []
   },
   "source": [
    "## Find communities"
   ]
  },
  {
   "cell_type": "code",
   "execution_count": 8,
   "id": "b1205d9e-4492-4c2d-8034-52c4323b3a20",
   "metadata": {
    "editable": true,
    "execution": {
     "iopub.execute_input": "2025-09-26T18:53:07.481748Z",
     "iopub.status.busy": "2025-09-26T18:53:07.481406Z",
     "iopub.status.idle": "2025-09-26T18:53:08.388092Z",
     "shell.execute_reply": "2025-09-26T18:53:08.383744Z"
    },
    "papermill": {
     "duration": 0.924554,
     "end_time": "2025-09-26T18:53:08.400177",
     "exception": false,
     "start_time": "2025-09-26T18:53:07.475623",
     "status": "completed"
    },
    "slideshow": {
     "slide_type": ""
    },
    "tags": []
   },
   "outputs": [],
   "source": [
    "H = nx.Graph(G) # create an undirected graph H from a directed graph G\n",
    "\n",
    "# compute the best partition\n",
    "communities = community_louvain.best_partition(H, weight='w')\n",
    "\n",
    "# write communities on file\n",
    "with open(communities_out, 'w') as csv_file:\n",
    "    csv_file.write('node, cluster/community\\n')\n",
    "    for node in communities:\n",
    "        csv_file.write(f'{node},{communities[node]}\\n')"
   ]
  },
  {
   "cell_type": "markdown",
   "id": "e6627e68-4939-4275-8ed8-43a323b64d2e",
   "metadata": {
    "editable": true,
    "papermill": {
     "duration": 0.048551,
     "end_time": "2025-09-26T18:53:08.494676",
     "exception": false,
     "start_time": "2025-09-26T18:53:08.446125",
     "status": "completed"
    },
    "slideshow": {
     "slide_type": ""
    },
    "tags": []
   },
   "source": [
    "## Find communities for the entity subgraph"
   ]
  },
  {
   "cell_type": "code",
   "execution_count": 9,
   "id": "476f02c9-d605-4213-8225-951cd9beb7e5",
   "metadata": {
    "editable": true,
    "execution": {
     "iopub.execute_input": "2025-09-26T18:53:08.565627Z",
     "iopub.status.busy": "2025-09-26T18:53:08.565239Z",
     "iopub.status.idle": "2025-09-26T18:53:11.623214Z",
     "shell.execute_reply": "2025-09-26T18:53:11.619043Z"
    },
    "papermill": {
     "duration": 3.098703,
     "end_time": "2025-09-26T18:53:11.628770",
     "exception": false,
     "start_time": "2025-09-26T18:53:08.530067",
     "status": "completed"
    },
    "slideshow": {
     "slide_type": ""
    },
    "tags": []
   },
   "outputs": [
    {
     "name": "stdout",
     "output_type": "stream",
     "text": [
      "Community 128:\n",
      " - SkuProductOptionValueXrefImpl (id:322)\n",
      "Community 132:\n",
      " - AssignedProductOptionDTO (id:328)\n",
      "Community 5:\n",
      " - CustomerPhoneImpl (id:7)\n",
      "Community 6:\n",
      " - CustomerPaymentImpl (id:9)\n",
      "Community 9:\n",
      " - PhoneImpl (id:12)\n",
      "Community 11:\n",
      " - StateImpl (id:15)\n",
      "Community 12:\n",
      " - CountrySubdivisionImpl (id:16)\n",
      "Community 16:\n",
      " - CountryImpl (id:24)\n",
      "Community 17:\n",
      " - CustomerAddressImpl (id:25)\n",
      " - OfferCodeImpl (id:100)\n",
      " - OfferImpl (id:110)\n",
      " - OrderPaymentImpl (id:130)\n",
      " - PaymentTransactionImpl (id:132)\n",
      " - StoreImpl (id:151)\n",
      " - CategoryImpl (id:306)\n",
      " - ProductImpl (id:320)\n",
      " - SiteImpl (id:530)\n",
      " - CatalogImpl (id:531)\n",
      " - SandBoxImpl (id:823)\n",
      "Community 18:\n",
      " - AddressImpl (id:27)\n",
      "Community 24:\n",
      " - ShippingRateImpl (id:47)\n",
      "Community 26:\n",
      " - CodeTypeImpl (id:55)\n",
      "Community 48:\n",
      " - CustomerOfferImpl (id:107)\n",
      "Community 49:\n",
      " - OfferAuditImpl (id:114)\n",
      "Community 54:\n",
      " - RatingType (id:137)\n",
      "Community 57:\n",
      " - ReviewDetailImpl (id:140)\n",
      "Community 58:\n",
      " - RatingSummaryImpl (id:141)\n",
      "Community 187:\n",
      " - ExtensionResultHolder (id:588)\n",
      "Community 188:\n",
      " - StandardCacheItem (id:590)\n",
      "Community 61:\n",
      " - FulfillmentOptionImpl (id:213)\n",
      "Community 65:\n",
      " - OrderStatus (id:168)\n",
      "Community 66:\n",
      " - FulfillmentGroupStatusType (id:169)\n",
      "Community 67:\n",
      " - OrderItemType (id:170)\n",
      "Community 68:\n",
      " - FulfillmentType (id:171)\n",
      "Community 196:\n",
      " - StreamCapableTransactionalOperationAdapter (id:627)\n",
      "Community 200:\n",
      " - BatchRetrieveDao (id:662)\n",
      "Community 85:\n",
      " - CustomerImpl (id:23)\n",
      " - OrderImpl (id:220)\n",
      " - OrderItemImpl (id:229)\n",
      " - AbstractModuleConfiguration (id:760)\n",
      "Community 88:\n",
      " - FulfillmentGroupItemImpl (id:218)\n",
      "Community 90:\n",
      " - NullOrderImpl (id:223)\n",
      "Community 91:\n",
      " - FulfillmentGroupImpl (id:227)\n",
      "Community 222:\n",
      " - ModuleConfigurationType (id:759)\n",
      "Community 223:\n",
      " - NullSystemProperty (id:761)\n",
      "Community 224:\n",
      " - SystemPropertyImpl (id:762)\n",
      "Community 97:\n",
      " - CatalogStructure (id:279)\n",
      "Community 99:\n",
      " - SearchFacetImpl (id:260)\n",
      "Community 100:\n",
      " - SearchCriteria (id:261)\n",
      "Community 102:\n",
      " - IndexFieldImpl (id:264)\n",
      "Community 103:\n",
      " - SearchFacetRangeImpl (id:267)\n",
      "Community 104:\n",
      " - IndexFieldTypeImpl (id:270)\n",
      "Community 105:\n",
      " - FieldEntity (id:271)\n",
      "Community 106:\n",
      " - FieldImpl (id:273)\n",
      "Community 107:\n",
      " - FieldType (id:274)\n",
      "Community 108:\n",
      " - SearchRedirectImpl (id:275)\n",
      "Community 109:\n",
      " - ParentCategoryByProduct (id:276)\n",
      "Community 110:\n",
      " - ParentCategoryByCategory (id:278)\n",
      "Community 251:\n",
      " - TranslatedEntity (id:853)\n",
      "Community 243:\n",
      " - SandBoxManagementImpl (id:822)\n",
      "Community 244:\n",
      " - SandBoxType (id:824)\n",
      "Community 252:\n",
      " - TranslationImpl (id:854)\n",
      "Community 118:\n",
      " - ProductType (id:295)\n",
      "Community 254:\n",
      " - BroadleafRequestContext (id:863)\n",
      "Community 253:\n",
      " - ISOCountryImpl (id:855)\n",
      "Community 122:\n",
      " - SkuImpl (id:303)\n",
      "Community 123:\n",
      " - ProductOptionImpl (id:304)\n",
      "Community 124:\n",
      " - ProductOptionXrefImpl (id:315)\n",
      "Community 125:\n",
      " - CategoryProductXrefImpl (id:316)\n",
      "Community 126:\n",
      " - ProductOptionValueImpl (id:317)\n"
     ]
    }
   ],
   "source": [
    "K = nx.Graph(G) # create an undirected graph H from a directed graph G\n",
    "\n",
    "# Remove non-entity nodes\n",
    "\n",
    "for i in list(K.nodes):\n",
    "    if K.nodes[i]['type']!='Entity':\n",
    "        K.remove_node(i)\n",
    "\n",
    "# Obtain subgraph of entities that have direct relationships with the persistence layer:\n",
    "    \n",
    "        \n",
    "# compute the best partition\n",
    "entity_cluster = community_louvain.best_partition(K, weight='w')\n",
    "\n",
    "# Remove nodes that do not have direct relationships with methods from the cluster dictionary:\n",
    "e_dict = dict()\n",
    "# Check if entity has a relationship with some method of the persistence layer (it will remove entities from the controller model, for instance)\n",
    "for e in entity_cluster:\n",
    "    e_dict[e] = False\n",
    "    for (i,j) in G.edges():\n",
    "        if e==j and G[i][j]['rel_type'] in ['Persists']:\n",
    "            e_dict[e]=True\n",
    "\n",
    "# Remove non-related entities\n",
    "for entity_to_remove in e_dict:\n",
    "    if not e_dict[entity_to_remove]:\n",
    "        # print('INFO: Entity ' + G.nodes[entity_to_remove]['name'] + ' removed from the clusters')\n",
    "        entity_cluster.pop(entity_to_remove)\n",
    "\n",
    "for i in set(entity_cluster.values()):\n",
    "    print(f'Community {i}:')\n",
    "    for entity, cluster in entity_cluster.items():\n",
    "        if cluster == i:\n",
    "            print(f' - {G.nodes()[entity][\"name\"]} (id:{entity})')"
   ]
  },
  {
   "cell_type": "markdown",
   "id": "9d385bf2-cf31-45e0-8d84-fd44715a1028",
   "metadata": {
    "editable": true,
    "papermill": {
     "duration": 0.018839,
     "end_time": "2025-09-26T18:53:11.671098",
     "exception": false,
     "start_time": "2025-09-26T18:53:11.652259",
     "status": "completed"
    },
    "slideshow": {
     "slide_type": ""
    },
    "tags": []
   },
   "source": [
    "### _User input required!_\n",
    "\n",
    "Refine, if needed, entity clusters"
   ]
  },
  {
   "cell_type": "code",
   "execution_count": 10,
   "id": "021636e9-07ea-45c6-9eab-e34e93503e9b",
   "metadata": {
    "editable": true,
    "execution": {
     "iopub.execute_input": "2025-09-26T18:53:11.756471Z",
     "iopub.status.busy": "2025-09-26T18:53:11.755959Z",
     "iopub.status.idle": "2025-09-26T18:53:11.769767Z",
     "shell.execute_reply": "2025-09-26T18:53:11.768519Z"
    },
    "papermill": {
     "duration": 0.080917,
     "end_time": "2025-09-26T18:53:11.775083",
     "exception": false,
     "start_time": "2025-09-26T18:53:11.694166",
     "status": "completed"
    },
    "slideshow": {
     "slide_type": ""
    },
    "tags": []
   },
   "outputs": [],
   "source": [
    "# Remove entity from its cluster\n",
    "entity_ids_to_remove = [] # <-- Put Ids as strings (example: ['1', '3']\n",
    "\n",
    "# Place entity into a cluster\n",
    "entities_clusters_to_place = [] # <-- Example: entity X in cluster Y: ('X', 5)\n",
    "\n",
    "\n",
    "for e in entity_ids_to_remove:\n",
    "    entity_cluster.pop(e)\n",
    "    print(f'INFO: Removed entity {G.nodes()[e][\"name\"]} from clusters')\n",
    "\n",
    "for (e, cluster) in entities_clusters_to_place:\n",
    "    entity_cluster[e] = cluster\n",
    "    print(f'INFO: Entity {G.nodes()[e][\"name\"]} put into cluster {cluster}')"
   ]
  },
  {
   "cell_type": "code",
   "execution_count": 11,
   "id": "03cb8c9a-f2d0-46ad-a857-11e31be27470",
   "metadata": {
    "editable": true,
    "execution": {
     "iopub.execute_input": "2025-09-26T18:53:11.817084Z",
     "iopub.status.busy": "2025-09-26T18:53:11.816447Z",
     "iopub.status.idle": "2025-09-26T18:53:11.830214Z",
     "shell.execute_reply": "2025-09-26T18:53:11.828693Z"
    },
    "papermill": {
     "duration": 0.040182,
     "end_time": "2025-09-26T18:53:11.834907",
     "exception": false,
     "start_time": "2025-09-26T18:53:11.794725",
     "status": "completed"
    },
    "slideshow": {
     "slide_type": ""
    },
    "tags": []
   },
   "outputs": [
    {
     "name": "stdout",
     "output_type": "stream",
     "text": [
      "Entities in community 0: ['CustomerPhoneImpl']\n",
      "Entities in community 1: ['CustomerPaymentImpl']\n",
      "Entities in community 2: ['PhoneImpl']\n",
      "Entities in community 3: ['StateImpl']\n",
      "Entities in community 4: ['CountrySubdivisionImpl']\n",
      "Entities in community 5: ['CustomerImpl', 'OrderImpl', 'OrderItemImpl', 'AbstractModuleConfiguration']\n",
      "Entities in community 6: ['CountryImpl']\n",
      "Entities in community 7: ['CustomerAddressImpl', 'OfferCodeImpl', 'OfferImpl', 'OrderPaymentImpl', 'PaymentTransactionImpl', 'StoreImpl', 'CategoryImpl', 'ProductImpl', 'SiteImpl', 'CatalogImpl', 'SandBoxImpl']\n",
      "Entities in community 8: ['AddressImpl']\n",
      "Entities in community 9: ['ShippingRateImpl']\n",
      "Entities in community 10: ['CodeTypeImpl']\n",
      "Entities in community 11: ['CustomerOfferImpl']\n",
      "Entities in community 12: ['OfferAuditImpl']\n",
      "Entities in community 13: ['RatingType']\n",
      "Entities in community 14: ['ReviewDetailImpl']\n",
      "Entities in community 15: ['RatingSummaryImpl']\n",
      "Entities in community 16: ['OrderStatus']\n",
      "Entities in community 17: ['FulfillmentGroupStatusType']\n",
      "Entities in community 18: ['OrderItemType']\n",
      "Entities in community 19: ['FulfillmentType']\n",
      "Entities in community 20: ['FulfillmentOptionImpl']\n",
      "Entities in community 21: ['FulfillmentGroupItemImpl']\n",
      "Entities in community 22: ['NullOrderImpl']\n",
      "Entities in community 23: ['FulfillmentGroupImpl']\n",
      "Entities in community 24: ['SearchFacetImpl']\n",
      "Entities in community 25: ['SearchCriteria']\n",
      "Entities in community 26: ['IndexFieldImpl']\n",
      "Entities in community 27: ['SearchFacetRangeImpl']\n",
      "Entities in community 28: ['IndexFieldTypeImpl']\n",
      "Entities in community 29: ['FieldEntity']\n",
      "Entities in community 30: ['FieldImpl']\n",
      "Entities in community 31: ['FieldType']\n",
      "Entities in community 32: ['SearchRedirectImpl']\n",
      "Entities in community 33: ['ParentCategoryByProduct']\n",
      "Entities in community 34: ['ParentCategoryByCategory']\n",
      "Entities in community 35: ['CatalogStructure']\n",
      "Entities in community 36: ['ProductType']\n",
      "Entities in community 37: ['SkuImpl']\n",
      "Entities in community 38: ['ProductOptionImpl']\n",
      "Entities in community 39: ['ProductOptionXrefImpl']\n",
      "Entities in community 40: ['CategoryProductXrefImpl']\n",
      "Entities in community 41: ['ProductOptionValueImpl']\n",
      "Entities in community 42: ['SkuProductOptionValueXrefImpl']\n",
      "Entities in community 43: ['AssignedProductOptionDTO']\n",
      "Entities in community 44: ['ExtensionResultHolder']\n",
      "Entities in community 45: ['StandardCacheItem']\n",
      "Entities in community 46: ['StreamCapableTransactionalOperationAdapter']\n",
      "Entities in community 47: ['BatchRetrieveDao']\n",
      "Entities in community 48: ['ModuleConfigurationType']\n",
      "Entities in community 49: ['NullSystemProperty']\n",
      "Entities in community 50: ['SystemPropertyImpl']\n",
      "Entities in community 51: ['SandBoxManagementImpl']\n",
      "Entities in community 52: ['SandBoxType']\n",
      "Entities in community 53: ['TranslatedEntity']\n",
      "Entities in community 54: ['TranslationImpl']\n",
      "Entities in community 55: ['ISOCountryImpl']\n",
      "Entities in community 56: ['BroadleafRequestContext']\n"
     ]
    }
   ],
   "source": [
    "# Some cluster may have disappeared: remaining clusters need to be renumbered\n",
    "cluster_map = dict()\n",
    "counter=0\n",
    "number_mapping = dict() # maps the old cluster number with the new one\n",
    "for entity_key, old_number in entity_cluster.items():\n",
    "    if old_number not in number_mapping:\n",
    "        number_mapping[old_number] = counter\n",
    "        counter+=1\n",
    "    cluster_map[number_mapping[old_number]] = cluster_map.get(number_mapping[old_number], []) + [entity_key]\n",
    "    \n",
    "for cluster in cluster_map:\n",
    "    print('Entities in community ' + str(cluster) + ': ' + str([G.nodes[entity_key]['name'] for entity_key in cluster_map[cluster]]))\n",
    "\n",
    "n_micros = len(cluster_map)"
   ]
  },
  {
   "cell_type": "code",
   "execution_count": 12,
   "id": "bd909d53-3681-43aa-baa0-5d38556bb40b",
   "metadata": {
    "editable": true,
    "execution": {
     "iopub.execute_input": "2025-09-26T18:53:11.898626Z",
     "iopub.status.busy": "2025-09-26T18:53:11.895144Z",
     "iopub.status.idle": "2025-09-26T18:53:11.945714Z",
     "shell.execute_reply": "2025-09-26T18:53:11.939019Z"
    },
    "papermill": {
     "duration": 0.068425,
     "end_time": "2025-09-26T18:53:11.950968",
     "exception": false,
     "start_time": "2025-09-26T18:53:11.882543",
     "status": "completed"
    },
    "slideshow": {
     "slide_type": ""
    },
    "tags": []
   },
   "outputs": [
    {
     "name": "stdout",
     "output_type": "stream",
     "text": [
      "Entities in community 0 are in clusters: []\n",
      "Entities in community 1 are in clusters: [5, 5, 5, 7, 12, 16]\n",
      "Entities in community 2 are in clusters: []\n",
      "Entities in community 3 are in clusters: []\n",
      "Entities in community 4 are in clusters: [48]\n",
      "Entities in community 5 are in clusters: [0, 7, 36]\n",
      "Entities in community 6 are in clusters: [1]\n",
      "Entities in community 78 are in clusters: []\n",
      "Entities in community 8 are in clusters: [2, 3, 6, 55]\n",
      "Entities in community 9 are in clusters: [4]\n",
      "Entities in community 10 are in clusters: []\n",
      "Entities in community 11 are in clusters: []\n",
      "Entities in community 12 are in clusters: [7]\n",
      "Entities in community 13 are in clusters: [8, 20]\n",
      "Entities in community 14 are in clusters: []\n",
      "Entities in community 15 are in clusters: [22]\n",
      "Entities in community 16 are in clusters: [19, 21, 23]\n",
      "Entities in community 17 are in clusters: []\n",
      "Entities in community 18 are in clusters: [9]\n",
      "Entities in community 19 are in clusters: []\n",
      "Entities in community 20 are in clusters: [10]\n",
      "Entities in community 21 are in clusters: []\n",
      "Entities in community 22 are in clusters: []\n",
      "Entities in community 23 are in clusters: []\n",
      "Entities in community 24 are in clusters: [44]\n",
      "Entities in community 25 are in clusters: []\n",
      "Entities in community 26 are in clusters: []\n",
      "Entities in community 27 are in clusters: []\n",
      "Entities in community 28 are in clusters: []\n",
      "Entities in community 29 are in clusters: []\n",
      "Entities in community 30 are in clusters: []\n",
      "Entities in community 31 are in clusters: []\n",
      "Entities in community 32 are in clusters: []\n",
      "Entities in community 33 are in clusters: []\n",
      "Entities in community 34 are in clusters: []\n",
      "Entities in community 35 are in clusters: []\n",
      "Entities in community 36 are in clusters: []\n",
      "Entities in community 37 are in clusters: []\n",
      "Entities in community 38 are in clusters: [7, 7, 7, 7, 7, 46]\n",
      "Entities in community 39 are in clusters: [11]\n",
      "Entities in community 40 are in clusters: []\n",
      "Entities in community 41 are in clusters: []\n",
      "Entities in community 43 are in clusters: []\n",
      "Entities in community 44 are in clusters: [13, 14, 47]\n",
      "Entities in community 45 are in clusters: []\n",
      "Entities in community 46 are in clusters: [15]\n",
      "Entities in community 47 are in clusters: []\n",
      "Entities in community 48 are in clusters: []\n",
      "Entities in community 49 are in clusters: []\n",
      "Entities in community 50 are in clusters: []\n",
      "Entities in community 51 are in clusters: [17]\n",
      "Entities in community 52 are in clusters: [18, 41]\n",
      "Entities in community 53 are in clusters: [5]\n",
      "Entities in community 54 are in clusters: []\n",
      "Entities in community 55 are in clusters: [37, 42, 43]\n",
      "Entities in community 56 are in clusters: []\n",
      "Entities in community 57 are in clusters: [35]\n",
      "Entities in community 58 are in clusters: []\n",
      "Entities in community 59 are in clusters: []\n",
      "Entities in community 60 are in clusters: []\n",
      "Entities in community 62 are in clusters: []\n",
      "Entities in community 63 are in clusters: [24, 26, 28, 29, 30, 31]\n",
      "Entities in community 64 are in clusters: [7, 25, 27, 40]\n",
      "Entities in community 65 are in clusters: [32]\n",
      "Entities in community 66 are in clusters: [7, 33, 34, 38]\n",
      "Entities in community 67 are in clusters: []\n",
      "Entities in community 68 are in clusters: [50, 56]\n",
      "Entities in community 69 are in clusters: []\n",
      "Entities in community 70 are in clusters: []\n",
      "Entities in community 71 are in clusters: []\n",
      "Entities in community 72 are in clusters: []\n",
      "Entities in community 73 are in clusters: []\n",
      "Entities in community 74 are in clusters: [39]\n",
      "Entities in community 75 are in clusters: []\n",
      "Entities in community 76 are in clusters: []\n",
      "Entities in community 77 are in clusters: []\n",
      "Entities in community 79 are in clusters: []\n",
      "Entities in community 80 are in clusters: []\n",
      "Entities in community 81 are in clusters: []\n",
      "Entities in community 82 are in clusters: []\n",
      "Entities in community 83 are in clusters: []\n",
      "Entities in community 84 are in clusters: []\n",
      "Entities in community 85 are in clusters: []\n",
      "Entities in community 86 are in clusters: []\n",
      "Entities in community 87 are in clusters: []\n",
      "Entities in community 88 are in clusters: []\n",
      "Entities in community 89 are in clusters: []\n",
      "Entities in community 90 are in clusters: []\n",
      "Entities in community 91 are in clusters: []\n",
      "Entities in community 92 are in clusters: []\n",
      "Entities in community 93 are in clusters: []\n",
      "Entities in community 94 are in clusters: []\n",
      "Entities in community 95 are in clusters: []\n",
      "Entities in community 96 are in clusters: []\n",
      "Entities in community 97 are in clusters: []\n",
      "Entities in community 98 are in clusters: []\n",
      "Entities in community 99 are in clusters: []\n",
      "Entities in community 100 are in clusters: [45, 53, 54]\n",
      "Entities in community 101 are in clusters: []\n",
      "Entities in community 102 are in clusters: []\n",
      "Entities in community 103 are in clusters: []\n",
      "Entities in community 104 are in clusters: []\n",
      "Entities in community 105 are in clusters: []\n",
      "Entities in community 106 are in clusters: []\n",
      "Entities in community 107 are in clusters: []\n",
      "Entities in community 108 are in clusters: []\n",
      "Entities in community 109 are in clusters: []\n",
      "Entities in community 110 are in clusters: []\n",
      "Entities in community 111 are in clusters: []\n",
      "Entities in community 112 are in clusters: []\n",
      "Entities in community 113 are in clusters: []\n",
      "Entities in community 114 are in clusters: []\n",
      "Entities in community 115 are in clusters: []\n",
      "Entities in community 116 are in clusters: []\n",
      "Entities in community 117 are in clusters: []\n",
      "Entities in community 118 are in clusters: []\n",
      "Entities in community 119 are in clusters: []\n",
      "Entities in community 120 are in clusters: []\n",
      "Entities in community 121 are in clusters: []\n",
      "Entities in community 122 are in clusters: []\n",
      "Entities in community 123 are in clusters: []\n",
      "Entities in community 124 are in clusters: []\n",
      "Entities in community 125 are in clusters: []\n",
      "Entities in community 126 are in clusters: []\n",
      "Entities in community 127 are in clusters: []\n",
      "Entities in community 128 are in clusters: []\n",
      "Entities in community 129 are in clusters: []\n",
      "Entities in community 130 are in clusters: []\n",
      "Entities in community 131 are in clusters: []\n",
      "Entities in community 132 are in clusters: []\n",
      "Entities in community 133 are in clusters: []\n",
      "Entities in community 134 are in clusters: [49]\n",
      "Entities in community 135 are in clusters: []\n",
      "Entities in community 136 are in clusters: []\n",
      "Entities in community 137 are in clusters: []\n",
      "Entities in community 138 are in clusters: []\n",
      "Entities in community 139 are in clusters: []\n",
      "Entities in community 140 are in clusters: []\n",
      "Entities in community 141 are in clusters: []\n",
      "Entities in community 142 are in clusters: []\n",
      "Entities in community 143 are in clusters: []\n",
      "Entities in community 144 are in clusters: []\n",
      "Entities in community 145 are in clusters: []\n",
      "Entities in community 146 are in clusters: [7, 51, 52]\n",
      "Entities in community 147 are in clusters: []\n",
      "Entities in community 148 are in clusters: []\n",
      "Entities in community 149 are in clusters: []\n",
      "Entities in community 150 are in clusters: []\n",
      "Entities in community 151 are in clusters: []\n",
      "Entities in community 152 are in clusters: []\n",
      "Entities in community 153 are in clusters: []\n",
      "Entities in community 154 are in clusters: []\n",
      "Entities in community 155 are in clusters: []\n",
      "Entities in community 156 are in clusters: []\n",
      "Entities in community 157 are in clusters: []\n",
      "Entities in community 158 are in clusters: []\n",
      "Relaxed communities: [1, 5, 8, 13, 16, 38, 44, 52, 55, 63, 64, 66, 68, 100, 146]\n"
     ]
    }
   ],
   "source": [
    "# Resolve conflicts of distribution of entities into communities: if entities of the same community are in different clusters, then remove the community from the dictionary\n",
    "\n",
    "communities_dict = dict() # Map community -> entities into the communities\n",
    "\n",
    "\n",
    "for node in G.nodes():\n",
    "    if G.nodes[node]['type'] == 'Entity':\n",
    "        communities_dict[communities[node]] = communities_dict.get(communities[node], []) + [node]\n",
    "\n",
    "communities_to_relax = []\n",
    "\n",
    "for community in communities_dict:\n",
    "    clusters = []\n",
    "    for cluster, entities in cluster_map.items():\n",
    "        for e in entities:\n",
    "            if e in communities_dict[community]:\n",
    "                clusters.append(cluster)\n",
    "    print(f'Entities in community {community} are in clusters: {clusters}')\n",
    "    if len(clusters) > 0 and not all(clusters[0] == c for c in clusters):\n",
    "        #print(f'Remove community {community}')\n",
    "        communities_to_relax.append(community)\n",
    "\n",
    "nodes_to_remove_from_dict = []\n",
    "for node in communities.keys():\n",
    "    if communities[node] in communities_to_relax:\n",
    "        nodes_to_remove_from_dict.append(node)\n",
    "\n",
    "for node in nodes_to_remove_from_dict:\n",
    "    del communities[node]\n",
    "\n",
    "print(f'Relaxed communities: {communities_to_relax}')"
   ]
  },
  {
   "cell_type": "markdown",
   "id": "3c6fe2ac-0fb0-456d-8b81-8d93a3439be8",
   "metadata": {
    "editable": true,
    "papermill": {
     "duration": 0.017177,
     "end_time": "2025-09-26T18:53:11.985122",
     "exception": false,
     "start_time": "2025-09-26T18:53:11.967945",
     "status": "completed"
    },
    "slideshow": {
     "slide_type": ""
    },
    "tags": []
   },
   "source": [
    "## ILP Formulation"
   ]
  },
  {
   "cell_type": "code",
   "execution_count": 13,
   "id": "bceb7240-b83a-4b0b-b380-b95cd1bb2b0e",
   "metadata": {
    "editable": true,
    "execution": {
     "iopub.execute_input": "2025-09-26T18:53:12.026852Z",
     "iopub.status.busy": "2025-09-26T18:53:12.025202Z",
     "iopub.status.idle": "2025-09-26T18:53:42.129274Z",
     "shell.execute_reply": "2025-09-26T18:53:42.128428Z"
    },
    "papermill": {
     "duration": 30.128621,
     "end_time": "2025-09-26T18:53:42.131194",
     "exception": false,
     "start_time": "2025-09-26T18:53:12.002573",
     "status": "completed"
    },
    "slideshow": {
     "slide_type": ""
    },
    "tags": []
   },
   "outputs": [
    {
     "name": "stdout",
     "output_type": "stream",
     "text": [
      "Set parameter WLSAccessID\n"
     ]
    },
    {
     "name": "stdout",
     "output_type": "stream",
     "text": [
      "Set parameter WLSSecret\n"
     ]
    },
    {
     "name": "stdout",
     "output_type": "stream",
     "text": [
      "Set parameter LicenseID to value 2713550\n"
     ]
    },
    {
     "name": "stdout",
     "output_type": "stream",
     "text": [
      "Academic license 2713550 - for non-commercial use only - registered to av___@gmail.com\n"
     ]
    }
   ],
   "source": [
    "model = gb.Model()\n",
    "\n",
    "# Variables\n",
    "x = model.addVars(((i,k) for i in G.nodes() for k in range(n_micros)),\\\n",
    "                  vtype=gb.GRB.BINARY, name='x')\n",
    "\n",
    "z = model.addVars(((i,j,k) for (i,j) in G.edges() for k in range(n_micros)), vtype=gb.GRB.BINARY, name='z')\n",
    "\n",
    "y = model.addVars(((i,j) for (i,j) in G.edges()), vtype=gb.GRB.BINARY, name='y')\n",
    "\n",
    "# Each node has to be in one and only one microservice\n",
    "model.addConstrs((x.sum(i, '*') == 1 for i in G.nodes()), name='(1)microservice-belonging')\n",
    "\n",
    "# A microservice can not be composed of entities only\n",
    "model.addConstrs((gb.quicksum(x[i,k] for i in G.nodes() if G.nodes[i]['type']!='Entity') >= 1 for k in range(n_micros)), name='(2)microservice-composition')\n",
    "\n",
    "# Bonding variables\n",
    "model.addConstrs((z[i,j,k]-x[i,k] <= 0 for (i,j) in G.edges() for k in range(n_micros)), name='(3)bonding-z-to-x')\n",
    "model.addConstrs((z[i,j,k]-x[j,k] <= 0 for (i,j) in G.edges() for k in range(n_micros)), name='(4)bonding-z-to-x')\n",
    "model.addConstrs((x[i,k]+x[j,k]-z[i,j,k] <= 1 for (i,j) in G.edges() for k in range(n_micros)), name='(5)bonding-z-to-x')\n",
    "\n",
    "model.addConstrs((y[i,j]==gb.quicksum(z[i,j,k] for k in range(n_micros)) for (i,j) in G.edges()), name='(6)bonding-y-to-z')\n",
    "\n",
    "\n",
    "########## Added constraints ##########\n",
    "\n",
    "# Force each entity from the kth cluster to be in the kth microservice\n",
    "model.addConstrs((x[i,k]==1 for k in cluster_map for i in cluster_map[k]), name='(7)bonding-x-to-entity-clusters')\n",
    "\n",
    "# Force node of the same community to be in the same (consider a community only if there are not entities from different clusters)\n",
    "communities_constraint = model.addConstrs((y[i,j]==1 for (i,j) in G.edges() if i in communities and j in communities and communities[i]==communities[j]), name='(8)bonding-y-to-communities')\n",
    "\n",
    "\n",
    "########## Objective function ##########\n",
    "\n",
    "coupling = gb.quicksum(G.edges[i,j]['w']*(1-y[i,j]) for (i,j) in G.edges())\n",
    "\n",
    "model.setObjective(coupling, gb.GRB.MINIMIZE)\n",
    "\n",
    "model.write(formulation_out)"
   ]
  },
  {
   "cell_type": "code",
   "execution_count": 14,
   "id": "081eb8b2-d436-45fa-886c-7051ff07d125",
   "metadata": {
    "editable": true,
    "execution": {
     "iopub.execute_input": "2025-09-26T18:53:42.157812Z",
     "iopub.status.busy": "2025-09-26T18:53:42.157585Z",
     "iopub.status.idle": "2025-09-26T18:54:55.870227Z",
     "shell.execute_reply": "2025-09-26T18:54:55.869634Z"
    },
    "papermill": {
     "duration": 73.727021,
     "end_time": "2025-09-26T18:54:55.871293",
     "exception": false,
     "start_time": "2025-09-26T18:53:42.144272",
     "status": "completed"
    },
    "slideshow": {
     "slide_type": ""
    },
    "tags": []
   },
   "outputs": [
    {
     "name": "stdout",
     "output_type": "stream",
     "text": [
      "Gurobi Optimizer version 12.0.3 build v12.0.3rc0 (linux64 - \"Linux Mint 22.1\")\n"
     ]
    },
    {
     "name": "stdout",
     "output_type": "stream",
     "text": [
      "\n"
     ]
    },
    {
     "name": "stdout",
     "output_type": "stream",
     "text": [
      "CPU model: Intel(R) Core(TM) i7-8550U CPU @ 1.80GHz, instruction set [SSE2|AVX|AVX2]\n"
     ]
    },
    {
     "name": "stdout",
     "output_type": "stream",
     "text": [
      "Thread count: 4 physical cores, 8 logical processors, using up to 8 threads\n"
     ]
    },
    {
     "name": "stdout",
     "output_type": "stream",
     "text": [
      "\n"
     ]
    },
    {
     "name": "stdout",
     "output_type": "stream",
     "text": [
      "Academic license 2713550 - for non-commercial use only - registered to av___@gmail.com\n"
     ]
    },
    {
     "name": "stdout",
     "output_type": "stream",
     "text": [
      "Optimize a model with 655187 rows, 376560 columns and 2004524 nonzeros\n"
     ]
    },
    {
     "name": "stdout",
     "output_type": "stream",
     "text": [
      "Model fingerprint: 0xddf769c4\n"
     ]
    },
    {
     "name": "stdout",
     "output_type": "stream",
     "text": [
      "Variable types: 0 continuous, 376560 integer (376560 binary)\n"
     ]
    },
    {
     "name": "stdout",
     "output_type": "stream",
     "text": [
      "Coefficient statistics:\n"
     ]
    },
    {
     "name": "stdout",
     "output_type": "stream",
     "text": [
      "  Matrix range     [1e+00, 2e+00]\n"
     ]
    },
    {
     "name": "stdout",
     "output_type": "stream",
     "text": [
      "  Objective range  [1e-01, 3e-01]\n"
     ]
    },
    {
     "name": "stdout",
     "output_type": "stream",
     "text": [
      "  Bounds range     [1e+00, 1e+00]\n"
     ]
    },
    {
     "name": "stdout",
     "output_type": "stream",
     "text": [
      "  RHS range        [1e+00, 1e+00]\n"
     ]
    },
    {
     "name": "stdout",
     "output_type": "stream",
     "text": [
      "Presolve removed 289987 rows and 147643 columns (presolve time = 5s)...\n"
     ]
    },
    {
     "name": "stdout",
     "output_type": "stream",
     "text": [
      "Presolve removed 289987 rows and 147643 columns (presolve time = 10s)...\n"
     ]
    },
    {
     "name": "stdout",
     "output_type": "stream",
     "text": [
      "Presolve removed 289987 rows and 147643 columns (presolve time = 15s)...\n"
     ]
    },
    {
     "name": "stdout",
     "output_type": "stream",
     "text": [
      "Presolve removed 289987 rows and 147643 columns (presolve time = 20s)...\n"
     ]
    },
    {
     "name": "stdout",
     "output_type": "stream",
     "text": [
      "Presolve removed 289987 rows and 147643 columns (presolve time = 25s)...\n"
     ]
    },
    {
     "name": "stdout",
     "output_type": "stream",
     "text": [
      "Presolve removed 289987 rows and 147643 columns (presolve time = 30s)...\n"
     ]
    },
    {
     "name": "stdout",
     "output_type": "stream",
     "text": [
      "Presolve removed 289987 rows and 147643 columns (presolve time = 35s)...\n"
     ]
    },
    {
     "name": "stdout",
     "output_type": "stream",
     "text": [
      "Presolve removed 289987 rows and 204985 columns (presolve time = 41s)...\n"
     ]
    },
    {
     "name": "stdout",
     "output_type": "stream",
     "text": [
      "Presolve removed 412793 rows and 213588 columns\n"
     ]
    },
    {
     "name": "stdout",
     "output_type": "stream",
     "text": [
      "Presolve time: 44.04s\n"
     ]
    },
    {
     "name": "stdout",
     "output_type": "stream",
     "text": [
      "Presolved: 242394 rows, 162972 columns, 789341 nonzeros\n"
     ]
    },
    {
     "name": "stdout",
     "output_type": "stream",
     "text": [
      "Variable types: 0 continuous, 162972 integer (162972 binary)\n"
     ]
    },
    {
     "name": "stdout",
     "output_type": "stream",
     "text": [
      "Deterministic concurrent LP optimizer: primal simplex, dual simplex, and barrier\n"
     ]
    },
    {
     "name": "stdout",
     "output_type": "stream",
     "text": [
      "Showing barrier log only...\n"
     ]
    },
    {
     "name": "stdout",
     "output_type": "stream",
     "text": [
      "\n"
     ]
    },
    {
     "name": "stdout",
     "output_type": "stream",
     "text": [
      "Root barrier log...\n"
     ]
    },
    {
     "name": "stdout",
     "output_type": "stream",
     "text": [
      "\n"
     ]
    },
    {
     "name": "stdout",
     "output_type": "stream",
     "text": [
      "Ordering time: 3.52s\n"
     ]
    },
    {
     "name": "stdout",
     "output_type": "stream",
     "text": [
      "\n"
     ]
    },
    {
     "name": "stdout",
     "output_type": "stream",
     "text": [
      "Barrier statistics:\n"
     ]
    },
    {
     "name": "stdout",
     "output_type": "stream",
     "text": [
      " AA' NZ     : 1.749e+06\n"
     ]
    },
    {
     "name": "stdout",
     "output_type": "stream",
     "text": [
      " Factor NZ  : 1.594e+07 (roughly 270 MB of memory)\n"
     ]
    },
    {
     "name": "stdout",
     "output_type": "stream",
     "text": [
      " Factor Ops : 1.477e+10 (roughly 1 second per iteration)\n"
     ]
    },
    {
     "name": "stdout",
     "output_type": "stream",
     "text": [
      " Threads    : 1\n"
     ]
    },
    {
     "name": "stdout",
     "output_type": "stream",
     "text": [
      "\n"
     ]
    },
    {
     "name": "stdout",
     "output_type": "stream",
     "text": [
      "                  Objective                Residual\n"
     ]
    },
    {
     "name": "stdout",
     "output_type": "stream",
     "text": [
      "Iter       Primal          Dual         Primal    Dual     Compl     Time\n"
     ]
    },
    {
     "name": "stdout",
     "output_type": "stream",
     "text": [
      "   0  -2.27158196e+03 -3.13383567e+05  4.90e+02 1.29e+00  2.82e+01    54s\n"
     ]
    },
    {
     "name": "stdout",
     "output_type": "stream",
     "text": [
      "   1  -1.14585482e+03 -4.35139573e+05  3.25e+02 7.73e-01  1.85e+01    58s\n"
     ]
    },
    {
     "name": "stdout",
     "output_type": "stream",
     "text": [
      "   2   4.82889155e+01 -3.32232093e+05  5.02e+01 5.51e-14  3.29e+00    64s\n"
     ]
    },
    {
     "name": "stdout",
     "output_type": "stream",
     "text": [
      "   3   2.06560081e+02 -7.78460528e+04  5.02e+00 2.27e-13  3.94e-01    66s\n"
     ]
    },
    {
     "name": "stdout",
     "output_type": "stream",
     "text": [
      "   4   2.20354069e+02 -1.90837690e+04  5.50e-01 9.29e-14  6.17e-02    68s\n"
     ]
    },
    {
     "name": "stdout",
     "output_type": "stream",
     "text": [
      "   5   1.95518280e+02 -4.96411436e+03  1.38e-02 7.44e-14  1.15e-02    71s\n"
     ]
    },
    {
     "name": "stdout",
     "output_type": "stream",
     "text": [
      "   6   1.85055978e+02 -1.54002426e+03  5.61e-04 5.95e-14  3.77e-03    73s\n"
     ]
    },
    {
     "name": "stdout",
     "output_type": "stream",
     "text": [
      "\n"
     ]
    },
    {
     "name": "stdout",
     "output_type": "stream",
     "text": [
      "Barrier performed 6 iterations in 73.21 seconds (49.50 work units)\n"
     ]
    },
    {
     "name": "stdout",
     "output_type": "stream",
     "text": [
      "Barrier solve interrupted - model solved by another algorithm\n"
     ]
    },
    {
     "name": "stdout",
     "output_type": "stream",
     "text": [
      "\n"
     ]
    },
    {
     "name": "stdout",
     "output_type": "stream",
     "text": [
      "Concurrent spin time: 12.10s (can be avoided by choosing Method=3)\n"
     ]
    },
    {
     "name": "stdout",
     "output_type": "stream",
     "text": [
      "\n"
     ]
    },
    {
     "name": "stdout",
     "output_type": "stream",
     "text": [
      "Solved with dual simplex\n"
     ]
    },
    {
     "name": "stdout",
     "output_type": "stream",
     "text": [
      "\n"
     ]
    },
    {
     "name": "stdout",
     "output_type": "stream",
     "text": [
      "Root simplex log...\n"
     ]
    },
    {
     "name": "stdout",
     "output_type": "stream",
     "text": [
      "\n"
     ]
    },
    {
     "name": "stdout",
     "output_type": "stream",
     "text": [
      "Iteration    Objective       Primal Inf.    Dual Inf.      Time\n"
     ]
    },
    {
     "name": "stdout",
     "output_type": "stream",
     "text": [
      "   82808    3.7139278e+01   0.000000e+00   0.000000e+00     73s\n"
     ]
    },
    {
     "name": "stdout",
     "output_type": "stream",
     "text": [
      "\n"
     ]
    },
    {
     "name": "stdout",
     "output_type": "stream",
     "text": [
      "Use crossover to convert LP symmetric solution to basic solution...\n"
     ]
    },
    {
     "name": "stdout",
     "output_type": "stream",
     "text": [
      "\n"
     ]
    },
    {
     "name": "stdout",
     "output_type": "stream",
     "text": [
      "Root crossover log...\n"
     ]
    },
    {
     "name": "stdout",
     "output_type": "stream",
     "text": [
      "\n"
     ]
    },
    {
     "name": "stdout",
     "output_type": "stream",
     "text": [
      "    2726 DPushes remaining with DInf 0.0000000e+00                73s\n"
     ]
    },
    {
     "name": "stdout",
     "output_type": "stream",
     "text": [
      "       0 DPushes remaining with DInf 0.0000000e+00                73s\n"
     ]
    },
    {
     "name": "stdout",
     "output_type": "stream",
     "text": [
      "\n"
     ]
    },
    {
     "name": "stdout",
     "output_type": "stream",
     "text": [
      "    2301 PPushes remaining with PInf 0.0000000e+00                73s\n"
     ]
    },
    {
     "name": "stdout",
     "output_type": "stream",
     "text": [
      "       0 PPushes remaining with PInf 0.0000000e+00                74s\n"
     ]
    },
    {
     "name": "stdout",
     "output_type": "stream",
     "text": [
      "\n"
     ]
    },
    {
     "name": "stdout",
     "output_type": "stream",
     "text": [
      "  Push phase complete: Pinf 0.0000000e+00, Dinf 1.3461454e-15     74s\n"
     ]
    },
    {
     "name": "stdout",
     "output_type": "stream",
     "text": [
      "\n"
     ]
    },
    {
     "name": "stdout",
     "output_type": "stream",
     "text": [
      "\n"
     ]
    },
    {
     "name": "stdout",
     "output_type": "stream",
     "text": [
      "Root simplex log...\n"
     ]
    },
    {
     "name": "stdout",
     "output_type": "stream",
     "text": [
      "\n"
     ]
    },
    {
     "name": "stdout",
     "output_type": "stream",
     "text": [
      "Iteration    Objective       Primal Inf.    Dual Inf.      Time\n"
     ]
    },
    {
     "name": "stdout",
     "output_type": "stream",
     "text": [
      "   86431    3.7139278e+01   0.000000e+00   0.000000e+00     74s\n"
     ]
    },
    {
     "name": "stdout",
     "output_type": "stream",
     "text": [
      "   86431    3.7139278e+01   0.000000e+00   0.000000e+00     74s\n"
     ]
    },
    {
     "name": "stdout",
     "output_type": "stream",
     "text": [
      "\n"
     ]
    },
    {
     "name": "stdout",
     "output_type": "stream",
     "text": [
      "Root relaxation: objective 3.713928e+01, 86431 iterations, 28.62 seconds (8.93 work units)\n"
     ]
    },
    {
     "name": "stdout",
     "output_type": "stream",
     "text": [
      "\n"
     ]
    },
    {
     "name": "stdout",
     "output_type": "stream",
     "text": [
      "    Nodes    |    Current Node    |     Objective Bounds      |     Work\n"
     ]
    },
    {
     "name": "stdout",
     "output_type": "stream",
     "text": [
      " Expl Unexpl |  Obj  Depth IntInf | Incumbent    BestBd   Gap | It/Node Time\n"
     ]
    },
    {
     "name": "stdout",
     "output_type": "stream",
     "text": [
      "\n"
     ]
    },
    {
     "name": "stdout",
     "output_type": "stream",
     "text": [
      "*    0     0               0      37.1392777   37.13928  0.00%     -   73s\n"
     ]
    },
    {
     "name": "stdout",
     "output_type": "stream",
     "text": [
      "\n"
     ]
    },
    {
     "name": "stdout",
     "output_type": "stream",
     "text": [
      "Explored 1 nodes (86431 simplex iterations) in 73.68 seconds (51.51 work units)\n"
     ]
    },
    {
     "name": "stdout",
     "output_type": "stream",
     "text": [
      "Thread count was 8 (of 8 available processors)\n"
     ]
    },
    {
     "name": "stdout",
     "output_type": "stream",
     "text": [
      "\n"
     ]
    },
    {
     "name": "stdout",
     "output_type": "stream",
     "text": [
      "Solution count 1: 37.1393 \n"
     ]
    },
    {
     "name": "stdout",
     "output_type": "stream",
     "text": [
      "\n"
     ]
    },
    {
     "name": "stdout",
     "output_type": "stream",
     "text": [
      "Optimal solution found (tolerance 1.00e-04)\n"
     ]
    },
    {
     "name": "stdout",
     "output_type": "stream",
     "text": [
      "Best objective 3.713927769125e+01, best bound 3.713927769125e+01, gap 0.0000%\n"
     ]
    }
   ],
   "source": [
    "model.optimize()"
   ]
  },
  {
   "cell_type": "markdown",
   "id": "c2bb0cfd-3f6e-4806-908c-628a86f4574f",
   "metadata": {
    "editable": true,
    "papermill": {
     "duration": 0.007946,
     "end_time": "2025-09-26T18:54:55.885955",
     "exception": false,
     "start_time": "2025-09-26T18:54:55.878009",
     "status": "completed"
    },
    "slideshow": {
     "slide_type": ""
    },
    "tags": []
   },
   "source": [
    "## Result Analysis"
   ]
  },
  {
   "cell_type": "code",
   "execution_count": 15,
   "id": "78f5ab5d-204b-48b6-bec9-9e2647d47855",
   "metadata": {
    "editable": true,
    "execution": {
     "iopub.execute_input": "2025-09-26T18:54:55.899579Z",
     "iopub.status.busy": "2025-09-26T18:54:55.899369Z",
     "iopub.status.idle": "2025-09-26T18:54:56.612188Z",
     "shell.execute_reply": "2025-09-26T18:54:56.611560Z"
    },
    "papermill": {
     "duration": 0.721115,
     "end_time": "2025-09-26T18:54:56.613267",
     "exception": false,
     "start_time": "2025-09-26T18:54:55.892152",
     "status": "completed"
    },
    "slideshow": {
     "slide_type": ""
    },
    "tags": []
   },
   "outputs": [],
   "source": [
    "# Compute cohesion:\n",
    "inside_w = dict()\n",
    "outside_w = dict()\n",
    "total_w = 0\n",
    "\n",
    "for i,j in G.edges():\n",
    "    total_w += G[i][j]['w']\n",
    "    for k in range(n_micros):\n",
    "        if z[i,j,k].x == 1: # Edge (i,j) is inside microservice k: sum the weight as inside\n",
    "            inside_w[k] = inside_w.get(k, 0) + G[i][j]['w']\n",
    "        if x[i,k].x == 1: # Edge (i,j) has its origin in k: sum the weigth as outside\n",
    "            outside_w[k] = outside_w.get(k, 0) + G[i][j]['w']\n",
    "\n",
    "cohesion_dict = dict()\n",
    "for k in range(n_micros):\n",
    "    cohesion_dict[k] = inside_w[k] / outside_w[k]\n",
    "\n",
    "cohesion = sum(cohesion_dict.values())/n_micros"
   ]
  },
  {
   "cell_type": "code",
   "execution_count": 16,
   "id": "b4f4589c-f9db-4123-89b3-9d1266b6297b",
   "metadata": {
    "editable": true,
    "execution": {
     "iopub.execute_input": "2025-09-26T18:54:56.629558Z",
     "iopub.status.busy": "2025-09-26T18:54:56.629344Z",
     "iopub.status.idle": "2025-09-26T18:54:56.757621Z",
     "shell.execute_reply": "2025-09-26T18:54:56.756961Z"
    },
    "papermill": {
     "duration": 0.138209,
     "end_time": "2025-09-26T18:54:56.758950",
     "exception": false,
     "start_time": "2025-09-26T18:54:56.620741",
     "status": "completed"
    },
    "slideshow": {
     "slide_type": ""
    },
    "tags": []
   },
   "outputs": [
    {
     "name": "stdout",
     "output_type": "stream",
     "text": [
      "Found 57 microservices\n",
      "Total coupling value: 37.139277691251095 (0.6515662752851069 avg.)\n",
      "Cohesion value: 0.93806071603518\n",
      "\n",
      "Entities in Microservice 0:\n",
      "- AbstractPostUpdateCustomerExtensionHandler\n",
      "- CustomerPhoneImpl\n",
      "- ShippingServiceType\n",
      "- AbstractResourcePurgeExtensionHandler\n",
      "- AbstractSiteMapExtensionHandler\n",
      "- AbstractOfferValueModifierExtensionHandler\n",
      "- AbstractOfferServiceExtensionHandler\n",
      "- OfferAdjustmentType\n",
      "- StackabilityType\n",
      "- DefaultOfferCodeDaoExtensionHandler\n",
      "- AbstractValidateCheckoutActivityExtensionHandler\n",
      "- AbstractPostUpdateOrderExtensionHandler\n",
      "- AbstractOrderServiceExtensionHandler\n",
      "- AbstractMergeCartServiceExtensionHandler\n",
      "- AbstractOrderItemServiceExtensionHandler\n",
      "- FulfillmentBandResultAmountType\n",
      "- MessageType\n",
      "- AbstractValidateAddRequestActivityExtensionHandler\n",
      "- AbstractOrderDaoExtensionHandler\n",
      "- AbstractSolrSearchServiceExtensionHandler\n",
      "- IndexStatusInfoImpl\n",
      "- AbstractSolrIndexServiceExtensionHandler\n",
      "- AbstractInventoryServiceExtensionHandler\n",
      "- AbstractCatalogServiceExtensionHandler\n",
      "- AbstractProductProcessorExtensionHandler\n",
      "- SkuActiveDateConsiderationContext\n",
      "- ProductOptionType\n",
      "- ProductOptionValidationStrategyType\n",
      "- AbstractCategoryDaoExtensionHandler\n",
      "- AbstractProductDaoExtensionHandler\n",
      "- AbstractSkuDaoExtensionHandler\n",
      "- BaseProcessor\n",
      "- AbstractAnonymousCustomerExtensionHandler\n",
      "- DefaultCustomerMergeExtensionHandler\n",
      "- AbstractUpdateCartServiceExtensionHandler\n",
      "- AbstractCacheKeyResolverExtensionHandler\n",
      "- AbstractLinkedDataGeneratorExtensionHandler\n",
      "- AbstractCheckoutControllerExtensionHandler\n",
      "- AbstractConfirmationControllerExtensionHandler\n",
      "- AbstractCartStateRequestProcessorExtensionHandler\n",
      "- AbstractAuthSuccessHandlerExtensionHandler\n",
      "- AbstractCommonAddressValidatorExtensionHandler\n",
      "- AbstractDatabaseResourceResolverExtensionHandler\n",
      "- NoOpCache\n",
      "- NoOpCacheManager\n",
      "- MergePersistenceUnitManager\n",
      "- RemoveCacheClassTransformer\n",
      "- DirectCopyIgnorePattern\n",
      "- ConditionalFieldAnnotationsClassTransformer\n",
      "- OptionalDirectCopyClassTransformer\n",
      "- RemoveAnnotationClassTransformer\n",
      "- AnnotationsCopyClassTransformer\n",
      "- AbstractClassTransformer\n",
      "- DirectCopyClassTransformer\n",
      "- AlterTableNameClassTransformer\n",
      "- EntityMarkerClassTransformer\n",
      "- SingleTableInheritanceClassTransformer\n",
      "- SingleTableInheritanceInfo\n",
      "- AbstractSiteServiceExtensionHandler\n",
      "- SupportLogger\n",
      "- ProcessDetailLogger\n",
      "- TemplateType\n",
      "- AbstractTemplateOverrideExtensionHandler\n",
      "- AbstractExtensionHandler\n",
      "- AbstractMultiTenantCopierExtensionHandler\n",
      "- AbstractBroadleafMergeResourceExtensionHandler\n",
      "- DimensionUnitOfMeasureType\n",
      "- DemoHsqlSingleLineSqlCommandExtractor\n",
      "- DemoPostgresSingleLineSqlCommandExtractor\n",
      "- DemoSqlServerSingleLineSqlCommandExtractor\n",
      "- DemoOracleSingleLineSqlCommandExtractor\n",
      "- AbstractSystemPropertyServiceExtensionHandler\n",
      "- TransactionInfo\n",
      "- CompressedItem\n",
      "- LifecycleAwareJpaTransactionManager\n",
      "- TransactionLifecycleEvent\n",
      "- AbstractEntityInformationServiceExtensionHandler\n",
      "- AbstractBroadleafTemplateResolverExtensionHandler\n",
      "- AbstractBLCICacheExtensionHandler\n",
      "- AbstractTRCreditCardExtensionHandler\n",
      "- AbstractCreditCardTypesExtensionHandler\n",
      "- AbstractPaymentGatewayFieldExtensionHandler\n",
      "- AbstractResourceRequestExtensionHandler\n",
      "- ResourceTagAttributes\n",
      "- BroadleafFormType\n",
      "Entities in Microservice 1:\n",
      "- CustomerPaymentImpl\n",
      "- MonthType\n",
      "- FileSystemResponseWrapper\n",
      "Entities in Microservice 2:\n",
      "- PhoneImpl\n",
      "- LastPaymentStatus\n",
      "- LegacyOfferUsesImpl\n",
      "- WeaveLegacyOfferUses\n",
      "- AvailabilityStatusType\n",
      "- ProductHandlerMapping\n",
      "- DefaultDynamicSkuPricingFilter\n",
      "- SkuHandlerMapping\n",
      "- AbstractDynamicSkuPricingFilter\n",
      "- CategoryHandlerMapping\n",
      "- BLCAbstractHandlerMapping\n",
      "Entities in Microservice 3:\n",
      "- StateImpl\n",
      "Entities in Microservice 4:\n",
      "- CustomerUserDetails\n",
      "- CustomerForgotPasswordSecurityTokenImpl\n",
      "- CustomerRoleImpl\n",
      "- CustomerAttributeImpl\n",
      "- CountrySubdivisionImpl\n",
      "- RegisterCustomerEvent\n",
      "- ForgotUsernameEvent\n",
      "- ForgotPasswordEvent\n",
      "- GeolocationDTO\n",
      "- OfferContext\n",
      "- PromotionDiscount\n",
      "- FulfillmentGroupOfferPotential\n",
      "- CandidatePromotionItems\n",
      "- PromotableCandidateOrderOfferImpl\n",
      "- PromotableOrderItemPriceDetailImpl\n",
      "- PromotableCandidateFulfillmentGroupOfferImpl\n",
      "- PromotableFulfillmentGroupAdjustmentImpl\n",
      "- PromotableOrderAdjustmentImpl\n",
      "- PromotableCandidateItemOfferImpl\n",
      "- AbstractPromotionRounding\n",
      "- PromotableOrderItemPriceDetailAdjustmentImpl\n",
      "- PromotableFulfillmentGroupImpl\n",
      "- PromotableOrderImpl\n",
      "- OfferPriceDataIdentifierType\n",
      "- OfferDiscountType\n",
      "- CustomerMaxUsesStrategyType\n",
      "- OfferMaxUseExceededException\n",
      "- OfferException\n",
      "- OfferExpiredException\n",
      "- OfferAlreadyAddedException\n",
      "- OrderItemAdjustmentImpl\n",
      "- OrderItemPriceDetailAdjustmentImpl\n",
      "- OrderPaymentStatus\n",
      "- PaymentProcessorException\n",
      "- InsufficientFundsException\n",
      "- CheckoutException\n",
      "- PricingServiceActivity\n",
      "- CompositeActivity\n",
      "- CheckoutSeed\n",
      "- BundleOrderItemRequest\n",
      "- OrderAttributeImpl\n",
      "- InventoryUnavailableException\n",
      "- InventoryType\n",
      "- DefaultDynamicSkuPricingInvocationHandler\n",
      "- WorkflowException\n",
      "- RollbackStateLocal\n",
      "- RollbackFailureException\n",
      "- CustomerLoggedInEvent\n",
      "- CustomerAuthenticatedFromCookieEvent\n",
      "- PhoneNameForm\n",
      "- RegisterCustomerForm\n",
      "- PasswordChange\n",
      "- PasswordReset\n",
      "- GenericResponse\n",
      "- PaymentGatewayRequestType\n",
      "- PaymentTransactionType\n",
      "- PaymentGatewayType\n",
      "- PaymentType\n",
      "- PaymentRequestDTO\n",
      "- LineItemDTO\n",
      "- PaymentResponseDTO\n",
      "- Money\n",
      "- EmailInfo\n",
      "- NullEmailInfo\n",
      "- EmailException\n",
      "- Attachment\n",
      "- EmailStatusHandler\n",
      "- FulfillmentPriceException\n",
      "- PaymentException\n",
      "- FulfillmentPriceHostException\n",
      "- EntityInformationDto\n",
      "- ItemsFulfilledEvent\n",
      "- BroadleafApplicationEvent\n",
      "- ReindexEvent\n",
      "- BroadleafSystemEventDetail\n",
      "- ItemsReturnedEvent\n",
      "- OrderSubmittedEvent\n",
      "- ItemsCancelledEvent\n",
      "- BroadleafSystemEvent\n",
      "- EmailNotification\n",
      "- SMSNotification\n",
      "- Notification\n",
      "- BroadleafException\n",
      "Entities in Microservice 5:\n",
      "- CustomerPersistedEvent\n",
      "- CustomerImpl\n",
      "- CustomerRuleHolder\n",
      "- PricingException\n",
      "- PromotionMessageDTO\n",
      "- StructuredContentCartRuleProcessor\n",
      "- PageCartRuleProcessor\n",
      "- AbstractOrderItemRequest\n",
      "- FulfillmentGroupItemRequest\n",
      "- AddToCartItems\n",
      "- ConfigurableOrderItemRequest\n",
      "- FulfillmentGroupRequest\n",
      "- ProductBundleOrderItemRequest\n",
      "- ReconstructCartResponse\n",
      "- OrderItemRequest\n",
      "- NonDiscreteOrderItemRequestDTO\n",
      "- DiscreteOrderItemRequest\n",
      "- GiftWrapOrderItemRequest\n",
      "- AddToCartItem\n",
      "- MergeCartResponse\n",
      "- UpdateCartResponse\n",
      "- OrderMultishipOptionDTO\n",
      "- ActivityMessageDTO\n",
      "- OrderItemRequestDTO\n",
      "- UpdateCartException\n",
      "- MinQuantityNotFulfilledException\n",
      "- ItemNotFoundException\n",
      "- IllegalCartOperationException\n",
      "- RemoveFromCartException\n",
      "- RequiredAttributeNotProvidedException\n",
      "- ProductOptionValidationException\n",
      "- AddToCartException\n",
      "- AbstractCheckAvailabilityActivity\n",
      "- CartOperationRequest\n",
      "- DiscreteOrderItemImpl\n",
      "- GiftWrapOrderItemImpl\n",
      "- OrderItemAttributeImpl\n",
      "- BundleOrderItemImpl\n",
      "- OrderImpl\n",
      "- OrderMultishipOptionImpl\n",
      "- DynamicPriceDiscreteOrderItemImpl\n",
      "- OrderItemImpl\n",
      "- ReindexStateHolder\n",
      "- SkuPricingConsiderationContext\n",
      "- DynamicSkuPrices\n",
      "- ProductOptionValidationType\n",
      "- SkuBundleItemImpl\n",
      "- SkuPriceWrapper\n",
      "- DefaultProcessContextImpl\n",
      "- OrderMultishipOptionForm\n",
      "- AbstractRemoveBeanPostProcessor\n",
      "- EarlyStageRemoveBeanPostProcessor\n",
      "- LateStageRemoveBeanPostProcessor\n",
      "- Auditable\n",
      "- StructuredContentDTOWrapper\n",
      "- StructuredContentDTO\n",
      "- ItemCriteriaDTO\n",
      "- AbstractModuleConfiguration\n",
      "- PreviewStatus\n",
      "- SiteMapConfigurationImpl\n",
      "- ResourceMinificationException\n",
      "- PageDTO\n",
      "- NullPageDTO\n",
      "Entities in Microservice 6:\n",
      "- CountryImpl\n",
      "- IdentityUtilContext\n",
      "- TQOrder\n",
      "- TQRestriction\n",
      "- TQJoin\n",
      "- TypedQueryBuilder\n",
      "- DayOfMonthType\n",
      "Entities in Microservice 7:\n",
      "- CustomerAddressImpl\n",
      "- OfferCodeImpl\n",
      "- OfferPriceDataImpl\n",
      "- OfferImpl\n",
      "- PromotionMessageImpl\n",
      "- OrderPaymentImpl\n",
      "- PaymentTransactionImpl\n",
      "- StoreImpl\n",
      "- TaxType\n",
      "- ProductBundleImpl\n",
      "- CategoryImpl\n",
      "- RelatedProductTypeEnum\n",
      "- ProductImpl\n",
      "- RelatedProductDTO\n",
      "- ProductBundleComparator\n",
      "- NonPersistentSiteThreadLocalCache\n",
      "- SiteImpl\n",
      "- CatalogImpl\n",
      "- FileServiceException\n",
      "- FileApplicationType\n",
      "- FileWorkArea\n",
      "- MultiTenantCopyContext\n",
      "- QueryUtils\n",
      "- WeaveArchiveStatus\n",
      "- ArchiveStatus\n",
      "- SiteMapURLSetWrapper\n",
      "- SiteMapURLWrapper\n",
      "- SiteMapImageWrapper\n",
      "- SiteMapGenerationResponse\n",
      "- SiteMapBuilder\n",
      "- SandBoxImpl\n",
      "- GeneratedResource\n",
      "- BundledResourceInfo\n",
      "- BroadleafDefaultResourceResolverChain\n",
      "Entities in Microservice 8:\n",
      "- AddressImpl\n",
      "- SiteMapGeneratorType\n",
      "Entities in Microservice 9:\n",
      "- ShippingRateImpl\n",
      "- GloballySharedInputStream\n",
      "- CreditCardType\n",
      "Entities in Microservice 10:\n",
      "- CodeTypeImpl\n",
      "- XssRequestWrapper\n",
      "- CheckoutForm\n",
      "- SystemSupportLoggerAdapter\n",
      "- AbstractSupportLoggerAdapter\n",
      "- SLF4JSupportLoggerAdapter\n",
      "- SessionlessHttpServletRequestWrapper\n",
      "Entities in Microservice 11:\n",
      "- CustomerOfferImpl\n",
      "- SolrJSONFacet\n",
      "- CheckoutStageType\n",
      "- ConfigurationOnlyState\n",
      "Entities in Microservice 12:\n",
      "- OfferAuditImpl\n",
      "- ContainerShapeType\n",
      "Entities in Microservice 13:\n",
      "- RatingType\n",
      "- RatingSortType\n",
      "- JCacheRegionConfiguration\n",
      "- OnEhCacheMissingCondition\n",
      "- OnEhCacheCondition\n",
      "- MergeJCacheManagerFactoryBean\n",
      "Entities in Microservice 14:\n",
      "- ReviewDetailImpl\n",
      "Entities in Microservice 15:\n",
      "- RatingSummaryImpl\n",
      "- AbstractMergeBeanPostProcessor\n",
      "- EarlyStageMergeBeanPostProcessor\n",
      "- LateStageMergeBeanPostProcessor\n",
      "- DayOfWeekType\n",
      "Entities in Microservice 16:\n",
      "- OrderStatus\n",
      "Entities in Microservice 17:\n",
      "- FulfillmentGroupStatusType\n",
      "- ResourceInputStream\n",
      "- DynamicResourceIterator\n",
      "- MergeXmlConfigResource\n",
      "- MergeJPAPersistenceResource\n",
      "- EmailPropertyType\n",
      "Entities in Microservice 18:\n",
      "- OrderItemType\n",
      "- SystemPropertyFieldType\n",
      "Entities in Microservice 19:\n",
      "- FulfillmentType\n",
      "Entities in Microservice 20:\n",
      "- BandedWeightFulfillmentOptionImpl\n",
      "- FixedPriceFulfillmentOptionImpl\n",
      "- BandedPriceFulfillmentOptionImpl\n",
      "- FulfillmentOptionImpl\n",
      "Entities in Microservice 21:\n",
      "- FulfillmentGroupItemImpl\n",
      "- FullReindexCommand\n",
      "- IncrementalUpdateCommand\n",
      "- CatalogReindexCommand\n",
      "- SiteReindexCommand\n",
      "- AbstractSolrIndexUpdateServiceImpl\n",
      "- SolrUpdateCommand\n",
      "Entities in Microservice 22:\n",
      "- FulfillmentEstimationResponse\n",
      "- OrderPersistedEvent\n",
      "- NullOrderImpl\n",
      "- OrderInfoForm\n",
      "- BillingInfoForm\n",
      "- ShippingInfoForm\n",
      "- PaymentInfoForm\n",
      "- CheckoutSectionDTO\n",
      "- CheckoutSectionViewType\n",
      "- CheckoutSectionStateType\n",
      "- InfiniteExpiryPolicy\n",
      "- OneMinuteExpiryPolicy\n",
      "- TwentyFourHourExpiryPolicy\n",
      "- TwelveHourExpiryPolicy\n",
      "- DefaultExpiryPolicy\n",
      "- ThirtyMinuteExpiryPolicy\n",
      "- OneHourExpiryPolicy\n",
      "- TenMinuteExpiryPolicy\n",
      "- EmailServiceMDP\n",
      "- MessageCreator\n",
      "- NullMessageCreator\n",
      "Entities in Microservice 23:\n",
      "- FulfillmentGroupImpl\n",
      "- PaymentLogEventType\n",
      "Entities in Microservice 24:\n",
      "- SearchFacetImpl\n",
      "- FrameworkXmlBeanDefinitionReader\n",
      "- MergeXmlBeanDefinitionReader\n",
      "- HydrationDescriptor\n",
      "- EhcacheHydratedCacheManagerImpl\n",
      "- HydrationScanner\n",
      "- EhcacheHydratedCacheEventListener\n",
      "- AbstractHydratedCacheManager\n",
      "- HydrationItemDescriptor\n",
      "- BigMemoryHydratedCacheEventListener\n",
      "- BigMemoryHydratedCacheManagerImpl\n",
      "- EhcacheHydratedCacheJcacheEventListener\n",
      "- BigMemoryHydratedCacheJcacheEventListener\n",
      "Entities in Microservice 25:\n",
      "- SearchCriteria\n",
      "- SearchResult\n",
      "- SearchFacetResultDTO\n",
      "- SearchFacetDTO\n",
      "Entities in Microservice 26:\n",
      "- ItemOfferWeightedPercentComparator\n",
      "- IndexFieldImpl\n",
      "- ServiceMonitor\n",
      "- ServiceStatusType\n",
      "Entities in Microservice 27:\n",
      "- SearchFacetRangeImpl\n",
      "Entities in Microservice 28:\n",
      "- IndexFieldTypeImpl\n",
      "- LocaleImpl\n",
      "Entities in Microservice 29:\n",
      "- OfferProrationType\n",
      "- FieldEntity\n",
      "- ContainerSizeType\n",
      "Entities in Microservice 30:\n",
      "- ReviewStatusType\n",
      "- FieldImpl\n",
      "Entities in Microservice 31:\n",
      "- FieldType\n",
      "- SiteMapChangeFreqType\n",
      "Entities in Microservice 32:\n",
      "- SearchRedirectImpl\n",
      "- TableCreator\n",
      "Entities in Microservice 33:\n",
      "- ParentCategoryByProduct\n",
      "- BroadleafEnvironmentConfigurer\n",
      "- BroadleafEnvironmentConfiguringPostProcessor\n",
      "- BroadleafEnvironmentConfiguringApplicationListener\n",
      "Entities in Microservice 34:\n",
      "- ParentCategoryByCategory\n",
      "Entities in Microservice 35:\n",
      "- SolrConfiguration\n",
      "- BroadleafCloudSolrClient\n",
      "- FileSystemSolrIndexStatusProviderImpl\n",
      "- SolrSearchServiceImpl\n",
      "- SolrIndexCachedOperation\n",
      "- GlobalSolrFullReIndexOperation\n",
      "- CatalogStructure\n",
      "- CleanStringException\n",
      "- StaleStateServiceException\n",
      "- StopWatch\n",
      "- SiteMapPriorityType\n",
      "- ServiceException\n",
      "- SecurityServiceException\n",
      "Entities in Microservice 36:\n",
      "- ProductType\n",
      "- AccountNumberMask\n",
      "- UnmaskRange\n",
      "Entities in Microservice 37:\n",
      "- LegacyOrderServiceImpl\n",
      "- LegacyCartServiceImpl\n",
      "- Dimension\n",
      "- SkuImpl\n",
      "- Weight\n",
      "Entities in Microservice 38:\n",
      "- ProductOptionImpl\n",
      "- ISOCodeStatusType\n",
      "- CacheAwareResponseHandler\n",
      "- BroadleafResourceHttpRequestHandler\n",
      "Entities in Microservice 39:\n",
      "- ProductOptionXrefImpl\n",
      "- ServerInfo\n",
      "Entities in Microservice 40:\n",
      "- CategoryProductXrefImpl\n",
      "Entities in Microservice 41:\n",
      "- ProductOptionValueImpl\n",
      "Entities in Microservice 42:\n",
      "- SkuProductOptionValueXrefImpl\n",
      "- AbstractCartController\n",
      "- BroadleafCartController\n",
      "- BroadleafPaymentInfoController\n",
      "- BroadleafShippingInfoController\n",
      "- BroadleafOrderConfirmationController\n",
      "- BroadleafBillingInfoController\n",
      "- BroadleafCheckoutController\n",
      "- AbstractCheckoutController\n",
      "- BroadleafContactUsController\n",
      "- BroadleafUpdateAccountController\n",
      "- BroadleafManageCustomerAddressesController\n",
      "- BroadleafSocialRegisterController\n",
      "- BroadleafLoginController\n",
      "- BroadleafRegisterController\n",
      "- AbstractAccountController\n",
      "- BroadleafManageCustomerPaymentsController\n",
      "- AbstractCustomerAddressController\n",
      "- BroadleafChangePasswordController\n",
      "- BroadleafManageWishlistController\n",
      "- BroadleafOrderHistoryController\n",
      "- BroadleafSearchController\n",
      "- AbstractCatalogController\n",
      "- BroadleafCategoryController\n",
      "- BroadleafSkuController\n",
      "- BroadleafProductController\n",
      "- SiteResolutionType\n",
      "- FilterDefinition\n",
      "- Filter\n",
      "- FilterParameter\n",
      "- PropertyFilter\n",
      "- LifecycleAwareJDBCServicesInitiator\n",
      "- SiteMapWrapper\n",
      "- SiteMapIndexWrapper\n",
      "- CustomerPaymentGatewayAbstractController\n",
      "- PaymentGatewayAbstractController\n",
      "- BroadleafAbstractController\n",
      "Entities in Microservice 43:\n",
      "- AssignedProductOptionDTO\n",
      "- AuditableListener\n",
      "- AbstractAuditableListener\n",
      "Entities in Microservice 44:\n",
      "- PromotionQualifierWrapper\n",
      "- PromotionQualifier\n",
      "- PromotableOrderItemImpl\n",
      "- OrderItemHolder\n",
      "- OrderLockAcquisitionFailureException\n",
      "- ExtensionResultHolder\n",
      "- TranslationConsiderationContext\n",
      "Entities in Microservice 45:\n",
      "- StandardCacheItem\n",
      "- WebRequestDeviceType\n",
      "Entities in Microservice 46:\n",
      "- CategorySiteMapGeneratorConfigurationImpl\n",
      "- StreamCapableTransactionalOperationAdapter\n",
      "- TargetModeType\n",
      "- CustomUrlSiteMapGeneratorConfigurationImpl\n",
      "- SiteMapGeneratorConfigurationImpl\n",
      "Entities in Microservice 47:\n",
      "- BatchRetrieveDao\n",
      "Entities in Microservice 48:\n",
      "- AddressVerificationException\n",
      "- PromotionMessagePlacementType\n",
      "- ExplicitPrioritySequenceProcessor\n",
      "- EmptySequenceProcessor\n",
      "- SequenceProcessor\n",
      "- CustomChallengeQuestionEditor\n",
      "- GiftCardInfoForm\n",
      "- CreditCardInfoForm\n",
      "- SMSMessage\n",
      "- AutoImportSql\n",
      "- ModuleConfigurationType\n",
      "- ConditionalFieldAnnotationCopyTransformMemberDTO\n",
      "- TaxHostException\n",
      "- TaxException\n",
      "- ResourcesRequestBundle\n",
      "Entities in Microservice 49:\n",
      "- FulfillmentBandImpl\n",
      "- FulfillmentPriceBandImpl\n",
      "- FulfillmentWeightBandImpl\n",
      "- CustomerAddressForm\n",
      "- NodeReplaceInsert\n",
      "- NonEmptyNodeReplaceInsert\n",
      "- SpaceDelimitedNodeValueMerge\n",
      "- SchemaLocationNodeValueMerge\n",
      "- NodeValueMerge\n",
      "- InsertChildrenOf\n",
      "- AttributePreserveInsert\n",
      "- LiberalNodeReplaceInsert\n",
      "- CommaDelimitedNodeValueMerge\n",
      "- BaseHandler\n",
      "- InsertItems\n",
      "- NodeReplace\n",
      "- MetadataOverrideNodeReplaceInsert\n",
      "- MinuteType\n",
      "- NullSystemProperty\n",
      "- ConditionalDirectCopyTransformMemberDto\n",
      "Entities in Microservice 50:\n",
      "- SystemPropertyImpl\n",
      "Entities in Microservice 51:\n",
      "- ORMConfigDto\n",
      "- ORMConfigPersistenceUnitPostProcessor\n",
      "- WeightUnitOfMeasureType\n",
      "- SandBoxManagementImpl\n",
      "Entities in Microservice 52:\n",
      "- ItemOfferComparator\n",
      "- OrderOfferComparator\n",
      "- DynamicSupportedFieldType\n",
      "- SandBoxType\n",
      "Entities in Microservice 53:\n",
      "- LocaleType\n",
      "- ItemOfferQtyOneComparator\n",
      "- SkuFeeType\n",
      "- CacheStat\n",
      "- ThreadLocalManager\n",
      "- LocalePair\n",
      "- TranslatedEntity\n",
      "Entities in Microservice 54:\n",
      "- OfferType\n",
      "- PromotionMessageType\n",
      "- PaymentAdditionalFieldType\n",
      "- PaymentDeclineType\n",
      "- TranslationImpl\n",
      "Entities in Microservice 55:\n",
      "- RuleDTOConfig\n",
      "- CookieRuleRequestProcessor\n",
      "- CookieRuleFilter\n",
      "- HourOfDayType\n",
      "- ISOCountryImpl\n",
      "- AbstractBroadleafWebRequestProcessor\n",
      "- AbstractIgnorableOncePerRequestFilter\n",
      "Entities in Microservice 56:\n",
      "- CustomerAddressType\n",
      "- OfferTimeZoneType\n",
      "- OfferItemRestrictionRuleType\n",
      "- OfferRuleType\n",
      "- CatalogContextDTO\n",
      "- ProductBundlePricingModelType\n",
      "- RequestDTOImpl\n",
      "- BreadcrumbDTO\n",
      "- BreadcrumbDTOType\n",
      "- FixedTimeSource\n",
      "- BroadleafRequestedCurrencyDto\n",
      "- BroadleafRequestContext\n",
      "- SandBoxContext\n",
      "- HaltFilterChainException\n",
      "\n",
      "\n",
      "\n",
      "# of method calls crossing microservices: 161\n",
      "# of entity references crossing microservices: 12\n",
      "# of entity usages crossing microservices: 33\n",
      "# of methods persisting entities of other microservices: 37\n"
     ]
    },
    {
     "data": {
      "application/scrapbook.scrap.json+json": {
       "data": 57,
       "encoder": "json",
       "name": "n_micros",
       "version": 1
      }
     },
     "metadata": {
      "scrapbook": {
       "data": true,
       "display": false,
       "name": "n_micros"
      }
     },
     "output_type": "display_data"
    },
    {
     "data": {
      "application/scrapbook.scrap.json+json": {
       "data": 0.6515662752851069,
       "encoder": "json",
       "name": "avg_cop",
       "version": 1
      }
     },
     "metadata": {
      "scrapbook": {
       "data": true,
       "display": false,
       "name": "avg_cop"
      }
     },
     "output_type": "display_data"
    },
    {
     "data": {
      "application/scrapbook.scrap.json+json": {
       "data": 0.93806071603518,
       "encoder": "json",
       "name": "cohesion",
       "version": 1
      }
     },
     "metadata": {
      "scrapbook": {
       "data": true,
       "display": false,
       "name": "cohesion"
      }
     },
     "output_type": "display_data"
    },
    {
     "data": {
      "application/scrapbook.scrap.json+json": {
       "data": 161,
       "encoder": "json",
       "name": "n_calls",
       "version": 1
      }
     },
     "metadata": {
      "scrapbook": {
       "data": true,
       "display": false,
       "name": "n_calls"
      }
     },
     "output_type": "display_data"
    },
    {
     "data": {
      "application/scrapbook.scrap.json+json": {
       "data": 12,
       "encoder": "json",
       "name": "n_refs",
       "version": 1
      }
     },
     "metadata": {
      "scrapbook": {
       "data": true,
       "display": false,
       "name": "n_refs"
      }
     },
     "output_type": "display_data"
    },
    {
     "data": {
      "application/scrapbook.scrap.json+json": {
       "data": 33,
       "encoder": "json",
       "name": "n_uses",
       "version": 1
      }
     },
     "metadata": {
      "scrapbook": {
       "data": true,
       "display": false,
       "name": "n_uses"
      }
     },
     "output_type": "display_data"
    },
    {
     "data": {
      "application/scrapbook.scrap.json+json": {
       "data": 37,
       "encoder": "json",
       "name": "n_persist",
       "version": 1
      }
     },
     "metadata": {
      "scrapbook": {
       "data": true,
       "display": false,
       "name": "n_persist"
      }
     },
     "output_type": "display_data"
    },
    {
     "data": {
      "application/scrapbook.scrap.json+json": {
       "data": 615.9016927569679,
       "encoder": "json",
       "name": "total_w",
       "version": 1
      }
     },
     "metadata": {
      "scrapbook": {
       "data": true,
       "display": false,
       "name": "total_w"
      }
     },
     "output_type": "display_data"
    }
   ],
   "source": [
    "show_methods = False\n",
    "\n",
    "analysis_output = \"\"\n",
    "\n",
    "analysis_output += f'Found {str(n_micros)} microservices\\n'\n",
    "\n",
    "analysis_output += f'Total coupling value: {model.objVal} ({model.objVal/n_micros} avg.)\\n'\n",
    "analysis_output += f'Cohesion value: {cohesion}\\n\\n'\n",
    "\n",
    "for k in range(n_micros):\n",
    "    analysis_output += f'Entities in Microservice {str(k)}:\\n'\n",
    "    for i in G.nodes():\n",
    "        if G.nodes[i]['type'] == 'Entity' and x[i,k].x == 1:\n",
    "            analysis_output += f'- {G.nodes[i][\"name\"]}\\n'\n",
    "\n",
    "if show_methods:\n",
    "    for k in range(n_micros):\n",
    "        analysis_output += f'\\n\\nMethods in Microservice {str(k)}:\\n'\n",
    "        for i in G.nodes():\n",
    "            if G.nodes[i]['type'] == 'Method' and x[i,k].x == 1:\n",
    "                analysis_output += f'- {G.nodes[i][\"name\"]} ({G.nodes[i][\"class_name\"]})\\n'\n",
    "\n",
    "mcalls = 0\n",
    "references = 0\n",
    "uses = 0\n",
    "persists = 0\n",
    "\n",
    "for i,j in G.edges():\n",
    "    if y[i,j].x == 0:\n",
    "        if G[i][j]['rel_type'] == 'Calls':\n",
    "            mcalls += 1 \n",
    "        elif G[i][j]['rel_type'] == 'References':\n",
    "            references += 1\n",
    "        elif G[i][j]['rel_type'] == 'Uses':\n",
    "            uses += 1\n",
    "        elif G[i][j]['rel_type'] == 'Persists':\n",
    "            persists += 1\n",
    "\n",
    "analysis_output += f'\\n\\n\\n# of method calls crossing microservices: {mcalls}'\n",
    "analysis_output += f'\\n# of entity references crossing microservices: {references}'\n",
    "analysis_output += f'\\n# of entity usages crossing microservices: {uses}'\n",
    "analysis_output += f'\\n# of methods persisting entities of other microservices: {persists}'\n",
    "\n",
    "print(analysis_output)\n",
    "\n",
    "sb.glue(\"n_micros\", n_micros)\n",
    "sb.glue(\"avg_cop\", model.objVal/n_micros)\n",
    "sb.glue(\"cohesion\", cohesion)\n",
    "sb.glue(\"n_calls\", mcalls)\n",
    "sb.glue(\"n_refs\", references)\n",
    "sb.glue(\"n_uses\", uses)\n",
    "sb.glue(\"n_persist\", persists)\n",
    "sb.glue(\"total_w\", total_w)\n",
    "\n",
    "with open(analysis_out, 'w') as analysis_file:\n",
    "    analysis_file.write(analysis_output)"
   ]
  },
  {
   "cell_type": "code",
   "execution_count": 17,
   "id": "3519b123-a48c-4070-ab5f-b17393c76ad2",
   "metadata": {
    "editable": true,
    "execution": {
     "iopub.execute_input": "2025-09-26T18:54:56.782398Z",
     "iopub.status.busy": "2025-09-26T18:54:56.782196Z",
     "iopub.status.idle": "2025-09-26T18:54:57.035304Z",
     "shell.execute_reply": "2025-09-26T18:54:57.034590Z"
    },
    "papermill": {
     "duration": 0.262987,
     "end_time": "2025-09-26T18:54:57.036495",
     "exception": false,
     "start_time": "2025-09-26T18:54:56.773508",
     "status": "completed"
    },
    "slideshow": {
     "slide_type": ""
    },
    "tags": []
   },
   "outputs": [],
   "source": [
    "with open(solution_csv_out, 'w') as results_csv:\n",
    "    results_csv.write('node_key,microservice\\n')\n",
    "    counter = 0\n",
    "    for i in G.nodes():\n",
    "        for k in range(n_micros):\n",
    "            if x[i,k].x == 1:\n",
    "                results_csv.write(f'{i},{k}\\n')\n",
    "                counter+=1\n",
    "    \n",
    "    if counter!=len(G.nodes()):\n",
    "        print('Error! There are nodes not assigned into microservices?!')"
   ]
  },
  {
   "cell_type": "code",
   "execution_count": 18,
   "id": "6e8cfeef-174f-4742-ac5f-4862676bad36",
   "metadata": {
    "editable": true,
    "execution": {
     "iopub.execute_input": "2025-09-26T18:54:57.054491Z",
     "iopub.status.busy": "2025-09-26T18:54:57.054289Z",
     "iopub.status.idle": "2025-09-26T18:54:57.056981Z",
     "shell.execute_reply": "2025-09-26T18:54:57.056423Z"
    },
    "papermill": {
     "duration": 0.012813,
     "end_time": "2025-09-26T18:54:57.058033",
     "exception": false,
     "start_time": "2025-09-26T18:54:57.045220",
     "status": "completed"
    },
    "slideshow": {
     "slide_type": ""
    },
    "tags": []
   },
   "outputs": [],
   "source": [
    "if not headless:\n",
    "    DrawSol(G, x, graph_image_out)\n",
    "    \n",
    "    display(Image(filename = graph_image_out))"
   ]
  }
 ],
 "metadata": {
  "kernelspec": {
   "display_name": "Python 3 (ipykernel)",
   "language": "python",
   "name": "python3"
  },
  "language_info": {
   "codemirror_mode": {
    "name": "ipython",
    "version": 3
   },
   "file_extension": ".py",
   "mimetype": "text/x-python",
   "name": "python",
   "nbconvert_exporter": "python",
   "pygments_lexer": "ipython3",
   "version": "3.12.3"
  },
  "papermill": {
   "default_parameters": {},
   "duration": 127.060469,
   "end_time": "2025-09-26T18:54:57.883963",
   "environment_variables": {},
   "exception": null,
   "input_path": "2-Decomposition_optimization.ipynb",
   "output_path": "outputs/output_step_2_broadleaf-commerce.ipynb",
   "parameters": {
    "headless": true,
    "project": "broadleaf-commerce",
    "w": {
     "Calls": 0.1058060015872633,
     "Extends": 0.24757556425296062,
     "Persists": 0.24598215764509793,
     "References": 0.11740005173294432,
     "Uses": 0.2832362247817339
    }
   },
   "start_time": "2025-09-26T18:52:50.823494",
   "version": "2.6.0"
  },
  "vscode": {
   "interpreter": {
    "hash": "84d57bcf988df7741739090f92038d55c89d5ee4bebfcc0bea6a6c98a16573ca"
   }
  }
 },
 "nbformat": 4,
 "nbformat_minor": 5
}