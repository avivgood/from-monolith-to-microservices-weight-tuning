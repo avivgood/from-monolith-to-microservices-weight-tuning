{
 "cells": [
  {
   "cell_type": "code",
   "execution_count": 1,
   "id": "63ce5fa3-e2cb-4565-ba94-8fa943d68162",
   "metadata": {
    "editable": true,
    "execution": {
     "iopub.execute_input": "2025-09-27T14:06:14.659446Z",
     "iopub.status.busy": "2025-09-27T14:06:14.653098Z",
     "iopub.status.idle": "2025-09-27T14:06:40.019069Z",
     "shell.execute_reply": "2025-09-27T14:06:40.017635Z"
    },
    "papermill": {
     "duration": 25.394439,
     "end_time": "2025-09-27T14:06:40.022197",
     "exception": false,
     "start_time": "2025-09-27T14:06:14.627758",
     "status": "completed"
    },
    "slideshow": {
     "slide_type": ""
    },
    "tags": []
   },
   "outputs": [],
   "source": [
    "#!/usr/bin/env python\n",
    "import scrapbook as sb\n",
    "import networkx as nx\n",
    "import pygraphviz as pygv\n",
    "import gurobipy as gb\n",
    "import json\n",
    "from community import community_louvain\n",
    "from IPython.display import Image, display\n",
    "\n",
    "def DrawSol (G, x, filename):\n",
    "    global n_micros\n",
    "\n",
    "    DrawG = pygv.AGraph(directed=True, strict='true', splines='true')\n",
    "\n",
    "    colors = ['green', 'blue', 'red', 'orange', 'yellow', 'purple', 'black', 'gray', 'cyan', 'brown', 'hotpink', 'navy', 'darkgreen', 'chocolate', 'deeppink', 'firebrick', 'gold', 'orchid', 'gold4']\n",
    "    \n",
    "    for i in G.nodes():\n",
    "        if G.nodes[i]['type'] == 'Entity':\n",
    "            shape='hexagon'\n",
    "        else:\n",
    "            shape='circle'\n",
    "\n",
    "        for k in range(n_micros):\n",
    "            if x[i,k].x == 1:\n",
    "                # Get cluster number k\n",
    "                if k<len(colors):\n",
    "                    color=colors[k]\n",
    "                else:\n",
    "                    color = 'black'\n",
    "        DrawG.add_node (i, color=color, shape=shape, width=0.1, fontsize=9, label=G.nodes[i]['name'])\n",
    "\n",
    "    for i in G.edges():\n",
    "        edge_color = 'black' if G[i[0]][i[1]]['rel_type'] in ['Calls','Persists', 'References'] else 'gray'\n",
    "        DrawG.add_edge(i[0], i[1], color=edge_color, label=G[i[0]][i[1]]['rel_type'], fontsize='8')\n",
    "        \n",
    "    DrawG.layout(prog='dot')\n",
    "    DrawG.draw(filename)"
   ]
  },
  {
   "cell_type": "markdown",
   "id": "e3e92b53-40f6-4740-8a99-c40877eb9681",
   "metadata": {
    "editable": true,
    "papermill": {
     "duration": 0.046856,
     "end_time": "2025-09-27T14:06:40.104862",
     "exception": false,
     "start_time": "2025-09-27T14:06:40.058006",
     "status": "completed"
    },
    "slideshow": {
     "slide_type": ""
    },
    "tags": []
   },
   "source": [
    "### _Configuration!_\n",
    "\n",
    "Keep the project list up-to-date and select the project to be analyzed"
   ]
  },
  {
   "cell_type": "markdown",
   "id": "369f6589-5ded-4162-85ea-3c37b9026765",
   "metadata": {
    "editable": true,
    "papermill": {
     "duration": 0.057306,
     "end_time": "2025-09-27T14:06:40.209706",
     "exception": false,
     "start_time": "2025-09-27T14:06:40.152400",
     "status": "completed"
    },
    "slideshow": {
     "slide_type": ""
    },
    "tags": []
   },
   "source": [
    "### _User input required!_\n",
    "\n",
    "Update, if needed the default weigth of the edges"
   ]
  },
  {
   "cell_type": "code",
   "execution_count": 2,
   "id": "05c7e2d2-7f39-4109-a665-36a40e5be7de",
   "metadata": {
    "editable": true,
    "execution": {
     "iopub.execute_input": "2025-09-27T14:06:40.324966Z",
     "iopub.status.busy": "2025-09-27T14:06:40.318505Z",
     "iopub.status.idle": "2025-09-27T14:06:40.368559Z",
     "shell.execute_reply": "2025-09-27T14:06:40.364735Z"
    },
    "papermill": {
     "duration": 0.113873,
     "end_time": "2025-09-27T14:06:40.378679",
     "exception": false,
     "start_time": "2025-09-27T14:06:40.264806",
     "status": "completed"
    },
    "slideshow": {
     "slide_type": ""
    },
    "tags": [
     "parameters"
    ]
   },
   "outputs": [],
   "source": [
    "project = 'jpetstore' # <-- Set this variable!\n",
    "# Weighting edges:\n",
    "w = dict()\n",
    "w['Calls']=0.8\n",
    "w['Persists']=1\n",
    "w['Uses']=0.6\n",
    "w['References']=0.2\n",
    "w['Extends']=0\n",
    "headless = False"
   ]
  },
  {
   "cell_type": "code",
   "execution_count": 3,
   "id": "09053677",
   "metadata": {
    "execution": {
     "iopub.execute_input": "2025-09-27T14:06:40.464772Z",
     "iopub.status.busy": "2025-09-27T14:06:40.461200Z",
     "iopub.status.idle": "2025-09-27T14:06:40.483083Z",
     "shell.execute_reply": "2025-09-27T14:06:40.480124Z"
    },
    "papermill": {
     "duration": 0.069735,
     "end_time": "2025-09-27T14:06:40.491561",
     "exception": false,
     "start_time": "2025-09-27T14:06:40.421826",
     "status": "completed"
    },
    "tags": [
     "injected-parameters"
    ]
   },
   "outputs": [],
   "source": [
    "# Parameters\n",
    "project = \"broadleaf-commerce\"\n",
    "w = {\"Calls\": 0.12714116762017086, \"Persists\": 0.10225667333744559, \"References\": 0.36287049587190146, \"Extends\": 0.2356367192771779, \"Uses\": 0.1720949438933041}\n",
    "headless = True\n"
   ]
  },
  {
   "cell_type": "code",
   "execution_count": 4,
   "id": "654afedb-2f70-4c65-b23e-5e01c98d8d13",
   "metadata": {
    "editable": true,
    "execution": {
     "iopub.execute_input": "2025-09-27T14:06:40.535676Z",
     "iopub.status.busy": "2025-09-27T14:06:40.535032Z",
     "iopub.status.idle": "2025-09-27T14:06:40.558831Z",
     "shell.execute_reply": "2025-09-27T14:06:40.551320Z"
    },
    "papermill": {
     "duration": 0.045439,
     "end_time": "2025-09-27T14:06:40.561869",
     "exception": false,
     "start_time": "2025-09-27T14:06:40.516430",
     "status": "completed"
    },
    "slideshow": {
     "slide_type": ""
    },
    "tags": []
   },
   "outputs": [],
   "source": [
    "\n",
    "\n",
    "with open('projects.json', 'r') as projects:\n",
    "    project_found = False\n",
    "    for data in json.load(projects):\n",
    "        if data['name'] == project:\n",
    "            analysis_results_basedir = data['analysis_results_basedir']\n",
    "            project_found = True\n",
    "    if not project_found:\n",
    "        print('ERROR: project ' + project + ' does not appear in project.json')"
   ]
  },
  {
   "cell_type": "code",
   "execution_count": 5,
   "id": "c9f2f54d-61ce-4b68-a80a-68b94ef0ce32",
   "metadata": {
    "editable": true,
    "execution": {
     "iopub.execute_input": "2025-09-27T14:06:40.612764Z",
     "iopub.status.busy": "2025-09-27T14:06:40.611814Z",
     "iopub.status.idle": "2025-09-27T14:06:40.638136Z",
     "shell.execute_reply": "2025-09-27T14:06:40.632169Z"
    },
    "papermill": {
     "duration": 0.059561,
     "end_time": "2025-09-27T14:06:40.645158",
     "exception": false,
     "start_time": "2025-09-27T14:06:40.585597",
     "status": "completed"
    },
    "slideshow": {
     "slide_type": ""
    },
    "tags": []
   },
   "outputs": [],
   "source": [
    "# Set output names\n",
    "\n",
    "graph_in = analysis_results_basedir + project + '_graph.gml'\n",
    "communities_out = analysis_results_basedir + project + '_communities.csv'\n",
    "formulation_out = analysis_results_basedir + project + '_communities_improved_optimization.lp'\n",
    "solution_csv_out = analysis_results_basedir + project + '_sol_communities_improved_optimization.csv'\n",
    "graph_image_out = analysis_results_basedir + project + '_sol_communities_improved_optimization.png'\n",
    "analysis_out = analysis_results_basedir + project + '_sol_communities_improved_optimization.txt'"
   ]
  },
  {
   "cell_type": "code",
   "execution_count": 6,
   "id": "5c2c34a6-0072-4335-aa24-5592aa2b0eb7",
   "metadata": {
    "editable": true,
    "execution": {
     "iopub.execute_input": "2025-09-27T14:06:40.691418Z",
     "iopub.status.busy": "2025-09-27T14:06:40.690271Z",
     "iopub.status.idle": "2025-09-27T14:06:41.694258Z",
     "shell.execute_reply": "2025-09-27T14:06:41.692804Z"
    },
    "papermill": {
     "duration": 1.025248,
     "end_time": "2025-09-27T14:06:41.699086",
     "exception": false,
     "start_time": "2025-09-27T14:06:40.673838",
     "status": "completed"
    },
    "slideshow": {
     "slide_type": ""
    },
    "tags": []
   },
   "outputs": [],
   "source": [
    "# Import graph\n",
    "\n",
    "G = nx.read_graphml(graph_in)"
   ]
  },
  {
   "cell_type": "code",
   "execution_count": 7,
   "id": "dce09914-e79b-4094-8343-eb55557825f3",
   "metadata": {
    "editable": true,
    "execution": {
     "iopub.execute_input": "2025-09-27T14:06:41.819341Z",
     "iopub.status.busy": "2025-09-27T14:06:41.818577Z",
     "iopub.status.idle": "2025-09-27T14:06:41.881427Z",
     "shell.execute_reply": "2025-09-27T14:06:41.879934Z"
    },
    "papermill": {
     "duration": 0.114732,
     "end_time": "2025-09-27T14:06:41.890101",
     "exception": false,
     "start_time": "2025-09-27T14:06:41.775369",
     "status": "completed"
    },
    "slideshow": {
     "slide_type": ""
    },
    "tags": []
   },
   "outputs": [],
   "source": [
    "# Add edge weights\n",
    "\n",
    "for (i, j) in G.edges():\n",
    "    G[i][j]['w'] = w[G[i][j]['rel_type']]"
   ]
  },
  {
   "cell_type": "markdown",
   "id": "c98c18d6-f80e-47f3-91bd-258d444d2d08",
   "metadata": {
    "editable": true,
    "papermill": {
     "duration": 0.015703,
     "end_time": "2025-09-27T14:06:41.922443",
     "exception": false,
     "start_time": "2025-09-27T14:06:41.906740",
     "status": "completed"
    },
    "slideshow": {
     "slide_type": ""
    },
    "tags": []
   },
   "source": [
    "## Find communities"
   ]
  },
  {
   "cell_type": "code",
   "execution_count": 8,
   "id": "b1205d9e-4492-4c2d-8034-52c4323b3a20",
   "metadata": {
    "editable": true,
    "execution": {
     "iopub.execute_input": "2025-09-27T14:06:41.963202Z",
     "iopub.status.busy": "2025-09-27T14:06:41.962053Z",
     "iopub.status.idle": "2025-09-27T14:06:43.162441Z",
     "shell.execute_reply": "2025-09-27T14:06:43.159999Z"
    },
    "papermill": {
     "duration": 1.226346,
     "end_time": "2025-09-27T14:06:43.164792",
     "exception": false,
     "start_time": "2025-09-27T14:06:41.938446",
     "status": "completed"
    },
    "slideshow": {
     "slide_type": ""
    },
    "tags": []
   },
   "outputs": [],
   "source": [
    "H = nx.Graph(G) # create an undirected graph H from a directed graph G\n",
    "\n",
    "# compute the best partition\n",
    "communities = community_louvain.best_partition(H, weight='w')\n",
    "\n",
    "# write communities on file\n",
    "with open(communities_out, 'w') as csv_file:\n",
    "    csv_file.write('node, cluster/community\\n')\n",
    "    for node in communities:\n",
    "        csv_file.write(f'{node},{communities[node]}\\n')"
   ]
  },
  {
   "cell_type": "markdown",
   "id": "e6627e68-4939-4275-8ed8-43a323b64d2e",
   "metadata": {
    "editable": true,
    "papermill": {
     "duration": 0.030069,
     "end_time": "2025-09-27T14:06:43.221653",
     "exception": false,
     "start_time": "2025-09-27T14:06:43.191584",
     "status": "completed"
    },
    "slideshow": {
     "slide_type": ""
    },
    "tags": []
   },
   "source": [
    "## Find communities for the entity subgraph"
   ]
  },
  {
   "cell_type": "code",
   "execution_count": 9,
   "id": "476f02c9-d605-4213-8225-951cd9beb7e5",
   "metadata": {
    "editable": true,
    "execution": {
     "iopub.execute_input": "2025-09-27T14:06:43.286890Z",
     "iopub.status.busy": "2025-09-27T14:06:43.286275Z",
     "iopub.status.idle": "2025-09-27T14:06:45.744696Z",
     "shell.execute_reply": "2025-09-27T14:06:45.743222Z"
    },
    "papermill": {
     "duration": 2.493186,
     "end_time": "2025-09-27T14:06:45.747819",
     "exception": false,
     "start_time": "2025-09-27T14:06:43.254633",
     "status": "completed"
    },
    "slideshow": {
     "slide_type": ""
    },
    "tags": []
   },
   "outputs": [
    {
     "name": "stdout",
     "output_type": "stream",
     "text": [
      "Community 128:\n",
      " - ProductOptionImpl (id:304)\n",
      "Community 129:\n",
      " - ProductOptionXrefImpl (id:315)\n",
      "Community 130:\n",
      " - CategoryProductXrefImpl (id:316)\n",
      "Community 131:\n",
      " - ProductOptionValueImpl (id:317)\n",
      "Community 5:\n",
      " - CustomerPhoneImpl (id:7)\n",
      "Community 6:\n",
      " - CustomerPaymentImpl (id:9)\n",
      "Community 133:\n",
      " - SkuProductOptionValueXrefImpl (id:322)\n",
      "Community 9:\n",
      " - PhoneImpl (id:12)\n",
      "Community 137:\n",
      " - AssignedProductOptionDTO (id:328)\n",
      "Community 11:\n",
      " - StateImpl (id:15)\n",
      "Community 12:\n",
      " - CountrySubdivisionImpl (id:16)\n",
      "Community 15:\n",
      " - CustomerImpl (id:23)\n",
      " - CustomerAddressImpl (id:25)\n",
      " - OfferCodeImpl (id:100)\n",
      " - OfferImpl (id:110)\n",
      " - OrderPaymentImpl (id:130)\n",
      " - PaymentTransactionImpl (id:132)\n",
      " - StoreImpl (id:151)\n",
      " - OrderImpl (id:220)\n",
      " - OrderItemImpl (id:229)\n",
      " - CategoryImpl (id:306)\n",
      " - ProductImpl (id:320)\n",
      " - SiteImpl (id:530)\n",
      " - CatalogImpl (id:531)\n",
      " - AbstractModuleConfiguration (id:760)\n",
      " - SandBoxImpl (id:823)\n",
      "Community 16:\n",
      " - CountryImpl (id:24)\n",
      "Community 18:\n",
      " - AddressImpl (id:27)\n",
      "Community 24:\n",
      " - ShippingRateImpl (id:47)\n",
      "Community 26:\n",
      " - CodeTypeImpl (id:55)\n",
      "Community 154:\n",
      " - SandBoxManagementImpl (id:822)\n",
      "Community 155:\n",
      " - SandBoxType (id:824)\n",
      "Community 48:\n",
      " - CustomerOfferImpl (id:107)\n",
      "Community 49:\n",
      " - OfferAuditImpl (id:114)\n",
      "Community 55:\n",
      " - RatingType (id:137)\n",
      "Community 58:\n",
      " - ReviewDetailImpl (id:140)\n",
      "Community 59:\n",
      " - RatingSummaryImpl (id:141)\n",
      "Community 186:\n",
      " - TranslatedEntity (id:853)\n",
      "Community 187:\n",
      " - TranslationImpl (id:854)\n",
      "Community 190:\n",
      " - ISOCountryImpl (id:855)\n",
      "Community 63:\n",
      " - FulfillmentOptionImpl (id:213)\n",
      "Community 191:\n",
      " - BroadleafRequestContext (id:863)\n",
      "Community 67:\n",
      " - OrderStatus (id:168)\n",
      "Community 68:\n",
      " - FulfillmentGroupStatusType (id:169)\n",
      "Community 69:\n",
      " - OrderItemType (id:170)\n",
      "Community 70:\n",
      " - FulfillmentType (id:171)\n",
      "Community 209:\n",
      " - ExtensionResultHolder (id:588)\n",
      "Community 210:\n",
      " - StandardCacheItem (id:590)\n",
      "Community 218:\n",
      " - StreamCapableTransactionalOperationAdapter (id:627)\n",
      "Community 92:\n",
      " - FulfillmentGroupItemImpl (id:218)\n",
      "Community 94:\n",
      " - NullOrderImpl (id:223)\n",
      "Community 95:\n",
      " - FulfillmentGroupImpl (id:227)\n",
      "Community 222:\n",
      " - BatchRetrieveDao (id:662)\n",
      "Community 101:\n",
      " - CatalogStructure (id:279)\n",
      "Community 103:\n",
      " - SearchFacetImpl (id:260)\n",
      "Community 104:\n",
      " - SearchCriteria (id:261)\n",
      "Community 106:\n",
      " - IndexFieldImpl (id:264)\n",
      "Community 107:\n",
      " - SearchFacetRangeImpl (id:267)\n",
      "Community 108:\n",
      " - IndexFieldTypeImpl (id:270)\n",
      "Community 109:\n",
      " - FieldEntity (id:271)\n",
      "Community 110:\n",
      " - FieldImpl (id:273)\n",
      "Community 111:\n",
      " - FieldType (id:274)\n",
      "Community 112:\n",
      " - SearchRedirectImpl (id:275)\n",
      "Community 113:\n",
      " - ParentCategoryByProduct (id:276)\n",
      "Community 114:\n",
      " - ParentCategoryByCategory (id:278)\n",
      "Community 246:\n",
      " - ModuleConfigurationType (id:759)\n",
      "Community 247:\n",
      " - NullSystemProperty (id:761)\n",
      "Community 248:\n",
      " - SystemPropertyImpl (id:762)\n",
      "Community 123:\n",
      " - ProductType (id:295)\n",
      "Community 127:\n",
      " - SkuImpl (id:303)\n"
     ]
    }
   ],
   "source": [
    "K = nx.Graph(G) # create an undirected graph H from a directed graph G\n",
    "\n",
    "# Remove non-entity nodes\n",
    "\n",
    "for i in list(K.nodes):\n",
    "    if K.nodes[i]['type']!='Entity':\n",
    "        K.remove_node(i)\n",
    "\n",
    "# Obtain subgraph of entities that have direct relationships with the persistence layer:\n",
    "    \n",
    "        \n",
    "# compute the best partition\n",
    "entity_cluster = community_louvain.best_partition(K, weight='w')\n",
    "\n",
    "# Remove nodes that do not have direct relationships with methods from the cluster dictionary:\n",
    "e_dict = dict()\n",
    "# Check if entity has a relationship with some method of the persistence layer (it will remove entities from the controller model, for instance)\n",
    "for e in entity_cluster:\n",
    "    e_dict[e] = False\n",
    "    for (i,j) in G.edges():\n",
    "        if e==j and G[i][j]['rel_type'] in ['Persists']:\n",
    "            e_dict[e]=True\n",
    "\n",
    "# Remove non-related entities\n",
    "for entity_to_remove in e_dict:\n",
    "    if not e_dict[entity_to_remove]:\n",
    "        # print('INFO: Entity ' + G.nodes[entity_to_remove]['name'] + ' removed from the clusters')\n",
    "        entity_cluster.pop(entity_to_remove)\n",
    "\n",
    "for i in set(entity_cluster.values()):\n",
    "    print(f'Community {i}:')\n",
    "    for entity, cluster in entity_cluster.items():\n",
    "        if cluster == i:\n",
    "            print(f' - {G.nodes()[entity][\"name\"]} (id:{entity})')"
   ]
  },
  {
   "cell_type": "markdown",
   "id": "9d385bf2-cf31-45e0-8d84-fd44715a1028",
   "metadata": {
    "editable": true,
    "papermill": {
     "duration": 0.014579,
     "end_time": "2025-09-27T14:06:45.775568",
     "exception": false,
     "start_time": "2025-09-27T14:06:45.760989",
     "status": "completed"
    },
    "slideshow": {
     "slide_type": ""
    },
    "tags": []
   },
   "source": [
    "### _User input required!_\n",
    "\n",
    "Refine, if needed, entity clusters"
   ]
  },
  {
   "cell_type": "code",
   "execution_count": 10,
   "id": "021636e9-07ea-45c6-9eab-e34e93503e9b",
   "metadata": {
    "editable": true,
    "execution": {
     "iopub.execute_input": "2025-09-27T14:06:45.801815Z",
     "iopub.status.busy": "2025-09-27T14:06:45.801094Z",
     "iopub.status.idle": "2025-09-27T14:06:45.810608Z",
     "shell.execute_reply": "2025-09-27T14:06:45.809132Z"
    },
    "papermill": {
     "duration": 0.028068,
     "end_time": "2025-09-27T14:06:45.813284",
     "exception": false,
     "start_time": "2025-09-27T14:06:45.785216",
     "status": "completed"
    },
    "slideshow": {
     "slide_type": ""
    },
    "tags": []
   },
   "outputs": [],
   "source": [
    "# Remove entity from its cluster\n",
    "entity_ids_to_remove = [] # <-- Put Ids as strings (example: ['1', '3']\n",
    "\n",
    "# Place entity into a cluster\n",
    "entities_clusters_to_place = [] # <-- Example: entity X in cluster Y: ('X', 5)\n",
    "\n",
    "\n",
    "for e in entity_ids_to_remove:\n",
    "    entity_cluster.pop(e)\n",
    "    print(f'INFO: Removed entity {G.nodes()[e][\"name\"]} from clusters')\n",
    "\n",
    "for (e, cluster) in entities_clusters_to_place:\n",
    "    entity_cluster[e] = cluster\n",
    "    print(f'INFO: Entity {G.nodes()[e][\"name\"]} put into cluster {cluster}')"
   ]
  },
  {
   "cell_type": "code",
   "execution_count": 11,
   "id": "03cb8c9a-f2d0-46ad-a857-11e31be27470",
   "metadata": {
    "editable": true,
    "execution": {
     "iopub.execute_input": "2025-09-27T14:06:45.840928Z",
     "iopub.status.busy": "2025-09-27T14:06:45.840407Z",
     "iopub.status.idle": "2025-09-27T14:06:45.861664Z",
     "shell.execute_reply": "2025-09-27T14:06:45.853681Z"
    },
    "papermill": {
     "duration": 0.048068,
     "end_time": "2025-09-27T14:06:45.868826",
     "exception": false,
     "start_time": "2025-09-27T14:06:45.820758",
     "status": "completed"
    },
    "slideshow": {
     "slide_type": ""
    },
    "tags": []
   },
   "outputs": [
    {
     "name": "stdout",
     "output_type": "stream",
     "text": [
      "Entities in community 0: ['CustomerPhoneImpl']\n",
      "Entities in community 1: ['CustomerPaymentImpl']\n",
      "Entities in community 2: ['PhoneImpl']\n",
      "Entities in community 3: ['StateImpl']\n",
      "Entities in community 4: ['CountrySubdivisionImpl']\n",
      "Entities in community 5: ['CustomerImpl', 'CustomerAddressImpl', 'OfferCodeImpl', 'OfferImpl', 'OrderPaymentImpl', 'PaymentTransactionImpl', 'StoreImpl', 'OrderImpl', 'OrderItemImpl', 'CategoryImpl', 'ProductImpl', 'SiteImpl', 'CatalogImpl', 'AbstractModuleConfiguration', 'SandBoxImpl']\n",
      "Entities in community 6: ['CountryImpl']\n",
      "Entities in community 7: ['AddressImpl']\n",
      "Entities in community 8: ['ShippingRateImpl']\n",
      "Entities in community 9: ['CodeTypeImpl']\n",
      "Entities in community 10: ['CustomerOfferImpl']\n",
      "Entities in community 11: ['OfferAuditImpl']\n",
      "Entities in community 12: ['RatingType']\n",
      "Entities in community 13: ['ReviewDetailImpl']\n",
      "Entities in community 14: ['RatingSummaryImpl']\n",
      "Entities in community 15: ['OrderStatus']\n",
      "Entities in community 16: ['FulfillmentGroupStatusType']\n",
      "Entities in community 17: ['OrderItemType']\n",
      "Entities in community 18: ['FulfillmentType']\n",
      "Entities in community 19: ['FulfillmentOptionImpl']\n",
      "Entities in community 20: ['FulfillmentGroupItemImpl']\n",
      "Entities in community 21: ['NullOrderImpl']\n",
      "Entities in community 22: ['FulfillmentGroupImpl']\n",
      "Entities in community 23: ['SearchFacetImpl']\n",
      "Entities in community 24: ['SearchCriteria']\n",
      "Entities in community 25: ['IndexFieldImpl']\n",
      "Entities in community 26: ['SearchFacetRangeImpl']\n",
      "Entities in community 27: ['IndexFieldTypeImpl']\n",
      "Entities in community 28: ['FieldEntity']\n",
      "Entities in community 29: ['FieldImpl']\n",
      "Entities in community 30: ['FieldType']\n",
      "Entities in community 31: ['SearchRedirectImpl']\n",
      "Entities in community 32: ['ParentCategoryByProduct']\n",
      "Entities in community 33: ['ParentCategoryByCategory']\n",
      "Entities in community 34: ['CatalogStructure']\n",
      "Entities in community 35: ['ProductType']\n",
      "Entities in community 36: ['SkuImpl']\n",
      "Entities in community 37: ['ProductOptionImpl']\n",
      "Entities in community 38: ['ProductOptionXrefImpl']\n",
      "Entities in community 39: ['CategoryProductXrefImpl']\n",
      "Entities in community 40: ['ProductOptionValueImpl']\n",
      "Entities in community 41: ['SkuProductOptionValueXrefImpl']\n",
      "Entities in community 42: ['AssignedProductOptionDTO']\n",
      "Entities in community 43: ['ExtensionResultHolder']\n",
      "Entities in community 44: ['StandardCacheItem']\n",
      "Entities in community 45: ['StreamCapableTransactionalOperationAdapter']\n",
      "Entities in community 46: ['BatchRetrieveDao']\n",
      "Entities in community 47: ['ModuleConfigurationType']\n",
      "Entities in community 48: ['NullSystemProperty']\n",
      "Entities in community 49: ['SystemPropertyImpl']\n",
      "Entities in community 50: ['SandBoxManagementImpl']\n",
      "Entities in community 51: ['SandBoxType']\n",
      "Entities in community 52: ['TranslatedEntity']\n",
      "Entities in community 53: ['TranslationImpl']\n",
      "Entities in community 54: ['ISOCountryImpl']\n",
      "Entities in community 55: ['BroadleafRequestContext']\n"
     ]
    }
   ],
   "source": [
    "# Some cluster may have disappeared: remaining clusters need to be renumbered\n",
    "cluster_map = dict()\n",
    "counter=0\n",
    "number_mapping = dict() # maps the old cluster number with the new one\n",
    "for entity_key, old_number in entity_cluster.items():\n",
    "    if old_number not in number_mapping:\n",
    "        number_mapping[old_number] = counter\n",
    "        counter+=1\n",
    "    cluster_map[number_mapping[old_number]] = cluster_map.get(number_mapping[old_number], []) + [entity_key]\n",
    "    \n",
    "for cluster in cluster_map:\n",
    "    print('Entities in community ' + str(cluster) + ': ' + str([G.nodes[entity_key]['name'] for entity_key in cluster_map[cluster]]))\n",
    "\n",
    "n_micros = len(cluster_map)"
   ]
  },
  {
   "cell_type": "code",
   "execution_count": 12,
   "id": "bd909d53-3681-43aa-baa0-5d38556bb40b",
   "metadata": {
    "editable": true,
    "execution": {
     "iopub.execute_input": "2025-09-27T14:06:45.895094Z",
     "iopub.status.busy": "2025-09-27T14:06:45.894649Z",
     "iopub.status.idle": "2025-09-27T14:06:45.927615Z",
     "shell.execute_reply": "2025-09-27T14:06:45.925776Z"
    },
    "papermill": {
     "duration": 0.047324,
     "end_time": "2025-09-27T14:06:45.930932",
     "exception": false,
     "start_time": "2025-09-27T14:06:45.883608",
     "status": "completed"
    },
    "slideshow": {
     "slide_type": ""
    },
    "tags": []
   },
   "outputs": [
    {
     "name": "stdout",
     "output_type": "stream",
     "text": [
      "Entities in community 0 are in clusters: []\n",
      "Entities in community 1 are in clusters: [5, 5, 5, 5, 11, 15]\n",
      "Entities in community 2 are in clusters: []\n",
      "Entities in community 3 are in clusters: []\n",
      "Entities in community 4 are in clusters: [47]\n",
      "Entities in community 5 are in clusters: [0, 35]\n",
      "Entities in community 6 are in clusters: [1]\n",
      "Entities in community 7 are in clusters: []\n",
      "Entities in community 8 are in clusters: [2, 3, 4, 6, 54]\n",
      "Entities in community 9 are in clusters: []\n",
      "Entities in community 10 are in clusters: []\n",
      "Entities in community 11 are in clusters: [5, 5, 5, 5, 5, 5, 5, 5, 5, 5, 5, 32, 33, 37, 41, 42]\n",
      "Entities in community 12 are in clusters: [7, 19, 21]\n",
      "Entities in community 13 are in clusters: [17, 40]\n",
      "Entities in community 14 are in clusters: []\n",
      "Entities in community 15 are in clusters: [18, 20, 22]\n",
      "Entities in community 16 are in clusters: []\n",
      "Entities in community 17 are in clusters: [8]\n",
      "Entities in community 18 are in clusters: []\n",
      "Entities in community 19 are in clusters: [9]\n",
      "Entities in community 20 are in clusters: []\n",
      "Entities in community 21 are in clusters: []\n",
      "Entities in community 22 are in clusters: []\n",
      "Entities in community 23 are in clusters: []\n",
      "Entities in community 24 are in clusters: []\n",
      "Entities in community 25 are in clusters: []\n",
      "Entities in community 26 are in clusters: []\n",
      "Entities in community 27 are in clusters: []\n",
      "Entities in community 28 are in clusters: []\n",
      "Entities in community 29 are in clusters: []\n",
      "Entities in community 30 are in clusters: []\n",
      "Entities in community 31 are in clusters: []\n",
      "Entities in community 32 are in clusters: []\n",
      "Entities in community 33 are in clusters: []\n",
      "Entities in community 34 are in clusters: []\n",
      "Entities in community 35 are in clusters: [10]\n",
      "Entities in community 36 are in clusters: []\n",
      "Entities in community 37 are in clusters: []\n",
      "Entities in community 38 are in clusters: []\n",
      "Entities in community 39 are in clusters: [12, 13, 46]\n",
      "Entities in community 40 are in clusters: []\n",
      "Entities in community 41 are in clusters: [14]\n",
      "Entities in community 42 are in clusters: []\n",
      "Entities in community 43 are in clusters: []\n",
      "Entities in community 44 are in clusters: []\n",
      "Entities in community 45 are in clusters: []\n",
      "Entities in community 46 are in clusters: [16]\n",
      "Entities in community 47 are in clusters: []\n",
      "Entities in community 48 are in clusters: []\n",
      "Entities in community 49 are in clusters: [36]\n",
      "Entities in community 50 are in clusters: []\n",
      "Entities in community 51 are in clusters: []\n",
      "Entities in community 52 are in clusters: []\n",
      "Entities in community 53 are in clusters: []\n",
      "Entities in community 54 are in clusters: []\n",
      "Entities in community 55 are in clusters: [27, 30, 34]\n",
      "Entities in community 56 are in clusters: []\n",
      "Entities in community 57 are in clusters: [23, 24, 25, 26, 28, 29, 39]\n",
      "Entities in community 58 are in clusters: [31]\n",
      "Entities in community 59 are in clusters: []\n",
      "Entities in community 60 are in clusters: []\n",
      "Entities in community 61 are in clusters: [49, 55]\n",
      "Entities in community 62 are in clusters: []\n",
      "Entities in community 63 are in clusters: []\n",
      "Entities in community 64 are in clusters: []\n",
      "Entities in community 66 are in clusters: []\n",
      "Entities in community 67 are in clusters: []\n",
      "Entities in community 68 are in clusters: [38]\n",
      "Entities in community 69 are in clusters: []\n",
      "Entities in community 70 are in clusters: [43]\n",
      "Entities in community 71 are in clusters: []\n",
      "Entities in community 72 are in clusters: []\n",
      "Entities in community 73 are in clusters: []\n",
      "Entities in community 74 are in clusters: []\n",
      "Entities in community 75 are in clusters: []\n",
      "Entities in community 76 are in clusters: []\n",
      "Entities in community 77 are in clusters: []\n",
      "Entities in community 78 are in clusters: []\n",
      "Entities in community 79 are in clusters: []\n",
      "Entities in community 80 are in clusters: []\n",
      "Entities in community 81 are in clusters: []\n",
      "Entities in community 82 are in clusters: []\n",
      "Entities in community 83 are in clusters: []\n",
      "Entities in community 84 are in clusters: []\n",
      "Entities in community 85 are in clusters: []\n",
      "Entities in community 86 are in clusters: []\n",
      "Entities in community 87 are in clusters: []\n",
      "Entities in community 88 are in clusters: []\n",
      "Entities in community 89 are in clusters: []\n",
      "Entities in community 90 are in clusters: []\n",
      "Entities in community 91 are in clusters: []\n",
      "Entities in community 92 are in clusters: []\n",
      "Entities in community 93 are in clusters: []\n",
      "Entities in community 94 are in clusters: []\n",
      "Entities in community 95 are in clusters: []\n",
      "Entities in community 96 are in clusters: [44, 52, 53]\n",
      "Entities in community 97 are in clusters: []\n",
      "Entities in community 98 are in clusters: [45]\n",
      "Entities in community 99 are in clusters: []\n",
      "Entities in community 100 are in clusters: []\n",
      "Entities in community 101 are in clusters: []\n",
      "Entities in community 102 are in clusters: []\n",
      "Entities in community 103 are in clusters: []\n",
      "Entities in community 104 are in clusters: []\n",
      "Entities in community 105 are in clusters: []\n",
      "Entities in community 106 are in clusters: []\n",
      "Entities in community 107 are in clusters: []\n",
      "Entities in community 108 are in clusters: []\n",
      "Entities in community 109 are in clusters: []\n",
      "Entities in community 110 are in clusters: []\n",
      "Entities in community 111 are in clusters: []\n",
      "Entities in community 112 are in clusters: []\n",
      "Entities in community 113 are in clusters: []\n",
      "Entities in community 114 are in clusters: []\n",
      "Entities in community 115 are in clusters: []\n",
      "Entities in community 116 are in clusters: []\n",
      "Entities in community 117 are in clusters: []\n",
      "Entities in community 118 are in clusters: []\n",
      "Entities in community 119 are in clusters: []\n",
      "Entities in community 120 are in clusters: []\n",
      "Entities in community 121 are in clusters: []\n",
      "Entities in community 122 are in clusters: []\n",
      "Entities in community 123 are in clusters: []\n",
      "Entities in community 124 are in clusters: []\n",
      "Entities in community 125 are in clusters: []\n",
      "Entities in community 126 are in clusters: []\n",
      "Entities in community 127 are in clusters: []\n",
      "Entities in community 128 are in clusters: []\n",
      "Entities in community 129 are in clusters: []\n",
      "Entities in community 130 are in clusters: []\n",
      "Entities in community 131 are in clusters: [48]\n",
      "Entities in community 132 are in clusters: []\n",
      "Entities in community 133 are in clusters: []\n",
      "Entities in community 134 are in clusters: []\n",
      "Entities in community 135 are in clusters: []\n",
      "Entities in community 136 are in clusters: []\n",
      "Entities in community 137 are in clusters: []\n",
      "Entities in community 138 are in clusters: []\n",
      "Entities in community 139 are in clusters: []\n",
      "Entities in community 140 are in clusters: []\n",
      "Entities in community 141 are in clusters: []\n",
      "Entities in community 142 are in clusters: []\n",
      "Entities in community 143 are in clusters: [50, 51]\n",
      "Entities in community 144 are in clusters: []\n",
      "Entities in community 145 are in clusters: []\n",
      "Entities in community 146 are in clusters: []\n",
      "Entities in community 147 are in clusters: []\n",
      "Entities in community 148 are in clusters: []\n",
      "Entities in community 149 are in clusters: []\n",
      "Entities in community 150 are in clusters: []\n",
      "Entities in community 151 are in clusters: []\n",
      "Entities in community 152 are in clusters: []\n",
      "Entities in community 153 are in clusters: []\n",
      "Entities in community 154 are in clusters: []\n",
      "Entities in community 155 are in clusters: []\n",
      "Relaxed communities: [1, 5, 8, 11, 12, 13, 15, 39, 55, 57, 61, 96, 143]\n"
     ]
    }
   ],
   "source": [
    "# Resolve conflicts of distribution of entities into communities: if entities of the same community are in different clusters, then remove the community from the dictionary\n",
    "\n",
    "communities_dict = dict() # Map community -> entities into the communities\n",
    "\n",
    "\n",
    "for node in G.nodes():\n",
    "    if G.nodes[node]['type'] == 'Entity':\n",
    "        communities_dict[communities[node]] = communities_dict.get(communities[node], []) + [node]\n",
    "\n",
    "communities_to_relax = []\n",
    "\n",
    "for community in communities_dict:\n",
    "    clusters = []\n",
    "    for cluster, entities in cluster_map.items():\n",
    "        for e in entities:\n",
    "            if e in communities_dict[community]:\n",
    "                clusters.append(cluster)\n",
    "    print(f'Entities in community {community} are in clusters: {clusters}')\n",
    "    if len(clusters) > 0 and not all(clusters[0] == c for c in clusters):\n",
    "        #print(f'Remove community {community}')\n",
    "        communities_to_relax.append(community)\n",
    "\n",
    "nodes_to_remove_from_dict = []\n",
    "for node in communities.keys():\n",
    "    if communities[node] in communities_to_relax:\n",
    "        nodes_to_remove_from_dict.append(node)\n",
    "\n",
    "for node in nodes_to_remove_from_dict:\n",
    "    del communities[node]\n",
    "\n",
    "print(f'Relaxed communities: {communities_to_relax}')"
   ]
  },
  {
   "cell_type": "markdown",
   "id": "3c6fe2ac-0fb0-456d-8b81-8d93a3439be8",
   "metadata": {
    "editable": true,
    "papermill": {
     "duration": 0.011766,
     "end_time": "2025-09-27T14:06:45.959694",
     "exception": false,
     "start_time": "2025-09-27T14:06:45.947928",
     "status": "completed"
    },
    "slideshow": {
     "slide_type": ""
    },
    "tags": []
   },
   "source": [
    "## ILP Formulation"
   ]
  },
  {
   "cell_type": "code",
   "execution_count": 13,
   "id": "bceb7240-b83a-4b0b-b380-b95cd1bb2b0e",
   "metadata": {
    "editable": true,
    "execution": {
     "iopub.execute_input": "2025-09-27T14:06:45.992325Z",
     "iopub.status.busy": "2025-09-27T14:06:45.991337Z",
     "iopub.status.idle": "2025-09-27T14:07:37.979470Z",
     "shell.execute_reply": "2025-09-27T14:07:37.978690Z"
    },
    "papermill": {
     "duration": 52.00623,
     "end_time": "2025-09-27T14:07:37.980689",
     "exception": false,
     "start_time": "2025-09-27T14:06:45.974459",
     "status": "completed"
    },
    "slideshow": {
     "slide_type": ""
    },
    "tags": []
   },
   "outputs": [
    {
     "name": "stdout",
     "output_type": "stream",
     "text": [
      "Set parameter WLSAccessID\n"
     ]
    },
    {
     "name": "stdout",
     "output_type": "stream",
     "text": [
      "Set parameter WLSSecret\n"
     ]
    },
    {
     "name": "stdout",
     "output_type": "stream",
     "text": [
      "Set parameter LicenseID to value 2713550\n"
     ]
    },
    {
     "name": "stdout",
     "output_type": "stream",
     "text": [
      "Academic license 2713550 - for non-commercial use only - registered to av___@gmail.com\n"
     ]
    }
   ],
   "source": [
    "model = gb.Model()\n",
    "\n",
    "# Variables\n",
    "x = model.addVars(((i,k) for i in G.nodes() for k in range(n_micros)),\\\n",
    "                  vtype=gb.GRB.BINARY, name='x')\n",
    "\n",
    "z = model.addVars(((i,j,k) for (i,j) in G.edges() for k in range(n_micros)), vtype=gb.GRB.BINARY, name='z')\n",
    "\n",
    "y = model.addVars(((i,j) for (i,j) in G.edges()), vtype=gb.GRB.BINARY, name='y')\n",
    "\n",
    "# Each node has to be in one and only one microservice\n",
    "model.addConstrs((x.sum(i, '*') == 1 for i in G.nodes()), name='(1)microservice-belonging')\n",
    "\n",
    "# A microservice can not be composed of entities only\n",
    "model.addConstrs((gb.quicksum(x[i,k] for i in G.nodes() if G.nodes[i]['type']!='Entity') >= 1 for k in range(n_micros)), name='(2)microservice-composition')\n",
    "\n",
    "# Bonding variables\n",
    "model.addConstrs((z[i,j,k]-x[i,k] <= 0 for (i,j) in G.edges() for k in range(n_micros)), name='(3)bonding-z-to-x')\n",
    "model.addConstrs((z[i,j,k]-x[j,k] <= 0 for (i,j) in G.edges() for k in range(n_micros)), name='(4)bonding-z-to-x')\n",
    "model.addConstrs((x[i,k]+x[j,k]-z[i,j,k] <= 1 for (i,j) in G.edges() for k in range(n_micros)), name='(5)bonding-z-to-x')\n",
    "\n",
    "model.addConstrs((y[i,j]==gb.quicksum(z[i,j,k] for k in range(n_micros)) for (i,j) in G.edges()), name='(6)bonding-y-to-z')\n",
    "\n",
    "\n",
    "########## Added constraints ##########\n",
    "\n",
    "# Force each entity from the kth cluster to be in the kth microservice\n",
    "model.addConstrs((x[i,k]==1 for k in cluster_map for i in cluster_map[k]), name='(7)bonding-x-to-entity-clusters')\n",
    "\n",
    "# Force node of the same community to be in the same (consider a community only if there are not entities from different clusters)\n",
    "communities_constraint = model.addConstrs((y[i,j]==1 for (i,j) in G.edges() if i in communities and j in communities and communities[i]==communities[j]), name='(8)bonding-y-to-communities')\n",
    "\n",
    "\n",
    "########## Objective function ##########\n",
    "\n",
    "coupling = gb.quicksum(G.edges[i,j]['w']*(1-y[i,j]) for (i,j) in G.edges())\n",
    "\n",
    "model.setObjective(coupling, gb.GRB.MINIMIZE)\n",
    "\n",
    "model.write(formulation_out)"
   ]
  },
  {
   "cell_type": "code",
   "execution_count": 14,
   "id": "081eb8b2-d436-45fa-886c-7051ff07d125",
   "metadata": {
    "editable": true,
    "execution": {
     "iopub.execute_input": "2025-09-27T14:07:37.993482Z",
     "iopub.status.busy": "2025-09-27T14:07:37.993231Z",
     "iopub.status.idle": "2025-09-27T14:10:46.882955Z",
     "shell.execute_reply": "2025-09-27T14:10:46.882144Z"
    },
    "papermill": {
     "duration": 188.897723,
     "end_time": "2025-09-27T14:10:46.884293",
     "exception": false,
     "start_time": "2025-09-27T14:07:37.986570",
     "status": "completed"
    },
    "slideshow": {
     "slide_type": ""
    },
    "tags": []
   },
   "outputs": [
    {
     "name": "stdout",
     "output_type": "stream",
     "text": [
      "Gurobi Optimizer version 12.0.3 build v12.0.3rc0 (linux64 - \"Linux Mint 22.1\")\n"
     ]
    },
    {
     "name": "stdout",
     "output_type": "stream",
     "text": [
      "\n"
     ]
    },
    {
     "name": "stdout",
     "output_type": "stream",
     "text": [
      "CPU model: Intel(R) Core(TM) i7-8550U CPU @ 1.80GHz, instruction set [SSE2|AVX|AVX2]\n"
     ]
    },
    {
     "name": "stdout",
     "output_type": "stream",
     "text": [
      "Thread count: 4 physical cores, 8 logical processors, using up to 8 threads\n"
     ]
    },
    {
     "name": "stdout",
     "output_type": "stream",
     "text": [
      "\n"
     ]
    },
    {
     "name": "stdout",
     "output_type": "stream",
     "text": [
      "Academic license 2713550 - for non-commercial use only - registered to av___@gmail.com\n"
     ]
    },
    {
     "name": "stdout",
     "output_type": "stream",
     "text": [
      "Optimize a model with 643687 rows, 370020 columns and 1969303 nonzeros\n"
     ]
    },
    {
     "name": "stdout",
     "output_type": "stream",
     "text": [
      "Model fingerprint: 0x0e23f67c\n"
     ]
    },
    {
     "name": "stdout",
     "output_type": "stream",
     "text": [
      "Variable types: 0 continuous, 370020 integer (370020 binary)\n"
     ]
    },
    {
     "name": "stdout",
     "output_type": "stream",
     "text": [
      "Coefficient statistics:\n"
     ]
    },
    {
     "name": "stdout",
     "output_type": "stream",
     "text": [
      "  Matrix range     [1e+00, 2e+00]\n"
     ]
    },
    {
     "name": "stdout",
     "output_type": "stream",
     "text": [
      "  Objective range  [1e-01, 4e-01]\n"
     ]
    },
    {
     "name": "stdout",
     "output_type": "stream",
     "text": [
      "  Bounds range     [1e+00, 1e+00]\n"
     ]
    },
    {
     "name": "stdout",
     "output_type": "stream",
     "text": [
      "  RHS range        [1e+00, 1e+00]\n"
     ]
    },
    {
     "name": "stdout",
     "output_type": "stream",
     "text": [
      "Presolve removed 148007 rows and 75361 columns (presolve time = 5s)...\n"
     ]
    },
    {
     "name": "stdout",
     "output_type": "stream",
     "text": [
      "Presolve removed 148007 rows and 75361 columns (presolve time = 10s)...\n"
     ]
    },
    {
     "name": "stdout",
     "output_type": "stream",
     "text": [
      "Presolve removed 148007 rows and 75361 columns (presolve time = 15s)...\n"
     ]
    },
    {
     "name": "stdout",
     "output_type": "stream",
     "text": [
      "Presolve removed 148007 rows and 75361 columns (presolve time = 20s)...\n"
     ]
    },
    {
     "name": "stdout",
     "output_type": "stream",
     "text": [
      "Presolve removed 148007 rows and 75361 columns (presolve time = 25s)...\n"
     ]
    },
    {
     "name": "stdout",
     "output_type": "stream",
     "text": [
      "Presolve removed 148007 rows and 75361 columns (presolve time = 30s)...\n"
     ]
    },
    {
     "name": "stdout",
     "output_type": "stream",
     "text": [
      "Presolve removed 148007 rows and 75361 columns (presolve time = 35s)...\n"
     ]
    },
    {
     "name": "stdout",
     "output_type": "stream",
     "text": [
      "Presolve removed 148007 rows and 75361 columns (presolve time = 40s)...\n"
     ]
    },
    {
     "name": "stdout",
     "output_type": "stream",
     "text": [
      "Presolve removed 148007 rows and 75361 columns (presolve time = 45s)...\n"
     ]
    },
    {
     "name": "stdout",
     "output_type": "stream",
     "text": [
      "Presolve removed 148007 rows and 75361 columns (presolve time = 50s)...\n"
     ]
    },
    {
     "name": "stdout",
     "output_type": "stream",
     "text": [
      "Presolve removed 148007 rows and 75361 columns (presolve time = 55s)...\n"
     ]
    },
    {
     "name": "stdout",
     "output_type": "stream",
     "text": [
      "Presolve removed 148007 rows and 75361 columns (presolve time = 60s)...\n"
     ]
    },
    {
     "name": "stdout",
     "output_type": "stream",
     "text": [
      "Presolve removed 148007 rows and 75361 columns (presolve time = 65s)...\n"
     ]
    },
    {
     "name": "stdout",
     "output_type": "stream",
     "text": [
      "Presolve removed 148007 rows and 75361 columns (presolve time = 70s)...\n"
     ]
    },
    {
     "name": "stdout",
     "output_type": "stream",
     "text": [
      "Presolve removed 148007 rows and 75361 columns (presolve time = 75s)...\n"
     ]
    },
    {
     "name": "stdout",
     "output_type": "stream",
     "text": [
      "Presolve removed 148007 rows and 75361 columns (presolve time = 80s)...\n"
     ]
    },
    {
     "name": "stdout",
     "output_type": "stream",
     "text": [
      "Presolve removed 148007 rows and 75361 columns (presolve time = 85s)...\n"
     ]
    },
    {
     "name": "stdout",
     "output_type": "stream",
     "text": [
      "Presolve removed 148007 rows and 75361 columns (presolve time = 90s)...\n"
     ]
    },
    {
     "name": "stdout",
     "output_type": "stream",
     "text": [
      "Presolve removed 148007 rows and 75361 columns (presolve time = 95s)...\n"
     ]
    },
    {
     "name": "stdout",
     "output_type": "stream",
     "text": [
      "Presolve removed 148007 rows and 75361 columns (presolve time = 100s)...\n"
     ]
    },
    {
     "name": "stdout",
     "output_type": "stream",
     "text": [
      "Presolve removed 148007 rows and 75361 columns (presolve time = 105s)...\n"
     ]
    },
    {
     "name": "stdout",
     "output_type": "stream",
     "text": [
      "Presolve removed 148007 rows and 75361 columns (presolve time = 110s)...\n"
     ]
    },
    {
     "name": "stdout",
     "output_type": "stream",
     "text": [
      "Presolve removed 148007 rows and 162217 columns (presolve time = 132s)...\n"
     ]
    },
    {
     "name": "stdout",
     "output_type": "stream",
     "text": [
      "Presolve removed 327867 rows and 168273 columns (presolve time = 135s)...\n"
     ]
    },
    {
     "name": "stdout",
     "output_type": "stream",
     "text": [
      "Presolve removed 331877 rows and 172510 columns\n"
     ]
    },
    {
     "name": "stdout",
     "output_type": "stream",
     "text": [
      "Presolve time: 135.75s\n"
     ]
    },
    {
     "name": "stdout",
     "output_type": "stream",
     "text": [
      "Presolved: 311810 rows, 197510 columns, 1001610 nonzeros\n"
     ]
    },
    {
     "name": "stdout",
     "output_type": "stream",
     "text": [
      "Variable types: 0 continuous, 197510 integer (197510 binary)\n"
     ]
    },
    {
     "name": "stdout",
     "output_type": "stream",
     "text": [
      "Found heuristic solution: objective 231.0380403\n"
     ]
    },
    {
     "name": "stdout",
     "output_type": "stream",
     "text": [
      "\n"
     ]
    },
    {
     "name": "stdout",
     "output_type": "stream",
     "text": [
      "Deterministic concurrent LP optimizer: primal simplex, dual simplex, and barrier\n"
     ]
    },
    {
     "name": "stdout",
     "output_type": "stream",
     "text": [
      "Showing barrier log only...\n"
     ]
    },
    {
     "name": "stdout",
     "output_type": "stream",
     "text": [
      "\n"
     ]
    },
    {
     "name": "stdout",
     "output_type": "stream",
     "text": [
      "Root barrier log...\n"
     ]
    },
    {
     "name": "stdout",
     "output_type": "stream",
     "text": [
      "\n"
     ]
    },
    {
     "name": "stdout",
     "output_type": "stream",
     "text": [
      "Elapsed ordering time = 5s\n"
     ]
    },
    {
     "name": "stdout",
     "output_type": "stream",
     "text": [
      "Elapsed ordering time = 8s\n"
     ]
    },
    {
     "name": "stdout",
     "output_type": "stream",
     "text": [
      "Elapsed ordering time = 10s\n"
     ]
    },
    {
     "name": "stdout",
     "output_type": "stream",
     "text": [
      "Ordering time: 11.59s\n"
     ]
    },
    {
     "name": "stdout",
     "output_type": "stream",
     "text": [
      "\n"
     ]
    },
    {
     "name": "stdout",
     "output_type": "stream",
     "text": [
      "Barrier statistics:\n"
     ]
    },
    {
     "name": "stdout",
     "output_type": "stream",
     "text": [
      " AA' NZ     : 3.723e+06\n"
     ]
    },
    {
     "name": "stdout",
     "output_type": "stream",
     "text": [
      " Factor NZ  : 5.431e+07 (roughly 600 MB of memory)\n"
     ]
    },
    {
     "name": "stdout",
     "output_type": "stream",
     "text": [
      " Factor Ops : 9.033e+10 (roughly 2 seconds per iteration)\n"
     ]
    },
    {
     "name": "stdout",
     "output_type": "stream",
     "text": [
      " Threads    : 2\n"
     ]
    },
    {
     "name": "stdout",
     "output_type": "stream",
     "text": [
      "\n"
     ]
    },
    {
     "name": "stdout",
     "output_type": "stream",
     "text": [
      "                  Objective                Residual\n"
     ]
    },
    {
     "name": "stdout",
     "output_type": "stream",
     "text": [
      "Iter       Primal          Dual         Primal    Dual     Compl     Time\n"
     ]
    },
    {
     "name": "stdout",
     "output_type": "stream",
     "text": [
      "   0  -2.91093784e+02 -7.03971038e+04  2.62e+03 1.67e-01  1.28e+00   152s\n"
     ]
    },
    {
     "name": "stdout",
     "output_type": "stream",
     "text": [
      "   1   6.58067070e+01 -6.89409302e+04  8.71e+02 1.63e-01  4.58e-01   156s\n"
     ]
    },
    {
     "name": "stdout",
     "output_type": "stream",
     "text": [
      "   2   1.98016013e+02 -2.14265008e+04  9.11e+01 4.56e-14  6.15e-02   158s\n"
     ]
    },
    {
     "name": "stdout",
     "output_type": "stream",
     "text": [
      "   3   2.11637928e+02 -3.40637191e+03  1.17e+01 5.05e-14  8.10e-03   161s\n"
     ]
    },
    {
     "name": "stdout",
     "output_type": "stream",
     "text": [
      "   4   1.70450321e+02 -1.16699775e+03  9.64e-01 4.78e-14  2.06e-03   164s\n"
     ]
    },
    {
     "name": "stdout",
     "output_type": "stream",
     "text": [
      "   5   1.35608518e+02 -3.31476469e+02  3.82e-02 4.16e-14  6.71e-04   167s\n"
     ]
    },
    {
     "name": "stdout",
     "output_type": "stream",
     "text": [
      "   6   9.48423854e+01 -9.93335955e+01  2.09e-03 5.86e-14  2.77e-04   171s\n"
     ]
    },
    {
     "name": "stdout",
     "output_type": "stream",
     "text": [
      "   7   6.29685301e+01 -4.64184351e+01  6.58e-04 2.05e-13  1.56e-04   175s\n"
     ]
    },
    {
     "name": "stdout",
     "output_type": "stream",
     "text": [
      "   8   4.32810757e+01 -9.24101143e+00  2.27e-04 2.44e-13  7.51e-05   179s\n"
     ]
    },
    {
     "name": "stdout",
     "output_type": "stream",
     "text": [
      "   9   3.25788104e+01  6.20035426e+00  7.17e-05 8.17e-13  3.77e-05   183s\n"
     ]
    },
    {
     "name": "stdout",
     "output_type": "stream",
     "text": [
      "  10   2.66778773e+01  1.67488018e+01  1.21e-05 1.14e-12  1.42e-05   188s\n"
     ]
    },
    {
     "name": "stdout",
     "output_type": "stream",
     "text": [
      "\n"
     ]
    },
    {
     "name": "stdout",
     "output_type": "stream",
     "text": [
      "Barrier performed 10 iterations in 188.53 seconds (128.57 work units)\n"
     ]
    },
    {
     "name": "stdout",
     "output_type": "stream",
     "text": [
      "Barrier solve interrupted - model solved by another algorithm\n"
     ]
    },
    {
     "name": "stdout",
     "output_type": "stream",
     "text": [
      "\n"
     ]
    },
    {
     "name": "stdout",
     "output_type": "stream",
     "text": [
      "Concurrent spin time: 0.11s\n"
     ]
    },
    {
     "name": "stdout",
     "output_type": "stream",
     "text": [
      "\n"
     ]
    },
    {
     "name": "stdout",
     "output_type": "stream",
     "text": [
      "Solved with dual simplex\n"
     ]
    },
    {
     "name": "stdout",
     "output_type": "stream",
     "text": [
      "\n"
     ]
    },
    {
     "name": "stdout",
     "output_type": "stream",
     "text": [
      "Root relaxation: objective 2.252775e+01, 160352 iterations, 51.64 seconds (23.23 work units)\n"
     ]
    },
    {
     "name": "stdout",
     "output_type": "stream",
     "text": [
      "\n"
     ]
    },
    {
     "name": "stdout",
     "output_type": "stream",
     "text": [
      "    Nodes    |    Current Node    |     Objective Bounds      |     Work\n"
     ]
    },
    {
     "name": "stdout",
     "output_type": "stream",
     "text": [
      " Expl Unexpl |  Obj  Depth IntInf | Incumbent    BestBd   Gap | It/Node Time\n"
     ]
    },
    {
     "name": "stdout",
     "output_type": "stream",
     "text": [
      "\n"
     ]
    },
    {
     "name": "stdout",
     "output_type": "stream",
     "text": [
      "H    0     0                      22.5277461   22.52775  0.00%     -  188s\n"
     ]
    },
    {
     "name": "stdout",
     "output_type": "stream",
     "text": [
      "     0     0   22.52775    0   28   22.52775   22.52775  0.00%     -  188s\n"
     ]
    },
    {
     "name": "stdout",
     "output_type": "stream",
     "text": [
      "\n"
     ]
    },
    {
     "name": "stdout",
     "output_type": "stream",
     "text": [
      "Explored 1 nodes (160352 simplex iterations) in 188.86 seconds (125.42 work units)\n"
     ]
    },
    {
     "name": "stdout",
     "output_type": "stream",
     "text": [
      "Thread count was 8 (of 8 available processors)\n"
     ]
    },
    {
     "name": "stdout",
     "output_type": "stream",
     "text": [
      "\n"
     ]
    },
    {
     "name": "stdout",
     "output_type": "stream",
     "text": [
      "Solution count 2: 22.5277 231.038 \n"
     ]
    },
    {
     "name": "stdout",
     "output_type": "stream",
     "text": [
      "\n"
     ]
    },
    {
     "name": "stdout",
     "output_type": "stream",
     "text": [
      "Optimal solution found (tolerance 1.00e-04)\n"
     ]
    },
    {
     "name": "stdout",
     "output_type": "stream",
     "text": [
      "Best objective 2.252774606549e+01, best bound 2.252774606549e+01, gap 0.0000%\n"
     ]
    }
   ],
   "source": [
    "model.optimize()"
   ]
  },
  {
   "cell_type": "markdown",
   "id": "c2bb0cfd-3f6e-4806-908c-628a86f4574f",
   "metadata": {
    "editable": true,
    "papermill": {
     "duration": 0.009945,
     "end_time": "2025-09-27T14:10:46.904276",
     "exception": false,
     "start_time": "2025-09-27T14:10:46.894331",
     "status": "completed"
    },
    "slideshow": {
     "slide_type": ""
    },
    "tags": []
   },
   "source": [
    "## Result Analysis"
   ]
  },
  {
   "cell_type": "code",
   "execution_count": 15,
   "id": "78f5ab5d-204b-48b6-bec9-9e2647d47855",
   "metadata": {
    "editable": true,
    "execution": {
     "iopub.execute_input": "2025-09-27T14:10:46.923921Z",
     "iopub.status.busy": "2025-09-27T14:10:46.923674Z",
     "iopub.status.idle": "2025-09-27T14:10:47.675353Z",
     "shell.execute_reply": "2025-09-27T14:10:47.674694Z"
    },
    "papermill": {
     "duration": 0.762749,
     "end_time": "2025-09-27T14:10:47.676581",
     "exception": false,
     "start_time": "2025-09-27T14:10:46.913832",
     "status": "completed"
    },
    "slideshow": {
     "slide_type": ""
    },
    "tags": []
   },
   "outputs": [],
   "source": [
    "# Compute cohesion:\n",
    "inside_w = dict()\n",
    "outside_w = dict()\n",
    "total_w = 0\n",
    "\n",
    "for i,j in G.edges():\n",
    "    total_w += G[i][j]['w']\n",
    "    for k in range(n_micros):\n",
    "        if z[i,j,k].x == 1: # Edge (i,j) is inside microservice k: sum the weight as inside\n",
    "            inside_w[k] = inside_w.get(k, 0) + G[i][j]['w']\n",
    "        if x[i,k].x == 1: # Edge (i,j) has its origin in k: sum the weigth as outside\n",
    "            outside_w[k] = outside_w.get(k, 0) + G[i][j]['w']\n",
    "\n",
    "cohesion_dict = dict()\n",
    "for k in range(n_micros):\n",
    "    cohesion_dict[k] = inside_w[k] / outside_w[k]\n",
    "\n",
    "cohesion = sum(cohesion_dict.values())/n_micros"
   ]
  },
  {
   "cell_type": "code",
   "execution_count": 16,
   "id": "b4f4589c-f9db-4123-89b3-9d1266b6297b",
   "metadata": {
    "editable": true,
    "execution": {
     "iopub.execute_input": "2025-09-27T14:10:47.694212Z",
     "iopub.status.busy": "2025-09-27T14:10:47.693979Z",
     "iopub.status.idle": "2025-09-27T14:10:47.817207Z",
     "shell.execute_reply": "2025-09-27T14:10:47.816701Z"
    },
    "papermill": {
     "duration": 0.132844,
     "end_time": "2025-09-27T14:10:47.818153",
     "exception": false,
     "start_time": "2025-09-27T14:10:47.685309",
     "status": "completed"
    },
    "slideshow": {
     "slide_type": ""
    },
    "tags": []
   },
   "outputs": [
    {
     "name": "stdout",
     "output_type": "stream",
     "text": [
      "Found 56 microservices\n",
      "Total coupling value: 22.52774606549042 (0.40228117974090033 avg.)\n",
      "Cohesion value: 0.9692237648609477\n",
      "\n",
      "Entities in Microservice 0:\n",
      "- CustomerAddressType\n",
      "- CustomerPhoneImpl\n",
      "- ItemOfferComparator\n",
      "- OrderOfferComparator\n",
      "- PromotionMessageType\n",
      "- StructuredContentCartRuleProcessor\n",
      "- PageCartRuleProcessor\n",
      "- FulfillmentBandResultAmountType\n",
      "- ProductOptionType\n",
      "- CheckoutStageType\n",
      "- GiftCardInfoForm\n",
      "- CheckoutForm\n",
      "- ProductHandlerMapping\n",
      "- SkuHandlerMapping\n",
      "- CategoryHandlerMapping\n",
      "- InfiniteExpiryPolicy\n",
      "- OneMinuteExpiryPolicy\n",
      "- TwentyFourHourExpiryPolicy\n",
      "- TwelveHourExpiryPolicy\n",
      "- DefaultExpiryPolicy\n",
      "- ThirtyMinuteExpiryPolicy\n",
      "- OneHourExpiryPolicy\n",
      "- TenMinuteExpiryPolicy\n",
      "- SiteResolutionType\n",
      "- ThreadLocalManager\n",
      "- TemplateType\n",
      "- PaymentLogEventType\n",
      "- ServerInfo\n",
      "- EmailServiceMDP\n",
      "- MessageCreator\n",
      "- NullMessageCreator\n",
      "- StructuredContentDTOWrapper\n",
      "- StructuredContentDTO\n",
      "- ItemCriteriaDTO\n",
      "- MinuteType\n",
      "- AutoImportSql\n",
      "- TransactionInfo\n",
      "- CompressedItem\n",
      "- LifecycleAwareJpaTransactionManager\n",
      "- TransactionLifecycleEvent\n",
      "- EntityInformationDto\n",
      "- PageDTO\n",
      "- NullPageDTO\n",
      "- BLCAbstractHandlerMapping\n",
      "- ResourceTagAttributes\n",
      "- ResourcesRequestBundle\n",
      "Entities in Microservice 1:\n",
      "- CustomerPaymentImpl\n",
      "- GeolocationDTO\n",
      "- SolrJSONFacet\n",
      "- ReindexStateHolder\n",
      "- ResourceInputStream\n",
      "- DynamicResourceIterator\n",
      "- MergeXmlConfigResource\n",
      "- MergeJPAPersistenceResource\n",
      "- GloballySharedInputStream\n",
      "- ServiceMonitor\n",
      "- ServiceStatusType\n",
      "- ResourceMinificationException\n",
      "- FileSystemResponseWrapper\n",
      "Entities in Microservice 2:\n",
      "- PhoneImpl\n",
      "- LegacyOfferUsesImpl\n",
      "- WeaveLegacyOfferUses\n",
      "- AccountNumberMask\n",
      "- UnmaskRange\n",
      "- SiteMapWrapper\n",
      "- SiteMapIndexWrapper\n",
      "Entities in Microservice 3:\n",
      "- StateImpl\n",
      "- FilterDefinition\n",
      "- FilterParameter\n",
      "- BroadleafFormType\n",
      "Entities in Microservice 4:\n",
      "- CountrySubdivisionImpl\n",
      "- BaseProcessor\n",
      "- MergePersistenceUnitManager\n",
      "- RemoveCacheClassTransformer\n",
      "- DirectCopyIgnorePattern\n",
      "- ConditionalFieldAnnotationsClassTransformer\n",
      "- OptionalDirectCopyClassTransformer\n",
      "- RemoveAnnotationClassTransformer\n",
      "- AnnotationsCopyClassTransformer\n",
      "- AbstractClassTransformer\n",
      "- DirectCopyClassTransformer\n",
      "- AlterTableNameClassTransformer\n",
      "- EntityMarkerClassTransformer\n",
      "- SingleTableInheritanceClassTransformer\n",
      "- SingleTableInheritanceInfo\n",
      "- SupportLogger\n",
      "- ProcessDetailLogger\n",
      "- DemoHsqlSingleLineSqlCommandExtractor\n",
      "- DemoPostgresSingleLineSqlCommandExtractor\n",
      "- DemoSqlServerSingleLineSqlCommandExtractor\n",
      "- DemoOracleSingleLineSqlCommandExtractor\n",
      "- SiteMapGeneratorType\n",
      "Entities in Microservice 5:\n",
      "- CustomerImpl\n",
      "- CustomerAddressImpl\n",
      "- OfferCodeImpl\n",
      "- OfferPriceDataImpl\n",
      "- OfferImpl\n",
      "- PromotionMessageImpl\n",
      "- OrderPaymentImpl\n",
      "- PaymentTransactionImpl\n",
      "- StoreImpl\n",
      "- ActivityMessageDTO\n",
      "- DiscreteOrderItemImpl\n",
      "- GiftWrapOrderItemImpl\n",
      "- BundleOrderItemImpl\n",
      "- OrderImpl\n",
      "- DynamicPriceDiscreteOrderItemImpl\n",
      "- OrderItemImpl\n",
      "- ProductBundleImpl\n",
      "- CategoryImpl\n",
      "- ProductImpl\n",
      "- DefaultProcessContextImpl\n",
      "- DefaultDynamicSkuPricingFilter\n",
      "- AbstractDynamicSkuPricingFilter\n",
      "- SiteImpl\n",
      "- CatalogImpl\n",
      "- Auditable\n",
      "- MultiTenantCopyContext\n",
      "- TQOrder\n",
      "- QueryUtils\n",
      "- TQRestriction\n",
      "- TQJoin\n",
      "- TypedQueryBuilder\n",
      "- MonthType\n",
      "- AbstractModuleConfiguration\n",
      "- WeaveArchiveStatus\n",
      "- PreviewStatus\n",
      "- ArchiveStatus\n",
      "- SiteMapConfigurationImpl\n",
      "- SandBoxImpl\n",
      "Entities in Microservice 6:\n",
      "- CountryImpl\n",
      "- NodeReplaceInsert\n",
      "- NonEmptyNodeReplaceInsert\n",
      "- SpaceDelimitedNodeValueMerge\n",
      "- SchemaLocationNodeValueMerge\n",
      "- NodeValueMerge\n",
      "- InsertChildrenOf\n",
      "- AttributePreserveInsert\n",
      "- LiberalNodeReplaceInsert\n",
      "- CommaDelimitedNodeValueMerge\n",
      "- BaseHandler\n",
      "- InsertItems\n",
      "- NodeReplace\n",
      "- MetadataOverrideNodeReplaceInsert\n",
      "Entities in Microservice 7:\n",
      "- AddressImpl\n",
      "Entities in Microservice 8:\n",
      "- ShippingRateImpl\n",
      "- CategorySiteMapGeneratorConfigurationImpl\n",
      "- CustomUrlSiteMapGeneratorConfigurationImpl\n",
      "- SiteMapGeneratorConfigurationImpl\n",
      "Entities in Microservice 9:\n",
      "- CodeTypeImpl\n",
      "Entities in Microservice 10:\n",
      "- CustomerOfferImpl\n",
      "Entities in Microservice 11:\n",
      "- OfferAuditImpl\n",
      "- Filter\n",
      "- PropertyFilter\n",
      "Entities in Microservice 12:\n",
      "- RatingType\n",
      "- RatingSortType\n",
      "- FrameworkXmlBeanDefinitionReader\n",
      "- MergeXmlBeanDefinitionReader\n",
      "Entities in Microservice 13:\n",
      "- ReviewDetailImpl\n",
      "- FullReindexCommand\n",
      "- IncrementalUpdateCommand\n",
      "- CatalogReindexCommand\n",
      "- SiteReindexCommand\n",
      "- AbstractSolrIndexUpdateServiceImpl\n",
      "- SolrUpdateCommand\n",
      "Entities in Microservice 14:\n",
      "- RatingSummaryImpl\n",
      "- CreditCardInfoForm\n",
      "- AbstractMergeBeanPostProcessor\n",
      "- EarlyStageMergeBeanPostProcessor\n",
      "- LateStageMergeBeanPostProcessor\n",
      "- ConditionalDirectCopyTransformMemberDto\n",
      "Entities in Microservice 15:\n",
      "- OrderStatus\n",
      "- CreditCardType\n",
      "- SiteMapPriorityType\n",
      "Entities in Microservice 16:\n",
      "- LastPaymentStatus\n",
      "- ShippingServiceType\n",
      "- ItemOfferQtyOneComparator\n",
      "- ItemOfferWeightedPercentComparator\n",
      "- FulfillmentGroupStatusType\n",
      "- CustomChallengeQuestionEditor\n",
      "- CustomerAddressForm\n",
      "- SMSMessage\n",
      "- SystemPropertyFieldType\n",
      "- ConditionalFieldAnnotationCopyTransformMemberDTO\n",
      "- SessionlessHttpServletRequestWrapper\n",
      "Entities in Microservice 17:\n",
      "- OrderItemType\n",
      "Entities in Microservice 18:\n",
      "- FulfillmentType\n",
      "- ProductBundlePricingModelType\n",
      "- DimensionUnitOfMeasureType\n",
      "Entities in Microservice 19:\n",
      "- BandedWeightFulfillmentOptionImpl\n",
      "- FixedPriceFulfillmentOptionImpl\n",
      "- BandedPriceFulfillmentOptionImpl\n",
      "- FulfillmentOptionImpl\n",
      "- AbstractRemoveBeanPostProcessor\n",
      "- EarlyStageRemoveBeanPostProcessor\n",
      "- LateStageRemoveBeanPostProcessor\n",
      "- DayOfWeekType\n",
      "- ContainerShapeType\n",
      "- SiteMapChangeFreqType\n",
      "Entities in Microservice 20:\n",
      "- ReviewStatusType\n",
      "- MessageType\n",
      "- FulfillmentGroupItemImpl\n",
      "Entities in Microservice 21:\n",
      "- NullOrderImpl\n",
      "Entities in Microservice 22:\n",
      "- LocaleType\n",
      "- FulfillmentGroupImpl\n",
      "Entities in Microservice 23:\n",
      "- SearchFacetImpl\n",
      "- AuditableListener\n",
      "- AbstractAuditableListener\n",
      "Entities in Microservice 24:\n",
      "- SearchCriteria\n",
      "- SearchResult\n",
      "- SearchFacetResultDTO\n",
      "- SearchFacetDTO\n",
      "Entities in Microservice 25:\n",
      "- IndexFieldImpl\n",
      "- PaymentDeclineType\n",
      "- BroadleafEnvironmentConfigurer\n",
      "- BroadleafEnvironmentConfiguringPostProcessor\n",
      "- BroadleafEnvironmentConfiguringApplicationListener\n",
      "Entities in Microservice 26:\n",
      "- SearchFacetRangeImpl\n",
      "Entities in Microservice 27:\n",
      "- IndexFieldTypeImpl\n",
      "- LocaleImpl\n",
      "- ISOCodeStatusType\n",
      "Entities in Microservice 28:\n",
      "- FieldEntity\n",
      "- HydrationDescriptor\n",
      "- EhcacheHydratedCacheManagerImpl\n",
      "- HydrationScanner\n",
      "- EhcacheHydratedCacheEventListener\n",
      "- AbstractHydratedCacheManager\n",
      "- HydrationItemDescriptor\n",
      "- BigMemoryHydratedCacheEventListener\n",
      "- BigMemoryHydratedCacheManagerImpl\n",
      "- EhcacheHydratedCacheJcacheEventListener\n",
      "- BigMemoryHydratedCacheJcacheEventListener\n",
      "- EmailPropertyType\n",
      "Entities in Microservice 29:\n",
      "- FieldImpl\n",
      "Entities in Microservice 30:\n",
      "- PromotionMessagePlacementType\n",
      "- FieldType\n",
      "Entities in Microservice 31:\n",
      "- RuleDTOConfig\n",
      "- SearchRedirectImpl\n",
      "- CookieRuleRequestProcessor\n",
      "- CookieRuleFilter\n",
      "- OnEhCacheMissingCondition\n",
      "- OnEhCacheCondition\n",
      "- AbstractBroadleafWebRequestProcessor\n",
      "- AbstractIgnorableOncePerRequestFilter\n",
      "Entities in Microservice 32:\n",
      "- TaxType\n",
      "- ParentCategoryByProduct\n",
      "- DayOfMonthType\n",
      "Entities in Microservice 33:\n",
      "- ParentCategoryByCategory\n",
      "- TableCreator\n",
      "Entities in Microservice 34:\n",
      "- SolrIndexCachedOperation\n",
      "- CatalogStructure\n",
      "- ConfigurationOnlyState\n",
      "Entities in Microservice 35:\n",
      "- ProductType\n",
      "Entities in Microservice 36:\n",
      "- RequiredAttributeNotProvidedException\n",
      "- ProductOptionValidationException\n",
      "- ProductOptionValidationType\n",
      "- Dimension\n",
      "- SkuImpl\n",
      "- Weight\n",
      "Entities in Microservice 37:\n",
      "- ProductOptionImpl\n",
      "- JCacheRegionConfiguration\n",
      "- MergeJCacheManagerFactoryBean\n",
      "- TranslationConsiderationContext\n",
      "Entities in Microservice 38:\n",
      "- ProductOptionXrefImpl\n",
      "- SystemSupportLoggerAdapter\n",
      "- AbstractSupportLoggerAdapter\n",
      "- SLF4JSupportLoggerAdapter\n",
      "- LifecycleAwareJDBCServicesInitiator\n",
      "Entities in Microservice 39:\n",
      "- AbstractPostUpdateCustomerExtensionHandler\n",
      "- AbstractResourcePurgeExtensionHandler\n",
      "- AbstractSiteMapExtensionHandler\n",
      "- AbstractOfferValueModifierExtensionHandler\n",
      "- AbstractOfferServiceExtensionHandler\n",
      "- PromotableOrderItemImpl\n",
      "- DefaultOfferCodeDaoExtensionHandler\n",
      "- AbstractValidateCheckoutActivityExtensionHandler\n",
      "- AbstractPostUpdateOrderExtensionHandler\n",
      "- AbstractOrderServiceExtensionHandler\n",
      "- AbstractMergeCartServiceExtensionHandler\n",
      "- AbstractOrderItemServiceExtensionHandler\n",
      "- AbstractValidateAddRequestActivityExtensionHandler\n",
      "- AbstractOrderDaoExtensionHandler\n",
      "- AbstractSolrSearchServiceExtensionHandler\n",
      "- AbstractSolrIndexServiceExtensionHandler\n",
      "- AbstractInventoryServiceExtensionHandler\n",
      "- AbstractCatalogServiceExtensionHandler\n",
      "- AbstractProductProcessorExtensionHandler\n",
      "- CategoryProductXrefImpl\n",
      "- AbstractCategoryDaoExtensionHandler\n",
      "- AbstractProductDaoExtensionHandler\n",
      "- AbstractSkuDaoExtensionHandler\n",
      "- AbstractAnonymousCustomerExtensionHandler\n",
      "- DefaultCustomerMergeExtensionHandler\n",
      "- AbstractUpdateCartServiceExtensionHandler\n",
      "- AbstractCacheKeyResolverExtensionHandler\n",
      "- AbstractLinkedDataGeneratorExtensionHandler\n",
      "- AbstractCheckoutControllerExtensionHandler\n",
      "- AbstractConfirmationControllerExtensionHandler\n",
      "- AbstractCartStateRequestProcessorExtensionHandler\n",
      "- AbstractAuthSuccessHandlerExtensionHandler\n",
      "- AbstractCommonAddressValidatorExtensionHandler\n",
      "- AbstractDatabaseResourceResolverExtensionHandler\n",
      "- AbstractSiteServiceExtensionHandler\n",
      "- AbstractTemplateOverrideExtensionHandler\n",
      "- AbstractExtensionHandler\n",
      "- AbstractMultiTenantCopierExtensionHandler\n",
      "- AbstractBroadleafMergeResourceExtensionHandler\n",
      "- AbstractSystemPropertyServiceExtensionHandler\n",
      "- AbstractEntityInformationServiceExtensionHandler\n",
      "- AbstractBroadleafTemplateResolverExtensionHandler\n",
      "- AbstractBLCICacheExtensionHandler\n",
      "- AbstractTRCreditCardExtensionHandler\n",
      "- AbstractCreditCardTypesExtensionHandler\n",
      "- AbstractPaymentGatewayFieldExtensionHandler\n",
      "- AbstractResourceRequestExtensionHandler\n",
      "Entities in Microservice 40:\n",
      "- FulfillmentBandImpl\n",
      "- FulfillmentPriceBandImpl\n",
      "- FulfillmentWeightBandImpl\n",
      "- ProductOptionValueImpl\n",
      "- ExplicitPrioritySequenceProcessor\n",
      "- EmptySequenceProcessor\n",
      "- SequenceProcessor\n",
      "- WebRequestDeviceType\n",
      "Entities in Microservice 41:\n",
      "- LegacyOrderServiceImpl\n",
      "- LegacyCartServiceImpl\n",
      "- SkuProductOptionValueXrefImpl\n",
      "Entities in Microservice 42:\n",
      "- AssignedProductOptionDTO\n",
      "- AbstractCartController\n",
      "- BroadleafCartController\n",
      "- BroadleafPaymentInfoController\n",
      "- BroadleafShippingInfoController\n",
      "- BroadleafOrderConfirmationController\n",
      "- BroadleafBillingInfoController\n",
      "- BroadleafCheckoutController\n",
      "- AbstractCheckoutController\n",
      "- BroadleafContactUsController\n",
      "- BroadleafUpdateAccountController\n",
      "- BroadleafManageCustomerAddressesController\n",
      "- BroadleafSocialRegisterController\n",
      "- BroadleafLoginController\n",
      "- BroadleafRegisterController\n",
      "- AbstractAccountController\n",
      "- BroadleafManageCustomerPaymentsController\n",
      "- AbstractCustomerAddressController\n",
      "- BroadleafChangePasswordController\n",
      "- BroadleafManageWishlistController\n",
      "- BroadleafOrderHistoryController\n",
      "- BroadleafSearchController\n",
      "- AbstractCatalogController\n",
      "- BroadleafCategoryController\n",
      "- BroadleafSkuController\n",
      "- BroadleafProductController\n",
      "- CustomerPaymentGatewayAbstractController\n",
      "- PaymentGatewayAbstractController\n",
      "- BroadleafAbstractController\n",
      "Entities in Microservice 43:\n",
      "- CustomerUserDetails\n",
      "- CustomerForgotPasswordSecurityTokenImpl\n",
      "- CustomerRoleImpl\n",
      "- CustomerAttributeImpl\n",
      "- CustomerRuleHolder\n",
      "- RegisterCustomerEvent\n",
      "- ForgotUsernameEvent\n",
      "- ForgotPasswordEvent\n",
      "- FulfillmentEstimationResponse\n",
      "- PricingException\n",
      "- OfferContext\n",
      "- PromotionDiscount\n",
      "- FulfillmentGroupOfferPotential\n",
      "- PromotionQualifierWrapper\n",
      "- CandidatePromotionItems\n",
      "- PromotionQualifier\n",
      "- PromotableCandidateOrderOfferImpl\n",
      "- PromotableOrderItemPriceDetailImpl\n",
      "- PromotableCandidateFulfillmentGroupOfferImpl\n",
      "- PromotableFulfillmentGroupAdjustmentImpl\n",
      "- PromotableOrderAdjustmentImpl\n",
      "- PromotableCandidateItemOfferImpl\n",
      "- AbstractPromotionRounding\n",
      "- PromotableOrderItemPriceDetailAdjustmentImpl\n",
      "- PromotableFulfillmentGroupImpl\n",
      "- PromotableOrderImpl\n",
      "- OfferDiscountType\n",
      "- CustomerMaxUsesStrategyType\n",
      "- OfferMaxUseExceededException\n",
      "- OfferException\n",
      "- OfferExpiredException\n",
      "- OfferAlreadyAddedException\n",
      "- OrderItemAdjustmentImpl\n",
      "- OrderItemPriceDetailAdjustmentImpl\n",
      "- PromotionMessageDTO\n",
      "- OrderPaymentStatus\n",
      "- PaymentProcessorException\n",
      "- InsufficientFundsException\n",
      "- CheckoutException\n",
      "- PricingServiceActivity\n",
      "- CompositeActivity\n",
      "- CheckoutSeed\n",
      "- AbstractOrderItemRequest\n",
      "- FulfillmentGroupItemRequest\n",
      "- AddToCartItems\n",
      "- ConfigurableOrderItemRequest\n",
      "- FulfillmentGroupRequest\n",
      "- ProductBundleOrderItemRequest\n",
      "- ReconstructCartResponse\n",
      "- OrderItemRequest\n",
      "- NonDiscreteOrderItemRequestDTO\n",
      "- DiscreteOrderItemRequest\n",
      "- BundleOrderItemRequest\n",
      "- GiftWrapOrderItemRequest\n",
      "- AddToCartItem\n",
      "- MergeCartResponse\n",
      "- UpdateCartResponse\n",
      "- OrderMultishipOptionDTO\n",
      "- OrderItemRequestDTO\n",
      "- UpdateCartException\n",
      "- MinQuantityNotFulfilledException\n",
      "- ItemNotFoundException\n",
      "- IllegalCartOperationException\n",
      "- RemoveFromCartException\n",
      "- AddToCartException\n",
      "- AbstractCheckAvailabilityActivity\n",
      "- CartOperationRequest\n",
      "- OrderAttributeImpl\n",
      "- OrderItemAttributeImpl\n",
      "- OrderPersistedEvent\n",
      "- OrderMultishipOptionImpl\n",
      "- OrderItemHolder\n",
      "- SolrConfiguration\n",
      "- BroadleafCloudSolrClient\n",
      "- FileSystemSolrIndexStatusProviderImpl\n",
      "- SolrSearchServiceImpl\n",
      "- GlobalSolrFullReIndexOperation\n",
      "- InventoryUnavailableException\n",
      "- InventoryType\n",
      "- SkuPricingConsiderationContext\n",
      "- DynamicSkuPrices\n",
      "- DefaultDynamicSkuPricingInvocationHandler\n",
      "- ProductOptionValidationStrategyType\n",
      "- SkuBundleItemImpl\n",
      "- RelatedProductTypeEnum\n",
      "- RelatedProductDTO\n",
      "- ProductBundleComparator\n",
      "- SkuPriceWrapper\n",
      "- WorkflowException\n",
      "- RollbackStateLocal\n",
      "- RollbackFailureException\n",
      "- CustomerLoggedInEvent\n",
      "- CustomerAuthenticatedFromCookieEvent\n",
      "- PhoneNameForm\n",
      "- RegisterCustomerForm\n",
      "- OrderInfoForm\n",
      "- BillingInfoForm\n",
      "- OrderMultishipOptionForm\n",
      "- ShippingInfoForm\n",
      "- PaymentInfoForm\n",
      "- CheckoutSectionDTO\n",
      "- CheckoutSectionViewType\n",
      "- CheckoutSectionStateType\n",
      "- OrderLockAcquisitionFailureException\n",
      "- CleanStringException\n",
      "- StaleStateServiceException\n",
      "- PasswordChange\n",
      "- PasswordReset\n",
      "- DynamicSupportedFieldType\n",
      "- ExtensionResultHolder\n",
      "- GenericResponse\n",
      "- StopWatch\n",
      "- PaymentGatewayRequestType\n",
      "- PaymentTransactionType\n",
      "- PaymentGatewayType\n",
      "- PaymentType\n",
      "- PaymentRequestDTO\n",
      "- LineItemDTO\n",
      "- PaymentResponseDTO\n",
      "- Money\n",
      "- EmailInfo\n",
      "- NullEmailInfo\n",
      "- EmailException\n",
      "- Attachment\n",
      "- EmailStatusHandler\n",
      "- FulfillmentPriceException\n",
      "- PaymentException\n",
      "- FulfillmentPriceHostException\n",
      "- ItemsFulfilledEvent\n",
      "- BroadleafApplicationEvent\n",
      "- ReindexEvent\n",
      "- BroadleafSystemEventDetail\n",
      "- ItemsReturnedEvent\n",
      "- OrderSubmittedEvent\n",
      "- ItemsCancelledEvent\n",
      "- BroadleafSystemEvent\n",
      "- EmailNotification\n",
      "- SMSNotification\n",
      "- Notification\n",
      "- BroadleafException\n",
      "- ServiceException\n",
      "- SecurityServiceException\n",
      "Entities in Microservice 44:\n",
      "- IndexStatusInfoImpl\n",
      "- StandardCacheItem\n",
      "- ContainerSizeType\n",
      "Entities in Microservice 45:\n",
      "- NonPersistentSiteThreadLocalCache\n",
      "- StreamCapableTransactionalOperationAdapter\n",
      "- TargetModeType\n",
      "Entities in Microservice 46:\n",
      "- BatchRetrieveDao\n",
      "Entities in Microservice 47:\n",
      "- AddressVerificationException\n",
      "- CustomerPersistedEvent\n",
      "- ModuleConfigurationType\n",
      "- TaxHostException\n",
      "- TaxException\n",
      "- CacheAwareResponseHandler\n",
      "- BroadleafResourceHttpRequestHandler\n",
      "Entities in Microservice 48:\n",
      "- NullSystemProperty\n",
      "Entities in Microservice 49:\n",
      "- SystemPropertyImpl\n",
      "Entities in Microservice 50:\n",
      "- SandBoxManagementImpl\n",
      "Entities in Microservice 51:\n",
      "- ORMConfigDto\n",
      "- ORMConfigPersistenceUnitPostProcessor\n",
      "- SandBoxType\n",
      "Entities in Microservice 52:\n",
      "- CacheStat\n",
      "- LocalePair\n",
      "- TranslatedEntity\n",
      "Entities in Microservice 53:\n",
      "- XssRequestWrapper\n",
      "- TranslationImpl\n",
      "Entities in Microservice 54:\n",
      "- HourOfDayType\n",
      "- ISOCountryImpl\n",
      "Entities in Microservice 55:\n",
      "- OfferAdjustmentType\n",
      "- OfferTimeZoneType\n",
      "- OfferType\n",
      "- StackabilityType\n",
      "- OfferItemRestrictionRuleType\n",
      "- OfferRuleType\n",
      "- OfferProrationType\n",
      "- OfferPriceDataIdentifierType\n",
      "- AvailabilityStatusType\n",
      "- CatalogContextDTO\n",
      "- SkuActiveDateConsiderationContext\n",
      "- SkuFeeType\n",
      "- RequestDTOImpl\n",
      "- NoOpCache\n",
      "- NoOpCacheManager\n",
      "- FileServiceException\n",
      "- FileApplicationType\n",
      "- FileWorkArea\n",
      "- BreadcrumbDTO\n",
      "- BreadcrumbDTOType\n",
      "- WeightUnitOfMeasureType\n",
      "- IdentityUtilContext\n",
      "- PaymentAdditionalFieldType\n",
      "- FixedTimeSource\n",
      "- BroadleafRequestedCurrencyDto\n",
      "- SiteMapURLSetWrapper\n",
      "- SiteMapURLWrapper\n",
      "- SiteMapImageWrapper\n",
      "- SiteMapGenerationResponse\n",
      "- SiteMapBuilder\n",
      "- GeneratedResource\n",
      "- BundledResourceInfo\n",
      "- BroadleafRequestContext\n",
      "- SandBoxContext\n",
      "- BroadleafDefaultResourceResolverChain\n",
      "- HaltFilterChainException\n",
      "\n",
      "\n",
      "\n",
      "# of method calls crossing microservices: 67\n",
      "# of entity references crossing microservices: 2\n",
      "# of entity usages crossing microservices: 35\n",
      "# of methods persisting entities of other microservices: 71\n"
     ]
    },
    {
     "data": {
      "application/scrapbook.scrap.json+json": {
       "data": 56,
       "encoder": "json",
       "name": "n_micros",
       "version": 1
      }
     },
     "metadata": {
      "scrapbook": {
       "data": true,
       "display": false,
       "name": "n_micros"
      }
     },
     "output_type": "display_data"
    },
    {
     "data": {
      "application/scrapbook.scrap.json+json": {
       "data": 0.40228117974090033,
       "encoder": "json",
       "name": "avg_cop",
       "version": 1
      }
     },
     "metadata": {
      "scrapbook": {
       "data": true,
       "display": false,
       "name": "avg_cop"
      }
     },
     "output_type": "display_data"
    },
    {
     "data": {
      "application/scrapbook.scrap.json+json": {
       "data": 0.9692237648609477,
       "encoder": "json",
       "name": "cohesion",
       "version": 1
      }
     },
     "metadata": {
      "scrapbook": {
       "data": true,
       "display": false,
       "name": "cohesion"
      }
     },
     "output_type": "display_data"
    },
    {
     "data": {
      "application/scrapbook.scrap.json+json": {
       "data": 67,
       "encoder": "json",
       "name": "n_calls",
       "version": 1
      }
     },
     "metadata": {
      "scrapbook": {
       "data": true,
       "display": false,
       "name": "n_calls"
      }
     },
     "output_type": "display_data"
    },
    {
     "data": {
      "application/scrapbook.scrap.json+json": {
       "data": 2,
       "encoder": "json",
       "name": "n_refs",
       "version": 1
      }
     },
     "metadata": {
      "scrapbook": {
       "data": true,
       "display": false,
       "name": "n_refs"
      }
     },
     "output_type": "display_data"
    },
    {
     "data": {
      "application/scrapbook.scrap.json+json": {
       "data": 35,
       "encoder": "json",
       "name": "n_uses",
       "version": 1
      }
     },
     "metadata": {
      "scrapbook": {
       "data": true,
       "display": false,
       "name": "n_uses"
      }
     },
     "output_type": "display_data"
    },
    {
     "data": {
      "application/scrapbook.scrap.json+json": {
       "data": 71,
       "encoder": "json",
       "name": "n_persist",
       "version": 1
      }
     },
     "metadata": {
      "scrapbook": {
       "data": true,
       "display": false,
       "name": "n_persist"
      }
     },
     "output_type": "display_data"
    },
    {
     "data": {
      "application/scrapbook.scrap.json+json": {
       "data": 588.5364712958709,
       "encoder": "json",
       "name": "total_w",
       "version": 1
      }
     },
     "metadata": {
      "scrapbook": {
       "data": true,
       "display": false,
       "name": "total_w"
      }
     },
     "output_type": "display_data"
    }
   ],
   "source": [
    "show_methods = False\n",
    "\n",
    "analysis_output = \"\"\n",
    "\n",
    "analysis_output += f'Found {str(n_micros)} microservices\\n'\n",
    "\n",
    "analysis_output += f'Total coupling value: {model.objVal} ({model.objVal/n_micros} avg.)\\n'\n",
    "analysis_output += f'Cohesion value: {cohesion}\\n\\n'\n",
    "\n",
    "for k in range(n_micros):\n",
    "    analysis_output += f'Entities in Microservice {str(k)}:\\n'\n",
    "    for i in G.nodes():\n",
    "        if G.nodes[i]['type'] == 'Entity' and x[i,k].x == 1:\n",
    "            analysis_output += f'- {G.nodes[i][\"name\"]}\\n'\n",
    "\n",
    "if show_methods:\n",
    "    for k in range(n_micros):\n",
    "        analysis_output += f'\\n\\nMethods in Microservice {str(k)}:\\n'\n",
    "        for i in G.nodes():\n",
    "            if G.nodes[i]['type'] == 'Method' and x[i,k].x == 1:\n",
    "                analysis_output += f'- {G.nodes[i][\"name\"]} ({G.nodes[i][\"class_name\"]})\\n'\n",
    "\n",
    "mcalls = 0\n",
    "references = 0\n",
    "uses = 0\n",
    "persists = 0\n",
    "\n",
    "for i,j in G.edges():\n",
    "    if y[i,j].x == 0:\n",
    "        if G[i][j]['rel_type'] == 'Calls':\n",
    "            mcalls += 1 \n",
    "        elif G[i][j]['rel_type'] == 'References':\n",
    "            references += 1\n",
    "        elif G[i][j]['rel_type'] == 'Uses':\n",
    "            uses += 1\n",
    "        elif G[i][j]['rel_type'] == 'Persists':\n",
    "            persists += 1\n",
    "\n",
    "analysis_output += f'\\n\\n\\n# of method calls crossing microservices: {mcalls}'\n",
    "analysis_output += f'\\n# of entity references crossing microservices: {references}'\n",
    "analysis_output += f'\\n# of entity usages crossing microservices: {uses}'\n",
    "analysis_output += f'\\n# of methods persisting entities of other microservices: {persists}'\n",
    "\n",
    "print(analysis_output)\n",
    "\n",
    "sb.glue(\"n_micros\", n_micros)\n",
    "sb.glue(\"avg_cop\", model.objVal/n_micros)\n",
    "sb.glue(\"cohesion\", cohesion)\n",
    "sb.glue(\"n_calls\", mcalls)\n",
    "sb.glue(\"n_refs\", references)\n",
    "sb.glue(\"n_uses\", uses)\n",
    "sb.glue(\"n_persist\", persists)\n",
    "sb.glue(\"total_w\", total_w)\n",
    "\n",
    "with open(analysis_out, 'w') as analysis_file:\n",
    "    analysis_file.write(analysis_output)"
   ]
  },
  {
   "cell_type": "code",
   "execution_count": 17,
   "id": "3519b123-a48c-4070-ab5f-b17393c76ad2",
   "metadata": {
    "editable": true,
    "execution": {
     "iopub.execute_input": "2025-09-27T14:10:47.836451Z",
     "iopub.status.busy": "2025-09-27T14:10:47.836200Z",
     "iopub.status.idle": "2025-09-27T14:10:48.077471Z",
     "shell.execute_reply": "2025-09-27T14:10:48.076844Z"
    },
    "papermill": {
     "duration": 0.251611,
     "end_time": "2025-09-27T14:10:48.078657",
     "exception": false,
     "start_time": "2025-09-27T14:10:47.827046",
     "status": "completed"
    },
    "slideshow": {
     "slide_type": ""
    },
    "tags": []
   },
   "outputs": [],
   "source": [
    "with open(solution_csv_out, 'w') as results_csv:\n",
    "    results_csv.write('node_key,microservice\\n')\n",
    "    counter = 0\n",
    "    for i in G.nodes():\n",
    "        for k in range(n_micros):\n",
    "            if x[i,k].x == 1:\n",
    "                results_csv.write(f'{i},{k}\\n')\n",
    "                counter+=1\n",
    "    \n",
    "    if counter!=len(G.nodes()):\n",
    "        print('Error! There are nodes not assigned into microservices?!')"
   ]
  },
  {
   "cell_type": "code",
   "execution_count": 18,
   "id": "6e8cfeef-174f-4742-ac5f-4862676bad36",
   "metadata": {
    "editable": true,
    "execution": {
     "iopub.execute_input": "2025-09-27T14:10:48.097658Z",
     "iopub.status.busy": "2025-09-27T14:10:48.097459Z",
     "iopub.status.idle": "2025-09-27T14:10:48.100189Z",
     "shell.execute_reply": "2025-09-27T14:10:48.099641Z"
    },
    "papermill": {
     "duration": 0.013007,
     "end_time": "2025-09-27T14:10:48.101135",
     "exception": false,
     "start_time": "2025-09-27T14:10:48.088128",
     "status": "completed"
    },
    "slideshow": {
     "slide_type": ""
    },
    "tags": []
   },
   "outputs": [],
   "source": [
    "if not headless:\n",
    "    DrawSol(G, x, graph_image_out)\n",
    "    \n",
    "    display(Image(filename = graph_image_out))"
   ]
  }
 ],
 "metadata": {
  "kernelspec": {
   "display_name": "Python 3 (ipykernel)",
   "language": "python",
   "name": "python3"
  },
  "language_info": {
   "codemirror_mode": {
    "name": "ipython",
    "version": 3
   },
   "file_extension": ".py",
   "mimetype": "text/x-python",
   "name": "python",
   "nbconvert_exporter": "python",
   "pygments_lexer": "ipython3",
   "version": "3.12.3"
  },
  "papermill": {
   "default_parameters": {},
   "duration": 277.102022,
   "end_time": "2025-09-27T14:10:48.934216",
   "environment_variables": {},
   "exception": null,
   "input_path": "2-Decomposition_optimization.ipynb",
   "output_path": "outputs/output_step_2_broadleaf-commerce.ipynb",
   "parameters": {
    "headless": true,
    "project": "broadleaf-commerce",
    "w": {
     "Calls": 0.12714116762017086,
     "Extends": 0.2356367192771779,
     "Persists": 0.10225667333744559,
     "References": 0.36287049587190146,
     "Uses": 0.1720949438933041
    }
   },
   "start_time": "2025-09-27T14:06:11.832194",
   "version": "2.6.0"
  },
  "vscode": {
   "interpreter": {
    "hash": "84d57bcf988df7741739090f92038d55c89d5ee4bebfcc0bea6a6c98a16573ca"
   }
  }
 },
 "nbformat": 4,
 "nbformat_minor": 5
}