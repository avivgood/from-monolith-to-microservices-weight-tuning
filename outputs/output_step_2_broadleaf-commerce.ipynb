{
 "cells": [
  {
   "cell_type": "code",
   "execution_count": 1,
   "id": "63ce5fa3-e2cb-4565-ba94-8fa943d68162",
   "metadata": {
    "editable": true,
    "execution": {
     "iopub.execute_input": "2025-09-27T04:15:23.505427Z",
     "iopub.status.busy": "2025-09-27T04:15:23.503290Z",
     "iopub.status.idle": "2025-09-27T04:15:35.765774Z",
     "shell.execute_reply": "2025-09-27T04:15:35.764370Z"
    },
    "papermill": {
     "duration": 12.282372,
     "end_time": "2025-09-27T04:15:35.767941",
     "exception": false,
     "start_time": "2025-09-27T04:15:23.485569",
     "status": "completed"
    },
    "slideshow": {
     "slide_type": ""
    },
    "tags": []
   },
   "outputs": [],
   "source": [
    "#!/usr/bin/env python\n",
    "import scrapbook as sb\n",
    "import networkx as nx\n",
    "import pygraphviz as pygv\n",
    "import gurobipy as gb\n",
    "import json\n",
    "from community import community_louvain\n",
    "from IPython.display import Image, display\n",
    "\n",
    "def DrawSol (G, x, filename):\n",
    "    global n_micros\n",
    "\n",
    "    DrawG = pygv.AGraph(directed=True, strict='true', splines='true')\n",
    "\n",
    "    colors = ['green', 'blue', 'red', 'orange', 'yellow', 'purple', 'black', 'gray', 'cyan', 'brown', 'hotpink', 'navy', 'darkgreen', 'chocolate', 'deeppink', 'firebrick', 'gold', 'orchid', 'gold4']\n",
    "    \n",
    "    for i in G.nodes():\n",
    "        if G.nodes[i]['type'] == 'Entity':\n",
    "            shape='hexagon'\n",
    "        else:\n",
    "            shape='circle'\n",
    "\n",
    "        for k in range(n_micros):\n",
    "            if x[i,k].x == 1:\n",
    "                # Get cluster number k\n",
    "                if k<len(colors):\n",
    "                    color=colors[k]\n",
    "                else:\n",
    "                    color = 'black'\n",
    "        DrawG.add_node (i, color=color, shape=shape, width=0.1, fontsize=9, label=G.nodes[i]['name'])\n",
    "\n",
    "    for i in G.edges():\n",
    "        edge_color = 'black' if G[i[0]][i[1]]['rel_type'] in ['Calls','Persists', 'References'] else 'gray'\n",
    "        DrawG.add_edge(i[0], i[1], color=edge_color, label=G[i[0]][i[1]]['rel_type'], fontsize='8')\n",
    "        \n",
    "    DrawG.layout(prog='dot')\n",
    "    DrawG.draw(filename)"
   ]
  },
  {
   "cell_type": "markdown",
   "id": "e3e92b53-40f6-4740-8a99-c40877eb9681",
   "metadata": {
    "editable": true,
    "papermill": {
     "duration": 0.023853,
     "end_time": "2025-09-27T04:15:35.812087",
     "exception": false,
     "start_time": "2025-09-27T04:15:35.788234",
     "status": "completed"
    },
    "slideshow": {
     "slide_type": ""
    },
    "tags": []
   },
   "source": [
    "### _Configuration!_\n",
    "\n",
    "Keep the project list up-to-date and select the project to be analyzed"
   ]
  },
  {
   "cell_type": "markdown",
   "id": "369f6589-5ded-4162-85ea-3c37b9026765",
   "metadata": {
    "editable": true,
    "papermill": {
     "duration": 0.017486,
     "end_time": "2025-09-27T04:15:35.856801",
     "exception": false,
     "start_time": "2025-09-27T04:15:35.839315",
     "status": "completed"
    },
    "slideshow": {
     "slide_type": ""
    },
    "tags": []
   },
   "source": [
    "### _User input required!_\n",
    "\n",
    "Update, if needed the default weigth of the edges"
   ]
  },
  {
   "cell_type": "code",
   "execution_count": 2,
   "id": "05c7e2d2-7f39-4109-a665-36a40e5be7de",
   "metadata": {
    "editable": true,
    "execution": {
     "iopub.execute_input": "2025-09-27T04:15:35.912817Z",
     "iopub.status.busy": "2025-09-27T04:15:35.908023Z",
     "iopub.status.idle": "2025-09-27T04:15:35.923096Z",
     "shell.execute_reply": "2025-09-27T04:15:35.921893Z"
    },
    "papermill": {
     "duration": 0.048294,
     "end_time": "2025-09-27T04:15:35.926858",
     "exception": false,
     "start_time": "2025-09-27T04:15:35.878564",
     "status": "completed"
    },
    "slideshow": {
     "slide_type": ""
    },
    "tags": [
     "parameters"
    ]
   },
   "outputs": [],
   "source": [
    "project = 'jpetstore' # <-- Set this variable!\n",
    "# Weighting edges:\n",
    "w = dict()\n",
    "w['Calls']=0.8\n",
    "w['Persists']=1\n",
    "w['Uses']=0.6\n",
    "w['References']=0.2\n",
    "w['Extends']=0\n",
    "headless = False"
   ]
  },
  {
   "cell_type": "code",
   "execution_count": 3,
   "id": "4c47ac6f",
   "metadata": {
    "execution": {
     "iopub.execute_input": "2025-09-27T04:15:35.978420Z",
     "iopub.status.busy": "2025-09-27T04:15:35.977918Z",
     "iopub.status.idle": "2025-09-27T04:15:35.990615Z",
     "shell.execute_reply": "2025-09-27T04:15:35.989358Z"
    },
    "papermill": {
     "duration": 0.046164,
     "end_time": "2025-09-27T04:15:35.994057",
     "exception": false,
     "start_time": "2025-09-27T04:15:35.947893",
     "status": "completed"
    },
    "tags": [
     "injected-parameters"
    ]
   },
   "outputs": [],
   "source": [
    "# Parameters\n",
    "project = \"broadleaf-commerce\"\n",
    "w = {\"Calls\": 0.3502793904700223, \"Persists\": 0.261108188312347, \"References\": 0.05352974055867549, \"Extends\": 0.055467447464847164, \"Uses\": 0.2796152331941081}\n",
    "headless = True\n"
   ]
  },
  {
   "cell_type": "code",
   "execution_count": 4,
   "id": "654afedb-2f70-4c65-b23e-5e01c98d8d13",
   "metadata": {
    "editable": true,
    "execution": {
     "iopub.execute_input": "2025-09-27T04:15:36.040278Z",
     "iopub.status.busy": "2025-09-27T04:15:36.039859Z",
     "iopub.status.idle": "2025-09-27T04:15:36.055302Z",
     "shell.execute_reply": "2025-09-27T04:15:36.054140Z"
    },
    "papermill": {
     "duration": 0.039741,
     "end_time": "2025-09-27T04:15:36.057704",
     "exception": false,
     "start_time": "2025-09-27T04:15:36.017963",
     "status": "completed"
    },
    "slideshow": {
     "slide_type": ""
    },
    "tags": []
   },
   "outputs": [],
   "source": [
    "\n",
    "\n",
    "with open('projects.json', 'r') as projects:\n",
    "    project_found = False\n",
    "    for data in json.load(projects):\n",
    "        if data['name'] == project:\n",
    "            analysis_results_basedir = data['analysis_results_basedir']\n",
    "            project_found = True\n",
    "    if not project_found:\n",
    "        print('ERROR: project ' + project + ' does not appear in project.json')"
   ]
  },
  {
   "cell_type": "code",
   "execution_count": 5,
   "id": "c9f2f54d-61ce-4b68-a80a-68b94ef0ce32",
   "metadata": {
    "editable": true,
    "execution": {
     "iopub.execute_input": "2025-09-27T04:15:36.096049Z",
     "iopub.status.busy": "2025-09-27T04:15:36.090536Z",
     "iopub.status.idle": "2025-09-27T04:15:36.107773Z",
     "shell.execute_reply": "2025-09-27T04:15:36.102251Z"
    },
    "papermill": {
     "duration": 0.042266,
     "end_time": "2025-09-27T04:15:36.111776",
     "exception": false,
     "start_time": "2025-09-27T04:15:36.069510",
     "status": "completed"
    },
    "slideshow": {
     "slide_type": ""
    },
    "tags": []
   },
   "outputs": [],
   "source": [
    "# Set output names\n",
    "\n",
    "graph_in = analysis_results_basedir + project + '_graph.gml'\n",
    "communities_out = analysis_results_basedir + project + '_communities.csv'\n",
    "formulation_out = analysis_results_basedir + project + '_communities_improved_optimization.lp'\n",
    "solution_csv_out = analysis_results_basedir + project + '_sol_communities_improved_optimization.csv'\n",
    "graph_image_out = analysis_results_basedir + project + '_sol_communities_improved_optimization.png'\n",
    "analysis_out = analysis_results_basedir + project + '_sol_communities_improved_optimization.txt'"
   ]
  },
  {
   "cell_type": "code",
   "execution_count": 6,
   "id": "5c2c34a6-0072-4335-aa24-5592aa2b0eb7",
   "metadata": {
    "editable": true,
    "execution": {
     "iopub.execute_input": "2025-09-27T04:15:36.164579Z",
     "iopub.status.busy": "2025-09-27T04:15:36.164068Z",
     "iopub.status.idle": "2025-09-27T04:15:36.733900Z",
     "shell.execute_reply": "2025-09-27T04:15:36.729540Z"
    },
    "papermill": {
     "duration": 0.599663,
     "end_time": "2025-09-27T04:15:36.736371",
     "exception": false,
     "start_time": "2025-09-27T04:15:36.136708",
     "status": "completed"
    },
    "slideshow": {
     "slide_type": ""
    },
    "tags": []
   },
   "outputs": [],
   "source": [
    "# Import graph\n",
    "\n",
    "G = nx.read_graphml(graph_in)"
   ]
  },
  {
   "cell_type": "code",
   "execution_count": 7,
   "id": "dce09914-e79b-4094-8343-eb55557825f3",
   "metadata": {
    "editable": true,
    "execution": {
     "iopub.execute_input": "2025-09-27T04:15:36.782553Z",
     "iopub.status.busy": "2025-09-27T04:15:36.779022Z",
     "iopub.status.idle": "2025-09-27T04:15:36.816181Z",
     "shell.execute_reply": "2025-09-27T04:15:36.813415Z"
    },
    "papermill": {
     "duration": 0.066151,
     "end_time": "2025-09-27T04:15:36.820218",
     "exception": false,
     "start_time": "2025-09-27T04:15:36.754067",
     "status": "completed"
    },
    "slideshow": {
     "slide_type": ""
    },
    "tags": []
   },
   "outputs": [],
   "source": [
    "# Add edge weights\n",
    "\n",
    "for (i, j) in G.edges():\n",
    "    G[i][j]['w'] = w[G[i][j]['rel_type']]"
   ]
  },
  {
   "cell_type": "markdown",
   "id": "c98c18d6-f80e-47f3-91bd-258d444d2d08",
   "metadata": {
    "editable": true,
    "papermill": {
     "duration": 0.016654,
     "end_time": "2025-09-27T04:15:36.853208",
     "exception": false,
     "start_time": "2025-09-27T04:15:36.836554",
     "status": "completed"
    },
    "slideshow": {
     "slide_type": ""
    },
    "tags": []
   },
   "source": [
    "## Find communities"
   ]
  },
  {
   "cell_type": "code",
   "execution_count": 8,
   "id": "b1205d9e-4492-4c2d-8034-52c4323b3a20",
   "metadata": {
    "editable": true,
    "execution": {
     "iopub.execute_input": "2025-09-27T04:15:36.890552Z",
     "iopub.status.busy": "2025-09-27T04:15:36.889815Z",
     "iopub.status.idle": "2025-09-27T04:15:37.992399Z",
     "shell.execute_reply": "2025-09-27T04:15:37.991263Z"
    },
    "papermill": {
     "duration": 1.121018,
     "end_time": "2025-09-27T04:15:37.994395",
     "exception": false,
     "start_time": "2025-09-27T04:15:36.873377",
     "status": "completed"
    },
    "slideshow": {
     "slide_type": ""
    },
    "tags": []
   },
   "outputs": [],
   "source": [
    "H = nx.Graph(G) # create an undirected graph H from a directed graph G\n",
    "\n",
    "# compute the best partition\n",
    "communities = community_louvain.best_partition(H, weight='w')\n",
    "\n",
    "# write communities on file\n",
    "with open(communities_out, 'w') as csv_file:\n",
    "    csv_file.write('node, cluster/community\\n')\n",
    "    for node in communities:\n",
    "        csv_file.write(f'{node},{communities[node]}\\n')"
   ]
  },
  {
   "cell_type": "markdown",
   "id": "e6627e68-4939-4275-8ed8-43a323b64d2e",
   "metadata": {
    "editable": true,
    "papermill": {
     "duration": 0.017917,
     "end_time": "2025-09-27T04:15:38.022539",
     "exception": false,
     "start_time": "2025-09-27T04:15:38.004622",
     "status": "completed"
    },
    "slideshow": {
     "slide_type": ""
    },
    "tags": []
   },
   "source": [
    "## Find communities for the entity subgraph"
   ]
  },
  {
   "cell_type": "code",
   "execution_count": 9,
   "id": "476f02c9-d605-4213-8225-951cd9beb7e5",
   "metadata": {
    "editable": true,
    "execution": {
     "iopub.execute_input": "2025-09-27T04:15:38.043794Z",
     "iopub.status.busy": "2025-09-27T04:15:38.043367Z",
     "iopub.status.idle": "2025-09-27T04:15:39.457459Z",
     "shell.execute_reply": "2025-09-27T04:15:39.456710Z"
    },
    "papermill": {
     "duration": 1.426894,
     "end_time": "2025-09-27T04:15:39.459191",
     "exception": false,
     "start_time": "2025-09-27T04:15:38.032297",
     "status": "completed"
    },
    "slideshow": {
     "slide_type": ""
    },
    "tags": []
   },
   "outputs": [
    {
     "name": "stdout",
     "output_type": "stream",
     "text": [
      "Community 128:\n",
      " - SkuProductOptionValueXrefImpl (id:322)\n",
      "Community 132:\n",
      " - AssignedProductOptionDTO (id:328)\n",
      "Community 5:\n",
      " - CustomerPhoneImpl (id:7)\n",
      "Community 6:\n",
      " - CustomerPaymentImpl (id:9)\n",
      "Community 9:\n",
      " - PhoneImpl (id:12)\n",
      "Community 11:\n",
      " - StateImpl (id:15)\n",
      "Community 12:\n",
      " - CountrySubdivisionImpl (id:16)\n",
      "Community 16:\n",
      " - CountryImpl (id:24)\n",
      "Community 17:\n",
      " - CustomerAddressImpl (id:25)\n",
      " - OfferCodeImpl (id:100)\n",
      " - OfferImpl (id:110)\n",
      " - OrderPaymentImpl (id:130)\n",
      " - PaymentTransactionImpl (id:132)\n",
      " - StoreImpl (id:151)\n",
      " - CategoryImpl (id:306)\n",
      " - ProductImpl (id:320)\n",
      " - SiteImpl (id:530)\n",
      " - CatalogImpl (id:531)\n",
      " - SandBoxImpl (id:823)\n",
      "Community 18:\n",
      " - AddressImpl (id:27)\n",
      "Community 24:\n",
      " - ShippingRateImpl (id:47)\n",
      "Community 26:\n",
      " - CodeTypeImpl (id:55)\n",
      "Community 48:\n",
      " - CustomerOfferImpl (id:107)\n",
      "Community 49:\n",
      " - OfferAuditImpl (id:114)\n",
      "Community 54:\n",
      " - RatingType (id:137)\n",
      "Community 57:\n",
      " - ReviewDetailImpl (id:140)\n",
      "Community 58:\n",
      " - RatingSummaryImpl (id:141)\n",
      "Community 187:\n",
      " - ExtensionResultHolder (id:588)\n",
      "Community 188:\n",
      " - StandardCacheItem (id:590)\n",
      "Community 61:\n",
      " - FulfillmentOptionImpl (id:213)\n",
      "Community 65:\n",
      " - OrderStatus (id:168)\n",
      "Community 66:\n",
      " - FulfillmentGroupStatusType (id:169)\n",
      "Community 67:\n",
      " - OrderItemType (id:170)\n",
      "Community 68:\n",
      " - FulfillmentType (id:171)\n",
      "Community 196:\n",
      " - StreamCapableTransactionalOperationAdapter (id:627)\n",
      "Community 200:\n",
      " - BatchRetrieveDao (id:662)\n",
      "Community 85:\n",
      " - CustomerImpl (id:23)\n",
      " - OrderImpl (id:220)\n",
      " - OrderItemImpl (id:229)\n",
      " - AbstractModuleConfiguration (id:760)\n",
      "Community 88:\n",
      " - FulfillmentGroupItemImpl (id:218)\n",
      "Community 90:\n",
      " - NullOrderImpl (id:223)\n",
      "Community 91:\n",
      " - FulfillmentGroupImpl (id:227)\n",
      "Community 222:\n",
      " - ModuleConfigurationType (id:759)\n",
      "Community 223:\n",
      " - NullSystemProperty (id:761)\n",
      "Community 224:\n",
      " - SystemPropertyImpl (id:762)\n",
      "Community 97:\n",
      " - CatalogStructure (id:279)\n",
      "Community 99:\n",
      " - SearchFacetImpl (id:260)\n",
      "Community 100:\n",
      " - SearchCriteria (id:261)\n",
      "Community 102:\n",
      " - IndexFieldImpl (id:264)\n",
      "Community 103:\n",
      " - SearchFacetRangeImpl (id:267)\n",
      "Community 104:\n",
      " - IndexFieldTypeImpl (id:270)\n",
      "Community 105:\n",
      " - FieldEntity (id:271)\n",
      "Community 106:\n",
      " - FieldImpl (id:273)\n",
      "Community 107:\n",
      " - FieldType (id:274)\n",
      "Community 108:\n",
      " - SearchRedirectImpl (id:275)\n",
      "Community 109:\n",
      " - ParentCategoryByProduct (id:276)\n",
      "Community 110:\n",
      " - ParentCategoryByCategory (id:278)\n",
      "Community 251:\n",
      " - TranslatedEntity (id:853)\n",
      "Community 243:\n",
      " - SandBoxManagementImpl (id:822)\n",
      "Community 244:\n",
      " - SandBoxType (id:824)\n",
      "Community 252:\n",
      " - TranslationImpl (id:854)\n",
      "Community 118:\n",
      " - ProductType (id:295)\n",
      "Community 254:\n",
      " - BroadleafRequestContext (id:863)\n",
      "Community 253:\n",
      " - ISOCountryImpl (id:855)\n",
      "Community 122:\n",
      " - SkuImpl (id:303)\n",
      "Community 123:\n",
      " - ProductOptionImpl (id:304)\n",
      "Community 124:\n",
      " - ProductOptionXrefImpl (id:315)\n",
      "Community 125:\n",
      " - CategoryProductXrefImpl (id:316)\n",
      "Community 126:\n",
      " - ProductOptionValueImpl (id:317)\n"
     ]
    }
   ],
   "source": [
    "K = nx.Graph(G) # create an undirected graph H from a directed graph G\n",
    "\n",
    "# Remove non-entity nodes\n",
    "\n",
    "for i in list(K.nodes):\n",
    "    if K.nodes[i]['type']!='Entity':\n",
    "        K.remove_node(i)\n",
    "\n",
    "# Obtain subgraph of entities that have direct relationships with the persistence layer:\n",
    "    \n",
    "        \n",
    "# compute the best partition\n",
    "entity_cluster = community_louvain.best_partition(K, weight='w')\n",
    "\n",
    "# Remove nodes that do not have direct relationships with methods from the cluster dictionary:\n",
    "e_dict = dict()\n",
    "# Check if entity has a relationship with some method of the persistence layer (it will remove entities from the controller model, for instance)\n",
    "for e in entity_cluster:\n",
    "    e_dict[e] = False\n",
    "    for (i,j) in G.edges():\n",
    "        if e==j and G[i][j]['rel_type'] in ['Persists']:\n",
    "            e_dict[e]=True\n",
    "\n",
    "# Remove non-related entities\n",
    "for entity_to_remove in e_dict:\n",
    "    if not e_dict[entity_to_remove]:\n",
    "        # print('INFO: Entity ' + G.nodes[entity_to_remove]['name'] + ' removed from the clusters')\n",
    "        entity_cluster.pop(entity_to_remove)\n",
    "\n",
    "for i in set(entity_cluster.values()):\n",
    "    print(f'Community {i}:')\n",
    "    for entity, cluster in entity_cluster.items():\n",
    "        if cluster == i:\n",
    "            print(f' - {G.nodes()[entity][\"name\"]} (id:{entity})')"
   ]
  },
  {
   "cell_type": "markdown",
   "id": "9d385bf2-cf31-45e0-8d84-fd44715a1028",
   "metadata": {
    "editable": true,
    "papermill": {
     "duration": 0.007825,
     "end_time": "2025-09-27T04:15:39.474494",
     "exception": false,
     "start_time": "2025-09-27T04:15:39.466669",
     "status": "completed"
    },
    "slideshow": {
     "slide_type": ""
    },
    "tags": []
   },
   "source": [
    "### _User input required!_\n",
    "\n",
    "Refine, if needed, entity clusters"
   ]
  },
  {
   "cell_type": "code",
   "execution_count": 10,
   "id": "021636e9-07ea-45c6-9eab-e34e93503e9b",
   "metadata": {
    "editable": true,
    "execution": {
     "iopub.execute_input": "2025-09-27T04:15:39.491141Z",
     "iopub.status.busy": "2025-09-27T04:15:39.490778Z",
     "iopub.status.idle": "2025-09-27T04:15:39.497612Z",
     "shell.execute_reply": "2025-09-27T04:15:39.496753Z"
    },
    "papermill": {
     "duration": 0.017675,
     "end_time": "2025-09-27T04:15:39.499559",
     "exception": false,
     "start_time": "2025-09-27T04:15:39.481884",
     "status": "completed"
    },
    "slideshow": {
     "slide_type": ""
    },
    "tags": []
   },
   "outputs": [],
   "source": [
    "# Remove entity from its cluster\n",
    "entity_ids_to_remove = [] # <-- Put Ids as strings (example: ['1', '3']\n",
    "\n",
    "# Place entity into a cluster\n",
    "entities_clusters_to_place = [] # <-- Example: entity X in cluster Y: ('X', 5)\n",
    "\n",
    "\n",
    "for e in entity_ids_to_remove:\n",
    "    entity_cluster.pop(e)\n",
    "    print(f'INFO: Removed entity {G.nodes()[e][\"name\"]} from clusters')\n",
    "\n",
    "for (e, cluster) in entities_clusters_to_place:\n",
    "    entity_cluster[e] = cluster\n",
    "    print(f'INFO: Entity {G.nodes()[e][\"name\"]} put into cluster {cluster}')"
   ]
  },
  {
   "cell_type": "code",
   "execution_count": 11,
   "id": "03cb8c9a-f2d0-46ad-a857-11e31be27470",
   "metadata": {
    "editable": true,
    "execution": {
     "iopub.execute_input": "2025-09-27T04:15:39.522961Z",
     "iopub.status.busy": "2025-09-27T04:15:39.522551Z",
     "iopub.status.idle": "2025-09-27T04:15:39.534004Z",
     "shell.execute_reply": "2025-09-27T04:15:39.532996Z"
    },
    "papermill": {
     "duration": 0.024312,
     "end_time": "2025-09-27T04:15:39.536150",
     "exception": false,
     "start_time": "2025-09-27T04:15:39.511838",
     "status": "completed"
    },
    "slideshow": {
     "slide_type": ""
    },
    "tags": []
   },
   "outputs": [
    {
     "name": "stdout",
     "output_type": "stream",
     "text": [
      "Entities in community 0: ['CustomerPhoneImpl']\n",
      "Entities in community 1: ['CustomerPaymentImpl']\n",
      "Entities in community 2: ['PhoneImpl']\n",
      "Entities in community 3: ['StateImpl']\n",
      "Entities in community 4: ['CountrySubdivisionImpl']\n",
      "Entities in community 5: ['CustomerImpl', 'OrderImpl', 'OrderItemImpl', 'AbstractModuleConfiguration']\n",
      "Entities in community 6: ['CountryImpl']\n",
      "Entities in community 7: ['CustomerAddressImpl', 'OfferCodeImpl', 'OfferImpl', 'OrderPaymentImpl', 'PaymentTransactionImpl', 'StoreImpl', 'CategoryImpl', 'ProductImpl', 'SiteImpl', 'CatalogImpl', 'SandBoxImpl']\n",
      "Entities in community 8: ['AddressImpl']\n",
      "Entities in community 9: ['ShippingRateImpl']\n",
      "Entities in community 10: ['CodeTypeImpl']\n",
      "Entities in community 11: ['CustomerOfferImpl']\n",
      "Entities in community 12: ['OfferAuditImpl']\n",
      "Entities in community 13: ['RatingType']\n",
      "Entities in community 14: ['ReviewDetailImpl']\n",
      "Entities in community 15: ['RatingSummaryImpl']\n",
      "Entities in community 16: ['OrderStatus']\n",
      "Entities in community 17: ['FulfillmentGroupStatusType']\n",
      "Entities in community 18: ['OrderItemType']\n",
      "Entities in community 19: ['FulfillmentType']\n",
      "Entities in community 20: ['FulfillmentOptionImpl']\n",
      "Entities in community 21: ['FulfillmentGroupItemImpl']\n",
      "Entities in community 22: ['NullOrderImpl']\n",
      "Entities in community 23: ['FulfillmentGroupImpl']\n",
      "Entities in community 24: ['SearchFacetImpl']\n",
      "Entities in community 25: ['SearchCriteria']\n",
      "Entities in community 26: ['IndexFieldImpl']\n",
      "Entities in community 27: ['SearchFacetRangeImpl']\n",
      "Entities in community 28: ['IndexFieldTypeImpl']\n",
      "Entities in community 29: ['FieldEntity']\n",
      "Entities in community 30: ['FieldImpl']\n",
      "Entities in community 31: ['FieldType']\n",
      "Entities in community 32: ['SearchRedirectImpl']\n",
      "Entities in community 33: ['ParentCategoryByProduct']\n",
      "Entities in community 34: ['ParentCategoryByCategory']\n",
      "Entities in community 35: ['CatalogStructure']\n",
      "Entities in community 36: ['ProductType']\n",
      "Entities in community 37: ['SkuImpl']\n",
      "Entities in community 38: ['ProductOptionImpl']\n",
      "Entities in community 39: ['ProductOptionXrefImpl']\n",
      "Entities in community 40: ['CategoryProductXrefImpl']\n",
      "Entities in community 41: ['ProductOptionValueImpl']\n",
      "Entities in community 42: ['SkuProductOptionValueXrefImpl']\n",
      "Entities in community 43: ['AssignedProductOptionDTO']\n",
      "Entities in community 44: ['ExtensionResultHolder']\n",
      "Entities in community 45: ['StandardCacheItem']\n",
      "Entities in community 46: ['StreamCapableTransactionalOperationAdapter']\n",
      "Entities in community 47: ['BatchRetrieveDao']\n",
      "Entities in community 48: ['ModuleConfigurationType']\n",
      "Entities in community 49: ['NullSystemProperty']\n",
      "Entities in community 50: ['SystemPropertyImpl']\n",
      "Entities in community 51: ['SandBoxManagementImpl']\n",
      "Entities in community 52: ['SandBoxType']\n",
      "Entities in community 53: ['TranslatedEntity']\n",
      "Entities in community 54: ['TranslationImpl']\n",
      "Entities in community 55: ['ISOCountryImpl']\n",
      "Entities in community 56: ['BroadleafRequestContext']\n"
     ]
    }
   ],
   "source": [
    "# Some cluster may have disappeared: remaining clusters need to be renumbered\n",
    "cluster_map = dict()\n",
    "counter=0\n",
    "number_mapping = dict() # maps the old cluster number with the new one\n",
    "for entity_key, old_number in entity_cluster.items():\n",
    "    if old_number not in number_mapping:\n",
    "        number_mapping[old_number] = counter\n",
    "        counter+=1\n",
    "    cluster_map[number_mapping[old_number]] = cluster_map.get(number_mapping[old_number], []) + [entity_key]\n",
    "    \n",
    "for cluster in cluster_map:\n",
    "    print('Entities in community ' + str(cluster) + ': ' + str([G.nodes[entity_key]['name'] for entity_key in cluster_map[cluster]]))\n",
    "\n",
    "n_micros = len(cluster_map)"
   ]
  },
  {
   "cell_type": "code",
   "execution_count": 12,
   "id": "bd909d53-3681-43aa-baa0-5d38556bb40b",
   "metadata": {
    "editable": true,
    "execution": {
     "iopub.execute_input": "2025-09-27T04:15:39.556165Z",
     "iopub.status.busy": "2025-09-27T04:15:39.555761Z",
     "iopub.status.idle": "2025-09-27T04:15:39.588197Z",
     "shell.execute_reply": "2025-09-27T04:15:39.586903Z"
    },
    "papermill": {
     "duration": 0.045185,
     "end_time": "2025-09-27T04:15:39.590434",
     "exception": false,
     "start_time": "2025-09-27T04:15:39.545249",
     "status": "completed"
    },
    "slideshow": {
     "slide_type": ""
    },
    "tags": []
   },
   "outputs": [
    {
     "name": "stdout",
     "output_type": "stream",
     "text": [
      "Entities in community 0 are in clusters: []\n",
      "Entities in community 1 are in clusters: []\n",
      "Entities in community 2 are in clusters: []\n",
      "Entities in community 3 are in clusters: []\n",
      "Entities in community 4 are in clusters: [48]\n",
      "Entities in community 5 are in clusters: [0, 36]\n",
      "Entities in community 6 are in clusters: [1]\n",
      "Entities in community 7 are in clusters: []\n",
      "Entities in community 8 are in clusters: [2, 3, 4, 6, 55]\n",
      "Entities in community 9 are in clusters: []\n",
      "Entities in community 10 are in clusters: []\n",
      "Entities in community 11 are in clusters: [5, 5, 7, 12, 16]\n",
      "Entities in community 12 are in clusters: [5, 7, 7, 7]\n",
      "Entities in community 13 are in clusters: [8, 20]\n",
      "Entities in community 14 are in clusters: []\n",
      "Entities in community 15 are in clusters: [7, 22]\n",
      "Entities in community 16 are in clusters: [19, 21]\n",
      "Entities in community 17 are in clusters: []\n",
      "Entities in community 18 are in clusters: [9]\n",
      "Entities in community 19 are in clusters: []\n",
      "Entities in community 20 are in clusters: [10]\n",
      "Entities in community 21 are in clusters: []\n",
      "Entities in community 22 are in clusters: []\n",
      "Entities in community 24 are in clusters: []\n",
      "Entities in community 25 are in clusters: []\n",
      "Entities in community 26 are in clusters: []\n",
      "Entities in community 27 are in clusters: [7, 23]\n",
      "Entities in community 28 are in clusters: []\n",
      "Entities in community 29 are in clusters: []\n",
      "Entities in community 30 are in clusters: []\n",
      "Entities in community 31 are in clusters: []\n",
      "Entities in community 32 are in clusters: []\n",
      "Entities in community 33 are in clusters: []\n",
      "Entities in community 34 are in clusters: []\n",
      "Entities in community 35 are in clusters: []\n",
      "Entities in community 36 are in clusters: []\n",
      "Entities in community 37 are in clusters: []\n",
      "Entities in community 38 are in clusters: [5, 18]\n",
      "Entities in community 39 are in clusters: []\n",
      "Entities in community 40 are in clusters: [11]\n",
      "Entities in community 41 are in clusters: [7, 7, 33, 34, 38, 41]\n",
      "Entities in community 42 are in clusters: []\n",
      "Entities in community 43 are in clusters: []\n",
      "Entities in community 45 are in clusters: []\n",
      "Entities in community 46 are in clusters: [13, 14, 47]\n",
      "Entities in community 47 are in clusters: []\n",
      "Entities in community 48 are in clusters: [15]\n",
      "Entities in community 49 are in clusters: []\n",
      "Entities in community 50 are in clusters: []\n",
      "Entities in community 51 are in clusters: []\n",
      "Entities in community 52 are in clusters: []\n",
      "Entities in community 53 are in clusters: [17]\n",
      "Entities in community 54 are in clusters: []\n",
      "Entities in community 55 are in clusters: [37, 42, 43]\n",
      "Entities in community 56 are in clusters: []\n",
      "Entities in community 57 are in clusters: []\n",
      "Entities in community 58 are in clusters: []\n",
      "Entities in community 59 are in clusters: []\n",
      "Entities in community 60 are in clusters: []\n",
      "Entities in community 61 are in clusters: []\n",
      "Entities in community 62 are in clusters: [24, 26, 29, 30]\n",
      "Entities in community 63 are in clusters: [7, 25, 27, 40]\n",
      "Entities in community 64 are in clusters: [28, 31, 35]\n",
      "Entities in community 65 are in clusters: [32]\n",
      "Entities in community 66 are in clusters: []\n",
      "Entities in community 67 are in clusters: [50, 56]\n",
      "Entities in community 68 are in clusters: []\n",
      "Entities in community 69 are in clusters: []\n",
      "Entities in community 70 are in clusters: []\n",
      "Entities in community 72 are in clusters: []\n",
      "Entities in community 73 are in clusters: []\n",
      "Entities in community 74 are in clusters: [39]\n",
      "Entities in community 75 are in clusters: []\n",
      "Entities in community 76 are in clusters: []\n",
      "Entities in community 77 are in clusters: []\n",
      "Entities in community 78 are in clusters: []\n",
      "Entities in community 79 are in clusters: []\n",
      "Entities in community 80 are in clusters: []\n",
      "Entities in community 81 are in clusters: []\n",
      "Entities in community 82 are in clusters: []\n",
      "Entities in community 83 are in clusters: []\n",
      "Entities in community 84 are in clusters: []\n",
      "Entities in community 85 are in clusters: []\n",
      "Entities in community 86 are in clusters: []\n",
      "Entities in community 87 are in clusters: []\n",
      "Entities in community 88 are in clusters: []\n",
      "Entities in community 89 are in clusters: []\n",
      "Entities in community 90 are in clusters: [7, 51, 52]\n",
      "Entities in community 91 are in clusters: []\n",
      "Entities in community 92 are in clusters: []\n",
      "Entities in community 93 are in clusters: []\n",
      "Entities in community 94 are in clusters: []\n",
      "Entities in community 95 are in clusters: []\n",
      "Entities in community 96 are in clusters: []\n",
      "Entities in community 97 are in clusters: []\n",
      "Entities in community 98 are in clusters: []\n",
      "Entities in community 99 are in clusters: []\n",
      "Entities in community 100 are in clusters: []\n",
      "Entities in community 101 are in clusters: []\n",
      "Entities in community 102 are in clusters: [45, 53, 54]\n",
      "Entities in community 103 are in clusters: []\n",
      "Entities in community 104 are in clusters: [7, 46]\n",
      "Entities in community 105 are in clusters: []\n",
      "Entities in community 106 are in clusters: []\n",
      "Entities in community 107 are in clusters: []\n",
      "Entities in community 108 are in clusters: []\n",
      "Entities in community 109 are in clusters: []\n",
      "Entities in community 110 are in clusters: []\n",
      "Entities in community 111 are in clusters: []\n",
      "Entities in community 112 are in clusters: []\n",
      "Entities in community 113 are in clusters: [44]\n",
      "Entities in community 114 are in clusters: []\n",
      "Entities in community 115 are in clusters: []\n",
      "Entities in community 116 are in clusters: []\n",
      "Entities in community 117 are in clusters: []\n",
      "Entities in community 118 are in clusters: []\n",
      "Entities in community 119 are in clusters: []\n",
      "Entities in community 120 are in clusters: []\n",
      "Entities in community 121 are in clusters: []\n",
      "Entities in community 122 are in clusters: []\n",
      "Entities in community 123 are in clusters: []\n",
      "Entities in community 124 are in clusters: []\n",
      "Entities in community 125 are in clusters: []\n",
      "Entities in community 126 are in clusters: []\n",
      "Entities in community 127 are in clusters: []\n",
      "Entities in community 128 are in clusters: []\n",
      "Entities in community 129 are in clusters: []\n",
      "Entities in community 130 are in clusters: []\n",
      "Entities in community 131 are in clusters: []\n",
      "Entities in community 132 are in clusters: []\n",
      "Entities in community 133 are in clusters: []\n",
      "Entities in community 134 are in clusters: []\n",
      "Entities in community 135 are in clusters: []\n",
      "Entities in community 136 are in clusters: []\n",
      "Entities in community 137 are in clusters: []\n",
      "Entities in community 138 are in clusters: [49]\n",
      "Entities in community 139 are in clusters: []\n",
      "Entities in community 140 are in clusters: []\n",
      "Entities in community 141 are in clusters: []\n",
      "Entities in community 142 are in clusters: []\n",
      "Entities in community 143 are in clusters: []\n",
      "Entities in community 144 are in clusters: []\n",
      "Entities in community 145 are in clusters: []\n",
      "Entities in community 146 are in clusters: []\n",
      "Entities in community 147 are in clusters: []\n",
      "Entities in community 148 are in clusters: []\n",
      "Entities in community 149 are in clusters: []\n",
      "Entities in community 151 are in clusters: []\n",
      "Entities in community 152 are in clusters: []\n",
      "Entities in community 153 are in clusters: []\n",
      "Entities in community 154 are in clusters: []\n",
      "Entities in community 155 are in clusters: []\n",
      "Entities in community 156 are in clusters: []\n",
      "Entities in community 157 are in clusters: []\n",
      "Entities in community 158 are in clusters: []\n",
      "Entities in community 159 are in clusters: []\n",
      "Entities in community 160 are in clusters: []\n",
      "Entities in community 161 are in clusters: []\n",
      "Relaxed communities: [5, 8, 11, 12, 13, 15, 16, 27, 38, 41, 46, 55, 62, 63, 64, 67, 90, 102, 104]\n"
     ]
    }
   ],
   "source": [
    "# Resolve conflicts of distribution of entities into communities: if entities of the same community are in different clusters, then remove the community from the dictionary\n",
    "\n",
    "communities_dict = dict() # Map community -> entities into the communities\n",
    "\n",
    "\n",
    "for node in G.nodes():\n",
    "    if G.nodes[node]['type'] == 'Entity':\n",
    "        communities_dict[communities[node]] = communities_dict.get(communities[node], []) + [node]\n",
    "\n",
    "communities_to_relax = []\n",
    "\n",
    "for community in communities_dict:\n",
    "    clusters = []\n",
    "    for cluster, entities in cluster_map.items():\n",
    "        for e in entities:\n",
    "            if e in communities_dict[community]:\n",
    "                clusters.append(cluster)\n",
    "    print(f'Entities in community {community} are in clusters: {clusters}')\n",
    "    if len(clusters) > 0 and not all(clusters[0] == c for c in clusters):\n",
    "        #print(f'Remove community {community}')\n",
    "        communities_to_relax.append(community)\n",
    "\n",
    "nodes_to_remove_from_dict = []\n",
    "for node in communities.keys():\n",
    "    if communities[node] in communities_to_relax:\n",
    "        nodes_to_remove_from_dict.append(node)\n",
    "\n",
    "for node in nodes_to_remove_from_dict:\n",
    "    del communities[node]\n",
    "\n",
    "print(f'Relaxed communities: {communities_to_relax}')"
   ]
  },
  {
   "cell_type": "markdown",
   "id": "3c6fe2ac-0fb0-456d-8b81-8d93a3439be8",
   "metadata": {
    "editable": true,
    "papermill": {
     "duration": 0.009108,
     "end_time": "2025-09-27T04:15:39.608763",
     "exception": false,
     "start_time": "2025-09-27T04:15:39.599655",
     "status": "completed"
    },
    "slideshow": {
     "slide_type": ""
    },
    "tags": []
   },
   "source": [
    "## ILP Formulation"
   ]
  },
  {
   "cell_type": "code",
   "execution_count": 13,
   "id": "bceb7240-b83a-4b0b-b380-b95cd1bb2b0e",
   "metadata": {
    "editable": true,
    "execution": {
     "iopub.execute_input": "2025-09-27T04:15:39.629325Z",
     "iopub.status.busy": "2025-09-27T04:15:39.628837Z",
     "iopub.status.idle": "2025-09-27T04:16:03.083865Z",
     "shell.execute_reply": "2025-09-27T04:16:03.083056Z"
    },
    "papermill": {
     "duration": 23.467044,
     "end_time": "2025-09-27T04:16:03.085495",
     "exception": false,
     "start_time": "2025-09-27T04:15:39.618451",
     "status": "completed"
    },
    "slideshow": {
     "slide_type": ""
    },
    "tags": []
   },
   "outputs": [
    {
     "name": "stdout",
     "output_type": "stream",
     "text": [
      "Set parameter WLSAccessID\n"
     ]
    },
    {
     "name": "stdout",
     "output_type": "stream",
     "text": [
      "Set parameter WLSSecret\n"
     ]
    },
    {
     "name": "stdout",
     "output_type": "stream",
     "text": [
      "Set parameter LicenseID to value 2713550\n"
     ]
    },
    {
     "name": "stdout",
     "output_type": "stream",
     "text": [
      "Academic license 2713550 - for non-commercial use only - registered to av___@gmail.com\n"
     ]
    }
   ],
   "source": [
    "model = gb.Model()\n",
    "\n",
    "# Variables\n",
    "x = model.addVars(((i,k) for i in G.nodes() for k in range(n_micros)),\\\n",
    "                  vtype=gb.GRB.BINARY, name='x')\n",
    "\n",
    "z = model.addVars(((i,j,k) for (i,j) in G.edges() for k in range(n_micros)), vtype=gb.GRB.BINARY, name='z')\n",
    "\n",
    "y = model.addVars(((i,j) for (i,j) in G.edges()), vtype=gb.GRB.BINARY, name='y')\n",
    "\n",
    "# Each node has to be in one and only one microservice\n",
    "model.addConstrs((x.sum(i, '*') == 1 for i in G.nodes()), name='(1)microservice-belonging')\n",
    "\n",
    "# A microservice can not be composed of entities only\n",
    "model.addConstrs((gb.quicksum(x[i,k] for i in G.nodes() if G.nodes[i]['type']!='Entity') >= 1 for k in range(n_micros)), name='(2)microservice-composition')\n",
    "\n",
    "# Bonding variables\n",
    "model.addConstrs((z[i,j,k]-x[i,k] <= 0 for (i,j) in G.edges() for k in range(n_micros)), name='(3)bonding-z-to-x')\n",
    "model.addConstrs((z[i,j,k]-x[j,k] <= 0 for (i,j) in G.edges() for k in range(n_micros)), name='(4)bonding-z-to-x')\n",
    "model.addConstrs((x[i,k]+x[j,k]-z[i,j,k] <= 1 for (i,j) in G.edges() for k in range(n_micros)), name='(5)bonding-z-to-x')\n",
    "\n",
    "model.addConstrs((y[i,j]==gb.quicksum(z[i,j,k] for k in range(n_micros)) for (i,j) in G.edges()), name='(6)bonding-y-to-z')\n",
    "\n",
    "\n",
    "########## Added constraints ##########\n",
    "\n",
    "# Force each entity from the kth cluster to be in the kth microservice\n",
    "model.addConstrs((x[i,k]==1 for k in cluster_map for i in cluster_map[k]), name='(7)bonding-x-to-entity-clusters')\n",
    "\n",
    "# Force node of the same community to be in the same (consider a community only if there are not entities from different clusters)\n",
    "communities_constraint = model.addConstrs((y[i,j]==1 for (i,j) in G.edges() if i in communities and j in communities and communities[i]==communities[j]), name='(8)bonding-y-to-communities')\n",
    "\n",
    "\n",
    "########## Objective function ##########\n",
    "\n",
    "coupling = gb.quicksum(G.edges[i,j]['w']*(1-y[i,j]) for (i,j) in G.edges())\n",
    "\n",
    "model.setObjective(coupling, gb.GRB.MINIMIZE)\n",
    "\n",
    "model.write(formulation_out)"
   ]
  },
  {
   "cell_type": "code",
   "execution_count": 14,
   "id": "081eb8b2-d436-45fa-886c-7051ff07d125",
   "metadata": {
    "editable": true,
    "execution": {
     "iopub.execute_input": "2025-09-27T04:16:03.098209Z",
     "iopub.status.busy": "2025-09-27T04:16:03.097942Z",
     "iopub.status.idle": "2025-09-27T04:25:00.575954Z",
     "shell.execute_reply": "2025-09-27T04:25:00.575355Z"
    },
    "papermill": {
     "duration": 537.486268,
     "end_time": "2025-09-27T04:25:00.577183",
     "exception": false,
     "start_time": "2025-09-27T04:16:03.090915",
     "status": "completed"
    },
    "slideshow": {
     "slide_type": ""
    },
    "tags": []
   },
   "outputs": [
    {
     "name": "stdout",
     "output_type": "stream",
     "text": [
      "Gurobi Optimizer version 12.0.3 build v12.0.3rc0 (linux64 - \"Linux Mint 22.1\")\n"
     ]
    },
    {
     "name": "stdout",
     "output_type": "stream",
     "text": [
      "\n"
     ]
    },
    {
     "name": "stdout",
     "output_type": "stream",
     "text": [
      "CPU model: Intel(R) Core(TM) i7-8550U CPU @ 1.80GHz, instruction set [SSE2|AVX|AVX2]\n"
     ]
    },
    {
     "name": "stdout",
     "output_type": "stream",
     "text": [
      "Thread count: 4 physical cores, 8 logical processors, using up to 8 threads\n"
     ]
    },
    {
     "name": "stdout",
     "output_type": "stream",
     "text": [
      "\n"
     ]
    },
    {
     "name": "stdout",
     "output_type": "stream",
     "text": [
      "Academic license 2713550 - for non-commercial use only - registered to av___@gmail.com\n"
     ]
    },
    {
     "name": "stdout",
     "output_type": "stream",
     "text": [
      "Optimize a model with 654443 rows, 376560 columns and 2003780 nonzeros\n"
     ]
    },
    {
     "name": "stdout",
     "output_type": "stream",
     "text": [
      "Model fingerprint: 0x5bf2bc62\n"
     ]
    },
    {
     "name": "stdout",
     "output_type": "stream",
     "text": [
      "Variable types: 0 continuous, 376560 integer (376560 binary)\n"
     ]
    },
    {
     "name": "stdout",
     "output_type": "stream",
     "text": [
      "Coefficient statistics:\n"
     ]
    },
    {
     "name": "stdout",
     "output_type": "stream",
     "text": [
      "  Matrix range     [1e+00, 2e+00]\n"
     ]
    },
    {
     "name": "stdout",
     "output_type": "stream",
     "text": [
      "  Objective range  [5e-02, 4e-01]\n"
     ]
    },
    {
     "name": "stdout",
     "output_type": "stream",
     "text": [
      "  Bounds range     [1e+00, 1e+00]\n"
     ]
    },
    {
     "name": "stdout",
     "output_type": "stream",
     "text": [
      "  RHS range        [1e+00, 1e+00]\n"
     ]
    },
    {
     "name": "stdout",
     "output_type": "stream",
     "text": [
      "Presolve removed 123747 rows and 60964 columns (presolve time = 5s)...\n"
     ]
    },
    {
     "name": "stdout",
     "output_type": "stream",
     "text": [
      "Presolve removed 123747 rows and 60964 columns (presolve time = 10s)...\n"
     ]
    },
    {
     "name": "stdout",
     "output_type": "stream",
     "text": [
      "Presolve removed 123747 rows and 60964 columns (presolve time = 15s)...\n"
     ]
    },
    {
     "name": "stdout",
     "output_type": "stream",
     "text": [
      "Presolve removed 123747 rows and 60964 columns (presolve time = 20s)...\n"
     ]
    },
    {
     "name": "stdout",
     "output_type": "stream",
     "text": [
      "Presolve removed 123747 rows and 60964 columns (presolve time = 25s)...\n"
     ]
    },
    {
     "name": "stdout",
     "output_type": "stream",
     "text": [
      "Presolve removed 123747 rows and 60964 columns (presolve time = 30s)...\n"
     ]
    },
    {
     "name": "stdout",
     "output_type": "stream",
     "text": [
      "Presolve removed 123747 rows and 60964 columns (presolve time = 35s)...\n"
     ]
    },
    {
     "name": "stdout",
     "output_type": "stream",
     "text": [
      "Presolve removed 123747 rows and 125089 columns (presolve time = 45s)...\n"
     ]
    },
    {
     "name": "stdout",
     "output_type": "stream",
     "text": [
      "Presolve removed 251997 rows and 125089 columns (presolve time = 45s)...\n"
     ]
    },
    {
     "name": "stdout",
     "output_type": "stream",
     "text": [
      "Presolve removed 260856 rows and 134083 columns\n"
     ]
    },
    {
     "name": "stdout",
     "output_type": "stream",
     "text": [
      "Presolve time: 47.94s\n"
     ]
    },
    {
     "name": "stdout",
     "output_type": "stream",
     "text": [
      "Presolved: 393587 rows, 242477 columns, 1246179 nonzeros\n"
     ]
    },
    {
     "name": "stdout",
     "output_type": "stream",
     "text": [
      "Variable types: 0 continuous, 242477 integer (242477 binary)\n"
     ]
    },
    {
     "name": "stdout",
     "output_type": "stream",
     "text": [
      "\n"
     ]
    },
    {
     "name": "stdout",
     "output_type": "stream",
     "text": [
      "Deterministic concurrent LP optimizer: primal simplex, dual simplex, and barrier\n"
     ]
    },
    {
     "name": "stdout",
     "output_type": "stream",
     "text": [
      "Showing barrier log only...\n"
     ]
    },
    {
     "name": "stdout",
     "output_type": "stream",
     "text": [
      "\n"
     ]
    },
    {
     "name": "stdout",
     "output_type": "stream",
     "text": [
      "Root barrier log...\n"
     ]
    },
    {
     "name": "stdout",
     "output_type": "stream",
     "text": [
      "\n"
     ]
    },
    {
     "name": "stdout",
     "output_type": "stream",
     "text": [
      "Elapsed ordering time = 5s\n"
     ]
    },
    {
     "name": "stdout",
     "output_type": "stream",
     "text": [
      "Elapsed ordering time = 8s\n"
     ]
    },
    {
     "name": "stdout",
     "output_type": "stream",
     "text": [
      "Elapsed ordering time = 10s\n"
     ]
    },
    {
     "name": "stdout",
     "output_type": "stream",
     "text": [
      "Elapsed ordering time = 12s\n"
     ]
    },
    {
     "name": "stdout",
     "output_type": "stream",
     "text": [
      "Elapsed ordering time = 15s\n"
     ]
    },
    {
     "name": "stdout",
     "output_type": "stream",
     "text": [
      "Elapsed ordering time = 16s\n"
     ]
    },
    {
     "name": "stdout",
     "output_type": "stream",
     "text": [
      "Ordering time: 19.12s\n"
     ]
    },
    {
     "name": "stdout",
     "output_type": "stream",
     "text": [
      "\n"
     ]
    },
    {
     "name": "stdout",
     "output_type": "stream",
     "text": [
      "Barrier statistics:\n"
     ]
    },
    {
     "name": "stdout",
     "output_type": "stream",
     "text": [
      " AA' NZ     : 5.219e+06\n"
     ]
    },
    {
     "name": "stdout",
     "output_type": "stream",
     "text": [
      " Factor NZ  : 7.584e+07 (roughly 900 MB of memory)\n"
     ]
    },
    {
     "name": "stdout",
     "output_type": "stream",
     "text": [
      " Factor Ops : 1.487e+11 (roughly 7 seconds per iteration)\n"
     ]
    },
    {
     "name": "stdout",
     "output_type": "stream",
     "text": [
      " Threads    : 1\n"
     ]
    },
    {
     "name": "stdout",
     "output_type": "stream",
     "text": [
      "\n"
     ]
    },
    {
     "name": "stdout",
     "output_type": "stream",
     "text": [
      "                  Objective                Residual\n"
     ]
    },
    {
     "name": "stdout",
     "output_type": "stream",
     "text": [
      "Iter       Primal          Dual         Primal    Dual     Compl     Time\n"
     ]
    },
    {
     "name": "stdout",
     "output_type": "stream",
     "text": [
      "   0  -1.16243583e+03 -1.36039144e+05  3.64e+03 2.82e-01  2.23e+00    74s\n"
     ]
    },
    {
     "name": "stdout",
     "output_type": "stream",
     "text": [
      "   1   3.62408235e+02 -1.45130948e+05  7.01e+02 2.17e-01  5.39e-01    98s\n"
     ]
    },
    {
     "name": "stdout",
     "output_type": "stream",
     "text": [
      "   2   6.27738549e+02 -2.97921032e+04  2.43e+01 7.87e-14  4.47e-02   106s\n"
     ]
    },
    {
     "name": "stdout",
     "output_type": "stream",
     "text": [
      "   3   5.00314116e+02 -3.56701707e+03  1.42e+00 6.52e-14  4.97e-03   114s\n"
     ]
    },
    {
     "name": "stdout",
     "output_type": "stream",
     "text": [
      "   4   4.03820567e+02 -1.47519806e+03  1.76e-01 3.68e-14  2.18e-03   122s\n"
     ]
    },
    {
     "name": "stdout",
     "output_type": "stream",
     "text": [
      "   5   2.55513777e+02 -5.60649347e+02  8.73e-03 2.20e-14  9.37e-04   129s\n"
     ]
    },
    {
     "name": "stdout",
     "output_type": "stream",
     "text": [
      "   6   1.32877510e+02 -1.70723489e+02  6.48e-04 5.37e-14  3.48e-04   139s\n"
     ]
    },
    {
     "name": "stdout",
     "output_type": "stream",
     "text": [
      "   7   8.77275446e+01 -6.59143265e+01  1.60e-04 1.31e-13  1.76e-04   149s\n"
     ]
    },
    {
     "name": "stdout",
     "output_type": "stream",
     "text": [
      "   8   7.11986695e+01 -2.51238180e+01  6.77e-05 2.81e-13  1.11e-04   159s\n"
     ]
    },
    {
     "name": "stdout",
     "output_type": "stream",
     "text": [
      "   9   6.09216454e+01  7.61549716e+00  2.85e-05 4.38e-13  6.12e-05   168s\n"
     ]
    },
    {
     "name": "stdout",
     "output_type": "stream",
     "text": [
      "  10   5.68029015e+01  1.58278461e+01  1.58e-05 4.34e-13  4.70e-05   177s\n"
     ]
    },
    {
     "name": "stdout",
     "output_type": "stream",
     "text": [
      "  11   5.13634626e+01  3.80848706e+01  2.55e-06 2.27e-12  1.52e-05   188s\n"
     ]
    },
    {
     "name": "stdout",
     "output_type": "stream",
     "text": [
      "  12   4.98303807e+01  4.48431956e+01  7.71e-07 4.72e-12  5.74e-06   198s\n"
     ]
    },
    {
     "name": "stdout",
     "output_type": "stream",
     "text": [
      "  13   4.92291327e+01  4.51852380e+01  6.14e-07 3.73e-12  4.65e-06   207s\n"
     ]
    },
    {
     "name": "stdout",
     "output_type": "stream",
     "text": [
      "  14   4.82002651e+01  4.60024812e+01  3.53e-07 3.06e-12  2.53e-06   215s\n"
     ]
    },
    {
     "name": "stdout",
     "output_type": "stream",
     "text": [
      "  15   4.72593665e+01  4.66658428e+01  1.28e-07 4.58e-12  6.84e-07   224s\n"
     ]
    },
    {
     "name": "stdout",
     "output_type": "stream",
     "text": [
      "  16   4.67398293e+01  4.67327875e+01  9.05e-10 3.23e-12  8.10e-09   233s\n"
     ]
    },
    {
     "name": "stdout",
     "output_type": "stream",
     "text": [
      "  17   4.67358935e+01  4.67358623e+01  1.21e-11 4.41e-12  3.59e-11   241s\n"
     ]
    },
    {
     "name": "stdout",
     "output_type": "stream",
     "text": [
      "  18   4.67358692e+01  4.67358654e+01  5.72e-09 2.80e-12  4.38e-12   250s\n"
     ]
    },
    {
     "name": "stdout",
     "output_type": "stream",
     "text": [
      "\n"
     ]
    },
    {
     "name": "stdout",
     "output_type": "stream",
     "text": [
      "Barrier solved model in 18 iterations and 250.24 seconds (153.24 work units)\n"
     ]
    },
    {
     "name": "stdout",
     "output_type": "stream",
     "text": [
      "Optimal objective 4.67358692e+01\n"
     ]
    },
    {
     "name": "stdout",
     "output_type": "stream",
     "text": [
      "\n"
     ]
    },
    {
     "name": "stdout",
     "output_type": "stream",
     "text": [
      "\n"
     ]
    },
    {
     "name": "stdout",
     "output_type": "stream",
     "text": [
      "Root crossover log...\n"
     ]
    },
    {
     "name": "stdout",
     "output_type": "stream",
     "text": [
      "\n"
     ]
    },
    {
     "name": "stdout",
     "output_type": "stream",
     "text": [
      "  261879 DPushes remaining with DInf 0.0000000e+00               251s\n"
     ]
    },
    {
     "name": "stdout",
     "output_type": "stream",
     "text": [
      "   10246 DPushes remaining with DInf 0.0000000e+00               255s\n"
     ]
    },
    {
     "name": "stdout",
     "output_type": "stream",
     "text": [
      "    7643 DPushes remaining with DInf 0.0000000e+00               261s\n"
     ]
    },
    {
     "name": "stdout",
     "output_type": "stream",
     "text": [
      "    6646 DPushes remaining with DInf 0.0000000e+00               265s\n"
     ]
    },
    {
     "name": "stdout",
     "output_type": "stream",
     "text": [
      "    5231 DPushes remaining with DInf 0.0000000e+00               270s\n"
     ]
    },
    {
     "name": "stdout",
     "output_type": "stream",
     "text": [
      "    3886 DPushes remaining with DInf 0.0000000e+00               275s\n"
     ]
    },
    {
     "name": "stdout",
     "output_type": "stream",
     "text": [
      "    2565 DPushes remaining with DInf 0.0000000e+00               280s\n"
     ]
    },
    {
     "name": "stdout",
     "output_type": "stream",
     "text": [
      "     241 DPushes remaining with DInf 0.0000000e+00               285s\n"
     ]
    },
    {
     "name": "stdout",
     "output_type": "stream",
     "text": [
      "       0 DPushes remaining with DInf 0.0000000e+00               286s\n"
     ]
    },
    {
     "name": "stdout",
     "output_type": "stream",
     "text": [
      "\n"
     ]
    },
    {
     "name": "stdout",
     "output_type": "stream",
     "text": [
      "    7538 PPushes remaining with PInf 0.0000000e+00               286s\n"
     ]
    },
    {
     "name": "stdout",
     "output_type": "stream",
     "text": [
      "       0 PPushes remaining with PInf 0.0000000e+00               286s\n"
     ]
    },
    {
     "name": "stdout",
     "output_type": "stream",
     "text": [
      "\n"
     ]
    },
    {
     "name": "stdout",
     "output_type": "stream",
     "text": [
      "  Push phase complete: Pinf 0.0000000e+00, Dinf 1.0434542e-11    286s\n"
     ]
    },
    {
     "name": "stdout",
     "output_type": "stream",
     "text": [
      "\n"
     ]
    },
    {
     "name": "stdout",
     "output_type": "stream",
     "text": [
      "\n"
     ]
    },
    {
     "name": "stdout",
     "output_type": "stream",
     "text": [
      "Root simplex log...\n"
     ]
    },
    {
     "name": "stdout",
     "output_type": "stream",
     "text": [
      "\n"
     ]
    },
    {
     "name": "stdout",
     "output_type": "stream",
     "text": [
      "Iteration    Objective       Primal Inf.    Dual Inf.      Time\n"
     ]
    },
    {
     "name": "stdout",
     "output_type": "stream",
     "text": [
      "  263620    4.6735865e+01   0.000000e+00   0.000000e+00    287s\n"
     ]
    },
    {
     "name": "stdout",
     "output_type": "stream",
     "text": [
      "  263620    4.6735865e+01   0.000000e+00   0.000000e+00    287s\n"
     ]
    },
    {
     "name": "stdout",
     "output_type": "stream",
     "text": [
      "Concurrent spin time: 8.72s\n"
     ]
    },
    {
     "name": "stdout",
     "output_type": "stream",
     "text": [
      "\n"
     ]
    },
    {
     "name": "stdout",
     "output_type": "stream",
     "text": [
      "Solved with barrier\n"
     ]
    },
    {
     "name": "stdout",
     "output_type": "stream",
     "text": [
      "\n"
     ]
    },
    {
     "name": "stdout",
     "output_type": "stream",
     "text": [
      "Root relaxation: objective 4.673587e+01, 263620 iterations, 246.43 seconds (120.87 work units)\n"
     ]
    },
    {
     "name": "stdout",
     "output_type": "stream",
     "text": [
      "Total elapsed time = 524.63s (DegenMoves)\n"
     ]
    },
    {
     "name": "stdout",
     "output_type": "stream",
     "text": [
      "\n"
     ]
    },
    {
     "name": "stdout",
     "output_type": "stream",
     "text": [
      "    Nodes    |    Current Node    |     Objective Bounds      |     Work\n"
     ]
    },
    {
     "name": "stdout",
     "output_type": "stream",
     "text": [
      " Expl Unexpl |  Obj  Depth IntInf | Incumbent    BestBd   Gap | It/Node Time\n"
     ]
    },
    {
     "name": "stdout",
     "output_type": "stream",
     "text": [
      "\n"
     ]
    },
    {
     "name": "stdout",
     "output_type": "stream",
     "text": [
      "*    0     0               0      46.7358654   46.73587  0.00%     -  537s\n"
     ]
    },
    {
     "name": "stdout",
     "output_type": "stream",
     "text": [
      "\n"
     ]
    },
    {
     "name": "stdout",
     "output_type": "stream",
     "text": [
      "Explored 1 nodes (360597 simplex iterations) in 537.43 seconds (402.55 work units)\n"
     ]
    },
    {
     "name": "stdout",
     "output_type": "stream",
     "text": [
      "Thread count was 8 (of 8 available processors)\n"
     ]
    },
    {
     "name": "stdout",
     "output_type": "stream",
     "text": [
      "\n"
     ]
    },
    {
     "name": "stdout",
     "output_type": "stream",
     "text": [
      "Solution count 1: 46.7359 \n"
     ]
    },
    {
     "name": "stdout",
     "output_type": "stream",
     "text": [
      "\n"
     ]
    },
    {
     "name": "stdout",
     "output_type": "stream",
     "text": [
      "Optimal solution found (tolerance 1.00e-04)\n"
     ]
    },
    {
     "name": "stdout",
     "output_type": "stream",
     "text": [
      "Best objective 4.673586543172e+01, best bound 4.673586543168e+01, gap 0.0000%\n"
     ]
    }
   ],
   "source": [
    "model.optimize()"
   ]
  },
  {
   "cell_type": "markdown",
   "id": "c2bb0cfd-3f6e-4806-908c-628a86f4574f",
   "metadata": {
    "editable": true,
    "papermill": {
     "duration": 0.008091,
     "end_time": "2025-09-27T04:25:00.595577",
     "exception": false,
     "start_time": "2025-09-27T04:25:00.587486",
     "status": "completed"
    },
    "slideshow": {
     "slide_type": ""
    },
    "tags": []
   },
   "source": [
    "## Result Analysis"
   ]
  },
  {
   "cell_type": "code",
   "execution_count": 15,
   "id": "78f5ab5d-204b-48b6-bec9-9e2647d47855",
   "metadata": {
    "editable": true,
    "execution": {
     "iopub.execute_input": "2025-09-27T04:25:00.612084Z",
     "iopub.status.busy": "2025-09-27T04:25:00.611864Z",
     "iopub.status.idle": "2025-09-27T04:25:01.362695Z",
     "shell.execute_reply": "2025-09-27T04:25:01.362119Z"
    },
    "papermill": {
     "duration": 0.760778,
     "end_time": "2025-09-27T04:25:01.363921",
     "exception": false,
     "start_time": "2025-09-27T04:25:00.603143",
     "status": "completed"
    },
    "slideshow": {
     "slide_type": ""
    },
    "tags": []
   },
   "outputs": [],
   "source": [
    "# Compute cohesion:\n",
    "inside_w = dict()\n",
    "outside_w = dict()\n",
    "total_w = 0\n",
    "\n",
    "for i,j in G.edges():\n",
    "    total_w += G[i][j]['w']\n",
    "    for k in range(n_micros):\n",
    "        if z[i,j,k].x == 1: # Edge (i,j) is inside microservice k: sum the weight as inside\n",
    "            inside_w[k] = inside_w.get(k, 0) + G[i][j]['w']\n",
    "        if x[i,k].x == 1: # Edge (i,j) has its origin in k: sum the weigth as outside\n",
    "            outside_w[k] = outside_w.get(k, 0) + G[i][j]['w']\n",
    "\n",
    "cohesion_dict = dict()\n",
    "for k in range(n_micros):\n",
    "    cohesion_dict[k] = inside_w[k] / outside_w[k]\n",
    "\n",
    "cohesion = sum(cohesion_dict.values())/n_micros"
   ]
  },
  {
   "cell_type": "code",
   "execution_count": 16,
   "id": "b4f4589c-f9db-4123-89b3-9d1266b6297b",
   "metadata": {
    "editable": true,
    "execution": {
     "iopub.execute_input": "2025-09-27T04:25:01.381071Z",
     "iopub.status.busy": "2025-09-27T04:25:01.380857Z",
     "iopub.status.idle": "2025-09-27T04:25:01.508997Z",
     "shell.execute_reply": "2025-09-27T04:25:01.508428Z"
    },
    "papermill": {
     "duration": 0.137673,
     "end_time": "2025-09-27T04:25:01.509957",
     "exception": false,
     "start_time": "2025-09-27T04:25:01.372284",
     "status": "completed"
    },
    "slideshow": {
     "slide_type": ""
    },
    "tags": []
   },
   "outputs": [
    {
     "name": "stdout",
     "output_type": "stream",
     "text": [
      "Found 57 microservices\n",
      "Total coupling value: 46.73586543172382 (0.819927463714453 avg.)\n",
      "Cohesion value: 0.9571291234304415\n",
      "\n",
      "Entities in Microservice 0:\n",
      "- LocaleType\n",
      "- CustomerAddressType\n",
      "- CustomerPhoneImpl\n",
      "- GeolocationDTO\n",
      "- OfferTimeZoneType\n",
      "- OfferType\n",
      "- StackabilityType\n",
      "- OfferItemRestrictionRuleType\n",
      "- OfferRuleType\n",
      "- OfferProrationType\n",
      "- StructuredContentCartRuleProcessor\n",
      "- PageCartRuleProcessor\n",
      "- AvailabilityStatusType\n",
      "- ProductOptionType\n",
      "- SkuFeeType\n",
      "- AbstractMergeBeanPostProcessor\n",
      "- EarlyStageMergeBeanPostProcessor\n",
      "- LateStageMergeBeanPostProcessor\n",
      "- ThreadLocalManager\n",
      "- PaymentAdditionalFieldType\n",
      "- PaymentDeclineType\n",
      "- StructuredContentDTOWrapper\n",
      "- StructuredContentDTO\n",
      "- ItemCriteriaDTO\n",
      "- PageDTO\n",
      "- NullPageDTO\n",
      "- TranslationConsiderationContext\n",
      "- ResourceTagAttributes\n",
      "Entities in Microservice 1:\n",
      "- CustomerPaymentImpl\n",
      "- InfiniteExpiryPolicy\n",
      "- OneMinuteExpiryPolicy\n",
      "- TwentyFourHourExpiryPolicy\n",
      "- TwelveHourExpiryPolicy\n",
      "- DefaultExpiryPolicy\n",
      "- ThirtyMinuteExpiryPolicy\n",
      "- OneHourExpiryPolicy\n",
      "- TenMinuteExpiryPolicy\n",
      "- EmailServiceMDP\n",
      "- MessageCreator\n",
      "- NullMessageCreator\n",
      "Entities in Microservice 2:\n",
      "- PhoneImpl\n",
      "- CustomerPersistedEvent\n",
      "- SiteMapWrapper\n",
      "- SiteMapIndexWrapper\n",
      "Entities in Microservice 3:\n",
      "- StateImpl\n",
      "Entities in Microservice 4:\n",
      "- CountrySubdivisionImpl\n",
      "- AbstractRemoveBeanPostProcessor\n",
      "- EarlyStageRemoveBeanPostProcessor\n",
      "- LateStageRemoveBeanPostProcessor\n",
      "- DayOfMonthType\n",
      "- BroadleafEnvironmentConfigurer\n",
      "- BroadleafEnvironmentConfiguringPostProcessor\n",
      "- BroadleafEnvironmentConfiguringApplicationListener\n",
      "- TransactionInfo\n",
      "- CompressedItem\n",
      "- LifecycleAwareJpaTransactionManager\n",
      "- TransactionLifecycleEvent\n",
      "Entities in Microservice 5:\n",
      "- CustomerImpl\n",
      "- FulfillmentBandImpl\n",
      "- FulfillmentPriceBandImpl\n",
      "- FulfillmentWeightBandImpl\n",
      "- DiscreteOrderItemImpl\n",
      "- GiftWrapOrderItemImpl\n",
      "- BundleOrderItemImpl\n",
      "- OrderImpl\n",
      "- DynamicPriceDiscreteOrderItemImpl\n",
      "- OrderItemImpl\n",
      "- Auditable\n",
      "- AbstractModuleConfiguration\n",
      "- ContainerShapeType\n",
      "- PreviewStatus\n",
      "- SiteMapConfigurationImpl\n",
      "Entities in Microservice 6:\n",
      "- CountryImpl\n",
      "- LegacyOfferUsesImpl\n",
      "- WeaveLegacyOfferUses\n",
      "- MessageType\n",
      "- SolrJSONFacet\n",
      "Entities in Microservice 7:\n",
      "- CustomerUserDetails\n",
      "- CustomerForgotPasswordSecurityTokenImpl\n",
      "- CustomerRoleImpl\n",
      "- CustomerAttributeImpl\n",
      "- CustomerAddressImpl\n",
      "- CustomerRuleHolder\n",
      "- RegisterCustomerEvent\n",
      "- ForgotUsernameEvent\n",
      "- ForgotPasswordEvent\n",
      "- FulfillmentEstimationResponse\n",
      "- PricingException\n",
      "- OfferContext\n",
      "- PromotionDiscount\n",
      "- FulfillmentGroupOfferPotential\n",
      "- PromotionQualifierWrapper\n",
      "- CandidatePromotionItems\n",
      "- PromotionQualifier\n",
      "- PromotableCandidateOrderOfferImpl\n",
      "- PromotableOrderItemPriceDetailImpl\n",
      "- PromotableCandidateFulfillmentGroupOfferImpl\n",
      "- PromotableFulfillmentGroupAdjustmentImpl\n",
      "- PromotableOrderAdjustmentImpl\n",
      "- PromotableCandidateItemOfferImpl\n",
      "- AbstractPromotionRounding\n",
      "- PromotableOrderItemPriceDetailAdjustmentImpl\n",
      "- PromotableFulfillmentGroupImpl\n",
      "- PromotableOrderImpl\n",
      "- OfferDiscountType\n",
      "- CustomerMaxUsesStrategyType\n",
      "- OfferMaxUseExceededException\n",
      "- OfferException\n",
      "- OfferExpiredException\n",
      "- OfferAlreadyAddedException\n",
      "- OfferCodeImpl\n",
      "- OfferPriceDataImpl\n",
      "- OrderItemAdjustmentImpl\n",
      "- OfferImpl\n",
      "- OrderItemPriceDetailAdjustmentImpl\n",
      "- PromotionMessageImpl\n",
      "- PromotionMessageDTO\n",
      "- OrderPaymentStatus\n",
      "- PaymentProcessorException\n",
      "- InsufficientFundsException\n",
      "- OrderPaymentImpl\n",
      "- PaymentTransactionImpl\n",
      "- CheckoutException\n",
      "- PricingServiceActivity\n",
      "- CompositeActivity\n",
      "- CheckoutSeed\n",
      "- StoreImpl\n",
      "- AbstractOrderItemRequest\n",
      "- FulfillmentGroupItemRequest\n",
      "- AddToCartItems\n",
      "- ConfigurableOrderItemRequest\n",
      "- FulfillmentGroupRequest\n",
      "- ProductBundleOrderItemRequest\n",
      "- ReconstructCartResponse\n",
      "- OrderItemRequest\n",
      "- NonDiscreteOrderItemRequestDTO\n",
      "- DiscreteOrderItemRequest\n",
      "- BundleOrderItemRequest\n",
      "- GiftWrapOrderItemRequest\n",
      "- AddToCartItem\n",
      "- MergeCartResponse\n",
      "- UpdateCartResponse\n",
      "- OrderMultishipOptionDTO\n",
      "- ActivityMessageDTO\n",
      "- OrderItemRequestDTO\n",
      "- UpdateCartException\n",
      "- MinQuantityNotFulfilledException\n",
      "- ItemNotFoundException\n",
      "- IllegalCartOperationException\n",
      "- RemoveFromCartException\n",
      "- RequiredAttributeNotProvidedException\n",
      "- ProductOptionValidationException\n",
      "- AddToCartException\n",
      "- AbstractCheckAvailabilityActivity\n",
      "- CartOperationRequest\n",
      "- OrderAttributeImpl\n",
      "- OrderItemAttributeImpl\n",
      "- OrderMultishipOptionImpl\n",
      "- OrderItemHolder\n",
      "- SolrConfiguration\n",
      "- BroadleafCloudSolrClient\n",
      "- FileSystemSolrIndexStatusProviderImpl\n",
      "- SolrSearchServiceImpl\n",
      "- SolrIndexCachedOperation\n",
      "- GlobalSolrFullReIndexOperation\n",
      "- SkuPricingConsiderationContext\n",
      "- DynamicSkuPrices\n",
      "- DefaultDynamicSkuPricingInvocationHandler\n",
      "- ProductOptionValidationType\n",
      "- ProductBundleImpl\n",
      "- SkuBundleItemImpl\n",
      "- CategoryImpl\n",
      "- RelatedProductTypeEnum\n",
      "- ProductImpl\n",
      "- RelatedProductDTO\n",
      "- ProductBundleComparator\n",
      "- SkuPriceWrapper\n",
      "- WorkflowException\n",
      "- DefaultProcessContextImpl\n",
      "- RollbackStateLocal\n",
      "- CustomerLoggedInEvent\n",
      "- CustomerAuthenticatedFromCookieEvent\n",
      "- PhoneNameForm\n",
      "- RegisterCustomerForm\n",
      "- OrderInfoForm\n",
      "- BillingInfoForm\n",
      "- OrderMultishipOptionForm\n",
      "- ShippingInfoForm\n",
      "- PaymentInfoForm\n",
      "- CheckoutSectionDTO\n",
      "- CheckoutSectionViewType\n",
      "- CheckoutSectionStateType\n",
      "- OrderLockAcquisitionFailureException\n",
      "- NonPersistentSiteThreadLocalCache\n",
      "- SiteImpl\n",
      "- CatalogImpl\n",
      "- CleanStringException\n",
      "- StaleStateServiceException\n",
      "- PasswordChange\n",
      "- PasswordReset\n",
      "- MultiTenantCopyContext\n",
      "- GenericResponse\n",
      "- StopWatch\n",
      "- QueryUtils\n",
      "- PaymentGatewayRequestType\n",
      "- PaymentTransactionType\n",
      "- PaymentGatewayType\n",
      "- PaymentType\n",
      "- PaymentRequestDTO\n",
      "- LineItemDTO\n",
      "- PaymentResponseDTO\n",
      "- Money\n",
      "- EmailInfo\n",
      "- NullEmailInfo\n",
      "- EmailException\n",
      "- Attachment\n",
      "- WeaveArchiveStatus\n",
      "- EmailStatusHandler\n",
      "- FulfillmentPriceException\n",
      "- PaymentException\n",
      "- FulfillmentPriceHostException\n",
      "- TargetModeType\n",
      "- ArchiveStatus\n",
      "- SiteMapURLSetWrapper\n",
      "- SiteMapURLWrapper\n",
      "- SiteMapImageWrapper\n",
      "- SiteMapBuilder\n",
      "- SandBoxImpl\n",
      "- EntityInformationDto\n",
      "- ItemsFulfilledEvent\n",
      "- BroadleafApplicationEvent\n",
      "- ReindexEvent\n",
      "- ItemsReturnedEvent\n",
      "- OrderSubmittedEvent\n",
      "- ItemsCancelledEvent\n",
      "- EmailNotification\n",
      "- SMSNotification\n",
      "- Notification\n",
      "- BroadleafException\n",
      "- ServiceException\n",
      "- SecurityServiceException\n",
      "Entities in Microservice 8:\n",
      "- AddressImpl\n",
      "Entities in Microservice 9:\n",
      "- AbstractPostUpdateCustomerExtensionHandler\n",
      "- ShippingRateImpl\n",
      "- AbstractResourcePurgeExtensionHandler\n",
      "- AbstractSiteMapExtensionHandler\n",
      "- AbstractOfferValueModifierExtensionHandler\n",
      "- AbstractOfferServiceExtensionHandler\n",
      "- OrderOfferComparator\n",
      "- DefaultOfferCodeDaoExtensionHandler\n",
      "- AbstractValidateCheckoutActivityExtensionHandler\n",
      "- AbstractPostUpdateOrderExtensionHandler\n",
      "- AbstractOrderServiceExtensionHandler\n",
      "- AbstractMergeCartServiceExtensionHandler\n",
      "- AbstractOrderItemServiceExtensionHandler\n",
      "- AbstractValidateAddRequestActivityExtensionHandler\n",
      "- AbstractOrderDaoExtensionHandler\n",
      "- AbstractSolrSearchServiceExtensionHandler\n",
      "- AbstractSolrIndexServiceExtensionHandler\n",
      "- AbstractInventoryServiceExtensionHandler\n",
      "- AbstractCatalogServiceExtensionHandler\n",
      "- AbstractProductProcessorExtensionHandler\n",
      "- AbstractCategoryDaoExtensionHandler\n",
      "- AbstractProductDaoExtensionHandler\n",
      "- AbstractSkuDaoExtensionHandler\n",
      "- AbstractAnonymousCustomerExtensionHandler\n",
      "- DefaultCustomerMergeExtensionHandler\n",
      "- AbstractUpdateCartServiceExtensionHandler\n",
      "- AbstractCacheKeyResolverExtensionHandler\n",
      "- AbstractLinkedDataGeneratorExtensionHandler\n",
      "- AbstractCheckoutControllerExtensionHandler\n",
      "- AbstractConfirmationControllerExtensionHandler\n",
      "- AbstractCartStateRequestProcessorExtensionHandler\n",
      "- AbstractAuthSuccessHandlerExtensionHandler\n",
      "- AbstractCommonAddressValidatorExtensionHandler\n",
      "- AbstractDatabaseResourceResolverExtensionHandler\n",
      "- AbstractSiteServiceExtensionHandler\n",
      "- AbstractTemplateOverrideExtensionHandler\n",
      "- AbstractExtensionHandler\n",
      "- AbstractMultiTenantCopierExtensionHandler\n",
      "- AbstractBroadleafMergeResourceExtensionHandler\n",
      "- AbstractSystemPropertyServiceExtensionHandler\n",
      "- AbstractEntityInformationServiceExtensionHandler\n",
      "- AbstractBroadleafTemplateResolverExtensionHandler\n",
      "- AbstractBLCICacheExtensionHandler\n",
      "- AbstractTRCreditCardExtensionHandler\n",
      "- AbstractCreditCardTypesExtensionHandler\n",
      "- AbstractPaymentGatewayFieldExtensionHandler\n",
      "- AbstractResourceRequestExtensionHandler\n",
      "Entities in Microservice 10:\n",
      "- LastPaymentStatus\n",
      "- CodeTypeImpl\n",
      "- IndexStatusInfoImpl\n",
      "- CategorySiteMapGeneratorConfigurationImpl\n",
      "- MonthType\n",
      "- CustomUrlSiteMapGeneratorConfigurationImpl\n",
      "- SiteMapGeneratorConfigurationImpl\n",
      "- ResourcesRequestBundle\n",
      "Entities in Microservice 11:\n",
      "- CustomerOfferImpl\n",
      "- CreditCardInfoForm\n",
      "- DimensionUnitOfMeasureType\n",
      "- ConditionalDirectCopyTransformMemberDto\n",
      "Entities in Microservice 12:\n",
      "- OfferAuditImpl\n",
      "- ProductHandlerMapping\n",
      "- SkuHandlerMapping\n",
      "- CategoryHandlerMapping\n",
      "- EmailPropertyType\n",
      "- ResourceMinificationException\n",
      "- BLCAbstractHandlerMapping\n",
      "Entities in Microservice 13:\n",
      "- RatingType\n",
      "- RatingSortType\n",
      "Entities in Microservice 14:\n",
      "- ReviewDetailImpl\n",
      "- HourOfDayType\n",
      "- FileSystemResponseWrapper\n",
      "Entities in Microservice 15:\n",
      "- PromotionMessageType\n",
      "- RatingSummaryImpl\n",
      "- CustomChallengeQuestionEditor\n",
      "- CustomerAddressForm\n",
      "- ServerInfo\n",
      "- SystemPropertyFieldType\n",
      "- ConditionalFieldAnnotationCopyTransformMemberDTO\n",
      "- SessionlessHttpServletRequestWrapper\n",
      "Entities in Microservice 16:\n",
      "- OrderStatus\n",
      "- WebRequestDeviceType\n",
      "Entities in Microservice 17:\n",
      "- FulfillmentGroupStatusType\n",
      "- Filter\n",
      "- PropertyFilter\n",
      "- TQOrder\n",
      "- TQRestriction\n",
      "- TQJoin\n",
      "- TypedQueryBuilder\n",
      "Entities in Microservice 18:\n",
      "- OrderItemType\n",
      "- BaseProcessor\n",
      "- OnEhCacheMissingCondition\n",
      "- OnEhCacheCondition\n",
      "- MergePersistenceUnitManager\n",
      "- RemoveCacheClassTransformer\n",
      "- DirectCopyIgnorePattern\n",
      "- ConditionalFieldAnnotationsClassTransformer\n",
      "- OptionalDirectCopyClassTransformer\n",
      "- RemoveAnnotationClassTransformer\n",
      "- AnnotationsCopyClassTransformer\n",
      "- AbstractClassTransformer\n",
      "- DirectCopyClassTransformer\n",
      "- AlterTableNameClassTransformer\n",
      "- EntityMarkerClassTransformer\n",
      "- SingleTableInheritanceClassTransformer\n",
      "- SingleTableInheritanceInfo\n",
      "- SupportLogger\n",
      "- ProcessDetailLogger\n",
      "- DemoHsqlSingleLineSqlCommandExtractor\n",
      "- DemoPostgresSingleLineSqlCommandExtractor\n",
      "- DemoSqlServerSingleLineSqlCommandExtractor\n",
      "- DemoOracleSingleLineSqlCommandExtractor\n",
      "Entities in Microservice 19:\n",
      "- FulfillmentType\n",
      "- ReindexStateHolder\n",
      "Entities in Microservice 20:\n",
      "- BandedWeightFulfillmentOptionImpl\n",
      "- FixedPriceFulfillmentOptionImpl\n",
      "- BandedPriceFulfillmentOptionImpl\n",
      "- FulfillmentOptionImpl\n",
      "- FrameworkXmlBeanDefinitionReader\n",
      "- MergeXmlBeanDefinitionReader\n",
      "- SiteMapChangeFreqType\n",
      "Entities in Microservice 21:\n",
      "- RuleDTOConfig\n",
      "- FulfillmentGroupItemImpl\n",
      "- CookieRuleRequestProcessor\n",
      "- CookieRuleFilter\n",
      "- AbstractBroadleafWebRequestProcessor\n",
      "- AbstractIgnorableOncePerRequestFilter\n",
      "Entities in Microservice 22:\n",
      "- OrderPersistedEvent\n",
      "- NullOrderImpl\n",
      "Entities in Microservice 23:\n",
      "- FulfillmentGroupImpl\n",
      "- JCacheRegionConfiguration\n",
      "- MergeJCacheManagerFactoryBean\n",
      "- NodeReplaceInsert\n",
      "- NonEmptyNodeReplaceInsert\n",
      "- SpaceDelimitedNodeValueMerge\n",
      "- SchemaLocationNodeValueMerge\n",
      "- NodeValueMerge\n",
      "- InsertChildrenOf\n",
      "- AttributePreserveInsert\n",
      "- LiberalNodeReplaceInsert\n",
      "- CommaDelimitedNodeValueMerge\n",
      "- BaseHandler\n",
      "- InsertItems\n",
      "- NodeReplace\n",
      "- MetadataOverrideNodeReplaceInsert\n",
      "- SiteResolutionType\n",
      "Entities in Microservice 24:\n",
      "- SearchFacetImpl\n",
      "- GloballySharedInputStream\n",
      "- ContainerSizeType\n",
      "Entities in Microservice 25:\n",
      "- SearchCriteria\n",
      "- SearchResult\n",
      "- SearchFacetResultDTO\n",
      "- SearchFacetDTO\n",
      "- AccountNumberMask\n",
      "- UnmaskRange\n",
      "Entities in Microservice 26:\n",
      "- IndexFieldImpl\n",
      "- SiteMapPriorityType\n",
      "Entities in Microservice 27:\n",
      "- SearchFacetRangeImpl\n",
      "- CacheAwareResponseHandler\n",
      "- BroadleafResourceHttpRequestHandler\n",
      "Entities in Microservice 28:\n",
      "- ShippingServiceType\n",
      "- IndexFieldTypeImpl\n",
      "- AuditableListener\n",
      "- AbstractAuditableListener\n",
      "- BroadleafFormType\n",
      "Entities in Microservice 29:\n",
      "- FieldEntity\n",
      "- ORMConfigDto\n",
      "- ORMConfigPersistenceUnitPostProcessor\n",
      "- FilterDefinition\n",
      "- FilterParameter\n",
      "- SMSMessage\n",
      "- MinuteType\n",
      "Entities in Microservice 30:\n",
      "- FieldImpl\n",
      "- DynamicSupportedFieldType\n",
      "Entities in Microservice 31:\n",
      "- FieldType\n",
      "Entities in Microservice 32:\n",
      "- SearchRedirectImpl\n",
      "- ProductOptionValidationStrategyType\n",
      "- XssRequestWrapper\n",
      "Entities in Microservice 33:\n",
      "- ParentCategoryByProduct\n",
      "Entities in Microservice 34:\n",
      "- OfferAdjustmentType\n",
      "- OfferPriceDataIdentifierType\n",
      "- ParentCategoryByCategory\n",
      "Entities in Microservice 35:\n",
      "- CatalogStructure\n",
      "- LocaleImpl\n",
      "Entities in Microservice 36:\n",
      "- ProductType\n",
      "Entities in Microservice 37:\n",
      "- Dimension\n",
      "- SkuImpl\n",
      "- Weight\n",
      "Entities in Microservice 38:\n",
      "- ProductOptionImpl\n",
      "- NoOpCache\n",
      "- NoOpCacheManager\n",
      "Entities in Microservice 39:\n",
      "- PromotableOrderItemImpl\n",
      "- TaxType\n",
      "- ProductOptionXrefImpl\n",
      "- ServiceMonitor\n",
      "- ServiceStatusType\n",
      "Entities in Microservice 40:\n",
      "- CategoryProductXrefImpl\n",
      "Entities in Microservice 41:\n",
      "- ProductOptionValueImpl\n",
      "- ExplicitPrioritySequenceProcessor\n",
      "- EmptySequenceProcessor\n",
      "- SequenceProcessor\n",
      "Entities in Microservice 42:\n",
      "- SkuProductOptionValueXrefImpl\n",
      "- TableCreator\n",
      "Entities in Microservice 43:\n",
      "- ProductBundlePricingModelType\n",
      "- AssignedProductOptionDTO\n",
      "- AbstractCartController\n",
      "- BroadleafCartController\n",
      "- BroadleafPaymentInfoController\n",
      "- BroadleafShippingInfoController\n",
      "- BroadleafOrderConfirmationController\n",
      "- BroadleafBillingInfoController\n",
      "- BroadleafCheckoutController\n",
      "- AbstractCheckoutController\n",
      "- BroadleafContactUsController\n",
      "- BroadleafUpdateAccountController\n",
      "- BroadleafManageCustomerAddressesController\n",
      "- BroadleafSocialRegisterController\n",
      "- BroadleafLoginController\n",
      "- BroadleafRegisterController\n",
      "- AbstractAccountController\n",
      "- BroadleafManageCustomerPaymentsController\n",
      "- AbstractCustomerAddressController\n",
      "- BroadleafChangePasswordController\n",
      "- BroadleafManageWishlistController\n",
      "- BroadleafOrderHistoryController\n",
      "- BroadleafSearchController\n",
      "- AbstractCatalogController\n",
      "- BroadleafCategoryController\n",
      "- BroadleafSkuController\n",
      "- BroadleafProductController\n",
      "- CustomerPaymentGatewayAbstractController\n",
      "- PaymentGatewayAbstractController\n",
      "- BroadleafAbstractController\n",
      "Entities in Microservice 44:\n",
      "- ExtensionResultHolder\n",
      "- ISOCodeStatusType\n",
      "Entities in Microservice 45:\n",
      "- ItemOfferQtyOneComparator\n",
      "- StandardCacheItem\n",
      "- IdentityUtilContext\n",
      "Entities in Microservice 46:\n",
      "- DefaultDynamicSkuPricingFilter\n",
      "- AbstractDynamicSkuPricingFilter\n",
      "- ResourceInputStream\n",
      "- DynamicResourceIterator\n",
      "- MergeXmlConfigResource\n",
      "- MergeJPAPersistenceResource\n",
      "- SystemSupportLoggerAdapter\n",
      "- AbstractSupportLoggerAdapter\n",
      "- SLF4JSupportLoggerAdapter\n",
      "- StreamCapableTransactionalOperationAdapter\n",
      "Entities in Microservice 47:\n",
      "- GiftCardInfoForm\n",
      "- HydrationDescriptor\n",
      "- EhcacheHydratedCacheManagerImpl\n",
      "- HydrationScanner\n",
      "- EhcacheHydratedCacheEventListener\n",
      "- AbstractHydratedCacheManager\n",
      "- HydrationItemDescriptor\n",
      "- BigMemoryHydratedCacheEventListener\n",
      "- BigMemoryHydratedCacheManagerImpl\n",
      "- EhcacheHydratedCacheJcacheEventListener\n",
      "- BigMemoryHydratedCacheJcacheEventListener\n",
      "- BatchRetrieveDao\n",
      "Entities in Microservice 48:\n",
      "- AddressVerificationException\n",
      "- ReviewStatusType\n",
      "- InventoryUnavailableException\n",
      "- InventoryType\n",
      "- RollbackFailureException\n",
      "- ModuleConfigurationType\n",
      "- TaxHostException\n",
      "- TaxException\n",
      "- BroadleafSystemEventDetail\n",
      "- BroadleafSystemEvent\n",
      "Entities in Microservice 49:\n",
      "- NullSystemProperty\n",
      "- LifecycleAwareJDBCServicesInitiator\n",
      "Entities in Microservice 50:\n",
      "- FullReindexCommand\n",
      "- IncrementalUpdateCommand\n",
      "- CatalogReindexCommand\n",
      "- SiteReindexCommand\n",
      "- AbstractSolrIndexUpdateServiceImpl\n",
      "- SolrUpdateCommand\n",
      "- SystemPropertyImpl\n",
      "Entities in Microservice 51:\n",
      "- PaymentLogEventType\n",
      "- SandBoxManagementImpl\n",
      "Entities in Microservice 52:\n",
      "- SandBoxType\n",
      "Entities in Microservice 53:\n",
      "- CacheStat\n",
      "- LocalePair\n",
      "- TranslatedEntity\n",
      "Entities in Microservice 54:\n",
      "- LegacyOrderServiceImpl\n",
      "- LegacyCartServiceImpl\n",
      "- TemplateType\n",
      "- TranslationImpl\n",
      "Entities in Microservice 55:\n",
      "- ItemOfferWeightedPercentComparator\n",
      "- ISOCountryImpl\n",
      "Entities in Microservice 56:\n",
      "- ItemOfferComparator\n",
      "- PromotionMessagePlacementType\n",
      "- FulfillmentBandResultAmountType\n",
      "- CatalogContextDTO\n",
      "- SkuActiveDateConsiderationContext\n",
      "- CheckoutStageType\n",
      "- CheckoutForm\n",
      "- RequestDTOImpl\n",
      "- ConfigurationOnlyState\n",
      "- FileServiceException\n",
      "- FileApplicationType\n",
      "- FileWorkArea\n",
      "- BreadcrumbDTO\n",
      "- BreadcrumbDTOType\n",
      "- WeightUnitOfMeasureType\n",
      "- CreditCardType\n",
      "- FixedTimeSource\n",
      "- DayOfWeekType\n",
      "- AutoImportSql\n",
      "- BroadleafRequestedCurrencyDto\n",
      "- SiteMapGenerationResponse\n",
      "- SiteMapGeneratorType\n",
      "- GeneratedResource\n",
      "- BundledResourceInfo\n",
      "- BroadleafRequestContext\n",
      "- SandBoxContext\n",
      "- BroadleafDefaultResourceResolverChain\n",
      "- HaltFilterChainException\n",
      "\n",
      "\n",
      "\n",
      "# of method calls crossing microservices: 31\n",
      "# of entity references crossing microservices: 6\n",
      "# of entity usages crossing microservices: 64\n",
      "# of methods persisting entities of other microservices: 67\n"
     ]
    },
    {
     "data": {
      "application/scrapbook.scrap.json+json": {
       "data": 57,
       "encoder": "json",
       "name": "n_micros",
       "version": 1
      }
     },
     "metadata": {
      "scrapbook": {
       "data": true,
       "display": false,
       "name": "n_micros"
      }
     },
     "output_type": "display_data"
    },
    {
     "data": {
      "application/scrapbook.scrap.json+json": {
       "data": 0.819927463714453,
       "encoder": "json",
       "name": "avg_cop",
       "version": 1
      }
     },
     "metadata": {
      "scrapbook": {
       "data": true,
       "display": false,
       "name": "avg_cop"
      }
     },
     "output_type": "display_data"
    },
    {
     "data": {
      "application/scrapbook.scrap.json+json": {
       "data": 0.9571291234304415,
       "encoder": "json",
       "name": "cohesion",
       "version": 1
      }
     },
     "metadata": {
      "scrapbook": {
       "data": true,
       "display": false,
       "name": "cohesion"
      }
     },
     "output_type": "display_data"
    },
    {
     "data": {
      "application/scrapbook.scrap.json+json": {
       "data": 31,
       "encoder": "json",
       "name": "n_calls",
       "version": 1
      }
     },
     "metadata": {
      "scrapbook": {
       "data": true,
       "display": false,
       "name": "n_calls"
      }
     },
     "output_type": "display_data"
    },
    {
     "data": {
      "application/scrapbook.scrap.json+json": {
       "data": 6,
       "encoder": "json",
       "name": "n_refs",
       "version": 1
      }
     },
     "metadata": {
      "scrapbook": {
       "data": true,
       "display": false,
       "name": "n_refs"
      }
     },
     "output_type": "display_data"
    },
    {
     "data": {
      "application/scrapbook.scrap.json+json": {
       "data": 64,
       "encoder": "json",
       "name": "n_uses",
       "version": 1
      }
     },
     "metadata": {
      "scrapbook": {
       "data": true,
       "display": false,
       "name": "n_uses"
      }
     },
     "output_type": "display_data"
    },
    {
     "data": {
      "application/scrapbook.scrap.json+json": {
       "data": 67,
       "encoder": "json",
       "name": "n_persist",
       "version": 1
      }
     },
     "metadata": {
      "scrapbook": {
       "data": true,
       "display": false,
       "name": "n_persist"
      }
     },
     "output_type": "display_data"
    },
    {
     "data": {
      "application/scrapbook.scrap.json+json": {
       "data": 1122.419296436894,
       "encoder": "json",
       "name": "total_w",
       "version": 1
      }
     },
     "metadata": {
      "scrapbook": {
       "data": true,
       "display": false,
       "name": "total_w"
      }
     },
     "output_type": "display_data"
    }
   ],
   "source": [
    "show_methods = False\n",
    "\n",
    "analysis_output = \"\"\n",
    "\n",
    "analysis_output += f'Found {str(n_micros)} microservices\\n'\n",
    "\n",
    "analysis_output += f'Total coupling value: {model.objVal} ({model.objVal/n_micros} avg.)\\n'\n",
    "analysis_output += f'Cohesion value: {cohesion}\\n\\n'\n",
    "\n",
    "for k in range(n_micros):\n",
    "    analysis_output += f'Entities in Microservice {str(k)}:\\n'\n",
    "    for i in G.nodes():\n",
    "        if G.nodes[i]['type'] == 'Entity' and x[i,k].x == 1:\n",
    "            analysis_output += f'- {G.nodes[i][\"name\"]}\\n'\n",
    "\n",
    "if show_methods:\n",
    "    for k in range(n_micros):\n",
    "        analysis_output += f'\\n\\nMethods in Microservice {str(k)}:\\n'\n",
    "        for i in G.nodes():\n",
    "            if G.nodes[i]['type'] == 'Method' and x[i,k].x == 1:\n",
    "                analysis_output += f'- {G.nodes[i][\"name\"]} ({G.nodes[i][\"class_name\"]})\\n'\n",
    "\n",
    "mcalls = 0\n",
    "references = 0\n",
    "uses = 0\n",
    "persists = 0\n",
    "\n",
    "for i,j in G.edges():\n",
    "    if y[i,j].x == 0:\n",
    "        if G[i][j]['rel_type'] == 'Calls':\n",
    "            mcalls += 1 \n",
    "        elif G[i][j]['rel_type'] == 'References':\n",
    "            references += 1\n",
    "        elif G[i][j]['rel_type'] == 'Uses':\n",
    "            uses += 1\n",
    "        elif G[i][j]['rel_type'] == 'Persists':\n",
    "            persists += 1\n",
    "\n",
    "analysis_output += f'\\n\\n\\n# of method calls crossing microservices: {mcalls}'\n",
    "analysis_output += f'\\n# of entity references crossing microservices: {references}'\n",
    "analysis_output += f'\\n# of entity usages crossing microservices: {uses}'\n",
    "analysis_output += f'\\n# of methods persisting entities of other microservices: {persists}'\n",
    "\n",
    "print(analysis_output)\n",
    "\n",
    "sb.glue(\"n_micros\", n_micros)\n",
    "sb.glue(\"avg_cop\", model.objVal/n_micros)\n",
    "sb.glue(\"cohesion\", cohesion)\n",
    "sb.glue(\"n_calls\", mcalls)\n",
    "sb.glue(\"n_refs\", references)\n",
    "sb.glue(\"n_uses\", uses)\n",
    "sb.glue(\"n_persist\", persists)\n",
    "sb.glue(\"total_w\", total_w)\n",
    "\n",
    "with open(analysis_out, 'w') as analysis_file:\n",
    "    analysis_file.write(analysis_output)"
   ]
  },
  {
   "cell_type": "code",
   "execution_count": 17,
   "id": "3519b123-a48c-4070-ab5f-b17393c76ad2",
   "metadata": {
    "editable": true,
    "execution": {
     "iopub.execute_input": "2025-09-27T04:25:01.528627Z",
     "iopub.status.busy": "2025-09-27T04:25:01.528430Z",
     "iopub.status.idle": "2025-09-27T04:25:01.796167Z",
     "shell.execute_reply": "2025-09-27T04:25:01.795625Z"
    },
    "papermill": {
     "duration": 0.278167,
     "end_time": "2025-09-27T04:25:01.797223",
     "exception": false,
     "start_time": "2025-09-27T04:25:01.519056",
     "status": "completed"
    },
    "slideshow": {
     "slide_type": ""
    },
    "tags": []
   },
   "outputs": [],
   "source": [
    "with open(solution_csv_out, 'w') as results_csv:\n",
    "    results_csv.write('node_key,microservice\\n')\n",
    "    counter = 0\n",
    "    for i in G.nodes():\n",
    "        for k in range(n_micros):\n",
    "            if x[i,k].x == 1:\n",
    "                results_csv.write(f'{i},{k}\\n')\n",
    "                counter+=1\n",
    "    \n",
    "    if counter!=len(G.nodes()):\n",
    "        print('Error! There are nodes not assigned into microservices?!')"
   ]
  },
  {
   "cell_type": "code",
   "execution_count": 18,
   "id": "6e8cfeef-174f-4742-ac5f-4862676bad36",
   "metadata": {
    "editable": true,
    "execution": {
     "iopub.execute_input": "2025-09-27T04:25:01.816156Z",
     "iopub.status.busy": "2025-09-27T04:25:01.815927Z",
     "iopub.status.idle": "2025-09-27T04:25:01.818777Z",
     "shell.execute_reply": "2025-09-27T04:25:01.818172Z"
    },
    "papermill": {
     "duration": 0.013832,
     "end_time": "2025-09-27T04:25:01.819697",
     "exception": false,
     "start_time": "2025-09-27T04:25:01.805865",
     "status": "completed"
    },
    "slideshow": {
     "slide_type": ""
    },
    "tags": []
   },
   "outputs": [],
   "source": [
    "if not headless:\n",
    "    DrawSol(G, x, graph_image_out)\n",
    "    \n",
    "    display(Image(filename = graph_image_out))"
   ]
  }
 ],
 "metadata": {
  "kernelspec": {
   "display_name": "Python 3 (ipykernel)",
   "language": "python",
   "name": "python3"
  },
  "language_info": {
   "codemirror_mode": {
    "name": "ipython",
    "version": 3
   },
   "file_extension": ".py",
   "mimetype": "text/x-python",
   "name": "python",
   "nbconvert_exporter": "python",
   "pygments_lexer": "ipython3",
   "version": "3.12.3"
  },
  "papermill": {
   "default_parameters": {},
   "duration": 580.566461,
   "end_time": "2025-09-27T04:25:02.644319",
   "environment_variables": {},
   "exception": null,
   "input_path": "2-Decomposition_optimization.ipynb",
   "output_path": "outputs/output_step_2_broadleaf-commerce.ipynb",
   "parameters": {
    "headless": true,
    "project": "broadleaf-commerce",
    "w": {
     "Calls": 0.3502793904700223,
     "Extends": 0.055467447464847164,
     "Persists": 0.261108188312347,
     "References": 0.05352974055867549,
     "Uses": 0.2796152331941081
    }
   },
   "start_time": "2025-09-27T04:15:22.077858",
   "version": "2.6.0"
  },
  "vscode": {
   "interpreter": {
    "hash": "84d57bcf988df7741739090f92038d55c89d5ee4bebfcc0bea6a6c98a16573ca"
   }
  }
 },
 "nbformat": 4,
 "nbformat_minor": 5
}