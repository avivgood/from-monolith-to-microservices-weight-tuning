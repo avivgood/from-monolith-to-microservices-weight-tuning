{
 "cells": [
  {
   "cell_type": "code",
   "execution_count": 1,
   "id": "63ce5fa3-e2cb-4565-ba94-8fa943d68162",
   "metadata": {
    "execution": {
     "iopub.execute_input": "2025-09-27T13:53:48.777987Z",
     "iopub.status.busy": "2025-09-27T13:53:48.777155Z",
     "iopub.status.idle": "2025-09-27T13:53:49.436240Z",
     "shell.execute_reply": "2025-09-27T13:53:49.432360Z"
    },
    "papermill": {
     "duration": 0.722987,
     "end_time": "2025-09-27T13:53:49.440249",
     "exception": false,
     "start_time": "2025-09-27T13:53:48.717262",
     "status": "completed"
    },
    "tags": []
   },
   "outputs": [],
   "source": [
    "#!/usr/bin/env python\n",
    "\n",
    "import os, sys, csv, json\n",
    "import networkx as nx\n",
    "import pygraphviz as pygv\n",
    "from IPython.display import Image, display\n",
    "\n",
    "# Import javalang from local directory\n",
    "sys.path.append(\"./\")\n",
    "import javalang"
   ]
  },
  {
   "cell_type": "markdown",
   "id": "11b12ec2-c3bf-4832-92cb-96a126639fb6",
   "metadata": {
    "papermill": {
     "duration": 0.031118,
     "end_time": "2025-09-27T13:53:49.502070",
     "exception": false,
     "start_time": "2025-09-27T13:53:49.470952",
     "status": "completed"
    },
    "tags": []
   },
   "source": [
    "## 1. Project selection"
   ]
  },
  {
   "cell_type": "markdown",
   "id": "725b699b-251f-437f-9113-dbef515186c3",
   "metadata": {
    "papermill": {
     "duration": 0.026573,
     "end_time": "2025-09-27T13:53:49.559170",
     "exception": false,
     "start_time": "2025-09-27T13:53:49.532597",
     "status": "completed"
    },
    "tags": []
   },
   "source": [
    "### _Configuration!_\n",
    "\n",
    "Set the project to be analyzed in the _project_ variable\n",
    "\n",
    "Set to **True** the _read_from_file_ variable to read from an existing exclusions file.\\\n",
    "If the the refinement file need to be updated or created, set to **True** the _update_refinement_ variable"
   ]
  },
  {
   "cell_type": "code",
   "execution_count": 2,
   "id": "5f2e26f4-8ea3-49f9-bb71-68e84b560ea3",
   "metadata": {
    "editable": true,
    "execution": {
     "iopub.execute_input": "2025-09-27T13:53:49.599736Z",
     "iopub.status.busy": "2025-09-27T13:53:49.598892Z",
     "iopub.status.idle": "2025-09-27T13:53:49.611692Z",
     "shell.execute_reply": "2025-09-27T13:53:49.606920Z"
    },
    "papermill": {
     "duration": 0.038865,
     "end_time": "2025-09-27T13:53:49.617183",
     "exception": false,
     "start_time": "2025-09-27T13:53:49.578318",
     "status": "completed"
    },
    "slideshow": {
     "slide_type": ""
    },
    "tags": [
     "parameters"
    ]
   },
   "outputs": [],
   "source": [
    "# CONFIGURATION:\n",
    "\n",
    "project = 'shopizer-2x' # <-- Set this variable!\n",
    "\n",
    "read_from_file = True # <-- Set this variable!\n",
    "update_refinement = False  # <-- Set this variable!\n",
    "headless = False"
   ]
  },
  {
   "cell_type": "code",
   "execution_count": 3,
   "id": "c7ff20db",
   "metadata": {
    "execution": {
     "iopub.execute_input": "2025-09-27T13:53:49.678716Z",
     "iopub.status.busy": "2025-09-27T13:53:49.678168Z",
     "iopub.status.idle": "2025-09-27T13:53:49.695026Z",
     "shell.execute_reply": "2025-09-27T13:53:49.691610Z"
    },
    "papermill": {
     "duration": 0.047815,
     "end_time": "2025-09-27T13:53:49.700789",
     "exception": false,
     "start_time": "2025-09-27T13:53:49.652974",
     "status": "completed"
    },
    "tags": [
     "injected-parameters"
    ]
   },
   "outputs": [],
   "source": [
    "# Parameters\n",
    "project = \"jpetstore\"\n",
    "read_from_file = True\n",
    "update_refinement = False\n",
    "headless = True\n"
   ]
  },
  {
   "cell_type": "code",
   "execution_count": 4,
   "id": "c8147890-0c46-4482-9356-3c8ab6726e75",
   "metadata": {
    "execution": {
     "iopub.execute_input": "2025-09-27T13:53:49.746365Z",
     "iopub.status.busy": "2025-09-27T13:53:49.743579Z",
     "iopub.status.idle": "2025-09-27T13:53:49.762170Z",
     "shell.execute_reply": "2025-09-27T13:53:49.757791Z"
    },
    "papermill": {
     "duration": 0.041295,
     "end_time": "2025-09-27T13:53:49.764899",
     "exception": false,
     "start_time": "2025-09-27T13:53:49.723604",
     "status": "completed"
    },
    "tags": []
   },
   "outputs": [],
   "source": [
    "with open('projects.json', 'r') as projects:\n",
    "    project_found = False\n",
    "    for data in json.load(projects):\n",
    "        if data['name'] == project:\n",
    "            source_basedir = data['source_basedir']\n",
    "            analysis_results_basedir = data['analysis_results_basedir']\n",
    "            project_found = True\n",
    "    if not project_found:\n",
    "        print('ERROR: project ' + project + ' does not appear in project.json')"
   ]
  },
  {
   "cell_type": "code",
   "execution_count": 5,
   "id": "a97c9013-802a-4086-8d11-0a40b3c3db4e",
   "metadata": {
    "execution": {
     "iopub.execute_input": "2025-09-27T13:53:49.810343Z",
     "iopub.status.busy": "2025-09-27T13:53:49.807682Z",
     "iopub.status.idle": "2025-09-27T13:53:49.828418Z",
     "shell.execute_reply": "2025-09-27T13:53:49.824780Z"
    },
    "papermill": {
     "duration": 0.048119,
     "end_time": "2025-09-27T13:53:49.833880",
     "exception": false,
     "start_time": "2025-09-27T13:53:49.785761",
     "status": "completed"
    },
    "tags": []
   },
   "outputs": [],
   "source": [
    "# Extract all the Java files from the project direcotry\n",
    "avoid_directories = ['.git', '.ipynb_checkpoints', 'test', 'resources']\n",
    "avoid_files = ['package-info.java']\n",
    "\n",
    "java_files = []\n",
    "\n",
    "for dirname, dirnames, filenames in os.walk(source_basedir):\n",
    "    for avoid_dir in avoid_directories:\n",
    "        if avoid_dir in dirnames:\n",
    "            # don't go into any .git directories.\n",
    "            dirnames.remove(avoid_dir)\n",
    "    # print path to all filenames.\n",
    "    for filename in filenames:\n",
    "        if filename.endswith('.java') and filename not in avoid_files:\n",
    "            java_files.append(os.path.join(dirname, filename))\n",
    "\n",
    "if not java_files:\n",
    "    print('ERROR: no Java files found in selected path')"
   ]
  },
  {
   "cell_type": "markdown",
   "id": "50d9c214-8642-4d9c-82e5-e5cd6af16d35",
   "metadata": {
    "papermill": {
     "duration": 0.030142,
     "end_time": "2025-09-27T13:53:49.893976",
     "exception": false,
     "start_time": "2025-09-27T13:53:49.863834",
     "status": "completed"
    },
    "tags": []
   },
   "source": [
    "## 2. Project scan\n",
    "\n",
    "Classes will be listed in order to preview their inferred role in the application (if entity, if from the logic/controller layer, if from the repository layer)"
   ]
  },
  {
   "cell_type": "code",
   "execution_count": 6,
   "id": "f449eb89-319a-4777-b1d2-b93c0877576d",
   "metadata": {
    "execution": {
     "iopub.execute_input": "2025-09-27T13:53:49.953678Z",
     "iopub.status.busy": "2025-09-27T13:53:49.949047Z",
     "iopub.status.idle": "2025-09-27T13:53:50.346114Z",
     "shell.execute_reply": "2025-09-27T13:53:50.340563Z"
    },
    "papermill": {
     "duration": 0.424403,
     "end_time": "2025-09-27T13:53:50.349328",
     "exception": false,
     "start_time": "2025-09-27T13:53:49.924925",
     "status": "completed"
    },
    "tags": []
   },
   "outputs": [
    {
     "name": "stdout",
     "output_type": "stream",
     "text": [
      "Logic\t\tCatalogService\t\torg.mybatis.jpetstore.service\n",
      "Logic\t\tAccountService\t\torg.mybatis.jpetstore.service\n",
      "Logic\t\tOrderService\t\torg.mybatis.jpetstore.service\n",
      "Entity\t\tCategory\t\torg.mybatis.jpetstore.domain\n",
      "Entity\t\tItem\t\torg.mybatis.jpetstore.domain\n",
      "Entity\t\tLineItem\t\torg.mybatis.jpetstore.domain\n",
      "Entity\t\tOrder\t\torg.mybatis.jpetstore.domain\n",
      "Entity\t\tCart\t\torg.mybatis.jpetstore.domain\n",
      "Entity\t\tProduct\t\torg.mybatis.jpetstore.domain\n",
      "Entity\t\tCartItem\t\torg.mybatis.jpetstore.domain\n",
      "Entity\t\tAccount\t\torg.mybatis.jpetstore.domain\n",
      "Entity\t\tSequence\t\torg.mybatis.jpetstore.domain\n",
      "Interface\tCategoryMapper\t\torg.mybatis.jpetstore.mapper\n",
      "Interface\tProductMapper\t\torg.mybatis.jpetstore.mapper\n",
      "Interface\tOrderMapper\t\torg.mybatis.jpetstore.mapper\n",
      "Interface\tAccountMapper\t\torg.mybatis.jpetstore.mapper\n",
      "Interface\tSequenceMapper\t\torg.mybatis.jpetstore.mapper\n",
      "Interface\tLineItemMapper\t\torg.mybatis.jpetstore.mapper\n",
      "Interface\tItemMapper\t\torg.mybatis.jpetstore.mapper\n",
      "Entity\t\tCartActionBean\t\torg.mybatis.jpetstore.web.actions\n",
      "Entity\t\tAbstractActionBean\t\torg.mybatis.jpetstore.web.actions\n",
      "Entity\t\tOrderActionBean\t\torg.mybatis.jpetstore.web.actions\n",
      "Entity\t\tCatalogActionBean\t\torg.mybatis.jpetstore.web.actions\n",
      "Entity\t\tAccountActionBean\t\torg.mybatis.jpetstore.web.actions\n"
     ]
    }
   ],
   "source": [
    "# Build nodes.csv file for the project (need for cleaning?)\n",
    "exclude_annotations = ['Configuration', 'SpringBootApplication', 'Aspect', 'ControllerAdvice'] # List of annotations to exclude\n",
    "logic_annotations = ['Service', 'Component', 'Controller', 'RestController', 'Path'] # List of annotations for logic classes\n",
    "repository_annotations = ['Repository']\n",
    "\n",
    "compilation_units = []\n",
    "\n",
    "def pkg_name(tree):\n",
    "    return getattr(getattr(tree, \"package\", None), \"name\", \"default\")\n",
    "\n",
    "\n",
    "for file in java_files:\n",
    "    with open(file, 'r') as javafile:\n",
    "        try:\n",
    "            tree = javalang.parse.parse(javafile.read())\n",
    "            compilation_units.append(tree)\n",
    "        except Exception as e:\n",
    "            print(\"ERROR: Exception {} raised while parsing {}: {} \".format(type(e), file, e))\n",
    "\n",
    "\n",
    "for tree in compilation_units:\n",
    "    for decl in tree.types:\n",
    "        # Go through all classes in order to list them\n",
    "        if isinstance(decl, javalang.tree.ClassDeclaration):\n",
    "            if any(annotation in logic_annotations for annotation in map(lambda a: a.name, decl.annotations)):\n",
    "                # If the class annotations are listed in logic_annotations consider the class as logic\n",
    "                print('Logic\\t\\t' + decl.name + '\\t\\t' + pkg_name(tree))\n",
    "\n",
    "            elif any(annotation in repository_annotations for annotation in map(lambda a: a.name, decl.annotations)):\n",
    "                # If the class annotations are listed in repository_annotations consider the class as repository\n",
    "                print('Repository\\t\\t' + decl.name + '\\t\\t' + pkg_name(tree))\n",
    "            \n",
    "            elif not any(annotation in exclude_annotations for annotation in map(lambda a: a.name, decl.annotations)):\n",
    "                # If annotations are not listed as logic (from the if guard) AND there are no annotations that have to be excluded consider as entities\n",
    "                print('Entity\\t\\t' + decl.name + '\\t\\t' + pkg_name(tree))\n",
    "\n",
    "            else:\n",
    "                # If annotations are excluded:\n",
    "                print('Excluded\\t' + decl.name + '\\t\\t' + pkg_name(tree))\n",
    "\n",
    "        elif isinstance(decl, javalang.tree.InterfaceDeclaration):\n",
    "            # List interfaces\n",
    "            print('Interface\\t' + decl.name + '\\t\\t' + pkg_name(tree))"
   ]
  },
  {
   "cell_type": "markdown",
   "id": "cc01aef0-fc4f-4974-bcff-ccad6c8f6db7",
   "metadata": {
    "papermill": {
     "duration": 0.018081,
     "end_time": "2025-09-27T13:53:50.419129",
     "exception": false,
     "start_time": "2025-09-27T13:53:50.401048",
     "status": "completed"
    },
    "tags": []
   },
   "source": [
    "## 3. Layer refinement"
   ]
  },
  {
   "cell_type": "markdown",
   "id": "89c1f375-6798-43f9-8aee-8bda1b8e2d6b",
   "metadata": {
    "editable": true,
    "papermill": {
     "duration": 0.017868,
     "end_time": "2025-09-27T13:53:50.454041",
     "exception": false,
     "start_time": "2025-09-27T13:53:50.436173",
     "status": "completed"
    },
    "slideshow": {
     "slide_type": ""
    },
    "tags": []
   },
   "source": [
    "### _User input required!_\n",
    "\n",
    "#### List\n",
    "- Packages and Classes to be excluded\n",
    "- Entities, Logic and Repository Classes or Packages that have not been automatically listed as entities, logic and repository classes\n",
    "- Interface of the repository layer that rely on Spring Data JPA framework, thus not having an implementing class (if needed)\n",
    "\n",
    "#### Otherwise\n",
    "Set to **True** the read_from_file variable to read from an existing refinement file.\\\n",
    "If the refinement file needs to be updated or created, set to **True** the update_refinement variable"
   ]
  },
  {
   "cell_type": "code",
   "execution_count": 7,
   "id": "1a61ce0a-e9e7-4f27-a6e2-00c26dcc19d9",
   "metadata": {
    "editable": true,
    "execution": {
     "iopub.execute_input": "2025-09-27T13:53:50.500626Z",
     "iopub.status.busy": "2025-09-27T13:53:50.495721Z",
     "iopub.status.idle": "2025-09-27T13:53:50.517838Z",
     "shell.execute_reply": "2025-09-27T13:53:50.516429Z"
    },
    "papermill": {
     "duration": 0.050271,
     "end_time": "2025-09-27T13:53:50.525844",
     "exception": false,
     "start_time": "2025-09-27T13:53:50.475573",
     "status": "completed"
    },
    "slideshow": {
     "slide_type": ""
    },
    "tags": []
   },
   "outputs": [],
   "source": [
    "# Set those variable if needed\n",
    "\n",
    "# Exclude packages\n",
    "# Exclude classes\n",
    "# Force entity packages\n",
    "# Force entity classes\n",
    "# Force logic packages\n",
    "# Force logic classes\n",
    "# Force repository packages\n",
    "# Force repository classes\n",
    "# Force repository interfaces\n",
    "\n",
    "exclude_packages = []\n",
    "exclude_classes = []\n",
    "\n",
    "force_entity_packages = []\n",
    "force_entity_classes = []\n",
    "\n",
    "force_logic_packages = []\n",
    "force_logic_classes = []\n",
    "\n",
    "force_repository_packages = []\n",
    "force_repository_classes = []\n",
    "\n",
    "force_repository_interface_package = []\n",
    "force_repository_interface_class = []"
   ]
  },
  {
   "cell_type": "code",
   "execution_count": 8,
   "id": "c5d5f9b7-f200-44d6-b5d6-4e9f7bb06cb9",
   "metadata": {
    "editable": true,
    "execution": {
     "iopub.execute_input": "2025-09-27T13:53:50.598590Z",
     "iopub.status.busy": "2025-09-27T13:53:50.598020Z",
     "iopub.status.idle": "2025-09-27T13:53:50.637055Z",
     "shell.execute_reply": "2025-09-27T13:53:50.635665Z"
    },
    "papermill": {
     "duration": 0.076488,
     "end_time": "2025-09-27T13:53:50.643000",
     "exception": false,
     "start_time": "2025-09-27T13:53:50.566512",
     "status": "completed"
    },
    "slideshow": {
     "slide_type": ""
    },
    "tags": []
   },
   "outputs": [],
   "source": [
    "if update_refinement:\n",
    "    with open(analysis_results_basedir + project + '_refinement.json', 'w') as refinement_file:\n",
    "        data = dict()\n",
    "        data['exclude_packages'] = exclude_packages\n",
    "        data['exclude_classes'] = exclude_classes\n",
    "        data['force_entity_packages'] = force_entity_packages\n",
    "        data['force_entity_classes'] = force_entity_classes\n",
    "        data['force_logic_packages'] = force_logic_packages\n",
    "        data['force_logic_classes'] = force_logic_classes\n",
    "        data['force_repository_packages'] = force_repository_packages\n",
    "        data['force_repository_classes'] = force_repository_classes\n",
    "        data['force_repository_interface_package'] = force_repository_interface_package\n",
    "        data['force_repository_interface_class'] = force_repository_interface_class\n",
    "        json.dump(data, exclusions_file)\n",
    "\n",
    "if read_from_file:\n",
    "    with open(analysis_results_basedir + project + '_refinement.json', 'r') as refinement_file:\n",
    "        refinement = json.load(refinement_file)\n",
    "        exclude_packages = refinement['exclude_packages']\n",
    "        exclude_classes = refinement['exclude_classes']\n",
    "        force_entity_packages = refinement['force_entity_packages']\n",
    "        force_entity_classes = refinement['force_entity_classes']\n",
    "        force_logic_packages = refinement['force_logic_packages']\n",
    "        force_logic_classes = refinement['force_logic_classes']\n",
    "        force_repository_packages = refinement['force_repository_packages']\n",
    "        force_repository_classes = refinement['force_repository_classes']\n",
    "        force_repository_interface_package = refinement['force_repository_interface_package']\n",
    "        force_repository_interface_class = refinement['force_repository_interface_class']"
   ]
  },
  {
   "cell_type": "code",
   "execution_count": 9,
   "id": "c72fd4fc-a464-44e9-a092-34d9915232c0",
   "metadata": {
    "editable": true,
    "execution": {
     "iopub.execute_input": "2025-09-27T13:53:50.742439Z",
     "iopub.status.busy": "2025-09-27T13:53:50.741880Z",
     "iopub.status.idle": "2025-09-27T13:53:50.816292Z",
     "shell.execute_reply": "2025-09-27T13:53:50.814189Z"
    },
    "papermill": {
     "duration": 0.129345,
     "end_time": "2025-09-27T13:53:50.820298",
     "exception": false,
     "start_time": "2025-09-27T13:53:50.690953",
     "status": "completed"
    },
    "slideshow": {
     "slide_type": ""
    },
    "tags": []
   },
   "outputs": [
    {
     "name": "stdout",
     "output_type": "stream",
     "text": [
      "Entity\t\tCategory\t\torg.mybatis.jpetstore.domain\n",
      "Entity\t\tItem\t\torg.mybatis.jpetstore.domain\n",
      "Entity\t\tLineItem\t\torg.mybatis.jpetstore.domain\n",
      "Entity\t\tOrder\t\torg.mybatis.jpetstore.domain\n",
      "Entity\t\tCart\t\torg.mybatis.jpetstore.domain\n",
      "Entity\t\tProduct\t\torg.mybatis.jpetstore.domain\n",
      "Entity\t\tCartItem\t\torg.mybatis.jpetstore.domain\n",
      "Entity\t\tAccount\t\torg.mybatis.jpetstore.domain\n",
      "Entity\t\tSequence\t\torg.mybatis.jpetstore.domain\n",
      "Logic\t\tCatalogService\t\torg.mybatis.jpetstore.service\n",
      "Logic\t\tAccountService\t\torg.mybatis.jpetstore.service\n",
      "Logic\t\tOrderService\t\torg.mybatis.jpetstore.service\n",
      "Logic\t\tCartActionBean\t\torg.mybatis.jpetstore.web.actions\n",
      "Logic\t\tAbstractActionBean\t\torg.mybatis.jpetstore.web.actions\n",
      "Logic\t\tOrderActionBean\t\torg.mybatis.jpetstore.web.actions\n",
      "Logic\t\tCatalogActionBean\t\torg.mybatis.jpetstore.web.actions\n",
      "Logic\t\tAccountActionBean\t\torg.mybatis.jpetstore.web.actions\n",
      "Repository (int)\tCategoryMapper\t\torg.mybatis.jpetstore.mapper\n",
      "Repository (int)\tProductMapper\t\torg.mybatis.jpetstore.mapper\n",
      "Repository (int)\tOrderMapper\t\torg.mybatis.jpetstore.mapper\n",
      "Repository (int)\tAccountMapper\t\torg.mybatis.jpetstore.mapper\n",
      "Repository (int)\tSequenceMapper\t\torg.mybatis.jpetstore.mapper\n",
      "Repository (int)\tLineItemMapper\t\torg.mybatis.jpetstore.mapper\n",
      "Repository (int)\tItemMapper\t\torg.mybatis.jpetstore.mapper\n"
     ]
    }
   ],
   "source": [
    "logic_classes = []\n",
    "entity_classes = []\n",
    "repository_classes = []\n",
    "repository_interfaces = []\n",
    "excluded_classes = []\n",
    "interfaces = []\n",
    "\n",
    "for tree in compilation_units:\n",
    "    for decl in tree.types:\n",
    "        # If it is a class declaration...\n",
    "        if isinstance(decl, javalang.tree.ClassDeclaration):\n",
    "\n",
    "            # If considered logic...\n",
    "            if any(annotation in logic_annotations for annotation in map(lambda a: a.name, decl.annotations)):\n",
    "\n",
    "                # and not in excluded packages and classes:\n",
    "                if (decl.name not in exclude_classes and pkg_name(tree) not in exclude_packages):\n",
    "\n",
    "                    # ..and if this class or package has been forced as entity\n",
    "                    if (decl.name in force_entity_classes or pkg_name(tree) in force_entity_packages):\n",
    "                        entity_classes.append((decl, pkg_name(tree)))\n",
    "\n",
    "                    # ..and if this class or package has been forced as repository class\n",
    "                    elif (decl.name in force_repository_classes or pkg_name(tree) in force_repository_packages):\n",
    "                        repository_classes.append((decl, pkg_name(tree)))\n",
    "\n",
    "                    else:\n",
    "                        logic_classes.append((decl, pkg_name(tree)))\n",
    "\n",
    "                else:\n",
    "                    excluded_classes.append((decl, pkg_name(tree)))\n",
    "\n",
    "            # If considered repository...\n",
    "            elif any(annotation in repository_annotations for annotation in map(lambda a: a.name, decl.annotations)) or \"repository\" in pkg_name(tree).lower() or \"repositories\" in pkg_name(tree).lower() or \"repository\" in decl.name.lower():\n",
    "\n",
    "                # and not in excluded packages and classes:\n",
    "                if (decl.name not in exclude_classes and pkg_name(tree) not in exclude_packages):\n",
    "\n",
    "                    # ..and if this class or package has been forced as entity\n",
    "                    if (decl.name in force_entity_classes or pkg_name(tree) in force_entity_packages):\n",
    "                        entity_classes.append((decl, pkg_name(tree)))\n",
    "\n",
    "                    # ..and if this class or package has been forced as logic class\n",
    "                    elif (decl.name in force_logic_classes or pkg_name(tree) in force_logic_packages):\n",
    "                        logic_classes.append((decl, pkg_name(tree)))\n",
    "\n",
    "                    else:\n",
    "                        repository_classes.append((decl, pkg_name(tree)))\n",
    "\n",
    "                else:\n",
    "                    excluded_classes.append((decl, pkg_name(tree)))\n",
    "\n",
    "            # If not considered to be excluded...\n",
    "            elif not any(annotation in exclude_annotations for annotation in map(lambda a: a.name, decl.annotations)):\n",
    "                \n",
    "                # and not explictly excluded...\n",
    "                if (decl.name not in exclude_classes and pkg_name(tree) not in exclude_packages):\n",
    "                    \n",
    "                    # and explicitly listed as logic\n",
    "                    if decl.name in force_logic_classes or pkg_name(tree) in force_logic_packages:\n",
    "                        logic_classes.append((decl, pkg_name(tree)))\n",
    "\n",
    "                    # and explictly listed as repository\n",
    "                    elif (decl.name in force_repository_classes or pkg_name(tree) in force_repository_packages):\n",
    "                        # ..and if this class or package has been forced as repository class\n",
    "                        repository_classes.append((decl, pkg_name(tree)))\n",
    "\n",
    "                    else:\n",
    "                        entity_classes.append((decl, pkg_name(tree)))\n",
    "\n",
    "                else:\n",
    "                    excluded_classes.append((decl, pkg_name(tree)))\n",
    "            \n",
    "            # If in automatically excluded packages or class, but:\n",
    "            else:\n",
    "                # forced as logic\n",
    "                if decl.name in force_logic_classes or pkg_name(tree) in force_logic_packages:\n",
    "                    logic_classes.append((decl, pkg_name(tree)))\n",
    "\n",
    "                # forced as entity\n",
    "                elif (decl.name in force_entity_classes or pkg_name(tree) in force_entity_packages):\n",
    "                    entity_classes.append((decl, pkg_name(tree)))\n",
    "\n",
    "                # forced as repository class\n",
    "                elif (decl.name in force_repository_classes or pkg_name(tree) in force_repository_packages):\n",
    "                    repository_classes.append((decl, pkg_name(tree)))                          \n",
    "\n",
    "                else:\n",
    "                    excluded_classes.append((decl, pkg_name(tree)))\n",
    "\n",
    "        # If it is an interface declaration:\n",
    "        elif isinstance(decl, javalang.tree.InterfaceDeclaration):\n",
    "\n",
    "            # If not explicitly excluded...\n",
    "            if (decl.name not in exclude_classes and pkg_name(tree) not in exclude_packages):\n",
    "\n",
    "                # and forced as repository\n",
    "                if decl.name in force_repository_interface_class or pkg_name(tree) in force_repository_interface_package:\n",
    "                    repository_interfaces.append((decl, pkg_name(tree)))\n",
    "\n",
    "                else:\n",
    "                    interfaces.append((decl, pkg_name(tree)))\n",
    "            else:\n",
    "                excluded_classes.append((decl, pkg_name(tree)))\n",
    "\n",
    "for (decl, package_name) in entity_classes:\n",
    "     print('Entity\\t\\t' + decl.name + '\\t\\t' + package_name)\n",
    "for (decl, package_name) in logic_classes:\n",
    "     print('Logic\\t\\t' + decl.name + '\\t\\t' + package_name)\n",
    "for (decl, package_name) in repository_classes:\n",
    "     print('Repository (cls)\\t' + decl.name + '\\t\\t' + package_name)\n",
    "for (decl, package_name) in repository_interfaces:\n",
    "     print('Repository (int)\\t' + decl.name + '\\t\\t' + package_name)\n",
    "for (decl, package_name) in interfaces:\n",
    "     print('Interface\\t' + decl.name + '\\t\\t' + package_name)\n",
    "for (decl, package_name) in excluded_classes:\n",
    "     print('Excluded\\t' + decl.name + '\\t\\t' + package_name)"
   ]
  },
  {
   "cell_type": "markdown",
   "id": "92158b00-4314-4e87-bfae-4bfc896b9837",
   "metadata": {
    "papermill": {
     "duration": 0.027552,
     "end_time": "2025-09-27T13:53:50.871386",
     "exception": false,
     "start_time": "2025-09-27T13:53:50.843834",
     "status": "completed"
    },
    "tags": []
   },
   "source": [
    "## 4. Collect relationships between Entities"
   ]
  },
  {
   "cell_type": "code",
   "execution_count": 10,
   "id": "2ec5871f-9200-4d95-88ed-b5ae4534f9b2",
   "metadata": {
    "execution": {
     "iopub.execute_input": "2025-09-27T13:53:50.957177Z",
     "iopub.status.busy": "2025-09-27T13:53:50.953407Z",
     "iopub.status.idle": "2025-09-27T13:53:50.995810Z",
     "shell.execute_reply": "2025-09-27T13:53:50.990178Z"
    },
    "papermill": {
     "duration": 0.087205,
     "end_time": "2025-09-27T13:53:51.000401",
     "exception": false,
     "start_time": "2025-09-27T13:53:50.913196",
     "status": "completed"
    },
    "tags": []
   },
   "outputs": [],
   "source": [
    "# List entities and build relationships\n",
    "# ASSUMPTION: THERE ARE NO ENTITY CLASSES WITH SAME NAME - THERE ARE NO METHODS WITH SAME NAME INTO LOGIC/REPOSITORY CLASSES WITH SAME NAME\n",
    "\n",
    "# Generic function for all the ReferenceType occurrences\n",
    "def get_referenced_types(t, include_types):\n",
    "    types = [] # check REFERENCE TYPES and TYPE ARGUMENTS\n",
    "    if t.arguments is not None:\n",
    "        for argument in t.arguments:\n",
    "            if isinstance(argument.type, javalang.tree.ReferenceType):\n",
    "                types.extend(get_referenced_types(argument.type, include_types))\n",
    "    elif t.name in include_types:\n",
    "        types.append(t.name)\n",
    "    return types\n",
    "\n",
    "# Collects references in field declaration of a class\n",
    "def collect_references(decl_body, include_types):\n",
    "    referenced_types = []\n",
    "    for cd in decl_body:\n",
    "        if isinstance(cd, javalang.tree.FieldDeclaration):\n",
    "            if isinstance(cd.type, javalang.tree.ReferenceType):\n",
    "                referenced_types.extend(get_referenced_types(cd.type, include_types))\n",
    "    return referenced_types\n",
    "\n",
    "def collect_inheritance(decl, entity_names):\n",
    "    if decl.extends is not None:\n",
    "        return get_referenced_types(decl.extends, entity_names)\n",
    "    else:\n",
    "        return []\n",
    "    \n",
    "\n",
    "entity_names = [decl.name for (decl, n) in entity_classes]\n",
    "entities_relationships_dictionary = dict() # <- RESULT NEEDED TO BUILD THE GRAPH!\n",
    "\n",
    "for (decl, package_name) in entity_classes:\n",
    "    # Collect dependencies from the entity (references):\n",
    "    references = collect_references(decl.body, entity_names) # <- OK, IT WORKS\n",
    "    extends = collect_inheritance(decl, entity_names) # <- OK, IT WORKS\n",
    "    entities_relationships_dictionary[decl.name] = {'type': 'Entity', 'references': references, 'extends': extends}"
   ]
  },
  {
   "cell_type": "markdown",
   "id": "2d7e4f3c-87c0-4aa2-8aab-7d14aa7f36da",
   "metadata": {
    "papermill": {
     "duration": 0.02777,
     "end_time": "2025-09-27T13:53:51.066424",
     "exception": false,
     "start_time": "2025-09-27T13:53:51.038654",
     "status": "completed"
    },
    "tags": []
   },
   "source": [
    "## 5. Get list of classes that implement interfaces"
   ]
  },
  {
   "cell_type": "code",
   "execution_count": 11,
   "id": "bd3052d4-bdc1-41d7-ac5d-340e356c05d6",
   "metadata": {
    "execution": {
     "iopub.execute_input": "2025-09-27T13:53:51.114002Z",
     "iopub.status.busy": "2025-09-27T13:53:51.111034Z",
     "iopub.status.idle": "2025-09-27T13:53:51.130583Z",
     "shell.execute_reply": "2025-09-27T13:53:51.126990Z"
    },
    "papermill": {
     "duration": 0.044503,
     "end_time": "2025-09-27T13:53:51.135503",
     "exception": false,
     "start_time": "2025-09-27T13:53:51.091000",
     "status": "completed"
    },
    "tags": []
   },
   "outputs": [],
   "source": [
    "# Build a dictionary that associates the implementation class to each interface\n",
    "interface_names = [decl.name for (decl, n) in interfaces]\n",
    "\n",
    "implementations_dict = dict()\n",
    "        \n",
    "for (decl, package_name) in logic_classes + repository_classes:\n",
    "    class_implements = []\n",
    "    if isinstance(decl, javalang.tree.ClassDeclaration) and decl.implements is not None:\n",
    "        for impl in decl.implements:\n",
    "            class_implements.extend(get_referenced_types(impl, interface_names))\n",
    "    implementations_dict[decl.name] = {'implements': class_implements}\n",
    "#print(implementations_dict)\n",
    "\n",
    "implemented_by_dict = dict()\n",
    "\n",
    "implementing_classes = implementations_dict.keys()\n",
    "for impl in implementing_classes:\n",
    "    ints = implementations_dict[impl]\n",
    "    for interface in ints['implements']:\n",
    "        if interface not in implemented_by_dict:\n",
    "            implemented_by_dict[interface] = []\n",
    "        implemented_by_dict[interface].append(impl)"
   ]
  },
  {
   "cell_type": "markdown",
   "id": "e2dcd2db-74d1-427b-9d17-ee50f8d3e1c2",
   "metadata": {
    "papermill": {
     "duration": 0.028274,
     "end_time": "2025-09-27T13:53:51.185095",
     "exception": false,
     "start_time": "2025-09-27T13:53:51.156821",
     "status": "completed"
    },
    "tags": []
   },
   "source": [
    "## 6. Get list of class declarations\n",
    "\n",
    "Class member declarations are collected in order to track references between variable name and referenced types"
   ]
  },
  {
   "cell_type": "code",
   "execution_count": 12,
   "id": "2f676ad4-ddf5-4a54-b07d-5259fe73436b",
   "metadata": {
    "execution": {
     "iopub.execute_input": "2025-09-27T13:53:51.267240Z",
     "iopub.status.busy": "2025-09-27T13:53:51.266715Z",
     "iopub.status.idle": "2025-09-27T13:53:51.322110Z",
     "shell.execute_reply": "2025-09-27T13:53:51.316806Z"
    },
    "papermill": {
     "duration": 0.096139,
     "end_time": "2025-09-27T13:53:51.325041",
     "exception": false,
     "start_time": "2025-09-27T13:53:51.228902",
     "status": "completed"
    },
    "tags": []
   },
   "outputs": [],
   "source": [
    "# List logic classes and track type references\n",
    "\n",
    "# Returns a tuple with the list of the declared variables and the types (there are multiple types if it is like Map<A, B>)\n",
    "def get_field_declarations_with_varnames(f_decl, include_types):\n",
    "    variables_names = []\n",
    "    var_types = []\n",
    "    if isinstance(f_decl.type, javalang.tree.ReferenceType):\n",
    "        var_types = get_referenced_types(f_decl.type, referenceable_names)\n",
    "        if len(var_types) > 0:\n",
    "            for declarator in f_decl.declarators:\n",
    "                variables_names.append(declarator.name)\n",
    "    return (variables_names, var_types)\n",
    "\n",
    "\n",
    "logic_classes_names = [decl.name for (decl, n) in logic_classes + repository_classes]\n",
    "repository_interfaces_names = [decl.name for (decl, n) in repository_interfaces]\n",
    "interfaces_names = [decl.name for (decl, n) in interfaces]\n",
    "\n",
    "referenceable_names = entity_names + logic_classes_names + interfaces_names + repository_interfaces_names\n",
    "\n",
    "class_variables_types_dict = dict()\n",
    "\n",
    "# Build a dictionary for each class with the type of each class member\n",
    "for (decl, package_name) in logic_classes + repository_classes:\n",
    "    class_name = decl.name\n",
    "    if class_name not in class_variables_types_dict:\n",
    "        class_variables_types_dict[class_name] = dict()\n",
    "    for cd in decl.body:\n",
    "        if isinstance(cd, javalang.tree.FieldDeclaration):\n",
    "            (variables_names, var_types) = get_field_declarations_with_varnames(cd, referenceable_names)\n",
    "            if len(var_types) > 0:\n",
    "                for var_name in variables_names:\n",
    "                    class_variables_types_dict[class_name][var_name] = var_types"
   ]
  },
  {
   "cell_type": "markdown",
   "id": "1b3dea92-b450-4eda-b918-73026fd6ff00",
   "metadata": {
    "papermill": {
     "duration": 0.047486,
     "end_time": "2025-09-27T13:53:51.399969",
     "exception": false,
     "start_time": "2025-09-27T13:53:51.352483",
     "status": "completed"
    },
    "tags": []
   },
   "source": [
    "## 7. Get the references for each method"
   ]
  },
  {
   "cell_type": "code",
   "execution_count": 13,
   "id": "d6e603ab-4fc5-44eb-9f9e-0e096076db5a",
   "metadata": {
    "execution": {
     "iopub.execute_input": "2025-09-27T13:53:51.495729Z",
     "iopub.status.busy": "2025-09-27T13:53:51.493574Z",
     "iopub.status.idle": "2025-09-27T13:53:51.833166Z",
     "shell.execute_reply": "2025-09-27T13:53:51.825381Z"
    },
    "papermill": {
     "duration": 0.396975,
     "end_time": "2025-09-27T13:53:51.838630",
     "exception": false,
     "start_time": "2025-09-27T13:53:51.441655",
     "status": "completed"
    },
    "tags": []
   },
   "outputs": [],
   "source": [
    "# Go into methods: build a dictionary for the references of each method (both with entities and called methods)\n",
    "\n",
    "def inspect_method_invocation(invocation, class_variables, referenceable_names, class_name):\n",
    "    references = []\n",
    "    method_calls = []\n",
    "\n",
    "    # If there is no qualifier, then a method from the same class is invoked\n",
    "    if invocation.qualifier is not None and invocation.qualifier != '':\n",
    "\n",
    "        # If the qualifier is not a class variable, avoid (but inspect the arguments)\n",
    "        if invocation.qualifier in class_variables:\n",
    "            called_class = class_variables[invocation.qualifier][0]\n",
    "            method_calls.append((invocation.member, called_class))\n",
    "            \n",
    "    else:\n",
    "        method_calls.append((invocation.member, class_name))\n",
    "    \n",
    "    # Go inside arguments\n",
    "    (refs, mcalls) = inspect_and_get_references(invocation.arguments, class_variables, referenceable_names, class_name)\n",
    "    references.extend(refs)\n",
    "    method_calls.extend(mcalls)\n",
    "    \n",
    "    return (references, method_calls)\n",
    "\n",
    "def inspect_this(this, class_variables, referenceable_names, class_name):\n",
    "    # Consider expressions with the form \"this.member.method()\"\n",
    "    if len(this.selectors) == 2 and isinstance(this.selectors[0], javalang.tree.MemberReference) and isinstance(this.selectors[1], javalang.tree.MethodInvocation):\n",
    "        # Do a trick: insert the member reference as qualifier of the method invocation\n",
    "        member_reference = this.selectors[0]\n",
    "        invocation = this.selectors[1]\n",
    "\n",
    "        setattr(invocation, 'qualifier', member_reference.member)\n",
    "\n",
    "        return inspect_method_invocation(invocation, class_variables, referenceable_names, class_name)\n",
    "    \n",
    "    return ([], [])\n",
    "\n",
    "def inspect_and_get_references(code_element, class_variables, referenceable_names, class_name):\n",
    "    \n",
    "    references = []\n",
    "    method_calls = []\n",
    "    \n",
    "    # Check if the code_element is a list: if so, iterate inspect on each list element\n",
    "    if isinstance(code_element, list):\n",
    "        for e in code_element:\n",
    "            (refs, mcalls) = inspect_and_get_references(e, class_variables, referenceable_names, class_name)\n",
    "            references.extend(refs)\n",
    "            method_calls.extend(mcalls)\n",
    "\n",
    "    # Discard all none elements and all elements that are not a node of the AST\n",
    "    elif code_element == None or not isinstance(code_element, javalang.tree.Node):\n",
    "        return (references, method_calls)\n",
    "\n",
    "    # Get referenced types\n",
    "    elif isinstance(code_element, javalang.tree.ReferenceType):\n",
    "        references.extend(get_referenced_types(code_element, referenceable_names))\n",
    "\n",
    "    # Check \"this\" expressions in search of this.member.method() expressions\n",
    "    elif isinstance(code_element, javalang.tree.This):\n",
    "        (refs, mcalls) = inspect_this(code_element, class_variables, referenceable_names, class_name)\n",
    "        references.extend(refs)\n",
    "        method_calls.extend(mcalls)\n",
    "    \n",
    "    # Get method invocation\n",
    "    elif isinstance(code_element, javalang.tree.MethodInvocation):\n",
    "        (refs, mcalls) = inspect_method_invocation(code_element, class_variables, referenceable_names, class_name)\n",
    "        references.extend(refs)\n",
    "        method_calls.extend(mcalls)\n",
    "\n",
    "    else:\n",
    "        for attribute_name in code_element.attrs:\n",
    "            new_el = getattr(code_element, attribute_name)\n",
    "            (refs, mcalls) = inspect_and_get_references(new_el, class_variables, referenceable_names, class_name)\n",
    "            references.extend(refs)\n",
    "            method_calls.extend(mcalls)\n",
    "\n",
    "    return (references, method_calls)\n",
    "\n",
    "\n",
    "methods_usage_dict = dict()\n",
    "\n",
    "# Collect references of repository interfaces\n",
    "for (decl, package_name) in repository_interfaces:\n",
    "    interface_name = decl.name\n",
    "    for cd in decl.body:\n",
    "        if isinstance(cd, javalang.tree.MethodDeclaration):\n",
    "            method_name = cd.name\n",
    "            methods_usage_dict[(method_name, interface_name)] = dict()\n",
    "            # GET THE RETURN TYPE\n",
    "            if cd.return_type is not None and isinstance(cd.return_type, javalang.tree.ReferenceType):\n",
    "                return_reference = get_referenced_types(cd.return_type, entity_names)\n",
    "                methods_usage_dict[(method_name, interface_name)]['return'] = return_reference\n",
    "\n",
    "            # GET PARAMETERS TYPE\n",
    "            if cd.parameters is not None:\n",
    "                parameter_references = []\n",
    "                for par in cd.parameters:\n",
    "                    if isinstance(par.type, javalang.tree.ReferenceType):\n",
    "                        parameter_references.extend(get_referenced_types(par.type, entity_names))\n",
    "                methods_usage_dict[(method_name, interface_name)]['parameters'] = parameter_references\n",
    "\n",
    "# Collect references of logic and repository classes\n",
    "for (decl, package_name) in logic_classes + repository_classes:\n",
    "    class_name = decl.name\n",
    "    for cd in decl.body:\n",
    "        if isinstance(cd, javalang.tree.MethodDeclaration):\n",
    "            method_name = cd.name\n",
    "            methods_usage_dict[(method_name, class_name)] = dict()\n",
    "            # GET THE RETURN TYPE\n",
    "            if cd.return_type is not None and isinstance(cd.return_type, javalang.tree.ReferenceType):\n",
    "                return_reference = get_referenced_types(cd.return_type, entity_names)\n",
    "                methods_usage_dict[(method_name, class_name)]['return'] = return_reference\n",
    "\n",
    "            # GET PARAMETERS TYPE\n",
    "            if cd.parameters is not None:\n",
    "                parameter_references = []\n",
    "                for par in cd.parameters:\n",
    "                    if isinstance(par.type, javalang.tree.ReferenceType):\n",
    "                        parameter_references.extend(get_referenced_types(par.type, entity_names))\n",
    "                methods_usage_dict[(method_name, class_name)]['parameters'] = parameter_references\n",
    "\n",
    "            # GET METHOD BODY REFERENCES\n",
    "            # First get the class variables dictionary (it is needed to track the method calls or references to class members)\n",
    "            class_variables = class_variables_types_dict[class_name]\n",
    "            # Go inside\n",
    "            method_body_references = inspect_and_get_references(cd.body, class_variables, referenceable_names, class_name)\n",
    "            methods_usage_dict[(method_name, class_name)]['references'] = method_body_references[0]\n",
    "            methods_usage_dict[(method_name, class_name)]['calls'] = method_body_references[1]\n"
   ]
  },
  {
   "cell_type": "markdown",
   "id": "41c39198-0a86-407b-a19a-5dd4b23f8a9c",
   "metadata": {
    "papermill": {
     "duration": 0.04582,
     "end_time": "2025-09-27T13:53:51.929786",
     "exception": false,
     "start_time": "2025-09-27T13:53:51.883966",
     "status": "completed"
    },
    "tags": []
   },
   "source": [
    "## 8. Build nodes.csv file\n",
    "\n",
    "The _nodes.csv_ files contains the list of all the nodes of the gragh: key, type, name, name of the class (if nodes of type 'Method')"
   ]
  },
  {
   "cell_type": "code",
   "execution_count": 14,
   "id": "22303794-4b94-4ed0-8ef5-0c1fe62db11a",
   "metadata": {
    "execution": {
     "iopub.execute_input": "2025-09-27T13:53:52.045697Z",
     "iopub.status.busy": "2025-09-27T13:53:52.044824Z",
     "iopub.status.idle": "2025-09-27T13:53:52.072837Z",
     "shell.execute_reply": "2025-09-27T13:53:52.071187Z"
    },
    "papermill": {
     "duration": 0.092061,
     "end_time": "2025-09-27T13:53:52.078109",
     "exception": false,
     "start_time": "2025-09-27T13:53:51.986048",
     "status": "completed"
    },
    "tags": []
   },
   "outputs": [],
   "source": [
    "# Last step: clean the data and build the csv files\n",
    "\n",
    "# Nodes: entities and methods... entities are taken from the entity_names list, methods are taken from the keys of the reference dictionary\n",
    "with open(analysis_results_basedir + project + '_nodes.csv', 'w') as nodes_file:\n",
    "    counter = 0\n",
    "    # Entities\n",
    "    for entity_name in entity_names:\n",
    "        nodes_file.write(str(counter) + ',' + 'Entity,' + entity_name + '\\n')\n",
    "        counter += 1\n",
    "    # Methods\n",
    "    for (method_name, class_name) in methods_usage_dict:\n",
    "        # if the class_name is actually an interface, substitute with its implementing class\n",
    "        if class_name in interfaces_names:\n",
    "            if class_name in implemented_by_dict:\n",
    "                nodes_file.write(str(counter) + ',' + 'Method,' + method_name + ',' + implemented_by_dict[class_name][0] + '\\n')\n",
    "                counter += 1\n",
    "            else:\n",
    "                print('WARNING: ' + class_name + 'interface does not have an implementing class!')\n",
    "        else:\n",
    "            nodes_file.write(str(counter) + ',' + 'Method,' + method_name + ',' + class_name + '\\n')\n",
    "            counter += 1"
   ]
  },
  {
   "cell_type": "markdown",
   "id": "a44f5c86-9774-4605-ab2e-9c2d3e1b6f98",
   "metadata": {
    "papermill": {
     "duration": 0.0604,
     "end_time": "2025-09-27T13:53:52.191692",
     "exception": false,
     "start_time": "2025-09-27T13:53:52.131292",
     "status": "completed"
    },
    "tags": []
   },
   "source": [
    "## 9. Write all _raw_ edges on a .csv file\n",
    "\n",
    "The _edges_written.csv_ file contains the list of all the edges by using the method/entity name as endpoints, without any reference with the node list"
   ]
  },
  {
   "cell_type": "code",
   "execution_count": 15,
   "id": "63eb996a-f31f-47b6-a2f9-1f12cbb94fdf",
   "metadata": {
    "execution": {
     "iopub.execute_input": "2025-09-27T13:53:52.294214Z",
     "iopub.status.busy": "2025-09-27T13:53:52.293308Z",
     "iopub.status.idle": "2025-09-27T13:53:52.363558Z",
     "shell.execute_reply": "2025-09-27T13:53:52.355416Z"
    },
    "papermill": {
     "duration": 0.133676,
     "end_time": "2025-09-27T13:53:52.373632",
     "exception": false,
     "start_time": "2025-09-27T13:53:52.239956",
     "status": "completed"
    },
    "tags": []
   },
   "outputs": [],
   "source": [
    "# Edges: take only the method calls in the \n",
    "repository_names = [decl.name for (decl, package_name) in repository_classes + repository_interfaces]\n",
    "\n",
    "with open (analysis_results_basedir + project + '_edges_written.csv', 'w') as edges_written_file:\n",
    "    # Add method calls edges\n",
    "    for (calling_method, calling_class) in methods_usage_dict:\n",
    "        if 'calls' in methods_usage_dict[(calling_method, calling_class)].keys():\n",
    "            called_methods = methods_usage_dict[(calling_method, calling_class)]['calls']\n",
    "            for (called_method, called_class) in called_methods:\n",
    "                # if called_class is actually an interface, substitute with its implementing class\n",
    "                if called_class in interfaces_names:\n",
    "                    if called_class in implemented_by_dict:\n",
    "                        # Add method reference to the file\n",
    "                        edges_written_file.write(calling_method + '(' + calling_class + '),Calls,' + called_method + '(' + implemented_by_dict[called_class][0] + ')\\n')\n",
    "                    else:\n",
    "                        print('WARNING: ' + called_class + 'interface does not have an implementing class!')\n",
    "                else:\n",
    "                    # Add method reference to the file\n",
    "                    edges_written_file.write(calling_method + '(' + calling_class + '),Calls,' + called_method + '(' + called_class + ')\\n')\n",
    "    \n",
    "    # Add usage relationships edges\n",
    "    for (calling_method, calling_class) in methods_usage_dict:\n",
    "        method_relationships = methods_usage_dict[(calling_method, calling_class)]\n",
    "        usages = method_relationships['parameters']\\\n",
    "                + (method_relationships['references'] if 'references' in method_relationships.keys() else [])\\\n",
    "                + (method_relationships['return'] if 'return' in method_relationships.keys() else [])\n",
    "        usages = list(dict.fromkeys(usages))\n",
    "        for usage in usages:\n",
    "            if calling_class in repository_names:\n",
    "                edges_written_file.write(calling_method + '(' + calling_class + '),Persists,' + usage + '\\n')\n",
    "            else:\n",
    "                edges_written_file.write(calling_method + '(' + calling_class + '),Uses,' + usage + '\\n')\n",
    "                #pass\n",
    "    \n",
    "    # Add entity relationships edges\n",
    "    for entity in entities_relationships_dictionary:\n",
    "        for referenced_entity in entities_relationships_dictionary[entity]['references']:\n",
    "            edges_written_file.write(entity + ',References,' + referenced_entity + '\\n')\n",
    "        for extended_entity in entities_relationships_dictionary[entity]['extends']:\n",
    "            edges_written_file.write(entity + ',Extends,' + extended_entity + '\\n')"
   ]
  },
  {
   "cell_type": "markdown",
   "id": "65e80529-77a8-410c-a5b2-e5fc05a878d0",
   "metadata": {
    "papermill": {
     "duration": 0.02106,
     "end_time": "2025-09-27T13:53:52.421695",
     "exception": false,
     "start_time": "2025-09-27T13:53:52.400635",
     "status": "completed"
    },
    "tags": []
   },
   "source": [
    "## 10. Write edges.csv file\n",
    "\n",
    "The _edges.csv_ file contains the list of all the edges whose entities are listed in the nodes file. It references the key of the node (from _nodes.csv_) and the relationship type.\\\n",
    "Edges from nodes that are not in _nodes.csv_ (that have not been detected during the code analysis) are discarded."
   ]
  },
  {
   "cell_type": "code",
   "execution_count": 16,
   "id": "dd4784fd-3e76-4417-8d10-98cce1185856",
   "metadata": {
    "execution": {
     "iopub.execute_input": "2025-09-27T13:53:52.468941Z",
     "iopub.status.busy": "2025-09-27T13:53:52.465168Z",
     "iopub.status.idle": "2025-09-27T13:53:52.536733Z",
     "shell.execute_reply": "2025-09-27T13:53:52.535261Z"
    },
    "papermill": {
     "duration": 0.106647,
     "end_time": "2025-09-27T13:53:52.548771",
     "exception": false,
     "start_time": "2025-09-27T13:53:52.442124",
     "status": "completed"
    },
    "tags": []
   },
   "outputs": [
    {
     "name": "stdout",
     "output_type": "stream",
     "text": [
      "INFO: Edge ['addItemToCart(CartActionBean)', 'Calls', 'containsItemId(Cart)'] skipped since target method is not listed in the nodes file!\n",
      "INFO: Edge ['addItemToCart(CartActionBean)', 'Calls', 'incrementQuantityByItemId(Cart)'] skipped since target method is not listed in the nodes file!\n",
      "INFO: Edge ['addItemToCart(CartActionBean)', 'Calls', 'addItem(Cart)'] skipped since target method is not listed in the nodes file!\n",
      "INFO: Edge ['removeItemFromCart(CartActionBean)', 'Calls', 'removeItemById(Cart)'] skipped since target method is not listed in the nodes file!\n",
      "INFO: Edge ['removeItemFromCart(CartActionBean)', 'Calls', 'setMessage(CartActionBean)'] skipped since target method is not listed in the nodes file!\n",
      "INFO: Edge ['getOrderId(OrderActionBean)', 'Calls', 'getOrderId(Order)'] skipped since target method is not listed in the nodes file!\n",
      "INFO: Edge ['setOrderId(OrderActionBean)', 'Calls', 'setOrderId(Order)'] skipped since target method is not listed in the nodes file!\n",
      "INFO: Edge ['newOrderForm(OrderActionBean)', 'Calls', 'setMessage(OrderActionBean)'] skipped since target method is not listed in the nodes file!\n",
      "INFO: Edge ['newOrderForm(OrderActionBean)', 'Calls', 'initOrder(Order)'] skipped since target method is not listed in the nodes file!\n",
      "INFO: Edge ['newOrderForm(OrderActionBean)', 'Calls', 'setMessage(OrderActionBean)'] skipped since target method is not listed in the nodes file!\n",
      "INFO: Edge ['newOrder(OrderActionBean)', 'Calls', 'setMessage(OrderActionBean)'] skipped since target method is not listed in the nodes file!\n",
      "INFO: Edge ['newOrder(OrderActionBean)', 'Calls', 'setMessage(OrderActionBean)'] skipped since target method is not listed in the nodes file!\n",
      "INFO: Edge ['viewOrder(OrderActionBean)', 'Calls', 'getOrderId(Order)'] skipped since target method is not listed in the nodes file!\n",
      "INFO: Edge ['viewOrder(OrderActionBean)', 'Calls', 'setMessage(OrderActionBean)'] skipped since target method is not listed in the nodes file!\n",
      "INFO: Edge ['viewItem(CatalogActionBean)', 'Calls', 'getProduct(Item)'] skipped since target method is not listed in the nodes file!\n",
      "INFO: Edge ['searchProducts(CatalogActionBean)', 'Calls', 'setMessage(CatalogActionBean)'] skipped since target method is not listed in the nodes file!\n",
      "INFO: Edge ['getUsername(AccountActionBean)', 'Calls', 'getUsername(Account)'] skipped since target method is not listed in the nodes file!\n",
      "INFO: Edge ['setUsername(AccountActionBean)', 'Calls', 'setUsername(Account)'] skipped since target method is not listed in the nodes file!\n",
      "INFO: Edge ['getPassword(AccountActionBean)', 'Calls', 'getPassword(Account)'] skipped since target method is not listed in the nodes file!\n",
      "INFO: Edge ['setPassword(AccountActionBean)', 'Calls', 'setPassword(Account)'] skipped since target method is not listed in the nodes file!\n",
      "INFO: Edge ['newAccount(AccountActionBean)', 'Calls', 'getUsername(Account)'] skipped since target method is not listed in the nodes file!\n",
      "INFO: Edge ['newAccount(AccountActionBean)', 'Calls', 'getFavouriteCategoryId(Account)'] skipped since target method is not listed in the nodes file!\n",
      "INFO: Edge ['editAccount(AccountActionBean)', 'Calls', 'getUsername(Account)'] skipped since target method is not listed in the nodes file!\n",
      "INFO: Edge ['editAccount(AccountActionBean)', 'Calls', 'getFavouriteCategoryId(Account)'] skipped since target method is not listed in the nodes file!\n",
      "INFO: Edge ['signon(AccountActionBean)', 'Calls', 'setMessage(AccountActionBean)'] skipped since target method is not listed in the nodes file!\n",
      "INFO: Edge ['signon(AccountActionBean)', 'Calls', 'setPassword(Account)'] skipped since target method is not listed in the nodes file!\n",
      "INFO: Edge ['signon(AccountActionBean)', 'Calls', 'getFavouriteCategoryId(Account)'] skipped since target method is not listed in the nodes file!\n",
      "INFO: Edge ['isAuthenticated(AccountActionBean)', 'Calls', 'getUsername(Account)'] skipped since target method is not listed in the nodes file!\n",
      "INFO: Edge ['listOrders(OrderActionBean)', 'Uses', 'AccountActionBean'] discarded since target entity is not listed in the nodes file!\n",
      "INFO: Edge ['newOrderForm(OrderActionBean)', 'Uses', 'AccountActionBean'] discarded since target entity is not listed in the nodes file!\n",
      "INFO: Edge ['newOrderForm(OrderActionBean)', 'Uses', 'CartActionBean'] discarded since target entity is not listed in the nodes file!\n",
      "INFO: Edge ['newOrder(OrderActionBean)', 'Uses', 'CartActionBean'] discarded since target entity is not listed in the nodes file!\n",
      "INFO: Edge ['viewOrder(OrderActionBean)', 'Uses', 'AccountActionBean'] discarded since target entity is not listed in the nodes file!\n",
      "INFO: Edge ['newAccount(AccountActionBean)', 'Uses', 'CatalogActionBean'] discarded since target entity is not listed in the nodes file!\n",
      "INFO: Edge ['editAccount(AccountActionBean)', 'Uses', 'CatalogActionBean'] discarded since target entity is not listed in the nodes file!\n",
      "INFO: Edge ['signon(AccountActionBean)', 'Uses', 'CatalogActionBean'] discarded since target entity is not listed in the nodes file!\n",
      "INFO: Edge ['signoff(AccountActionBean)', 'Uses', 'CatalogActionBean'] discarded since target entity is not listed in the nodes file!\n"
     ]
    }
   ],
   "source": [
    "# Writing edges.csv\n",
    "\n",
    "node_dict = dict()\n",
    "\n",
    "with open(analysis_results_basedir + project + '_nodes.csv', 'r') as nodes_file:\n",
    "    nodes_csv = csv.reader(nodes_file, delimiter=',')\n",
    "    for node in nodes_csv:\n",
    "        if node[1] == 'Method':\n",
    "            node_dict[(node[2], node[3])] = (node[0], node[1])\n",
    "        elif node[1] == 'Entity':\n",
    "            node_dict[node[2]] = (node[0], node[1])\n",
    "\n",
    "discarded_edges = []\n",
    "with open(analysis_results_basedir + project + '_edges_written.csv', 'r') as written_edges_file, open(analysis_results_basedir + project + '_edges.csv', 'w') as edges_file:\n",
    "    edges_csv = csv.reader(written_edges_file, delimiter=',')\n",
    "\n",
    "    for edge in edges_csv:\n",
    "        if edge[1] == 'Calls':\n",
    "            out_names = edge[0].split('(')\n",
    "            out_method_name = out_names[0]\n",
    "            out_class_name = out_names[1].replace(')', '')\n",
    "\n",
    "            in_names = edge[2].split('(')\n",
    "            in_method_name = in_names[0]\n",
    "            in_class_name = in_names[1].replace(')', '')\n",
    "\n",
    "            if (in_method_name, in_class_name) in node_dict:\n",
    "                edges_file.write(node_dict[(out_method_name, out_class_name)][0] + ',Calls,' + node_dict[(in_method_name, in_class_name)][0] + '\\n')\n",
    "            else:\n",
    "                print('INFO: Edge ' + str(edge) + ' skipped since target method is not listed in the nodes file!')\n",
    "                discarded_edges.append(edge)\n",
    "\n",
    "        elif edge[1] == 'Persists' or edge[1] == 'Uses':\n",
    "            out_names = edge[0].split('(')\n",
    "            out_method_name = out_names[0]\n",
    "            out_class_name = out_names[1].replace(')', '')\n",
    "\n",
    "            in_name = edge[2]\n",
    "\n",
    "            if (in_name) in node_dict:\n",
    "                edges_file.write(node_dict[(out_method_name, out_class_name)][0] + ',' + edge[1] + ',' + node_dict[in_name][0] + '\\n')\n",
    "            else:\n",
    "                print('INFO: Edge ' + str(edge) + ' discarded since target entity is not listed in the nodes file!')\n",
    "\n",
    "        else:\n",
    "            edges_file.write(node_dict[edge[0]][0] + ',' + edge[1] + ',' + node_dict[edge[2]][0] + '\\n')"
   ]
  },
  {
   "cell_type": "markdown",
   "id": "f3667a3f-6059-41da-b757-e6945b432401",
   "metadata": {
    "papermill": {
     "duration": 0.049159,
     "end_time": "2025-09-27T13:53:52.677686",
     "exception": false,
     "start_time": "2025-09-27T13:53:52.628527",
     "status": "completed"
    },
    "tags": []
   },
   "source": [
    "## 11. Add nodes for the not-implemented persistence methods\n",
    "\n",
    "Methods from the persistence layer are often owned by a framework. E.g., _save()_ or _findAll()_ methods are not defined neither in a persistence class nor in an interface.\\\n",
    "These methods will be automatically detected and added into the graph.\n",
    "\n",
    "\n",
    "The _nodes.csv_ and _edges.csv_ are updated as a consequence. (_edges_written.csv_ already contains edges towards these methods)"
   ]
  },
  {
   "cell_type": "code",
   "execution_count": 17,
   "id": "d064063e-0ce6-4a69-ac1a-80e39901053e",
   "metadata": {
    "execution": {
     "iopub.execute_input": "2025-09-27T13:53:52.811533Z",
     "iopub.status.busy": "2025-09-27T13:53:52.803001Z",
     "iopub.status.idle": "2025-09-27T13:53:52.902308Z",
     "shell.execute_reply": "2025-09-27T13:53:52.896369Z"
    },
    "papermill": {
     "duration": 0.167124,
     "end_time": "2025-09-27T13:53:52.909062",
     "exception": false,
     "start_time": "2025-09-27T13:53:52.741938",
     "status": "completed"
    },
    "tags": []
   },
   "outputs": [
    {
     "name": "stdout",
     "output_type": "stream",
     "text": [
      "WARNING: Unable to recover target method for edge ['addItemToCart(CartActionBean)', 'Calls', 'containsItemId(Cart)']: discarding\n",
      "WARNING: Unable to recover target method for edge ['addItemToCart(CartActionBean)', 'Calls', 'incrementQuantityByItemId(Cart)']: discarding\n",
      "WARNING: Unable to recover target method for edge ['addItemToCart(CartActionBean)', 'Calls', 'addItem(Cart)']: discarding\n",
      "WARNING: Unable to recover target method for edge ['removeItemFromCart(CartActionBean)', 'Calls', 'removeItemById(Cart)']: discarding\n",
      "WARNING: unable to recover ['removeItemFromCart(CartActionBean)', 'Calls', 'setMessage(CartActionBean)'] since target method may be from a superclass. (Not implemented yet)\n",
      "WARNING: Unable to recover target method for edge ['getOrderId(OrderActionBean)', 'Calls', 'getOrderId(Order)']: discarding\n",
      "WARNING: Unable to recover target method for edge ['setOrderId(OrderActionBean)', 'Calls', 'setOrderId(Order)']: discarding\n",
      "WARNING: unable to recover ['newOrderForm(OrderActionBean)', 'Calls', 'setMessage(OrderActionBean)'] since target method may be from a superclass. (Not implemented yet)\n",
      "WARNING: Unable to recover target method for edge ['newOrderForm(OrderActionBean)', 'Calls', 'initOrder(Order)']: discarding\n",
      "WARNING: unable to recover ['newOrderForm(OrderActionBean)', 'Calls', 'setMessage(OrderActionBean)'] since target method may be from a superclass. (Not implemented yet)\n",
      "WARNING: unable to recover ['newOrder(OrderActionBean)', 'Calls', 'setMessage(OrderActionBean)'] since target method may be from a superclass. (Not implemented yet)\n",
      "WARNING: unable to recover ['newOrder(OrderActionBean)', 'Calls', 'setMessage(OrderActionBean)'] since target method may be from a superclass. (Not implemented yet)\n",
      "WARNING: Unable to recover target method for edge ['viewOrder(OrderActionBean)', 'Calls', 'getOrderId(Order)']: discarding\n",
      "WARNING: unable to recover ['viewOrder(OrderActionBean)', 'Calls', 'setMessage(OrderActionBean)'] since target method may be from a superclass. (Not implemented yet)\n",
      "WARNING: Unable to recover target method for edge ['viewItem(CatalogActionBean)', 'Calls', 'getProduct(Item)']: discarding\n",
      "WARNING: unable to recover ['searchProducts(CatalogActionBean)', 'Calls', 'setMessage(CatalogActionBean)'] since target method may be from a superclass. (Not implemented yet)\n",
      "WARNING: Unable to recover target method for edge ['getUsername(AccountActionBean)', 'Calls', 'getUsername(Account)']: discarding\n",
      "WARNING: Unable to recover target method for edge ['setUsername(AccountActionBean)', 'Calls', 'setUsername(Account)']: discarding\n",
      "WARNING: Unable to recover target method for edge ['getPassword(AccountActionBean)', 'Calls', 'getPassword(Account)']: discarding\n",
      "WARNING: Unable to recover target method for edge ['setPassword(AccountActionBean)', 'Calls', 'setPassword(Account)']: discarding\n",
      "WARNING: Unable to recover target method for edge ['newAccount(AccountActionBean)', 'Calls', 'getUsername(Account)']: discarding\n",
      "WARNING: Unable to recover target method for edge ['newAccount(AccountActionBean)', 'Calls', 'getFavouriteCategoryId(Account)']: discarding\n",
      "WARNING: Unable to recover target method for edge ['editAccount(AccountActionBean)', 'Calls', 'getUsername(Account)']: discarding\n",
      "WARNING: Unable to recover target method for edge ['editAccount(AccountActionBean)', 'Calls', 'getFavouriteCategoryId(Account)']: discarding\n",
      "WARNING: unable to recover ['signon(AccountActionBean)', 'Calls', 'setMessage(AccountActionBean)'] since target method may be from a superclass. (Not implemented yet)\n",
      "WARNING: Unable to recover target method for edge ['signon(AccountActionBean)', 'Calls', 'setPassword(Account)']: discarding\n",
      "WARNING: Unable to recover target method for edge ['signon(AccountActionBean)', 'Calls', 'getFavouriteCategoryId(Account)']: discarding\n",
      "WARNING: Unable to recover target method for edge ['isAuthenticated(AccountActionBean)', 'Calls', 'getUsername(Account)']: discarding\n"
     ]
    }
   ],
   "source": [
    "# Update the graph by adding the discarded edges from a repository interface - or class\n",
    "\n",
    "methods_to_add = dict() # index is (name, class_name), value is ([(called_by_bame, called_by_class)], [persisting_etities])\n",
    "\n",
    "for edge in discarded_edges:\n",
    "\n",
    "    # If a method call is discarded\n",
    "    if edge[1] == 'Calls':\n",
    "        out_names = edge[0].split('(')\n",
    "        out_method_name = out_names[0]\n",
    "        out_class_name = out_names[1].replace(')', '')\n",
    "\n",
    "        in_names = edge[2].split('(')\n",
    "        in_method_name = in_names[0]\n",
    "        in_class_name = in_names[1].replace(')', '')\n",
    "    \n",
    "        # If the class of the called method is from a repository layer...\n",
    "        if in_class_name in repository_interfaces_names + [decl.name for (decl, n) in repository_classes]:\n",
    "\n",
    "            # Iterate over the list of repository interfaces and classes and get the interface definition\n",
    "            for (decl, package_name) in repository_interfaces + repository_classes:\n",
    "\n",
    "                # Once found it\n",
    "                if decl.name == in_class_name:\n",
    "\n",
    "                    # For repository interfaces, most of the time they rely on a specific framework (e.g., Spring Data) that has default method definition...\n",
    "                    # ...they do not need to be redefined, it is just needed to extend a base (parametrical) interface.\n",
    "                    # The method can be added directly without any other checking.\n",
    "                    #\n",
    "                    # For repository classes, usually there is a \"BaseDAO\" with a parametrical Type which implements the crud operations.\n",
    "                    # The method has already been added from the superclass. In order to bind it with the actual entity parameter, it will be copied...\n",
    "                    # ...but references inside its implementation will be discarded, keeping only the \"persists\" relationship.\n",
    "                    # Methods from the superclass will be removed at the end of the graph building process.\n",
    "                    #\n",
    "                    # In order to get which entity is persisted, let's get the referenced type in the interface or class \"extends\" definition\n",
    "                    references = inspect_and_get_references(decl.extends, [], entity_names, in_class_name)[0]\n",
    "                    if ((in_method_name, in_class_name)) not in methods_to_add:\n",
    "                        methods_to_add[(in_method_name, in_class_name)] = ([(out_method_name, out_class_name)], references)\n",
    "                    else:\n",
    "                        m = methods_to_add[(in_method_name, in_class_name)]\n",
    "                        m[0].append((in_method_name, in_class_name))\n",
    "                        m[1].extend(references)\n",
    "\n",
    "        # If the class of the called method is from a logic class (not in the repository layer)...\n",
    "        elif in_class_name in logic_classes_names:\n",
    "            print('WARNING: unable to recover ' + str(edge) + ' since target method may be from a superclass. (Not implemented yet)')\n",
    "        else:\n",
    "            print('WARNING: Unable to recover target method for edge ' + str(edge) + ': discarding')"
   ]
  },
  {
   "cell_type": "code",
   "execution_count": 18,
   "id": "076d1a9e-799a-4242-b0cc-64f2380f36ba",
   "metadata": {
    "execution": {
     "iopub.execute_input": "2025-09-27T13:53:53.052860Z",
     "iopub.status.busy": "2025-09-27T13:53:53.052273Z",
     "iopub.status.idle": "2025-09-27T13:53:53.141986Z",
     "shell.execute_reply": "2025-09-27T13:53:53.132401Z"
    },
    "papermill": {
     "duration": 0.190439,
     "end_time": "2025-09-27T13:53:53.163159",
     "exception": false,
     "start_time": "2025-09-27T13:53:52.972720",
     "status": "completed"
    },
    "tags": []
   },
   "outputs": [
    {
     "name": "stdout",
     "output_type": "stream",
     "text": [
      "INFO: Edge ['addItemToCart(CartActionBean)', 'Calls', 'containsItemId(Cart)'] skipped\n",
      "INFO: Edge ['addItemToCart(CartActionBean)', 'Calls', 'incrementQuantityByItemId(Cart)'] skipped\n",
      "INFO: Edge ['addItemToCart(CartActionBean)', 'Calls', 'addItem(Cart)'] skipped\n",
      "INFO: Edge ['removeItemFromCart(CartActionBean)', 'Calls', 'removeItemById(Cart)'] skipped\n",
      "INFO: Edge ['removeItemFromCart(CartActionBean)', 'Calls', 'setMessage(CartActionBean)'] skipped\n",
      "INFO: Edge ['getOrderId(OrderActionBean)', 'Calls', 'getOrderId(Order)'] skipped\n",
      "INFO: Edge ['setOrderId(OrderActionBean)', 'Calls', 'setOrderId(Order)'] skipped\n",
      "INFO: Edge ['newOrderForm(OrderActionBean)', 'Calls', 'setMessage(OrderActionBean)'] skipped\n",
      "INFO: Edge ['newOrderForm(OrderActionBean)', 'Calls', 'initOrder(Order)'] skipped\n",
      "INFO: Edge ['newOrderForm(OrderActionBean)', 'Calls', 'setMessage(OrderActionBean)'] skipped\n",
      "INFO: Edge ['newOrder(OrderActionBean)', 'Calls', 'setMessage(OrderActionBean)'] skipped\n",
      "INFO: Edge ['newOrder(OrderActionBean)', 'Calls', 'setMessage(OrderActionBean)'] skipped\n",
      "INFO: Edge ['viewOrder(OrderActionBean)', 'Calls', 'getOrderId(Order)'] skipped\n",
      "INFO: Edge ['viewOrder(OrderActionBean)', 'Calls', 'setMessage(OrderActionBean)'] skipped\n",
      "INFO: Edge ['viewItem(CatalogActionBean)', 'Calls', 'getProduct(Item)'] skipped\n",
      "INFO: Edge ['searchProducts(CatalogActionBean)', 'Calls', 'setMessage(CatalogActionBean)'] skipped\n",
      "INFO: Edge ['getUsername(AccountActionBean)', 'Calls', 'getUsername(Account)'] skipped\n",
      "INFO: Edge ['setUsername(AccountActionBean)', 'Calls', 'setUsername(Account)'] skipped\n",
      "INFO: Edge ['getPassword(AccountActionBean)', 'Calls', 'getPassword(Account)'] skipped\n",
      "INFO: Edge ['setPassword(AccountActionBean)', 'Calls', 'setPassword(Account)'] skipped\n",
      "INFO: Edge ['newAccount(AccountActionBean)', 'Calls', 'getUsername(Account)'] skipped\n",
      "INFO: Edge ['newAccount(AccountActionBean)', 'Calls', 'getFavouriteCategoryId(Account)'] skipped\n",
      "INFO: Edge ['editAccount(AccountActionBean)', 'Calls', 'getUsername(Account)'] skipped\n",
      "INFO: Edge ['editAccount(AccountActionBean)', 'Calls', 'getFavouriteCategoryId(Account)'] skipped\n",
      "INFO: Edge ['signon(AccountActionBean)', 'Calls', 'setMessage(AccountActionBean)'] skipped\n",
      "INFO: Edge ['signon(AccountActionBean)', 'Calls', 'setPassword(Account)'] skipped\n",
      "INFO: Edge ['signon(AccountActionBean)', 'Calls', 'getFavouriteCategoryId(Account)'] skipped\n",
      "INFO: Edge ['isAuthenticated(AccountActionBean)', 'Calls', 'getUsername(Account)'] skipped\n"
     ]
    }
   ],
   "source": [
    "# Updates nodes.csv and edges.csv files\n",
    "\n",
    "with open(analysis_results_basedir + project + '_nodes.csv', 'a') as nodes_file:\n",
    "\n",
    "    counter = len(node_dict.keys())\n",
    "    \n",
    "    # write new nodes in nodes.csv and to the node dictionary\n",
    "    for (method_name, class_name) in methods_to_add:\n",
    "        print('Adding new node for method ' + method_name + '(' + class_name + ')')\n",
    "        nodes_file.write(str(counter) + ',' + 'Method,' + method_name + ',' + class_name + '\\n')\n",
    "        node_dict[(method_name, class_name)] = (str(counter), 'Method')\n",
    "        counter+=1\n",
    "    \n",
    "with open(analysis_results_basedir + project + '_edges.csv', 'a') as edges_file:\n",
    "\n",
    "    # Write previously discarded edges\n",
    "    for edge in discarded_edges:\n",
    "        if edge[1] == 'Calls':\n",
    "            out_names = edge[0].split('(')\n",
    "            out_method_name = out_names[0]\n",
    "            out_class_name = out_names[1].replace(')', '')\n",
    "\n",
    "            in_names = edge[2].split('(')\n",
    "            in_method_name = in_names[0]\n",
    "            in_class_name = in_names[1].replace(')', '')\n",
    "\n",
    "            if (in_method_name, in_class_name) in node_dict:\n",
    "                edges_file.write(node_dict[(out_method_name, out_class_name)][0] + ',Calls,' + node_dict[(in_method_name, in_class_name)][0] + '\\n')\n",
    "                print('INFO: Added edge ' + str(edge))\n",
    "            else:\n",
    "                print('INFO: Edge ' + str(edge) + ' skipped')\n",
    "\n",
    "    # Write persists\n",
    "    for (out_method_name, out_class_name) in methods_to_add:\n",
    "        for persisted_entity in methods_to_add[(out_method_name, out_class_name)][1]:\n",
    "            edges_file.write(node_dict[(out_method_name, out_class_name)][0] + ',Persists,' + node_dict[persisted_entity][0] + '\\n')\n",
    "            print('INFO: Added edge [ \\'' + out_method_name + '(' + out_class_name + ')\\', \\'Persists\\', \\'' + persisted_entity + '\\']')"
   ]
  },
  {
   "cell_type": "markdown",
   "id": "fb417083-a660-4110-b106-759b262da091",
   "metadata": {
    "papermill": {
     "duration": 0.070668,
     "end_time": "2025-09-27T13:53:53.315423",
     "exception": false,
     "start_time": "2025-09-27T13:53:53.244755",
     "status": "completed"
    },
    "tags": []
   },
   "source": [
    "## 12. Write the resulting graph\n",
    "\n",
    "The graph will be written and displayed as image. It will contains all the nodes and edges from the _nodes.csv_ and _edges.csv_ files."
   ]
  },
  {
   "cell_type": "code",
   "execution_count": 19,
   "id": "be873f87-63dd-475a-9e5a-7c0c58031969",
   "metadata": {
    "execution": {
     "iopub.execute_input": "2025-09-27T13:53:53.389515Z",
     "iopub.status.busy": "2025-09-27T13:53:53.388574Z",
     "iopub.status.idle": "2025-09-27T13:53:53.464587Z",
     "shell.execute_reply": "2025-09-27T13:53:53.457577Z"
    },
    "papermill": {
     "duration": 0.116895,
     "end_time": "2025-09-27T13:53:53.469768",
     "exception": false,
     "start_time": "2025-09-27T13:53:53.352873",
     "status": "completed"
    },
    "tags": []
   },
   "outputs": [],
   "source": [
    "# Draw graph\n",
    "\n",
    "def DrawInitialGraph(G):\n",
    "    global DrawG\n",
    "    global project\n",
    "    scale = 50\n",
    "    DrawG = pygv.AGraph(directed=True, strict='true', splines='true')\n",
    "\n",
    "    for i in G.nodes():\n",
    "        if G.nodes[i]['type'] == 'Entity':\n",
    "            DrawG.add_node(i, shape='hexagon', label=G.nodes[i]['name'])\n",
    "        else:\n",
    "            DrawG.add_node(i, shape='circle', label=G.nodes[i]['name'])\n",
    "\n",
    "    for i in G.edges():\n",
    "        edge_color = 'black' if G[i[0]][i[1]]['rel_type'] in ['Calls', 'Persists', 'References'] else 'gray'\n",
    "        DrawG.add_edge(i[0], i[1], color=edge_color, label=G[i[0]][i[1]]['rel_type'], fontsize='8')\n",
    "\n",
    "    DrawG.layout(prog='dot')\n",
    "    DrawG.draw(analysis_results_basedir + project + '_graph.png')\n",
    "\n",
    "with open(analysis_results_basedir + project + '_nodes.csv', 'r') as nodes_file, open(analysis_results_basedir + project + '_edges.csv', 'r') as edges_file:\n",
    "    nodes_csv = csv.reader(nodes_file, delimiter=',')\n",
    "    edges_csv = csv.reader(edges_file, delimiter=',')\n",
    "\n",
    "    G = nx.DiGraph()\n",
    "\n",
    "    for node in nodes_csv:\n",
    "        num = int(node[0])\n",
    "        name = node[2]\n",
    "        if node[1] == 'Method':\n",
    "            class_name = node[3]\n",
    "            G.add_node(num, name=name, type=node[1], class_name=class_name)\n",
    "        elif node[1] == 'Entity':\n",
    "            G.add_node(num, name=name, type=node[1])\n",
    "\n",
    "    for edge in edges_csv:\n",
    "        G.add_edge(int(edge[0]), int(edge[2]), rel_type=edge[1])\n",
    "\n",
    "\n",
    "if not headless:\n",
    "    DrawInitialGraph(G)\n",
    "    display(Image(filename = analysis_results_basedir + project + '_graph.png'))"
   ]
  },
  {
   "cell_type": "markdown",
   "id": "d534cec4-fd8c-4faa-a055-6d45e9224ca3",
   "metadata": {
    "papermill": {
     "duration": 0.058001,
     "end_time": "2025-09-27T13:53:53.596782",
     "exception": false,
     "start_time": "2025-09-27T13:53:53.538781",
     "status": "completed"
    },
    "tags": []
   },
   "source": [
    "## 13. Clean the graph and export as .gml file\n",
    "\n",
    "If the graph contains isolated nodes, they can be removed."
   ]
  },
  {
   "cell_type": "markdown",
   "id": "e1f7ebc8-c6d6-40e9-9a91-143114497917",
   "metadata": {
    "papermill": {
     "duration": 0.044758,
     "end_time": "2025-09-27T13:53:53.697468",
     "exception": false,
     "start_time": "2025-09-27T13:53:53.652710",
     "status": "completed"
    },
    "tags": []
   },
   "source": [
    "### _Configuration!_\n",
    "\n",
    "Set the _remove_isolated_ variable to **True** if you want to remove the isolated nodes from the graph"
   ]
  },
  {
   "cell_type": "code",
   "execution_count": 20,
   "id": "63807bcb-0e57-49fe-8095-13c4bf9768c0",
   "metadata": {
    "execution": {
     "iopub.execute_input": "2025-09-27T13:53:53.829135Z",
     "iopub.status.busy": "2025-09-27T13:53:53.828433Z",
     "iopub.status.idle": "2025-09-27T13:53:53.871982Z",
     "shell.execute_reply": "2025-09-27T13:53:53.866950Z"
    },
    "papermill": {
     "duration": 0.119247,
     "end_time": "2025-09-27T13:53:53.880797",
     "exception": false,
     "start_time": "2025-09-27T13:53:53.761550",
     "status": "completed"
    },
    "tags": []
   },
   "outputs": [
    {
     "name": "stdout",
     "output_type": "stream",
     "text": [
      "Removed updateInventoryQuantity (ItemMapper)\n",
      "Removed setWorkingItemId (CartActionBean)\n",
      "Removed viewCart (CartActionBean)\n",
      "Removed checkOut (CartActionBean)\n",
      "Removed setMessage (AbstractActionBean)\n",
      "Removed getContext (AbstractActionBean)\n",
      "Removed setContext (AbstractActionBean)\n",
      "Removed getOrderId (OrderActionBean)\n",
      "Removed setOrderId (OrderActionBean)\n",
      "Removed isShippingAddressRequired (OrderActionBean)\n",
      "Removed setShippingAddressRequired (OrderActionBean)\n",
      "Removed setConfirmed (OrderActionBean)\n",
      "Removed getCreditCardTypes (OrderActionBean)\n",
      "Removed getKeyword (CatalogActionBean)\n",
      "Removed setKeyword (CatalogActionBean)\n",
      "Removed getCategoryId (CatalogActionBean)\n",
      "Removed setCategoryId (CatalogActionBean)\n",
      "Removed getProductId (CatalogActionBean)\n",
      "Removed setProductId (CatalogActionBean)\n",
      "Removed getItemId (CatalogActionBean)\n",
      "Removed setItemId (CatalogActionBean)\n",
      "Removed viewMain (CatalogActionBean)\n",
      "Removed clear (CatalogActionBean)\n",
      "Removed setUsername (AccountActionBean)\n",
      "Removed setPassword (AccountActionBean)\n",
      "Removed getLanguages (AccountActionBean)\n",
      "Removed getCategories (AccountActionBean)\n",
      "Removed newAccountForm (AccountActionBean)\n",
      "Removed editAccountForm (AccountActionBean)\n",
      "Removed signonForm (AccountActionBean)\n",
      "Removed isAuthenticated (AccountActionBean)\n"
     ]
    }
   ],
   "source": [
    "remove_isolated = True # <-- Set this variable!\n",
    "\n",
    "if remove_isolated:\n",
    "    if not nx.is_weakly_connected(G):\n",
    "        isolating_nodes = list(nx.isolates(G))\n",
    "\n",
    "        for node in isolating_nodes:\n",
    "            if G.nodes[node]['type']=='Entity':\n",
    "                print('Removed Entity ' + G.nodes[node]['name'])\n",
    "            else:\n",
    "                print('Removed ' + G.nodes[node]['name'] + ' (' + G.nodes[node]['class_name'] + ')')\n",
    "\n",
    "        G.remove_nodes_from(isolating_nodes)\n",
    "\n",
    "        if not headless:\n",
    "            DrawInitialGraph(G)\n",
    "            display(Image(filename = analysis_results_basedir + project + '_graph.png'))\n",
    "\n",
    "    else:\n",
    "        print('The graph is connected') "
   ]
  },
  {
   "cell_type": "code",
   "execution_count": 21,
   "id": "1c47473c-0a5c-484a-bd57-8791b8af9c12",
   "metadata": {
    "execution": {
     "iopub.execute_input": "2025-09-27T13:53:54.023674Z",
     "iopub.status.busy": "2025-09-27T13:53:54.022629Z",
     "iopub.status.idle": "2025-09-27T13:53:54.503148Z",
     "shell.execute_reply": "2025-09-27T13:53:54.500810Z"
    },
    "papermill": {
     "duration": 0.561853,
     "end_time": "2025-09-27T13:53:54.510143",
     "exception": false,
     "start_time": "2025-09-27T13:53:53.948290",
     "status": "completed"
    },
    "tags": []
   },
   "outputs": [],
   "source": [
    "nx.write_graphml(G, analysis_results_basedir + project + '_graph.gml')"
   ]
  }
 ],
 "metadata": {
  "kernelspec": {
   "display_name": "Python 3 (ipykernel)",
   "language": "python",
   "name": "python3"
  },
  "language_info": {
   "codemirror_mode": {
    "name": "ipython",
    "version": 3
   },
   "file_extension": ".py",
   "mimetype": "text/x-python",
   "name": "python",
   "nbconvert_exporter": "python",
   "pygments_lexer": "ipython3",
   "version": "3.12.3"
  },
  "papermill": {
   "default_parameters": {},
   "duration": 10.380198,
   "end_time": "2025-09-27T13:53:55.835545",
   "environment_variables": {},
   "exception": null,
   "input_path": "1-System_analysis.ipynb",
   "output_path": "outputs/output_step_1_jpetstore.ipynb",
   "parameters": {
    "headless": true,
    "project": "jpetstore",
    "read_from_file": true,
    "update_refinement": false
   },
   "start_time": "2025-09-27T13:53:45.455347",
   "version": "2.6.0"
  },
  "vscode": {
   "interpreter": {
    "hash": "84d57bcf988df7741739090f92038d55c89d5ee4bebfcc0bea6a6c98a16573ca"
   }
  }
 },
 "nbformat": 4,
 "nbformat_minor": 5
}