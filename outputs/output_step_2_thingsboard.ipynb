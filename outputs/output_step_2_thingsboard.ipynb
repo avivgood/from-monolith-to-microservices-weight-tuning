{
 "cells": [
  {
   "cell_type": "code",
   "execution_count": 1,
   "id": "63ce5fa3-e2cb-4565-ba94-8fa943d68162",
   "metadata": {
    "editable": true,
    "execution": {
     "iopub.execute_input": "2025-09-27T04:15:32.962556Z",
     "iopub.status.busy": "2025-09-27T04:15:32.962142Z",
     "iopub.status.idle": "2025-09-27T04:15:43.060917Z",
     "shell.execute_reply": "2025-09-27T04:15:43.060006Z"
    },
    "papermill": {
     "duration": 10.110622,
     "end_time": "2025-09-27T04:15:43.063068",
     "exception": false,
     "start_time": "2025-09-27T04:15:32.952446",
     "status": "completed"
    },
    "slideshow": {
     "slide_type": ""
    },
    "tags": []
   },
   "outputs": [],
   "source": [
    "#!/usr/bin/env python\n",
    "import scrapbook as sb\n",
    "import networkx as nx\n",
    "import pygraphviz as pygv\n",
    "import gurobipy as gb\n",
    "import json\n",
    "from community import community_louvain\n",
    "from IPython.display import Image, display\n",
    "\n",
    "def DrawSol (G, x, filename):\n",
    "    global n_micros\n",
    "\n",
    "    DrawG = pygv.AGraph(directed=True, strict='true', splines='true')\n",
    "\n",
    "    colors = ['green', 'blue', 'red', 'orange', 'yellow', 'purple', 'black', 'gray', 'cyan', 'brown', 'hotpink', 'navy', 'darkgreen', 'chocolate', 'deeppink', 'firebrick', 'gold', 'orchid', 'gold4']\n",
    "    \n",
    "    for i in G.nodes():\n",
    "        if G.nodes[i]['type'] == 'Entity':\n",
    "            shape='hexagon'\n",
    "        else:\n",
    "            shape='circle'\n",
    "\n",
    "        for k in range(n_micros):\n",
    "            if x[i,k].x == 1:\n",
    "                # Get cluster number k\n",
    "                if k<len(colors):\n",
    "                    color=colors[k]\n",
    "                else:\n",
    "                    color = 'black'\n",
    "        DrawG.add_node (i, color=color, shape=shape, width=0.1, fontsize=9, label=G.nodes[i]['name'])\n",
    "\n",
    "    for i in G.edges():\n",
    "        edge_color = 'black' if G[i[0]][i[1]]['rel_type'] in ['Calls','Persists', 'References'] else 'gray'\n",
    "        DrawG.add_edge(i[0], i[1], color=edge_color, label=G[i[0]][i[1]]['rel_type'], fontsize='8')\n",
    "        \n",
    "    DrawG.layout(prog='dot')\n",
    "    DrawG.draw(filename)"
   ]
  },
  {
   "cell_type": "markdown",
   "id": "e3e92b53-40f6-4740-8a99-c40877eb9681",
   "metadata": {
    "editable": true,
    "papermill": {
     "duration": 0.007979,
     "end_time": "2025-09-27T04:15:43.079451",
     "exception": false,
     "start_time": "2025-09-27T04:15:43.071472",
     "status": "completed"
    },
    "slideshow": {
     "slide_type": ""
    },
    "tags": []
   },
   "source": [
    "### _Configuration!_\n",
    "\n",
    "Keep the project list up-to-date and select the project to be analyzed"
   ]
  },
  {
   "cell_type": "markdown",
   "id": "369f6589-5ded-4162-85ea-3c37b9026765",
   "metadata": {
    "editable": true,
    "papermill": {
     "duration": 0.006392,
     "end_time": "2025-09-27T04:15:43.092269",
     "exception": false,
     "start_time": "2025-09-27T04:15:43.085877",
     "status": "completed"
    },
    "slideshow": {
     "slide_type": ""
    },
    "tags": []
   },
   "source": [
    "### _User input required!_\n",
    "\n",
    "Update, if needed the default weigth of the edges"
   ]
  },
  {
   "cell_type": "code",
   "execution_count": 2,
   "id": "05c7e2d2-7f39-4109-a665-36a40e5be7de",
   "metadata": {
    "editable": true,
    "execution": {
     "iopub.execute_input": "2025-09-27T04:15:43.108889Z",
     "iopub.status.busy": "2025-09-27T04:15:43.108348Z",
     "iopub.status.idle": "2025-09-27T04:15:43.117086Z",
     "shell.execute_reply": "2025-09-27T04:15:43.115367Z"
    },
    "papermill": {
     "duration": 0.023535,
     "end_time": "2025-09-27T04:15:43.122475",
     "exception": false,
     "start_time": "2025-09-27T04:15:43.098940",
     "status": "completed"
    },
    "slideshow": {
     "slide_type": ""
    },
    "tags": [
     "parameters"
    ]
   },
   "outputs": [],
   "source": [
    "project = 'jpetstore' # <-- Set this variable!\n",
    "# Weighting edges:\n",
    "w = dict()\n",
    "w['Calls']=0.8\n",
    "w['Persists']=1\n",
    "w['Uses']=0.6\n",
    "w['References']=0.2\n",
    "w['Extends']=0\n",
    "headless = False"
   ]
  },
  {
   "cell_type": "code",
   "execution_count": 3,
   "id": "4375cf2b",
   "metadata": {
    "execution": {
     "iopub.execute_input": "2025-09-27T04:15:43.155529Z",
     "iopub.status.busy": "2025-09-27T04:15:43.155184Z",
     "iopub.status.idle": "2025-09-27T04:15:43.161653Z",
     "shell.execute_reply": "2025-09-27T04:15:43.160787Z"
    },
    "papermill": {
     "duration": 0.021199,
     "end_time": "2025-09-27T04:15:43.163403",
     "exception": false,
     "start_time": "2025-09-27T04:15:43.142204",
     "status": "completed"
    },
    "tags": [
     "injected-parameters"
    ]
   },
   "outputs": [],
   "source": [
    "# Parameters\n",
    "project = \"thingsboard\"\n",
    "w = {\"Calls\": 0.3502793904700223, \"Persists\": 0.261108188312347, \"References\": 0.05352974055867549, \"Extends\": 0.055467447464847164, \"Uses\": 0.2796152331941081}\n",
    "headless = True\n"
   ]
  },
  {
   "cell_type": "code",
   "execution_count": 4,
   "id": "654afedb-2f70-4c65-b23e-5e01c98d8d13",
   "metadata": {
    "editable": true,
    "execution": {
     "iopub.execute_input": "2025-09-27T04:15:43.191079Z",
     "iopub.status.busy": "2025-09-27T04:15:43.190673Z",
     "iopub.status.idle": "2025-09-27T04:15:43.199022Z",
     "shell.execute_reply": "2025-09-27T04:15:43.198074Z"
    },
    "papermill": {
     "duration": 0.030123,
     "end_time": "2025-09-27T04:15:43.200900",
     "exception": false,
     "start_time": "2025-09-27T04:15:43.170777",
     "status": "completed"
    },
    "slideshow": {
     "slide_type": ""
    },
    "tags": []
   },
   "outputs": [],
   "source": [
    "\n",
    "\n",
    "with open('projects.json', 'r') as projects:\n",
    "    project_found = False\n",
    "    for data in json.load(projects):\n",
    "        if data['name'] == project:\n",
    "            analysis_results_basedir = data['analysis_results_basedir']\n",
    "            project_found = True\n",
    "    if not project_found:\n",
    "        print('ERROR: project ' + project + ' does not appear in project.json')"
   ]
  },
  {
   "cell_type": "code",
   "execution_count": 5,
   "id": "c9f2f54d-61ce-4b68-a80a-68b94ef0ce32",
   "metadata": {
    "editable": true,
    "execution": {
     "iopub.execute_input": "2025-09-27T04:15:43.217850Z",
     "iopub.status.busy": "2025-09-27T04:15:43.217508Z",
     "iopub.status.idle": "2025-09-27T04:15:43.222831Z",
     "shell.execute_reply": "2025-09-27T04:15:43.221984Z"
    },
    "papermill": {
     "duration": 0.016082,
     "end_time": "2025-09-27T04:15:43.224765",
     "exception": false,
     "start_time": "2025-09-27T04:15:43.208683",
     "status": "completed"
    },
    "slideshow": {
     "slide_type": ""
    },
    "tags": []
   },
   "outputs": [],
   "source": [
    "# Set output names\n",
    "\n",
    "graph_in = analysis_results_basedir + project + '_graph.gml'\n",
    "communities_out = analysis_results_basedir + project + '_communities.csv'\n",
    "formulation_out = analysis_results_basedir + project + '_communities_improved_optimization.lp'\n",
    "solution_csv_out = analysis_results_basedir + project + '_sol_communities_improved_optimization.csv'\n",
    "graph_image_out = analysis_results_basedir + project + '_sol_communities_improved_optimization.png'\n",
    "analysis_out = analysis_results_basedir + project + '_sol_communities_improved_optimization.txt'"
   ]
  },
  {
   "cell_type": "code",
   "execution_count": 6,
   "id": "5c2c34a6-0072-4335-aa24-5592aa2b0eb7",
   "metadata": {
    "editable": true,
    "execution": {
     "iopub.execute_input": "2025-09-27T04:15:43.243854Z",
     "iopub.status.busy": "2025-09-27T04:15:43.242722Z",
     "iopub.status.idle": "2025-09-27T04:15:43.512192Z",
     "shell.execute_reply": "2025-09-27T04:15:43.511339Z"
    },
    "papermill": {
     "duration": 0.281193,
     "end_time": "2025-09-27T04:15:43.514048",
     "exception": false,
     "start_time": "2025-09-27T04:15:43.232855",
     "status": "completed"
    },
    "slideshow": {
     "slide_type": ""
    },
    "tags": []
   },
   "outputs": [],
   "source": [
    "# Import graph\n",
    "\n",
    "G = nx.read_graphml(graph_in)"
   ]
  },
  {
   "cell_type": "code",
   "execution_count": 7,
   "id": "dce09914-e79b-4094-8343-eb55557825f3",
   "metadata": {
    "editable": true,
    "execution": {
     "iopub.execute_input": "2025-09-27T04:15:43.529962Z",
     "iopub.status.busy": "2025-09-27T04:15:43.529632Z",
     "iopub.status.idle": "2025-09-27T04:15:43.541777Z",
     "shell.execute_reply": "2025-09-27T04:15:43.540965Z"
    },
    "papermill": {
     "duration": 0.022702,
     "end_time": "2025-09-27T04:15:43.543431",
     "exception": false,
     "start_time": "2025-09-27T04:15:43.520729",
     "status": "completed"
    },
    "slideshow": {
     "slide_type": ""
    },
    "tags": []
   },
   "outputs": [],
   "source": [
    "# Add edge weights\n",
    "\n",
    "for (i, j) in G.edges():\n",
    "    G[i][j]['w'] = w[G[i][j]['rel_type']]"
   ]
  },
  {
   "cell_type": "markdown",
   "id": "c98c18d6-f80e-47f3-91bd-258d444d2d08",
   "metadata": {
    "editable": true,
    "papermill": {
     "duration": 0.008008,
     "end_time": "2025-09-27T04:15:43.558512",
     "exception": false,
     "start_time": "2025-09-27T04:15:43.550504",
     "status": "completed"
    },
    "slideshow": {
     "slide_type": ""
    },
    "tags": []
   },
   "source": [
    "## Find communities"
   ]
  },
  {
   "cell_type": "code",
   "execution_count": 8,
   "id": "b1205d9e-4492-4c2d-8034-52c4323b3a20",
   "metadata": {
    "editable": true,
    "execution": {
     "iopub.execute_input": "2025-09-27T04:15:43.573935Z",
     "iopub.status.busy": "2025-09-27T04:15:43.573603Z",
     "iopub.status.idle": "2025-09-27T04:15:43.955487Z",
     "shell.execute_reply": "2025-09-27T04:15:43.954641Z"
    },
    "papermill": {
     "duration": 0.391585,
     "end_time": "2025-09-27T04:15:43.957231",
     "exception": false,
     "start_time": "2025-09-27T04:15:43.565646",
     "status": "completed"
    },
    "slideshow": {
     "slide_type": ""
    },
    "tags": []
   },
   "outputs": [],
   "source": [
    "H = nx.Graph(G) # create an undirected graph H from a directed graph G\n",
    "\n",
    "# compute the best partition\n",
    "communities = community_louvain.best_partition(H, weight='w')\n",
    "\n",
    "# write communities on file\n",
    "with open(communities_out, 'w') as csv_file:\n",
    "    csv_file.write('node, cluster/community\\n')\n",
    "    for node in communities:\n",
    "        csv_file.write(f'{node},{communities[node]}\\n')"
   ]
  },
  {
   "cell_type": "markdown",
   "id": "e6627e68-4939-4275-8ed8-43a323b64d2e",
   "metadata": {
    "editable": true,
    "papermill": {
     "duration": 0.007749,
     "end_time": "2025-09-27T04:15:43.972740",
     "exception": false,
     "start_time": "2025-09-27T04:15:43.964991",
     "status": "completed"
    },
    "slideshow": {
     "slide_type": ""
    },
    "tags": []
   },
   "source": [
    "## Find communities for the entity subgraph"
   ]
  },
  {
   "cell_type": "code",
   "execution_count": 9,
   "id": "476f02c9-d605-4213-8225-951cd9beb7e5",
   "metadata": {
    "editable": true,
    "execution": {
     "iopub.execute_input": "2025-09-27T04:15:43.986604Z",
     "iopub.status.busy": "2025-09-27T04:15:43.986330Z",
     "iopub.status.idle": "2025-09-27T04:15:44.442577Z",
     "shell.execute_reply": "2025-09-27T04:15:44.441716Z"
    },
    "papermill": {
     "duration": 0.463753,
     "end_time": "2025-09-27T04:15:44.444314",
     "exception": false,
     "start_time": "2025-09-27T04:15:43.980561",
     "status": "completed"
    },
    "slideshow": {
     "slide_type": ""
    },
    "tags": []
   },
   "outputs": [
    {
     "name": "stdout",
     "output_type": "stream",
     "text": [
      "Community 96:\n",
      " - AbstractEventInsertRepository (id:515)\n",
      "Community 98:\n",
      " - PsqlPartition (id:517)\n",
      "Community 106:\n",
      " - AttributeKvEntity (id:558)\n",
      "Community 107:\n",
      " - RelationCompositeKey (id:571)\n",
      "Community 108:\n",
      " - RelationEntity (id:573)\n",
      "Community 48:\n",
      " - EventEntity (id:611)\n",
      "Community 116:\n",
      " - ComponentDescriptorEntity (id:601)\n",
      "Community 93:\n",
      " - TsKvEntity (id:588)\n",
      " - TimescaleTsKvEntity (id:590)\n",
      "Community 94:\n",
      " - AbstractRelationInsertRepository (id:513)\n",
      "Community 95:\n",
      " - AbstractComponentDescriptorInsertRepository (id:514)\n"
     ]
    }
   ],
   "source": [
    "K = nx.Graph(G) # create an undirected graph H from a directed graph G\n",
    "\n",
    "# Remove non-entity nodes\n",
    "\n",
    "for i in list(K.nodes):\n",
    "    if K.nodes[i]['type']!='Entity':\n",
    "        K.remove_node(i)\n",
    "\n",
    "# Obtain subgraph of entities that have direct relationships with the persistence layer:\n",
    "    \n",
    "        \n",
    "# compute the best partition\n",
    "entity_cluster = community_louvain.best_partition(K, weight='w')\n",
    "\n",
    "# Remove nodes that do not have direct relationships with methods from the cluster dictionary:\n",
    "e_dict = dict()\n",
    "# Check if entity has a relationship with some method of the persistence layer (it will remove entities from the controller model, for instance)\n",
    "for e in entity_cluster:\n",
    "    e_dict[e] = False\n",
    "    for (i,j) in G.edges():\n",
    "        if e==j and G[i][j]['rel_type'] in ['Persists']:\n",
    "            e_dict[e]=True\n",
    "\n",
    "# Remove non-related entities\n",
    "for entity_to_remove in e_dict:\n",
    "    if not e_dict[entity_to_remove]:\n",
    "        # print('INFO: Entity ' + G.nodes[entity_to_remove]['name'] + ' removed from the clusters')\n",
    "        entity_cluster.pop(entity_to_remove)\n",
    "\n",
    "for i in set(entity_cluster.values()):\n",
    "    print(f'Community {i}:')\n",
    "    for entity, cluster in entity_cluster.items():\n",
    "        if cluster == i:\n",
    "            print(f' - {G.nodes()[entity][\"name\"]} (id:{entity})')"
   ]
  },
  {
   "cell_type": "markdown",
   "id": "9d385bf2-cf31-45e0-8d84-fd44715a1028",
   "metadata": {
    "editable": true,
    "papermill": {
     "duration": 0.008637,
     "end_time": "2025-09-27T04:15:44.461117",
     "exception": false,
     "start_time": "2025-09-27T04:15:44.452480",
     "status": "completed"
    },
    "slideshow": {
     "slide_type": ""
    },
    "tags": []
   },
   "source": [
    "### _User input required!_\n",
    "\n",
    "Refine, if needed, entity clusters"
   ]
  },
  {
   "cell_type": "code",
   "execution_count": 10,
   "id": "021636e9-07ea-45c6-9eab-e34e93503e9b",
   "metadata": {
    "editable": true,
    "execution": {
     "iopub.execute_input": "2025-09-27T04:15:44.476554Z",
     "iopub.status.busy": "2025-09-27T04:15:44.476257Z",
     "iopub.status.idle": "2025-09-27T04:15:44.480713Z",
     "shell.execute_reply": "2025-09-27T04:15:44.479902Z"
    },
    "papermill": {
     "duration": 0.012364,
     "end_time": "2025-09-27T04:15:44.482069",
     "exception": false,
     "start_time": "2025-09-27T04:15:44.469705",
     "status": "completed"
    },
    "slideshow": {
     "slide_type": ""
    },
    "tags": []
   },
   "outputs": [],
   "source": [
    "# Remove entity from its cluster\n",
    "entity_ids_to_remove = [] # <-- Put Ids as strings (example: ['1', '3']\n",
    "\n",
    "# Place entity into a cluster\n",
    "entities_clusters_to_place = [] # <-- Example: entity X in cluster Y: ('X', 5)\n",
    "\n",
    "\n",
    "for e in entity_ids_to_remove:\n",
    "    entity_cluster.pop(e)\n",
    "    print(f'INFO: Removed entity {G.nodes()[e][\"name\"]} from clusters')\n",
    "\n",
    "for (e, cluster) in entities_clusters_to_place:\n",
    "    entity_cluster[e] = cluster\n",
    "    print(f'INFO: Entity {G.nodes()[e][\"name\"]} put into cluster {cluster}')"
   ]
  },
  {
   "cell_type": "code",
   "execution_count": 11,
   "id": "03cb8c9a-f2d0-46ad-a857-11e31be27470",
   "metadata": {
    "editable": true,
    "execution": {
     "iopub.execute_input": "2025-09-27T04:15:44.491833Z",
     "iopub.status.busy": "2025-09-27T04:15:44.491573Z",
     "iopub.status.idle": "2025-09-27T04:15:44.497313Z",
     "shell.execute_reply": "2025-09-27T04:15:44.496513Z"
    },
    "papermill": {
     "duration": 0.012228,
     "end_time": "2025-09-27T04:15:44.498658",
     "exception": false,
     "start_time": "2025-09-27T04:15:44.486430",
     "status": "completed"
    },
    "slideshow": {
     "slide_type": ""
    },
    "tags": []
   },
   "outputs": [
    {
     "name": "stdout",
     "output_type": "stream",
     "text": [
      "Entities in community 0: ['AbstractRelationInsertRepository']\n",
      "Entities in community 1: ['AbstractComponentDescriptorInsertRepository']\n",
      "Entities in community 2: ['AbstractEventInsertRepository']\n",
      "Entities in community 3: ['PsqlPartition']\n",
      "Entities in community 4: ['AttributeKvEntity']\n",
      "Entities in community 5: ['RelationCompositeKey']\n",
      "Entities in community 6: ['RelationEntity']\n",
      "Entities in community 7: ['TsKvEntity', 'TimescaleTsKvEntity']\n",
      "Entities in community 8: ['ComponentDescriptorEntity']\n",
      "Entities in community 9: ['EventEntity']\n"
     ]
    }
   ],
   "source": [
    "# Some cluster may have disappeared: remaining clusters need to be renumbered\n",
    "cluster_map = dict()\n",
    "counter=0\n",
    "number_mapping = dict() # maps the old cluster number with the new one\n",
    "for entity_key, old_number in entity_cluster.items():\n",
    "    if old_number not in number_mapping:\n",
    "        number_mapping[old_number] = counter\n",
    "        counter+=1\n",
    "    cluster_map[number_mapping[old_number]] = cluster_map.get(number_mapping[old_number], []) + [entity_key]\n",
    "    \n",
    "for cluster in cluster_map:\n",
    "    print('Entities in community ' + str(cluster) + ': ' + str([G.nodes[entity_key]['name'] for entity_key in cluster_map[cluster]]))\n",
    "\n",
    "n_micros = len(cluster_map)"
   ]
  },
  {
   "cell_type": "code",
   "execution_count": 12,
   "id": "bd909d53-3681-43aa-baa0-5d38556bb40b",
   "metadata": {
    "editable": true,
    "execution": {
     "iopub.execute_input": "2025-09-27T04:15:44.508770Z",
     "iopub.status.busy": "2025-09-27T04:15:44.508406Z",
     "iopub.status.idle": "2025-09-27T04:15:44.521760Z",
     "shell.execute_reply": "2025-09-27T04:15:44.520934Z"
    },
    "papermill": {
     "duration": 0.019953,
     "end_time": "2025-09-27T04:15:44.523035",
     "exception": false,
     "start_time": "2025-09-27T04:15:44.503082",
     "status": "completed"
    },
    "slideshow": {
     "slide_type": ""
    },
    "tags": []
   },
   "outputs": [
    {
     "name": "stdout",
     "output_type": "stream",
     "text": [
      "Entities in community 0 are in clusters: []\n",
      "Entities in community 1 are in clusters: []\n",
      "Entities in community 3 are in clusters: [1, 2, 9]\n",
      "Entities in community 4 are in clusters: []\n",
      "Entities in community 5 are in clusters: []\n",
      "Entities in community 13 are in clusters: []\n",
      "Entities in community 7 are in clusters: []\n",
      "Entities in community 54 are in clusters: []\n",
      "Entities in community 63 are in clusters: []\n",
      "Entities in community 11 are in clusters: []\n",
      "Entities in community 77 are in clusters: []\n",
      "Entities in community 14 are in clusters: []\n",
      "Entities in community 15 are in clusters: []\n",
      "Entities in community 16 are in clusters: []\n",
      "Entities in community 17 are in clusters: []\n",
      "Entities in community 18 are in clusters: []\n",
      "Entities in community 19 are in clusters: []\n",
      "Entities in community 20 are in clusters: []\n",
      "Entities in community 21 are in clusters: []\n",
      "Entities in community 22 are in clusters: []\n",
      "Entities in community 23 are in clusters: []\n",
      "Entities in community 24 are in clusters: []\n",
      "Entities in community 25 are in clusters: []\n",
      "Entities in community 26 are in clusters: []\n",
      "Entities in community 27 are in clusters: []\n",
      "Entities in community 28 are in clusters: []\n",
      "Entities in community 29 are in clusters: []\n",
      "Entities in community 30 are in clusters: []\n",
      "Entities in community 31 are in clusters: []\n",
      "Entities in community 32 are in clusters: []\n",
      "Entities in community 33 are in clusters: []\n",
      "Entities in community 34 are in clusters: []\n",
      "Entities in community 35 are in clusters: []\n",
      "Entities in community 57 are in clusters: []\n",
      "Entities in community 37 are in clusters: []\n",
      "Entities in community 38 are in clusters: []\n",
      "Entities in community 39 are in clusters: []\n",
      "Entities in community 41 are in clusters: []\n",
      "Entities in community 42 are in clusters: []\n",
      "Entities in community 43 are in clusters: []\n",
      "Entities in community 44 are in clusters: []\n",
      "Entities in community 45 are in clusters: []\n",
      "Entities in community 46 are in clusters: []\n",
      "Entities in community 47 are in clusters: []\n",
      "Entities in community 48 are in clusters: []\n",
      "Entities in community 49 are in clusters: []\n",
      "Entities in community 50 are in clusters: []\n",
      "Entities in community 51 are in clusters: []\n",
      "Entities in community 52 are in clusters: []\n",
      "Entities in community 83 are in clusters: [8]\n",
      "Entities in community 55 are in clusters: []\n",
      "Entities in community 56 are in clusters: []\n",
      "Entities in community 59 are in clusters: []\n",
      "Entities in community 60 are in clusters: []\n",
      "Entities in community 62 are in clusters: []\n",
      "Entities in community 70 are in clusters: []\n",
      "Entities in community 66 are in clusters: []\n",
      "Entities in community 67 are in clusters: []\n",
      "Entities in community 68 are in clusters: []\n",
      "Entities in community 69 are in clusters: []\n",
      "Entities in community 73 are in clusters: []\n",
      "Entities in community 74 are in clusters: []\n",
      "Entities in community 76 are in clusters: []\n",
      "Entities in community 79 are in clusters: []\n",
      "Entities in community 80 are in clusters: []\n",
      "Entities in community 81 are in clusters: [0, 4, 5, 6]\n",
      "Entities in community 84 are in clusters: [3, 7, 7]\n",
      "Entities in community 2 are in clusters: []\n",
      "Entities in community 6 are in clusters: []\n",
      "Entities in community 8 are in clusters: []\n",
      "Entities in community 9 are in clusters: []\n",
      "Relaxed communities: [3, 81, 84]\n"
     ]
    }
   ],
   "source": [
    "# Resolve conflicts of distribution of entities into communities: if entities of the same community are in different clusters, then remove the community from the dictionary\n",
    "\n",
    "communities_dict = dict() # Map community -> entities into the communities\n",
    "\n",
    "\n",
    "for node in G.nodes():\n",
    "    if G.nodes[node]['type'] == 'Entity':\n",
    "        communities_dict[communities[node]] = communities_dict.get(communities[node], []) + [node]\n",
    "\n",
    "communities_to_relax = []\n",
    "\n",
    "for community in communities_dict:\n",
    "    clusters = []\n",
    "    for cluster, entities in cluster_map.items():\n",
    "        for e in entities:\n",
    "            if e in communities_dict[community]:\n",
    "                clusters.append(cluster)\n",
    "    print(f'Entities in community {community} are in clusters: {clusters}')\n",
    "    if len(clusters) > 0 and not all(clusters[0] == c for c in clusters):\n",
    "        #print(f'Remove community {community}')\n",
    "        communities_to_relax.append(community)\n",
    "\n",
    "nodes_to_remove_from_dict = []\n",
    "for node in communities.keys():\n",
    "    if communities[node] in communities_to_relax:\n",
    "        nodes_to_remove_from_dict.append(node)\n",
    "\n",
    "for node in nodes_to_remove_from_dict:\n",
    "    del communities[node]\n",
    "\n",
    "print(f'Relaxed communities: {communities_to_relax}')"
   ]
  },
  {
   "cell_type": "markdown",
   "id": "3c6fe2ac-0fb0-456d-8b81-8d93a3439be8",
   "metadata": {
    "editable": true,
    "papermill": {
     "duration": 0.00452,
     "end_time": "2025-09-27T04:15:44.532103",
     "exception": false,
     "start_time": "2025-09-27T04:15:44.527583",
     "status": "completed"
    },
    "slideshow": {
     "slide_type": ""
    },
    "tags": []
   },
   "source": [
    "## ILP Formulation"
   ]
  },
  {
   "cell_type": "code",
   "execution_count": 13,
   "id": "bceb7240-b83a-4b0b-b380-b95cd1bb2b0e",
   "metadata": {
    "editable": true,
    "execution": {
     "iopub.execute_input": "2025-09-27T04:15:44.542359Z",
     "iopub.status.busy": "2025-09-27T04:15:44.541983Z",
     "iopub.status.idle": "2025-09-27T04:15:48.352532Z",
     "shell.execute_reply": "2025-09-27T04:15:48.351833Z"
    },
    "papermill": {
     "duration": 3.817145,
     "end_time": "2025-09-27T04:15:48.353742",
     "exception": false,
     "start_time": "2025-09-27T04:15:44.536597",
     "status": "completed"
    },
    "slideshow": {
     "slide_type": ""
    },
    "tags": []
   },
   "outputs": [
    {
     "name": "stdout",
     "output_type": "stream",
     "text": [
      "Set parameter WLSAccessID\n"
     ]
    },
    {
     "name": "stdout",
     "output_type": "stream",
     "text": [
      "Set parameter WLSSecret\n"
     ]
    },
    {
     "name": "stdout",
     "output_type": "stream",
     "text": [
      "Set parameter LicenseID to value 2713550\n"
     ]
    },
    {
     "name": "stdout",
     "output_type": "stream",
     "text": [
      "Academic license 2713550 - for non-commercial use only - registered to av___@gmail.com\n"
     ]
    }
   ],
   "source": [
    "model = gb.Model()\n",
    "\n",
    "# Variables\n",
    "x = model.addVars(((i,k) for i in G.nodes() for k in range(n_micros)),\\\n",
    "                  vtype=gb.GRB.BINARY, name='x')\n",
    "\n",
    "z = model.addVars(((i,j,k) for (i,j) in G.edges() for k in range(n_micros)), vtype=gb.GRB.BINARY, name='z')\n",
    "\n",
    "y = model.addVars(((i,j) for (i,j) in G.edges()), vtype=gb.GRB.BINARY, name='y')\n",
    "\n",
    "# Each node has to be in one and only one microservice\n",
    "model.addConstrs((x.sum(i, '*') == 1 for i in G.nodes()), name='(1)microservice-belonging')\n",
    "\n",
    "# A microservice can not be composed of entities only\n",
    "model.addConstrs((gb.quicksum(x[i,k] for i in G.nodes() if G.nodes[i]['type']!='Entity') >= 1 for k in range(n_micros)), name='(2)microservice-composition')\n",
    "\n",
    "# Bonding variables\n",
    "model.addConstrs((z[i,j,k]-x[i,k] <= 0 for (i,j) in G.edges() for k in range(n_micros)), name='(3)bonding-z-to-x')\n",
    "model.addConstrs((z[i,j,k]-x[j,k] <= 0 for (i,j) in G.edges() for k in range(n_micros)), name='(4)bonding-z-to-x')\n",
    "model.addConstrs((x[i,k]+x[j,k]-z[i,j,k] <= 1 for (i,j) in G.edges() for k in range(n_micros)), name='(5)bonding-z-to-x')\n",
    "\n",
    "model.addConstrs((y[i,j]==gb.quicksum(z[i,j,k] for k in range(n_micros)) for (i,j) in G.edges()), name='(6)bonding-y-to-z')\n",
    "\n",
    "\n",
    "########## Added constraints ##########\n",
    "\n",
    "# Force each entity from the kth cluster to be in the kth microservice\n",
    "model.addConstrs((x[i,k]==1 for k in cluster_map for i in cluster_map[k]), name='(7)bonding-x-to-entity-clusters')\n",
    "\n",
    "# Force node of the same community to be in the same (consider a community only if there are not entities from different clusters)\n",
    "communities_constraint = model.addConstrs((y[i,j]==1 for (i,j) in G.edges() if i in communities and j in communities and communities[i]==communities[j]), name='(8)bonding-y-to-communities')\n",
    "\n",
    "\n",
    "########## Objective function ##########\n",
    "\n",
    "coupling = gb.quicksum(G.edges[i,j]['w']*(1-y[i,j]) for (i,j) in G.edges())\n",
    "\n",
    "model.setObjective(coupling, gb.GRB.MINIMIZE)\n",
    "\n",
    "model.write(formulation_out)"
   ]
  },
  {
   "cell_type": "code",
   "execution_count": 14,
   "id": "081eb8b2-d436-45fa-886c-7051ff07d125",
   "metadata": {
    "editable": true,
    "execution": {
     "iopub.execute_input": "2025-09-27T04:15:48.363299Z",
     "iopub.status.busy": "2025-09-27T04:15:48.363071Z",
     "iopub.status.idle": "2025-09-27T04:16:22.211447Z",
     "shell.execute_reply": "2025-09-27T04:16:22.210446Z"
    },
    "papermill": {
     "duration": 33.854968,
     "end_time": "2025-09-27T04:16:22.213106",
     "exception": false,
     "start_time": "2025-09-27T04:15:48.358138",
     "status": "completed"
    },
    "slideshow": {
     "slide_type": ""
    },
    "tags": []
   },
   "outputs": [
    {
     "name": "stdout",
     "output_type": "stream",
     "text": [
      "Gurobi Optimizer version 12.0.3 build v12.0.3rc0 (linux64 - \"Linux Mint 22.1\")\n"
     ]
    },
    {
     "name": "stdout",
     "output_type": "stream",
     "text": [
      "\n"
     ]
    },
    {
     "name": "stdout",
     "output_type": "stream",
     "text": [
      "CPU model: Intel(R) Core(TM) i7-8550U CPU @ 1.80GHz, instruction set [SSE2|AVX|AVX2]\n"
     ]
    },
    {
     "name": "stdout",
     "output_type": "stream",
     "text": [
      "Thread count: 4 physical cores, 8 logical processors, using up to 8 threads\n"
     ]
    },
    {
     "name": "stdout",
     "output_type": "stream",
     "text": [
      "\n"
     ]
    },
    {
     "name": "stdout",
     "output_type": "stream",
     "text": [
      "Academic license 2713550 - for non-commercial use only - registered to av___@gmail.com\n"
     ]
    },
    {
     "name": "stdout",
     "output_type": "stream",
     "text": [
      "Optimize a model with 119940 rows, 57570 columns and 333556 nonzeros\n"
     ]
    },
    {
     "name": "stdout",
     "output_type": "stream",
     "text": [
      "Model fingerprint: 0x845c53be\n"
     ]
    },
    {
     "name": "stdout",
     "output_type": "stream",
     "text": [
      "Variable types: 0 continuous, 57570 integer (57570 binary)\n"
     ]
    },
    {
     "name": "stdout",
     "output_type": "stream",
     "text": [
      "Coefficient statistics:\n"
     ]
    },
    {
     "name": "stdout",
     "output_type": "stream",
     "text": [
      "  Matrix range     [1e+00, 2e+00]\n"
     ]
    },
    {
     "name": "stdout",
     "output_type": "stream",
     "text": [
      "  Objective range  [5e-02, 4e-01]\n"
     ]
    },
    {
     "name": "stdout",
     "output_type": "stream",
     "text": [
      "  Bounds range     [1e+00, 1e+00]\n"
     ]
    },
    {
     "name": "stdout",
     "output_type": "stream",
     "text": [
      "  RHS range        [1e+00, 1e+00]\n"
     ]
    },
    {
     "name": "stdout",
     "output_type": "stream",
     "text": [
      "Presolve removed 10889 rows and 6878 columns (presolve time = 5s)...\n"
     ]
    },
    {
     "name": "stdout",
     "output_type": "stream",
     "text": [
      "Presolve removed 10889 rows and 6878 columns (presolve time = 10s)...\n"
     ]
    },
    {
     "name": "stdout",
     "output_type": "stream",
     "text": [
      "Presolve removed 10889 rows and 6878 columns (presolve time = 15s)...\n"
     ]
    },
    {
     "name": "stdout",
     "output_type": "stream",
     "text": [
      "Presolve removed 10889 rows and 6878 columns (presolve time = 20s)...\n"
     ]
    },
    {
     "name": "stdout",
     "output_type": "stream",
     "text": [
      "Presolve removed 10889 rows and 6878 columns (presolve time = 25s)...\n"
     ]
    },
    {
     "name": "stdout",
     "output_type": "stream",
     "text": [
      "Presolve removed 60745 rows and 31806 columns (presolve time = 30s)...\n"
     ]
    },
    {
     "name": "stdout",
     "output_type": "stream",
     "text": [
      "Presolve removed 62114 rows and 32597 columns\n"
     ]
    },
    {
     "name": "stdout",
     "output_type": "stream",
     "text": [
      "Presolve time: 31.36s\n"
     ]
    },
    {
     "name": "stdout",
     "output_type": "stream",
     "text": [
      "Presolved: 57826 rows, 24973 columns, 170747 nonzeros\n"
     ]
    },
    {
     "name": "stdout",
     "output_type": "stream",
     "text": [
      "Variable types: 0 continuous, 24973 integer (24973 binary)\n"
     ]
    },
    {
     "name": "stdout",
     "output_type": "stream",
     "text": [
      "Found heuristic solution: objective 255.4363281\n"
     ]
    },
    {
     "name": "stdout",
     "output_type": "stream",
     "text": [
      "Found heuristic solution: objective 195.4451895\n"
     ]
    },
    {
     "name": "stdout",
     "output_type": "stream",
     "text": [
      "\n"
     ]
    },
    {
     "name": "stdout",
     "output_type": "stream",
     "text": [
      "Deterministic concurrent LP optimizer: primal and dual simplex (primal and dual model)\n"
     ]
    },
    {
     "name": "stdout",
     "output_type": "stream",
     "text": [
      "Showing primal log only...\n"
     ]
    },
    {
     "name": "stdout",
     "output_type": "stream",
     "text": [
      "\n"
     ]
    },
    {
     "name": "stdout",
     "output_type": "stream",
     "text": [
      "Root relaxation presolved: 57810 rows, 24972 columns, 170699 nonzeros\n"
     ]
    },
    {
     "name": "stdout",
     "output_type": "stream",
     "text": [
      "\n"
     ]
    },
    {
     "name": "stdout",
     "output_type": "stream",
     "text": [
      "\n"
     ]
    },
    {
     "name": "stdout",
     "output_type": "stream",
     "text": [
      "Root simplex log...\n"
     ]
    },
    {
     "name": "stdout",
     "output_type": "stream",
     "text": [
      "\n"
     ]
    },
    {
     "name": "stdout",
     "output_type": "stream",
     "text": [
      "Iteration    Objective       Primal Inf.    Dual Inf.      Time\n"
     ]
    },
    {
     "name": "stdout",
     "output_type": "stream",
     "text": [
      "       0    2.6413871e+02   1.369000e+03   7.760003e+09     32s\n"
     ]
    },
    {
     "name": "stdout",
     "output_type": "stream",
     "text": [
      "Concurrent spin time: 0.18s\n"
     ]
    },
    {
     "name": "stdout",
     "output_type": "stream",
     "text": [
      "\n"
     ]
    },
    {
     "name": "stdout",
     "output_type": "stream",
     "text": [
      "Solved with dual simplex\n"
     ]
    },
    {
     "name": "stdout",
     "output_type": "stream",
     "text": [
      "\n"
     ]
    },
    {
     "name": "stdout",
     "output_type": "stream",
     "text": [
      "Root relaxation: objective 1.267187e+01, 14031 iterations, 1.89 seconds (0.56 work units)\n"
     ]
    },
    {
     "name": "stdout",
     "output_type": "stream",
     "text": [
      "\n"
     ]
    },
    {
     "name": "stdout",
     "output_type": "stream",
     "text": [
      "    Nodes    |    Current Node    |     Objective Bounds      |     Work\n"
     ]
    },
    {
     "name": "stdout",
     "output_type": "stream",
     "text": [
      " Expl Unexpl |  Obj  Depth IntInf | Incumbent    BestBd   Gap | It/Node Time\n"
     ]
    },
    {
     "name": "stdout",
     "output_type": "stream",
     "text": [
      "\n"
     ]
    },
    {
     "name": "stdout",
     "output_type": "stream",
     "text": [
      "*    0     0               0      12.6718749   12.67187  0.00%     -   33s\n"
     ]
    },
    {
     "name": "stdout",
     "output_type": "stream",
     "text": [
      "\n"
     ]
    },
    {
     "name": "stdout",
     "output_type": "stream",
     "text": [
      "Explored 1 nodes (14031 simplex iterations) in 33.82 seconds (16.61 work units)\n"
     ]
    },
    {
     "name": "stdout",
     "output_type": "stream",
     "text": [
      "Thread count was 8 (of 8 available processors)\n"
     ]
    },
    {
     "name": "stdout",
     "output_type": "stream",
     "text": [
      "\n"
     ]
    },
    {
     "name": "stdout",
     "output_type": "stream",
     "text": [
      "Solution count 3: 12.6719 195.445 255.436 \n"
     ]
    },
    {
     "name": "stdout",
     "output_type": "stream",
     "text": [
      "\n"
     ]
    },
    {
     "name": "stdout",
     "output_type": "stream",
     "text": [
      "Optimal solution found (tolerance 1.00e-04)\n"
     ]
    },
    {
     "name": "stdout",
     "output_type": "stream",
     "text": [
      "Best objective 1.267187486184e+01, best bound 1.267187486178e+01, gap 0.0000%\n"
     ]
    }
   ],
   "source": [
    "model.optimize()"
   ]
  },
  {
   "cell_type": "markdown",
   "id": "c2bb0cfd-3f6e-4806-908c-628a86f4574f",
   "metadata": {
    "editable": true,
    "papermill": {
     "duration": 0.009541,
     "end_time": "2025-09-27T04:16:22.234558",
     "exception": false,
     "start_time": "2025-09-27T04:16:22.225017",
     "status": "completed"
    },
    "slideshow": {
     "slide_type": ""
    },
    "tags": []
   },
   "source": [
    "## Result Analysis"
   ]
  },
  {
   "cell_type": "code",
   "execution_count": 15,
   "id": "78f5ab5d-204b-48b6-bec9-9e2647d47855",
   "metadata": {
    "editable": true,
    "execution": {
     "iopub.execute_input": "2025-09-27T04:16:22.254747Z",
     "iopub.status.busy": "2025-09-27T04:16:22.254269Z",
     "iopub.status.idle": "2025-09-27T04:16:22.498675Z",
     "shell.execute_reply": "2025-09-27T04:16:22.497749Z"
    },
    "papermill": {
     "duration": 0.256881,
     "end_time": "2025-09-27T04:16:22.500328",
     "exception": false,
     "start_time": "2025-09-27T04:16:22.243447",
     "status": "completed"
    },
    "slideshow": {
     "slide_type": ""
    },
    "tags": []
   },
   "outputs": [],
   "source": [
    "# Compute cohesion:\n",
    "inside_w = dict()\n",
    "outside_w = dict()\n",
    "total_w = 0\n",
    "\n",
    "for i,j in G.edges():\n",
    "    total_w += G[i][j]['w']\n",
    "    for k in range(n_micros):\n",
    "        if z[i,j,k].x == 1: # Edge (i,j) is inside microservice k: sum the weight as inside\n",
    "            inside_w[k] = inside_w.get(k, 0) + G[i][j]['w']\n",
    "        if x[i,k].x == 1: # Edge (i,j) has its origin in k: sum the weigth as outside\n",
    "            outside_w[k] = outside_w.get(k, 0) + G[i][j]['w']\n",
    "\n",
    "cohesion_dict = dict()\n",
    "for k in range(n_micros):\n",
    "    cohesion_dict[k] = inside_w[k] / outside_w[k]\n",
    "\n",
    "cohesion = sum(cohesion_dict.values())/n_micros"
   ]
  },
  {
   "cell_type": "code",
   "execution_count": 16,
   "id": "b4f4589c-f9db-4123-89b3-9d1266b6297b",
   "metadata": {
    "editable": true,
    "execution": {
     "iopub.execute_input": "2025-09-27T04:16:22.519400Z",
     "iopub.status.busy": "2025-09-27T04:16:22.519085Z",
     "iopub.status.idle": "2025-09-27T04:16:22.591465Z",
     "shell.execute_reply": "2025-09-27T04:16:22.590627Z"
    },
    "papermill": {
     "duration": 0.083268,
     "end_time": "2025-09-27T04:16:22.593179",
     "exception": false,
     "start_time": "2025-09-27T04:16:22.509911",
     "status": "completed"
    },
    "slideshow": {
     "slide_type": ""
    },
    "tags": []
   },
   "outputs": [
    {
     "name": "stdout",
     "output_type": "stream",
     "text": [
      "Found 10 microservices\n",
      "Total coupling value: 12.671874861843776 (1.2671874861843775 avg.)\n",
      "Cohesion value: 0.8642540247115882\n",
      "\n",
      "Entities in Microservice 0:\n",
      "- AbstractRelationInsertRepository\n",
      "Entities in Microservice 1:\n",
      "- TbCreateRelationNodeConfiguration\n",
      "- TbDeleteRelationNodeConfiguration\n",
      "- TbAbstractRelationActionNodeConfiguration\n",
      "- TbCreateRelationNode\n",
      "- TbDeleteRelationNode\n",
      "- AbstractComponentDescriptorInsertRepository\n",
      "- JsonStringSqlTypeDescriptor\n",
      "- AbstractJsonSqlTypeDescriptor\n",
      "Entities in Microservice 2:\n",
      "- TbMsgTypeSwitchNode\n",
      "- TbOriginatorTypeSwitchNode\n",
      "- TbSendEmailNode\n",
      "- TbSendEmailNodeConfiguration\n",
      "- TbCopyAttributesToEntityViewNode\n",
      "- TbGpsGeofencingActionNode\n",
      "- TbGpsGeofencingActionNodeConfiguration\n",
      "- EntityGeofencingState\n",
      "- TbGpsGeofencingFilterNode\n",
      "- TbGpsGeofencingFilterNodeConfiguration\n",
      "- TbAckNode\n",
      "- EmptyNodeConfiguration\n",
      "- CoapTransportResource\n",
      "- UpdateMessage\n",
      "- AbstractEventInsertRepository\n",
      "Entities in Microservice 3:\n",
      "- AbstractNashornJsInvokeService\n",
      "- AbstractJsInvokeService\n",
      "- AbstractCleanUpService\n",
      "- AbstractTimeseriesCleanUpService\n",
      "- TbCheckAlarmStatusNode\n",
      "- TbCheckAlarmStatusNodeConfig\n",
      "- TbAbstractRelationActionNode\n",
      "- TbSaveToCustomCassandraTableNode\n",
      "- TbSaveToCustomCassandraTableNodeConfiguration\n",
      "- TbMsgAttributesNodeConfiguration\n",
      "- TbMsgAttributesNode\n",
      "- TbRestApiCallNodeConfiguration\n",
      "- TbRestApiCallNode\n",
      "- TbHttpClient\n",
      "- TbRabbitMqNode\n",
      "- TbRabbitMqNodeConfiguration\n",
      "- DefaultTbQueueMsgHeaders\n",
      "- DefaultTbQueueMsg\n",
      "- PsqlPartition\n",
      "- EntityContainer\n",
      "Entities in Microservice 4:\n",
      "- TbJsSwitchNodeConfiguration\n",
      "- TbJsSwitchNode\n",
      "- TbJsFilterNodeConfiguration\n",
      "- TbJsFilterNode\n",
      "- TbMsgToEmailNodeConfiguration\n",
      "- TbMsgToEmailNode\n",
      "- TbLogNode\n",
      "- TbAbstractAlarmNodeConfiguration\n",
      "- TbLogNodeConfiguration\n",
      "- TbCreateAlarmNodeConfiguration\n",
      "- TbCreateAlarmNode\n",
      "- TbClearAlarmNodeConfiguration\n",
      "- TbClearAlarmNode\n",
      "- TbMsgTimeseriesNode\n",
      "- TbMsgTimeseriesNodeConfiguration\n",
      "- SessionException\n",
      "- SessionAuthException\n",
      "- MqttClientImpl\n",
      "- MqttChannelHandler\n",
      "- MqttClientConfig\n",
      "- MqttSubscription\n",
      "- MqttPendingSubscription\n",
      "- MqttConnectResult\n",
      "- MqttPendingPublish\n",
      "- MqttIncomingQos2Publish\n",
      "- MqttPendingUnsubscription\n",
      "- MqttLastWill\n",
      "- TbSqlBlockingQueueParams\n",
      "- TbSqlBlockingQueue\n",
      "- TbSqlBlockingQueueWrapper\n",
      "- AttributeKvEntity\n",
      "Entities in Microservice 5:\n",
      "- TbGetOriginatorFieldsNode\n",
      "- TbGetTelemetryNode\n",
      "- TbGetTelemetryNodeConfiguration\n",
      "- TbGetOriginatorFieldsConfiguration\n",
      "- TbKafkaNodeConfiguration\n",
      "- TbKafkaNode\n",
      "- TbCheckpointNodeConfiguration\n",
      "- TbCheckpointNode\n",
      "- RelationCompositeKey\n",
      "Entities in Microservice 6:\n",
      "- ThingsboardErrorResponse\n",
      "- ThingsboardCredentialsExpiredResponse\n",
      "- TbSendRpcRequestNodeConfiguration\n",
      "- TbSendRPCReplyNode\n",
      "- TbSendRpcReplyNodeConfiguration\n",
      "- TbSendRPCRequestNode\n",
      "- TbMqttNodeConfiguration\n",
      "- TbMqttNode\n",
      "- TbAzureIotHubNode\n",
      "- TbAzureIotHubNodeConfiguration\n",
      "- TbPubSubNodeConfiguration\n",
      "- TbPubSubNode\n",
      "- TbMsgTypeFilterNodeConfiguration\n",
      "- TbCheckMessageNodeConfiguration\n",
      "- TbCheckMessageNode\n",
      "- TbCheckRelationNodeConfiguration\n",
      "- TbMsgTypeFilterNode\n",
      "- TbCheckRelationNode\n",
      "- TbSnsNode\n",
      "- TbSnsNodeConfiguration\n",
      "- RelationEntity\n",
      "Entities in Microservice 7:\n",
      "- JpaAbstractDao\n",
      "- JpaAbstractDaoListeningExecutorService\n",
      "- AbstractSqlTimeseriesDao\n",
      "- AbstractChunkedAggregationTimeseriesDao\n",
      "- AbstractTsKvEntity\n",
      "- TsKvEntity\n",
      "- TimescaleTsKvEntity\n",
      "Entities in Microservice 8:\n",
      "- ThingsboardInstallException\n",
      "- ToDeviceRpcRequestActorMsg\n",
      "- FromDeviceRpcResponse\n",
      "- LocalRequestMetaData\n",
      "- RuleNodeJsScriptEngine\n",
      "- ValidationResult\n",
      "- SecurityUser\n",
      "- UserPrincipal\n",
      "- RawAccessJwtToken\n",
      "- AccessJwtToken\n",
      "- JwtAuthenticationToken\n",
      "- AbstractJwtAuthenticationToken\n",
      "- RefreshAuthenticationToken\n",
      "- RestAuthenticationDetails\n",
      "- AuthMethodNotSupportedException\n",
      "- JwtExpiredTokenException\n",
      "- UserPasswordExpiredException\n",
      "- TransportToDeviceActorMsgWrapper\n",
      "- DeviceStateData\n",
      "- DeviceState\n",
      "- TelemetryWebSocketTextMsg\n",
      "- SessionEvent\n",
      "- TelemetryWebSocketSessionRef\n",
      "- WsSessionMetaData\n",
      "- GetHistoryCmd\n",
      "- AttributesSubscriptionCmd\n",
      "- SubscriptionCmd\n",
      "- TelemetryPluginCmdsWrapper\n",
      "- TimeseriesSubscriptionCmd\n",
      "- SubscriptionUpdate\n",
      "- SubscriptionState\n",
      "- UnauthorizedException\n",
      "- AccessDeniedException\n",
      "- TbTimeseriesSubscription\n",
      "- TbSubscription\n",
      "- TbAttributeSubscription\n",
      "- TbMsgPackCallback\n",
      "- TbMsgPackProcessingContext\n",
      "- TbMsgProfilerInfo\n",
      "- TbCoreConsumerStats\n",
      "- TbTenantRuleEngineStats\n",
      "- TbRuleNodeProfilerInfo\n",
      "- TbRuleEngineConsumerStats\n",
      "- SequentialByEntityIdTbRuleEngineSubmitStrategy\n",
      "- SequentialByTenantIdTbRuleEngineSubmitStrategy\n",
      "- IdMsgPair\n",
      "- SequentialByOriginatorIdTbRuleEngineSubmitStrategy\n",
      "- SequentialTbRuleEngineSubmitStrategy\n",
      "- TbRuleEngineProcessingDecision\n",
      "- AbstractTbRuleEngineSubmitStrategy\n",
      "- TbRuleEngineProcessingResult\n",
      "- BurstTbRuleEngineSubmitStrategy\n",
      "- BatchTbRuleEngineSubmitStrategy\n",
      "- HttpValidationCallback\n",
      "- ComponentMsgProcessor\n",
      "- AbstractContextAwareMsgProcessor\n",
      "- ContextBasedCreator\n",
      "- ContextAwareActor\n",
      "- ComponentActor\n",
      "- SessionInfo\n",
      "- DeviceActorCreator\n",
      "- SessionTimeoutCheckMsg\n",
      "- SessionInfoMetaData\n",
      "- DeviceActor\n",
      "- DeviceActorMessageProcessor\n",
      "- ToDeviceRpcRequestMetadata\n",
      "- TenantActor\n",
      "- DebugTbRateLimits\n",
      "- RuleChainToRuleNodeMsg\n",
      "- RuleNodeRelation\n",
      "- DefaultTbContext\n",
      "- RuleChainActorMessageProcessor\n",
      "- RuleNodeCtx\n",
      "- RuleNodeToRuleChainTellNextMsg\n",
      "- RuleChainToRuleChainMsg\n",
      "- RuleChainActor\n",
      "- RuleNodeActor\n",
      "- RuleNodeToSelfErrorMsg\n",
      "- RuleChainManagerActor\n",
      "- RuleNodeToSelfMsg\n",
      "- RuleNodeActorMessageProcessor\n",
      "- StatsActor\n",
      "- StatsPersistMsg\n",
      "- AppActor\n",
      "- TbAbstractCustomerActionNode\n",
      "- TbMsgDelayNode\n",
      "- TbMsgDelayNodeConfiguration\n",
      "- RelationsQuery\n",
      "- DeviceRelationsQuery\n",
      "- TelemetryNodeCallback\n",
      "- TbSqsNode\n",
      "- TbSqsNodeConfiguration\n",
      "- TbMsgGeneratorNode\n",
      "- TbMsgGeneratorNodeConfiguration\n",
      "- TbTransformNodeConfiguration\n",
      "- TbAbstractTransformNode\n",
      "- TbTransformMsgNodeConfiguration\n",
      "- TbChangeOriginatorNodeConfiguration\n",
      "- TbTransformMsgNode\n",
      "- TbChangeOriginatorNode\n",
      "- TbGetTenantDetailsNode\n",
      "- TbGetRelatedAttrNodeConfiguration\n",
      "- TbGetTenantAttributeNode\n",
      "- TbAbstractGetEntityDetailsNodeConfiguration\n",
      "- TbGetTenantDetailsNodeConfiguration\n",
      "- TbGetCustomerAttributeNode\n",
      "- TbGetDeviceAttrNodeConfiguration\n",
      "- TbGetAttributesNode\n",
      "- TbEntityGetAttrNode\n",
      "- TbGetAttributesNodeConfiguration\n",
      "- TbGetDeviceAttrNode\n",
      "- TbGetEntityAttrNodeConfiguration\n",
      "- TbGetCustomerDetailsNode\n",
      "- TbGetCustomerDetailsNodeConfiguration\n",
      "- TbGetRelatedAttributeNode\n",
      "- NodeDefinition\n",
      "- RuleEngineDeviceRpcRequest\n",
      "- RuleEngineDeviceRpcResponse\n",
      "- DeviceAttributesEventNotificationMsg\n",
      "- DeviceNameOrTypeUpdateMsg\n",
      "- DeviceAttributes\n",
      "- DeviceMetaData\n",
      "- DeviceCredentialsUpdateNotificationMsg\n",
      "- MqttTransportHandler\n",
      "- DeviceSessionCtx\n",
      "- GatewayDeviceSessionCtx\n",
      "- MqttDeviceAwareSessionContext\n",
      "- GatewaySessionHandler\n",
      "- MqttTopicMatcher\n",
      "- AdaptorException\n",
      "- SessionMetaData\n",
      "- RpcRequestMetadata\n",
      "- DeviceAwareSessionContext\n",
      "- DeviceAuthResult\n",
      "- ShortCustomerInfo\n",
      "- Device\n",
      "- DashboardInfo\n",
      "- BaseData\n",
      "- ClaimRequest\n",
      "- AdminSettings\n",
      "- Dashboard\n",
      "- EntityView\n",
      "- User\n",
      "- EntitySubtype\n",
      "- Customer\n",
      "- Event\n",
      "- Tenant\n",
      "- EntityRelationsQuery\n",
      "- EntityTypeFilter\n",
      "- EntityRelation\n",
      "- RelationsSearchParameters\n",
      "- EntityRelationInfo\n",
      "- ToDeviceRpcRequestBody\n",
      "- UserCredentials\n",
      "- DeviceCredentials\n",
      "- SecuritySettings\n",
      "- UserPasswordPolicy\n",
      "- AuditLog\n",
      "- WidgetType\n",
      "- WidgetsBundle\n",
      "- BasicTsKvEntry\n",
      "- StringDataEntry\n",
      "- BaseDeleteTsKvQuery\n",
      "- LongDataEntry\n",
      "- BaseReadTsKvQuery\n",
      "- BaseAttributeKvEntry\n",
      "- JsonDataEntry\n",
      "- DoubleDataEntry\n",
      "- BaseTsKvQuery\n",
      "- BasicKvEntry\n",
      "- AttributeKey\n",
      "- BooleanDataEntry\n",
      "- OAuth2ClientInfo\n",
      "- DeviceSearchQuery\n",
      "- RuleChain\n",
      "- RuleChainMetaData\n",
      "- RuleChainConnectionInfo\n",
      "- NodeConnectionInfo\n",
      "- RuleNode\n",
      "- EntityViewSearchQuery\n",
      "- AlarmQuery\n",
      "- Alarm\n",
      "- AlarmInfo\n",
      "- ComponentDescriptor\n",
      "- AuditLogId\n",
      "- WidgetsBundleId\n",
      "- UserCredentialsId\n",
      "- RuleChainId\n",
      "- UserId\n",
      "- CustomerId\n",
      "- RuleNodeId\n",
      "- AdminSettingsId\n",
      "- OAuth2IntegrationId\n",
      "- AssetId\n",
      "- DeviceId\n",
      "- WidgetTypeId\n",
      "- AlarmId\n",
      "- ComponentDescriptorId\n",
      "- EventId\n",
      "- DashboardId\n",
      "- EntityViewId\n",
      "- TenantId\n",
      "- UUIDBased\n",
      "- NodeId\n",
      "- DeviceCredentialsId\n",
      "- TextPageLink\n",
      "- PageDataIterable\n",
      "- TextPageData\n",
      "- TimePageData\n",
      "- TimePageLink\n",
      "- BasePageLink\n",
      "- Asset\n",
      "- AssetSearchQuery\n",
      "- ThingsboardException\n",
      "- TelemetryEntityView\n",
      "- AttributesEntityView\n",
      "- OAuth2User\n",
      "- ClaimData\n",
      "- ClaimResult\n",
      "- CassandraStatementTask\n",
      "- StatsCounter\n",
      "- DefaultMessagesStats\n",
      "- DefaultCounter\n",
      "- TbRuleEngineQueueAckStrategyConfiguration\n",
      "- TbRuleEngineQueueConfiguration\n",
      "- TbRuleEngineQueueSubmitStrategyConfiguration\n",
      "- ClusterTopologyChangeEvent\n",
      "- TopicPartitionInfoKey\n",
      "- TenantRoutingInfo\n",
      "- PartitionChangeEvent\n",
      "- InMemoryTbQueueProducer\n",
      "- InMemoryTbQueueConsumer\n",
      "- InMemoryStorage\n",
      "- AbstractTbQueueConsumerTemplate\n",
      "- DefaultTbQueueRequestTemplate\n",
      "- AbstractTbQueueTemplate\n",
      "- DefaultTbQueueResponseTemplate\n",
      "- TbRabbitMqProducerTemplate\n",
      "- TbKafkaConsumerTemplate\n",
      "- TbKafkaProducerTemplate\n",
      "- AbstractTbActor\n",
      "- DefaultTbActorSystem\n",
      "- TbActorSystemSettings\n",
      "- TbActorMailbox\n",
      "- Dispatcher\n",
      "- TbMsg\n",
      "- TbMsgMetaData\n",
      "- ToDeviceRpcRequest\n",
      "- TbRateLimits\n",
      "- TbRateLimitsException\n",
      "- ComponentLifecycleMsg\n",
      "- ServiceQueueKey\n",
      "- RuleNodeException\n",
      "- QueueToRuleEngineMsg\n",
      "- PartitionChangeMsg\n",
      "- ServiceQueue\n",
      "- RuleEngineException\n",
      "- TopicPartitionInfo\n",
      "- RuleNodeInfo\n",
      "- AuditLogQueryCursor\n",
      "- AggregatePartitionsFunction\n",
      "- TsKvQueryCursor\n",
      "- QueryCursor\n",
      "- TenantRateLimitException\n",
      "- AbstractBufferedRateExecutor\n",
      "- BufferedRateExecutorStats\n",
      "- OAuth2Client\n",
      "- OAuth2ClientMapperConfig\n",
      "- ClaimDataInfo\n",
      "- CassandraAbstractAsyncDao\n",
      "- CassandraAbstractDao\n",
      "- CassandraAbstractModelDao\n",
      "- TbResultSetFuture\n",
      "- EntitySubtypeEntity\n",
      "- ModelConstants\n",
      "- AttributeKvCompositeKey\n",
      "- DeviceEntity\n",
      "- DashboardEntity\n",
      "- AdminSettingsEntity\n",
      "- WidgetTypeEntity\n",
      "- TenantEntity\n",
      "- CustomerEntity\n",
      "- WidgetsBundleEntity\n",
      "- ComponentDescriptorEntity\n",
      "- UserEntity\n",
      "- RuleNodeEntity\n",
      "- DashboardInfoEntity\n",
      "- EntityViewEntity\n",
      "- DeviceCredentialsEntity\n",
      "- RuleChainEntity\n",
      "- AlarmEntity\n",
      "- AssetEntity\n",
      "- UserCredentialsEntity\n",
      "- AuditLogEntity\n",
      "- DataValidationException\n",
      "- IncorrectParameterException\n",
      "Entities in Microservice 9:\n",
      "- TbOriginatorTypeFilterNodeConfiguration\n",
      "- TbOriginatorTypeFilterNode\n",
      "- TbAssignToCustomerNode\n",
      "- TbUnassignFromCustomerNodeConfiguration\n",
      "- TbUnassignFromCustomerNode\n",
      "- TbAbstractCustomerActionNodeConfiguration\n",
      "- TbAssignToCustomerNodeConfiguration\n",
      "- EventEntity\n",
      "\n",
      "\n",
      "\n",
      "# of method calls crossing microservices: 1\n",
      "# of entity references crossing microservices: 1\n",
      "# of entity usages crossing microservices: 28\n",
      "# of methods persisting entities of other microservices: 17\n"
     ]
    },
    {
     "data": {
      "application/scrapbook.scrap.json+json": {
       "data": 10,
       "encoder": "json",
       "name": "n_micros",
       "version": 1
      }
     },
     "metadata": {
      "scrapbook": {
       "data": true,
       "display": false,
       "name": "n_micros"
      }
     },
     "output_type": "display_data"
    },
    {
     "data": {
      "application/scrapbook.scrap.json+json": {
       "data": 1.2671874861843775,
       "encoder": "json",
       "name": "avg_cop",
       "version": 1
      }
     },
     "metadata": {
      "scrapbook": {
       "data": true,
       "display": false,
       "name": "avg_cop"
      }
     },
     "output_type": "display_data"
    },
    {
     "data": {
      "application/scrapbook.scrap.json+json": {
       "data": 0.8642540247115882,
       "encoder": "json",
       "name": "cohesion",
       "version": 1
      }
     },
     "metadata": {
      "scrapbook": {
       "data": true,
       "display": false,
       "name": "cohesion"
      }
     },
     "output_type": "display_data"
    },
    {
     "data": {
      "application/scrapbook.scrap.json+json": {
       "data": 1,
       "encoder": "json",
       "name": "n_calls",
       "version": 1
      }
     },
     "metadata": {
      "scrapbook": {
       "data": true,
       "display": false,
       "name": "n_calls"
      }
     },
     "output_type": "display_data"
    },
    {
     "data": {
      "application/scrapbook.scrap.json+json": {
       "data": 1,
       "encoder": "json",
       "name": "n_refs",
       "version": 1
      }
     },
     "metadata": {
      "scrapbook": {
       "data": true,
       "display": false,
       "name": "n_refs"
      }
     },
     "output_type": "display_data"
    },
    {
     "data": {
      "application/scrapbook.scrap.json+json": {
       "data": 28,
       "encoder": "json",
       "name": "n_uses",
       "version": 1
      }
     },
     "metadata": {
      "scrapbook": {
       "data": true,
       "display": false,
       "name": "n_uses"
      }
     },
     "output_type": "display_data"
    },
    {
     "data": {
      "application/scrapbook.scrap.json+json": {
       "data": 17,
       "encoder": "json",
       "name": "n_persist",
       "version": 1
      }
     },
     "metadata": {
      "scrapbook": {
       "data": true,
       "display": false,
       "name": "n_persist"
      }
     },
     "output_type": "display_data"
    },
    {
     "data": {
      "application/scrapbook.scrap.json+json": {
       "data": 1032.8409379741265,
       "encoder": "json",
       "name": "total_w",
       "version": 1
      }
     },
     "metadata": {
      "scrapbook": {
       "data": true,
       "display": false,
       "name": "total_w"
      }
     },
     "output_type": "display_data"
    }
   ],
   "source": [
    "show_methods = False\n",
    "\n",
    "analysis_output = \"\"\n",
    "\n",
    "analysis_output += f'Found {str(n_micros)} microservices\\n'\n",
    "\n",
    "analysis_output += f'Total coupling value: {model.objVal} ({model.objVal/n_micros} avg.)\\n'\n",
    "analysis_output += f'Cohesion value: {cohesion}\\n\\n'\n",
    "\n",
    "for k in range(n_micros):\n",
    "    analysis_output += f'Entities in Microservice {str(k)}:\\n'\n",
    "    for i in G.nodes():\n",
    "        if G.nodes[i]['type'] == 'Entity' and x[i,k].x == 1:\n",
    "            analysis_output += f'- {G.nodes[i][\"name\"]}\\n'\n",
    "\n",
    "if show_methods:\n",
    "    for k in range(n_micros):\n",
    "        analysis_output += f'\\n\\nMethods in Microservice {str(k)}:\\n'\n",
    "        for i in G.nodes():\n",
    "            if G.nodes[i]['type'] == 'Method' and x[i,k].x == 1:\n",
    "                analysis_output += f'- {G.nodes[i][\"name\"]} ({G.nodes[i][\"class_name\"]})\\n'\n",
    "\n",
    "mcalls = 0\n",
    "references = 0\n",
    "uses = 0\n",
    "persists = 0\n",
    "\n",
    "for i,j in G.edges():\n",
    "    if y[i,j].x == 0:\n",
    "        if G[i][j]['rel_type'] == 'Calls':\n",
    "            mcalls += 1 \n",
    "        elif G[i][j]['rel_type'] == 'References':\n",
    "            references += 1\n",
    "        elif G[i][j]['rel_type'] == 'Uses':\n",
    "            uses += 1\n",
    "        elif G[i][j]['rel_type'] == 'Persists':\n",
    "            persists += 1\n",
    "\n",
    "analysis_output += f'\\n\\n\\n# of method calls crossing microservices: {mcalls}'\n",
    "analysis_output += f'\\n# of entity references crossing microservices: {references}'\n",
    "analysis_output += f'\\n# of entity usages crossing microservices: {uses}'\n",
    "analysis_output += f'\\n# of methods persisting entities of other microservices: {persists}'\n",
    "\n",
    "print(analysis_output)\n",
    "\n",
    "sb.glue(\"n_micros\", n_micros)\n",
    "sb.glue(\"avg_cop\", model.objVal/n_micros)\n",
    "sb.glue(\"cohesion\", cohesion)\n",
    "sb.glue(\"n_calls\", mcalls)\n",
    "sb.glue(\"n_refs\", references)\n",
    "sb.glue(\"n_uses\", uses)\n",
    "sb.glue(\"n_persist\", persists)\n",
    "sb.glue(\"total_w\", total_w)\n",
    "\n",
    "with open(analysis_out, 'w') as analysis_file:\n",
    "    analysis_file.write(analysis_output)"
   ]
  },
  {
   "cell_type": "code",
   "execution_count": 17,
   "id": "3519b123-a48c-4070-ab5f-b17393c76ad2",
   "metadata": {
    "editable": true,
    "execution": {
     "iopub.execute_input": "2025-09-27T04:16:22.624325Z",
     "iopub.status.busy": "2025-09-27T04:16:22.623942Z",
     "iopub.status.idle": "2025-09-27T04:16:22.680869Z",
     "shell.execute_reply": "2025-09-27T04:16:22.680073Z"
    },
    "papermill": {
     "duration": 0.072488,
     "end_time": "2025-09-27T04:16:22.682521",
     "exception": false,
     "start_time": "2025-09-27T04:16:22.610033",
     "status": "completed"
    },
    "slideshow": {
     "slide_type": ""
    },
    "tags": []
   },
   "outputs": [],
   "source": [
    "with open(solution_csv_out, 'w') as results_csv:\n",
    "    results_csv.write('node_key,microservice\\n')\n",
    "    counter = 0\n",
    "    for i in G.nodes():\n",
    "        for k in range(n_micros):\n",
    "            if x[i,k].x == 1:\n",
    "                results_csv.write(f'{i},{k}\\n')\n",
    "                counter+=1\n",
    "    \n",
    "    if counter!=len(G.nodes()):\n",
    "        print('Error! There are nodes not assigned into microservices?!')"
   ]
  },
  {
   "cell_type": "code",
   "execution_count": 18,
   "id": "6e8cfeef-174f-4742-ac5f-4862676bad36",
   "metadata": {
    "editable": true,
    "execution": {
     "iopub.execute_input": "2025-09-27T04:16:22.717181Z",
     "iopub.status.busy": "2025-09-27T04:16:22.716889Z",
     "iopub.status.idle": "2025-09-27T04:16:22.720865Z",
     "shell.execute_reply": "2025-09-27T04:16:22.719970Z"
    },
    "papermill": {
     "duration": 0.022983,
     "end_time": "2025-09-27T04:16:22.722255",
     "exception": false,
     "start_time": "2025-09-27T04:16:22.699272",
     "status": "completed"
    },
    "slideshow": {
     "slide_type": ""
    },
    "tags": []
   },
   "outputs": [],
   "source": [
    "if not headless:\n",
    "    DrawSol(G, x, graph_image_out)\n",
    "    \n",
    "    display(Image(filename = graph_image_out))"
   ]
  }
 ],
 "metadata": {
  "kernelspec": {
   "display_name": "Python 3 (ipykernel)",
   "language": "python",
   "name": "python3"
  },
  "language_info": {
   "codemirror_mode": {
    "name": "ipython",
    "version": 3
   },
   "file_extension": ".py",
   "mimetype": "text/x-python",
   "name": "python",
   "nbconvert_exporter": "python",
   "pygments_lexer": "ipython3",
   "version": "3.12.3"
  },
  "papermill": {
   "default_parameters": {},
   "duration": 51.997702,
   "end_time": "2025-09-27T04:16:23.449358",
   "environment_variables": {},
   "exception": null,
   "input_path": "2-Decomposition_optimization.ipynb",
   "output_path": "outputs/output_step_2_thingsboard.ipynb",
   "parameters": {
    "headless": true,
    "project": "thingsboard",
    "w": {
     "Calls": 0.3502793904700223,
     "Extends": 0.055467447464847164,
     "Persists": 0.261108188312347,
     "References": 0.05352974055867549,
     "Uses": 0.2796152331941081
    }
   },
   "start_time": "2025-09-27T04:15:31.451656",
   "version": "2.6.0"
  },
  "vscode": {
   "interpreter": {
    "hash": "84d57bcf988df7741739090f92038d55c89d5ee4bebfcc0bea6a6c98a16573ca"
   }
  }
 },
 "nbformat": 4,
 "nbformat_minor": 5
}