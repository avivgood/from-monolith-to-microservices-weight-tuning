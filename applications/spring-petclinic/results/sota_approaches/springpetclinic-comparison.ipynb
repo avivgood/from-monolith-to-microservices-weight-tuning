{
 "cells": [
  {
   "cell_type": "code",
   "execution_count": null,
   "id": "63ce5fa3-e2cb-4565-ba94-8fa943d68162",
   "metadata": {},
   "outputs": [],
   "source": [
    "#!/usr/bin/env python\n",
    "\n",
    "import networkx as nx\n",
    "import random\n",
    "import pygraphviz as pygv\n",
    "import gurobi as gb\n",
    "import json\n",
    "import csv\n",
    "from community import community_louvain\n",
    "from IPython.display import Image, display\n",
    "\n",
    "def DrawSol (G, class_dict, filename):\n",
    "    global n_micros\n",
    "\n",
    "    DrawG = pygv.AGraph(directed=True, strict='true', splines='true')\n",
    "\n",
    "    colors = ['green', 'blue', 'red', 'orange', 'yellow', 'purple', 'black', 'gray', 'cyan', 'brown', 'hotpink', 'navy', 'darkgreen', 'chocolate', 'deeppink', 'firebrick', 'gold', 'orchid', 'gold4']\n",
    "    \n",
    "    for i in G.nodes():\n",
    "        node = G.nodes[i]\n",
    "        if node['type'] == 'Entity':\n",
    "            shape='hexagon'\n",
    "        else:\n",
    "            shape='circle'\n",
    "\n",
    "        color = 'black'\n",
    "        for k in class_dict:\n",
    "            if (node['type'] == 'Entity' and node['name'] in class_dict[k]) or (node['type'] != 'Entity' and node['class_name'] in class_dict[k]):\n",
    "                color = colors[k]\n",
    "\n",
    "        DrawG.add_node (i, color=color, shape=shape, width=0.1, fontsize=9, label=G.nodes[i]['name'])\n",
    "\n",
    "    for i in G.edges():\n",
    "        edge_color = 'black' if G[i[0]][i[1]]['rel_type'] in ['Calls','Persists', 'References'] else 'gray'\n",
    "        DrawG.add_edge(i[0], i[1], color=edge_color, label=G[i[0]][i[1]]['rel_type'], fontsize='8')\n",
    "        \n",
    "    DrawG.layout(prog='dot')\n",
    "    DrawG.draw(filename)"
   ]
  },
  {
   "cell_type": "markdown",
   "id": "e3e92b53-40f6-4740-8a99-c40877eb9681",
   "metadata": {
    "tags": []
   },
   "source": [
    "### _Configuration!_\n",
    "\n",
    "Keep the project list up-to-date and select the project to be analyzed"
   ]
  },
  {
   "cell_type": "code",
   "execution_count": null,
   "id": "654afedb-2f70-4c65-b23e-5e01c98d8d13",
   "metadata": {
    "tags": []
   },
   "outputs": [],
   "source": [
    "project = 'spring-petclinic' # <-- Set this variable!\n",
    "\n",
    "with open('projects.json', 'r') as projects:\n",
    "    project_found = False\n",
    "    for data in json.load(projects):\n",
    "        if data['name'] == project:\n",
    "            analysis_results_basedir = data['analysis_results_basedir']\n",
    "            project_found = True\n",
    "    if not project_found:\n",
    "        print('ERROR: project ' + project + ' does not appear in project.json')"
   ]
  },
  {
   "cell_type": "markdown",
   "id": "369f6589-5ded-4162-85ea-3c37b9026765",
   "metadata": {},
   "source": [
    "### _User input required!_\n",
    "\n",
    "Set the weight of the edges"
   ]
  },
  {
   "cell_type": "code",
   "execution_count": null,
   "id": "e53fae46-ba1e-4194-9c74-a6815eff515c",
   "metadata": {
    "tags": []
   },
   "outputs": [],
   "source": [
    "# Weighting edges:\n",
    "w = dict()\n",
    "w['Calls']=0.8\n",
    "w['Persists']=1\n",
    "w['Uses']=0.6\n",
    "w['References']=0.2\n",
    "w['Extends']=0"
   ]
  },
  {
   "cell_type": "code",
   "execution_count": null,
   "id": "c9f2f54d-61ce-4b68-a80a-68b94ef0ce32",
   "metadata": {},
   "outputs": [],
   "source": [
    "# Set output names\n",
    "\n",
    "graph_in = analysis_results_basedir + project + '_graph.gml'\n",
    "graph_image_out = analysis_results_basedir + project + '_sol_comps.png'"
   ]
  },
  {
   "cell_type": "code",
   "execution_count": null,
   "id": "5c2c34a6-0072-4335-aa24-5592aa2b0eb7",
   "metadata": {
    "tags": []
   },
   "outputs": [],
   "source": [
    "# Import graph\n",
    "\n",
    "G = nx.read_graphml(graph_in)"
   ]
  },
  {
   "cell_type": "code",
   "execution_count": null,
   "id": "dce09914-e79b-4094-8343-eb55557825f3",
   "metadata": {},
   "outputs": [],
   "source": [
    "# Add edge weights\n",
    "\n",
    "for (i, j) in G.edges():\n",
    "    G[i][j]['w'] = w[G[i][j]['rel_type']]"
   ]
  },
  {
   "cell_type": "code",
   "execution_count": null,
   "id": "333f7f00-ddb5-4079-8111-2c0a63269ff0",
   "metadata": {},
   "outputs": [],
   "source": [
    "baseline = {\n",
    "    0: ['OwnerController', 'Owner', 'OwnerRepository', 'PetController', 'Pet', 'PetRepository', 'PetType'],\n",
    "    1: ['VisitController', 'Visit', 'VisitRepository'],\n",
    "    2: ['VetController', 'Specialty', 'Vet', 'VetRepository']\n",
    "}\n",
    "\n",
    "kamimura = {\n",
    "    0: ['OwnerController', 'Owner', 'OwnerRepository', 'PetController', 'Pet', 'PetType', 'BaseEntity', 'NamedEntity'],\n",
    "    1: ['VisitController', 'VisitRepository', 'PetRepository', 'Pet', 'Visit'],\n",
    "    2: ['VetController', 'Vet', 'VetRepository', 'Vets', 'Specialty']\n",
    "}"
   ]
  },
  {
   "cell_type": "code",
   "execution_count": null,
   "id": "e23f5a33-dba1-46da-bde9-310d888e6f1e",
   "metadata": {},
   "outputs": [],
   "source": [
    "watching = baseline # <-- Set this variable\n",
    "\n",
    "class_dict = watching"
   ]
  },
  {
   "cell_type": "markdown",
   "id": "c2ee84b8-66fc-4231-8d8a-901c0a168e37",
   "metadata": {},
   "source": [
    "## Result Analysis"
   ]
  },
  {
   "cell_type": "code",
   "execution_count": null,
   "id": "af954790-906b-4125-8ac7-3d1e20d93c7e",
   "metadata": {},
   "outputs": [],
   "source": [
    "# Compute coupling and cohesion:\n",
    "\n",
    "coupling = 0\n",
    "mcalls = []\n",
    "references = []\n",
    "uses = []\n",
    "persist = []\n",
    "\n",
    "inside_w = dict()\n",
    "outside_w = dict()\n",
    "\n",
    "for i,j in G.edges():\n",
    "#    same_micro = False\n",
    "\n",
    "    nodei = G.nodes[i]\n",
    "    nodej = G.nodes[j]\n",
    "\n",
    "    for k in class_dict:\n",
    "        if (nodei['type'] == 'Entity' and nodei['name'] in class_dict[k]) or (nodei['type'] != 'Entity' and nodei['class_name'] in class_dict[k]):\n",
    "            partitioni = k \n",
    "        if (nodej['type'] == 'Entity' and nodej['name'] in class_dict[k]) or (nodej['type'] != 'Entity' and nodej['class_name'] in class_dict[k]):\n",
    "            partitionj = k \n",
    "\n",
    "    outside_w[partitioni] = outside_w.get(partitioni, 0) + G[i][j]['w']\n",
    "            \n",
    "    if partitioni != partitionj:\n",
    "        coupling += w[G[i][j]['rel_type']]\n",
    "        if G[i][j]['rel_type'] == 'Calls':\n",
    "            mcalls.append(f'{nodei[\"name\"]}({nodei[\"class_name\"]}) Calls {nodej[\"name\"]}({nodej[\"class_name\"]})')\n",
    "        elif G[i][j]['rel_type'] == 'References':\n",
    "            references.append(f'{nodei[\"name\"]} References {nodej[\"name\"]}')\n",
    "        elif G[i][j]['rel_type'] == 'Uses':\n",
    "            uses.append(f'{nodei[\"name\"]}({nodei[\"class_name\"]}) Uses {nodej[\"name\"]}')\n",
    "        elif G[i][j]['rel_type'] == 'Persists':\n",
    "            persist.append(f'{nodei[\"name\"]}({nodei[\"class_name\"]}) Persists {nodej[\"name\"]}')\n",
    "    else:\n",
    "        inside_w[partitioni] = inside_w.get(partitioni, 0) + G[i][j]['w']\n",
    "\n",
    "cohesion_dict = dict()\n",
    "for k in range(len(class_dict.values())):\n",
    "    cohesion_dict[k] = inside_w[k] / outside_w[k]\n",
    "\n",
    "cohesion = sum(cohesion_dict.values())/len(class_dict.values())"
   ]
  },
  {
   "cell_type": "code",
   "execution_count": null,
   "id": "b4f4589c-f9db-4123-89b3-9d1266b6297b",
   "metadata": {
    "tags": []
   },
   "outputs": [],
   "source": [
    "# Hints: prima identificare i cluster di entità guardando alle dipendenze tra metodi ed entità. Poi usare le metriche per ottenere la suddivizione del sistema.\n",
    "\n",
    "analysis_output = \"\"\n",
    "\n",
    "analysis_output += f'Found {len(class_dict)} microservices\\n'\n",
    "\n",
    "analysis_output += f'Coupling value: {coupling} ({coupling/len(class_dict.values())} avg.)\\n'\n",
    "analysis_output += f'Cohesion value: {cohesion}\\n'\n",
    "\n",
    "for k in range(len(class_dict)):\n",
    "    analysis_output += f'\\nEntities in Microservice {str(k+1)}:\\n'\n",
    "    for i in G.nodes():\n",
    "        if G.nodes[i]['type'] == 'Entity' and G.nodes[i]['name'] in class_dict[k]:\n",
    "            analysis_output += f'- {G.nodes[i][\"name\"]}\\n'\n",
    "\n",
    "#for k in range(len(class_dict)):\n",
    "    #analysis_output += f'\\n\\nMethods in Microservice {str(k)}:\\n'\n",
    "    #for i in G.nodes():\n",
    "        #if G.nodes[i]['type'] == 'Method' and G.nodes[i]['class_name'] in class_dict[k]:\n",
    "            #analysis_output += f'- {G.nodes[i][\"name\"]} ({G.nodes[i][\"class_name\"]})\\n'\n",
    "\n",
    "analysis_output += f'\\n\\n# of method calls crossing microservices: {len(mcalls)}'\n",
    "analysis_output += f'\\n# of entity references crossing microservices: {len(references)}'\n",
    "analysis_output += f'\\n# of entity usages crossing microservices: {len(uses)}'\n",
    "analysis_output += f'\\n# of methods persisting entities of other microservices: {len(persist)}'\n",
    "\n",
    "print(analysis_output)"
   ]
  },
  {
   "cell_type": "code",
   "execution_count": null,
   "id": "6e8cfeef-174f-4742-ac5f-4862676bad36",
   "metadata": {},
   "outputs": [],
   "source": [
    "DrawSol(G, class_dict, graph_image_out)\n",
    "\n",
    "display(Image(filename = graph_image_out))"
   ]
  },
  {
   "cell_type": "code",
   "execution_count": null,
   "id": "9c6582df-9fb6-42ad-ad39-3d2aed6501c6",
   "metadata": {},
   "outputs": [],
   "source": []
  }
 ],
 "metadata": {
  "kernelspec": {
   "display_name": "Python 3 (ipykernel)",
   "language": "python",
   "name": "python3"
  },
  "language_info": {
   "codemirror_mode": {
    "name": "ipython",
    "version": 3
   },
   "file_extension": ".py",
   "mimetype": "text/x-python",
   "name": "python",
   "nbconvert_exporter": "python",
   "pygments_lexer": "ipython3",
   "version": "3.7.7"
  }
 },
 "nbformat": 4,
 "nbformat_minor": 5
}
